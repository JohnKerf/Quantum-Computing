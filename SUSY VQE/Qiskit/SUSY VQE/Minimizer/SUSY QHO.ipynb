{
 "cells": [
  {
   "cell_type": "code",
   "execution_count": 1,
   "metadata": {},
   "outputs": [],
   "source": [
    "# General imports\n",
    "import numpy as np\n",
    "import re\n",
    "import sympy as sp\n",
    "import json\n",
    "\n",
    "# Pre-defined ansatz circuit and operator class for Hamiltonian\n",
    "from qiskit.circuit.library import EfficientSU2, TwoLocal, RealAmplitudes\n",
    "from qiskit.quantum_info import SparsePauliOp\n",
    "\n",
    "# SciPy minimizer routine\n",
    "from scipy.optimize import minimize, differential_evolution, basinhopping\n",
    "\n",
    "# Plotting functions\n",
    "import matplotlib.pyplot as plt\n",
    "\n",
    "# runtime imports\n",
    "from qiskit_ibm_runtime import QiskitRuntimeService, Session\n",
    "from qiskit_ibm_runtime import EstimatorV2 as Estimator\n",
    "from qiskit_aer import AerSimulator\n",
    "from qiskit.transpiler.preset_passmanagers import generate_preset_pass_manager\n",
    "\n",
    "aer_sim = AerSimulator(method='statevector')\n",
    "pm = generate_preset_pass_manager(backend=aer_sim, optimization_level=3)"
   ]
  },
  {
   "cell_type": "code",
   "execution_count": 2,
   "metadata": {},
   "outputs": [],
   "source": [
    "def create_matrix(cut_off, type):\n",
    "    # Initialize a zero matrix of the specified size\n",
    "    matrix = np.zeros((cut_off, cut_off), dtype=np.complex128)\n",
    "    \n",
    "    # Fill the off-diagonal values with square roots of integers\n",
    "    for i in range(cut_off):\n",
    "        if i > 0:  # Fill left off-diagonal\n",
    "            if type == 'q':\n",
    "                matrix[i][i - 1] = (1/np.sqrt(2)) * np.sqrt(i)  # sqrt(i) for left off-diagonal\n",
    "            else:\n",
    "                matrix[i][i - 1] = (1j/np.sqrt(2)) * np.sqrt(i)\n",
    "\n",
    "        if i < cut_off - 1:  # Fill right off-diagonal\n",
    "            if type == 'q':\n",
    "                matrix[i][i + 1] = (1/np.sqrt(2)) * np.sqrt(i + 1)  # sqrt(i + 1) for right off-diagonal\n",
    "            else:\n",
    "                matrix[i][i + 1] = (-1j/np.sqrt(2)) * np.sqrt(i + 1)\n",
    "\n",
    "    return matrix"
   ]
  },
  {
   "cell_type": "code",
   "execution_count": 3,
   "metadata": {},
   "outputs": [],
   "source": [
    "# Function to calculate the Hamiltonian\n",
    "def calculate_Hamiltonian(cut_off):\n",
    "    # Generate the position (q) and momentum (p) matrices\n",
    "    q = create_matrix(cut_off, 'q')  # q matrix\n",
    "    p = create_matrix(cut_off, 'p')  # p matrix\n",
    "    \n",
    "    #fermionic identity\n",
    "    I_f = np.eye(2)\n",
    "\n",
    "    #bosonic identity\n",
    "    I_b = np.eye(cut_off)\n",
    "\n",
    "       \n",
    "    # Superpotential derivatives\n",
    "    W_prime = q  # W'(q) = q\n",
    "    W_double_prime = np.eye(cut_off)\n",
    "\n",
    "    # Kinetic term: p^2\n",
    "    p2 = np.dot(p, p)\n",
    "\n",
    "    # Commutator term [b^†, b] = -Z\n",
    "    Z = np.array([[1, 0], [0, -1]])  # Pauli Z matrix for fermion number\n",
    "    commutator_term = np.kron(Z, W_double_prime)\n",
    "\n",
    "    # Construct the block-diagonal kinetic term (bosonic and fermionic parts)\n",
    "    # Bosonic part is the same for both, hence we use kron with the identity matrix\n",
    "    kinetic_term = np.kron(I_f, p2)\n",
    "\n",
    "    # Potential term (W' contribution)\n",
    "    potential_term = np.kron(I_f, np.dot(W_prime, W_prime))\n",
    "\n",
    "    # Construct the full Hamiltonian\n",
    "    H_SQM = 0.5 * (kinetic_term + potential_term + commutator_term)\n",
    "    H_SQM[np.abs(H_SQM) < 10e-10] = 0\n",
    "    \n",
    "    return H_SQM"
   ]
  },
  {
   "cell_type": "code",
   "execution_count": 4,
   "metadata": {},
   "outputs": [],
   "source": [
    "cut_off = 2\n",
    "H = calculate_Hamiltonian(cut_off)"
   ]
  },
  {
   "cell_type": "code",
   "execution_count": 5,
   "metadata": {},
   "outputs": [],
   "source": [
    "eigenvalues = np.sort(np.linalg.eig(H)[0])"
   ]
  },
  {
   "cell_type": "code",
   "execution_count": 6,
   "metadata": {},
   "outputs": [],
   "source": [
    "hamiltonian = SparsePauliOp.from_operator(H)\n",
    "ansatz = RealAmplitudes(num_qubits=hamiltonian.num_qubits, reps=1)\n",
    "ansatz_isa = pm.run(ansatz)\n",
    "hamiltonian_isa = hamiltonian.apply_layout(layout=ansatz_isa.layout)"
   ]
  },
  {
   "cell_type": "code",
   "execution_count": 7,
   "metadata": {},
   "outputs": [],
   "source": [
    "cost_history_dict = {\n",
    "    \"prev_vector\": None,\n",
    "    \"iters\": 0,\n",
    "    \"cost_history\": [],\n",
    "}\n",
    "\n",
    "def cost_func(params, ansatz, hamiltonian, estimator):\n",
    "    \"\"\"Return estimate of energy from estimator\n",
    "\n",
    "    Parameters:\n",
    "        params (ndarray): Array of ansatz parameters\n",
    "        ansatz (QuantumCircuit): Parameterized ansatz circuit\n",
    "        hamiltonian (SparsePauliOp): Operator representation of Hamiltonian\n",
    "        estimator (EstimatorV2): Estimator primitive instance\n",
    "        cost_history_dict: Dictionary for storing intermediate results\n",
    "\n",
    "    Returns:\n",
    "        float: Energy estimate\n",
    "    \"\"\"\n",
    "    pub = (ansatz, [hamiltonian], [params])\n",
    "    #result = estimator.run(pubs=[pub], precision=0.001).result()\n",
    "    result = estimator.run(pubs=[pub]).result()\n",
    "    energy = result[0].data.evs[0]\n",
    "\n",
    "    cost_history_dict[\"iters\"] += 1\n",
    "    cost_history_dict[\"prev_vector\"] = params\n",
    "    cost_history_dict[\"cost_history\"].append(energy)\n",
    "\n",
    "    return energy"
   ]
  },
  {
   "cell_type": "code",
   "execution_count": 8,
   "metadata": {},
   "outputs": [],
   "source": [
    "num_params = ansatz.num_parameters\n",
    "x0 = 2 * np.pi * np.random.random(num_params)"
   ]
  },
  {
   "cell_type": "code",
   "execution_count": 9,
   "metadata": {},
   "outputs": [
    {
     "name": "stdout",
     "output_type": "stream",
     "text": [
      "Run: 0\n",
      "Run: 10\n",
      "Run: 20\n",
      "Run: 30\n",
      "Run: 40\n",
      "Run: 50\n",
      "Run: 60\n",
      "Run: 70\n",
      "Run: 80\n",
      "Run: 90\n"
     ]
    }
   ],
   "source": [
    "energies = []\n",
    "x_values = []\n",
    "\n",
    "backend=aer_sim\n",
    "estimator = Estimator(mode=backend)\n",
    "\n",
    "for i in range(100):\n",
    "\n",
    "    if i % 10 == 0:\n",
    "        print(f\"Run: {i}\")\n",
    "\n",
    "    res = minimize(\n",
    "        cost_func,\n",
    "        x0,\n",
    "        method= \"COBYLA\",\n",
    "        args= (ansatz_isa, hamiltonian_isa, estimator),\n",
    "        options= {'maxiter':10000}\n",
    "        #tol = 10e-10\n",
    "    )\n",
    "    energies.append(res.fun)\n",
    "    x_values.append(res.x)\n",
    "\n",
    "    #closest_e = min(enumerate(energies), key=lambda x: abs(x[1] - 0))[0]\n",
    "    #closest_x = x_values[closest_e]\n",
    "    #x0 = closest_x"
   ]
  },
  {
   "cell_type": "code",
   "execution_count": 11,
   "metadata": {},
   "outputs": [
    {
     "data": {
      "image/png": "[encoded data removed]",
      "text/plain": [
       "<Figure size 1000x600 with 1 Axes>"
      ]
     },
     "metadata": {},
     "output_type": "display_data"
    }
   ],
   "source": [
    "# Creating the plot\n",
    "plt.figure(figsize=(10, 6))\n",
    "\n",
    "# Calculating statistics\n",
    "mean_value = np.mean(energies)\n",
    "median_value = np.median(energies)\n",
    "min_value = np.min(energies)\n",
    "\n",
    "x = range(len(energies)) \n",
    "plt.plot(x, energies, marker='o', label='Energy Results')\n",
    "\n",
    "# Plot mean, median, and min lines\n",
    "plt.axhline(y=mean_value, color='r', linestyle='--', label=f'Mean = {mean_value:.4f}')\n",
    "plt.axhline(y=median_value, color='g', linestyle='-', label=f'Median = {median_value:.4f}')\n",
    "plt.axhline(y=min_value, color='b', linestyle='-.', label=f'Min = {min_value:.4f}')\n",
    "\n",
    "plt.ylim(min_value - 0.01, max(energies) + 0.01)\n",
    "plt.xlabel('Run')\n",
    "plt.ylabel('Ground State Energy')\n",
    "plt.title(f\"Cutoff = {cut_off}\")\n",
    "plt.legend()\n",
    "plt.grid(True)\n",
    "plt.show()"
   ]
  },
  {
   "cell_type": "code",
   "execution_count": 134,
   "metadata": {},
   "outputs": [],
   "source": [
    "run = {\n",
    "    'potential': 'QHO',\n",
    "    'cutoff': cut_off,\n",
    "    'exact_eigenvalues': [round(x.real,10).tolist() for x in eigenvalues],\n",
    "    'ansatz': 'RealAmplitudes',\n",
    "    'num_VQE': 100,\n",
    "    'backend': 'aer_simulator',\n",
    "    'estimator_shots': 10000,\n",
    "    'min_function': {'name': 'minimizer',\n",
    "                     'method': \"COBYLA\",\n",
    "                     'maxiter':10000\n",
    "                    },\n",
    "    'results': energies,\n",
    "    'x_values': [x.tolist() for x in x_values]\n",
    "}"
   ]
  },
  {
   "cell_type": "code",
   "execution_count": 135,
   "metadata": {},
   "outputs": [],
   "source": [
    "path = r\"C:\\Users\\Johnk\\OneDrive\\Desktop\\PhD 2024\\Quantum Computing Code\\Quantum-Computing\\Qiskit\\SUSY VQE\\Minimizer\\Files\\QHO\\QHO_{}.json\".format(cut_off)"
   ]
  },
  {
   "cell_type": "code",
   "execution_count": 136,
   "metadata": {},
   "outputs": [],
   "source": [
    "# Save the variable to a JSON file\n",
    "with open(path, 'w') as json_file:\n",
    "    json.dump(run, json_file, indent=4)"
   ]
  },
  {
   "cell_type": "code",
   "execution_count": 137,
   "metadata": {},
   "outputs": [],
   "source": [
    "n_values = [2, 4, 8, 16, 32]\n",
    "data_dict = {}\n",
    "\n",
    "base_path = r\"C:\\Users\\Johnk\\OneDrive\\Desktop\\PhD 2024\\Quantum Computing Code\\Quantum-Computing\\Qiskit\\SUSY VQE\\Minimizer\\Files\\QHO\\QHO_{}.json\"\n",
    "\n",
    "for n in n_values:\n",
    "    file_path = base_path.format(n)\n",
    "    with open(file_path, 'r') as json_file:\n",
    "        data_dict[f'c{n}'] = json.load(json_file)"
   ]
  },
  {
   "cell_type": "code",
   "execution_count": null,
   "metadata": {},
   "outputs": [],
   "source": [
    "fig, axes = plt.subplots(nrows=3, ncols=2, figsize=(30, 15))\n",
    "axes = axes.flatten()\n",
    "\n",
    "for idx, (cutoff, cutoff_data) in enumerate(data_dict.items()):\n",
    "    \n",
    "    results = cutoff_data['results']\n",
    "    x_values = range(len(results))\n",
    "\n",
    "    # Calculating statistics\n",
    "    mean_value = np.mean(results)\n",
    "    median_value = np.median(results)\n",
    "    min_value = np.min(results)\n",
    "\n",
    "    # Creating the plot\n",
    "    ax = axes[idx]\n",
    "    ax.plot(x_values, results, marker='o', label='Energy Results')\n",
    "\n",
    "    # Plot mean, median, and min lines\n",
    "    ax.axhline(y=mean_value, color='r', linestyle='--', label=f'Mean = {mean_value:.4f}')\n",
    "    ax.axhline(y=median_value, color='g', linestyle='-', label=f'Median = {median_value:.4f}')\n",
    "    ax.axhline(y=min_value, color='b', linestyle='-.', label=f'Min = {min_value:.4f}')\n",
    "\n",
    "    ax.set_ylim(min_value - 0.01, max(results) + 0.01)\n",
    "    ax.set_xlabel('Run')\n",
    "    ax.set_ylabel('Ground State Energy')\n",
    "    ax.set_title(f\"Cutoff = {cutoff_data['cutoff']}\")\n",
    "    ax.legend()\n",
    "    ax.grid(True)\n",
    "\n",
    "fig.delaxes(axes[5])\n",
    "plt.tight_layout()\n",
    "plt.savefig(r\"C:\\Users\\Johnk\\OneDrive\\Desktop\\PhD 2024\\Quantum Computing Code\\Quantum-Computing\\Qiskit\\SUSY VQE\\Minimizer\\Files\\QHO\\results.png\")\n",
    "plt.show()\n"
   ]
  },
  {
   "cell_type": "code",
   "execution_count": 16,
   "metadata": {},
   "outputs": [
    {
     "data": {
      "text/plain": [
       "3.0"
      ]
     },
     "execution_count": 16,
     "metadata": {},
     "output_type": "execute_result"
    }
   ],
   "source": [
    "a = 5\n",
    "np.ceil(5/2)"
   ]
  },
  {
   "cell_type": "code",
   "execution_count": null,
   "metadata": {},
   "outputs": [],
   "source": []
  }
 ],
 "metadata": {
  "kernelspec": {
   "display_name": ".venv",
   "language": "python",
   "name": "python3"
  },
  "language_info": {
   "codemirror_mode": {
    "name": "ipython",
    "version": 3
   },
   "file_extension": ".py",
   "mimetype": "text/x-python",
   "name": "python",
   "nbconvert_exporter": "python",
   "pygments_lexer": "ipython3",
   "version": "3.10.4"
  }
 },
 "nbformat": 4,
 "nbformat_minor": 2
}
