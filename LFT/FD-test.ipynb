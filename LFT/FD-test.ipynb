{
 "cells": [
  {
   "cell_type": "code",
   "execution_count": 1,
   "metadata": {},
   "outputs": [],
   "source": [
    "import numpy as np"
   ]
  },
  {
   "cell_type": "code",
   "execution_count": 55,
   "metadata": {},
   "outputs": [],
   "source": [
    "N = 16\n",
    "m=1\n",
    "potential = 'QHO'"
   ]
  },
  {
   "cell_type": "code",
   "execution_count": 56,
   "metadata": {},
   "outputs": [],
   "source": [
    "q_coeff = 0.5*np.sqrt(2*np.pi/(N*m))\n",
    "q = q_coeff * np.diag(np.linspace(-N + 1, N - 1, N))"
   ]
  },
  {
   "cell_type": "code",
   "execution_count": 57,
   "metadata": {},
   "outputs": [
    {
     "data": {
      "text/plain": [
       "array([[-4.69992801,  0.        ,  0.        ,  0.        ,  0.        ,\n",
       "         0.        ,  0.        ,  0.        ,  0.        ,  0.        ,\n",
       "         0.        ,  0.        ,  0.        ,  0.        ,  0.        ,\n",
       "         0.        ],\n",
       "       [ 0.        , -4.07327095,  0.        ,  0.        ,  0.        ,\n",
       "         0.        ,  0.        ,  0.        ,  0.        ,  0.        ,\n",
       "         0.        ,  0.        ,  0.        ,  0.        ,  0.        ,\n",
       "         0.        ],\n",
       "       [ 0.        ,  0.        , -3.44661388,  0.        ,  0.        ,\n",
       "         0.        ,  0.        ,  0.        ,  0.        ,  0.        ,\n",
       "         0.        ,  0.        ,  0.        ,  0.        ,  0.        ,\n",
       "         0.        ],\n",
       "       [ 0.        ,  0.        ,  0.        , -2.81995681,  0.        ,\n",
       "         0.        ,  0.        ,  0.        ,  0.        ,  0.        ,\n",
       "         0.        ,  0.        ,  0.        ,  0.        ,  0.        ,\n",
       "         0.        ],\n",
       "       [ 0.        ,  0.        ,  0.        ,  0.        , -2.19329974,\n",
       "         0.        ,  0.        ,  0.        ,  0.        ,  0.        ,\n",
       "         0.        ,  0.        ,  0.        ,  0.        ,  0.        ,\n",
       "         0.        ],\n",
       "       [ 0.        ,  0.        ,  0.        ,  0.        ,  0.        ,\n",
       "        -1.56664267,  0.        ,  0.        ,  0.        ,  0.        ,\n",
       "         0.        ,  0.        ,  0.        ,  0.        ,  0.        ,\n",
       "         0.        ],\n",
       "       [ 0.        ,  0.        ,  0.        ,  0.        ,  0.        ,\n",
       "         0.        , -0.9399856 ,  0.        ,  0.        ,  0.        ,\n",
       "         0.        ,  0.        ,  0.        ,  0.        ,  0.        ,\n",
       "         0.        ],\n",
       "       [ 0.        ,  0.        ,  0.        ,  0.        ,  0.        ,\n",
       "         0.        ,  0.        , -0.31332853,  0.        ,  0.        ,\n",
       "         0.        ,  0.        ,  0.        ,  0.        ,  0.        ,\n",
       "         0.        ],\n",
       "       [ 0.        ,  0.        ,  0.        ,  0.        ,  0.        ,\n",
       "         0.        ,  0.        ,  0.        ,  0.31332853,  0.        ,\n",
       "         0.        ,  0.        ,  0.        ,  0.        ,  0.        ,\n",
       "         0.        ],\n",
       "       [ 0.        ,  0.        ,  0.        ,  0.        ,  0.        ,\n",
       "         0.        ,  0.        ,  0.        ,  0.        ,  0.9399856 ,\n",
       "         0.        ,  0.        ,  0.        ,  0.        ,  0.        ,\n",
       "         0.        ],\n",
       "       [ 0.        ,  0.        ,  0.        ,  0.        ,  0.        ,\n",
       "         0.        ,  0.        ,  0.        ,  0.        ,  0.        ,\n",
       "         1.56664267,  0.        ,  0.        ,  0.        ,  0.        ,\n",
       "         0.        ],\n",
       "       [ 0.        ,  0.        ,  0.        ,  0.        ,  0.        ,\n",
       "         0.        ,  0.        ,  0.        ,  0.        ,  0.        ,\n",
       "         0.        ,  2.19329974,  0.        ,  0.        ,  0.        ,\n",
       "         0.        ],\n",
       "       [ 0.        ,  0.        ,  0.        ,  0.        ,  0.        ,\n",
       "         0.        ,  0.        ,  0.        ,  0.        ,  0.        ,\n",
       "         0.        ,  0.        ,  2.81995681,  0.        ,  0.        ,\n",
       "         0.        ],\n",
       "       [ 0.        ,  0.        ,  0.        ,  0.        ,  0.        ,\n",
       "         0.        ,  0.        ,  0.        ,  0.        ,  0.        ,\n",
       "         0.        ,  0.        ,  0.        ,  3.44661388,  0.        ,\n",
       "         0.        ],\n",
       "       [ 0.        ,  0.        ,  0.        ,  0.        ,  0.        ,\n",
       "         0.        ,  0.        ,  0.        ,  0.        ,  0.        ,\n",
       "         0.        ,  0.        ,  0.        ,  0.        ,  4.07327095,\n",
       "         0.        ],\n",
       "       [ 0.        ,  0.        ,  0.        ,  0.        ,  0.        ,\n",
       "         0.        ,  0.        ,  0.        ,  0.        ,  0.        ,\n",
       "         0.        ,  0.        ,  0.        ,  0.        ,  0.        ,\n",
       "         4.69992801]])"
      ]
     },
     "execution_count": 57,
     "metadata": {},
     "output_type": "execute_result"
    }
   ],
   "source": [
    "q"
   ]
  },
  {
   "cell_type": "code",
   "execution_count": null,
   "metadata": {},
   "outputs": [],
   "source": [
    "dx = (2 * np.pi) / N  # Grid spacing\n",
    "\n",
    "# Coefficient for the second derivative matrix\n",
    "coeff = 1 / dx**2\n",
    "\n",
    "# Construct the tridiagonal p^2 matrix\n",
    "p2_matrix = np.zeros((N, N))\n",
    "for i in range(N):\n",
    "    p2_matrix[i, i] = 2.0 *coeff  # Diagonal elements\n",
    "    if i > 0:\n",
    "        p2_matrix[i, i - 1] = -1.0*coeff  # Lower diagonal\n",
    "    if i < N - 1:\n",
    "        p2_matrix[i, i + 1] = -1.0*coeff  # Upper diagonal\n",
    "\n",
    "# Apply periodic boundary conditions\n",
    "#p2_matrix[0, N - 1] = -1.0*coeff  # Top-right corner\n",
    "#p2_matrix[N - 1, 0] = -1.0*coeff  # Bottom-left corner"
   ]
  },
  {
   "cell_type": "code",
   "execution_count": 64,
   "metadata": {},
   "outputs": [],
   "source": [
    "p2 = p2_matrix"
   ]
  },
  {
   "cell_type": "code",
   "execution_count": 65,
   "metadata": {},
   "outputs": [],
   "source": [
    "#b_cutoff = cutoff\n",
    "\n",
    "# Calculate q^2 and q^3\n",
    "q2 = np.matmul(q, q)\n",
    "q3 = np.matmul(q2, q)\n",
    "\n",
    "# Bosonic and fermionic identities\n",
    "#I_b = np.eye(b_cutoff)\n",
    "I_f = np.eye(2)\n",
    "I_b = np.eye(N)\n",
    "\n",
    "# Superpotential derivatives\n",
    "if potential == 'QHO':\n",
    "    W_prime = q  # W'(q) = q\n",
    "    W_double_prime = I_b  # W''(q) = 1\n",
    "\n",
    "elif potential == 'AHO':\n",
    "    W_prime = q + q3  # W'(q) = q + q^3\n",
    "    W_double_prime = I_b + 3 * q2  # W''(q) = 1 + 3q^2\n",
    "\n",
    "elif potential == 'DW':\n",
    "    W_prime = q + q2 + I_b  # W'(q) = q + q^2 + 1\n",
    "    W_double_prime = I_b + 2 * q  # W''(q) = 1 + 2q\n",
    "\n",
    "# Commutator term [b^†, b] = -Z\n",
    "Z = np.array([[1, 0], [0, -1]])  # Pauli Z matrix for fermion number\n",
    "commutator_term = np.kron(Z, W_double_prime)\n",
    "\n",
    "# Kinetic term (bosonic and fermionic parts)\n",
    "kinetic_term = np.kron(I_f, p2)\n",
    "\n",
    "# Potential term (W' contribution)\n",
    "potential_term = np.kron(I_f, np.matmul(W_prime, W_prime))\n",
    "\n",
    "# Construct the full Hamiltonian\n",
    "H_SQM = 0.5 * (kinetic_term + potential_term + commutator_term)\n",
    "H_SQM[np.abs(H_SQM) < 1e-12] = 0  # Eliminate small numerical artifacts\n"
   ]
  },
  {
   "cell_type": "code",
   "execution_count": 66,
   "metadata": {},
   "outputs": [
    {
     "data": {
      "text/plain": [
       "array([ 0.28541217,  1.28541217,  1.83049386,  2.83049386,  3.32194478,\n",
       "        4.32194478,  4.76059935,  5.76059935,  6.12059059,  7.12059059,\n",
       "        7.47509694,  8.47509694,  8.57562615,  9.57562615,  9.97852919,\n",
       "       10.61275202, 10.97852919, 11.61275202, 11.98257033, 12.50989159,\n",
       "       12.98257033, 13.47345816, 13.50989159, 14.47345816, 14.81884965,\n",
       "       15.81884965, 16.33973574, 17.33973574, 18.52624528, 19.52624528,\n",
       "       21.89994016, 22.89994016])"
      ]
     },
     "execution_count": 66,
     "metadata": {},
     "output_type": "execute_result"
    }
   ],
   "source": [
    "np.sort(np.linalg.eig(H_SQM)[0])"
   ]
  },
  {
   "cell_type": "code",
   "execution_count": 67,
   "metadata": {},
   "outputs": [
    {
     "data": {
      "text/plain": [
       "0.2854121687152096"
      ]
     },
     "execution_count": 67,
     "metadata": {},
     "output_type": "execute_result"
    }
   ],
   "source": [
    "min(np.sort(np.linalg.eig(H_SQM)[0]))"
   ]
  },
  {
   "cell_type": "code",
   "execution_count": null,
   "metadata": {},
   "outputs": [],
   "source": []
  }
 ],
 "metadata": {
  "kernelspec": {
   "display_name": ".venv",
   "language": "python",
   "name": "python3"
  },
  "language_info": {
   "codemirror_mode": {
    "name": "ipython",
    "version": 3
   },
   "file_extension": ".py",
   "mimetype": "text/x-python",
   "name": "python",
   "nbconvert_exporter": "python",
   "pygments_lexer": "ipython3",
   "version": "3.10.4"
  }
 },
 "nbformat": 4,
 "nbformat_minor": 2
}
