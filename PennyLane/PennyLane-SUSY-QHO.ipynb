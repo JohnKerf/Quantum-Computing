{
 "cells": [
  {
   "cell_type": "code",
   "execution_count": 16,
   "metadata": {},
   "outputs": [],
   "source": [
    "# PennyLane imports\n",
    "import pennylane as qml\n",
    "from pennylane import numpy as pnp\n",
    "from pennylane.optimize import GradientDescentOptimizer, AdamOptimizer\n",
    "from pennylane.templates import BasicEntanglerLayers, StronglyEntanglingLayers\n",
    "\n",
    "# General imports\n",
    "import numpy as np\n",
    "\n",
    "from qiskit.quantum_info import SparsePauliOp"
   ]
  },
  {
   "cell_type": "code",
   "execution_count": 2,
   "metadata": {},
   "outputs": [],
   "source": [
    "def create_matrix(cut_off, type):\n",
    "    # Initialize a zero matrix of the specified size\n",
    "    matrix = np.zeros((cut_off, cut_off), dtype=np.complex128)\n",
    "    \n",
    "    # Fill the off-diagonal values with square roots of integers\n",
    "    for i in range(cut_off):\n",
    "        if i > 0:  # Fill left off-diagonal\n",
    "            if type == 'q':\n",
    "                matrix[i][i - 1] = (1/np.sqrt(2)) * np.sqrt(i)  # sqrt(i) for left off-diagonal\n",
    "            else:\n",
    "                matrix[i][i - 1] = (1j/np.sqrt(2)) * np.sqrt(i)\n",
    "\n",
    "        if i < cut_off - 1:  # Fill right off-diagonal\n",
    "            if type == 'q':\n",
    "                matrix[i][i + 1] = (1/np.sqrt(2)) * np.sqrt(i + 1)  # sqrt(i + 1) for right off-diagonal\n",
    "            else:\n",
    "                matrix[i][i + 1] = (-1j/np.sqrt(2)) * np.sqrt(i + 1)\n",
    "\n",
    "    return matrix\n",
    "\n",
    "\n",
    "# Function to calculate the Hamiltonian\n",
    "def calculate_Hamiltonian(cut_off, potential):\n",
    "    # Generate the position (q) and momentum (p) matrices\n",
    "    q = create_matrix(cut_off, 'q')  # q matrix\n",
    "    p = create_matrix(cut_off, 'p')  # p matrix\n",
    "\n",
    "    # Calculate q^2 and q^3 for potential terms\n",
    "    q2 = np.matmul(q, q)\n",
    "    q3 = np.matmul(q2, q)\n",
    "\n",
    "    #fermionic identity\n",
    "    I_f = np.eye(2)\n",
    "\n",
    "    #bosonic identity\n",
    "    I_b = np.eye(cut_off)\n",
    "\n",
    "    # Superpotential derivatives\n",
    "    if potential == 'QHO':\n",
    "        W_prime = q  # W'(q) = q\n",
    "        W_double_prime = I_b #W''(q) = 1\n",
    "\n",
    "    elif potential == 'AHO':\n",
    "        W_prime = q + q3  # W'(q) = q + q^3\n",
    "        W_double_prime = I_b + 3 * q2  # W''(q) = 1 + 3q^2\n",
    "\n",
    "    elif potential == 'DW':\n",
    "        W_prime = q + q2 + I_b  # W'(q) = q + q^2 + 1\n",
    "        W_double_prime = I_b + 2 * q  # W''(q) = 1 + 2q\n",
    "\n",
    "    else:\n",
    "        print(\"Not a valid potential\")\n",
    "        raise\n",
    "\n",
    "    # Kinetic term: p^2\n",
    "    p2 = np.matmul(p, p)\n",
    "\n",
    "    # Commutator term [b^†, b] = -Z\n",
    "    Z = np.array([[1, 0], [0, -1]])  # Pauli Z matrix for fermion number\n",
    "    commutator_term = np.kron(Z, W_double_prime)\n",
    "\n",
    "    # Construct the block-diagonal kinetic term (bosonic and fermionic parts)\n",
    "    # Bosonic part is the same for both, hence we use kron with the identity matrix\n",
    "    kinetic_term = np.kron(I_f, p2)\n",
    "\n",
    "    # Potential term (W' contribution)\n",
    "    potential_term = np.kron(I_f, np.matmul(W_prime, W_prime))\n",
    "\n",
    "    # Construct the full Hamiltonian\n",
    "    H_SQM = 0.5 * (kinetic_term + potential_term + commutator_term)\n",
    "    H_SQM[np.abs(H_SQM) < 10e-12] = 0\n",
    "    \n",
    "    return H_SQM"
   ]
  },
  {
   "cell_type": "code",
   "execution_count": 363,
   "metadata": {},
   "outputs": [],
   "source": [
    "# Example usage for a 4x4 matrix\n",
    "cut_off = 16\n",
    "potential = 'QHO'\n",
    "H = calculate_Hamiltonian(cut_off, potential)\n",
    "#Hamiltonian = qml.pauli_decompose(H)\n",
    "hamiltonian = SparsePauliOp.from_operator(H)\n",
    "\n",
    "num_qubits = hamiltonian.num_qubits"
   ]
  },
  {
   "cell_type": "code",
   "execution_count": 364,
   "metadata": {},
   "outputs": [
    {
     "data": {
      "text/plain": [
       "5"
      ]
     },
     "execution_count": 364,
     "metadata": {},
     "output_type": "execute_result"
    }
   ],
   "source": [
    "num_qubits"
   ]
  },
  {
   "cell_type": "code",
   "execution_count": 324,
   "metadata": {},
   "outputs": [],
   "source": [
    "# Set up BasicEntanglerLayers ansatz\n",
    "num_layers = 2\n",
    "params_shape = BasicEntanglerLayers.shape(n_layers=num_layers, n_wires=num_qubits)\n",
    "params = 1.0*np.pi * pnp.random.random(size=params_shape)\n",
    "params = (2.0 * pnp.random.random(size=params_shape) - 1.0) * pnp.pi/2\n",
    "#params = pnp.random.uniform(-0.5, 0.5, size=params_shape)"
   ]
  },
  {
   "cell_type": "code",
   "execution_count": 365,
   "metadata": {},
   "outputs": [],
   "source": [
    "def ry_cnot_ansatz(params):\n",
    "    for i in range(num_qubits):\n",
    "        qml.RY(params[i], wires=i)  # Apply RY rotation on each qubit\n",
    "\n",
    "    #CNOT between qubit 0 and the last qubit\n",
    "    qml.CNOT(wires=[0, num_qubits - 1])"
   ]
  },
  {
   "cell_type": "code",
   "execution_count": 366,
   "metadata": {},
   "outputs": [
    {
     "data": {
      "text/plain": [
       "tensor([ 0.32031806, -1.24856189,  0.19352759,  1.95559378, -0.83342209], requires_grad=True)"
      ]
     },
     "execution_count": 366,
     "metadata": {},
     "output_type": "execute_result"
    }
   ],
   "source": [
    "params = pnp.random.randn(num_qubits, requires_grad=True)\n",
    "params"
   ]
  },
  {
   "cell_type": "code",
   "execution_count": 367,
   "metadata": {},
   "outputs": [],
   "source": [
    "# Device\n",
    "dev = qml.device('default.qubit', wires=num_qubits)\n",
    "\n",
    "# Define the cost function with qml.Hermitian\n",
    "@qml.qnode(dev)\n",
    "def cost_function(params):\n",
    "    #BasicEntanglerLayers(params, wires=range(num_qubits))\n",
    "    ry_cnot_ansatz(params)\n",
    "    return qml.expval(qml.Hermitian(H, wires=range(num_qubits)))"
   ]
  },
  {
   "cell_type": "code",
   "execution_count": 368,
   "metadata": {},
   "outputs": [],
   "source": [
    "# Initialize the optimizer and parameters\n",
    "#optimizer = GradientDescentOptimizer(stepsize=0.25)\n",
    "optimizer = AdamOptimizer(stepsize=0.25)"
   ]
  },
  {
   "cell_type": "code",
   "execution_count": 369,
   "metadata": {},
   "outputs": [
    {
     "name": "stdout",
     "output_type": "stream",
     "text": [
      "Iteration 0: Energy = 5.298279940949306\n",
      "Iteration 10: Energy = 1.4310244071996836\n",
      "Iteration 20: Energy = 0.11880092787249848\n",
      "Iteration 30: Energy = 0.1263020988613654\n",
      "Iteration 40: Energy = 0.03914422174693395\n",
      "Iteration 50: Energy = 0.003851016284949776\n",
      "Iteration 60: Energy = 0.0008330423051915726\n",
      "Iteration 70: Energy = 0.0013946769549856603\n",
      "Iteration 80: Energy = 0.0008943639629241138\n",
      "Iteration 90: Energy = 0.00042475230432344527\n",
      "Iteration 100: Energy = 0.00014881389286677658\n",
      "Iteration 110: Energy = 3.378579202975488e-05\n",
      "Iteration 120: Energy = 1.6064219092485006e-05\n",
      "Iteration 130: Energy = 7.802738175893318e-06\n",
      "Iteration 140: Energy = 2.0504375440100836e-06\n",
      "Iteration 150: Energy = 8.640065279774611e-07\n",
      "Iteration 160: Energy = 4.5493850297482824e-08\n",
      "Iteration 170: Energy = 7.565959603193565e-08\n",
      "Iteration 180: Energy = 3.7071629913717674e-08\n",
      "Iteration 190: Energy = 9.57000160712838e-09\n",
      "Iteration 200: Energy = 2.2129854566707344e-09\n",
      "Converged at iteration 201\n",
      "Final optimized energy: 7.6320324000005e-10\n",
      "Optimized parameters: [ 3.14158820e+00 -1.37178105e-05 -6.07975760e-06  2.36774125e-06\n",
      "  3.14166436e+00]\n"
     ]
    }
   ],
   "source": [
    "# Run the VQE optimization loop\n",
    "max_iterations = 2500\n",
    "convergence_tol = 1e-9\n",
    "for i in range(max_iterations):\n",
    "    params, energy = optimizer.step_and_cost(cost_function, params)\n",
    "    \n",
    "    # Print the energy every few steps\n",
    "    if i % 10 == 0:\n",
    "        print(f\"Iteration {i}: Energy = {energy}\")\n",
    "\n",
    "    # Check for convergence\n",
    "    if np.abs(energy) < convergence_tol:\n",
    "        print(f\"Converged at iteration {i}\")\n",
    "        break\n",
    "\n",
    "print(\"Final optimized energy:\", energy)\n",
    "print(\"Optimized parameters:\", params)"
   ]
  },
  {
   "cell_type": "code",
   "execution_count": null,
   "metadata": {},
   "outputs": [],
   "source": []
  }
 ],
 "metadata": {
  "kernelspec": {
   "display_name": ".venv",
   "language": "python",
   "name": "python3"
  },
  "language_info": {
   "codemirror_mode": {
    "name": "ipython",
    "version": 3
   },
   "file_extension": ".py",
   "mimetype": "text/x-python",
   "name": "python",
   "nbconvert_exporter": "python",
   "pygments_lexer": "ipython3",
   "version": "3.10.4"
  }
 },
 "nbformat": 4,
 "nbformat_minor": 2
}
