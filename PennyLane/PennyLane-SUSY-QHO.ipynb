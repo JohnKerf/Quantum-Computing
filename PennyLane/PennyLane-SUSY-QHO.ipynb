{
 "cells": [
  {
   "cell_type": "code",
   "execution_count": 1,
   "metadata": {},
   "outputs": [],
   "source": [
    "# PennyLane imports\n",
    "import pennylane as qml\n",
    "from pennylane import numpy as np\n",
    "\n",
    "# General imports\n",
    "import numpy as np\n",
    "import re\n",
    "\n",
    "# Pre-defined ansatz circuit and operator class for Hamiltonian\n",
    "from qiskit.circuit.library import EfficientSU2\n",
    "from qiskit.quantum_info import SparsePauliOp\n",
    "\n",
    "# SciPy minimizer routine\n",
    "from scipy.optimize import minimize\n",
    "\n",
    "# Plotting functions\n",
    "import matplotlib.pyplot as plt\n",
    "\n",
    "# runtime imports\n",
    "from qiskit_ibm_runtime import QiskitRuntimeService, Session\n",
    "from qiskit_ibm_runtime import EstimatorV2 as Estimator\n",
    "from qiskit_aer import AerSimulator\n",
    "from qiskit.transpiler.preset_passmanagers import generate_preset_pass_manager\n",
    "\n",
    "aer_sim = AerSimulator()\n",
    "pm = generate_preset_pass_manager(backend=aer_sim, optimization_level=3)"
   ]
  },
  {
   "cell_type": "code",
   "execution_count": 2,
   "metadata": {},
   "outputs": [],
   "source": [
    "def create_matrix(cut_off, type):\n",
    "    # Initialize a zero matrix of the specified size\n",
    "    matrix = np.zeros((cut_off, cut_off), dtype=complex)\n",
    "    \n",
    "    # Fill the off-diagonal values with square roots of integers\n",
    "    for i in range(cut_off):\n",
    "        if i > 0:  # Fill left off-diagonal\n",
    "            if type == 'q':\n",
    "                matrix[i][i - 1] = (1/np.sqrt(2)) * np.sqrt(i)  # sqrt(i) for left off-diagonal\n",
    "            else:\n",
    "                matrix[i][i - 1] = (1j/np.sqrt(2)) * np.sqrt(i)\n",
    "\n",
    "        if i < cut_off - 1:  # Fill right off-diagonal\n",
    "            if type == 'q':\n",
    "                matrix[i][i + 1] = (1/np.sqrt(2)) * np.sqrt(i + 1)  # sqrt(i + 1) for right off-diagonal\n",
    "            else:\n",
    "                matrix[i][i + 1] = (-1j/np.sqrt(2)) * np.sqrt(i + 1)\n",
    "\n",
    "    return matrix"
   ]
  },
  {
   "cell_type": "code",
   "execution_count": 3,
   "metadata": {},
   "outputs": [],
   "source": [
    "def convert_qiskit_pauli_string(s):\n",
    "    # Find all characters followed by a number in brackets\n",
    "    matches = re.findall(r'([A-Za-z])\\((\\d+)\\)', s)\n",
    "\n",
    "    # Sort the matches based on the order number (second element in tuple)\n",
    "    sorted_matches = sorted(matches, key=lambda x: int(x[1]))\n",
    "\n",
    "    # Join the characters in the sorted order\n",
    "    return ''.join([char for char, _ in sorted_matches])"
   ]
  },
  {
   "cell_type": "code",
   "execution_count": 14,
   "metadata": {},
   "outputs": [],
   "source": [
    "# Example usage for a 4x4 matrix\n",
    "cut_off = 4\n",
    "q = create_matrix(cut_off, 'q')\n",
    "p = create_matrix(cut_off, 'p')\n",
    "H = np.matmul(q,q) + np.matmul(p,p) - 0.5\n",
    "\n",
    "Hamiltonian = qml.pauli_decompose(H)"
   ]
  },
  {
   "cell_type": "code",
   "execution_count": 29,
   "metadata": {},
   "outputs": [],
   "source": [
    "# Number of layers for the variational ansatz\n",
    "num_layers = 4\n",
    "\n",
    "# Define the variational ansatz with layers\n",
    "def variational_ansatz(params, wires):\n",
    "    for layer in range(num_layers):\n",
    "        for wire in wires:\n",
    "            qml.RY(params[wire + layer * len(wires)], wires=wire)\n",
    "            qml.RZ(params[wire + layer * len(wires) + len(wires)], wires=wire)\n",
    "        for wire in range(len(wires) - 1):\n",
    "            qml.CNOT(wires=[wire, wire + 1])"
   ]
  },
  {
   "cell_type": "code",
   "execution_count": 40,
   "metadata": {},
   "outputs": [],
   "source": [
    "# Device\n",
    "dev = qml.device('default.qubit', wires=4)"
   ]
  },
  {
   "cell_type": "code",
   "execution_count": 41,
   "metadata": {},
   "outputs": [],
   "source": [
    "# Cost function\n",
    "@qml.qnode(dev)\n",
    "def cost_fn(params):\n",
    "    variational_ansatz(params, wires=[0, 1])\n",
    "    return qml.expval(Hamiltonian)"
   ]
  },
  {
   "cell_type": "code",
   "execution_count": 42,
   "metadata": {},
   "outputs": [],
   "source": [
    "# Initialize parameters randomly\n",
    "np.random.seed(42)\n",
    "num_params = num_layers * 2 * 2  # 2 parameters per qubit per layer\n",
    "params = np.random.rand(num_params)"
   ]
  },
  {
   "cell_type": "code",
   "execution_count": 43,
   "metadata": {},
   "outputs": [
    {
     "data": {
      "text/plain": [
       "array([0.37454012, 0.95071431, 0.73199394, 0.59865848, 0.15601864,\n",
       "       0.15599452, 0.05808361, 0.86617615, 0.60111501, 0.70807258,\n",
       "       0.02058449, 0.96990985, 0.83244264, 0.21233911, 0.18182497,\n",
       "       0.18340451])"
      ]
     },
     "execution_count": 43,
     "metadata": {},
     "output_type": "execute_result"
    }
   ],
   "source": [
    "params"
   ]
  },
  {
   "cell_type": "code",
   "execution_count": 44,
   "metadata": {},
   "outputs": [],
   "source": [
    "# Optimizer\n",
    "optimizer = qml.GradientDescentOptimizer(stepsize=0.1)\n",
    "num_steps = 100"
   ]
  },
  {
   "cell_type": "code",
   "execution_count": 46,
   "metadata": {},
   "outputs": [
    {
     "name": "stderr",
     "output_type": "stream",
     "text": [
      "c:\\Users\\Johnk\\OneDrive\\Desktop\\PhD 2024\\Quantum Computing Code\\Quantum-Computing\\.venv\\lib\\site-packages\\pennylane\\_grad.py:158: UserWarning: Attempted to differentiate a function with no trainable parameters. If this is unintended, please add trainable parameters via the 'requires_grad' attribute or 'argnum' keyword.\n",
      "  warnings.warn(\n"
     ]
    },
    {
     "data": {
      "text/plain": [
       "()"
      ]
     },
     "execution_count": 46,
     "metadata": {},
     "output_type": "execute_result"
    }
   ],
   "source": [
    "qml.grad(cost_fn)(params)"
   ]
  },
  {
   "cell_type": "code",
   "execution_count": 21,
   "metadata": {},
   "outputs": [
    {
     "name": "stderr",
     "output_type": "stream",
     "text": [
      "c:\\Users\\Johnk\\OneDrive\\Desktop\\PhD 2024\\Quantum Computing Code\\Quantum-Computing\\.venv\\lib\\site-packages\\pennylane\\_grad.py:158: UserWarning: Attempted to differentiate a function with no trainable parameters. If this is unintended, please add trainable parameters via the 'requires_grad' attribute or 'argnum' keyword.\n",
      "  warnings.warn(\n",
      "c:\\Users\\Johnk\\OneDrive\\Desktop\\PhD 2024\\Quantum Computing Code\\Quantum-Computing\\.venv\\lib\\site-packages\\pennylane\\_grad.py:158: UserWarning: Attempted to differentiate a function with no trainable parameters. If this is unintended, please add trainable parameters via the 'requires_grad' attribute or 'argnum' keyword.\n",
      "  warnings.warn(\n",
      "c:\\Users\\Johnk\\OneDrive\\Desktop\\PhD 2024\\Quantum Computing Code\\Quantum-Computing\\.venv\\lib\\site-packages\\pennylane\\_grad.py:158: UserWarning: Attempted to differentiate a function with no trainable parameters. If this is unintended, please add trainable parameters via the 'requires_grad' attribute or 'argnum' keyword.\n",
      "  warnings.warn(\n",
      "c:\\Users\\Johnk\\OneDrive\\Desktop\\PhD 2024\\Quantum Computing Code\\Quantum-Computing\\.venv\\lib\\site-packages\\pennylane\\_grad.py:158: UserWarning: Attempted to differentiate a function with no trainable parameters. If this is unintended, please add trainable parameters via the 'requires_grad' attribute or 'argnum' keyword.\n",
      "  warnings.warn(\n",
      "c:\\Users\\Johnk\\OneDrive\\Desktop\\PhD 2024\\Quantum Computing Code\\Quantum-Computing\\.venv\\lib\\site-packages\\pennylane\\_grad.py:158: UserWarning: Attempted to differentiate a function with no trainable parameters. If this is unintended, please add trainable parameters via the 'requires_grad' attribute or 'argnum' keyword.\n",
      "  warnings.warn(\n",
      "c:\\Users\\Johnk\\OneDrive\\Desktop\\PhD 2024\\Quantum Computing Code\\Quantum-Computing\\.venv\\lib\\site-packages\\pennylane\\_grad.py:158: UserWarning: Attempted to differentiate a function with no trainable parameters. If this is unintended, please add trainable parameters via the 'requires_grad' attribute or 'argnum' keyword.\n",
      "  warnings.warn(\n",
      "c:\\Users\\Johnk\\OneDrive\\Desktop\\PhD 2024\\Quantum Computing Code\\Quantum-Computing\\.venv\\lib\\site-packages\\pennylane\\_grad.py:158: UserWarning: Attempted to differentiate a function with no trainable parameters. If this is unintended, please add trainable parameters via the 'requires_grad' attribute or 'argnum' keyword.\n",
      "  warnings.warn(\n",
      "c:\\Users\\Johnk\\OneDrive\\Desktop\\PhD 2024\\Quantum Computing Code\\Quantum-Computing\\.venv\\lib\\site-packages\\pennylane\\_grad.py:158: UserWarning: Attempted to differentiate a function with no trainable parameters. If this is unintended, please add trainable parameters via the 'requires_grad' attribute or 'argnum' keyword.\n",
      "  warnings.warn(\n",
      "c:\\Users\\Johnk\\OneDrive\\Desktop\\PhD 2024\\Quantum Computing Code\\Quantum-Computing\\.venv\\lib\\site-packages\\pennylane\\_grad.py:158: UserWarning: Attempted to differentiate a function with no trainable parameters. If this is unintended, please add trainable parameters via the 'requires_grad' attribute or 'argnum' keyword.\n",
      "  warnings.warn(\n",
      "c:\\Users\\Johnk\\OneDrive\\Desktop\\PhD 2024\\Quantum Computing Code\\Quantum-Computing\\.venv\\lib\\site-packages\\pennylane\\_grad.py:158: UserWarning: Attempted to differentiate a function with no trainable parameters. If this is unintended, please add trainable parameters via the 'requires_grad' attribute or 'argnum' keyword.\n",
      "  warnings.warn(\n",
      "c:\\Users\\Johnk\\OneDrive\\Desktop\\PhD 2024\\Quantum Computing Code\\Quantum-Computing\\.venv\\lib\\site-packages\\pennylane\\_grad.py:158: UserWarning: Attempted to differentiate a function with no trainable parameters. If this is unintended, please add trainable parameters via the 'requires_grad' attribute or 'argnum' keyword.\n",
      "  warnings.warn(\n",
      "c:\\Users\\Johnk\\OneDrive\\Desktop\\PhD 2024\\Quantum Computing Code\\Quantum-Computing\\.venv\\lib\\site-packages\\pennylane\\_grad.py:158: UserWarning: Attempted to differentiate a function with no trainable parameters. If this is unintended, please add trainable parameters via the 'requires_grad' attribute or 'argnum' keyword.\n",
      "  warnings.warn(\n",
      "c:\\Users\\Johnk\\OneDrive\\Desktop\\PhD 2024\\Quantum Computing Code\\Quantum-Computing\\.venv\\lib\\site-packages\\pennylane\\_grad.py:158: UserWarning: Attempted to differentiate a function with no trainable parameters. If this is unintended, please add trainable parameters via the 'requires_grad' attribute or 'argnum' keyword.\n",
      "  warnings.warn(\n",
      "c:\\Users\\Johnk\\OneDrive\\Desktop\\PhD 2024\\Quantum Computing Code\\Quantum-Computing\\.venv\\lib\\site-packages\\pennylane\\_grad.py:158: UserWarning: Attempted to differentiate a function with no trainable parameters. If this is unintended, please add trainable parameters via the 'requires_grad' attribute or 'argnum' keyword.\n",
      "  warnings.warn(\n",
      "c:\\Users\\Johnk\\OneDrive\\Desktop\\PhD 2024\\Quantum Computing Code\\Quantum-Computing\\.venv\\lib\\site-packages\\pennylane\\_grad.py:158: UserWarning: Attempted to differentiate a function with no trainable parameters. If this is unintended, please add trainable parameters via the 'requires_grad' attribute or 'argnum' keyword.\n",
      "  warnings.warn(\n",
      "c:\\Users\\Johnk\\OneDrive\\Desktop\\PhD 2024\\Quantum Computing Code\\Quantum-Computing\\.venv\\lib\\site-packages\\pennylane\\_grad.py:158: UserWarning: Attempted to differentiate a function with no trainable parameters. If this is unintended, please add trainable parameters via the 'requires_grad' attribute or 'argnum' keyword.\n",
      "  warnings.warn(\n",
      "c:\\Users\\Johnk\\OneDrive\\Desktop\\PhD 2024\\Quantum Computing Code\\Quantum-Computing\\.venv\\lib\\site-packages\\pennylane\\_grad.py:158: UserWarning: Attempted to differentiate a function with no trainable parameters. If this is unintended, please add trainable parameters via the 'requires_grad' attribute or 'argnum' keyword.\n",
      "  warnings.warn(\n",
      "c:\\Users\\Johnk\\OneDrive\\Desktop\\PhD 2024\\Quantum Computing Code\\Quantum-Computing\\.venv\\lib\\site-packages\\pennylane\\_grad.py:158: UserWarning: Attempted to differentiate a function with no trainable parameters. If this is unintended, please add trainable parameters via the 'requires_grad' attribute or 'argnum' keyword.\n",
      "  warnings.warn(\n"
     ]
    },
    {
     "name": "stdout",
     "output_type": "stream",
     "text": [
      "Step 0, Energy: 1.2054155664425563\n",
      "Step 10, Energy: 1.2054155664425563\n"
     ]
    },
    {
     "name": "stderr",
     "output_type": "stream",
     "text": [
      "c:\\Users\\Johnk\\OneDrive\\Desktop\\PhD 2024\\Quantum Computing Code\\Quantum-Computing\\.venv\\lib\\site-packages\\pennylane\\_grad.py:158: UserWarning: Attempted to differentiate a function with no trainable parameters. If this is unintended, please add trainable parameters via the 'requires_grad' attribute or 'argnum' keyword.\n",
      "  warnings.warn(\n",
      "c:\\Users\\Johnk\\OneDrive\\Desktop\\PhD 2024\\Quantum Computing Code\\Quantum-Computing\\.venv\\lib\\site-packages\\pennylane\\_grad.py:158: UserWarning: Attempted to differentiate a function with no trainable parameters. If this is unintended, please add trainable parameters via the 'requires_grad' attribute or 'argnum' keyword.\n",
      "  warnings.warn(\n",
      "c:\\Users\\Johnk\\OneDrive\\Desktop\\PhD 2024\\Quantum Computing Code\\Quantum-Computing\\.venv\\lib\\site-packages\\pennylane\\_grad.py:158: UserWarning: Attempted to differentiate a function with no trainable parameters. If this is unintended, please add trainable parameters via the 'requires_grad' attribute or 'argnum' keyword.\n",
      "  warnings.warn(\n",
      "c:\\Users\\Johnk\\OneDrive\\Desktop\\PhD 2024\\Quantum Computing Code\\Quantum-Computing\\.venv\\lib\\site-packages\\pennylane\\_grad.py:158: UserWarning: Attempted to differentiate a function with no trainable parameters. If this is unintended, please add trainable parameters via the 'requires_grad' attribute or 'argnum' keyword.\n",
      "  warnings.warn(\n",
      "c:\\Users\\Johnk\\OneDrive\\Desktop\\PhD 2024\\Quantum Computing Code\\Quantum-Computing\\.venv\\lib\\site-packages\\pennylane\\_grad.py:158: UserWarning: Attempted to differentiate a function with no trainable parameters. If this is unintended, please add trainable parameters via the 'requires_grad' attribute or 'argnum' keyword.\n",
      "  warnings.warn(\n",
      "c:\\Users\\Johnk\\OneDrive\\Desktop\\PhD 2024\\Quantum Computing Code\\Quantum-Computing\\.venv\\lib\\site-packages\\pennylane\\_grad.py:158: UserWarning: Attempted to differentiate a function with no trainable parameters. If this is unintended, please add trainable parameters via the 'requires_grad' attribute or 'argnum' keyword.\n",
      "  warnings.warn(\n",
      "c:\\Users\\Johnk\\OneDrive\\Desktop\\PhD 2024\\Quantum Computing Code\\Quantum-Computing\\.venv\\lib\\site-packages\\pennylane\\_grad.py:158: UserWarning: Attempted to differentiate a function with no trainable parameters. If this is unintended, please add trainable parameters via the 'requires_grad' attribute or 'argnum' keyword.\n",
      "  warnings.warn(\n",
      "c:\\Users\\Johnk\\OneDrive\\Desktop\\PhD 2024\\Quantum Computing Code\\Quantum-Computing\\.venv\\lib\\site-packages\\pennylane\\_grad.py:158: UserWarning: Attempted to differentiate a function with no trainable parameters. If this is unintended, please add trainable parameters via the 'requires_grad' attribute or 'argnum' keyword.\n",
      "  warnings.warn(\n",
      "c:\\Users\\Johnk\\OneDrive\\Desktop\\PhD 2024\\Quantum Computing Code\\Quantum-Computing\\.venv\\lib\\site-packages\\pennylane\\_grad.py:158: UserWarning: Attempted to differentiate a function with no trainable parameters. If this is unintended, please add trainable parameters via the 'requires_grad' attribute or 'argnum' keyword.\n",
      "  warnings.warn(\n",
      "c:\\Users\\Johnk\\OneDrive\\Desktop\\PhD 2024\\Quantum Computing Code\\Quantum-Computing\\.venv\\lib\\site-packages\\pennylane\\_grad.py:158: UserWarning: Attempted to differentiate a function with no trainable parameters. If this is unintended, please add trainable parameters via the 'requires_grad' attribute or 'argnum' keyword.\n",
      "  warnings.warn(\n",
      "c:\\Users\\Johnk\\OneDrive\\Desktop\\PhD 2024\\Quantum Computing Code\\Quantum-Computing\\.venv\\lib\\site-packages\\pennylane\\_grad.py:158: UserWarning: Attempted to differentiate a function with no trainable parameters. If this is unintended, please add trainable parameters via the 'requires_grad' attribute or 'argnum' keyword.\n",
      "  warnings.warn(\n",
      "c:\\Users\\Johnk\\OneDrive\\Desktop\\PhD 2024\\Quantum Computing Code\\Quantum-Computing\\.venv\\lib\\site-packages\\pennylane\\_grad.py:158: UserWarning: Attempted to differentiate a function with no trainable parameters. If this is unintended, please add trainable parameters via the 'requires_grad' attribute or 'argnum' keyword.\n",
      "  warnings.warn(\n",
      "c:\\Users\\Johnk\\OneDrive\\Desktop\\PhD 2024\\Quantum Computing Code\\Quantum-Computing\\.venv\\lib\\site-packages\\pennylane\\_grad.py:158: UserWarning: Attempted to differentiate a function with no trainable parameters. If this is unintended, please add trainable parameters via the 'requires_grad' attribute or 'argnum' keyword.\n",
      "  warnings.warn(\n",
      "c:\\Users\\Johnk\\OneDrive\\Desktop\\PhD 2024\\Quantum Computing Code\\Quantum-Computing\\.venv\\lib\\site-packages\\pennylane\\_grad.py:158: UserWarning: Attempted to differentiate a function with no trainable parameters. If this is unintended, please add trainable parameters via the 'requires_grad' attribute or 'argnum' keyword.\n",
      "  warnings.warn(\n",
      "c:\\Users\\Johnk\\OneDrive\\Desktop\\PhD 2024\\Quantum Computing Code\\Quantum-Computing\\.venv\\lib\\site-packages\\pennylane\\_grad.py:158: UserWarning: Attempted to differentiate a function with no trainable parameters. If this is unintended, please add trainable parameters via the 'requires_grad' attribute or 'argnum' keyword.\n",
      "  warnings.warn(\n",
      "c:\\Users\\Johnk\\OneDrive\\Desktop\\PhD 2024\\Quantum Computing Code\\Quantum-Computing\\.venv\\lib\\site-packages\\pennylane\\_grad.py:158: UserWarning: Attempted to differentiate a function with no trainable parameters. If this is unintended, please add trainable parameters via the 'requires_grad' attribute or 'argnum' keyword.\n",
      "  warnings.warn(\n",
      "c:\\Users\\Johnk\\OneDrive\\Desktop\\PhD 2024\\Quantum Computing Code\\Quantum-Computing\\.venv\\lib\\site-packages\\pennylane\\_grad.py:158: UserWarning: Attempted to differentiate a function with no trainable parameters. If this is unintended, please add trainable parameters via the 'requires_grad' attribute or 'argnum' keyword.\n",
      "  warnings.warn(\n",
      "c:\\Users\\Johnk\\OneDrive\\Desktop\\PhD 2024\\Quantum Computing Code\\Quantum-Computing\\.venv\\lib\\site-packages\\pennylane\\_grad.py:158: UserWarning: Attempted to differentiate a function with no trainable parameters. If this is unintended, please add trainable parameters via the 'requires_grad' attribute or 'argnum' keyword.\n",
      "  warnings.warn(\n"
     ]
    },
    {
     "name": "stdout",
     "output_type": "stream",
     "text": [
      "Step 20, Energy: 1.2054155664425563\n",
      "Step 30, Energy: 1.2054155664425563\n"
     ]
    },
    {
     "name": "stderr",
     "output_type": "stream",
     "text": [
      "c:\\Users\\Johnk\\OneDrive\\Desktop\\PhD 2024\\Quantum Computing Code\\Quantum-Computing\\.venv\\lib\\site-packages\\pennylane\\_grad.py:158: UserWarning: Attempted to differentiate a function with no trainable parameters. If this is unintended, please add trainable parameters via the 'requires_grad' attribute or 'argnum' keyword.\n",
      "  warnings.warn(\n",
      "c:\\Users\\Johnk\\OneDrive\\Desktop\\PhD 2024\\Quantum Computing Code\\Quantum-Computing\\.venv\\lib\\site-packages\\pennylane\\_grad.py:158: UserWarning: Attempted to differentiate a function with no trainable parameters. If this is unintended, please add trainable parameters via the 'requires_grad' attribute or 'argnum' keyword.\n",
      "  warnings.warn(\n",
      "c:\\Users\\Johnk\\OneDrive\\Desktop\\PhD 2024\\Quantum Computing Code\\Quantum-Computing\\.venv\\lib\\site-packages\\pennylane\\_grad.py:158: UserWarning: Attempted to differentiate a function with no trainable parameters. If this is unintended, please add trainable parameters via the 'requires_grad' attribute or 'argnum' keyword.\n",
      "  warnings.warn(\n",
      "c:\\Users\\Johnk\\OneDrive\\Desktop\\PhD 2024\\Quantum Computing Code\\Quantum-Computing\\.venv\\lib\\site-packages\\pennylane\\_grad.py:158: UserWarning: Attempted to differentiate a function with no trainable parameters. If this is unintended, please add trainable parameters via the 'requires_grad' attribute or 'argnum' keyword.\n",
      "  warnings.warn(\n",
      "c:\\Users\\Johnk\\OneDrive\\Desktop\\PhD 2024\\Quantum Computing Code\\Quantum-Computing\\.venv\\lib\\site-packages\\pennylane\\_grad.py:158: UserWarning: Attempted to differentiate a function with no trainable parameters. If this is unintended, please add trainable parameters via the 'requires_grad' attribute or 'argnum' keyword.\n",
      "  warnings.warn(\n",
      "c:\\Users\\Johnk\\OneDrive\\Desktop\\PhD 2024\\Quantum Computing Code\\Quantum-Computing\\.venv\\lib\\site-packages\\pennylane\\_grad.py:158: UserWarning: Attempted to differentiate a function with no trainable parameters. If this is unintended, please add trainable parameters via the 'requires_grad' attribute or 'argnum' keyword.\n",
      "  warnings.warn(\n",
      "c:\\Users\\Johnk\\OneDrive\\Desktop\\PhD 2024\\Quantum Computing Code\\Quantum-Computing\\.venv\\lib\\site-packages\\pennylane\\_grad.py:158: UserWarning: Attempted to differentiate a function with no trainable parameters. If this is unintended, please add trainable parameters via the 'requires_grad' attribute or 'argnum' keyword.\n",
      "  warnings.warn(\n",
      "c:\\Users\\Johnk\\OneDrive\\Desktop\\PhD 2024\\Quantum Computing Code\\Quantum-Computing\\.venv\\lib\\site-packages\\pennylane\\_grad.py:158: UserWarning: Attempted to differentiate a function with no trainable parameters. If this is unintended, please add trainable parameters via the 'requires_grad' attribute or 'argnum' keyword.\n",
      "  warnings.warn(\n",
      "c:\\Users\\Johnk\\OneDrive\\Desktop\\PhD 2024\\Quantum Computing Code\\Quantum-Computing\\.venv\\lib\\site-packages\\pennylane\\_grad.py:158: UserWarning: Attempted to differentiate a function with no trainable parameters. If this is unintended, please add trainable parameters via the 'requires_grad' attribute or 'argnum' keyword.\n",
      "  warnings.warn(\n",
      "c:\\Users\\Johnk\\OneDrive\\Desktop\\PhD 2024\\Quantum Computing Code\\Quantum-Computing\\.venv\\lib\\site-packages\\pennylane\\_grad.py:158: UserWarning: Attempted to differentiate a function with no trainable parameters. If this is unintended, please add trainable parameters via the 'requires_grad' attribute or 'argnum' keyword.\n",
      "  warnings.warn(\n",
      "c:\\Users\\Johnk\\OneDrive\\Desktop\\PhD 2024\\Quantum Computing Code\\Quantum-Computing\\.venv\\lib\\site-packages\\pennylane\\_grad.py:158: UserWarning: Attempted to differentiate a function with no trainable parameters. If this is unintended, please add trainable parameters via the 'requires_grad' attribute or 'argnum' keyword.\n",
      "  warnings.warn(\n",
      "c:\\Users\\Johnk\\OneDrive\\Desktop\\PhD 2024\\Quantum Computing Code\\Quantum-Computing\\.venv\\lib\\site-packages\\pennylane\\_grad.py:158: UserWarning: Attempted to differentiate a function with no trainable parameters. If this is unintended, please add trainable parameters via the 'requires_grad' attribute or 'argnum' keyword.\n",
      "  warnings.warn(\n",
      "c:\\Users\\Johnk\\OneDrive\\Desktop\\PhD 2024\\Quantum Computing Code\\Quantum-Computing\\.venv\\lib\\site-packages\\pennylane\\_grad.py:158: UserWarning: Attempted to differentiate a function with no trainable parameters. If this is unintended, please add trainable parameters via the 'requires_grad' attribute or 'argnum' keyword.\n",
      "  warnings.warn(\n",
      "c:\\Users\\Johnk\\OneDrive\\Desktop\\PhD 2024\\Quantum Computing Code\\Quantum-Computing\\.venv\\lib\\site-packages\\pennylane\\_grad.py:158: UserWarning: Attempted to differentiate a function with no trainable parameters. If this is unintended, please add trainable parameters via the 'requires_grad' attribute or 'argnum' keyword.\n",
      "  warnings.warn(\n",
      "c:\\Users\\Johnk\\OneDrive\\Desktop\\PhD 2024\\Quantum Computing Code\\Quantum-Computing\\.venv\\lib\\site-packages\\pennylane\\_grad.py:158: UserWarning: Attempted to differentiate a function with no trainable parameters. If this is unintended, please add trainable parameters via the 'requires_grad' attribute or 'argnum' keyword.\n",
      "  warnings.warn(\n",
      "c:\\Users\\Johnk\\OneDrive\\Desktop\\PhD 2024\\Quantum Computing Code\\Quantum-Computing\\.venv\\lib\\site-packages\\pennylane\\_grad.py:158: UserWarning: Attempted to differentiate a function with no trainable parameters. If this is unintended, please add trainable parameters via the 'requires_grad' attribute or 'argnum' keyword.\n",
      "  warnings.warn(\n"
     ]
    },
    {
     "name": "stdout",
     "output_type": "stream",
     "text": [
      "Step 40, Energy: 1.2054155664425563\n",
      "Step 50, Energy: 1.2054155664425563\n"
     ]
    },
    {
     "name": "stderr",
     "output_type": "stream",
     "text": [
      "c:\\Users\\Johnk\\OneDrive\\Desktop\\PhD 2024\\Quantum Computing Code\\Quantum-Computing\\.venv\\lib\\site-packages\\pennylane\\_grad.py:158: UserWarning: Attempted to differentiate a function with no trainable parameters. If this is unintended, please add trainable parameters via the 'requires_grad' attribute or 'argnum' keyword.\n",
      "  warnings.warn(\n",
      "c:\\Users\\Johnk\\OneDrive\\Desktop\\PhD 2024\\Quantum Computing Code\\Quantum-Computing\\.venv\\lib\\site-packages\\pennylane\\_grad.py:158: UserWarning: Attempted to differentiate a function with no trainable parameters. If this is unintended, please add trainable parameters via the 'requires_grad' attribute or 'argnum' keyword.\n",
      "  warnings.warn(\n",
      "c:\\Users\\Johnk\\OneDrive\\Desktop\\PhD 2024\\Quantum Computing Code\\Quantum-Computing\\.venv\\lib\\site-packages\\pennylane\\_grad.py:158: UserWarning: Attempted to differentiate a function with no trainable parameters. If this is unintended, please add trainable parameters via the 'requires_grad' attribute or 'argnum' keyword.\n",
      "  warnings.warn(\n",
      "c:\\Users\\Johnk\\OneDrive\\Desktop\\PhD 2024\\Quantum Computing Code\\Quantum-Computing\\.venv\\lib\\site-packages\\pennylane\\_grad.py:158: UserWarning: Attempted to differentiate a function with no trainable parameters. If this is unintended, please add trainable parameters via the 'requires_grad' attribute or 'argnum' keyword.\n",
      "  warnings.warn(\n",
      "c:\\Users\\Johnk\\OneDrive\\Desktop\\PhD 2024\\Quantum Computing Code\\Quantum-Computing\\.venv\\lib\\site-packages\\pennylane\\_grad.py:158: UserWarning: Attempted to differentiate a function with no trainable parameters. If this is unintended, please add trainable parameters via the 'requires_grad' attribute or 'argnum' keyword.\n",
      "  warnings.warn(\n",
      "c:\\Users\\Johnk\\OneDrive\\Desktop\\PhD 2024\\Quantum Computing Code\\Quantum-Computing\\.venv\\lib\\site-packages\\pennylane\\_grad.py:158: UserWarning: Attempted to differentiate a function with no trainable parameters. If this is unintended, please add trainable parameters via the 'requires_grad' attribute or 'argnum' keyword.\n",
      "  warnings.warn(\n",
      "c:\\Users\\Johnk\\OneDrive\\Desktop\\PhD 2024\\Quantum Computing Code\\Quantum-Computing\\.venv\\lib\\site-packages\\pennylane\\_grad.py:158: UserWarning: Attempted to differentiate a function with no trainable parameters. If this is unintended, please add trainable parameters via the 'requires_grad' attribute or 'argnum' keyword.\n",
      "  warnings.warn(\n",
      "c:\\Users\\Johnk\\OneDrive\\Desktop\\PhD 2024\\Quantum Computing Code\\Quantum-Computing\\.venv\\lib\\site-packages\\pennylane\\_grad.py:158: UserWarning: Attempted to differentiate a function with no trainable parameters. If this is unintended, please add trainable parameters via the 'requires_grad' attribute or 'argnum' keyword.\n",
      "  warnings.warn(\n",
      "c:\\Users\\Johnk\\OneDrive\\Desktop\\PhD 2024\\Quantum Computing Code\\Quantum-Computing\\.venv\\lib\\site-packages\\pennylane\\_grad.py:158: UserWarning: Attempted to differentiate a function with no trainable parameters. If this is unintended, please add trainable parameters via the 'requires_grad' attribute or 'argnum' keyword.\n",
      "  warnings.warn(\n",
      "c:\\Users\\Johnk\\OneDrive\\Desktop\\PhD 2024\\Quantum Computing Code\\Quantum-Computing\\.venv\\lib\\site-packages\\pennylane\\_grad.py:158: UserWarning: Attempted to differentiate a function with no trainable parameters. If this is unintended, please add trainable parameters via the 'requires_grad' attribute or 'argnum' keyword.\n",
      "  warnings.warn(\n",
      "c:\\Users\\Johnk\\OneDrive\\Desktop\\PhD 2024\\Quantum Computing Code\\Quantum-Computing\\.venv\\lib\\site-packages\\pennylane\\_grad.py:158: UserWarning: Attempted to differentiate a function with no trainable parameters. If this is unintended, please add trainable parameters via the 'requires_grad' attribute or 'argnum' keyword.\n",
      "  warnings.warn(\n",
      "c:\\Users\\Johnk\\OneDrive\\Desktop\\PhD 2024\\Quantum Computing Code\\Quantum-Computing\\.venv\\lib\\site-packages\\pennylane\\_grad.py:158: UserWarning: Attempted to differentiate a function with no trainable parameters. If this is unintended, please add trainable parameters via the 'requires_grad' attribute or 'argnum' keyword.\n",
      "  warnings.warn(\n",
      "c:\\Users\\Johnk\\OneDrive\\Desktop\\PhD 2024\\Quantum Computing Code\\Quantum-Computing\\.venv\\lib\\site-packages\\pennylane\\_grad.py:158: UserWarning: Attempted to differentiate a function with no trainable parameters. If this is unintended, please add trainable parameters via the 'requires_grad' attribute or 'argnum' keyword.\n",
      "  warnings.warn(\n",
      "c:\\Users\\Johnk\\OneDrive\\Desktop\\PhD 2024\\Quantum Computing Code\\Quantum-Computing\\.venv\\lib\\site-packages\\pennylane\\_grad.py:158: UserWarning: Attempted to differentiate a function with no trainable parameters. If this is unintended, please add trainable parameters via the 'requires_grad' attribute or 'argnum' keyword.\n",
      "  warnings.warn(\n",
      "c:\\Users\\Johnk\\OneDrive\\Desktop\\PhD 2024\\Quantum Computing Code\\Quantum-Computing\\.venv\\lib\\site-packages\\pennylane\\_grad.py:158: UserWarning: Attempted to differentiate a function with no trainable parameters. If this is unintended, please add trainable parameters via the 'requires_grad' attribute or 'argnum' keyword.\n",
      "  warnings.warn(\n",
      "c:\\Users\\Johnk\\OneDrive\\Desktop\\PhD 2024\\Quantum Computing Code\\Quantum-Computing\\.venv\\lib\\site-packages\\pennylane\\_grad.py:158: UserWarning: Attempted to differentiate a function with no trainable parameters. If this is unintended, please add trainable parameters via the 'requires_grad' attribute or 'argnum' keyword.\n",
      "  warnings.warn(\n",
      "c:\\Users\\Johnk\\OneDrive\\Desktop\\PhD 2024\\Quantum Computing Code\\Quantum-Computing\\.venv\\lib\\site-packages\\pennylane\\_grad.py:158: UserWarning: Attempted to differentiate a function with no trainable parameters. If this is unintended, please add trainable parameters via the 'requires_grad' attribute or 'argnum' keyword.\n",
      "  warnings.warn(\n"
     ]
    },
    {
     "name": "stdout",
     "output_type": "stream",
     "text": [
      "Step 60, Energy: 1.2054155664425563\n",
      "Step 70, Energy: 1.2054155664425563\n"
     ]
    },
    {
     "name": "stderr",
     "output_type": "stream",
     "text": [
      "c:\\Users\\Johnk\\OneDrive\\Desktop\\PhD 2024\\Quantum Computing Code\\Quantum-Computing\\.venv\\lib\\site-packages\\pennylane\\_grad.py:158: UserWarning: Attempted to differentiate a function with no trainable parameters. If this is unintended, please add trainable parameters via the 'requires_grad' attribute or 'argnum' keyword.\n",
      "  warnings.warn(\n",
      "c:\\Users\\Johnk\\OneDrive\\Desktop\\PhD 2024\\Quantum Computing Code\\Quantum-Computing\\.venv\\lib\\site-packages\\pennylane\\_grad.py:158: UserWarning: Attempted to differentiate a function with no trainable parameters. If this is unintended, please add trainable parameters via the 'requires_grad' attribute or 'argnum' keyword.\n",
      "  warnings.warn(\n",
      "c:\\Users\\Johnk\\OneDrive\\Desktop\\PhD 2024\\Quantum Computing Code\\Quantum-Computing\\.venv\\lib\\site-packages\\pennylane\\_grad.py:158: UserWarning: Attempted to differentiate a function with no trainable parameters. If this is unintended, please add trainable parameters via the 'requires_grad' attribute or 'argnum' keyword.\n",
      "  warnings.warn(\n",
      "c:\\Users\\Johnk\\OneDrive\\Desktop\\PhD 2024\\Quantum Computing Code\\Quantum-Computing\\.venv\\lib\\site-packages\\pennylane\\_grad.py:158: UserWarning: Attempted to differentiate a function with no trainable parameters. If this is unintended, please add trainable parameters via the 'requires_grad' attribute or 'argnum' keyword.\n",
      "  warnings.warn(\n",
      "c:\\Users\\Johnk\\OneDrive\\Desktop\\PhD 2024\\Quantum Computing Code\\Quantum-Computing\\.venv\\lib\\site-packages\\pennylane\\_grad.py:158: UserWarning: Attempted to differentiate a function with no trainable parameters. If this is unintended, please add trainable parameters via the 'requires_grad' attribute or 'argnum' keyword.\n",
      "  warnings.warn(\n",
      "c:\\Users\\Johnk\\OneDrive\\Desktop\\PhD 2024\\Quantum Computing Code\\Quantum-Computing\\.venv\\lib\\site-packages\\pennylane\\_grad.py:158: UserWarning: Attempted to differentiate a function with no trainable parameters. If this is unintended, please add trainable parameters via the 'requires_grad' attribute or 'argnum' keyword.\n",
      "  warnings.warn(\n",
      "c:\\Users\\Johnk\\OneDrive\\Desktop\\PhD 2024\\Quantum Computing Code\\Quantum-Computing\\.venv\\lib\\site-packages\\pennylane\\_grad.py:158: UserWarning: Attempted to differentiate a function with no trainable parameters. If this is unintended, please add trainable parameters via the 'requires_grad' attribute or 'argnum' keyword.\n",
      "  warnings.warn(\n",
      "c:\\Users\\Johnk\\OneDrive\\Desktop\\PhD 2024\\Quantum Computing Code\\Quantum-Computing\\.venv\\lib\\site-packages\\pennylane\\_grad.py:158: UserWarning: Attempted to differentiate a function with no trainable parameters. If this is unintended, please add trainable parameters via the 'requires_grad' attribute or 'argnum' keyword.\n",
      "  warnings.warn(\n",
      "c:\\Users\\Johnk\\OneDrive\\Desktop\\PhD 2024\\Quantum Computing Code\\Quantum-Computing\\.venv\\lib\\site-packages\\pennylane\\_grad.py:158: UserWarning: Attempted to differentiate a function with no trainable parameters. If this is unintended, please add trainable parameters via the 'requires_grad' attribute or 'argnum' keyword.\n",
      "  warnings.warn(\n",
      "c:\\Users\\Johnk\\OneDrive\\Desktop\\PhD 2024\\Quantum Computing Code\\Quantum-Computing\\.venv\\lib\\site-packages\\pennylane\\_grad.py:158: UserWarning: Attempted to differentiate a function with no trainable parameters. If this is unintended, please add trainable parameters via the 'requires_grad' attribute or 'argnum' keyword.\n",
      "  warnings.warn(\n",
      "c:\\Users\\Johnk\\OneDrive\\Desktop\\PhD 2024\\Quantum Computing Code\\Quantum-Computing\\.venv\\lib\\site-packages\\pennylane\\_grad.py:158: UserWarning: Attempted to differentiate a function with no trainable parameters. If this is unintended, please add trainable parameters via the 'requires_grad' attribute or 'argnum' keyword.\n",
      "  warnings.warn(\n",
      "c:\\Users\\Johnk\\OneDrive\\Desktop\\PhD 2024\\Quantum Computing Code\\Quantum-Computing\\.venv\\lib\\site-packages\\pennylane\\_grad.py:158: UserWarning: Attempted to differentiate a function with no trainable parameters. If this is unintended, please add trainable parameters via the 'requires_grad' attribute or 'argnum' keyword.\n",
      "  warnings.warn(\n",
      "c:\\Users\\Johnk\\OneDrive\\Desktop\\PhD 2024\\Quantum Computing Code\\Quantum-Computing\\.venv\\lib\\site-packages\\pennylane\\_grad.py:158: UserWarning: Attempted to differentiate a function with no trainable parameters. If this is unintended, please add trainable parameters via the 'requires_grad' attribute or 'argnum' keyword.\n",
      "  warnings.warn(\n"
     ]
    },
    {
     "name": "stdout",
     "output_type": "stream",
     "text": [
      "Step 80, Energy: 1.2054155664425563\n",
      "Step 90, Energy: 1.2054155664425563\n"
     ]
    },
    {
     "name": "stderr",
     "output_type": "stream",
     "text": [
      "c:\\Users\\Johnk\\OneDrive\\Desktop\\PhD 2024\\Quantum Computing Code\\Quantum-Computing\\.venv\\lib\\site-packages\\pennylane\\_grad.py:158: UserWarning: Attempted to differentiate a function with no trainable parameters. If this is unintended, please add trainable parameters via the 'requires_grad' attribute or 'argnum' keyword.\n",
      "  warnings.warn(\n",
      "c:\\Users\\Johnk\\OneDrive\\Desktop\\PhD 2024\\Quantum Computing Code\\Quantum-Computing\\.venv\\lib\\site-packages\\pennylane\\_grad.py:158: UserWarning: Attempted to differentiate a function with no trainable parameters. If this is unintended, please add trainable parameters via the 'requires_grad' attribute or 'argnum' keyword.\n",
      "  warnings.warn(\n",
      "c:\\Users\\Johnk\\OneDrive\\Desktop\\PhD 2024\\Quantum Computing Code\\Quantum-Computing\\.venv\\lib\\site-packages\\pennylane\\_grad.py:158: UserWarning: Attempted to differentiate a function with no trainable parameters. If this is unintended, please add trainable parameters via the 'requires_grad' attribute or 'argnum' keyword.\n",
      "  warnings.warn(\n",
      "c:\\Users\\Johnk\\OneDrive\\Desktop\\PhD 2024\\Quantum Computing Code\\Quantum-Computing\\.venv\\lib\\site-packages\\pennylane\\_grad.py:158: UserWarning: Attempted to differentiate a function with no trainable parameters. If this is unintended, please add trainable parameters via the 'requires_grad' attribute or 'argnum' keyword.\n",
      "  warnings.warn(\n",
      "c:\\Users\\Johnk\\OneDrive\\Desktop\\PhD 2024\\Quantum Computing Code\\Quantum-Computing\\.venv\\lib\\site-packages\\pennylane\\_grad.py:158: UserWarning: Attempted to differentiate a function with no trainable parameters. If this is unintended, please add trainable parameters via the 'requires_grad' attribute or 'argnum' keyword.\n",
      "  warnings.warn(\n",
      "c:\\Users\\Johnk\\OneDrive\\Desktop\\PhD 2024\\Quantum Computing Code\\Quantum-Computing\\.venv\\lib\\site-packages\\pennylane\\_grad.py:158: UserWarning: Attempted to differentiate a function with no trainable parameters. If this is unintended, please add trainable parameters via the 'requires_grad' attribute or 'argnum' keyword.\n",
      "  warnings.warn(\n",
      "c:\\Users\\Johnk\\OneDrive\\Desktop\\PhD 2024\\Quantum Computing Code\\Quantum-Computing\\.venv\\lib\\site-packages\\pennylane\\_grad.py:158: UserWarning: Attempted to differentiate a function with no trainable parameters. If this is unintended, please add trainable parameters via the 'requires_grad' attribute or 'argnum' keyword.\n",
      "  warnings.warn(\n",
      "c:\\Users\\Johnk\\OneDrive\\Desktop\\PhD 2024\\Quantum Computing Code\\Quantum-Computing\\.venv\\lib\\site-packages\\pennylane\\_grad.py:158: UserWarning: Attempted to differentiate a function with no trainable parameters. If this is unintended, please add trainable parameters via the 'requires_grad' attribute or 'argnum' keyword.\n",
      "  warnings.warn(\n",
      "c:\\Users\\Johnk\\OneDrive\\Desktop\\PhD 2024\\Quantum Computing Code\\Quantum-Computing\\.venv\\lib\\site-packages\\pennylane\\_grad.py:158: UserWarning: Attempted to differentiate a function with no trainable parameters. If this is unintended, please add trainable parameters via the 'requires_grad' attribute or 'argnum' keyword.\n",
      "  warnings.warn(\n",
      "c:\\Users\\Johnk\\OneDrive\\Desktop\\PhD 2024\\Quantum Computing Code\\Quantum-Computing\\.venv\\lib\\site-packages\\pennylane\\_grad.py:158: UserWarning: Attempted to differentiate a function with no trainable parameters. If this is unintended, please add trainable parameters via the 'requires_grad' attribute or 'argnum' keyword.\n",
      "  warnings.warn(\n",
      "c:\\Users\\Johnk\\OneDrive\\Desktop\\PhD 2024\\Quantum Computing Code\\Quantum-Computing\\.venv\\lib\\site-packages\\pennylane\\_grad.py:158: UserWarning: Attempted to differentiate a function with no trainable parameters. If this is unintended, please add trainable parameters via the 'requires_grad' attribute or 'argnum' keyword.\n",
      "  warnings.warn(\n",
      "c:\\Users\\Johnk\\OneDrive\\Desktop\\PhD 2024\\Quantum Computing Code\\Quantum-Computing\\.venv\\lib\\site-packages\\pennylane\\_grad.py:158: UserWarning: Attempted to differentiate a function with no trainable parameters. If this is unintended, please add trainable parameters via the 'requires_grad' attribute or 'argnum' keyword.\n",
      "  warnings.warn(\n",
      "c:\\Users\\Johnk\\OneDrive\\Desktop\\PhD 2024\\Quantum Computing Code\\Quantum-Computing\\.venv\\lib\\site-packages\\pennylane\\_grad.py:158: UserWarning: Attempted to differentiate a function with no trainable parameters. If this is unintended, please add trainable parameters via the 'requires_grad' attribute or 'argnum' keyword.\n",
      "  warnings.warn(\n",
      "c:\\Users\\Johnk\\OneDrive\\Desktop\\PhD 2024\\Quantum Computing Code\\Quantum-Computing\\.venv\\lib\\site-packages\\pennylane\\_grad.py:158: UserWarning: Attempted to differentiate a function with no trainable parameters. If this is unintended, please add trainable parameters via the 'requires_grad' attribute or 'argnum' keyword.\n",
      "  warnings.warn(\n",
      "c:\\Users\\Johnk\\OneDrive\\Desktop\\PhD 2024\\Quantum Computing Code\\Quantum-Computing\\.venv\\lib\\site-packages\\pennylane\\_grad.py:158: UserWarning: Attempted to differentiate a function with no trainable parameters. If this is unintended, please add trainable parameters via the 'requires_grad' attribute or 'argnum' keyword.\n",
      "  warnings.warn(\n",
      "c:\\Users\\Johnk\\OneDrive\\Desktop\\PhD 2024\\Quantum Computing Code\\Quantum-Computing\\.venv\\lib\\site-packages\\pennylane\\_grad.py:158: UserWarning: Attempted to differentiate a function with no trainable parameters. If this is unintended, please add trainable parameters via the 'requires_grad' attribute or 'argnum' keyword.\n",
      "  warnings.warn(\n",
      "c:\\Users\\Johnk\\OneDrive\\Desktop\\PhD 2024\\Quantum Computing Code\\Quantum-Computing\\.venv\\lib\\site-packages\\pennylane\\_grad.py:158: UserWarning: Attempted to differentiate a function with no trainable parameters. If this is unintended, please add trainable parameters via the 'requires_grad' attribute or 'argnum' keyword.\n",
      "  warnings.warn(\n",
      "c:\\Users\\Johnk\\OneDrive\\Desktop\\PhD 2024\\Quantum Computing Code\\Quantum-Computing\\.venv\\lib\\site-packages\\pennylane\\_grad.py:158: UserWarning: Attempted to differentiate a function with no trainable parameters. If this is unintended, please add trainable parameters via the 'requires_grad' attribute or 'argnum' keyword.\n",
      "  warnings.warn(\n"
     ]
    },
    {
     "name": "stdout",
     "output_type": "stream",
     "text": [
      "Optimized Energy: 1.2054155664425563\n"
     ]
    }
   ],
   "source": [
    "for step in range(num_steps):\n",
    "    params = optimizer.step(cost_fn, params)\n",
    "    energy = cost_fn(params)\n",
    "    if step % 10 == 0:\n",
    "        print(f\"Step {step}, Energy: {energy}\")\n",
    "\n",
    "print(f\"Optimized Energy: {energy}\")"
   ]
  },
  {
   "cell_type": "code",
   "execution_count": 22,
   "metadata": {},
   "outputs": [
    {
     "name": "stdout",
     "output_type": "stream",
     "text": [
      "Ground State: [0.05262172-0.63348155j 0.57783171+0.01183146j 0.31399012-0.0143215j\n",
      " 0.3659606 -0.17082317j]\n"
     ]
    }
   ],
   "source": [
    "# Get the final optimized state\n",
    "@qml.qnode(dev)\n",
    "def optimized_state(params):\n",
    "    variational_ansatz(params, wires=[0, 1])\n",
    "    return qml.state()\n",
    "\n",
    "ground_state = optimized_state(params)\n",
    "print(\"Ground State:\", ground_state)"
   ]
  }
 ],
 "metadata": {
  "kernelspec": {
   "display_name": ".venv",
   "language": "python",
   "name": "python3"
  },
  "language_info": {
   "codemirror_mode": {
    "name": "ipython",
    "version": 3
   },
   "file_extension": ".py",
   "mimetype": "text/x-python",
   "name": "python",
   "nbconvert_exporter": "python",
   "pygments_lexer": "ipython3",
   "version": "3.10.4"
  }
 },
 "nbformat": 4,
 "nbformat_minor": 2
}
