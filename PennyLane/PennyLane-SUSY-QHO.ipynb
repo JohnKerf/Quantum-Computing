{
 "cells": [
  {
   "cell_type": "code",
   "execution_count": null,
   "metadata": {},
   "outputs": [],
   "source": [
    "# PennyLane imports\n",
    "import pennylane as qml\n",
    "from pennylane import numpy as pnp\n",
    "from pennylane.optimize import GradientDescentOptimizer, AdamOptimizer, SPSAOptimizer\n",
    "from pennylane.templates import BasicEntanglerLayers, StronglyEntanglingLayers\n",
    "\n",
    "# General imports\n",
    "import numpy as np\n",
    "\n",
    "from qiskit.quantum_info import SparsePauliOp\n",
    "\n",
    "import matplotlib.pyplot as plt\n",
    "\n",
    "from scipy.optimize import differential_evolution"
   ]
  },
  {
   "cell_type": "code",
   "execution_count": 2,
   "metadata": {},
   "outputs": [],
   "source": [
    "def create_matrix(cut_off, type):\n",
    "    # Initialize a zero matrix of the specified size\n",
    "    matrix = np.zeros((cut_off, cut_off), dtype=np.complex128)\n",
    "    \n",
    "    # Fill the off-diagonal values with square roots of integers\n",
    "    for i in range(cut_off):\n",
    "        if i > 0:  # Fill left off-diagonal\n",
    "            if type == 'q':\n",
    "                matrix[i][i - 1] = (1/np.sqrt(2)) * np.sqrt(i)  # sqrt(i) for left off-diagonal\n",
    "            else:\n",
    "                matrix[i][i - 1] = (1j/np.sqrt(2)) * np.sqrt(i)\n",
    "\n",
    "        if i < cut_off - 1:  # Fill right off-diagonal\n",
    "            if type == 'q':\n",
    "                matrix[i][i + 1] = (1/np.sqrt(2)) * np.sqrt(i + 1)  # sqrt(i + 1) for right off-diagonal\n",
    "            else:\n",
    "                matrix[i][i + 1] = (-1j/np.sqrt(2)) * np.sqrt(i + 1)\n",
    "\n",
    "    return matrix\n",
    "\n",
    "\n",
    "# Function to calculate the Hamiltonian\n",
    "def calculate_Hamiltonian(cut_off, potential):\n",
    "    # Generate the position (q) and momentum (p) matrices\n",
    "    q = create_matrix(cut_off, 'q')  # q matrix\n",
    "    p = create_matrix(cut_off, 'p')  # p matrix\n",
    "\n",
    "    # Calculate q^2 and q^3 for potential terms\n",
    "    q2 = np.matmul(q, q)\n",
    "    q3 = np.matmul(q2, q)\n",
    "\n",
    "    #fermionic identity\n",
    "    I_f = np.eye(2)\n",
    "\n",
    "    #bosonic identity\n",
    "    I_b = np.eye(cut_off)\n",
    "\n",
    "    # Superpotential derivatives\n",
    "    if potential == 'QHO':\n",
    "        W_prime = q  # W'(q) = q\n",
    "        W_double_prime = I_b #W''(q) = 1\n",
    "\n",
    "    elif potential == 'AHO':\n",
    "        W_prime = q + q3  # W'(q) = q + q^3\n",
    "        W_double_prime = I_b + 3 * q2  # W''(q) = 1 + 3q^2\n",
    "\n",
    "    elif potential == 'DW':\n",
    "        W_prime = q + q2 + I_b  # W'(q) = q + q^2 + 1\n",
    "        W_double_prime = I_b + 2 * q  # W''(q) = 1 + 2q\n",
    "\n",
    "    else:\n",
    "        print(\"Not a valid potential\")\n",
    "        raise\n",
    "\n",
    "    # Kinetic term: p^2\n",
    "    p2 = np.matmul(p, p)\n",
    "\n",
    "    # Commutator term [b^†, b] = -Z\n",
    "    Z = np.array([[1, 0], [0, -1]])  # Pauli Z matrix for fermion number\n",
    "    commutator_term = np.kron(Z, W_double_prime)\n",
    "\n",
    "    # Construct the block-diagonal kinetic term (bosonic and fermionic parts)\n",
    "    # Bosonic part is the same for both, hence we use kron with the identity matrix\n",
    "    kinetic_term = np.kron(I_f, p2)\n",
    "\n",
    "    # Potential term (W' contribution)\n",
    "    potential_term = np.kron(I_f, np.matmul(W_prime, W_prime))\n",
    "\n",
    "    # Construct the full Hamiltonian\n",
    "    H_SQM = 0.5 * (kinetic_term + potential_term + commutator_term)\n",
    "    H_SQM[np.abs(H_SQM) < 10e-12] = 0\n",
    "    \n",
    "    return H_SQM"
   ]
  },
  {
   "cell_type": "code",
   "execution_count": 4,
   "metadata": {},
   "outputs": [],
   "source": [
    "# Example usage for a 4x4 matrix\n",
    "cut_off = 4\n",
    "#potential = 'QHO'\n",
    "potential = 'AHO'\n",
    "H = calculate_Hamiltonian(cut_off, potential)\n",
    "#Hamiltonian = qml.pauli_decompose(H)\n",
    "hamiltonian = SparsePauliOp.from_operator(H)\n",
    "\n",
    "num_qubits = hamiltonian.num_qubits"
   ]
  },
  {
   "cell_type": "code",
   "execution_count": 96,
   "metadata": {},
   "outputs": [],
   "source": [
    "# Device\n",
    "dev = qml.device('default.qubit', wires=num_qubits)\n",
    "#dev = qml.device('lightning.qubit', wires=num_qubits)\n",
    "\n",
    "# Define the cost function\n",
    "@qml.qnode(dev)\n",
    "def cost_function(params):\n",
    "    params = params.reshape((1, 3, 3))\n",
    "    #ry_cnot_ansatz(params)\n",
    "    qml.StronglyEntanglingLayers(weights=params, wires=range(num_qubits), imprimitive=qml.CZ)\n",
    "    return qml.expval(qml.Hermitian(H, wires=range(num_qubits)))"
   ]
  },
  {
   "cell_type": "code",
   "execution_count": 97,
   "metadata": {},
   "outputs": [],
   "source": [
    "scale = 0.5\n",
    "#params = scale*np.pi*pnp.random.randn(num_qubits, requires_grad=True)\n",
    "params_shape = qml.StronglyEntanglingLayers.shape(n_layers=1, n_wires=num_qubits)\n",
    "params = scale*np.pi * pnp.random.random(size=params_shape)\n",
    "params = scale * pnp.random.random(size=params_shape)"
   ]
  },
  {
   "cell_type": "code",
   "execution_count": 98,
   "metadata": {},
   "outputs": [
    {
     "data": {
      "text/plain": [
       "(1, 3, 3)"
      ]
     },
     "execution_count": 98,
     "metadata": {},
     "output_type": "execute_result"
    }
   ],
   "source": [
    "params_shape"
   ]
  },
  {
   "cell_type": "code",
   "execution_count": 99,
   "metadata": {},
   "outputs": [],
   "source": [
    "# Define bounds for each parameter based on expected ranges (e.g., [0, 2π] for rotation angles)\n",
    "bounds = [(0, 2 * np.pi) for _ in range(9)]\n",
    "\n",
    "# Differential Evolution optimization\n",
    "result = differential_evolution(cost_function, bounds, maxiter=100, strategy='best1bin', popsize=15)\n",
    "params = result.x  # Extract optimized parameters\n"
   ]
  },
  {
   "cell_type": "code",
   "execution_count": 101,
   "metadata": {},
   "outputs": [],
   "source": [
    "stepsize = 0.25\n",
    "optimizer = AdamOptimizer(stepsize=stepsize) #, beta1=0.99, beta2=0.999, eps=1e-8"
   ]
  },
  {
   "cell_type": "code",
   "execution_count": 102,
   "metadata": {},
   "outputs": [
    {
     "name": "stdout",
     "output_type": "stream",
     "text": [
      "Iteration 0: Energy = -0.16478526051022124\n",
      "Converged at iteration 1\n",
      "Final optimized energy: -0.16478526051022124\n",
      "Optimized parameters: [1.7834145  3.14158474 4.31495884 6.22493516 0.54069763 6.28318367\n",
      " 4.26804093 6.28318531 2.28683722]\n"
     ]
    },
    {
     "name": "stderr",
     "output_type": "stream",
     "text": [
      "c:\\Users\\Johnk\\OneDrive\\Desktop\\PhD 2024\\Quantum Computing Code\\Quantum-Computing\\.venv\\lib\\site-packages\\pennylane\\_grad.py:158: UserWarning: Attempted to differentiate a function with no trainable parameters. If this is unintended, please add trainable parameters via the 'requires_grad' attribute or 'argnum' keyword.\n",
      "  warnings.warn(\n",
      "c:\\Users\\Johnk\\OneDrive\\Desktop\\PhD 2024\\Quantum Computing Code\\Quantum-Computing\\.venv\\lib\\site-packages\\pennylane\\_grad.py:158: UserWarning: Attempted to differentiate a function with no trainable parameters. If this is unintended, please add trainable parameters via the 'requires_grad' attribute or 'argnum' keyword.\n",
      "  warnings.warn(\n"
     ]
    }
   ],
   "source": [
    "# Run the VQE optimization loop\n",
    "max_iterations = 5000\n",
    "convergence_tol = 1e-8\n",
    "prev_energy = None\n",
    "energies = []\n",
    "\n",
    "\n",
    "for i in range(max_iterations):\n",
    "    params, energy = optimizer.step_and_cost(cost_function, params)\n",
    "    energies.append(energy)\n",
    "    \n",
    "    # Print the energy every few steps\n",
    "    if i % 10 == 0:\n",
    "        print(f\"Iteration {i}: Energy = {energy}\")\n",
    "\n",
    "    # Check for convergence\n",
    "    if prev_energy is not None and np.abs(energy - prev_energy) < convergence_tol:\n",
    "        print(f\"Converged at iteration {i}\")\n",
    "        break\n",
    "\n",
    "    prev_energy = energy\n",
    "\n",
    "print(\"Final optimized energy:\", energy)\n",
    "print(\"Optimized parameters:\", params)"
   ]
  },
  {
   "cell_type": "code",
   "execution_count": 51,
   "metadata": {},
   "outputs": [
    {
     "data": {
      "image/png": "[encoded data removed]",
      "text/plain": [
       "<Figure size 2000x600 with 1 Axes>"
      ]
     },
     "metadata": {},
     "output_type": "display_data"
    }
   ],
   "source": [
    "plt.figure(figsize=(20, 6))\n",
    "plt.plot(energies, marker='.', linestyle='-', color='b', label=\"Energy\")\n",
    "plt.xlabel(\"Index\")\n",
    "plt.ylabel(\"Energy\")\n",
    "plt.title(\"Energy vs. Index\")\n",
    "plt.grid(True)\n",
    "plt.legend()\n",
    "plt.show()"
   ]
  },
  {
   "cell_type": "code",
   "execution_count": null,
   "metadata": {},
   "outputs": [],
   "source": []
  }
 ],
 "metadata": {
  "kernelspec": {
   "display_name": ".venv",
   "language": "python",
   "name": "python3"
  },
  "language_info": {
   "codemirror_mode": {
    "name": "ipython",
    "version": 3
   },
   "file_extension": ".py",
   "mimetype": "text/x-python",
   "name": "python",
   "nbconvert_exporter": "python",
   "pygments_lexer": "ipython3",
   "version": "3.10.4"
  }
 },
 "nbformat": 4,
 "nbformat_minor": 2
}
