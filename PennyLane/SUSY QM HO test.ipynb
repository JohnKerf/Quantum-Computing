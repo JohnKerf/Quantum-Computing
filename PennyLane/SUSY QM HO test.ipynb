{
 "cells": [
  {
   "cell_type": "code",
   "execution_count": 15,
   "metadata": {},
   "outputs": [],
   "source": [
    "# PennyLane imports\n",
    "import pennylane as qml\n",
    "from pennylane import numpy as np\n",
    "\n",
    "# General imports\n",
    "import numpy as np\n",
    "import re\n",
    "\n",
    "# Pre-defined ansatz circuit and operator class for Hamiltonian\n",
    "from qiskit.circuit.library import EfficientSU2, TwoLocal\n",
    "from qiskit.quantum_info import SparsePauliOp\n",
    "\n",
    "# SciPy minimizer routine\n",
    "from scipy.optimize import minimize\n",
    "\n",
    "# Plotting functions\n",
    "import matplotlib.pyplot as plt\n",
    "\n",
    "# runtime imports\n",
    "from qiskit_ibm_runtime import QiskitRuntimeService, Session\n",
    "from qiskit_ibm_runtime import EstimatorV2 as Estimator\n",
    "from qiskit_aer import AerSimulator\n",
    "from qiskit.transpiler.preset_passmanagers import generate_preset_pass_manager\n",
    "\n",
    "aer_sim = AerSimulator()\n",
    "pm = generate_preset_pass_manager(backend=aer_sim, optimization_level=3)"
   ]
  },
  {
   "cell_type": "code",
   "execution_count": 3,
   "metadata": {},
   "outputs": [],
   "source": [
    "def create_matrix(cut_off, type):\n",
    "    # Initialize a zero matrix of the specified size\n",
    "    matrix = np.zeros((cut_off, cut_off), dtype=complex)\n",
    "    \n",
    "    # Fill the off-diagonal values with square roots of integers\n",
    "    for i in range(cut_off):\n",
    "        if i > 0:  # Fill left off-diagonal\n",
    "            if type == 'q':\n",
    "                matrix[i][i - 1] = (1/np.sqrt(2)) * np.sqrt(i)  # sqrt(i) for left off-diagonal\n",
    "            else:\n",
    "                matrix[i][i - 1] = (1j/np.sqrt(2)) * np.sqrt(i)\n",
    "\n",
    "        if i < cut_off - 1:  # Fill right off-diagonal\n",
    "            if type == 'q':\n",
    "                matrix[i][i + 1] = (1/np.sqrt(2)) * np.sqrt(i + 1)  # sqrt(i + 1) for right off-diagonal\n",
    "            else:\n",
    "                matrix[i][i + 1] = (-1j/np.sqrt(2)) * np.sqrt(i + 1)\n",
    "\n",
    "    return matrix"
   ]
  },
  {
   "cell_type": "code",
   "execution_count": 4,
   "metadata": {},
   "outputs": [],
   "source": [
    "def convert_qiskit_pauli_string(s):\n",
    "    # Find all characters followed by a number in brackets\n",
    "    matches = re.findall(r'([A-Za-z])\\((\\d+)\\)', s)\n",
    "\n",
    "    # Sort the matches based on the order number (second element in tuple)\n",
    "    sorted_matches = sorted(matches, key=lambda x: int(x[1]))\n",
    "\n",
    "    # Join the characters in the sorted order\n",
    "    return ''.join([char for char, _ in sorted_matches])"
   ]
  },
  {
   "cell_type": "code",
   "execution_count": 5,
   "metadata": {},
   "outputs": [],
   "source": [
    "# Example usage for a 4x4 matrix\n",
    "cut_off = 4\n",
    "q = create_matrix(cut_off, 'q')\n",
    "p = create_matrix(cut_off, 'p')\n",
    "H = np.matmul(q,q) + np.matmul(p,p) - 0.5\n",
    "\n",
    "pauli_decomposed = qml.pauli_decompose(H)\n",
    "coeffs = pauli_decomposed.coeffs\n",
    "\n",
    "paulis = []\n",
    "\n",
    "for x in pauli_decomposed.terms()[1]:\n",
    "    paulis.append(convert_qiskit_pauli_string(str(x)))\n"
   ]
  },
  {
   "cell_type": "code",
   "execution_count": 23,
   "metadata": {},
   "outputs": [],
   "source": [
    "hamiltonian = SparsePauliOp(paulis, coeffs=coeffs)\n",
    "#hamiltonian = SparsePauliOp.from_list([('III',2), ('IIZ',0.5), ('IZI', -1), ('ZZI',-0.5)])\n",
    "ansatz = EfficientSU2(hamiltonian.num_qubits)\n",
    "#ansatz = TwoLocal(hamiltonian.num_qubits, ['ry', 'rz'], 'cx', reps=3, entanglement='full')\n",
    "ansatz_isa = pm.run(ansatz)\n",
    "hamiltonian_isa = hamiltonian.apply_layout(layout=ansatz_isa.layout)"
   ]
  },
  {
   "cell_type": "code",
   "execution_count": 18,
   "metadata": {},
   "outputs": [
    {
     "data": {
      "text/plain": [
       "SparsePauliOp(['II', 'IX', 'XI', 'XX', 'ZI', 'ZZ'],\n",
       "              coeffs=[ 2.5+0.j, -0.5+0.j, -0.5+0.j, -0.5+0.j, -1. +0.j, -1. +0.j])"
      ]
     },
     "execution_count": 18,
     "metadata": {},
     "output_type": "execute_result"
    }
   ],
   "source": [
    "hamiltonian_isa"
   ]
  },
  {
   "cell_type": "code",
   "execution_count": 19,
   "metadata": {},
   "outputs": [],
   "source": [
    "cost_history_dict = {\n",
    "    \"prev_vector\": None,\n",
    "    \"iters\": 0,\n",
    "    \"cost_history\": [],\n",
    "}\n",
    "\n",
    "def cost_func(params, ansatz, hamiltonian, estimator):\n",
    "    \"\"\"Return estimate of energy from estimator\n",
    "\n",
    "    Parameters:\n",
    "        params (ndarray): Array of ansatz parameters\n",
    "        ansatz (QuantumCircuit): Parameterized ansatz circuit\n",
    "        hamiltonian (SparsePauliOp): Operator representation of Hamiltonian\n",
    "        estimator (EstimatorV2): Estimator primitive instance\n",
    "        cost_history_dict: Dictionary for storing intermediate results\n",
    "\n",
    "    Returns:\n",
    "        float: Energy estimate\n",
    "    \"\"\"\n",
    "    pub = (ansatz, [hamiltonian], [params])\n",
    "    result = estimator.run(pubs=[pub]).result()\n",
    "    energy = result[0].data.evs[0]\n",
    "\n",
    "    cost_history_dict[\"iters\"] += 1\n",
    "    cost_history_dict[\"prev_vector\"] = params\n",
    "    cost_history_dict[\"cost_history\"].append(energy)\n",
    "    print(f\"Iters. done: {cost_history_dict['iters']} [Current cost: {energy}]\")\n",
    "\n",
    "    return energy"
   ]
  },
  {
   "cell_type": "code",
   "execution_count": 20,
   "metadata": {},
   "outputs": [],
   "source": [
    "num_params = ansatz.num_parameters\n",
    "x0 = 2 * np.pi * np.random.random(num_params)"
   ]
  },
  {
   "cell_type": "code",
   "execution_count": 21,
   "metadata": {},
   "outputs": [
    {
     "data": {
      "text/plain": [
       "array([1.45462561, 1.64904057, 3.54397127, 5.31402577, 0.54761355,\n",
       "       4.51080601, 2.52700516, 3.84249044, 5.62305034, 2.59606325,\n",
       "       3.07419017, 2.58750091, 3.89687245, 1.01233121, 5.47316758,\n",
       "       2.77857661])"
      ]
     },
     "execution_count": 21,
     "metadata": {},
     "output_type": "execute_result"
    }
   ],
   "source": [
    "x0"
   ]
  },
  {
   "cell_type": "code",
   "execution_count": 22,
   "metadata": {},
   "outputs": [
    {
     "name": "stdout",
     "output_type": "stream",
     "text": [
      "Iters. done: 1 [Current cost: 2.1872]\n",
      "Iters. done: 2 [Current cost: 2.3364]\n",
      "Iters. done: 3 [Current cost: 2.3174]\n",
      "Iters. done: 4 [Current cost: 2.5695999999999994]\n",
      "Iters. done: 5 [Current cost: 2.1041999999999996]\n",
      "Iters. done: 6 [Current cost: 2.8876]\n",
      "Iters. done: 7 [Current cost: 2.275]\n",
      "Iters. done: 8 [Current cost: 2.9052000000000002]\n",
      "Iters. done: 9 [Current cost: 1.9472000000000003]\n",
      "Iters. done: 10 [Current cost: 2.2272]\n",
      "Iters. done: 11 [Current cost: 2.1106]\n",
      "Iters. done: 12 [Current cost: 2.8126]\n",
      "Iters. done: 13 [Current cost: 1.5942]\n",
      "Iters. done: 14 [Current cost: 2.3811999999999998]\n",
      "Iters. done: 15 [Current cost: 1.6422000000000003]\n",
      "Iters. done: 16 [Current cost: 1.9697999999999998]\n",
      "Iters. done: 17 [Current cost: 1.655]\n",
      "Iters. done: 18 [Current cost: 2.3869999999999996]\n",
      "Iters. done: 19 [Current cost: 1.8234000000000001]\n",
      "Iters. done: 20 [Current cost: 1.7075999999999998]\n",
      "Iters. done: 21 [Current cost: 1.319]\n",
      "Iters. done: 22 [Current cost: 1.1406000000000003]\n",
      "Iters. done: 23 [Current cost: 0.9653999999999998]\n",
      "Iters. done: 24 [Current cost: 0.8700000000000001]\n",
      "Iters. done: 25 [Current cost: 0.8924]\n",
      "Iters. done: 26 [Current cost: 0.8028]\n",
      "Iters. done: 27 [Current cost: 1.1349999999999998]\n",
      "Iters. done: 28 [Current cost: 0.825]\n",
      "Iters. done: 29 [Current cost: 0.8904000000000001]\n",
      "Iters. done: 30 [Current cost: 0.6194]\n",
      "Iters. done: 31 [Current cost: 0.4102]\n",
      "Iters. done: 32 [Current cost: 0.4760000000000001]\n",
      "Iters. done: 33 [Current cost: 0.4228000000000004]\n",
      "Iters. done: 34 [Current cost: 0.5286000000000002]\n",
      "Iters. done: 35 [Current cost: 0.6072]\n",
      "Iters. done: 36 [Current cost: 0.2636000000000003]\n",
      "Iters. done: 37 [Current cost: 0.19400000000000017]\n",
      "Iters. done: 38 [Current cost: 0.44140000000000057]\n",
      "Iters. done: 39 [Current cost: 0.22880000000000023]\n",
      "Iters. done: 40 [Current cost: 0.42260000000000053]\n",
      "Iters. done: 41 [Current cost: 0.27880000000000005]\n",
      "Iters. done: 42 [Current cost: 0.11920000000000042]\n",
      "Iters. done: 43 [Current cost: 0.20900000000000052]\n",
      "Iters. done: 44 [Current cost: 0.24900000000000022]\n",
      "Iters. done: 45 [Current cost: 0.21180000000000043]\n",
      "Iters. done: 46 [Current cost: 0.14840000000000053]\n",
      "Iters. done: 47 [Current cost: 0.16500000000000048]\n",
      "Iters. done: 48 [Current cost: 0.26540000000000064]\n",
      "Iters. done: 49 [Current cost: 0.23860000000000026]\n",
      "Iters. done: 50 [Current cost: 0.18880000000000052]\n",
      "Iters. done: 51 [Current cost: 0.16800000000000037]\n",
      "Iters. done: 52 [Current cost: 0.15400000000000014]\n",
      "Iters. done: 53 [Current cost: 0.1502000000000001]\n",
      "Iters. done: 54 [Current cost: 0.1314000000000003]\n",
      "Iters. done: 55 [Current cost: 0.12040000000000028]\n",
      "Iters. done: 56 [Current cost: 0.11360000000000026]\n",
      "Iters. done: 57 [Current cost: 0.10760000000000036]\n",
      "Iters. done: 58 [Current cost: 0.17280000000000006]\n",
      "Iters. done: 59 [Current cost: 0.23580000000000056]\n",
      "Iters. done: 60 [Current cost: 0.1544000000000002]\n",
      "Iters. done: 61 [Current cost: 0.13160000000000072]\n",
      "Iters. done: 62 [Current cost: 0.13780000000000048]\n",
      "Iters. done: 63 [Current cost: 0.11860000000000048]\n",
      "Iters. done: 64 [Current cost: 0.13580000000000003]\n",
      "Iters. done: 65 [Current cost: 0.18240000000000012]\n",
      "Iters. done: 66 [Current cost: 0.14900000000000058]\n",
      "Iters. done: 67 [Current cost: 0.13480000000000036]\n",
      "Iters. done: 68 [Current cost: 0.1504000000000002]\n",
      "Iters. done: 69 [Current cost: 0.1434000000000003]\n",
      "Iters. done: 70 [Current cost: 0.12880000000000036]\n",
      "Iters. done: 71 [Current cost: 0.14860000000000018]\n",
      "Iters. done: 72 [Current cost: 0.14980000000000038]\n",
      "Iters. done: 73 [Current cost: 0.11120000000000063]\n",
      "Iters. done: 74 [Current cost: 0.16160000000000008]\n",
      "Iters. done: 75 [Current cost: 0.15820000000000045]\n",
      "Iters. done: 76 [Current cost: 0.1486000000000004]\n",
      "Iters. done: 77 [Current cost: 0.14060000000000028]\n",
      "Iters. done: 78 [Current cost: 0.13720000000000032]\n",
      "Iters. done: 79 [Current cost: 0.1494000000000003]\n",
      "Iters. done: 80 [Current cost: 0.15060000000000007]\n",
      "Iters. done: 81 [Current cost: 0.13600000000000012]\n",
      "Iters. done: 82 [Current cost: 0.15180000000000005]\n",
      "Iters. done: 83 [Current cost: 0.13040000000000018]\n",
      "Iters. done: 84 [Current cost: 0.1488000000000005]\n",
      "Iters. done: 85 [Current cost: 0.14100000000000046]\n",
      "Iters. done: 86 [Current cost: 0.12360000000000027]\n",
      "Iters. done: 87 [Current cost: 0.13180000000000003]\n",
      "Iters. done: 88 [Current cost: 0.13280000000000036]\n",
      "Iters. done: 89 [Current cost: 0.15200000000000036]\n",
      "Iters. done: 90 [Current cost: 0.12300000000000022]\n",
      "Iters. done: 91 [Current cost: 0.13420000000000043]\n",
      "Iters. done: 92 [Current cost: 0.10280000000000056]\n",
      "Iters. done: 93 [Current cost: 0.12380000000000002]\n",
      "Iters. done: 94 [Current cost: 0.12640000000000018]\n",
      "Iters. done: 95 [Current cost: 0.13800000000000057]\n",
      "Iters. done: 96 [Current cost: 0.13360000000000005]\n",
      "Iters. done: 97 [Current cost: 0.1312000000000002]\n",
      "Iters. done: 98 [Current cost: 0.12800000000000022]\n",
      "Iters. done: 99 [Current cost: 0.14200000000000046]\n",
      "Iters. done: 100 [Current cost: 0.14880000000000038]\n",
      "Iters. done: 101 [Current cost: 0.09760000000000035]\n",
      "Iters. done: 102 [Current cost: 0.13160000000000038]\n",
      "Iters. done: 103 [Current cost: 0.12760000000000027]\n",
      "Iters. done: 104 [Current cost: 0.12200000000000055]\n",
      "Iters. done: 105 [Current cost: 0.14400000000000002]\n",
      "Iters. done: 106 [Current cost: 0.13980000000000015]\n",
      "Iters. done: 107 [Current cost: 0.12480000000000047]\n",
      "Iters. done: 108 [Current cost: 0.1314000000000004]\n",
      "Iters. done: 109 [Current cost: 0.0952000000000004]\n",
      "Iters. done: 110 [Current cost: 0.14720000000000033]\n",
      "Iters. done: 111 [Current cost: 0.1272000000000003]\n",
      "Iters. done: 112 [Current cost: 0.1374000000000003]\n",
      "Iters. done: 113 [Current cost: 0.13520000000000043]\n",
      "Iters. done: 114 [Current cost: 0.14740000000000042]\n",
      "Iters. done: 115 [Current cost: 0.12780000000000058]\n",
      "Iters. done: 116 [Current cost: 0.1282000000000003]\n",
      "Iters. done: 117 [Current cost: 0.14820000000000033]\n",
      "Iters. done: 118 [Current cost: 0.13800000000000057]\n",
      "Iters. done: 119 [Current cost: 0.1468000000000007]\n",
      "Iters. done: 120 [Current cost: 0.12900000000000011]\n",
      "Iters. done: 121 [Current cost: 0.12480000000000024]\n",
      "Iters. done: 122 [Current cost: 0.1262000000000003]\n",
      "Iters. done: 123 [Current cost: 0.12500000000000033]\n",
      "Iters. done: 124 [Current cost: 0.12880000000000025]\n",
      "Iters. done: 125 [Current cost: 0.11200000000000032]\n",
      "Iters. done: 126 [Current cost: 0.11600000000000033]\n",
      "Iters. done: 127 [Current cost: 0.12260000000000049]\n",
      "Iters. done: 128 [Current cost: 0.13319999999999987]\n",
      "Iters. done: 129 [Current cost: 0.14340000000000053]\n",
      "Iters. done: 130 [Current cost: 0.11880000000000057]\n",
      "Iters. done: 131 [Current cost: 0.1206000000000006]\n",
      "Iters. done: 132 [Current cost: 0.13640000000000063]\n",
      "Iters. done: 133 [Current cost: 0.14840000000000064]\n",
      "Iters. done: 134 [Current cost: 0.12980000000000025]\n",
      "Iters. done: 135 [Current cost: 0.11960000000000037]\n",
      "Iters. done: 136 [Current cost: 0.1184000000000005]\n",
      "Iters. done: 137 [Current cost: 0.15160000000000007]\n",
      "Iters. done: 138 [Current cost: 0.14560000000000006]\n",
      "Iters. done: 139 [Current cost: 0.1264000000000004]\n",
      "Iters. done: 140 [Current cost: 0.1456000000000005]\n",
      "Iters. done: 141 [Current cost: 0.13840000000000063]\n",
      "Iters. done: 142 [Current cost: 0.1442000000000001]\n",
      "Iters. done: 143 [Current cost: 0.1550000000000007]\n",
      "Iters. done: 144 [Current cost: 0.14040000000000008]\n",
      "Iters. done: 145 [Current cost: 0.14480000000000037]\n",
      "Iters. done: 146 [Current cost: 0.14700000000000024]\n",
      "Iters. done: 147 [Current cost: 0.1284000000000003]\n",
      "Iters. done: 148 [Current cost: 0.14780000000000026]\n",
      "Iters. done: 149 [Current cost: 0.1374000000000003]\n",
      "Iters. done: 150 [Current cost: 0.12780000000000036]\n",
      "Iters. done: 151 [Current cost: 0.14240000000000053]\n",
      "Iters. done: 152 [Current cost: 0.12900000000000034]\n",
      "Iters. done: 153 [Current cost: 0.14080000000000026]\n",
      "Iters. done: 154 [Current cost: 0.16300000000000014]\n",
      "Iters. done: 155 [Current cost: 0.12740000000000062]\n",
      "Iters. done: 156 [Current cost: 0.15220000000000067]\n",
      "Iters. done: 157 [Current cost: 0.12919999999999998]\n",
      "Iters. done: 158 [Current cost: 0.14000000000000046]\n",
      "Iters. done: 159 [Current cost: 0.11220000000000019]\n",
      "Iters. done: 160 [Current cost: 0.1262000000000002]\n",
      "Iters. done: 161 [Current cost: 0.1152000000000003]\n",
      "Iters. done: 162 [Current cost: 0.1424000000000003]\n",
      "Iters. done: 163 [Current cost: 0.1222000000000002]\n",
      "Iters. done: 164 [Current cost: 0.12480000000000024]\n",
      "Iters. done: 165 [Current cost: 0.11760000000000048]\n",
      "Iters. done: 166 [Current cost: 0.12880000000000003]\n",
      "Iters. done: 167 [Current cost: 0.11280000000000023]\n",
      "Iters. done: 168 [Current cost: 0.16040000000000043]\n",
      "Iters. done: 169 [Current cost: 0.12620000000000053]\n",
      "Iters. done: 170 [Current cost: 0.11800000000000033]\n",
      "Iters. done: 171 [Current cost: 0.10760000000000036]\n",
      "Iters. done: 172 [Current cost: 0.11020000000000063]\n"
     ]
    }
   ],
   "source": [
    "with Session(backend=aer_sim) as session:\n",
    "    estimator = Estimator(mode=session)\n",
    "    estimator.options.default_shots = 10000\n",
    "    #estimator.options.optimization_level = 1\n",
    "\n",
    "    res = minimize(\n",
    "        cost_func,\n",
    "        x0,\n",
    "        args=(ansatz_isa, hamiltonian_isa, estimator),\n",
    "        method=\"COBYLA\",\n",
    "    )"
   ]
  },
  {
   "cell_type": "code",
   "execution_count": 12,
   "metadata": {},
   "outputs": [
    {
     "data": {
      "text/plain": [
       " message: Optimization terminated successfully.\n",
       " success: True\n",
       "  status: 1\n",
       "     fun: 0.10542894571054295\n",
       "       x: [ 8.525e-01  1.312e+00 ...  6.398e-01  5.562e+00]\n",
       "    nfev: 194\n",
       "   maxcv: 0.0"
      ]
     },
     "execution_count": 12,
     "metadata": {},
     "output_type": "execute_result"
    }
   ],
   "source": [
    "res"
   ]
  },
  {
   "cell_type": "code",
   "execution_count": 13,
   "metadata": {},
   "outputs": [
    {
     "data": {
      "image/png": "[encoded data removed]",
      "text/plain": [
       "<Figure size 640x480 with 1 Axes>"
      ]
     },
     "metadata": {},
     "output_type": "display_data"
    }
   ],
   "source": [
    "fig, ax = plt.subplots()\n",
    "ax.plot(range(cost_history_dict[\"iters\"]), cost_history_dict[\"cost_history\"])\n",
    "ax.set_xlabel(\"Iterations\")\n",
    "ax.set_ylabel(\"Cost\")\n",
    "plt.draw()"
   ]
  },
  {
   "cell_type": "code",
   "execution_count": null,
   "metadata": {},
   "outputs": [],
   "source": []
  }
 ],
 "metadata": {
  "kernelspec": {
   "display_name": ".venv",
   "language": "python",
   "name": "python3"
  },
  "language_info": {
   "codemirror_mode": {
    "name": "ipython",
    "version": 3
   },
   "file_extension": ".py",
   "mimetype": "text/x-python",
   "name": "python",
   "nbconvert_exporter": "python",
   "pygments_lexer": "ipython3",
   "version": "3.10.4"
  }
 },
 "nbformat": 4,
 "nbformat_minor": 2
}
