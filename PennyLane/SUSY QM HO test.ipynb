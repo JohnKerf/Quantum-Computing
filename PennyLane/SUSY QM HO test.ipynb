{
 "cells": [
  {
   "cell_type": "code",
   "execution_count": 3,
   "metadata": {},
   "outputs": [],
   "source": [
    "# PennyLane imports\n",
    "import pennylane as qml\n",
    "from pennylane import numpy as np\n",
    "\n",
    "# General imports\n",
    "import numpy as np\n",
    "import re\n",
    "\n",
    "# Pre-defined ansatz circuit and operator class for Hamiltonian\n",
    "from qiskit.circuit.library import EfficientSU2, TwoLocal, RealAmplitudes\n",
    "from qiskit.quantum_info import SparsePauliOp\n",
    "\n",
    "# SciPy minimizer routine\n",
    "from scipy.optimize import minimize\n",
    "\n",
    "# Plotting functions\n",
    "import matplotlib.pyplot as plt\n",
    "\n",
    "# runtime imports\n",
    "from qiskit_ibm_runtime import QiskitRuntimeService, Session\n",
    "from qiskit_ibm_runtime import EstimatorV2 as Estimator\n",
    "from qiskit_aer import AerSimulator\n",
    "from qiskit.transpiler.preset_passmanagers import generate_preset_pass_manager\n",
    "\n",
    "aer_sim = AerSimulator()\n",
    "pm = generate_preset_pass_manager(backend=aer_sim, optimization_level=3)"
   ]
  },
  {
   "cell_type": "code",
   "execution_count": 98,
   "metadata": {},
   "outputs": [],
   "source": [
    "def create_matrix(cut_off, type):\n",
    "    # Initialize a zero matrix of the specified size\n",
    "    matrix = np.zeros((cut_off, cut_off), dtype=np.complex128)\n",
    "    \n",
    "    # Fill the off-diagonal values with square roots of integers\n",
    "    for i in range(cut_off):\n",
    "        if i > 0:  # Fill left off-diagonal\n",
    "            if type == 'q':\n",
    "                matrix[i][i - 1] = (1/np.sqrt(2)) * np.sqrt(i)  # sqrt(i) for left off-diagonal\n",
    "            else:\n",
    "                matrix[i][i - 1] = (1j/np.sqrt(2)) * np.sqrt(i)\n",
    "\n",
    "        if i < cut_off - 1:  # Fill right off-diagonal\n",
    "            if type == 'q':\n",
    "                matrix[i][i + 1] = (1/np.sqrt(2)) * np.sqrt(i + 1)  # sqrt(i + 1) for right off-diagonal\n",
    "            else:\n",
    "                matrix[i][i + 1] = (-1j/np.sqrt(2)) * np.sqrt(i + 1)\n",
    "\n",
    "    return matrix"
   ]
  },
  {
   "cell_type": "code",
   "execution_count": 99,
   "metadata": {},
   "outputs": [],
   "source": [
    "def convert_qiskit_pauli_string(s):\n",
    "    # Find all characters followed by a number in brackets\n",
    "    matches = re.findall(r'([A-Za-z])\\((\\d+)\\)', s)\n",
    "\n",
    "    # Sort the matches based on the order number (second element in tuple)\n",
    "    sorted_matches = sorted(matches, key=lambda x: int(x[1]))\n",
    "\n",
    "    # Join the characters in the sorted order\n",
    "    return ''.join([char for char, _ in sorted_matches])"
   ]
  },
  {
   "cell_type": "code",
   "execution_count": 100,
   "metadata": {},
   "outputs": [],
   "source": [
    "np.set_printoptions(precision=20)"
   ]
  },
  {
   "cell_type": "code",
   "execution_count": 160,
   "metadata": {},
   "outputs": [
    {
     "data": {
      "text/plain": [
       "array([[0.9999999999999998+0.j, 0.                +0.j],\n",
       "       [0.                +0.j, 0.9999999999999998+0.j]])"
      ]
     },
     "execution_count": 160,
     "metadata": {},
     "output_type": "execute_result"
    }
   ],
   "source": [
    "H #- np.eye(H.shape[0], dtype=np.complex128)"
   ]
  },
  {
   "cell_type": "code",
   "execution_count": 163,
   "metadata": {},
   "outputs": [],
   "source": [
    "# Example usage for a 4x4 matrix\n",
    "cut_off = 4\n",
    "q = create_matrix(cut_off, 'q')\n",
    "p = create_matrix(cut_off, 'p')\n",
    "H = np.matmul(q,q) + np.matmul(p,p) \n",
    "H -= 1.0 * np.eye(H.shape[0], dtype=complex)\n",
    "H = 0.5 * H\n",
    "\n",
    "pauli_decomposed = qml.pauli_decompose(H)\n",
    "coeffs = pauli_decomposed.coeffs\n",
    "\n",
    "paulis = []\n",
    "\n",
    "for x in pauli_decomposed.terms()[1]:\n",
    "    paulis.append(convert_qiskit_pauli_string(str(x)))\n"
   ]
  },
  {
   "cell_type": "code",
   "execution_count": 164,
   "metadata": {},
   "outputs": [
    {
     "data": {
      "text/plain": [
       "array([[-1.1102230246251565e-16+0.j,  0.0000000000000000e+00+0.j,\n",
       "         0.0000000000000000e+00+0.j,  0.0000000000000000e+00+0.j],\n",
       "       [ 0.0000000000000000e+00+0.j,  1.0000000000000000e+00+0.j,\n",
       "         0.0000000000000000e+00+0.j,  0.0000000000000000e+00+0.j],\n",
       "       [ 0.0000000000000000e+00+0.j,  0.0000000000000000e+00+0.j,\n",
       "         1.9999999999999996e+00+0.j,  0.0000000000000000e+00+0.j],\n",
       "       [ 0.0000000000000000e+00+0.j,  0.0000000000000000e+00+0.j,\n",
       "         0.0000000000000000e+00+0.j,  9.9999999999999978e-01+0.j]])"
      ]
     },
     "execution_count": 164,
     "metadata": {},
     "output_type": "execute_result"
    }
   ],
   "source": [
    "H"
   ]
  },
  {
   "cell_type": "code",
   "execution_count": 165,
   "metadata": {},
   "outputs": [],
   "source": [
    "hamiltonian = SparsePauliOp(paulis, coeffs=coeffs)\n",
    "#hamiltonian = SparsePauliOp.from_list([('III',2), ('IIZ',0.5), ('IZI', -1), ('ZZI',-0.5)])\n",
    "#ansatz = EfficientSU2(hamiltonian.num_qubits)\n",
    "#ansatz = TwoLocal(hamiltonian.num_qubits, ['ry', 'rz'], 'cx', reps=3, entanglement='full')\n",
    "ansatz = RealAmplitudes(num_qubits=hamiltonian.num_qubits, reps=1)\n",
    "ansatz_isa = pm.run(ansatz)\n",
    "hamiltonian_isa = hamiltonian.apply_layout(layout=ansatz_isa.layout)"
   ]
  },
  {
   "cell_type": "code",
   "execution_count": 166,
   "metadata": {},
   "outputs": [
    {
     "data": {
      "text/plain": [
       "SparsePauliOp(['II', 'ZI', 'ZZ'],\n",
       "              coeffs=[ 0.9999999999999998 +0.j, -0.49999999999999983+0.j,\n",
       " -0.49999999999999994+0.j])"
      ]
     },
     "execution_count": 166,
     "metadata": {},
     "output_type": "execute_result"
    }
   ],
   "source": [
    "hamiltonian_isa"
   ]
  },
  {
   "cell_type": "code",
   "execution_count": 167,
   "metadata": {},
   "outputs": [],
   "source": [
    "cost_history_dict = {\n",
    "    \"prev_vector\": None,\n",
    "    \"iters\": 0,\n",
    "    \"cost_history\": [],\n",
    "}\n",
    "\n",
    "def cost_func(params, ansatz, hamiltonian, estimator):\n",
    "    \"\"\"Return estimate of energy from estimator\n",
    "\n",
    "    Parameters:\n",
    "        params (ndarray): Array of ansatz parameters\n",
    "        ansatz (QuantumCircuit): Parameterized ansatz circuit\n",
    "        hamiltonian (SparsePauliOp): Operator representation of Hamiltonian\n",
    "        estimator (EstimatorV2): Estimator primitive instance\n",
    "        cost_history_dict: Dictionary for storing intermediate results\n",
    "\n",
    "    Returns:\n",
    "        float: Energy estimate\n",
    "    \"\"\"\n",
    "    pub = (ansatz, [hamiltonian], [params])\n",
    "    result = estimator.run(pubs=[pub]).result()\n",
    "    energy = result[0].data.evs[0]\n",
    "\n",
    "    cost_history_dict[\"iters\"] += 1\n",
    "    cost_history_dict[\"prev_vector\"] = params\n",
    "    cost_history_dict[\"cost_history\"].append(energy)\n",
    "    print(f\"Iters. done: {cost_history_dict['iters']} [Current cost: {energy}]\")\n",
    "\n",
    "    return energy"
   ]
  },
  {
   "cell_type": "code",
   "execution_count": 168,
   "metadata": {},
   "outputs": [],
   "source": [
    "num_params = ansatz.num_parameters\n",
    "x0 = 2 * np.pi * np.random.random(num_params)"
   ]
  },
  {
   "cell_type": "code",
   "execution_count": 169,
   "metadata": {},
   "outputs": [
    {
     "name": "stdout",
     "output_type": "stream",
     "text": [
      "Iters. done: 1 [Current cost: 1.0017999999999998]\n",
      "Iters. done: 2 [Current cost: 0.6604]\n",
      "Iters. done: 3 [Current cost: 1.1973999999999998]\n",
      "Iters. done: 4 [Current cost: 1.0682999999999998]\n",
      "Iters. done: 5 [Current cost: 1.1268999999999998]\n",
      "Iters. done: 6 [Current cost: 0.3249]\n",
      "Iters. done: 7 [Current cost: 0.30419999999999997]\n",
      "Iters. done: 8 [Current cost: 0.18870000000000003]\n",
      "Iters. done: 9 [Current cost: 0.5841999999999999]\n",
      "Iters. done: 10 [Current cost: 0.7202999999999998]\n",
      "Iters. done: 11 [Current cost: 0.11390000000000006]\n",
      "Iters. done: 12 [Current cost: 0.22619999999999985]\n",
      "Iters. done: 13 [Current cost: 0.16489999999999994]\n",
      "Iters. done: 14 [Current cost: 0.2361999999999999]\n",
      "Iters. done: 15 [Current cost: 0.07090000000000007]\n",
      "Iters. done: 16 [Current cost: 0.07399999999999995]\n",
      "Iters. done: 17 [Current cost: 0.11129999999999995]\n",
      "Iters. done: 18 [Current cost: 0.04740000000000005]\n",
      "Iters. done: 19 [Current cost: 0.05530000000000007]\n",
      "Iters. done: 20 [Current cost: 0.04780000000000001]\n",
      "Iters. done: 21 [Current cost: 0.0665]\n",
      "Iters. done: 22 [Current cost: 0.07170000000000004]\n",
      "Iters. done: 23 [Current cost: 0.03390000000000004]\n",
      "Iters. done: 24 [Current cost: 0.024399999999999977]\n",
      "Iters. done: 25 [Current cost: 0.01430000000000009]\n",
      "Iters. done: 26 [Current cost: 0.015899999999999914]\n",
      "Iters. done: 27 [Current cost: 0.018400000000000027]\n",
      "Iters. done: 28 [Current cost: 0.013299999999999979]\n",
      "Iters. done: 29 [Current cost: 0.020299999999999985]\n",
      "Iters. done: 30 [Current cost: 0.016400000000000026]\n",
      "Iters. done: 31 [Current cost: 0.007900000000000074]\n",
      "Iters. done: 32 [Current cost: 0.006000000000000061]\n",
      "Iters. done: 33 [Current cost: 0.0042999999999999705]\n",
      "Iters. done: 34 [Current cost: 0.004900000000000071]\n",
      "Iters. done: 35 [Current cost: 0.0033999999999999586]\n",
      "Iters. done: 36 [Current cost: 0.0020000000000000018]\n",
      "Iters. done: 37 [Current cost: 0.006700000000000039]\n",
      "Iters. done: 38 [Current cost: 0.0046999999999999265]\n",
      "Iters. done: 39 [Current cost: 0.0011999999999999789]\n",
      "Iters. done: 40 [Current cost: 0.0010999999999999344]\n",
      "Iters. done: 41 [Current cost: 0.0008000000000000229]\n",
      "Iters. done: 42 [Current cost: 0.0007999999999999674]\n",
      "Iters. done: 43 [Current cost: 0.0008000000000000229]\n",
      "Iters. done: 44 [Current cost: 0.0010999999999999899]\n",
      "Iters. done: 45 [Current cost: 0.0007999999999999674]\n",
      "Iters. done: 46 [Current cost: 0.0007999999999999674]\n",
      "Iters. done: 47 [Current cost: 0.00040000000000001146]\n",
      "Iters. done: 48 [Current cost: 0.0005999999999999894]\n",
      "Iters. done: 49 [Current cost: 0.0005000000000000004]\n",
      "Iters. done: 50 [Current cost: 0.00020000000000003348]\n",
      "Iters. done: 51 [Current cost: 0.0006999999999999784]\n",
      "Iters. done: 52 [Current cost: 0.0001000000000000445]\n",
      "Iters. done: 53 [Current cost: 0.00030000000000002247]\n",
      "Iters. done: 54 [Current cost: 0.00020000000000003348]\n",
      "Iters. done: 55 [Current cost: 0.00040000000000001146]\n",
      "Iters. done: 56 [Current cost: 0.0005999999999999894]\n",
      "Iters. done: 57 [Current cost: 0.00030000000000002247]\n",
      "Iters. done: 58 [Current cost: 0.0005000000000000004]\n",
      "Iters. done: 59 [Current cost: 0.00040000000000001146]\n",
      "Iters. done: 60 [Current cost: 0.00040000000000001146]\n",
      "Iters. done: 61 [Current cost: 0.00030000000000002247]\n",
      "Iters. done: 62 [Current cost: 0.0005000000000000004]\n",
      "Iters. done: 63 [Current cost: 0.0011999999999999234]\n",
      "Iters. done: 64 [Current cost: 0.0006999999999999784]\n",
      "Iters. done: 65 [Current cost: 0.0005999999999999894]\n",
      "Iters. done: 66 [Current cost: 0.0006999999999999784]\n",
      "Iters. done: 67 [Current cost: 0.0005999999999999894]\n",
      "Iters. done: 68 [Current cost: 0.00040000000000001146]\n",
      "Iters. done: 69 [Current cost: 0.00040000000000001146]\n",
      "Iters. done: 70 [Current cost: 0.0006999999999999784]\n",
      "Iters. done: 71 [Current cost: 0.0007999999999999674]\n"
     ]
    }
   ],
   "source": [
    "with Session(backend=aer_sim) as session:\n",
    "    estimator = Estimator(mode=session)\n",
    "    estimator.options.default_shots = 10000\n",
    "    #estimator.options.optimization_level = 1\n",
    "\n",
    "    res = minimize(\n",
    "        cost_func,\n",
    "        x0,\n",
    "        args=(ansatz_isa, hamiltonian_isa, estimator),\n",
    "        method=\"COBYLA\",\n",
    "    )"
   ]
  },
  {
   "cell_type": "code",
   "execution_count": 170,
   "metadata": {},
   "outputs": [
    {
     "data": {
      "text/plain": [
       " message: Optimization terminated successfully.\n",
       " success: True\n",
       "  status: 1\n",
       "     fun: 0.0007999999999999674\n",
       "       x: [ 6.225e+00  5.540e+00 -5.768e-02  7.375e-01]\n",
       "    nfev: 71\n",
       "   maxcv: 0.0"
      ]
     },
     "execution_count": 170,
     "metadata": {},
     "output_type": "execute_result"
    }
   ],
   "source": [
    "res"
   ]
  },
  {
   "cell_type": "code",
   "execution_count": 150,
   "metadata": {},
   "outputs": [
    {
     "data": {
      "image/png": "[encoded data removed]",
      "text/plain": [
       "<Figure size 640x480 with 1 Axes>"
      ]
     },
     "metadata": {},
     "output_type": "display_data"
    }
   ],
   "source": [
    "fig, ax = plt.subplots()\n",
    "ax.plot(range(cost_history_dict[\"iters\"]), cost_history_dict[\"cost_history\"])\n",
    "ax.set_xlabel(\"Iterations\")\n",
    "ax.set_ylabel(\"Cost\")\n",
    "plt.draw()"
   ]
  },
  {
   "cell_type": "code",
   "execution_count": null,
   "metadata": {},
   "outputs": [],
   "source": []
  }
 ],
 "metadata": {
  "kernelspec": {
   "display_name": ".venv",
   "language": "python",
   "name": "python3"
  },
  "language_info": {
   "codemirror_mode": {
    "name": "ipython",
    "version": 3
   },
   "file_extension": ".py",
   "mimetype": "text/x-python",
   "name": "python",
   "nbconvert_exporter": "python",
   "pygments_lexer": "ipython3",
   "version": "3.10.4"
  }
 },
 "nbformat": 4,
 "nbformat_minor": 2
}
