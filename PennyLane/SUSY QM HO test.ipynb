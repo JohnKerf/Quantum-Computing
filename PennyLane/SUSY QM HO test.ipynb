{
 "cells": [
  {
   "cell_type": "code",
   "execution_count": 115,
   "metadata": {},
   "outputs": [],
   "source": [
    "# PennyLane imports\n",
    "import pennylane as qml\n",
    "from pennylane import numpy as np\n",
    "\n",
    "# General imports\n",
    "import numpy as np\n",
    "import re\n",
    "\n",
    "# Pre-defined ansatz circuit and operator class for Hamiltonian\n",
    "from qiskit.circuit.library import EfficientSU2\n",
    "from qiskit.quantum_info import SparsePauliOp\n",
    "\n",
    "# SciPy minimizer routine\n",
    "from scipy.optimize import minimize\n",
    "\n",
    "# Plotting functions\n",
    "import matplotlib.pyplot as plt\n",
    "\n",
    "# runtime imports\n",
    "from qiskit_ibm_runtime import QiskitRuntimeService, Session\n",
    "from qiskit_ibm_runtime import EstimatorV2 as Estimator\n",
    "from qiskit_aer import AerSimulator\n",
    "from qiskit.transpiler.preset_passmanagers import generate_preset_pass_manager\n",
    "\n",
    "aer_sim = AerSimulator()\n",
    "pm = generate_preset_pass_manager(backend=aer_sim, optimization_level=3)"
   ]
  },
  {
   "cell_type": "code",
   "execution_count": 24,
   "metadata": {},
   "outputs": [],
   "source": [
    "def create_matrix(cut_off, type):\n",
    "    # Initialize a zero matrix of the specified size\n",
    "    matrix = np.zeros((cut_off, cut_off), dtype=complex)\n",
    "    \n",
    "    # Fill the off-diagonal values with square roots of integers\n",
    "    for i in range(cut_off):\n",
    "        if i > 0:  # Fill left off-diagonal\n",
    "            if type == 'q':\n",
    "                matrix[i][i - 1] = (1/np.sqrt(2)) * np.sqrt(i)  # sqrt(i) for left off-diagonal\n",
    "            else:\n",
    "                matrix[i][i - 1] = (1j/np.sqrt(2)) * np.sqrt(i)\n",
    "\n",
    "        if i < cut_off - 1:  # Fill right off-diagonal\n",
    "            if type == 'q':\n",
    "                matrix[i][i + 1] = (1/np.sqrt(2)) * np.sqrt(i + 1)  # sqrt(i + 1) for right off-diagonal\n",
    "            else:\n",
    "                matrix[i][i + 1] = (-1j/np.sqrt(2)) * np.sqrt(i + 1)\n",
    "\n",
    "    return matrix"
   ]
  },
  {
   "cell_type": "code",
   "execution_count": 129,
   "metadata": {},
   "outputs": [],
   "source": [
    "def convert_qiskit_pauli_string(s):\n",
    "    # Find all characters followed by a number in brackets\n",
    "    matches = re.findall(r'([A-Za-z])\\((\\d+)\\)', s)\n",
    "\n",
    "    # Sort the matches based on the order number (second element in tuple)\n",
    "    sorted_matches = sorted(matches, key=lambda x: int(x[1]))\n",
    "\n",
    "    # Join the characters in the sorted order\n",
    "    return ''.join([char for char, _ in sorted_matches])"
   ]
  },
  {
   "cell_type": "code",
   "execution_count": 183,
   "metadata": {},
   "outputs": [],
   "source": [
    "# Example usage for a 4x4 matrix\n",
    "cut_off = 2\n",
    "q = create_matrix(cut_off, 'q')\n",
    "p = create_matrix(cut_off, 'p')\n",
    "H = np.matmul(q,q) + np.matmul(p,p) - 0.5\n",
    "\n",
    "pauli_decomposed = qml.pauli_decompose(H)\n",
    "coeffs = pauli_decomposed.coeffs\n",
    "\n",
    "paulis = []\n",
    "\n",
    "for x in pauli_decomposed.terms()[1]:\n",
    "    paulis.append(convert_qiskit_pauli_string(str(x)))\n"
   ]
  },
  {
   "cell_type": "code",
   "execution_count": 184,
   "metadata": {},
   "outputs": [],
   "source": [
    "hamiltonian = SparsePauliOp(paulis, coeffs=coeffs)\n",
    "ansatz = EfficientSU2(hamiltonian.num_qubits)\n",
    "ansatz_isa = pm.run(ansatz)\n",
    "hamiltonian_isa = hamiltonian.apply_layout(layout=ansatz_isa.layout)"
   ]
  },
  {
   "cell_type": "code",
   "execution_count": 185,
   "metadata": {},
   "outputs": [],
   "source": [
    "cost_history_dict = {\n",
    "    \"prev_vector\": None,\n",
    "    \"iters\": 0,\n",
    "    \"cost_history\": [],\n",
    "}\n",
    "\n",
    "def cost_func(params, ansatz, hamiltonian, estimator):\n",
    "    \"\"\"Return estimate of energy from estimator\n",
    "\n",
    "    Parameters:\n",
    "        params (ndarray): Array of ansatz parameters\n",
    "        ansatz (QuantumCircuit): Parameterized ansatz circuit\n",
    "        hamiltonian (SparsePauliOp): Operator representation of Hamiltonian\n",
    "        estimator (EstimatorV2): Estimator primitive instance\n",
    "        cost_history_dict: Dictionary for storing intermediate results\n",
    "\n",
    "    Returns:\n",
    "        float: Energy estimate\n",
    "    \"\"\"\n",
    "    pub = (ansatz, [hamiltonian], [params])\n",
    "    result = estimator.run(pubs=[pub]).result()\n",
    "    energy = result[0].data.evs[0]\n",
    "\n",
    "    cost_history_dict[\"iters\"] += 1\n",
    "    cost_history_dict[\"prev_vector\"] = params\n",
    "    cost_history_dict[\"cost_history\"].append(energy)\n",
    "    print(f\"Iters. done: {cost_history_dict['iters']} [Current cost: {energy}]\")\n",
    "\n",
    "    return energy"
   ]
  },
  {
   "cell_type": "code",
   "execution_count": 186,
   "metadata": {},
   "outputs": [],
   "source": [
    "num_params = ansatz.num_parameters\n",
    "x0 = 2 * np.pi * np.random.random(num_params)"
   ]
  },
  {
   "cell_type": "code",
   "execution_count": 187,
   "metadata": {},
   "outputs": [
    {
     "name": "stdout",
     "output_type": "stream",
     "text": [
      "Iters. done: 1 [Current cost: 0.6128999999999998]\n",
      "Iters. done: 2 [Current cost: 0.4958999999999998]\n",
      "Iters. done: 3 [Current cost: 0.13459999999999978]\n",
      "Iters. done: 4 [Current cost: 0.24539999999999978]\n",
      "Iters. done: 5 [Current cost: 0.37009999999999976]\n",
      "Iters. done: 6 [Current cost: 0.021599999999999786]\n",
      "Iters. done: 7 [Current cost: 0.15169999999999978]\n",
      "Iters. done: 8 [Current cost: 0.12369999999999975]\n",
      "Iters. done: 9 [Current cost: 0.11599999999999977]\n",
      "Iters. done: 10 [Current cost: 0.006699999999999762]\n",
      "Iters. done: 11 [Current cost: 0.011699999999999766]\n",
      "Iters. done: 12 [Current cost: 0.0370999999999998]\n",
      "Iters. done: 13 [Current cost: 0.009799999999999753]\n",
      "Iters. done: 14 [Current cost: 0.010499999999999787]\n",
      "Iters. done: 15 [Current cost: 0.05479999999999979]\n",
      "Iters. done: 16 [Current cost: 0.002599999999999769]\n",
      "Iters. done: 17 [Current cost: 0.025199999999999778]\n",
      "Iters. done: 18 [Current cost: 0.030199999999999783]\n",
      "Iters. done: 19 [Current cost: 0.09499999999999975]\n",
      "Iters. done: 20 [Current cost: 0.012599999999999778]\n",
      "Iters. done: 21 [Current cost: 0.007499999999999785]\n",
      "Iters. done: 22 [Current cost: 0.003399999999999792]\n",
      "Iters. done: 23 [Current cost: 0.005299999999999805]\n",
      "Iters. done: 24 [Current cost: 0.021699999999999775]\n",
      "Iters. done: 25 [Current cost: 0.011499999999999788]\n",
      "Iters. done: 26 [Current cost: 0.01459999999999978]\n",
      "Iters. done: 27 [Current cost: 0.004399999999999793]\n",
      "Iters. done: 28 [Current cost: 0.004599999999999771]\n",
      "Iters. done: 29 [Current cost: 0.005299999999999805]\n",
      "Iters. done: 30 [Current cost: 0.0027999999999998026]\n",
      "Iters. done: 31 [Current cost: 0.005399999999999794]\n",
      "Iters. done: 32 [Current cost: 0.00019999999999975593]\n",
      "Iters. done: 33 [Current cost: 0.0006999999999997564]\n",
      "Iters. done: 34 [Current cost: 0.0004999999999997784]\n",
      "Iters. done: 35 [Current cost: -2.220446049250313e-16]\n",
      "Iters. done: 36 [Current cost: -2.220446049250313e-16]\n",
      "Iters. done: 37 [Current cost: 0.0038999999999997925]\n",
      "Iters. done: 38 [Current cost: 0.00019999999999975593]\n",
      "Iters. done: 39 [Current cost: 0.00019999999999975593]\n",
      "Iters. done: 40 [Current cost: -2.220446049250313e-16]\n",
      "Iters. done: 41 [Current cost: 9.999999999976694e-05]\n",
      "Iters. done: 42 [Current cost: 0.0002999999999998004]\n",
      "Iters. done: 43 [Current cost: -2.220446049250313e-16]\n",
      "Iters. done: 44 [Current cost: -2.220446049250313e-16]\n",
      "Iters. done: 45 [Current cost: 0.00019999999999975593]\n",
      "Iters. done: 46 [Current cost: 9.999999999976694e-05]\n",
      "Iters. done: 47 [Current cost: -2.220446049250313e-16]\n",
      "Iters. done: 48 [Current cost: 0.0003999999999997894]\n",
      "Iters. done: 49 [Current cost: -2.220446049250313e-16]\n",
      "Iters. done: 50 [Current cost: -2.220446049250313e-16]\n",
      "Iters. done: 51 [Current cost: -2.220446049250313e-16]\n",
      "Iters. done: 52 [Current cost: 9.999999999976694e-05]\n",
      "Iters. done: 53 [Current cost: -2.220446049250313e-16]\n",
      "Iters. done: 54 [Current cost: -2.220446049250313e-16]\n",
      "Iters. done: 55 [Current cost: -2.220446049250313e-16]\n",
      "Iters. done: 56 [Current cost: 9.999999999976694e-05]\n",
      "Iters. done: 57 [Current cost: -2.220446049250313e-16]\n",
      "Iters. done: 58 [Current cost: 9.999999999976694e-05]\n",
      "Iters. done: 59 [Current cost: 9.999999999976694e-05]\n",
      "Iters. done: 60 [Current cost: -2.220446049250313e-16]\n",
      "Iters. done: 61 [Current cost: 9.999999999976694e-05]\n",
      "Iters. done: 62 [Current cost: -2.220446049250313e-16]\n",
      "Iters. done: 63 [Current cost: 9.999999999976694e-05]\n",
      "Iters. done: 64 [Current cost: 9.999999999976694e-05]\n",
      "Iters. done: 65 [Current cost: 9.999999999976694e-05]\n",
      "Iters. done: 66 [Current cost: 9.999999999976694e-05]\n",
      "Iters. done: 67 [Current cost: 9.999999999976694e-05]\n",
      "Iters. done: 68 [Current cost: -2.220446049250313e-16]\n",
      "Iters. done: 69 [Current cost: -2.220446049250313e-16]\n",
      "Iters. done: 70 [Current cost: 9.999999999976694e-05]\n",
      "Iters. done: 71 [Current cost: -2.220446049250313e-16]\n",
      "Iters. done: 72 [Current cost: -2.220446049250313e-16]\n",
      "Iters. done: 73 [Current cost: -2.220446049250313e-16]\n",
      "Iters. done: 74 [Current cost: -2.220446049250313e-16]\n",
      "Iters. done: 75 [Current cost: -2.220446049250313e-16]\n",
      "Iters. done: 76 [Current cost: -2.220446049250313e-16]\n",
      "Iters. done: 77 [Current cost: 9.999999999976694e-05]\n",
      "Iters. done: 78 [Current cost: -2.220446049250313e-16]\n",
      "Iters. done: 79 [Current cost: -2.220446049250313e-16]\n",
      "Iters. done: 80 [Current cost: 0.0002999999999998004]\n",
      "Iters. done: 81 [Current cost: 9.999999999976694e-05]\n",
      "Iters. done: 82 [Current cost: -2.220446049250313e-16]\n",
      "Iters. done: 83 [Current cost: 9.999999999976694e-05]\n",
      "Iters. done: 84 [Current cost: -2.220446049250313e-16]\n",
      "Iters. done: 85 [Current cost: 9.999999999976694e-05]\n"
     ]
    }
   ],
   "source": [
    "with Session(backend=aer_sim) as session:\n",
    "    estimator = Estimator(mode=session)\n",
    "    estimator.options.default_shots = 10000\n",
    "\n",
    "    res = minimize(\n",
    "        cost_func,\n",
    "        x0,\n",
    "        args=(ansatz_isa, hamiltonian_isa, estimator),\n",
    "        method=\"cobyla\",\n",
    "    )"
   ]
  },
  {
   "cell_type": "code",
   "execution_count": 188,
   "metadata": {},
   "outputs": [
    {
     "data": {
      "text/plain": [
       " message: Optimization terminated successfully.\n",
       " success: True\n",
       "  status: 1\n",
       "     fun: 9.999999999976694e-05\n",
       "       x: [ 5.625e+00  5.060e+00  4.931e+00  2.852e+00  5.681e+00\n",
       "            5.742e+00  4.612e+00  1.904e+00]\n",
       "    nfev: 85\n",
       "   maxcv: 0.0"
      ]
     },
     "execution_count": 188,
     "metadata": {},
     "output_type": "execute_result"
    }
   ],
   "source": [
    "res"
   ]
  },
  {
   "cell_type": "code",
   "execution_count": 189,
   "metadata": {},
   "outputs": [
    {
     "data": {
      "image/png": "[encoded data removed]",
      "text/plain": [
       "<Figure size 640x480 with 1 Axes>"
      ]
     },
     "metadata": {},
     "output_type": "display_data"
    }
   ],
   "source": [
    "fig, ax = plt.subplots()\n",
    "ax.plot(range(cost_history_dict[\"iters\"]), cost_history_dict[\"cost_history\"])\n",
    "ax.set_xlabel(\"Iterations\")\n",
    "ax.set_ylabel(\"Cost\")\n",
    "plt.draw()"
   ]
  },
  {
   "cell_type": "code",
   "execution_count": null,
   "metadata": {},
   "outputs": [],
   "source": []
  }
 ],
 "metadata": {
  "kernelspec": {
   "display_name": ".venv",
   "language": "python",
   "name": "python3"
  },
  "language_info": {
   "codemirror_mode": {
    "name": "ipython",
    "version": 3
   },
   "file_extension": ".py",
   "mimetype": "text/x-python",
   "name": "python",
   "nbconvert_exporter": "python",
   "pygments_lexer": "ipython3",
   "version": "3.10.4"
  }
 },
 "nbformat": 4,
 "nbformat_minor": 2
}
