{
 "cells": [
  {
   "cell_type": "code",
   "execution_count": 2,
   "metadata": {},
   "outputs": [],
   "source": [
    "import numpy as np"
   ]
  },
  {
   "cell_type": "code",
   "execution_count": 3,
   "metadata": {},
   "outputs": [],
   "source": [
    "cutoff = 4\n",
    "N = 4\n",
    "potential = 'QHO'"
   ]
  },
  {
   "cell_type": "code",
   "execution_count": 4,
   "metadata": {},
   "outputs": [],
   "source": [
    "q_coeff = np.sqrt(1/(2*N))\n",
    "q = q_coeff * np.diag(np.linspace(-N + 1, N - 1, N))"
   ]
  },
  {
   "cell_type": "code",
   "execution_count": 5,
   "metadata": {},
   "outputs": [
    {
     "data": {
      "text/plain": [
       "array([[-1.06066017,  0.        ,  0.        ,  0.        ],\n",
       "       [ 0.        , -0.35355339,  0.        ,  0.        ],\n",
       "       [ 0.        ,  0.        ,  0.35355339,  0.        ],\n",
       "       [ 0.        ,  0.        ,  0.        ,  1.06066017]])"
      ]
     },
     "execution_count": 5,
     "metadata": {},
     "output_type": "execute_result"
    }
   ],
   "source": [
    "q"
   ]
  },
  {
   "cell_type": "code",
   "execution_count": 8,
   "metadata": {},
   "outputs": [],
   "source": [
    "p2_coeff = N/2\n",
    "\n",
    "diagonal = np.full(N, 2)\n",
    "off_diagonal = np.full(N - 1, -1)\n",
    "matrix = np.diag(diagonal) + np.diag(off_diagonal, k=1) + np.diag(off_diagonal, k=-1)\n",
    "\n",
    "p2 = p2_coeff*matrix"
   ]
  },
  {
   "cell_type": "code",
   "execution_count": 9,
   "metadata": {},
   "outputs": [
    {
     "data": {
      "text/plain": [
       "array([[ 4., -2.,  0.,  0.],\n",
       "       [-2.,  4., -2.,  0.],\n",
       "       [ 0., -2.,  4., -2.],\n",
       "       [ 0.,  0., -2.,  4.]])"
      ]
     },
     "execution_count": 9,
     "metadata": {},
     "output_type": "execute_result"
    }
   ],
   "source": [
    "p2"
   ]
  },
  {
   "cell_type": "code",
   "execution_count": null,
   "metadata": {},
   "outputs": [],
   "source": [
    "#b_cutoff = cutoff\n",
    "\n",
    "# Calculate q^2 and q^3\n",
    "q2 = np.matmul(q, q)\n",
    "q3 = np.matmul(q2, q)\n",
    "\n",
    "# Bosonic and fermionic identities\n",
    "#I_b = np.eye(b_cutoff)\n",
    "I_f = np.eye(2)\n",
    "\n",
    "# Superpotential derivatives\n",
    "if potential == 'QHO':\n",
    "    W_prime = q  # W'(q) = q\n",
    "    W_double_prime = I_b  # W''(q) = 1\n",
    "\n",
    "elif potential == 'AHO':\n",
    "    W_prime = q + q3  # W'(q) = q + q^3\n",
    "    W_double_prime = I_b + 3 * q2  # W''(q) = 1 + 3q^2\n",
    "\n",
    "elif potential == 'DW':\n",
    "    W_prime = q + q2 + I_b  # W'(q) = q + q^2 + 1\n",
    "    W_double_prime = I_b + 2 * q  # W''(q) = 1 + 2q\n",
    "\n",
    "else:\n",
    "    raise ValueError(\"Not a valid potential\")\n",
    "\n",
    "# Kinetic term: p^2 (finite difference Laplacian)\n",
    "#p2 = np.matmul(p, p)\n",
    "\n",
    "# Commutator term [b^†, b] = -Z\n",
    "Z = np.array([[1, 0], [0, -1]])  # Pauli Z matrix for fermion number\n",
    "commutator_term = np.kron(Z, W_double_prime)\n",
    "\n",
    "# Kinetic term (bosonic and fermionic parts)\n",
    "kinetic_term = np.kron(I_f, p2)\n",
    "\n",
    "# Potential term (W' contribution)\n",
    "potential_term = np.kron(I_f, np.matmul(W_prime, W_prime))\n",
    "\n",
    "# Construct the full Hamiltonian\n",
    "H_SQM = 0.5 * (kinetic_term + potential_term + commutator_term)\n",
    "H_SQM[np.abs(H_SQM) < 1e-12] = 0  # Eliminate small numerical artifacts\n"
   ]
  },
  {
   "cell_type": "code",
   "execution_count": 11,
   "metadata": {},
   "outputs": [
    {
     "data": {
      "text/plain": [
       "array([0.0625    , 1.0625    , 1.28172359, 2.28172359, 2.5625    ,\n",
       "       3.34327641, 3.5625    , 4.34327641])"
      ]
     },
     "execution_count": 11,
     "metadata": {},
     "output_type": "execute_result"
    }
   ],
   "source": [
    "np.sort(np.linalg.eig(H_SQM)[0])"
   ]
  },
  {
   "cell_type": "code",
   "execution_count": 12,
   "metadata": {},
   "outputs": [
    {
     "data": {
      "text/plain": [
       "np.float64(0.06250000000000022)"
      ]
     },
     "execution_count": 12,
     "metadata": {},
     "output_type": "execute_result"
    }
   ],
   "source": [
    "min(np.sort(np.linalg.eig(H_SQM)[0]))"
   ]
  },
  {
   "cell_type": "code",
   "execution_count": null,
   "metadata": {},
   "outputs": [],
   "source": []
  }
 ],
 "metadata": {
  "kernelspec": {
   "display_name": ".venv",
   "language": "python",
   "name": "python3"
  },
  "language_info": {
   "codemirror_mode": {
    "name": "ipython",
    "version": 3
   },
   "file_extension": ".py",
   "mimetype": "text/x-python",
   "name": "python",
   "nbconvert_exporter": "python",
   "pygments_lexer": "ipython3",
   "version": "3.10.0"
  }
 },
 "nbformat": 4,
 "nbformat_minor": 2
}
