{
 "cells": [
  {
   "cell_type": "code",
   "execution_count": 1,
   "metadata": {},
   "outputs": [],
   "source": [
    "# PennyLane imports\n",
    "import pennylane as qml\n",
    "from pennylane import numpy as pnp\n",
    "from pennylane.optimize import AdamOptimizer\n",
    "\n",
    "from scipy.optimize import differential_evolution, minimize\n",
    "\n",
    "# General imports\n",
    "import os\n",
    "import json\n",create_vqe_plots
    "import numpy as np\n",
    "from datetime import datetime\n",
    "import matplotlib.pyplot as plt\n",
    "\n",
    "from qiskit.quantum_info import SparsePauliOp\n",
    "\n",
    "# custom module\n",
    "from susy_qm import calculate_Hamiltonian, create_plots"
   ]
  },
  {
   "cell_type": "code",
   "execution_count": 65,
   "metadata": {},
   "outputs": [],
   "source": [
    "potential = 'QHO'\n",
    "#potential = 'AHO'\n",
    "#potential = 'DW'\n",
    "cut_off = 16"
   ]
  },
  {
   "cell_type": "code",
   "execution_count": 66,
   "metadata": {},
   "outputs": [],
   "source": [
    "#calculate Hamiltonian and expected eigenvalues\n",
    "H = calculate_Hamiltonian(cut_off, potential)\n",
    "eigenvalues = np.sort(np.linalg.eig(H)[0])\n",
    "min_eigenvalue = min(eigenvalues.real)\n",
    "\n",
    "#create qiskit Hamiltonian Pauli string\n",
    "hamiltonian = SparsePauliOp.from_operator(H)\n",
    "num_qubits = hamiltonian.num_qubits"
   ]
  },
  {
   "cell_type": "code",
   "execution_count": 67,
   "metadata": {},
   "outputs": [
    {
     "data": {
      "text/plain": [
       "5"
      ]
     },
     "execution_count": 67,
     "metadata": {},
     "output_type": "execute_result"
    }
   ],
   "source": [
    "num_qubits"
   ]
  },
  {
   "cell_type": "code",
   "execution_count": 68,
   "metadata": {},
   "outputs": [],
   "source": [
    "#Initial params shape\n",
    "num_layers = 1\n",
    "params_shape = qml.StronglyEntanglingLayers.shape(n_layers=num_layers, n_wires=num_qubits)"
   ]
  },
  {
   "cell_type": "code",
   "execution_count": 69,
   "metadata": {},
   "outputs": [],
   "source": [
    "def ansatz(params, wires):\n",
    "    params = pnp.tensor(params.reshape(params_shape), requires_grad=True)\n",
    "    qml.StronglyEntanglingLayers(weights=params, wires=wires, imprimitive=qml.CZ)"
   ]
  },
  {
   "cell_type": "code",
   "execution_count": 70,
   "metadata": {},
   "outputs": [],
   "source": [
    "# Device\n",
    "shots = None\n",
    "dev = qml.device('lightning.qubit', wires=2*num_qubits+1, shots=shots)\n",
    "\n",
    "@qml.qnode(dev)\n",
    "def swap_test(params1, params2):\n",
    "\n",
    "    params1 = pnp.tensor(params1.reshape(params_shape), requires_grad=True)\n",
    "    params2 = pnp.tensor(params2.reshape(params_shape), requires_grad=True)\n",
    "\n",
    "    ancilla = 2*num_qubits\n",
    "    qml.Hadamard(wires=ancilla)\n",
    "\n",
    "    ansatz(params1, wires=range(num_qubits))\n",
    "    ansatz(params2, wires=range(num_qubits, 2*num_qubits))\n",
    "\n",
    "    qml.Barrier()  # added to better visualise the circuit\n",
    "    for i in range(num_qubits):\n",
    "        qml.CSWAP(wires=[ancilla, i, num_qubits + i])\n",
    "\n",
    "    qml.Hadamard(wires=ancilla)\n",
    "\n",
    "    return qml.probs(wires=ancilla)"
   ]
  },
  {
   "cell_type": "code",
   "execution_count": 71,
   "metadata": {},
   "outputs": [
    {
     "name": "stdout",
     "output_type": "stream",
     "text": [
      " 0: ──Rot(4.73,1.45,0.36)─╭●──────────╭Z──||─╭SWAP────────────────────────────┤       \n",
      " 1: ──Rot(0.85,4.47,1.83)─╰Z─╭●───────│───||─│─────╭SWAP──────────────────────┤       \n",
      " 2: ──Rot(2.31,1.95,3.81)────╰Z─╭●────│───||─│─────│─────╭SWAP────────────────┤       \n",
      " 3: ──Rot(1.56,6.04,3.97)───────╰Z─╭●─│───||─│─────│─────│─────╭SWAP──────────┤       \n",
      " 4: ──Rot(2.95,3.38,2.45)──────────╰Z─╰●──||─│─────│─────│─────│─────╭SWAP────┤       \n",
      " 5: ──Rot(0.88,0.25,3.95)─╭●──────────╭Z──||─├SWAP─│─────│─────│─────│────────┤       \n",
      " 6: ──Rot(2.83,1.14,3.07)─╰Z─╭●───────│───||─│─────├SWAP─│─────│─────│────────┤       \n",
      " 7: ──Rot(2.77,3.74,2.77)────╰Z─╭●────│───||─│─────│─────├SWAP─│─────│────────┤       \n",
      " 8: ──Rot(0.71,0.31,1.08)───────╰Z─╭●─│───||─│─────│─────│─────├SWAP─│────────┤       \n",
      " 9: ──Rot(4.06,3.91,5.67)──────────╰Z─╰●──||─│─────│─────│─────│─────├SWAP────┤       \n",
      "10: ──H───────────────────────────────────||─╰●────╰●────╰●────╰●────╰●─────H─┤  Probs\n",
      "\n",
      "Overlap between the ground state and the ansatz: [0.52703858 0.47296142]\n"
     ]
    }
   ],
   "source": [
    "# Example parameters for testing the swap test\n",
    "params1 = np.random.uniform(0, 2 * np.pi, size=qml.StronglyEntanglingLayers.shape(1, num_qubits))\n",
    "params2 = np.random.uniform(0, 2 * np.pi, size=qml.StronglyEntanglingLayers.shape(1, num_qubits))\n",
    "\n",
    "# Run the swap test to get the probability of the ancilla being |0>\n",
    "result = swap_test(params1, params2)\n",
    "\n",
    "# The overlap is given by 2 * P(ancilla=0) - 1\n",
    "#overlap = 2 * result[0] - 1\n",
    "\n",
    "print(qml.draw(swap_test)(params1,params2))\n",
    "print(f\"\\nOverlap between the ground state and the ansatz: {result}\")"
   ]
  },
  {
   "cell_type": "code",
   "execution_count": 92,
   "metadata": {},
   "outputs": [],
   "source": [
    "# Device\n",
    "shots = None\n",
    "dev2 = qml.device('lightning.qubit', wires=num_qubits, shots=shots)\n",
    "\n",
    "@qml.qnode(dev2)\n",
    "def expected_value(params):\n",
    "    wires = range(num_qubits)\n",
    "    ansatz(params, wires)\n",
    "    return qml.expval(qml.Hermitian(H, wires=range(num_qubits)))\n",
    "\n",
    "\n",
    "def loss_f(params):\n",
    "    global prev_param_list, beta\n",
    "    energy = expected_value(params)\n",
    "\n",
    "    penalty = 0\n",
    "\n",
    "    if len(prev_param_list) != 0:\n",
    "        for prev_param in prev_param_list:\n",
    "            overlap =  (beta*swap_test(prev_param, params)[0]) - 1.0\n",
    "            penalty += (overlap)\n",
    "\n",
    "    return energy + (penalty)"
   ]
  },
  {
   "cell_type": "code",
   "execution_count": 93,
   "metadata": {},
   "outputs": [],
   "source": [
    "#Optimizer\n",
    "stepsize = 0.01\n",
    "optimizer = AdamOptimizer(stepsize=stepsize)"
   ]
  },
  {
   "cell_type": "code",
   "execution_count": 94,
   "metadata": {},
   "outputs": [
    {
     "name": "stdout",
     "output_type": "stream",
     "text": [
      "Run: 0\n",
      "True\n",
      "[2.6972319275886225e-08]\n",
      "Run: 1\n",
      "True\n",
      "[2.6972319275886225e-08, 0.9998869184484738]\n",
      "Overlaps with all previous states for run 1: [0.18436647121639305]\n",
      "Run: 2\n",
      "True\n",
      "[2.6972319275886225e-08, 0.9998869184484738, 1.0001130989565254]\n",
      "Overlaps with all previous states for run 2: [0.8156205871734099, 3.1582492177051336e-10]\n",
      "Run: 3\n",
      "True\n",
      "[2.6972319275886225e-08, 0.9998869184484738, 1.0001130989565254, 1.0000000188087215]\n",
      "Overlaps with all previous states for run 3: [2.7533531010703882e-14, 3.9968028886505635e-15, 8.870681966755001e-13]\n"
     ]
    }
   ],
   "source": [
    "vqd_start = datetime.now()\n",
    "\n",
    "#variables\n",
    "num_vqd_runs = 4\n",
    "max_iterations = 5000\n",
    "beta = 2.0#2.0\n",
    "tolerance = 1e-8\n",
    "moving_avg_length = 5\n",
    "\n",
    "#data arrays\n",
    "energies = []\n",
    "prev_param_list = []\n",
    "\n",
    "all_counts = []\n",
    "all_values = []\n",
    "all_steps = []\n",
    "\n",
    "all_overlaps = []\n",
    "\n",
    "for i in range(num_vqd_runs):\n",
    "\n",
    "    run_start = datetime.now()\n",
    "    converged = False\n",
    "    prev_energy = None\n",
    "\n",
    "    moving_average_check = False\n",
    "    gradient_norm_check = False\n",
    "\n",
    "    iteration_counter = 0\n",
    "    counts = []\n",
    "    values = []\n",
    "    steps = []\n",
    "\n",
    "    #Initial params\n",
    "    scale = 0.25\n",
    "    params_shape = qml.StronglyEntanglingLayers.shape(n_layers=1, n_wires=num_qubits)\n",
    "    params = scale*np.pi * pnp.random.random(size=params_shape)\n",
    "\n",
    "    if i % 1 == 0:\n",
    "        print(f\"Run: {i}\")\n",
    "\n",
    "    iter_energies = []\n",
    "\n",
    "    for _ in range(max_iterations):\n",
    "\n",
    "        params, energy = optimizer.step_and_cost(loss_f, params)\n",
    "        iter_energies.append(energy)\n",
    "\n",
    "        counts.append(_+1)\n",
    "        values.append(energy)  \n",
    "\n",
    "        # Moving average convergence check\n",
    "        if len(iter_energies) > moving_avg_length:\n",
    "            energy_moving_avg = np.mean(np.abs(np.diff(iter_energies[-moving_avg_length:])))\n",
    "            if energy_moving_avg < tolerance:\n",
    "                moving_average_check = True\n",
    "                converged = True\n",
    "                break\n",
    "    \n",
    "    all_counts.append(counts)\n",
    "    all_values.append(values)\n",
    "    all_steps.append(steps)            \n",
    "\n",
    "    print(converged)\n",
    "    energies.append(energy)\n",
    "    prev_param_list.append(params) \n",
    "    print(energies)\n",
    "\n",
    "    \n",
    "\n",
    "    # Calculate overlap with all previous states\n",
    "    overlaps = []\n",
    "    if i > 0:\n",
    "        for j in range(i):\n",
    "            overlap = (beta*swap_test(prev_param_list[j], params)[0]) - 1.0\n",
    "            overlaps.append(overlap)\n",
    "        all_overlaps.append(overlaps)\n",
    "        print(f\"Overlaps with all previous states for run {i}: {overlaps}\")\n"
   ]
  },
  {
   "cell_type": "code",
   "execution_count": 95,
   "metadata": {},
   "outputs": [
    {
     "data": {
      "image/png": "iVBORw0KGgoAAAANSUhEUgAAAmUAAAHWCAYAAAA2Of5hAAAAOXRFWHRTb2Z0d2FyZQBNYXRwbG90bGliIHZlcnNpb24zLjkuMiwgaHR0cHM6Ly9tYXRwbG90bGliLm9yZy8hTgPZAAAACXBIWXMAAA9hAAAPYQGoP6dpAAB/z0lEQVR4nO3dd3xT1f8G8OcmTdKZ7k1pCxSQIS1llS2rTBkqQ5ShMhSEiv4UHID6VRQFcSKKgILIUAFFQTYIFJllb8rsoi3dOzm/P0IDoS20pc1N2+f9Mia585OkKU/PPfdcSQghQERERESyUshdABERERExlBERERFZBIYyIiIiIgvAUEZERERkARjKiIiIiCwAQxkRERGRBWAoIyIiIrIADGVEREREFoChjIiIiMgCMJQRUY10/vx59OjRA46OjpAkCWvXrpW7pAo3atQo2Nvby11GjbZjxw5IkoQdO3bIXQpVAQxlVCZLliyBJEkl3vbt2yd3iZUuJycHn332GVq3bg1HR0dYW1ujfv36mDhxIs6dOyd3eVRKI0eOxPHjx/HBBx9g6dKlaNGiRaXt6/Lly/f93nz00UeVtu+KsGbNGvTq1Qtubm5Qq9Xw8fHB4MGDsW3bNrlLqzAffvih7MH8+PHjePLJJ+Hv7w9ra2v4+vqie/fu+PLLL02We9haT506hZkzZ+Ly5csPVzBVOCu5C6Cq6b333kNgYGCR6fXq1ZOhGvNJTExEz549cejQIfTt2xdPP/007O3tcfbsWaxYsQLfffcd8vLy5C6THiA7OxuRkZF46623MHHiRLPtd9iwYejdu3eR6SEhIWaroSyEEHjuueewZMkShISEYMqUKfDy8kJsbCzWrFmDrl27Ys+ePWjbtq3cpT60Dz/8EE8++SQGDBggy/737t2Lxx57DLVr18aYMWPg5eWFa9euYd++ffj888/x8ssvV1itp06dwrvvvovOnTsjICCgYl4AVQiGMiqXXr16VWrLQmllZmbCzs7ObPsbNWoUjhw5gl9//RVPPPGEybz3338fb731ltlqqQxCCOTk5MDGxkbuUirVzZs3AQBOTk4Vts3S/Cw2b94czzzzTIXts7LNmTMHS5YsQUREBObOnQtJkozz3nrrLSxduhRWVvxnpCJ88MEHcHR0xIEDB4r8XCYkJMhTFJmfICqDxYsXCwDiwIED910uOjpaABCffPKJWLBggahTp45Qq9WiRYsWYv/+/UWWP336tHjiiSeEs7Oz0Gg0IjQ0VKxbt67Yfe/YsUO8+OKLwt3dXTg5ORnnf/XVVyIwMFBYW1uLli1bil27dolOnTqJTp06CSGESE9PF7a2tmLSpElF9n/t2jWhUCjEhx9+WOJr2rdvnwAgxowZc9/XfretW7eK9u3bC1tbW+Ho6Cgef/xxcerUKZNlZsyYIQCI8+fPi5EjRwpHR0eh1WrFqFGjRGZmpnG5xo0bi86dOxfZh06nEz4+PuKJJ54wmfbZZ5+JRo0aCY1GIzw8PMTYsWNFcnKyybr+/v6iT58+YuPGjSI0NFRoNBrx2WefCSGEuHz5sujXr5+wtbUV7u7uIiIiQmzcuFEAENu3by/y3oSHhwutVitsbGxEx44dxe7du8v1OgstXbpUtGzZUtjY2AgnJyfRoUMH8c8//5gs8/fffxvfX3t7e9G7d29x4sSJkj+Qu+q4++bv72+cf/jwYdGzZ0/h4OAg7OzsRJcuXURkZKTJNh70s3ivu78PD7J27VrRu3dv4e3tLdRqtahTp4547733REFBQZFl9+3bJ3r16iWcnJyEra2taNq0qZg3b55x/siRI4WdnZ24fv266N+/v7CzsxNubm7i1VdfLXZ7d8vKyhIuLi6iYcOGD1y20MWLF8WTTz4pnJ2dhY2NjWjdurVYv369yTLbt28XAMTKlSvFzJkzhY+Pj7C3txdPPPGESElJETk5OWLy5MnC3d1d2NnZiVGjRomcnByTbQAQEyZMEMuWLRP169cXGo1GNG/eXOzcudNkuZEjR5p8toUKfwbu3t69t5EjRxrnX79+XYwePVp4eHgItVotGjVqJH744Yci27127Zro379/qb4z92rQoEGx3+973a/Wy5cvixdffFHUr19fWFtbCxcXF/Hkk0+K6Oho4/qFP7v33u6urzzfK6oY/BOHyiU1NRWJiYkm0yRJgqurq8m05cuXIz09HePGjYMkSZg9ezYGDRqES5cuQaVSAQBOnjyJdu3awdfXF1OnToWdnR1WrVqFAQMG4LfffsPAgQNNtvnSSy/B3d0d06dPR2ZmJgBg/vz5mDhxIjp06IBXXnkFly9fxoABA+Ds7IxatWoBAOzt7TFw4ECsXLkSc+fOhVKpNG7zl19+gRACw4cPL/E1//HHHwCAZ599tlTv0ZYtW9CrVy/UqVMHM2fORHZ2Nr788ku0a9cOhw8fLnLYYPDgwQgMDMSsWbNw+PBhLFy4EB4eHvj4448BAEOGDMHMmTMRFxcHLy8v43q7d+9GTEwMhg4dapw2btw4LFmyBKNHj8akSZMQHR2Nr776CkeOHMGePXuM7z0AnD17FsOGDcO4ceMwZswYNGjQAJmZmejSpQtiY2MxefJkeHl5Yfny5di+fXuR17lt2zb06tULoaGhmDFjBhQKBRYvXowuXbrg33//RatWrcr0OgHg3XffxcyZM9G2bVu89957UKvV+O+//7Bt2zb06NEDALB06VKMHDkS4eHh+Pjjj5GVlYX58+ejffv2OHLkSImHZQYNGgQnJye88sorxsOJhZ3hT548iQ4dOkCr1eL111+HSqXCggUL0LlzZ+zcuROtW7c22VZxP4v3k5WVVeR7Axha7ApbnJYsWQJ7e3tMmTIF9vb22LZtG6ZPn460tDR88sknxnU2b96Mvn37wtvb2/gZnT59GuvXr8fkyZONy+l0OoSHh6N169b49NNPsWXLFsyZMwd169bFiy++WGKtu3fvRnJyMiIiIky+KyWJj49H27ZtkZWVhUmTJsHV1RU//vgjHn/8cfz6669FvsezZs2CjY0Npk6digsXLuDLL7+ESqWCQqHArVu3MHPmTOzbtw9LlixBYGAgpk+fbrL+zp07sXLlSkyaNAkajQbffPMNevbsif3796NJkyYPrPduS5cuxQsvvIBWrVph7NixAIC6desaX1ebNm0gSRImTpwId3d3bNiwAc8//zzS0tIQEREBwHBIvGvXrrh69SomTZoEHx8fLF26tNT97vz9/REZGYkTJ07ct/771XrgwAHs3bsXQ4cORa1atXD58mXMnz8fnTt3xqlTp2Bra4uOHTti0qRJ+OKLL/Dmm2/ikUceAQDjfXm/V1RB5E6FVLWU9FcWAKHRaIzLFbYMuLq6mrTOrFu3TgAQf/75p3Fa165dRdOmTU3+Gtbr9aJt27YiKCioyL7bt29v8pd7bm6ucHV1FS1bthT5+fnG6UuWLBEAjC1lQgjxzz//CABiw4YNJq/r0UcfNVmuOAMHDhQAxK1btx74PgkhRHBwsPDw8BBJSUnGaUePHhUKhUKMGDHCOK3wr/bnnnuuyP5cXV2Nz8+ePSsAiC+//NJkuZdeeknY29uLrKwsIYQQ//77rwAgfv75Z5PlCv9iv3u6v7+/ACA2btxosuycOXMEALF27VrjtOzsbNGwYUOTv6r1er0ICgoS4eHhQq/XG5fNysoSgYGBonv37mV+nefPnxcKhUIMHDhQ6HQ6k2UL95Geni6cnJyKtFrGxcUJR0fHB7ZmltRyNWDAAKFWq8XFixeN02JiYoSDg4Po2LGjcVpJP4sP2l9Jt7tb4go/x7uNGzdO2NraGr8jBQUFIjAwUPj7+xf5ebz7cxg5cqQAIN577z2TZUJCQkRoaOh9a/78888FALFmzZoHvj4hhIiIiBAAxL///muclp6eLgIDA0VAQIDxsyxsKWvSpInIy8szLjts2DAhSZLo1auXyXbDwsKKtHYVvm8HDx40Trty5YqwtrYWAwcONHn9pWkpE0IIOzs7k9axQs8//7zw9vYWiYmJJtOHDh0qHB0djZ/XvHnzBACxatUq4zKZmZmiXr16pWop27Rpk1AqlUKpVIqwsDDx+uuvi3/++cfkPXpQrcX97ERGRgoA4qeffjJOW716dbE1Pez3ih4ez76kcvn666+xefNmk9uGDRuKLDdkyBA4Ozsbn3fo0AEAcOnSJQBAcnIytm3bhsGDByM9PR2JiYlITExEUlISwsPDcf78edy4ccNkm2PGjDH5y/3gwYNISkrCmDFjTPq3DB8+3GTfANCtWzf4+Pjg559/Nk47ceIEjh079sC+PmlpaQAABweH+y4HALGxsYiKisKoUaPg4uJinP7oo4+ie/fu+Pvvv4usM378eJPnHTp0QFJSknG/9evXR3BwMFauXGlcRqfT4ddff0W/fv2M/cBWr14NR0dHdO/e3fh+JiYmIjQ0FPb29kVauwIDAxEeHm4ybePGjfD19cXjjz9unGZtbY0xY8aYLBcVFYXz58/j6aefRlJSknFfmZmZ6Nq1K3bt2gW9Xl+m17l27Vro9XpMnz4dCoXpr6jCPk2bN29GSkoKhg0bZvIalUolWrduXWyL3oPodDps2rQJAwYMQJ06dYzTvb298fTTT2P37t3GGgvd+7P4IGPHji3yvdm8eTMaNWpkXObu/nyF34kOHTogKysLZ86cAQAcOXIE0dHRiIiIKNL/6O5+X4WKe88Lv4MlKcvPOwD8/fffaNWqFdq3b2+cZm9vj7Fjx+Ly5cs4deqUyfIjRowwabFt3bq18cSCu7Vu3RrXrl1DQUGByfSwsDCEhoYan9euXRv9+/fHP//8A51OV6qaH0QIgd9++w39+vWDEMLkZy08PBypqak4fPiw8fV7e3vjySefNK5va2trbM16kO7duyMyMhKPP/44jh49itmzZyM8PBy+vr7GVvoHuftnJz8/H0lJSahXrx6cnJyMdd5PZXyvqGx4+JLKpVWrVqXq6F+7dm2T54Uh6datWwCACxcuQAiBd955B++8806x20hISICvr6/x+b1nfV65cgVA0TM/raysijS1KxQKDB8+HPPnz0dWVhZsbW3x888/w9raGk899dR9X4tWqwVg+IfyQR3EC2tq0KBBkXmPPPII/vnnnyIdw+/3XhXue8iQIXjzzTdx48YN+Pr6YseOHUhISMCQIUOM650/fx6pqanw8PAotrZ7Ow0XdxbtlStXULdu3SL/wN/7Hp8/fx6AYXiJkqSmppqE4we9zosXL0KhUJgElXsV7rdLly7Fzi98v8ri5s2byMrKKvEz0+v1uHbtGho3bmycXtx7dz9BQUHo1q3bfZc5efIk3n77bWzbtq1ICExNTQUAXLx4EQBKdZjO2toa7u7uJtOcnZ2N38GS3P3zXhpXrlwpcngXuHNY7MqVKyb13vtz4OjoCADw8/MrMl2v1yM1NdWke0RQUFCRfdWvXx9ZWVm4efOmySH+8rp58yZSUlLw3Xff4bvvvit2mcLv05UrV1CvXr0i35nifp5K0rJlS/z+++/Iy8vD0aNHsWbNGnz22Wd48sknERUVdd/vBGA4hDpr1iwsXrwYN27cgBDCOK/wZ+d+KuN7RWXDUEaVqqRWhMJfFoWtKK+99lqR1ppC9waBhz0zcMSIEfjkk0+wdu1aDBs2DMuXL0ffvn2N/yiUpGHDhgAMYwkVtvhVpAe9V4AhlE2bNg2rV69GREQEVq1aBUdHR/Ts2dO4jF6vh4eHh0lr4N3u/Qf6Yd7Pws/vk08+QXBwcLHL3Dt4aWleZ2n3u3Tp0mL/8TXXGYEVfZZqSkoKOnXqBK1Wi/feew9169aFtbU1Dh8+jDfeeKNIq2NplKUl7253/7xXxjARJdVVET8fhYprNQRQ6pa0wvf7mWeeKfEPj0cffbTMdT2IWq1Gy5Yt0bJlS9SvXx+jR4/G6tWrMWPGjPuu9/LLL2Px4sWIiIhAWFiYcWDkoUOHlupnx1K+VzUZ32GSVeFhIpVK9cAWhJL4+/sDMLS6PfbYY8bpBQUFuHz5cpFfmk2aNEFISAh+/vln1KpVC1evXi0yOGNx+vXrh1mzZmHZsmUPDGWFNZ09e7bIvDNnzsDNza1cQ3kEBgaiVatWWLlyJSZOnIjff/8dAwYMgEajMS5Tt25dbNmyBe3atSt3aPD398epU6cghDD5h+3ChQsmyxV2MNZqteX+/O5Vt25d6PV6nDp1qsSgV7hfDw+PCtuvu7s7bG1tS/zMFApFkVacirZjxw4kJSXh999/R8eOHY3To6OjTZYrfP0nTpyosNd/r/bt28PZ2Rm//PIL3nzzzQeGO39//xLfu8L5FamwVedu586dg62trfEPD2dnZ6SkpBRZrrAl+27FBTh3d3c4ODhAp9M98H329/fHiRMninxnintPyqLwiERsbOx9awWAX3/9FSNHjsScOXOM03Jycoq8ByWtXxnfKyob9ikjWXl4eKBz585YsGCByS+dQoXjSd1PixYt4Orqiu+//96k38nPP/9c4iGaZ599Fps2bcK8efPg6uqKXr16PXA/YWFh6NmzJxYuXFjsaNp5eXl47bXXABj6IQUHB+PHH380+YV44sQJbNq0qdgBREtryJAh2LdvHxYtWoTExESTQ5eA4exGnU6H999/v8i6BQUFxf4jda/w8HDcuHHDpC9LTk4Ovv/+e5PlQkNDUbduXXz66afIyMgosp3SfH73GjBgABQKBd57770if90XtpaEh4dDq9Xiww8/RH5+foXsV6lUokePHli3bp3JSOfx8fFYvnw52rdvX+mHbwqDz92tQnl5efjmm29MlmvevDkCAwMxb968Ip9neVqUimNra4s33ngDp0+fxhtvvFHsdpctW4b9+/cDAHr37o39+/cjMjLSOD8zMxPfffcdAgICHnjorawiIyNN+kldu3YN69atQ48ePYzvY926dZGamopjx44Zlysc+PZednZ2Rd5LpVKJJ554Ar/99htOnDhRZJ27f8569+6NmJgY/Prrr8ZpWVlZJR72vNf27duLfY8L+5/efRi0uFoL6713G19++WWRlsHCPwjv3UZlfK+obNhSRuWyYcMG41/Ad2vbtq1JJ+nS+Prrr9G+fXs0bdoUY8aMQZ06dRAfH4/IyEhcv34dR48eve/6arUaM2fOxMsvv4wuXbpg8ODBuHz5MpYsWVJsvygAePrpp/H6669jzZo1ePHFF006HN/PTz/9hB49emDQoEHo168funbtCjs7O5w/fx4rVqxAbGwsPv30UwCGQ3q9evVCWFgYnn/+eeOQGI6Ojpg5c2aZ3qO7DR48GK+99hpee+01uLi4FPmLtlOnThg3bhxmzZqFqKgo9OjRAyqVCufPn8fq1avx+eefm3RGLs64cePw1VdfYdiwYZg8eTK8vb2Nfe+AO39pKxQKLFy4EL169ULjxo0xevRo+Pr64saNG9i+fTu0Wi3+/PPPMr2+evXq4a233sL777+PDh06YNCgQdBoNDhw4AB8fHwwa9YsaLVazJ8/H88++yyaN2+OoUOHwt3dHVevXsVff/2Fdu3a4auvvirTfgHgf//7HzZv3oz27dvjpZdegpWVFRYsWIDc3FzMnj27zNu71+HDh7Fs2bIi0+vWrYuwsDC0bdsWzs7OGDlyJCZNmgRJkrB06dIi/9AqFArMnz8f/fr1Q3BwMEaPHg1vb2+cOXMGJ0+exD///PPQtQLA//3f/+HkyZOYM2cOtm/fjieffBJeXl6Ii4vD2rVrsX//fuzduxcAMHXqVPzyyy/o1asXJk2aBBcXF/z444+Ijo7Gb7/9VuSkjYfVpEkThIeHmwyJARiGUyk0dOhQvPHGGxg4cCAmTZpkHN6hfv36RTq+h4aGYsuWLZg7dy58fHwQGBiI1q1b46OPPsL27dvRunVrjBkzBo0aNUJycjIOHz6MLVu2IDk5GYDhpI+vvvoKI0aMwKFDh+Dt7Y2lS5fC1ta2VK/n5ZdfRlZWFgYOHIiGDRsiLy8Pe/fuxcqVKxEQEIDRo0c/sNa+ffti6dKlcHR0RKNGjRAZGYktW7YUGaooODgYSqUSH3/8MVJTU6HRaNClSxd4eHhUyveKysDcp3tS1Xa/ITEAiMWLFwsh7j9YJgAxY8YMk2kXL14UI0aMEF5eXkKlUglfX1/Rt29f8euvvxbZd0kD137xxRfC399faDQa0apVK7Fnzx4RGhoqevbsWezyvXv3FgDE3r17y/QeZGVliU8//VS0bNlS2NvbC7VaLYKCgsTLL78sLly4YLLsli1bRLt27YSNjY3QarWiX79+JQ4ee/PmTZPpha/37oEfC7Vr104AEC+88EKJdX733XciNDRU2NjYCAcHB9G0aVPx+uuvi5iYGOMyhYPHFufSpUuiT58+wsbGRri7u4tXX31V/PbbbwKA2Ldvn8myR44cEYMGDRKurq5Co9EIf39/MXjwYLF169Zyv85FixaJkJAQodFohLOzs+jUqZPYvHmzyTLbt28X4eHhwtHRUVhbW4u6deuKUaNGmQyVUJz7/XwePnxYhIeHC3t7e2Fraysee+yxIj8jpR1E+d79lXS7e3iDPXv2iDZt2ggbGxvh4+NjHBoBxQxhsHv3btG9e3fjQLePPvqoyZAphYPH3qu4ISHu59dffxU9evQQLi4uwsrKSnh7e4shQ4aIHTt2mCxXOHisk5OTsLa2Fq1atSpx8NjVq1ebTC/pPS3u5wZ3DR4bFBQkNBqNCAkJKXbYiU2bNokmTZoItVotGjRoIJYtW1bs6z9z5ozo2LGjsLGxKfKZxMfHiwkTJgg/Pz+hUqmEl5eX6Nq1q/juu+9MtnHlyhXx+OOPC1tbW+Hm5iYmT55c6sFjN2zYIJ577jnRsGFD4++VevXqiZdfflnEx8eXqtZbt26J0aNHCzc3N2Fvby/Cw8PFmTNnhL+/f5EhNL7//ntRp04doVQqi9RX3u8VPTxJiApq6yayMHq9Hu7u7hg0aFCRw24AMHDgQBw/frxIPykq2bx58/DKK6/g+vXrJmfEEpmTJEmYMGECW22o2mGfMqoWcnJyihzi+emnn5CcnIzOnTsXWT42NhZ//fVXqUfnr4mys7NNnufk5GDBggUICgpiICMiqgTsU0bVwr59+/DKK6/gqaeegqurKw4fPowffvgBTZo0MRl/LDo6Gnv27MHChQuhUqkwbtw4Gau2bIMGDULt2rURHByM1NRULFu2DGfOnClxqA0iIno4DGVULQQEBMDPzw9ffPEFkpOT4eLighEjRuCjjz6CWq02Lrdz506MHj0atWvXxo8//lghA0xWV+Hh4Vi4cCF+/vln6HQ6NGrUCCtWrChyticREVUM9ikjIiIisgDsU0ZERERkARjKiIiIiCxAjetTptfrERMTAwcHhxIvNUFERERUUYQQSE9Ph4+Pz30HUq5xoSwmJqbSr19HREREdK9r166hVq1aJc6vcaHMwcEBgOGNqezr2BERERGlpaXBz8/PmEFKUuNCWeEhS61Wy1BGREREZvOgblPs6E9ERERkARjKiIiIiCwAQxkRERGRBWAoIyIiIrIADGVEREREFoChjIiIiMgCMJQRERERWQCGMiIiIiILwFBGREREZAEYyoiIiIgsAEMZERERkQVgKCMiIiKyAAxlRERERBaAoayiJV0EFvUCFnSUuxIiIiKqQqzkLqDasXYCru41PM5NBzQOspZDREREVQNbyiqanSvg4G14nHBa3lqIiIioymAoqwyejQ338SfkrYOIiIiqDIayymAMZSflrYOIiIiqDFlD2axZs9CyZUs4ODjAw8MDAwYMwNmzZ++7zpIlSyBJksnN2traTBWXkmcTwz1DGREREZWSrKFs586dmDBhAvbt24fNmzcjPz8fPXr0QGZm5n3X02q1iI2NNd6uXLlipopL6e5QJoS8tRAREVGVIOvZlxs3bjR5vmTJEnh4eODQoUPo2LHkISUkSYKXl1dll1d+rnUBSEBuGpCVBNi5yV0RERERWTiL6lOWmpoKAHBxcbnvchkZGfD394efnx/69++PkydLPkyYm5uLtLQ0k1uls9IAWl/D41uXK39/REREVOVZTCjT6/WIiIhAu3bt0KRJkxKXa9CgARYtWoR169Zh2bJl0Ov1aNu2La5fv17s8rNmzYKjo6Px5ufnV1kvwZRzgOGeoYyIiIhKQRLCMjo9vfjii9iwYQN2796NWrVqlXq9/Px8PPLIIxg2bBjef//9IvNzc3ORm5trfJ6WlgY/Pz+kpqZCq9VWSO3FWvsSEPUz0OVtoOP/Vd5+iIiIyKKlpaXB0dHxgdnDIkb0nzhxItavX49du3aVKZABgEqlQkhICC5cuFDsfI1GA41GUxFllg1byoiIiKgMZD18KYTAxIkTsWbNGmzbtg2BgYFl3oZOp8Px48fh7e1dCRU+BGMos7AzQ4mIiMgiydpSNmHCBCxfvhzr1q2Dg4MD4uLiAACOjo6wsbEBAIwYMQK+vr6YNWsWAOC9995DmzZtUK9ePaSkpOCTTz7BlStX8MILL8j2OorFljIiIiIqA1lD2fz58wEAnTt3Npm+ePFijBo1CgBw9epVKBR3GvRu3bqFMWPGIC4uDs7OzggNDcXevXvRqFEjc5VdKsLJHxIApF4HdPmAUiV3SURERGTBLKajv7mUtrNdeeXHxSFxwQLo09Lg6/QToMsDIk4ATmY665OIiIgsSmmzh8UMiVFd6LOykfLLCqT9vQG5utsD3KbFyFsUERERWTyGsgqmqRMI+y5dACGQfPr2NTnTbshbFBEREVk8hrJK4PrcaABA6sks6PMlhjIiIiJ6IIaySmATGgqVnx9EgR4ZcRoeviQiIqIHYiirBJIkwaFbNwBA+nVrtpQRERHRAzGUVRKH7oZQlhFjDZHCUEZERET3x1BWSWyaNYPCwQ76fAVyLvLwJREREd0fQ1klkZRK2LVoDgDIjM4AdAUyV0RERESWjKGsEtm26wgAyIxTAZkJMldDREREloyhrBLZtW0LAMhOVEOfEC1zNURERGTJGMoqkTowEFb2Sgi9hOwDkXKXQ0RERBaMoawSSZIE27pOAIDMg1Gy1kJERESWjaGsktk1DgAAZJ64JG8hREREZNEYyiqZXfOmAICcq7egy8iQuRoiIiKyVAxllUwV2AAq+wJAANmHDsldDhEREVkohrLKpvWFrUcuACBz/36ZiyEiIiJLxVBW2bQ+sPPIAwBkMZQRERFRCRjKKpu9J2zdDaEs5+Qp9isjIiKiYjGUVTalFVSeboZ+ZXo9+5URERFRsRjKzMHBm/3KiIiI6L4YyszBwfuufmUHZC6GiIiILBFDmTk4eMHW3dBSlnPyJPuVERERUREMZebg4A2VnR4qVxv2KyMiIqJiMZSZg9YbAGDrZw2A/cqIiIioKIYyc3AwhDI7z3wA7FdGRERERTGUmYODFwDA1ukWAPYrIyIioqIYyszhdkuZSroJlZ8f+5URERFREQxl5mDjAihUAADb4MYA2K+MiIiITDGUmYNCcadfWSN/AOxXRkRERKYYysylsF9ZXRcAt/uVpaXJWRERERFZEIYyc7kdylSaHKgDAwG9Hpl7I2UuioiIiCwFQ5m53D58ifRY2HfsAADI2P2vjAURERGRJWEoMxftnVBm16EjACDz390QQshYFBEREVkKhjJzuaulzLZlC0g2NiiIj0fuuXPy1kVEREQWgaHMXG73KUN6HBQaDexatQIAZOzaJWNRREREZCkYyszlrpYyALDrYOhXlrmL/cqIiIiIocx8CkNZTiqQl2Xs7J915AiHxiAiIiKGMrPROAAqO8Pj9Fioa9eGul5doKAA6du2yVsbERERyY6hzFwkyaRfGQBow3sanm78R66qiIiIyEIwlJnTPf3KtD3DAQCZe/ZAl54uV1VERERkARjKzMnYUmYIZZqgIKjr1oXIz0cGD2ESERHVaAxl5mQcQDbuzqRwQ2tZGg9hEhER1WgMZeZ0z+FLAND2MvQry9y9G7rUVDmqIiIiIgvAUGZO93T0BwyHMDUNGkDk5yN13R8yFUZERERyYygzp2JaygDAachgAMCtlSt5LUwiIqIaiqHMnApDWVoscFf4cnz8cUi2tsi7eBHZBw/KVBwRERHJiaHMnAoPXxZkG0b2v01pbw/HPn0AALdWrJSjMiIiIpIZQ5k5qWwAayfD47v6lQGA05AhAIC0TZuQH59g5sKIiIhIbgxl5lZCvzKbJo1h07w5kJ+PpO++k6EwIiIikhNDmbndM4Ds3dwnvQwASFm1CvkxMeasioiIiGTGUGZuWh/DfTGhzK5NG9i2agWRn4/E+d+auTAiIiKSE0OZuRUzVtnd3CdPAgCkrFmD3AsXzFUVERERyYyhzNxK6FNWyDY0FPaPPQYUFCB2xkwIvd6MxREREZFcGMrMrbClLK34UAYAXm+/BcnWFtmHDiF58WIzFUZERERyYigzN4fCPmXFH74EAJWvLzynvgEASPhsHjL3/WeOyoiIiEhGDGXmVthSlhEH3OfQpNNTT0Hbty9QUIDrkyYh5/RpMxVIREREcmAoMzd7DwASoC8AspJKXEySJHj/733YBAdDn5aGK6NGI2P3HvPVSURERGYlayibNWsWWrZsCQcHB3h4eGDAgAE4e/bsA9dbvXo1GjZsCGtrazRt2hR///23GaqtIEoVYOdueFxCZ/9CCmtr+H3/nSGYpabi2pgxuPnFF9Dn5pqhUCIiIjInWUPZzp07MWHCBOzbtw+bN29Gfn4+evTogczMzBLX2bt3L4YNG4bnn38eR44cwYABAzBgwACcOHHCjJU/JO39z8C8m9LBAbV/XGK4DJMQSPxmPi6G98StX36BLjX1gesTERFR1SAJIYTcRRS6efMmPDw8sHPnTnTs2LHYZYYMGYLMzEysX7/eOK1NmzYIDg7Gt98+eMDVtLQ0ODo6IjU1FVqttsJqL5PlQ4BzG4F+nwOho0q9WupffyHh0zkoiL0d5lQq2LVqBZtmzaBp0ABW7u6wcneD0skJkBSQFBKguJ27dToIvR6ioADQ6yEKdIBeB6HTGebdfS8EJCsrSGo1JJXKcCt8rFYDSiUkSarwt4WIiKg6Km32sDJjTQ+Uervlx8XFpcRlIiMjMWXKFJNp4eHhWLt2bbHL5+bmIveuw31paWkPX+jDesAAsiVx7NMHDt26IWXlKqSsXo3c8+eRuWcPMveYua+ZJN0JakoloFJBUioNj62sDIGu8LFSCcnKyhAOJckQ5hSK288BSVIY50EhGZ7fXkZSSAAKl7//PMO2FXctKwFS8fuRFLfnFe5ToSj6HHftx7ite7Zr8vx2DXdtyxiKpds1FLcf6a71FApIag0UGjUkjcZwU6shqdVQ3P28MGgTEVG1YjGhTK/XIyIiAu3atUOTJk1KXC4uLg6enp4m0zw9PREXV3zAmTVrFt59990KrfWhPWAA2ftRaDRwGfEsXEY8i9wLF5C57z/knDyJ3EsXoUtMQkFSEkROTik2pDAEp8Iwddc9JAD5BRD5+RB5eRD5+abrCmGYnpdX5vrp4UkqlTG0KezsoLC3g9LO/vZje8Nze3so7O2hdHKC0sUFVq6uUDq7wMrVBQqtli2dREQWyGJC2YQJE3DixAns3r27Qrc7bdo0k5a1tLQ0+Pn5Veg+yqwUA8iWhqZePWjq1TOZJoQwhCi93nCYUi8ACEPripWV4b6Mhx+FEEBBgTGg6fPygML724c8RUGB4XGBDtAVQBQUQBToIHQFhnWFAPQCEHpDqNPrDc8h7tQpDPON8+5+LmB4TaKYZU3m3Xkubu/LdL/izrKF8/R6AHfVdO88IQzbMlm2mHlC3NmvSY0lzNPf3k/hY73e8B7n5hpueXnQ5+UZQvZdvQxEfr7hM87IgC6p5DN4S6RSQeXhAZW3N1S+PrDy8YHKxweagACo69WDlbNz2bdJREQPzSJC2cSJE7F+/Xrs2rULtWrVuu+yXl5eiI+PN5kWHx8PLy+vYpfXaDTQaDQVVmuFcCj5ouQPS5IkQ7+vCt4mbvctAwBlhW6dHqQwFOtz8yDy74Q2fU4u9FmZ0GdkQp+ZAX1GBnQZGYbnGRnQZaRDdysFuqQkFNxKhi4pGfqMDCA/H/k3biD/xg3gYNH9Kd3cjIHfunFj2DYPgap2bbauERFVMllDmRACL7/8MtasWYMdO3YgMDDwgeuEhYVh69atiIiIME7bvHkzwsLCKrHSClbOPmVUMxWGYqVKBcDuobalz8uDLikJ+bFxyI+JuX27gfwbMci7eBH5MTHQJSYiKzERWfv2GddTurrCJiQYdq1aw75zJ6hr137IV0VERPeS9ezLl156CcuXL8e6devQoEED43RHR0fY2NgAAEaMGAFfX1/MmjULgGFIjE6dOuGjjz5Cnz59sGLFCnz44Yc4fPjwffuiFbKIsy8zbgKf1gMgAe/cNIxdRmQBdBmZyLt0EbnnLyD33DlkHzuGnBMnivQrVNepA/vOneHQvRtsgoPZikZEdB+lzR6yhrKSfpEvXrwYo0aNAgB07twZAQEBWLJkiXH+6tWr8fbbb+Py5csICgrC7Nmz0bt371Lt0yJCmV4P/M8D0OcDr5wCHH3lqYOoFPR5ecg5eRLZhw4h49/dyDp0CCgoMM5X+deGY//+cBowACofHxkrJSKyTFUilMnBIkIZAHzWBEi9BrywFajVQr46iMpIl5aGzD17kL5tO9K3boXIyjLMUCrh0KM7XEeNgk2zZvIWSURkQarkOGU1ioOXIZRVQmd/osqk1Gqh7dUL2l69oM/MRNrmzUj9fQ2y9u9H+oaNSN+wETYtQuEREQHbFvyDg4iotDgKpVzY2Z+qAYWdHZwGDID/Tz8icO0aOA4cCKhUyD54CFeeeRZXx45FzpkzcpdJRFQlMJTJ5SEGkCWyRNYNG8Jn1oeot2Wz4VqtSiUyd/2L6EFPIO6DD6HLyJC7RCIii8ZQJpcKGkCWyNKoPD3h/e5M1P37Lzj07Ano9bi1dCku9e6DtE2b5C6PiMhiMZTJpRIHkCWyBGp/f9Sa9xn8Fi6EqnZtFCQk4MakyYiZOg26jEy5yyMisjgMZXJhnzKqIezbt0OdP/+A67hxgEKB1LVrET1oELKPHpW7NCIii8JQJhf2KaMaRKHRwOOVCPj/9COsfLyRf/UqLj/zLG6tXCV3aUREFoOhTC6FLWU5KUB+tqylEJmLbYsWqLN2LRzCw4H8fMTNmIG4994rcsUAIqKaiKFMLtaOgMrW8JitZVSDKLVa+M77DO63r197a/kvuPr8C9ClpclbGBGRzBjK5CJJ7FdGNZYkSXAbPw61vvkaCltbZO3fjyvPjkB+QoLcpRERyYahTE7sV0Y1nEOXLvBf/jOUbm7IPXsWV4Y/g7yrV+Uui4hIFgxlcmJLGRGsGzZEwPKfofLzQ/61a7g8fDhyL12SuywiIrNjKJNTYUtZWoy8dRDJTF27NgKW/wxNgwbQ3UzE1ZGjkHf5stxlERGZFUOZnIyHL9lSRmTl7o7aSxZDU78+Cm7exJWRo3gok4hqFIYyOfHwJZEJK2dn1F68COp6dVEQH48ro0YhP5Z9LomoZmAokxM7+hMVYeXqCv/Fi6EODERBTCyujR0LXWqq3GUREVU6hjI5GVvKYgEh5K2FyIJYubuj9g8LYeXhgdzzF3B9wkToc3PlLouIqFIxlMmpsKUsPwvIYUsA0d1UPj7w+/47KOztkXXwIGL+73UInU7usoiIKg1DmZzUtoCNs+Exz8AkKsK6QQPU+uorSCoV0jdtws158+QuiYio0jCUyc2xluE+9bq8dRBZKLs2reH94QcAgKTvFyL1jz9kroiIqHIwlMnN0c9wn3pN3jqILJhjv35wHTsWABD79jvIPnpU5oqIiCoeQ5nc2FJGVCruEZNh37UrRF4erk2ciPx4XieTiKoXhjK5MZQRlYqkUMDn44+hqV8fupuJuDFlCkR+vtxlERFVGIYyuTGUEZWa0t4Otb74HAp7e2QfOoSEz+bJXRIRUYVhKJObsU8ZQxlRaagDAowd/5MXLULa5s0yV0REVDEYyuRW2FKWdgPQcwwmotLQ9ugBl1GjAACx097kNTKJqFpgKKsEv537DYfiD5VuYXtPQGEFCB2vgUlUBh6vToFNSAj0GRm4PjkC+pwcuUsiInooDGUVbH/sfry37z2M2TQGG6I3PHgFhRLQ+hge8xAmUalJKhV8530GpYsLck+fRsInn8pdEhHRQ2Eoq2CPuj+KLn5dkK/Px5v/vomTiScfvBLHKiMqF5WnJ3w+/ggAcOvnn5G+Y4e8BRERPQSGsgpmbWWNTzt9im61u6FAFGDqv1ORr3vAaft39ysjojKx79ABziOeBQDEvvkWChITZa6IiKh8GMoqgVKhxMy2M+Fq7YrLaZex6tyq+6/AYTGIHorHq69C06ABdMnJiHnzTQgh5C6JiKjMGMoqiaPGERNCJgAAvj36LbLys+6zMEMZ0cNQaDTw/fQTSBoNMnf9i1tLl8ldEhFRmTGUVaKB9QbCz8EPKbkpWHthbckLsk8Z0UPTBAXB4/X/AwAkfPopcs6dk7kiIqKyYSirRFYKK4xoNAIA8NOpn1CgLyh+QbaUEVUI56efhn3nzhB5eYiZOpWXYSKiKoWhrJL1r9cfzhpn3Mi4gS1XtxS/kNbXcJ99C8jNMF9xRNWMJEnwfv89KB0dkXvqNBK/XSB3SUREpcZQVslsrGwwtOFQAMCSE0uK74BsrQWsHQ2PUzgyOdHDsHJ3h9eM6QCAxAULkH2yFMPSEBFZAIYyMxjacCjUCjVOJp3EicQTxS/k5G+4T7livsKIqilt795w6NkTKChA7NSp0OflyV0SEdEDMZSZgYu1C3oE9AAArD63uviFnAMM97cYyogqgteM6VC6uiL3/AUkfvml3OUQET0QQ5mZPFX/KQDAxssbkZ6XXnQBZ7aUEVUkK2dneL87EwCQ9MMiZEdFyVoPEdGDMJSZSYhHCOo61kV2QTbWX1pfdIHCw5e3Lpu1LqLqzKFbNzj2fxzQ6xEzdRr02dlyl0REVCKGMjORJAlP1n8SgOEQZpEO/86BhnseviSqUJ5vvgkrDw/kXb6Mm1/wMCYRWS6GMjPqV7cfNEoNzt86j2OJx0xnOt/VUsZLxBBVGKWjI7zffw8AkPzjj8g+duwBaxARyYOhzIwcNY4IDwgHAKw+e0+H/8JR/fMzgawkM1dGVL3Zd+oEbb9+gF6P2LfehuDZmERkgRjKzKyww/8/l/9BWl7anRkqa8DB2/CYhzCJKpznm9OgdHFB7vnzSPzue7nLISIqgqHMzJq5N0M9p3rI0eXgz4t/ms40DosRbfa6iKo7K2dneL39FgDDoLK8NiYRWRqGMjOTJMnYWvbruV9NO/xzAFmiSuXQqxfsu3YF8vMNhzF1OrlLIiIyYiiTQd+6fWGttMaFlAs4knDkzgxjZ3+GMqLKIEkSvKZPh8LBATnHjyP5x5/kLomIyIihTAZatRa96/QGAKw4u+LODOPhy8tmr4moplB5esDj9f8DANz84gvkXeEfQURkGRjKZDKkwRAAwOYrm5GYnWiYyMOXRGbh9OSTsG3TBiInB7HvTIfQ6+UuiYiIoUwujVwb4VG3R1GgL8Ca82sMEwsPX6ZeB3QF8hVHVM1JkgTv99+DZG2NrP37kbL6V7lLIiJiKJPTkIaG1rJV51ZBp9cZhsRQqgF9AZB2XebqiKo3tZ8f3CMmAwASZs9GflyczBURUU3HUCaj8IBwOGmcEJcZh13XdwEK5Z1+ZcmXZK2NqCZwefZZWDd7FPrMTMTNmFn08mdERGbEUCYjjVKDgUEDAQArz640THStZ7hPuihTVUQ1h6RUwud//wNUKmTs3Im09X/JXRIR1WAMZTJ7qv5TkCBhT8weRKdGA651DTOSLshbGFENoQkKgtuL4wEA8R98gIIkXuaMiOTBUCYzPwc/dPLrBABYemopW8qIZOD2wgvQNGgAXUoK4j/4QO5yiKiGYiizAKMajwIArLuwDkkOHoaJbCkjMhtJrYb3Bx8ASiXS/t6A9C1b5C6JiGoghjIL0NyjOZq6NUWePg8rbh03TEy5AhTkyVsYUQ1i06QxXJ97DgAQ++670KWmylwREdU0DGUWQJIkjGw8EgCwIno9stR2gNBzZH8iM3ObOAHqwEDobiYi/uPZcpdDRDVMmUNZbm4udu3ahaVLl2LBggX4/fffER0dXa6d79q1C/369YOPjw8kScLatWvvu/yOHTsgSVKRW1w1GF+oa+2u8HPwQ0puClZ7+BomJrNfGZE5KTQaeH/wP0CSkPr778j4d7fcJRFRDVLqULZnzx4MHjwYTk5O6NKlCyIiIvD+++/jmWeeQb169RAUFIRPPvkE6enppd55ZmYmmjVrhq+//rpMRZ89exaxsbHGm4eHR5nWt0RWCiuMaToGALBIVYBsSWK/MiIZ2DZvDudnngEAxM6YDl1GpswVEVFNUapQ9vjjj2PIkCEICAjApk2bkJ6ejqSkJFy/fh1ZWVk4f/483n77bWzduhX169fH5s2bS7XzXr164X//+x8GDhxYpqI9PDzg5eVlvCkU1eMobN+6feFr74tkFGC1gz1DGZFMPCImQ+Xri4KYWNycO1fucoiohihVmunTpw+io6Mxe/ZsdOjQATY2Nibz69Spg5EjR2Ljxo3YunVrpYek4OBgeHt7o3v37tizZ899l83NzUVaWprJzVKpFCpja9liRy2yk87LXBFRzaSws4P3/94HANxavhxZBw7IXBER1QSlSk/jxo2DSqUq1QYbNWqErl27PlRRJfH29sa3336L3377Db/99hv8/PzQuXNnHD58uMR1Zs2aBUdHR+PNz8+vUmqrKI/XfRy+1m5ItFLi56zLcpdDVGPZhYXB6aknAQCxb78DfU6OzBURUXVX6iat/fv3Q6fTlTg/NzcXq1atqpCiStKgQQOMGzcOoaGhaNu2LRYtWoS2bdvis88+K3GdadOmITU11Xi7du1apdb4sFRKFSY8Og4A8IONhFu8MDmRbDxefx1Wnp7Iu3IFN7/8Uu5yiKiaK3UoCwsLQ9Jdlx/RarW4dOnORbNTUlIwbNiwiq2uFFq1aoULF0rue6XRaKDVak1ulq5Pw8FomK9HhkKB7w7Nk7scohpL6eAAr5kzAADJi5cg+/hxmSsiouqs1KFMCHHf5yVNq2xRUVHw9vY2+34rk0JS4BWlJwBgxbXNuJJ2ReaKiGouh8ceg7ZfP0CvR8zUaTyMSUSVpkJ75EuSVKblMzIyEBUVhaioKABAdHQ0oqKicPXqVQCGQ48jRowwLj9v3jysW7cOFy5cwIkTJxAREYFt27ZhwoQJFfYaLEVbjxC0y8pGgdBj1n+zZAm8RGTg+eY0KN3dkHfxIm5+Nk/ucoiompJ1LImDBw8iJCQEISEhAIApU6YgJCQE06dPBwDExsYaAxoA5OXl4dVXX0XTpk3RqVMnHD16FFu2bKm0EwvK40pSJiJWHMHoxfsfbkMej2Ba0i2oIGFPzB5sucpr8RHJxcrZGT7/+x8AIPmnn5C5/yG/30RExZBEKZtgFAoFtm3bBhcXFwBA27ZtsWrVKtSqVQsAkJiYiO7du9/3ZABLkJaWBkdHR6SmplZK/7L4tBy0/nArJAk48FY3uNlryrehy3uAJb3xpVdtfGcDeNp64o8Bf8BWZVuxBRNRqcW+8w5SVv8Kla8vAtetg9LeTu6SiKgKKG32KFNLWdeuXREcHIzg4GBkZWWhb9++CA4ORkhICLp16/bQRVcHnlprNPHVQghgx9mb5d+QxyMAgBfir8HXzhvxWfH49ti3FVQlEZWHxxtTofL1Rf6NG0j4+CO5yyGiaqbUoSw6OhqXLl1CdHR0kVvh9LvPxqzJujQwXPZp25n48m/E1gWw94SNEJhadzAAYOnJpTibfLYiSiSiclDa28F71oeAJCFl9a9I37FD7pKIqBopdSjz9/cv1Y2ALo8Yzpz891wi8gr05d/Q7dayzkKDLn5dUCAK8M6ed5Cvz6+IMomoHOxatYLL7ROQYt95BwW3bslcERFVF6UKZXd3ti+NGzdulKuY6uJRX0e42auRnluAg5eTy78hd0MoQ8JpvBP2Dhw1jjidfBoLjy2smEKJqFzcX4mAum5d6G4mIm7GTJ4dTUQVolShrGXLlhg3bhwO3Of6b6mpqfj+++/RpEkT/PbbbxVWYFWkUEjobDyEmVD+DXk0NNzfPA03Gze81fotAMB3x77D6aTTD1smEZWTwtoaPh9/DKhUSN+0CSmrV8tdEhFVA6UKZadOnYKdnR26d+8OLy8v9OnTB2PGjMHLL7+MZ555Bs2bN4eHhwcWLVqE2bNnY9KkSZVdt8Xr2rAiQlkjw32CIYD1DOiJ7v7dUSAK8Naet5Cny3vYMomonGyaNIZHRAQAIP7DWci9z5VFiIhKo1ShzNXVFXPnzkVsbCy++uorBAUFITExEefPnwcADB8+HIcOHUJkZCR69+5dqQVXFe2D3KBSSriUmInoxMzybcS9geE+PRbIvgVJkvBW67fgrHHG+VvnMe/wvAqrl4jKzmX0KNi1aweRk4MbU16FPjdX7pKIqAor9Thl1UVlj1N2t+EL92HPhSS807cRnm8fWL6NzG0MpF0HRv0FBLQHAOy4tgMvb3sZAPB116/RsVbHCqqYiMqq4OZNXOo/ALrkZDg/8wy83n5L7pKIyMJUyjhlVDaPVcTQGN7NDPexR42TOvt1xvBHhgMA3t79NhKyHuIQKRE9FCt3d/h8NAsAcGvZMqRv2y5zRURUVTGUVaKut4fG+O9SMlKzyzmMhU+w4T4mymTylNApaOjSELdyb2Hav9Og01v2lRSIqjP7jh3hMnIkACD2zTeRH/8Qf4gRUY3FUFaJAt3sEORhjwK9KH9rmXew4T42ymSyWqnG7I6zYWNlg/1x+/HDiR8eqlYiejjur06BptEj0KWkIObV1yDyOZ4gEZUNQ1kl69nECwCw8URc+TZQ2FKWeB7IzTCZFegYiDdbvwkA+CbqGxyMO1jeMonoISnUavjOmQOFnR2yDh5EwtzP5C6JiKqYMoeyzMxynklYQxWGsp3nbiIrr6DsG7D3ABy8AQgg7niR2f3r9kffOn2hEzq8tvM19i8jkpEmMBDeH34IAEhevBhpG/+RuSIiqkrKHMo8PT3x3HPPYffu3ZVRT7XTyFsLPxcb5OTrsbO8Fygv4RAmAEiShHfavIMg5yAk5STh1R2vIl/HwyZEctGG94DLc88BMPQvy+U1gYmolMocypYtW4bk5GR06dIF9evXx0cffYSYmJjKqK1akCQJvZp4AwA2POwhzHs6+xeyVdliXud5cFA5IOpmFD49+Gn59kNEFcJjyiuwbdkS+qwsXH95EvQ8wkBEpVDmUDZgwACsXbsWN27cwPjx47F8+XL4+/ujb9+++P3331FQUI5DdNVceGPDIcxtZxKQW1COsySLGRbjXrW1tfFhB8Nhk+VnluPPi3+WfT9EVCEkKyv4zp0DK3d35F28iJg334LQ6+Uui4gsXLk7+ru7u2PKlCk4duwY5s6diy1btuDJJ5+Ej48Ppk+fjqysrIqss0oL8XOCp1aDjNwC7LmQWPYNFB6+TDwL5JX8F3dnv84Y++hYAMB7ke/hTPKZclRLRBXByt0dvp/PM1wf859/kPjV13KXREQWrtyhLD4+HrNnz0ajRo0wdepUPPnkk9i6dSvmzJmD33//HQMGDKjAMqs2hUIytpaV6yxMrTdg7wkIPRB77L6LvtTsJbTzbYccXQ4mbp2IxOxyhEAiqhC2zZvD+913AQCJ33yD1PV/yVwREVmyMoey33//Hf369YOfnx+WL1+Ol156CTdu3MCyZcvw2GOP4dlnn8W6deuwY8eOSii36io8C3PzqXjk68pxGMOvleH+2r77LqZUKDG742wEOgYiPisek7ZNQk5BTtn3R0QVwmnQQJOO/9lHS+6GQEQ1W5lD2ejRo+Hj44M9e/YgKioKEydOhJOTk8kyPj4+eOstXv/tbq0CXOBmr8atrHzsPl+O1qvaYYb7q/cPZQCgVWvxVZev4KhxxPHE45i+Zzpq2CVOiSyKx6tTYN+5M0ReHq5NnIj82Fi5SyIiC1TmUBYbG4sFCxagZcuWJS5jY2ODGTNmPFRh1Y2VUoG+j/oAANZG3Sj7Bmq3Mdxf3QeUosNwbW1tfNb5M1hJVthweQO+PfZt2fdJRBVCUirh8+mn0AQFQXczEdfGjYcuLU3usojIwpQ5lBUUFCAtLa3ILT09HXl5eZVRY7XRP9gQyjadjEdmbhnPUvV6FFDZAjkphg7/pdDSqyXeCXsHgGHEf56RSSQfpb0das2fD6W7G3LPncO1l16CPoddC4jojjKHMicnJzg7Oxe5OTk5wcbGBv7+/pgxYwb0PP27iGA/J/i72iI7X4fNp8p4LUylCqjVwvD4amSpVxsUNAijGo8CAEzfMx3/Xv+3bPslogqjruWL2t9/D4W9PbIPHsKN116D4DBCRHRbmUPZkiVL4OPjgzfffBNr167F2rVr8eabb8LX1xfz58/H2LFj8cUXX+Cjjz6qjHqrNEmS0D/YF0B5D2GWvl/Z3V4JfQV96/RFgSjAlB1TEJUQVfZ9E1GFsG7YELW++RqSWo2MLVsR9+677PNJRAAASZTxt0HXrl0xbtw4DB482GT6qlWrsGDBAmzduhVLly7FBx98gDNnLG+crLS0NDg6OiI1NRVardbs+790MwNd5uyEUiHhvze7ws1eU/qVL24Dlg4EnGoDEUWvg3k/+fp8TNo2Cbtv7IZWrcWPPX9EPed6ZayeiCpK2qZNuBHxCqDXw3XMGLhPeQWSJMldFhFVgtJmjzK3lO3duxchISFFpoeEhCAy0nBYrX379rh69WpZN10j1HG3x6O1HKHTC/x1rIxnYNVqCUgKIOUqkFq2ljaVQoU5neagmXszpOWlYdyWcbiRUY7WOiKqENoePeB1+4SopO+/x80vvmCLGVENV+ZQ5ufnhx9++KHI9B9++AF+fn4AgKSkJDg7Oz98ddVUuQ9hahzuXHIpeleZ92urssXXXb9GXce6SMhKwHMbn2MwI5KR85DB8Jj6BgAgaf63SPzyK5krIiI5lTmUffrpp/jss8/QrFkzvPDCC3jhhRcQHByMefPmYc6cOQCAAwcOYMiQIRVebHXRr5k3FBJw5GoKLt3MKNvKdbsa7i9sKde+HTWO+K7HdwjQBiAmM4bBjEhmrqNGweMNQzBL/OYb3OTlmIhqrDKHsscffxxnz55F7969kZycjOTkZPTq1QtnzpxB3759AQAvvvgi5s6dW+HFVhceDtbo3MADALDywLWyrVyvm+H+4jZAX46LmwPwsPXAD+E/wF/rbwxm19LLWAcRVRjX0aPg8frrAIDEr77CzS++5KFMohqoTB398/Pz0bNnT3z77bcICgqqzLoqjdwd/QttOhmHsUsPwdVOjchpXaG2KmU+1uUDs+sAuWnAC9uAWqHlriE+Mx7Pb3oeV9KuwN3GHd92/xb1neuXe3tE9HCSFi1GwuzZAADnp4fB8623ICmVMldFRA+rUjr6q1QqHDt2/wtiU+l0aegBDwcNkjLzyjZmmVIF1OlkeFzOQ5iFPO08sSh8Eeo51cPN7JsYtXEUh8sgkpHrc6PhOf0dQJJwa/kvuPHqa9BzUG6iGqPMhy+feeaZYjv6U9lYKRUY3MJwYsSKA2U8U9V4CHPrQ9fhYeuBJT2XoJl7M6TnpWPMpjHYfnX7Q2+XiMrH5emn4fvZXEgqFdI3bsS1seOgyyhj31MiqpLKPE7Zyy+/jJ9++glBQUEIDQ2FnZ2dyXxL70tmKYcvAeBachY6zDYEoF3/9xhqu9qWbsWUa8C8JobhMV6/BNg8/JmuWflZmLJzCvbc2AMJEiJCIzC68WiOm0Qkk8x9+3D9pQnQZ2VB07Ah/L7+CipfX7nLIqJyqLRxyk6cOIHmzZvDwcEB586dw5EjR4y3qKioh6m5xvFzsUWHIDcAwMqDZWgtc/ID3BsCQg+c+6dCarFV2eLLLl9icP3BEBD47NBneHvP28jT8dAJkRzs2rRB7aU/QenqitwzZxD91GBkHTwod1lEVInK3FJW1VlSSxkA/H08Fi/9fBjuDhrsndoFKmUpc/L2D4GdHwNB4cDwVRVWjxACv5z5BR8f+Bh6oUeIRwjmdp4LNxu3CtsHEZVefkwMrk2ciNxTpwGVCl7vvA3ne66oQkSWrdJaygpduHAB//zzD7KzswGAp2+XU7dHPOFmr8HN9FxsOBFX+hUbDzLcX9wGZN+qsHokScLTjzyN+V3nw0HlgCMJR/DUn0/hv9j/KmwfRFR6Kh8fBPz8Mxx69QTy8xE3fQZi330X+txcuUsjogpW5lCWlJSErl27on79+ujduzdiYw2XCnr++efx6quvVniB1Z3aSoFn2tQGAPzw76XSh1uPhoBHI0CfD5xeX+F1tfVti2V9lqGeUz0kZidizKYx+CbqG+jKOTYaEZWfwsYGvnPnwj1iMgAg5ZcVuDxkKHIvXZK5MiKqSGUOZa+88gpUKhWuXr0KW9s7HdOHDBmCjRs3VmhxNcUzbfyhtlLg6PVUHLpShlavwtayk79XSl11HOtgeZ/lGBQ0CAIC84/Ox9jNYxGfWYYhPIioQkiSBLfx4+H33QIoXVwM/cyeeBIpv6/hkQqiaqLMoWzTpk34+OOPUatWLZPpQUFBuHLlSoUVVpO42WswKMRwVtXCf6NLv2KT26Hs0k4gM7ESKgNsrGzwbtt3MavDLNhY2WB/3H4M/GMg1l1Yx38IiGRg37EjAteugW2bNhDZ2Yh9803EvPoaCm5VXDcGIpJHmUNZZmamSQtZoeTkZGg0mgopqiZ6rn0gAGDTqThcS84q3UqudQHvYEDogKMrKq84AH3r9MXKvivRxLUJ0vPS8faetzFx20QkZCVU6n6JqCiVhwdq/7AQ7hERgFKJtL//xqW+/ZC2sWLOxiYieZQ5lHXo0AE//fST8bkkSdDr9Zg9ezYee+yxCi2uJqnv6YCO9d2hF8DiPZdLv2LoKMP9gYWAXl8ZpRkFOgZiae+lmNx8MlQKFXZd34UB6wbg13O/Qi8qd99EZEpSKuE2fhwClv8Mdb260CUl4UZEBK5PmoyCmzflLo+IyqHMQ2KcOHECXbt2RfPmzbFt2zY8/vjjOHnyJJKTk7Fnzx7UrVu3smqtEJY2JMbddp67iZGL9sNOrcTeaV3haKN68Ep5mcCcR4DcVGD4b0BQt8ovFMCFWxfwzp53cCLpBACgqVtTvNX6LTR2a2yW/RPRHfq8PCTOn4+k7xcCBQVQODjA/eWJcB42DJKqFL9HiKhSVdqQGE2aNMG5c+fQvn179O/fH5mZmRg0aBCOHDli8YHM0nUMckMDTwdk5umweE8p+5ap7YDgpw2PD3xfecXdo55zPSztvRRvtHwDdio7HE88jmF/DcN7ke/hVg77thCZk0KthsfkyQhcvQrWjRpBn56O+A9n4dLAgcjcu1fu8oiolDh4rIVZfywGE5cfgdbaCrundoHWuhR/5SZeAL4KBSABk44ALoGVXufdbmbdxNxDc7H+kmFoDnuVPZ5r8hyGPzIctqpSXjqKiCqE0OmQ8utvuPnZZ9ClpAAA7Lt0gXvEZFjXry9vcUQ1VGmzR7lCWUpKCvbv34+EhATo7+nHNGLEiLJXa0aWHsr0eoHwebtwPiEDU7rXx6SuQaVbcdkTwIUtQPAzwICvK7fIEhyMO4iPD3yMM8lnAADuNu4Y32w8BgYNhErBQyhE5qRLTcXNr77GreXLAZ0OkCRo+/SB+8sTofb3l7s8ohql0kLZn3/+ieHDhyMjIwNardbkgtWSJCE5Obn8VZuBpYcyAFgXdQOTV0TB0UaF3W88BofStJZdPwgs7Gq4SPmE/YBbKcNcBdMLPTZEb8CXR77EjYwbAABfe1881+Q5DKg3AGqlWpa6iGqq3IsXcfOLL5H+z+0zM5VKOA4cANfnnoemjnlb1YlqqkoLZYUj+X/44YfFDo1h6apCKNPpBXp8thMXb2bi/8IbYMJj9Uq34vKhwLkNQJMngCcXVW6RD5Cvy8eqc6vw3bHvkJxjCOoeNh4Y1WQUngh6goc1icws++RJ3PziC2Tu3GWYIElw6NYVrs8/D5vgYFlrI6ruKi2U2dnZ4fjx46hTp85DFymHqhDKAGDtkRuIWBkFJ1sV/n29lK1lsceABR0Mj8fuAHxCKrXG0sguyMbv53/HohOLjGOaOagdMKjeIAx7ZBh87X1lrpCoZsk6fARJ33+PjO3bjdNsQkPh/PQwaLt3h6RmazZRRau0UDZo0CAMHToUgwcPfugi5VBVQplOL9D9s524dDMTL3eph1d7NCjdir+9ABxfDXg1BcZsB5SW0ZcrT5eHPy7+gcUnFuNq+lUAgEJSoHOtzhjcYDDaeLeBUqGUuUqimiP3wgUkLVqM1D//BPLzAQBKV1c4PfEEnAYPhroW/2AiqiiVFsp++OEHvPfeexg9ejSaNm0K1T1j4Dz++OPlq9hMqkooA4CNJ+IwftkhWKsU2PHaY/BytH7wShkJwNetgOxbQJd3gI6vVX6hZaAXeuy+sRvLTi1DZGykcbqnrScer/s4+tfrD38tOyETmUt+fAJSVq1CyurVKEi4c4UO25YtoX28H7Th4VBa+O9KIktXaaFMoSh5aDNJkqDT6cqyObOrSqFMCIGnvo3EwSu3MKSFHz5+8tHSrXh0BbBmHKBUG1rLvJpUbqHldDHlIlacWYG/o/9GWl6acXqIRwj61umLLrW7wM3GTcYKiWoOkZ+P9G3bcWvFL8iK3GecLqnVsO/cGdq+fWDfoQMUNjYyVklUNVXqkBhVWVUKZQBw6MotPDF/LxQSsGFyRzTwcnjwSkIAywcD5zcBjrWBsdsBO8sNN7m6XGy/th1rL6xFZEyk8ZJNEiSEeISgu393dPPvBi87L5krJaoZ8mNikPrXX0j74w/knr9gnC5pNLBr2xYO3brCvnNnWLm6ylglUdXBUFaCqhbKAODFZYew4UQcHmvgjsWjW5Vupaxk4PsuwK1ooHZbYMRawMryLxgfnxmPv6L/wubLm42XcCr0iMsjaOvTFu182yHYPRgqC+kvR1RdCSGQe/YsUtf9gfRNm5B/48admZIEm+Bg2LVrB7u2YbBp2pSXdCIqQYWHst69e+OXX36Bo6MjAOCjjz7C+PHj4eTkBABISkpChw4dcOrUqYevvhJVxVAWnZiJ7nN3okAv8NNzrdCxvnvpVrx5FljYDchNA+p2AYYsM1yWqYqIzYjFlqtbsOXKFhxJOAKBOz+qtla2aOXdCm282yDEIwQNnBvwRAGiSiSEQO65c0jfsgUZW7ch557f9QpbW9i2amUIaCEhsG7YkCGN6LYKD2VKpRKxsbHw8PAAAGi1WkRFRRmHxoiPj4ePjw/7lFWS9/48hUV7olHHzQ4bIjpAY1XKAHJpJ/DLUCA/C/BrAwxdDthVvUMOidmJiIyJxJ6YPYiMiTSOfVbITmWHZu7NEOIRgkfdH0Ujl0ZwsnaSp1iiGiA/NhYZ//6LzMhIZEXuM17SqZBkbQ3rJo1hGxwMm9s3KzfL7UZBVJkqPJQpFArExcUZQ5mDgwOOHj3KUGYmaTn56PLpTiRm5OL1ng3wUudSDigLANf2Az8/CeSkAg7ewMAFQJ1OlVdsJdMLPc4mn8WemD04HH8YUQlRSM9PL7Kcj50PHnF9BI+4PIJHXB9BA+cG8LD1MLkKBRE9PKHXI+f0aWRFRiLzwAHkRB2FLjW1yHJKdzdYN2gI64YNoLl9rw4MhGRlJUPVRObDUFaCqhrKAOD3w9cxZdVR2KiU2PpqJ/g4leEsqPhTwOqRQOI5ABLQbBjQ5W3AseqPRaTT63Ah5QKOJBzB4fjDOJl00jgW2r3sVfYIdAw0uQVoA+Bj7wMbK55VRlQRhBDIi76M7CNHkB0VheyoKOReuGA4CekekkoFlX9tqAMCoPb3hzogAJqAAKgDAqB0c+MfUVQtVMrhy7i4OLi7G/ozOTg44NixYwgMNFw7rTyhbNeuXfjkk09w6NAhxMbGYs2aNRgwYMB919mxYwemTJmCkydPws/PD2+//TZGjRpV6n1W5VAmhMDgBZE4cPkW+jT1xtfDm5dtA3mZwMZpwOEfDc+trIGmTwItXwC8g4Fq9MsvPS8dZ5LP4HTSaZxKPoXTSadxJe0KdKLkn08Xaxf42vvCx94HPvY+8LXzhbe9N9xs3OBm4wYXaxdYKfgXPVF56LOykHvuHHLOnEXO2TPIPXMWOWfPQmRllbiOwtYWKl8fWHl5Q+XtDZW3l+ljNzdItrYMbmTxKqWlrFevXtBoDGfw/fnnn+jSpQvs7Awdx3Nzc7Fx48YyhbINGzZgz549CA0NxaBBgx4YyqKjo9GkSROMHz8eL7zwArZu3YqIiAj89ddfCA8PL9U+q3IoA4BTMWno++W/0AtgyeiW6NzAo+wbuX4I2PQ2cHXvnWnOgUDDPkDtNoBvC0DrXXFFW4g8XR6upV/DpdRLuJRyCdFp0biUcgnX0q8hIz/jgetLkOBs7QxXG1e4Wd8JalqNFo5qR2g1WmjVt2+3HzuoHRjkiEog9Hrkx8QgL/oy8q5cQd7ly8ZbfkwMoNc/cBuStTWsXFygdHW9c+/qAqWLK5SOjlA42EPpoIVS6wCFVgulvT0UDg6QlDwxiMynwkPZ6NGjS7XjxYsXl67CewuRpAeGsjfeeAN//fUXTpy4M1TC0KFDkZKSgo0bN5ZqP1U9lAHA++tP4Yfd0fB1ssGmVzrCTlOOf/SFAK79B+z/Hjj9J6DLNZ3v4AO41gWcAwBnf8DOHbB1BWxcAFsXQGVjaGkz3jRVtqVNCIG0vDTEZMQgJiMGNzJu4EbGDcRkxCAuKw5J2UlIykkyjp9WVrZWtrBV2cLGyga2Vrfvbz+/e5qNygZqhRpqpRpWCiuolWqoFWqoFCqolYZ7lVJlmHb7Xq1UQyEpoJSUxnulQllkmkJSQKlQGuZLSrYskMXT5+Uh//p15MfGoiA2FvmxcYbHcbcfx8VBZGeXe/sKOzsoHBwM99bWkGysobCxLfmxjTUktQaSSgVJZXX73vQGKytIKvWdaWoVJCsrQwBUKgFJMjxWKCApFCb3UPJ7WZ2VNnuU+l/z8oatihQZGYlu3bqZTAsPD0dERESJ6+Tm5iI3907gSEtLK3HZquLVHvXxz8k4XL+VjU/+OYuZjzcu+0YkydAqVrsNkJsOXNgKXNxqaEW7eRpIjzHcLv9b+m0qNYBCCUgKww2SYT+FzyWF6XMU8wuo2F9K0n2fljixVNuSIAFwvH17pIRt6SQlUiQlEiWBJAlIVACJkkCyBKRJAmkSkCYBqZIwPs+6vZmsgixkFZR8iEYOkgCUABQw3Eu486pNH0v3mXf7Ju48N5leyu1VJEv+Jy1Ur8TMPFvAtznw+Bdyl2PxFGo1NHXqQHO733Jx9FlZKEhOhi4xEQXJyShISoIuKRkFyYZ7XXoa9Gnp0KWnQ5+WBl1GhjHI6TMzoc/MNNfLKb0SQpsxvCkUd363Sbj9jcJd04q5Ny5+v2XubLPEZYusVzEv+UHMFVZrffMN1H5+ZtlXSarUcZW4uDh4enqaTPP09ERaWhqys7NhU8zlP2bNmoV3333XXCWaha3aCh8ObIoRi/bjx8jL6NfMB6H+zuXfoMYBaDzAcAOA3Awg/qRh4Nlbl4GUq0BWkmFA2uxkw3U183OAgmzg7tYjXS5g2ed5lJsSgOvtW2nlA0hXKJCuUCBbISFbkpClUCBbkpCtkJAl3fNYISFfkpAnScgDjI/zJQn5EgzTJQn5KFzOME0PCToJ0APQSZLx/n6EBBSU6lWUoiG9TL8va9RY1SZ8czKB+IuA7UN8V8mEwtYWaltboFatUq8j8vKgy8gwhLT0dOizsiFysqHPzoY+O8fwOCsb+pxsiJycO4+zsyHy8yHy8g33hbeCAtPn907LywN0umJPciiWTgfodMZvSs39xpifyMuTu4SqFcrKY9q0aZgyZYrxeVpaGvxkTsIVoWN9dzzRvBZ+O3wdU387hvWT2pd+7LIH0dgDtVsbbvcjBKAvAApyboe0HENIM94EAHHPtNvTi+twX+SXVjG/jopMKm6ZB2yn2F+OFb+MCoCLEHAxw76KW0Yv9NAJAZ3QQQ8BndAbpkHcnqc3Ti/sxSBuD9ErICBE4XC9d/5vmH5nOeM8cdd6d9VyZ9rt+XfVKO6t/yFV9D9eFX2xEwcrG8DOB7BhKJOTpFbDysUFcCn6zaxMQghDHzmdzvBYp4PQ3/79aDJNb1hOrzc+FoWhrnCdwp92UfTe+HNrTHVlXB6i2OWMr8Fku9WLylv+vtRVKpR5eXkhPj7eZFp8fDy0Wm2xrWQAoNFojCcnVDfv9H0EO88l4HxCBr7ZfhGvdK9v3gIkCVCqDDdNKa7JSWaluH3jmOpE8pMkyXBoUqm06MPsJC+F3AWURVhYGLZu3WoybfPmzQgLC5OpInk52aqN/cm+2XEBp2Orfn85IiKimkrWUJaRkYGoqChERUUBMAx5ERUVhatXDQN/Tps2DSNGjDAuP378eFy6dAmvv/46zpw5g2+++QarVq3CK6+8Ikf5FqFPU290b+SJfJ3AKyujkFtQTTt1ERERVXOyhrKDBw8iJCQEISEhAIApU6YgJCQE06dPBwDExsYaAxoABAYG4q+//sLmzZvRrFkzzJkzBwsXLiz1GGXVkSRJ+HBgU7jaqXEmLh2fbT4vd0lERERUDqUep6y6qA7jlBXnn5NxGLf0ECQJWDUuDC0DzNuJlYiIiIpX2uxRpfqUUcnCG3vhydBaEAJ4ddVRZOSWbsADIiIisgwMZdXI9H6N4Otkg6vJWfjgr1Nyl0NERERlwFBWjWitVfj0qWaQJOCX/dew6WSc3CURERFRKTGUVTNhdV0xpoPhsiSv/3YMMSnlvzYcERERmQ9DWTX0Wo8GeLSWI1Ky8hGxIgoFuvJdSJuIiIjMh6GsGlJbKfDlsBDYa6yw/3Iyvth2Qe6SiIiI6AEYyqopf1c7fDCwCQDgq23nEXkxSeaKiIiI6H4Yyqqx/sG+GNyiFvQCiFh5BEkZuXKXRERERCVgKKvmZj7eGHXd7RCflovJK6Kg09eosYKJiIiqDIayas5WbYX5z4TCRqXE7guJmLv5rNwlERERUTEYymqA+p4O+OiJpgCAr7df5PhlREREFoihrIboH+yL0e0CABguwxSdmClvQURERGSCoawGebP3I2jh74z03AKMX3oIWXm8PiYREZGlYCirQVRKBb4Z3hzuDhqcjU/Hq6uOQs+O/0RERBaBoayG8dBaY/7w5lApJWw4EYd5W87JXRIRERGBoaxGahHggg8HGjr+f7HtAv48GiNzRURERMRQVkM91cIPYzsaLlz+2uqjOHotRd6CiIiIajiGshrsjZ4N0bWhB3IL9Bjz00HEpmbLXRIREVGNxVBWgykVEuYNDUZ9T3skpOdi9OIDSMvJl7ssIiKiGomhrIZzsFbhh5Et4e6gwZm4dLy47BDyCvRyl0VERFTjMJQR/FxssXhUS9ipldhzIQmv/3oUQnCoDCIiInNiKCMAQBNfR3zzTCiUCglro2Iw+x9eI5OIiMicGMrIqFN9d3w0yDBUxvwdF7E08rK8BREREdUgDGVk4qkWfpjSvT4AYMYfJ7HxBC9eTkREZA4MZVTEy13qYVgrP+gFMOmXI/j3/E25SyIiIqr2GMqoCEmS8H7/JujVxAt5Oj3G/nQIh67ckrssIiKiao2hjIplpVRg3tBgdAhyQ3a+DqMX78epmDS5yyIiIqq2GMqoRBorJRY8G4oW/s5IyynAiEX/IToxU+6yiIiIqiWGMrovW7UVfhjVEo28tUjMyMMzC/9DTAovx0RERFTRGMrogRxtVPjp+Vao42aHGynZeGbhf0jMyJW7LCIiomqFoYxKxc1eg2UvtIavkw0uJWbimYX/ITkzT+6yiIiIqg2GMio1HycbLHuhNTxuXyfz6e/34RaDGRERUYVgKKMyCXSzw/IxbYwXMB++8D+kZDGYERERPSyGMiqzeh72+GVMa7jZa3AqNg3DF/6H1Kx8ucsiIiKq0hjKqFzqeTjglzGt4WqnxsmYNDzzw39IzWYwIyIiKi+GMiq3IE8HLB/TBi52ahy/kYoRP/yHtBwGMyIiovJgKKOH0sDLAT+/0BrOtiocvZ6KZ9jHjIiIqFwYyuihPeKtxbLbwezY9VQM/W4fxzEjIiIqI4YyqhCNfRyxclyY8azMIQsiEZeaI3dZREREVQZDGVWY+p4OWDUuDD6O1rh4MxODF0TiWnKW3GURERFVCQxlVKEC3eywanwYarvY4mpyFoYsiORFzImIiEqBoYwqXC1nW6waF4a67naISc3B4AWROBefLndZREREFo2hjCqFl6M1Vo4LQ0MvB9xMz8VT30bi0JVbcpdFRERksRjKqNK42WuwYmwbNK/thNTsfAxfuA/bzyTIXRYREZFFYiijSuVkq8ayF1qjcwN35OTr8cJPB/H74etyl0VERGRxGMqo0tmqrfD9iBYYGOILnV5gyqqj+H7XJbnLIiIisigMZWQWKqUCc55qhhfaBwIAPvj7NGb9fRpCCJkrIyIisgwMZWQ2CoWEt/o8gqm9GgIAFuy6hFdXHUVegV7myoiIiOTHUEZmJUkSxneqi9lPPgqlQsLvR25g5KL9SM3mhcyJiKhmYygjWQxu4YeFI1vATq1E5KUkPDl/L0f/JyKiGo2hjGTzWAMPrBofBk+tBucTMjDwm704dj1F7rKIiIhkwVBGsmrs44i1E9qhoZcDEjNyMWTBPmw5FS93WURERGbHUEay83a0werxYegQ5IbsfB3GLj2IH/delrssIiIis2IoI4vgYK3ColEtMbSlH/QCmPHHSbz35ykU6HhmJhER1QwMZWQxVEoFZg1qiv8LbwAAWLQnGs//eBBpOTwzk4iIqj+GMrIokiRhwmP18M3w5rBWKbDz3E0M/HoPohMz5S6NiIioUjGUkUXq3dQbv45vC29Ha1y8mYkBX+/B7vOJcpdFRERUaRjKyGI18XXEuontEFLbCanZ+Ri5eD9+irzMSzMREVG1ZBGh7Ouvv0ZAQACsra3RunVr7N+/v8RllyxZAkmSTG7W1tZmrJbMycPBGr+MaYNBty9mPn3dSby99gTyeQIAERFVM7KHspUrV2LKlCmYMWMGDh8+jGbNmiE8PBwJCQklrqPVahEbG2u8XblyxYwVk7lZq5SYM7gZpvZqCEkCfv7vKp794T/cysyTuzQiIqIKI3somzt3LsaMGYPRo0ejUaNG+Pbbb2Fra4tFixaVuI4kSfDy8jLePD09zVgxyaHwmpnfP2u4NNO+S8l4/OvdOBmTKndpREREFULWUJaXl4dDhw6hW7duxmkKhQLdunVDZGRkietlZGTA398ffn5+6N+/P06ePFnisrm5uUhLSzO5UdXVrZEnfn+pHfxcbHAtORtPzN+LNUeuy10WERHRQ5M1lCUmJkKn0xVp6fL09ERcXFyx6zRo0ACLFi3CunXrsGzZMuj1erRt2xbXrxf/D/OsWbPg6OhovPn5+VX46yDzauDlgD8ntken+u7IydfjlZVHMfOPk+xnRkREVZrshy/LKiwsDCNGjEBwcDA6deqE33//He7u7liwYEGxy0+bNg2pqanG27Vr18xcMVUGJ1s1Fo1qiZe71AMALNl7GcO//w8J6TkyV0ZERFQ+soYyNzc3KJVKxMebXoA6Pj4eXl5epdqGSqVCSEgILly4UOx8jUYDrVZrcqPqQamQ8GqPBvju2VDYa6yw/3Iy+n25G4eu3JK7NCIiojKTNZSp1WqEhoZi69atxml6vR5bt25FWFhYqbah0+lw/PhxeHt7V1aZZOF6NPbCuontUM/DHvFpuRj6XSR+/u8KxzMjIqIqRfbDl1OmTMH333+PH3/8EadPn8aLL76IzMxMjB49GgAwYsQITJs2zbj8e++9h02bNuHSpUs4fPgwnnnmGVy5cgUvvPCCXC+BLEBdd3usndAOvZp4IV8n8NaaE3j912PIztPJXRoREVGpWMldwJAhQ3Dz5k1Mnz4dcXFxCA4OxsaNG42d/69evQqF4k52vHXrFsaMGYO4uDg4OzsjNDQUe/fuRaNGjeR6CWQh7DVW+GZ4cyzYdQmzN57B6kPXcfxGKr4e3hx13e3lLo+IiOi+JFHDjvGkpaXB0dERqamp7F9Wje29kIhJK6KQmJELO7USs554FI8385G7LCIiqoFKmz1kP3xJVBna1nPD35Pao00dF2Tm6TDplyN4e+1x5OTzcCYREVkmhjKqtjy01lj2fGvjsBnL9l3FE/P34kpSpsyVERERFcVQRtWalVKBV3s0wJLRLeFsq8LJmDT0/WI3Np6Ilbs0IiIiEwxlVCN0buCBvyd3QAt/Z6TnFmD8ssOY+cdJ5BbwcCYREVkGhjKqMbwdbfDL2DYY16kOAMNVAAZ+vRcXEjJkroyIiIihjGoYlVKBab0ewaJRLeBip8ap2DT0+3I3Vuy/ysFmiYhIVgxlVCN1aeiJjZM7oH09N2Tn6zD19+OYsPwwUrPy5S6NiIhqKIYyqrE8tNb46blWmNarIawUEv4+Hoden+/CgcvJcpdGREQ1EEMZ1WgKhYRxneri95faIsDVFjGpORiyIBKfbT6HAp1e7vKIiKgGYSgjAvBoLSesn9QBTzSvBb0APt96HkO/24erSVlyl0ZERDUEQxnRbfYaK8wZ3AyfDw2Gg8YKB6/cQs/Pd+EXngRARERmwFBGdI/+wb74e3IHtAp0QVaeDtN+P47nlhxAQlqO3KUREVE1xlBGVAw/F1usGNMGb/d5BGorBbafvYke83bhr2O8EgAREVUOhjKiEigUEl7oUAfrX26PJr5apGTlY8Lyw5i84giHziAiogrHUEb0APU9HbDmpXaY1KUelAoJ66JiED5vF3aduyl3aUREVI0wlBGVgkqpwJQeDfDbi21Rx80OcWk5GLFoP9749RhSs9lqRkRED4+hjKgMgv2c8NekDhjVNgAAsPLgNfT4bCc2n4qXtzAiIqryGMqIyshGrcTMxxtj9fgw1HGzQ3xaLsb8dBATlx9GUkau3OUREVEVxVBGVE4tA1zw9+QOGN+pLpQKCeuPxaLb3J1YF3WD45oREVGZMZQRPQRrlRJTezXE2pfaoaGXA25l5WPyiii88ONB3EjJlrs8IiKqQhjKiCpA01qO+GNie7zavT7USgW2nklAtzk78d2ui8jnNTSJiKgUGMqIKojaSoGXuwbhr0nt0TLAGdn5Onz49xn0+3I3Dl1Jlrs8IiKycAxlRBUsyNMBK8eGYfaTj8LZVoUzcel4Yn4kpv52DLcy8+Quj4iILBRDGVElUCgkDG7hh22vdsaQFn4AgBUHrqHr3J1YffAa9HqeCEBERKYkUcNOE0tLS4OjoyNSU1Oh1WrlLodqiAOXk/HWmuM4F58BAGhe2wkz+jVGMz8neQsjIqJKV9rswVBGZCb5Oj1+2B2NL7aeR1aeDgDwZGgtvN6zATwcrGWujoiIKgtDWQkYykhu8Wk5+HjjGfx++AYAwE6txMtdgzC6XQA0VkqZqyMioorGUFYChjKyFEeu3sLMP0/h6LUUAIC/qy3e7tMI3R7xgCRJ8hZHREQVhqGsBAxlZEn0eoG1UTfw0YYzSEg3XKKpTR0XTO31CILZ34yIqFpgKCsBQxlZoozcAnyz/QIW7o5GXoFhsNneTb3wWo8GqONuL3N1RET0MBjKSsBQRpYsJiUbn20+h18PX4cQgFIhYWhLP0zuGgQPLU8GICKqihjKSsBQRlXB2bh0fPLPGWw5nQAAsFEp8UKHQIzpWAdaa5XM1RERUVkwlJWAoYyqkv8uJeGjjWdw5GoKAEBrbYXn2gdidLtAONownBERVQUMZSVgKKOqRgiBf07GY86mszifYBh81sHaCs8znBERVQkMZSVgKKOqSq8X+PtELD7fct4knD3XLhDPtWc4IyKyVAxlJWAoo6pOrxfYcCIOn289Z7xsk4PGCs+G+WNUuwBeHYCIyMIwlJWAoYyqC71eYOPJOHy+5TzOxqcDANRWCjzRvBbGdAjkUBpERBaCoawEDGVU3ej1AptOxWPBrovGEwIkCejRyBPjO9VFSG1neQskIqrhGMpKwFBG1ZUQAgev3MK3Oy5i65kE4/TmtZ0wsm0AejXxhtpKIWOFREQ1E0NZCRjKqCY4H5+O73ZdwtqoG8jXGb7iHg4aPN26Np5uXZv9zoiIzIihrAQMZVSTJKTlYPn+q/j5v6u4efvamiqlhN5NvfFsG3+E+jvz4udERJWMoawEDGVUE+UV6LHhRCx+3HsZh2/3OwOAuu52GNqyNgY194WrvUa+AomIqjGGshIwlFFNd/x6Kn6KvIz1x2KRna8DYGg9697IE0Na1kb7em5QKth6RkRUURjKSsBQRmSQnpOPP4/GYuWBqzh6PdU43Utrjf7BPhgQ4otHvPkdISJ6WAxlJWAoIyrqVEwaVh28ht8PX0daToFxegNPBwwI8cXjwT7wdbKRsUIioqqLoawEDGVEJcvJ12HH2QSsPRKDbWcSkKfTG+e18HdGzyZeCG/sBT8XWxmrJCKqWhjKSsBQRlQ6qVn52HAiFmujbmDfpWSTeU18tejZ2As9m3ijngevHEBEdD8MZSVgKCMqu9jUbPxzIg4bT8Zhf3Qy9Hf91qjnYY/ujTzRub47mvs7Q6XkALVERHdjKCsBQxnRw0nKyMXmU/HYeDIOey4kGgenBQwXRm8f5IbODdzRqb4HvBw5SC0REUNZCRjKiCpOWk4+tp9JwLYzCdh17iZuZeWbzG/o5YBO9d3Rpo4rWgQ4w8FaJVOlRETyYSgrAUMZUeXQ6QWOXU/BjrM3sfPcTRy9noK7f7soFRKa+DqiTR0XQ0jzZ0gjopqBoawEDGVE5pGcmYd/z9/E3gtJ2BedhCtJWSbzlQoJjby1aF7bCSG1nRFS2wm1XWx52SciqnYYykrAUEYkj5iUbPwXnYR9F5OLDWkA4GKnRrCfE0L8nNDMzwmNfbS8/BMRVXkMZSVgKCOyDDEp2Th89RaOXE3Bkau3cOJGmsm4aIU8tRo09nFEI28tGvlo0dhHCz9nWyh4KSgiqiIYykrAUEZkmXILdDgdm44jV2/h8NUUnLyRiuikTBT3G8pOrURdD3vUdbdHvbvu/V1tOSQHEVkchrISMJQRVR0ZuQU4G5eGUzFpOBmThlOxaTgTl468gqItagBgpZAQ4GaHOm528He1RW0XW/i5GO59nW2gsVKa+RUQETGUlYihjKhqK9DpcTkpCxcSMnDxZgYuJGQYH2fl6UpcT5IAb601arnYws/ZFt6O1vB0tIa31hpejtbw1FrD1U7Nw6JEVOGqVCj7+uuv8cknnyAuLg7NmjXDl19+iVatWpW4/OrVq/HOO+/g8uXLCAoKwscff4zevXuXal8MZUTVk14vEJuWgwsJGYi+mYFrt7JxNTkL15KzcDU5676BrZBKKcHDwRDSvLTWcLVXw8VODVc7NVzsNIbHt6c526qhZIAjolIobfawMmNNxVq5ciWmTJmCb7/9Fq1bt8a8efMQHh6Os2fPwsPDo8jye/fuxbBhwzBr1iz07dsXy5cvx4ABA3D48GE0adJEhldARJZAoZDg62QDXycbdKrvbjJPCIGkzDxjQLt+KxtxqTmIS8tBfFoOYlNzkJiRi3ydwI2UbNxIyX7g/iQJcLY1BDSttRW0Nio4WKugtbYy3NtYGZ9r73puq1bCVm0FW7USGisFhwAhIiPZW8pat26Nli1b4quvvgIA6PV6+Pn54eWXX8bUqVOLLD9kyBBkZmZi/fr1xmlt2rRBcHAwvv322wfujy1lRFScfJ0eN9NzEZtqCGrxaTlIyshDUmYekjNzkZxZ+DgPKfdcuaC8JAmwUSlhq1bCRq2EjUoJG7UVbG9Ps74d3DRWCqiVCqitFFDdvlffNU1917TC+RqlAlZKBZQKQKlQQClJUCruuUkSlEqp2HlWCgmK29MVEhgeiR5ClWgpy8vLw6FDhzBt2jTjNIVCgW7duiEyMrLYdSIjIzFlyhSTaeHh4Vi7dm2xy+fm5iI3N9f4PC0t7eELJ6JqR6VUwMfJBj5ONg9cNl+nx60sQ0BLzsxDWnYB0nLykZ5TgLTs2/c5+UjPyUdadgHSc2/f5+QjM09nPFFBCCArT1eqQ6tyU0iAQpIgSYAECbf/u2uaIbgZ7m8/vmu64UjvnWn3rgcACoVh2/dOv59SRcVSLPSgRSqqltJkW6kUWyprRp7cNQi9mnqXbSUyO1lDWWJiInQ6HTw9PU2me3p64syZM8WuExcXV+zycXFxxS4/a9YsvPvuuxVTMBERDAHOw8EaHg7lu+B6gU6PnAI9svIKkH07lGXn6+55XICsPB1yC/TIL9AjT6dHXoHe8Pz24zzdnce5BYb7fN2dZQt0AjohoNPfcxMCutvzCvQCer3h/n70AtAbD6zI3hWZyiglu2Jad6lyyd6nrLJNmzbNpGUtLS0Nfn5+MlZERDWdlVIBe6UC9hrL+hWs15uGuMLAVjhNCECg8N7QV08ImEzXC3F7HgAI6IubfzvTFU43LHNnvcLHD1Kazjel6aHzoCVKtZ/SVFwxi5SqnnvV87Av+0pkdrL+RnBzc4NSqUR8fLzJ9Pj4eHh5eRW7jpeXV5mW12g00Gh4mRYiogdRKCQoIEHF4dyIZCHr0NdqtRqhoaHYunWrcZper8fWrVsRFhZW7DphYWEmywPA5s2bS1yeiIiIqCqQve18ypQpGDlyJFq0aIFWrVph3rx5yMzMxOjRowEAI0aMgK+vL2bNmgUAmDx5Mjp16oQ5c+agT58+WLFiBQ4ePIjvvvtOzpdBRERE9FBkD2VDhgzBzZs3MX36dMTFxSE4OBgbN240dua/evUqFIo7DXpt27bF8uXL8fbbb+PNN99EUFAQ1q5dyzHKiIiIqEqTfZwyc+M4ZURERGROpc0esvYpIyIiIiIDhjIiIiIiC8BQRkRERGQBGMqIiIiILABDGREREZEFYCgjIiIisgAMZUREREQWgKGMiIiIyAIwlBERERFZAIYyIiIiIgsg+7Uvza3wqlJpaWkyV0JEREQ1QWHmeNCVLWtcKEtPTwcA+Pn5yVwJERER1STp6elwdHQscX6NuyC5Xq9HTEwMHBwcIElShW8/LS0Nfn5+uHbtGi94biH4mVgefiaWh5+J5eFnYnnK+5kIIZCeng4fHx8oFCX3HKtxLWUKhQK1atWq9P1otVp+iSwMPxPLw8/E8vAzsTz8TCxPeT6T+7WQFWJHfyIiIiILwFBGREREZAEYyiqYRqPBjBkzoNFo5C6FbuNnYnn4mVgefiaWh5+J5ansz6TGdfQnIiIiskRsKSMiIiKyAAxlRERERBaAoYyIiIjIAjCUEREREVkAhrIK9PXXXyMgIADW1tZo3bo19u/fL3dJ1dauXbvQr18/+Pj4QJIkrF271mS+EALTp0+Ht7c3bGxs0K1bN5w/f95kmeTkZAwfPhxarRZOTk54/vnnkZGRYcZXUb3MmjULLVu2hIODAzw8PDBgwACcPXvWZJmcnBxMmDABrq6usLe3xxNPPIH4+HiTZa5evYo+ffrA1tYWHh4e+L//+z8UFBSY86VUG/Pnz8ejjz5qHOgyLCwMGzZsMM7n5yG/jz76CJIkISIiwjiNn4t5zZw5E5IkmdwaNmxonG/Oz4OhrIKsXLkSU6ZMwYwZM3D48GE0a9YM4eHhSEhIkLu0aikzMxPNmjXD119/Xez82bNn44svvsC3336L//77D3Z2dggPD0dOTo5xmeHDh+PkyZPYvHkz1q9fj127dmHs2LHmegnVzs6dOzFhwgTs27cPmzdvRn5+Pnr06IHMzEzjMq+88gr+/PNPrF69Gjt37kRMTAwGDRpknK/T6dCnTx/k5eVh7969+PHHH7FkyRJMnz5djpdU5dWqVQsfffQRDh06hIMHD6JLly7o378/Tp48CYCfh9wOHDiABQsW4NFHHzWZzs/F/Bo3bozY2Fjjbffu3cZ5Zv08BFWIVq1aiQkTJhif63Q64ePjI2bNmiVjVTUDALFmzRrjc71eL7y8vMQnn3xinJaSkiI0Go345ZdfhBBCnDp1SgAQBw4cMC6zYcMGIUmSuHHjhtlqr84SEhIEALFz504hhOEzUKlUYvXq1cZlTp8+LQCIyMhIIYQQf//9t1AoFCIuLs64zPz584VWqxW5ubnmfQHVlLOzs1i4cCE/D5mlp6eLoKAgsXnzZtGpUycxefJkIQS/J3KYMWOGaNasWbHzzP15sKWsAuTl5eHQoUPo1q2bcZpCoUC3bt0QGRkpY2U1U3R0NOLi4kw+D0dHR7Ru3dr4eURGRsLJyQktWrQwLtOtWzcoFAr8999/Zq+5OkpNTQUAuLi4AAAOHTqE/Px8k8+lYcOGqF27tsnn0rRpU3h6ehqXCQ8PR1pamrF1h8pHp9NhxYoVyMzMRFhYGD8PmU2YMAF9+vQxef8Bfk/kcv78efj4+KBOnToYPnw4rl69CsD8n0eNuyB5ZUhMTIROpzP5QADA09MTZ86ckamqmisuLg4Aiv08CufFxcXBw8PDZL6VlRVcXFyMy1D56fV6REREoF27dmjSpAkAw3uuVqvh5ORksuy9n0txn1vhPCq748ePIywsDDk5ObC3t8eaNWvQqFEjREVF8fOQyYoVK3D48GEcOHCgyDx+T8yvdevWWLJkCRo0aIDY2Fi8++676NChA06cOGH2z4OhjIgq3IQJE3DixAmTfhkkjwYNGiAqKgqpqan49ddfMXLkSOzcuVPusmqsa9euYfLkydi8eTOsra3lLocA9OrVy/j40UcfRevWreHv749Vq1bBxsbGrLXw8GUFcHNzg1KpLHI2Rnx8PLy8vGSqquYqfM/v93l4eXkVOQmjoKAAycnJ/Mwe0sSJE7F+/Xps374dtWrVMk738vJCXl4eUlJSTJa/93Mp7nMrnEdlp1arUa9ePYSGhmLWrFlo1qwZPv/8c34eMjl06BASEhLQvHlzWFlZwcrKCjt37sQXX3wBKysreHp68nORmZOTE+rXr48LFy6Y/XvCUFYB1Go1QkNDsXXrVuM0vV6PrVu3IiwsTMbKaqbAwEB4eXmZfB5paWn477//jJ9HWFgYUlJScOjQIeMy27Ztg16vR+vWrc1ec3UghMDEiROxZs0abNu2DYGBgSbzQ0NDoVKpTD6Xs2fP4urVqyafy/Hjx00C8+bNm6HVatGoUSPzvJBqTq/XIzc3l5+HTLp27Yrjx48jKirKeGvRogWGDx9ufMzPRV4ZGRm4ePEivL29zf89KfNpClSsFStWCI1GI5YsWSJOnTolxo4dK5ycnEzOxqCKk56eLo4cOSKOHDkiAIi5c+eKI0eOiCtXrgghhPjoo4+Ek5OTWLdunTh27Jjo37+/CAwMFNnZ2cZt9OzZU4SEhIj//vtP7N69WwQFBYlhw4bJ9ZKqvBdffFE4OjqKHTt2iNjYWOMtKyvLuMz48eNF7dq1xbZt28TBgwdFWFiYCAsLM84vKCgQTZo0ET169BBRUVFi48aNwt3dXUybNk2Ol1TlTZ06VezcuVNER0eLY8eOialTpwpJksSmTZuEEPw8LMXdZ18Kwc/F3F599VWxY8cOER0dLfbs2SO6desm3NzcREJCghDCvJ8HQ1kF+vLLL0Xt2rWFWq0WrVq1Evv27ZO7pGpr+/btAkCR28iRI4UQhmEx3nnnHeHp6Sk0Go3o2rWrOHv2rMk2kpKSxLBhw4S9vb3QarVi9OjRIj09XYZXUz0U93kAEIsXLzYuk52dLV566SXh7OwsbG1txcCBA0VsbKzJdi5fvix69eolbGxshJubm3j11VdFfn6+mV9N9fDcc88Jf39/oVarhbu7u+jatasxkAnBz8NS3BvK+LmY15AhQ4S3t7dQq9XC19dXDBkyRFy4cME435yfhySEEOVu4yMiIiKiCsE+ZUREREQWgKGMiIiIyAIwlBERERFZAIYyIiIiIgvAUEZERERkARjKiIiIiCwAQxkRERGRBWAoIyIiIrIADGVERBUoICAA8+bNk7sMIqqCGMqIqMoaNWoUBgwYAADo3LkzIiIizLbvJUuWwMnJqcj0AwcOYOzYsWarg4iqDyu5CyAisiR5eXlQq9XlXt/d3b0CqyGimoQtZURU5Y0aNQo7d+7E559/DkmSIEkSLl++DAA4ceIEevXqBXt7e3h6euLZZ59FYmKicd3OnTtj4sSJiIiIgJubG8LDwwEAc+fORdOmTWFnZwc/Pz+89NJLyMjIAADs2LEDo0ePRmpqqnF/M2fOBFD08OXVq1fRv39/2NvbQ6vVYvDgwYiPjzfOnzlzJoKDg7F06VIEBATA0dERQ4cORXp6euW+aURkcRjKiKjK+/zzzxEWFoYxY8YgNjYWsbGx8PPzQ0pKCrp06YKQkBAcPHgQGzduRHx8PAYPHmyy/o8//gi1Wo09e/bg22+/BQAoFAp88cUXOHnyJH788Uds27YNr7/+OgCgbdu2mDdvHrRarXF/r732WpG69Ho9+vfvj+TkZOzcuRObN2/GpUuXMGTIEJPlLl68iLVr12L9+vVYv349du7ciY8++qiS3i0islQ8fElEVZ6joyPUajVsbW3h5eVlnP7VV18hJCQEH374oXHaokWL4Ofnh3PnzqF+/foAgKCgIMyePdtkm3f3TwsICMD//vc/jB8/Ht988w3UajUcHR0hSZLJ/u61detWHD9+HNHR0fDz8wMA/PTTT2jcuDEOHDiAli1bAjCEtyVLlsDBwQEA8Oyzz2Lr1q344IMPHu6NIaIqhS1lRFRtHT16FNu3b4e9vb3x1rBhQwCG1qlCoaGhRdbdsmULunbtCl9fXzg4OODZZ59FUlISsrKySr3/06dPw8/PzxjIAKBRo0ZwcnLC6dOnjdMCAgKMgQwAvL29kZCQUKbXSkRVH1vKiKjaysjIQL9+/fDxxx8Xmeft7W18bGdnZzLv8uXL6Nu3L1588UV88MEHcHFxwe7du/H8888jLy8Ptra2FVqnSqUyeS5JEvR6fYXug4gsH0MZEVULarUaOp3OZFrz5s3x22+/ISAgAFZWpf91d+jQIej1esyZMwcKheGAwqpVqx64v3s98sgjuHbtGq5du2ZsLTt16hRSUlLQqFGjUtdDRDUDD18SUbUQEBCA//77D5cvX0ZiYiL0ej0mTJiA5ORkDBs2DAcOHMDFixfxzz//YPTo0fcNVPXq1UN+fj6+/PJLXLp0CUuXLjWeAHD3/jIyMrB161YkJiYWe1izW7duaNq0KYYPH47Dhw9j//79GDFiBDp16oQWLVpU+HtARFUbQxkRVQuvvfYalEolGjVqBHd3d1y9ehU+Pj7Ys2cPdDodevTogaZNmyIiIgJOTk7GFrDiNGvWDHPnzsXHH3+MJk2a4Oeff8asWbNMlmnbti3Gjx+PIUOGwN3dvciJAoDhMOS6devg7OyMjh07olu3bqhTpw5WrlxZ4a+fiKo+SQgh5C6CiIiIqKZjSxkRERGRBWAoIyIiIrIADGVEREREFoChjIiIiMgCMJQRERERWQCGMiIiIiILwFBGREREZAEYyoiIiIgsAEMZERERkQVgKCMiIiKyAAxlRERERBbg/wGApphhFvLuYQAAAABJRU5ErkJggg==",
      "text/plain": [
       "<Figure size 700x500 with 1 Axes>"
      ]
     },
     "metadata": {},
     "output_type": "display_data"
    }
   ],
   "source": [
    "# Plotting each line for different states\n",
    "plt.figure(figsize=(7, 5))  # Set figure size similar to the uploaded image\n",
    "\n",
    "for i in range(num_vqd_runs):\n",
    "    plt.plot(all_counts[i], all_values[i])# label=f\"State {i}\")\n",
    "\n",
    "# Set axis labels and title\n",
    "plt.xlabel(\"Iteration\")\n",
    "plt.ylabel(\"Energy (E)\")\n",
    "plt.title(\"Energy Convergence for Each Computed State\")\n",
    "\n",
    "# Set y-axis to logarithmic scale\n",
    "#plt.yscale(\"log\")\n",
    "#plt.ylim(-1.0, 10)\n",
    "\n",
    "# Display legend\n",
    "#plt.legend(loc=\"upper right\")\n",
    "\n",
    "# Show plot\n",
    "plt.show()\n",
    "#plt.savefig('VQD-QHO-2')\n"
   ]
  },
  {
   "cell_type": "code",
   "execution_count": null,
   "metadata": {},
   "outputs": [],
   "source": []
  }
 ],
 "metadata": {
  "kernelspec": {
   "display_name": ".venv",
   "language": "python",
   "name": "python3"
  },
  "language_info": {
   "codemirror_mode": {
    "name": "ipython",
    "version": 3
   },
   "file_extension": ".py",
   "mimetype": "text/x-python",
   "name": "python",
   "nbconvert_exporter": "python",
   "pygments_lexer": "ipython3",
   "version": "3.10.4"
  }
 },
 "nbformat": 4,
 "nbformat_minor": 2
}
