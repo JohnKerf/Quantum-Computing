{
 "cells": [
  {
   "cell_type": "code",
   "execution_count": 1,
   "metadata": {},
   "outputs": [],
   "source": [
    "# PennyLane imports\n",
    "import pennylane as qml\n",
    "from pennylane import numpy as pnp\n",
    "\n",
    "from scipy.optimize import differential_evolution\n",
    "\n",
    "# General imports\n",
    "import os\n",
    "import json\n",
    "import numpy as np\n",
    "from datetime import datetime\n",
    "\n",
    "from qiskit.quantum_info import SparsePauliOp\n",
    "\n",
    "# custom module\n",
    "from susy_qm import calculate_Hamiltonian, create_plots"
   ]
  },
  {
   "cell_type": "code",
   "execution_count": 70,
   "metadata": {},
   "outputs": [],
   "source": [
    "potential = 'QHO'\n",
    "cut_off = 2\n",
    "tol = 1e-3"
   ]
  },
  {
   "cell_type": "code",
   "execution_count": 71,
   "metadata": {},
   "outputs": [],
   "source": [
    "#calculate Hamiltonian and expected eigenvalues\n",
    "H = calculate_Hamiltonian(cut_off, potential)\n",
    "eigenvalues = np.sort(np.linalg.eig(H)[0])\n",
    "min_eigenvalue = min(eigenvalues.real)\n",
    "\n",
    "#create qiskit Hamiltonian Pauli string\n",
    "hamiltonian = SparsePauliOp.from_operator(H)\n",
    "num_qubits = hamiltonian.num_qubits"
   ]
  },
  {
   "cell_type": "code",
   "execution_count": 72,
   "metadata": {},
   "outputs": [],
   "source": [
    "# Device\n",
    "shots = None\n",
    "dev = qml.device('lightning.qubit', wires=num_qubits, shots=shots)\n",
    "\n",
    "#Initial params shape\n",
    "num_layers = 1\n",
    "params_shape = qml.StronglyEntanglingLayers.shape(n_layers=num_layers, n_wires=num_qubits)\n",
    "        "
   ]
  },
  {
   "cell_type": "code",
   "execution_count": 88,
   "metadata": {},
   "outputs": [],
   "source": [
    "ground_params = pnp.array([4.44063813, 3.14159627, 3.26900029, 2.23356159, 4.46089481,\n",
    "            2.55241113])\n",
    "def generate_ground_state(ground_params):\n",
    "    p = pnp.tensor(ground_params.reshape(params_shape), requires_grad=True)\n",
    "    qml.StronglyEntanglingLayers(weights=p, wires=range(num_qubits), imprimitive=qml.CZ)"
   ]
  },
  {
   "cell_type": "code",
   "execution_count": 89,
   "metadata": {},
   "outputs": [
    {
     "name": "stdout",
     "output_type": "stream",
     "text": [
      "Ground state energy: 3.269605695831819e-12\n"
     ]
    }
   ],
   "source": [
    "dev = qml.device(\"default.qubit\")\n",
    "\n",
    "@qml.qnode(dev)\n",
    "def circuit():\n",
    "    generate_ground_state(ground_params)\n",
    "    return qml.expval(qml.Hermitian(H, wires=range(num_qubits)))\n",
    "\n",
    "print(f\"Ground state energy: {circuit()}\")"
   ]
  },
  {
   "cell_type": "code",
   "execution_count": 74,
   "metadata": {},
   "outputs": [],
   "source": [
    "def ansatz(params):\n",
    "    params = pnp.tensor(params.reshape(params_shape), requires_grad=True)\n",
    "    qml.StronglyEntanglingLayers(weights=params, wires=range(num_qubits), imprimitive=qml.CZ)"
   ]
  },
  {
   "cell_type": "code",
   "execution_count": 75,
   "metadata": {},
   "outputs": [
    {
     "name": "stdout",
     "output_type": "stream",
     "text": [
      "0: ─╭StronglyEntanglingLayers(M0)─┤  \n",
      "1: ─╰StronglyEntanglingLayers(M0)─┤  \n",
      "M0 = \n",
      "[[[2.51942231 4.11044856 1.08469854]\n",
      "  [3.22265354 2.02953975 2.67893565]]]\n"
     ]
    }
   ],
   "source": [
    "random_params = np.random.uniform(low=0, high=2 * np.pi, size=np.prod(params_shape)).reshape(params_shape)\n",
    "print(qml.draw(ansatz)(random_params))"
   ]
  },
  {
   "cell_type": "code",
   "execution_count": 91,
   "metadata": {},
   "outputs": [
    {
     "name": "stdout",
     "output_type": "stream",
     "text": [
      "0: ─╭StronglyEntanglingLayers(M0)─╭StronglyEntanglingLayers(M1)──||──H─╭●────╭●─────H─┤ ╭<𝓗(M2)>\n",
      "1: ─╰StronglyEntanglingLayers(M0)─╰StronglyEntanglingLayers(M1)──||────├SWAP─│────────┤ ╰<𝓗(M2)>\n",
      "2: ──────────────────────────────────────────────────────────────||────│─────├SWAP────┤         \n",
      "3: ──────────────────────────────────────────────────────────────||────╰SWAP─│────────┤         \n",
      "4: ──────────────────────────────────────────────────────────────||──────────╰SWAP────┤         \n",
      "\n",
      "M0 = \n",
      "[[[4.44063813 3.14159627 3.26900029]\n",
      "  [2.23356159 4.46089481 2.55241113]]]\n",
      "M1 = \n",
      "[[[2.51942231 4.11044856 1.08469854]\n",
      "  [3.22265354 2.02953975 2.67893565]]]\n",
      "M2 = \n",
      "[[1.+0.j 0.+0.j 0.+0.j 0.+0.j]\n",
      " [0.+0.j 1.+0.j 0.+0.j 0.+0.j]\n",
      " [0.+0.j 0.+0.j 0.+0.j 0.+0.j]\n",
      " [0.+0.j 0.+0.j 0.+0.j 0.+0.j]]\n",
      "\n",
      "Overlap between the ground state and the ansatz: 0.7645597592867793\n"
     ]
    }
   ],
   "source": [
    "@qml.qnode(dev)\n",
    "def swap_test(params):\n",
    "\n",
    "    generate_ground_state(ground_params)\n",
    "    ansatz(params)\n",
    "\n",
    "    qml.Barrier()  # added to better visualise the circuit\n",
    "    qml.Hadamard(wires=0)\n",
    "    for i in range(num_qubits):\n",
    "        qml.CSWAP(wires=[0, 1 + i + num_qubits, 1 + i])\n",
    "    qml.Hadamard(wires=0)\n",
    "    return qml.expval(qml.Hermitian(H, wires=range(num_qubits)))\n",
    "\n",
    "print(qml.draw(swap_test)(random_params))\n",
    "print(f\"\\nOverlap between the ground state and the ansatz: {swap_test(random_params)}\")"
   ]
  },
  {
   "cell_type": "code",
   "execution_count": 100,
   "metadata": {},
   "outputs": [],
   "source": [
    "@qml.qnode(dev)\n",
    "def expected_value(params):\n",
    "    ansatz(params)\n",
    "    return qml.expval(qml.Hermitian(H, wires=range(num_qubits)))\n",
    "\n",
    "def loss_f(params):\n",
    "    global beta\n",
    "    return expected_value(params) + beta * swap_test(params)"
   ]
  },
  {
   "cell_type": "code",
   "execution_count": 76,
   "metadata": {},
   "outputs": [],
   "source": [
    "cost_history_dict = {\n",
    "    \"iters\": 0,\n",
    "    \"penalty\": [],\n",
    "    \"overlap\": [],\n",
    "    \"energy\": []\n",
    "}\n",
    "\n",
    "\n",
    "# Define the vqd cost function\n",
    "def vqd_cost_function(params):\n",
    "    \n",
    "    #print(cost_history_dict[\"iters\"])\n",
    "    cost_history_dict[\"iters\"] += 1\n",
    "\n",
    "    global prev_states\n",
    "    energy = float(energy_expec(params))\n",
    "\n",
    "    # Add penalty for overlap with previous states\n",
    "    penalty = 0\n",
    "    overlap = 0\n",
    "    beta = 5\n",
    "\n",
    "    for state in prev_states:\n",
    "        overlap = abs(np.vdot(params.flatten(), state)) ** 2\n",
    "        penalty += beta*overlap\n",
    "    \n",
    "    cost_history_dict[\"penalty\"].append(penalty)\n",
    "    cost_history_dict[\"overlap\"].append(overlap)\n",
    "    cost_history_dict[\"energy\"].append(energy)\n",
    "\n",
    "    return energy + penalty"
   ]
  },
  {
   "cell_type": "code",
   "execution_count": 101,
   "metadata": {},
   "outputs": [
    {
     "name": "stdout",
     "output_type": "stream",
     "text": [
      "Run: 0\n",
      "True\n"
     ]
    }
   ],
   "source": [
    "vqd_start = datetime.now()\n",
    "\n",
    "#variables\n",
    "num_vqd_runs = 1\n",
    "max_iterations = 1000\n",
    "strategy = 'best1bin'\n",
    "popsize = 15\n",
    "\n",
    "#data arrays\n",
    "energies = []\n",
    "prev_states = []\n",
    "\n",
    "for i in range(num_vqd_runs):\n",
    "\n",
    "    run_start = datetime.now()\n",
    "\n",
    "    if i % 1 == 0:\n",
    "        print(f\"Run: {i}\")\n",
    "\n",
    "    #Optimizer\n",
    "    bounds = [(0, 2 * np.pi) for _ in range(np.prod(params_shape))]\n",
    "\n",
    "    # Differential Evolution optimization\n",
    "    res = differential_evolution(loss_f, \n",
    "                                    bounds, \n",
    "                                    maxiter=max_iterations, \n",
    "                                    atol=tol,\n",
    "                                    strategy=strategy, \n",
    "                                    popsize=popsize)\n",
    "    \n",
    "    print(res.success)\n",
    "    energies.append(res.fun)\n",
    "    prev_states.append(res.x) "
   ]
  },
  {
   "cell_type": "code",
   "execution_count": 102,
   "metadata": {},
   "outputs": [
    {
     "data": {
      "text/plain": [
       "[1.000000000000104]"
      ]
     },
     "execution_count": 102,
     "metadata": {},
     "output_type": "execute_result"
    }
   ],
   "source": [
    "energies"
   ]
  },
  {
   "cell_type": "code",
   "execution_count": 103,
   "metadata": {},
   "outputs": [
    {
     "data": {
      "text/plain": [
       "[array([2.77067906, 3.14159283, 3.01013479, 3.73077408, 4.96388377,\n",
       "        0.65609386])]"
      ]
     },
     "execution_count": 103,
     "metadata": {},
     "output_type": "execute_result"
    }
   ],
   "source": [
    "prev_states"
   ]
  },
  {
   "cell_type": "code",
   "execution_count": null,
   "metadata": {},
   "outputs": [],
   "source": []
  }
 ],
 "metadata": {
  "kernelspec": {
   "display_name": ".venv",
   "language": "python",
   "name": "python3"
  },
  "language_info": {
   "codemirror_mode": {
    "name": "ipython",
    "version": 3
   },
   "file_extension": ".py",
   "mimetype": "text/x-python",
   "name": "python",
   "nbconvert_exporter": "python",
   "pygments_lexer": "ipython3",
   "version": "3.10.4"
  }
 },
 "nbformat": 4,
 "nbformat_minor": 2
}
