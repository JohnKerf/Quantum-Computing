{
 "cells": [
  {
   "cell_type": "code",
   "execution_count": null,
   "metadata": {},
   "outputs": [],
   "source": [
    "# PennyLane imports\n",
    "import pennylane as qml\n",
    "from pennylane import numpy as pnp\n",
    "\n",
    "from scipy.optimize import minimize\n",
    "\n",
    "# General imports\n",
    "import os\n",
    "import json\n",
    "import numpy as np\n",
    "from datetime import datetime\n",
    "import matplotlib.pyplot as plt\n",
    "\n",
    "from qiskit.quantum_info import SparsePauliOp\n",
    "\n",
    "# custom module\n",
    "from susy_qm import calculate_Hamiltonian"
   ]
  },
  {
   "cell_type": "code",
   "execution_count": 67,
   "metadata": {},
   "outputs": [],
   "source": [
    "#potential = 'AHO'\n",
    "#potential = 'AHO'\n",
    "potential = 'DW'\n",
    "cut_off = 8"
   ]
  },
  {
   "cell_type": "code",
   "execution_count": 68,
   "metadata": {},
   "outputs": [],
   "source": [
    "#calculate Hamiltonian and expected eigenvalues\n",
    "H = calculate_Hamiltonian(cut_off, potential)\n",
    "eigenvalues = np.sort(np.linalg.eig(H)[0])\n",
    "min_eigenvalue = min(eigenvalues.real)\n",
    "\n",
    "#create qiskit Hamiltonian Pauli string\n",
    "hamiltonian = SparsePauliOp.from_operator(H)\n",
    "num_qubits = hamiltonian.num_qubits"
   ]
  },
  {
   "cell_type": "code",
   "execution_count": 69,
   "metadata": {},
   "outputs": [
    {
     "data": {
      "text/plain": [
       "4"
      ]
     },
     "execution_count": 69,
     "metadata": {},
     "output_type": "execute_result"
    }
   ],
   "source": [
    "num_qubits"
   ]
  },
  {
   "cell_type": "code",
   "execution_count": 70,
   "metadata": {},
   "outputs": [],
   "source": [
    "#Initial params shape\n",
    "num_layers = 1\n",
    "params_shape = qml.StronglyEntanglingLayers.shape(n_layers=num_layers, n_wires=num_qubits)"
   ]
  },
  {
   "cell_type": "code",
   "execution_count": 71,
   "metadata": {},
   "outputs": [],
   "source": [
    "def ansatz(params, wires):\n",
    "    params = pnp.tensor(params.reshape(params_shape), requires_grad=True)\n",
    "    qml.StronglyEntanglingLayers(weights=params, wires=wires, imprimitive=qml.CZ)"
   ]
  },
  {
   "cell_type": "code",
   "execution_count": 72,
   "metadata": {},
   "outputs": [],
   "source": [
    "# Device\n",
    "shots = None\n",
    "dev = qml.device('lightning.qubit', wires=2*num_qubits+1, shots=shots)\n",
    "\n",
    "@qml.qnode(dev)\n",
    "def swap_test(params1, params2):\n",
    "\n",
    "    params1 = pnp.tensor(params1.reshape(params_shape), requires_grad=True)\n",
    "    params2 = pnp.tensor(params2.reshape(params_shape), requires_grad=True)\n",
    "\n",
    "    ancilla = 2*num_qubits\n",
    "    qml.Hadamard(wires=ancilla)\n",
    "\n",
    "    ansatz(params1, wires=range(num_qubits))\n",
    "    ansatz(params2, wires=range(num_qubits, 2*num_qubits))\n",
    "\n",
    "    qml.Barrier()\n",
    "    for i in range(num_qubits):\n",
    "        qml.CSWAP(wires=[ancilla, i, num_qubits + i])\n",
    "\n",
    "    qml.Hadamard(wires=ancilla)\n",
    "\n",
    "    return qml.probs(wires=ancilla)"
   ]
  },
  {
   "cell_type": "code",
   "execution_count": 73,
   "metadata": {},
   "outputs": [
    {
     "name": "stdout",
     "output_type": "stream",
     "text": [
      "0: ──Rot(3.03,5.70,6.28)─╭●───────╭Z──||─╭SWAP──────────────────────┤       \n",
      "1: ──Rot(1.39,2.55,5.53)─╰Z─╭●────│───||─│─────╭SWAP────────────────┤       \n",
      "2: ──Rot(0.74,0.23,1.59)────╰Z─╭●─│───||─│─────│─────╭SWAP──────────┤       \n",
      "3: ──Rot(2.62,5.42,3.95)───────╰Z─╰●──||─│─────│─────│─────╭SWAP────┤       \n",
      "4: ──Rot(0.80,0.04,2.84)─╭●───────╭Z──||─├SWAP─│─────│─────│────────┤       \n",
      "5: ──Rot(5.45,5.63,0.84)─╰Z─╭●────│───||─│─────├SWAP─│─────│────────┤       \n",
      "6: ──Rot(5.39,6.00,2.31)────╰Z─╭●─│───||─│─────│─────├SWAP─│────────┤       \n",
      "7: ──Rot(1.30,1.89,0.68)───────╰Z─╰●──||─│─────│─────│─────├SWAP────┤       \n",
      "8: ──H────────────────────────────────||─╰●────╰●────╰●────╰●─────H─┤  Probs\n",
      "\n",
      "Overlap between the ground state and the ansatz: 0.11428359120022791\n"
     ]
    }
   ],
   "source": [
    "# Example parameters for testing the swap test\n",
    "params1 = np.random.uniform(0, 2 * np.pi, size=qml.StronglyEntanglingLayers.shape(1, num_qubits))\n",
    "params2 = np.random.uniform(0, 2 * np.pi, size=qml.StronglyEntanglingLayers.shape(1, num_qubits))\n",
    "\n",
    "# Run the swap test to get the probability of the ancilla being |0>\n",
    "result = swap_test(params1, params2)\n",
    "\n",
    "# The overlap is given by 2 * P(ancilla=0) - 1\n",
    "#overlap = 2 * result[0] - 1\n",
    "overlap = 1 - 2*result[1]\n",
    "\n",
    "print(qml.draw(swap_test)(params1,params2))\n",
    "print(f\"\\nOverlap between the ground state and the ansatz: {overlap}\")"
   ]
  },
  {
   "cell_type": "code",
   "execution_count": 74,
   "metadata": {},
   "outputs": [],
   "source": [
    "# Device\n",
    "shots = None\n",
    "dev2 = qml.device('lightning.qubit', wires=num_qubits, shots=shots)\n",
    "\n",
    "@qml.qnode(dev2)\n",
    "def expected_value(params):\n",
    "    wires = range(num_qubits)\n",
    "    ansatz(params, wires)\n",
    "    return qml.expval(qml.Hermitian(H, wires=range(num_qubits)))\n",
    "\n",
    "\n",
    "def loss_f(params):\n",
    "    global prev_param_list, beta\n",
    "    energy = expected_value(params)\n",
    "\n",
    "    penalty = 0\n",
    "\n",
    "    if len(prev_param_list) != 0:\n",
    "        for prev_param in prev_param_list:\n",
    "            overlap =  1 - (2*swap_test(prev_param, params)[1])\n",
    "            penalty += (beta*overlap)\n",
    "\n",
    "    return energy + (penalty)"
   ]
  },
  {
   "cell_type": "code",
   "execution_count": 75,
   "metadata": {},
   "outputs": [],
   "source": [
    "def callback(xk):\n",
    "    global iteration_counter, counts, values\n",
    "    \n",
    "    current_cost = loss_f(xk)\n",
    "\n",
    "    iteration_counter += 1\n",
    "    counts.append(iteration_counter) \n",
    "    values.append(current_cost)"
   ]
  },
  {
   "cell_type": "code",
   "execution_count": 76,
   "metadata": {},
   "outputs": [
    {
     "name": "stdout",
     "output_type": "stream",
     "text": [
      "Run: 0\n",
      "[np.float64(0.9338020482843177)]\n",
      "Run: 1\n",
      "[np.float64(0.9338020482843177), np.float64(0.9441506220170883)]\n",
      "Overlaps with all previous states for run 1: [np.float64(0.2960565906977327)]\n",
      "Run: 2\n",
      "[np.float64(0.9338020482843177), np.float64(0.9441506220170883), np.float64(2.9441554603087434)]\n",
      "Overlaps with all previous states for run 2: [np.float64(0.2960565906977327), np.float64(0.0976574941115752)]\n",
      "Run: 3\n",
      "[np.float64(0.9338020482843177), np.float64(0.9441506220170883), np.float64(2.9441554603087434), np.float64(3.1099834067892904)]\n",
      "Overlaps with all previous states for run 3: [np.float64(0.2960565906977327), np.float64(0.0976574941115752), np.float64(0.09726336882093245)]\n"
     ]
    }
   ],
   "source": [
    "vqd_start = datetime.now()\n",
    "\n",
    "#variables\n",
    "num_vqd_runs = 4\n",
    "max_iterations = 5000\n",
    "beta = 2.0\n",
    "tolerance = 1e-4\n",
    "\n",
    "#data arrays\n",
    "energies = []\n",
    "prev_param_list = []\n",
    "\n",
    "all_counts = []\n",
    "all_values = []\n",
    "all_overlaps = []\n",
    "\n",
    "#Initial params\n",
    "scale = 0.5\n",
    "params_shape = qml.StronglyEntanglingLayers.shape(n_layers=1, n_wires=num_qubits)\n",
    "params = scale*np.pi * pnp.random.random(size=np.prod(params_shape))\n",
    "\n",
    "for i in range(num_vqd_runs):\n",
    "\n",
    "    run_start = datetime.now()\n",
    "\n",
    "    iteration_counter = 0\n",
    "    counts = []\n",
    "    values = []\n",
    "    steps = []\n",
    "\n",
    "    if i % 1 == 0:\n",
    "        print(f\"Run: {i}\")\n",
    "\n",
    "\n",
    "    res = minimize(loss_f,\n",
    "                   x0=params,\n",
    "                   method='COBYLA',\n",
    "                   options={'maxiter': max_iterations, 'tol':tolerance},\n",
    "                   callback=callback)\n",
    "    \n",
    "    all_counts.append(counts)\n",
    "    all_values.append(values)        \n",
    "\n",
    "    energies.append(res.fun)\n",
    "    prev_param_list.append(res.x) \n",
    "    print(energies)\n",
    "\n",
    "    # Calculate overlap with all previous states\n",
    "    overlaps = []\n",
    "    if i > 0:\n",
    "        for j in range(i):\n",
    "            overlap =  1 - (2*swap_test(prev_param_list[j], params)[1])\n",
    "            overlaps.append(overlap)\n",
    "        all_overlaps.append(overlaps)\n",
    "        print(f\"Overlaps with all previous states for run {i}: {overlaps}\")\n"
   ]
  },
  {
   "cell_type": "code",
   "execution_count": 83,
   "metadata": {},
   "outputs": [
    {
     "data": {
      "image/png": "[encoded data removed]",
      "text/plain": [
       "<Figure size 1000x500 with 1 Axes>"
      ]
     },
     "metadata": {},
     "output_type": "display_data"
    }
   ],
   "source": [
    "# Plotting each line for different states\n",
    "plt.figure(figsize=(10, 5))  # Set figure size similar to the uploaded image\n",
    "\n",
    "for i in range(num_vqd_runs):\n",
    "    plt.plot(all_counts[i], all_values[i], label=f\"$E_{{{i}}} \\\\approx {energies[i]:.3f}$\")\n",
    "\n",
    "# Set axis labels and title\n",
    "plt.xlabel(\"Iteration\")\n",
    "plt.ylabel(\"Energy (E)\")\n",
    "plt.title(\"Energy Convergence for Each Computed State\")\n",
    "\n",
    "# Set y-axis to logarithmic scale\n",
    "#plt.yscale(\"log\")\n",
    "plt.ylim(-1.0, 10)\n",
    "\n",
    "# Display legend\n",
    "plt.legend(loc=\"upper right\")\n",
    "\n",
    "# Show plot\n",
    "#plt.show()\n",
    "plt.savefig('VQD-DW-8')\n"
   ]
  },
  {
   "cell_type": "code",
   "execution_count": null,
   "metadata": {},
   "outputs": [],
   "source": []
  }
 ],
 "metadata": {
  "kernelspec": {
   "display_name": ".venv",
   "language": "python",
   "name": "python3"
  },
  "language_info": {
   "codemirror_mode": {
    "name": "ipython",
    "version": 3
   },
   "file_extension": ".py",
   "mimetype": "text/x-python",
   "name": "python",
   "nbconvert_exporter": "python",
   "pygments_lexer": "ipython3",
   "version": "3.10.0"
  }
 },
 "nbformat": 4,
 "nbformat_minor": 2
}
