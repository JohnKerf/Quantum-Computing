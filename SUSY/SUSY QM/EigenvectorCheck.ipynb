{
 "cells": [
  {
   "cell_type": "code",
   "execution_count": 1,
   "metadata": {},
   "outputs": [],
   "source": [
    "import numpy as np\n",
    "import pandas as pd\n",
    "from qiskit.quantum_info import SparsePauliOp\n",
    "from susy_qm import calculate_Hamiltonian"
   ]
  },
  {
   "cell_type": "code",
   "execution_count": 2,
   "metadata": {},
   "outputs": [],
   "source": [
    "potential = 'DW'"
   ]
  },
  {
   "cell_type": "code",
   "execution_count": 3,
   "metadata": {},
   "outputs": [
    {
     "name": "stdout",
     "output_type": "stream",
     "text": [
      "2 DW\n",
      "Active basis states:\n",
      "00\n",
      "01\n",
      "##########################################\n"
     ]
    }
   ],
   "source": [
    "cutoffs = [2]\n",
    "for cutoff in cutoffs:\n",
    "    print(cutoff, potential)\n",
    "    H = calculate_Hamiltonian(cutoff, potential)\n",
    "    hamiltonian = SparsePauliOp.from_operator(H)\n",
    "    num_qubits = hamiltonian.num_qubits\n",
    "        \n",
    "    eigenvalues, eigenvectors = np.linalg.eig(H)\n",
    "    min_eigenvalue = min(eigenvalues.real)\n",
    "    min_index = np.argmin(eigenvalues)\n",
    "    min_eigenvalue = eigenvalues[min_index]\n",
    "    min_eigenvector = np.asarray(eigenvectors[:, min_index])\n",
    "\n",
    "    active_indices = [i for i, val in enumerate(min_eigenvector) if abs(val) > 1e-8]\n",
    "    states = [format(i, f'0{num_qubits}b') for i in active_indices]\n",
    "    print(\"Active basis states:\")\n",
    "    for s in states:\n",
    "        print(s)\n",
    "\n",
    "    print('##########################################')"
   ]
  },
  {
   "cell_type": "code",
   "execution_count": 4,
   "metadata": {},
   "outputs": [
    {
     "data": {
      "text/html": [
       "<style type=\"text/css\">\n",
       "#T_bfc10_row0_col0, #T_bfc10_row0_col1, #T_bfc10_row1_col0, #T_bfc10_row1_col1, #T_bfc10_row2_col2, #T_bfc10_row2_col3, #T_bfc10_row3_col2, #T_bfc10_row3_col3 {\n",
       "  background-color: green;\n",
       "}\n",
       "</style>\n",
       "<table id=\"T_bfc10\">\n",
       "  <thead>\n",
       "    <tr>\n",
       "      <th class=\"blank level0\" >&nbsp;</th>\n",
       "      <th id=\"T_bfc10_level0_col0\" class=\"col_heading level0 col0\" >0</th>\n",
       "      <th id=\"T_bfc10_level0_col1\" class=\"col_heading level0 col1\" >1</th>\n",
       "      <th id=\"T_bfc10_level0_col2\" class=\"col_heading level0 col2\" >2</th>\n",
       "      <th id=\"T_bfc10_level0_col3\" class=\"col_heading level0 col3\" >3</th>\n",
       "    </tr>\n",
       "  </thead>\n",
       "  <tbody>\n",
       "    <tr>\n",
       "      <th id=\"T_bfc10_level0_row0\" class=\"row_heading level0 row0\" >0</th>\n",
       "      <td id=\"T_bfc10_row0_col0\" class=\"data row0 col0\" >2.1</td>\n",
       "      <td id=\"T_bfc10_row0_col1\" class=\"data row0 col1\" >1.8</td>\n",
       "      <td id=\"T_bfc10_row0_col2\" class=\"data row0 col2\" >0.0</td>\n",
       "      <td id=\"T_bfc10_row0_col3\" class=\"data row0 col3\" >0.0</td>\n",
       "    </tr>\n",
       "    <tr>\n",
       "      <th id=\"T_bfc10_level0_row1\" class=\"row_heading level0 row1\" >1</th>\n",
       "      <td id=\"T_bfc10_row1_col0\" class=\"data row1 col0\" >1.8</td>\n",
       "      <td id=\"T_bfc10_row1_col1\" class=\"data row1 col1\" >2.1</td>\n",
       "      <td id=\"T_bfc10_row1_col2\" class=\"data row1 col2\" >0.0</td>\n",
       "      <td id=\"T_bfc10_row1_col3\" class=\"data row1 col3\" >0.0</td>\n",
       "    </tr>\n",
       "    <tr>\n",
       "      <th id=\"T_bfc10_level0_row2\" class=\"row_heading level0 row2\" >2</th>\n",
       "      <td id=\"T_bfc10_row2_col0\" class=\"data row2 col0\" >0.0</td>\n",
       "      <td id=\"T_bfc10_row2_col1\" class=\"data row2 col1\" >0.0</td>\n",
       "      <td id=\"T_bfc10_row2_col2\" class=\"data row2 col2\" >1.1</td>\n",
       "      <td id=\"T_bfc10_row2_col3\" class=\"data row2 col3\" >0.4</td>\n",
       "    </tr>\n",
       "    <tr>\n",
       "      <th id=\"T_bfc10_level0_row3\" class=\"row_heading level0 row3\" >3</th>\n",
       "      <td id=\"T_bfc10_row3_col0\" class=\"data row3 col0\" >0.0</td>\n",
       "      <td id=\"T_bfc10_row3_col1\" class=\"data row3 col1\" >0.0</td>\n",
       "      <td id=\"T_bfc10_row3_col2\" class=\"data row3 col2\" >0.4</td>\n",
       "      <td id=\"T_bfc10_row3_col3\" class=\"data row3 col3\" >1.1</td>\n",
       "    </tr>\n",
       "  </tbody>\n",
       "</table>\n"
      ],
      "text/plain": [
       "<pandas.io.formats.style.Styler at 0x26056f59be0>"
      ]
     },
     "execution_count": 4,
     "metadata": {},
     "output_type": "execute_result"
    }
   ],
   "source": [
    "def highlight_nonzero(val):\n",
    "    return 'background-color: green' if val != 0 else ''\n",
    "\n",
    "df = pd.DataFrame(H.real)\n",
    "df = df.style.map(highlight_nonzero).format(precision=1)\n",
    "df\n"
   ]
  },
  {
   "cell_type": "code",
   "execution_count": 5,
   "metadata": {},
   "outputs": [
    {
     "data": {
      "text/html": [
       "<style type=\"text/css\">\n",
       "#T_361c9_row0_col0, #T_361c9_row0_col1, #T_361c9_row1_col0, #T_361c9_row1_col1 {\n",
       "  background-color: green;\n",
       "}\n",
       "</style>\n",
       "<table id=\"T_361c9\">\n",
       "  <thead>\n",
       "    <tr>\n",
       "      <th class=\"blank level0\" >&nbsp;</th>\n",
       "      <th id=\"T_361c9_level0_col0\" class=\"col_heading level0 col0\" >0</th>\n",
       "      <th id=\"T_361c9_level0_col1\" class=\"col_heading level0 col1\" >1</th>\n",
       "      <th id=\"T_361c9_level0_col2\" class=\"col_heading level0 col2\" >2</th>\n",
       "      <th id=\"T_361c9_level0_col3\" class=\"col_heading level0 col3\" >3</th>\n",
       "    </tr>\n",
       "  </thead>\n",
       "  <tbody>\n",
       "    <tr>\n",
       "      <th id=\"T_361c9_level0_row0\" class=\"row_heading level0 row0\" >0</th>\n",
       "      <td id=\"T_361c9_row0_col0\" class=\"data row0 col0\" >2.1</td>\n",
       "      <td id=\"T_361c9_row0_col1\" class=\"data row0 col1\" >1.8</td>\n",
       "      <td id=\"T_361c9_row0_col2\" class=\"data row0 col2\" >0.0</td>\n",
       "      <td id=\"T_361c9_row0_col3\" class=\"data row0 col3\" >0.0</td>\n",
       "    </tr>\n",
       "    <tr>\n",
       "      <th id=\"T_361c9_level0_row1\" class=\"row_heading level0 row1\" >1</th>\n",
       "      <td id=\"T_361c9_row1_col0\" class=\"data row1 col0\" >1.8</td>\n",
       "      <td id=\"T_361c9_row1_col1\" class=\"data row1 col1\" >2.1</td>\n",
       "      <td id=\"T_361c9_row1_col2\" class=\"data row1 col2\" >0.0</td>\n",
       "      <td id=\"T_361c9_row1_col3\" class=\"data row1 col3\" >0.0</td>\n",
       "    </tr>\n",
       "    <tr>\n",
       "      <th id=\"T_361c9_level0_row2\" class=\"row_heading level0 row2\" >2</th>\n",
       "      <td id=\"T_361c9_row2_col0\" class=\"data row2 col0\" >0.0</td>\n",
       "      <td id=\"T_361c9_row2_col1\" class=\"data row2 col1\" >0.0</td>\n",
       "      <td id=\"T_361c9_row2_col2\" class=\"data row2 col2\" >1.1</td>\n",
       "      <td id=\"T_361c9_row2_col3\" class=\"data row2 col3\" >0.4</td>\n",
       "    </tr>\n",
       "    <tr>\n",
       "      <th id=\"T_361c9_level0_row3\" class=\"row_heading level0 row3\" >3</th>\n",
       "      <td id=\"T_361c9_row3_col0\" class=\"data row3 col0\" >0.0</td>\n",
       "      <td id=\"T_361c9_row3_col1\" class=\"data row3 col1\" >0.0</td>\n",
       "      <td id=\"T_361c9_row3_col2\" class=\"data row3 col2\" >0.4</td>\n",
       "      <td id=\"T_361c9_row3_col3\" class=\"data row3 col3\" >1.1</td>\n",
       "    </tr>\n",
       "  </tbody>\n",
       "</table>\n"
      ],
      "text/plain": [
       "<pandas.io.formats.style.Styler at 0x26056e67d90>"
      ]
     },
     "execution_count": 5,
     "metadata": {},
     "output_type": "execute_result"
    }
   ],
   "source": [
    "active_indices = [i for i, val in enumerate(min_eigenvector) if abs(val) > 1e-8]\n",
    "df = pd.DataFrame(H.real)\n",
    "\n",
    "def highlight_active_contribution(val, row_idx, col_idx):\n",
    "    if row_idx in active_indices and col_idx in active_indices:\n",
    "        return 'background-color: green'\n",
    "    return ''\n",
    "\n",
    "styled_df = df.style.apply(\n",
    "    lambda data: np.vectorize(highlight_active_contribution)(data, *np.indices(data.shape)),\n",
    "    axis=None\n",
    ").format(\"{:.1f}\")\n",
    "\n",
    "styled_df\n"
   ]
  },
  {
   "cell_type": "code",
   "execution_count": 6,
   "metadata": {},
   "outputs": [
    {
     "name": "stdout",
     "output_type": "stream",
     "text": [
      "Active basis states:\n",
      "00\n",
      "01\n"
     ]
    }
   ],
   "source": [
    "states = [format(i, f'0{num_qubits}b') for i in active_indices]\n",
    "print(\"Active basis states:\")\n",
    "for s in states:\n",
    "    print(s)\n",
    "\n"
   ]
  }
 ],
 "metadata": {
  "kernelspec": {
   "display_name": ".venv",
   "language": "python",
   "name": "python3"
  },
  "language_info": {
   "codemirror_mode": {
    "name": "ipython",
    "version": 3
   },
   "file_extension": ".py",
   "mimetype": "text/x-python",
   "name": "python",
   "nbconvert_exporter": "python",
   "pygments_lexer": "ipython3",
   "version": "3.13.1"
  }
 },
 "nbformat": 4,
 "nbformat_minor": 2
}
