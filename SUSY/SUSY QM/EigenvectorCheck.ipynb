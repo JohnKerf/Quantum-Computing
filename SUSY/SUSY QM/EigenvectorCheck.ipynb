{
 "cells": [
  {
   "cell_type": "code",
   "execution_count": 1,
   "metadata": {},
   "outputs": [],
   "source": [
    "import pennylane as qml\n",
    "from scipy.sparse.linalg import eigsh\n",
    "import numpy as np\n",
    "from susy_qm import calculate_Hamiltonian"
   ]
  },
  {
   "cell_type": "code",
   "execution_count": 3,
   "metadata": {},
   "outputs": [],
   "source": [
    "potential = 'DW'"
   ]
  },
  {
   "cell_type": "code",
   "execution_count": 9,
   "metadata": {},
   "outputs": [
    {
     "name": "stdout",
     "output_type": "stream",
     "text": [
      "4 DW\n",
      "[[ 0.          0.          0.          0.        ]\n",
      " [ 0.96698015 -0.16164595 -0.18805279  0.05878883]]\n",
      "#####################################\n",
      "8 DW\n",
      "[[ 0.78809287 -0.58201553  0.1393305   0.08947937 -0.09466353  0.02761835\n",
      "   0.03154059 -0.04504704]\n",
      " [ 0.          0.          0.          0.          0.          0.\n",
      "   0.          0.        ]]\n",
      "#####################################\n",
      "16 DW\n",
      "[[ 7.90444362e-01 -5.83054050e-01  1.40808200e-01  8.43368377e-02\n",
      "  -8.41227336e-02  2.15341878e-02  1.58155893e-02 -1.95095017e-02\n",
      "   5.61182898e-03  6.36916635e-03 -6.49531964e-03  1.36568657e-04\n",
      "   3.38516909e-03 -1.86669411e-03 -1.19433082e-03  2.07081883e-03]\n",
      " [ 0.00000000e+00  0.00000000e+00  0.00000000e+00  0.00000000e+00\n",
      "   0.00000000e+00  0.00000000e+00  0.00000000e+00  0.00000000e+00\n",
      "   0.00000000e+00  0.00000000e+00  0.00000000e+00  0.00000000e+00\n",
      "   0.00000000e+00  0.00000000e+00  0.00000000e+00  0.00000000e+00]]\n",
      "#####################################\n"
     ]
    }
   ],
   "source": [
    "cutoffs = [4,8,16]\n",
    "for cutoff in cutoffs:\n",
    "    print(cutoff, potential)\n",
    "    H = calculate_Hamiltonian(cutoff, potential)\n",
    "        \n",
    "    eigenvalues, eigenvectors = np.linalg.eig(H)\n",
    "    min_eigenvalue = min(eigenvalues.real)\n",
    "    min_index = np.argmin(eigenvalues)\n",
    "    min_eigenvalue = eigenvalues[min_index]\n",
    "    min_eigenvector = np.asarray(eigenvectors[:, min_index])\n",
    "\n",
    "    num_levels = 1\n",
    "    min_ev = eigenvalues.argsort()[:num_levels]\n",
    "    for e_lev in range(num_levels):\n",
    "        eig_vec = np.asarray(eigenvectors[:, min_ev[e_lev]].real)\n",
    "        eig_vec[np.abs(eig_vec) < 1e-9] = 0\n",
    "        eig_vec = eig_vec.reshape((2, cutoff))\n",
    "        print(eig_vec)\n",
    "        print(\"#####################################\")"
   ]
  },
  {
   "cell_type": "code",
   "execution_count": null,
   "metadata": {},
   "outputs": [],
   "source": []
  },
  {
   "cell_type": "code",
   "execution_count": null,
   "metadata": {},
   "outputs": [],
   "source": []
  }
 ],
 "metadata": {
  "kernelspec": {
   "display_name": ".venv",
   "language": "python",
   "name": "python3"
  },
  "language_info": {
   "codemirror_mode": {
    "name": "ipython",
    "version": 3
   },
   "file_extension": ".py",
   "mimetype": "text/x-python",
   "name": "python",
   "nbconvert_exporter": "python",
   "pygments_lexer": "ipython3",
   "version": "3.10.0"
  }
 },
 "nbformat": 4,
 "nbformat_minor": 2
}
