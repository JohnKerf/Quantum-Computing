{
 "cells": [
  {
   "cell_type": "code",
   "execution_count": 1,
   "metadata": {},
   "outputs": [],
   "source": [
    "import git\n",
    "repo_path = git.Repo('.', search_parent_directories=True).working_tree_dir\n",
    "\n",
    "import numpy as np\n",
    "import pandas as pd\n",
    "import json\n",
    "import os"
   ]
  },
  {
   "cell_type": "code",
   "execution_count": 3,
   "metadata": {},
   "outputs": [],
   "source": [
    "folder_path = os.path.join(repo_path, r\"SUSY\\SUSY QM\\PennyLane\\COBYLA\\PauliDecomp\\OptimizeHyperparams\\Bounds\")\n",
    "potential = 'AHO'\n",
    "cutoff = 16\n",
    "\n",
    "dataframes = {}\n",
    "\n",
    "folders = [f for f in os.listdir(folder_path) if os.path.isdir(os.path.join(folder_path, f))]\n",
    "\n",
    "converged_runs = []\n",
    "mean_iters = []\n",
    "min_e = []\n",
    "delta_min_e = []\n",
    "median_e = []\n",
    "delta_median_e = []\n",
    "exact_e = []\n",
    "time_taken = []\n",
    "\n",
    "num_vqe = []\n",
    "shots = []\n",
    "tolerance = []\n",
    "abs_tolerance = []\n",
    "strategy = []\n",
    "popsize = []\n",
    "maxiter = []\n",
    "\n",
    "\n",
    "for f in folders:\n",
    "\n",
    "    data_path = folder_path + \"\\\\{}\\\\{}_{}.json\".format(f,potential, cutoff)\n",
    "    \n",
    "    with open(data_path, 'r') as file:\n",
    "        data = json.load(file)\n",
    "\n",
    "    num_vqe.append(data['num_VQE'])\n",
    "    shots.append(data['shots'])\n",
    "\n",
    "    optimzer = data['Optimizer']\n",
    "    maxiter.append(optimzer['maxiter'])\n",
    "    tolerance.append(optimzer['tolerance'])\n",
    "\n",
    "    success = sum(data['success'])\n",
    "    \n",
    "    exact_min_e = np.min(data['exact_eigenvalues'])\n",
    "    exact_e.append(exact_min_e)\n",
    "\n",
    "    converged_runs.append(sum(data['success']))\n",
    "    mean_iters.append(int(np.round(np.mean(data['num_iters']))))\n",
    "    min_e.append(np.min(data['results']))\n",
    "    delta_min_e.append(abs(exact_min_e - np.min(data['results'])))\n",
    "    median_e.append(np.median(data['results']))\n",
    "    delta_median_e.append(abs(exact_min_e - np.median(data['results'])))\n",
    "    \n",
    "    time_taken.append(data['total_VQE_time'])\n",
    "\n",
    "    "
   ]
  },
  {
   "cell_type": "code",
   "execution_count": 4,
   "metadata": {},
   "outputs": [],
   "source": [
    "df = pd.DataFrame({\n",
    "    'folder': folders,\n",
    "    'num_vqe': num_vqe,\n",
    "    'shots': shots,\n",
    "    'tolerance': tolerance,\n",
    "    'Converged Runs': [f\"{c}/40\" for c in converged_runs],\n",
    "    'maxiter': maxiter,\n",
    "    'Mean Iter': mean_iters,\n",
    "    #'VQE min E': [f\"{num:.5e}\" for num in min_e],\n",
    "    'Delta min E': [f\"{num:.5e}\" for num in delta_min_e],\n",
    "    #'VQE median E': [f\"{num:.5e}\" for num in median_e],\n",
    "    'Delta median E': [f\"{num:.5e}\" for num in delta_median_e],\n",
    "    'Exact': [f\"{num:.5e}\" for num in exact_e],\n",
    "    'Time': time_taken\n",
    "})"
   ]
  },
  {
   "cell_type": "code",
   "execution_count": 5,
   "metadata": {},
   "outputs": [
    {
     "data": {
      "text/html": [
       "<div>\n",
       "<style scoped>\n",
       "    .dataframe tbody tr th:only-of-type {\n",
       "        vertical-align: middle;\n",
       "    }\n",
       "\n",
       "    .dataframe tbody tr th {\n",
       "        vertical-align: top;\n",
       "    }\n",
       "\n",
       "    .dataframe thead th {\n",
       "        text-align: right;\n",
       "    }\n",
       "</style>\n",
       "<table border=\"1\" class=\"dataframe\">\n",
       "  <thead>\n",
       "    <tr style=\"text-align: right;\">\n",
       "      <th></th>\n",
       "      <th>folder</th>\n",
       "      <th>num_vqe</th>\n",
       "      <th>shots</th>\n",
       "      <th>tolerance</th>\n",
       "      <th>Converged Runs</th>\n",
       "      <th>maxiter</th>\n",
       "      <th>Mean Iter</th>\n",
       "      <th>Delta min E</th>\n",
       "      <th>Delta median E</th>\n",
       "      <th>Exact</th>\n",
       "      <th>Time</th>\n",
       "    </tr>\n",
       "  </thead>\n",
       "  <tbody>\n",
       "    <tr>\n",
       "      <th>1</th>\n",
       "      <td>Without</td>\n",
       "      <td>100</td>\n",
       "      <td>None</td>\n",
       "      <td>1.000000e-08</td>\n",
       "      <td>0/40</td>\n",
       "      <td>10000</td>\n",
       "      <td>10000</td>\n",
       "      <td>3.84427e-06</td>\n",
       "      <td>4.46272e-01</td>\n",
       "      <td>-1.16698e-03</td>\n",
       "      <td>1 day, 10:36:59.167170</td>\n",
       "    </tr>\n",
       "    <tr>\n",
       "      <th>0</th>\n",
       "      <td>With</td>\n",
       "      <td>100</td>\n",
       "      <td>None</td>\n",
       "      <td>1.000000e-08</td>\n",
       "      <td>32/40</td>\n",
       "      <td>10000</td>\n",
       "      <td>7847</td>\n",
       "      <td>1.99180e-03</td>\n",
       "      <td>4.86779e-01</td>\n",
       "      <td>-1.16698e-03</td>\n",
       "      <td>1 day, 4:29:18.732276</td>\n",
       "    </tr>\n",
       "  </tbody>\n",
       "</table>\n",
       "</div>"
      ],
      "text/plain": [
       "    folder  num_vqe shots     tolerance Converged Runs  maxiter  Mean Iter  \\\n",
       "1  Without      100  None  1.000000e-08           0/40    10000      10000   \n",
       "0     With      100  None  1.000000e-08          32/40    10000       7847   \n",
       "\n",
       "   Delta min E Delta median E         Exact                    Time  \n",
       "1  3.84427e-06    4.46272e-01  -1.16698e-03  1 day, 10:36:59.167170  \n",
       "0  1.99180e-03    4.86779e-01  -1.16698e-03   1 day, 4:29:18.732276  "
      ]
     },
     "execution_count": 5,
     "metadata": {},
     "output_type": "execute_result"
    }
   ],
   "source": [
    "df.sort_values(['Delta min E', 'Delta median E'], ascending=[False,False])"
   ]
  },
  {
   "cell_type": "code",
   "execution_count": 30,
   "metadata": {},
   "outputs": [],
   "source": [
    "pd.options.display.float_format = lambda x: '{:e}'.format(x)\n",
    "pd.options.display.float_format = lambda x: '{:.0e}'.format(x)"
   ]
  },
  {
   "cell_type": "code",
   "execution_count": 31,
   "metadata": {},
   "outputs": [],
   "source": [
    "df['folder'] = df['folder'].astype(float)\n",
    "df = df.drop(columns=['abs_tolerance','num_vqe','shots','maxiter']).sort_values('folder',ascending=False)"
   ]
  },
  {
   "cell_type": "code",
   "execution_count": 25,
   "metadata": {},
   "outputs": [],
   "source": [
    "from tabulate import tabulate"
   ]
  },
  {
   "cell_type": "code",
   "execution_count": 32,
   "metadata": {},
   "outputs": [
    {
     "name": "stdout",
     "output_type": "stream",
     "text": [
      "\\begin{tabular}{rrlrlrrrrl}\n",
      "\\hline\n",
      "   folder &   tolerance & strategy       &   popsize & Converged Runs   &   Mean Iter &   Delta min E &   Delta median E &    Exact & Time           \\\\\n",
      "\\hline\n",
      "   0.1    &       0.001 & randtobest1bin &        20 & 40/40            &         105 &   0.00955877  &      0.0623874   & 0.891599 & 0:07:50.553802 \\\\\n",
      "   0.01   &       0.001 & randtobest1bin &        20 & 40/40            &         149 &   7.31637e-14 &      4.15834e-05 & 0.891599 & 0:10:46.134155 \\\\\n",
      "   0.001  &       0.001 & randtobest1bin &        20 & 40/40            &         210 &   7.31637e-14 &      4.13398e-05 & 0.891599 & 0:14:30.788039 \\\\\n",
      "   0.0001 &       0.001 & randtobest1bin &        20 & 40/40            &         283 &   7.31637e-14 &      4.12992e-05 & 0.891599 & 0:19:07.060427 \\\\\n",
      "   1e-05  &       0.001 & randtobest1bin &        20 & 40/40            &         263 &   7.31637e-14 &      4.12789e-05 & 0.891599 & 0:17:24.182418 \\\\\n",
      "   1e-06  &       0.001 & randtobest1bin &        20 & 39/40            &         511 &   7.31637e-14 &      4.13195e-05 & 0.891599 & 0:28:37.689326 \\\\\n",
      "   1e-07  &       0.001 & randtobest1bin &        20 & 40/40            &         295 &   7.31637e-14 &      4.12383e-05 & 0.891599 & 0:19:22.361366 \\\\\n",
      "\\hline\n",
      "\\end{tabular}\n"
     ]
    }
   ],
   "source": [
    "latex_table = tabulate(df.values, headers=df.columns, tablefmt=\"latex\")#, floatfmt=\".3f\")\n",
    "print(latex_table)\n"
   ]
  },
  {
   "cell_type": "code",
   "execution_count": null,
   "metadata": {},
   "outputs": [],
   "source": []
  }
 ],
 "metadata": {
  "kernelspec": {
   "display_name": ".venv",
   "language": "python",
   "name": "python3"
  },
  "language_info": {
   "codemirror_mode": {
    "name": "ipython",
    "version": 3
   },
   "file_extension": ".py",
   "mimetype": "text/x-python",
   "name": "python",
   "nbconvert_exporter": "python",
   "pygments_lexer": "ipython3",
   "version": "3.13.1"
  }
 },
 "nbformat": 4,
 "nbformat_minor": 2
}
