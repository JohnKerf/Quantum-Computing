{
 "cells": [
  {
   "cell_type": "code",
   "execution_count": 76,
   "metadata": {},
   "outputs": [],
   "source": [
    "import pennylane as qml\n",
    "from pennylane import numpy as pnp\n",
    "from scipy.optimize import differential_evolution, minimize\n",
    "from scipy.stats.qmc import Halton\n",
    "import os\n",
    "import json\n",
    "import numpy as np\n",
    "from datetime import datetime\n",
    "import time\n",
    "from qiskit.quantum_info import SparsePauliOp\n",
    "from susy_qm import calculate_Hamiltonian"
   ]
  },
  {
   "cell_type": "code",
   "execution_count": 200,
   "metadata": {},
   "outputs": [],
   "source": [
    "shots = 1024\n",
    "potential = 'AHO'\n",
    "cutoff = 8"
   ]
  },
  {
   "cell_type": "code",
   "execution_count": 201,
   "metadata": {},
   "outputs": [],
   "source": [
    "H = calculate_Hamiltonian(cutoff, potential)\n",
    "eigenvalues, eigenvectors = np.linalg.eig(H)\n",
    "sorted_indices = np.argsort(eigenvalues)\n",
    "lowest_indices = sorted_indices[:3]\n",
    "\n",
    "#eigenvalues = eigenvalues[lowest_indices]\n",
    "#eigenvectors = eigenvectors[lowest_indices]\n",
    "\n",
    "min_index = np.argmin(eigenvalues)\n",
    "min_eigenvalue = eigenvalues[min_index]\n",
    "min_eigenvector = np.asarray(eigenvectors[:, min_index])\n",
    "\n",
    "hamiltonian = SparsePauliOp.from_operator(H)\n",
    "num_qubits = hamiltonian.num_qubits"
   ]
  },
  {
   "cell_type": "code",
   "execution_count": 203,
   "metadata": {},
   "outputs": [
    {
     "data": {
      "text/plain": [
       "array([3.20101100e-02+0.j, 1.68015552e+00+0.j, 1.83352558e+00+0.j,\n",
       "       3.96337391e+00+0.j, 4.00985462e+00+0.j, 4.03692369e+00+0.j,\n",
       "       8.26209394e+00+0.j, 8.77647491e+00+0.j, 4.25280809e+01+0.j,\n",
       "       4.34333354e+01+0.j, 5.53066896e+01+0.j, 5.62063259e+01+0.j,\n",
       "       3.81878539e+02+0.j, 3.82821281e+02+0.j, 4.08644293e+02+0.j,\n",
       "       4.09587044e+02+0.j])"
      ]
     },
     "execution_count": 203,
     "metadata": {},
     "output_type": "execute_result"
    }
   ],
   "source": [
    "np.sort(eigenvalues)"
   ]
  },
  {
   "cell_type": "code",
   "execution_count": 193,
   "metadata": {},
   "outputs": [
    {
     "name": "stdout",
     "output_type": "stream",
     "text": [
      "Non-zero indices: [8]\n",
      "Number of non-zero entries: 1\n"
     ]
    }
   ],
   "source": [
    "vec = min_eigenvector\n",
    "\n",
    "non_zero_indices = np.where(np.abs(vec) > 1e-6)[0]\n",
    "print(\"Non-zero indices:\", non_zero_indices)\n",
    "print(\"Number of non-zero entries:\", len(non_zero_indices))\n"
   ]
  },
  {
   "cell_type": "code",
   "execution_count": 194,
   "metadata": {},
   "outputs": [],
   "source": [
    "# Implements the weighted subspace search VQE [1810.09434]\n",
    "num_layers = 1\n",
    "params_shape = qml.StronglyEntanglingLayers.shape(n_layers=num_layers, n_wires=num_qubits)\n",
    "\n",
    "# Weight vector - weights the different eigenstates in the cost function so\n",
    "# that it's the lowest ones that are found\n",
    "w = np.arange(num_qubits, 0, -1)\n",
    "\n",
    "# This ansatz works well enough, it's not the same as the one in the paper though\n",
    "wires = range(num_qubits)\n",
    "def ansatz(params, state_idx=0, wires=wires):\n",
    "    params = pnp.tensor(params.reshape(params_shape), requires_grad=True)\n",
    "    qml.PauliX(wires=wires[state_idx])\n",
    "    qml.StronglyEntanglingLayers(weights=params, wires=wires)"
   ]
  },
  {
   "cell_type": "code",
   "execution_count": 195,
   "metadata": {},
   "outputs": [],
   "source": [
    "#single_cost = qml.ExpvalCost(ansatz, H, dev)\n",
    "dev = qml.device('default.qubit', wires=num_qubits, shots=shots)\n",
    "\n",
    "@qml.qnode(dev)\n",
    "def cost_function(params, state_idx=0):\n",
    "    ansatz(params, state_idx)\n",
    "    return qml.expval(qml.Hermitian(H, wires=range(num_qubits)))"
   ]
  },
  {
   "cell_type": "code",
   "execution_count": 196,
   "metadata": {},
   "outputs": [],
   "source": [
    "# The full cost - computes single_cost for each starting state\n",
    "def total_cost(params):\n",
    "    cost = 0\n",
    "    for state_idx in range(num_qubits):\n",
    "        cost += w[state_idx] * cost_function(params, state_idx=state_idx)\n",
    "    return cost"
   ]
  },
  {
   "cell_type": "code",
   "execution_count": 204,
   "metadata": {},
   "outputs": [
    {
     "name": "stdout",
     "output_type": "stream",
     "text": [
      "Starting SSVQE optimization\n",
      "Optimization complete\n"
     ]
    }
   ],
   "source": [
    "bounds = [(0, 2 * np.pi) for _ in range(np.prod(params_shape))]\n",
    "\n",
    "max_iter = 10000\n",
    "popsize = 20\n",
    "tol = 1e-3\n",
    "abs_tol = 1e-3\n",
    "\n",
    "seed = (os.getpid() * int(time.time())) % 123456789\n",
    "halton_sampler = Halton(d=np.prod(params_shape), seed=seed)\n",
    "halton_samples = 2 * np.pi * halton_sampler.random(n=popsize)\n",
    "\n",
    "x0 = np.random.uniform(low=0, high=2*np.pi, size=np.prod(params_shape))\n",
    "\n",
    "print(\"Starting SSVQE optimization\")\n",
    "res = differential_evolution(total_cost, bounds=bounds, maxiter=max_iter, tol=tol, atol=abs_tol, popsize=popsize, init=halton_samples, seed=seed)\n",
    "#res = minimize(\n",
    "#        total_cost,\n",
    "#        x0,\n",
    "#        method= \"COBYLA\",\n",
    "#        options= {'maxiter':max_iter}\n",
    " #   )\n",
    "\n",
    "print(\"Optimization complete\")"
   ]
  },
  {
   "cell_type": "code",
   "execution_count": 205,
   "metadata": {},
   "outputs": [],
   "source": [
    "energies = []\n",
    "for state_idx in range(num_qubits):\n",
    "    energies.append(cost_function(res.x, state_idx=state_idx))"
   ]
  },
  {
   "cell_type": "code",
   "execution_count": 206,
   "metadata": {},
   "outputs": [
    {
     "data": {
      "text/plain": [
       "[np.float64(22.61711286440554),\n",
       " np.float64(36.68645806610892),\n",
       " np.float64(57.53413334721161),\n",
       " np.float64(69.44573388514824)]"
      ]
     },
     "execution_count": 206,
     "metadata": {},
     "output_type": "execute_result"
    }
   ],
   "source": [
    "energies"
   ]
  },
  {
   "cell_type": "code",
   "execution_count": 12,
   "metadata": {},
   "outputs": [
    {
     "data": {
      "text/plain": [
       "{'starttime': '2025-01-15_16-27-32',\n",
       " 'potential': 'AHO',\n",
       " 'cutoff': 16,\n",
       " 'exact_eigenvalues': [-0.0011669756805109488,\n",
       "  1.6774941961815084,\n",
       "  1.6863812488130043],\n",
       " 'ansatz': 'StronglyEntanglingLayers-1layer',\n",
       " 'optimized_energies': [10.807017657197598,\n",
       "  3.1084260789096345,\n",
       "  19.897834826249625],\n",
       " 'params': [3.294735292376345,\n",
       "  3.2738522804993386,\n",
       "  5.471680050301552,\n",
       "  3.589569219946922,\n",
       "  0.011524585468796644,\n",
       "  3.420167721770964,\n",
       "  3.724238495511021,\n",
       "  6.168231047696654,\n",
       "  2.546434906556768,\n",
       "  0.08538208621398713,\n",
       "  5.510965088043173,\n",
       "  2.905136477976369,\n",
       "  2.9457995899834133,\n",
       "  0.08626892110786333,\n",
       "  4.1533874592583775],\n",
       " 'success': False,\n",
       " 'iterations': 500}"
      ]
     },
     "execution_count": 12,
     "metadata": {},
     "output_type": "execute_result"
    }
   ],
   "source": [
    "run = {\n",
    "    \"starttime\": starttime,\n",
    "    \"potential\": potential,\n",
    "    \"cutoff\": cutoff,\n",
    "    \"exact_eigenvalues\": [x.real.tolist() for x in eigenvalues],\n",
    "    \"ansatz\": \"StronglyEntanglingLayers-1layer\",\n",
    "    \"optimized_energies\": [float(e) for e in optimized_energies],\n",
    "    \"params\": optimized_params.tolist(),\n",
    "    \"success\": res.success,\n",
    "    \"iterations\": res.nit,\n",
    "    #\"total_run_time\": str(res.execution_time),\n",
    "}\n",
    "\n",
    "run\n"
   ]
  },
  {
   "cell_type": "code",
   "execution_count": null,
   "metadata": {},
   "outputs": [],
   "source": [
    "path = os.path.join(base_path, \"{}_{}.json\".format(potential, cutoff))\n",
    "with open(path, 'w') as json_file:\n",
    "    json.dump(run, json_file, indent=4)\n",
    "\n",
    "print(f\"Results saved to {path}\")"
   ]
  }
 ],
 "metadata": {
  "kernelspec": {
   "display_name": ".venv",
   "language": "python",
   "name": "python3"
  },
  "language_info": {
   "codemirror_mode": {
    "name": "ipython",
    "version": 3
   },
   "file_extension": ".py",
   "mimetype": "text/x-python",
   "name": "python",
   "nbconvert_exporter": "python",
   "pygments_lexer": "ipython3",
   "version": "3.13.1"
  }
 },
 "nbformat": 4,
 "nbformat_minor": 2
}
