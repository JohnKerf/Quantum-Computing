{
 "cells": [
  {
   "cell_type": "code",
   "execution_count": 16,
   "metadata": {},
   "outputs": [],
   "source": [
    "import pennylane as qml\n",
    "from pennylane import numpy as pnp\n",
    "from scipy.optimize import differential_evolution\n",
    "from scipy.stats.qmc import Halton\n",
    "import os\n",
    "import json\n",
    "import numpy as np\n",
    "from datetime import datetime\n",
    "import time\n",
    "from qiskit.quantum_info import SparsePauliOp\n",
    "from susy_qm import calculate_Hamiltonian"
   ]
  },
  {
   "cell_type": "code",
   "execution_count": 53,
   "metadata": {},
   "outputs": [],
   "source": [
    "shots = None\n",
    "potential = 'QHO'\n",
    "cutoff = 16"
   ]
  },
  {
   "cell_type": "code",
   "execution_count": 54,
   "metadata": {},
   "outputs": [],
   "source": [
    "starttime = datetime.now().strftime(\"%Y-%m-%d_%H-%M-%S\")\n",
    "folder = str(starttime)\n",
    "\n",
    "base_path = os.path.join(r\"C:\\Users\\Johnk\\Documents\\PhD\\Quantum Computing Code\\Quantum-Computing\\SUSY\\SUSY QM\\PennyLane\\SSVQE\\Files\", potential, folder)\n",
    "os.makedirs(base_path, exist_ok=True)"
   ]
  },
  {
   "cell_type": "code",
   "execution_count": 55,
   "metadata": {},
   "outputs": [],
   "source": [
    "H = calculate_Hamiltonian(cutoff, potential)\n",
    "eigenvalues = np.sort(np.linalg.eig(H)[0])[:3]\n",
    "min_eigenvalue = min(eigenvalues.real)\n",
    "\n",
    "hamiltonian = SparsePauliOp.from_operator(H)\n",
    "num_qubits = hamiltonian.num_qubits"
   ]
  },
  {
   "cell_type": "code",
   "execution_count": 56,
   "metadata": {},
   "outputs": [],
   "source": [
    "input_states = []\n",
    "for j in range(len(eigenvalues)):\n",
    "    state = np.zeros(2**num_qubits)\n",
    "    state[j] = 1.0\n",
    "    input_states.append(state)"
   ]
  },
  {
   "cell_type": "code",
   "execution_count": 64,
   "metadata": {},
   "outputs": [],
   "source": [
    "input_states = []\n",
    "degeneracies = {0: 1, 1: 2}  # Example for QHO\n",
    "for eigenvalue, count in degeneracies.items():\n",
    "    for _ in range(count):\n",
    "        state = np.zeros(2**num_qubits)\n",
    "        state[len(input_states)] = 1.0\n",
    "        input_states.append(state)"
   ]
  },
  {
   "cell_type": "code",
   "execution_count": 71,
   "metadata": {},
   "outputs": [],
   "source": [
    "num_layers = 1\n",
    "params_shape = qml.StronglyEntanglingLayers.shape(n_layers=num_layers, n_wires=num_qubits)\n",
    "\n",
    "def ansatz(params, wires):\n",
    "    params = pnp.tensor(params.reshape(params_shape), requires_grad=True)\n",
    "    qml.StronglyEntanglingLayers(weights=params, wires=wires, imprimitive=qml.CZ)\n",
    "\n",
    "dev = qml.device('default.qubit', wires=num_qubits, shots=shots)\n",
    "\n",
    "@qml.qnode(dev)\n",
    "def expected_value(params, phi):\n",
    "    qml.StatePrep(phi, wires=range(num_qubits))\n",
    "    ansatz(params, wires=range(num_qubits))\n",
    "    return qml.expval(qml.Hermitian(H, wires=range(num_qubits)))\n",
    "\n",
    "\n",
    "def loss_f_ssvqe(params):\n",
    "    cost = 0\n",
    "    for phi in input_states:\n",
    "        cost += expected_value(params, phi)\n",
    "    return cost\n",
    "\n",
    "def loss_f_weighted_ssvqe(params, weights):\n",
    "    cost = 0\n",
    "    for phi, weight in zip(input_states, weights):\n",
    "        cost += weight * expected_value(params, phi)\n",
    "    return cost\n",
    "\n",
    "penalty_weight = 1#00.0\n",
    "def loss_f_weighted_ssvqe(params, weights):\n",
    "    cost = 0\n",
    "    for i, phi in enumerate(input_states):\n",
    "        weight = weights[i]\n",
    "        exp_value = expected_value(params, phi)\n",
    "        cost += weight * exp_value\n",
    "        \n",
    "        # Add orthogonality penalty within degenerate subspaces\n",
    "        for j in range(i):\n",
    "            if np.isclose(eigenvalues[i], eigenvalues[j]):\n",
    "                overlap = np.abs(np.vdot(input_states[i], input_states[j]))**2\n",
    "                cost += penalty_weight * overlap\n",
    "    return cost\n",
    "\n"
   ]
  },
  {
   "cell_type": "code",
   "execution_count": 72,
   "metadata": {},
   "outputs": [
    {
     "name": "stdout",
     "output_type": "stream",
     "text": [
      "Starting SSVQE optimization\n",
      "Optimization complete\n"
     ]
    }
   ],
   "source": [
    "bounds = [(0, 2 * np.pi) for _ in range(np.prod(params_shape))]\n",
    "max_iter = 10000\n",
    "popsize = 20\n",
    "tol = 1e-3\n",
    "abs_tol = 1e-3\n",
    "\n",
    "weights = np.arange(len(input_states), 0, -1)\n",
    "\n",
    "seed = (os.getpid() * int(time.time())) % 123456789\n",
    "halton_sampler = Halton(d=np.prod(params_shape), seed=seed)\n",
    "halton_samples = 2 * np.pi * halton_sampler.random(n=popsize)\n",
    "\n",
    "print(\"Starting SSVQE optimization\")\n",
    "#res = differential_evolution(loss_f_ssvqe, bounds, maxiter=max_iter, tol=tol, atol=abs_tol, popsize=popsize, init=halton_samples, seed=seed)\n",
    "res = differential_evolution(\n",
    "    lambda params: loss_f_weighted_ssvqe(params, weights),\n",
    "    bounds,\n",
    "    maxiter=max_iter,\n",
    "    tol=tol,\n",
    "    atol=abs_tol,\n",
    "    popsize=popsize,\n",
    "    init=halton_samples,\n",
    "    seed=seed\n",
    ")\n",
    "\n",
    "optimized_params = res.x\n",
    "optimized_energies = [expected_value(optimized_params, phi) for phi in input_states]\n",
    "\n",
    "print(\"Optimization complete\")"
   ]
  },
  {
   "cell_type": "code",
   "execution_count": 73,
   "metadata": {},
   "outputs": [
    {
     "data": {
      "text/plain": [
       "{'starttime': '2025-01-15_20-06-44',\n",
       " 'potential': 'QHO',\n",
       " 'cutoff': 16,\n",
       " 'exact_eigenvalues': [0.0, 1.0, 1.0000000000000002],\n",
       " 'ansatz': 'StronglyEntanglingLayers-1layer',\n",
       " 'optimized_energies': [6.685145590978086e-14,\n",
       "  1.0000000000000673,\n",
       "  2.0000000000000675],\n",
       " 'params': [5.281501258616705,\n",
       "  3.1415921364768233,\n",
       "  6.204031526931203,\n",
       "  3.0906227926171352,\n",
       "  0.0,\n",
       "  4.182437964817821,\n",
       "  4.215893570810944,\n",
       "  0.0,\n",
       "  2.2562228206531545,\n",
       "  0.42627803562418465,\n",
       "  6.283185307179586,\n",
       "  6.233778099403259,\n",
       "  3.5779102598573553,\n",
       "  0.0,\n",
       "  0.9386252513003522],\n",
       " 'success': True,\n",
       " 'iterations': 48}"
      ]
     },
     "execution_count": 73,
     "metadata": {},
     "output_type": "execute_result"
    }
   ],
   "source": [
    "run = {\n",
    "    \"starttime\": starttime,\n",
    "    \"potential\": potential,\n",
    "    \"cutoff\": cutoff,\n",
    "    \"exact_eigenvalues\": [x.real.tolist() for x in eigenvalues],\n",
    "    \"ansatz\": \"StronglyEntanglingLayers-1layer\",\n",
    "    \"optimized_energies\": [float(e) for e in optimized_energies],\n",
    "    \"params\": optimized_params.tolist(),\n",
    "    \"success\": res.success,\n",
    "    \"iterations\": res.nit,\n",
    "    #\"total_run_time\": str(res.execution_time),\n",
    "}\n",
    "\n",
    "run\n"
   ]
  },
  {
   "cell_type": "code",
   "execution_count": null,
   "metadata": {},
   "outputs": [],
   "source": [
    "path = os.path.join(base_path, \"{}_{}.json\".format(potential, cutoff))\n",
    "with open(path, 'w') as json_file:\n",
    "    json.dump(run, json_file, indent=4)\n",
    "\n",
    "print(f\"Results saved to {path}\")"
   ]
  }
 ],
 "metadata": {
  "kernelspec": {
   "display_name": ".venv",
   "language": "python",
   "name": "python3"
  },
  "language_info": {
   "codemirror_mode": {
    "name": "ipython",
    "version": 3
   },
   "file_extension": ".py",
   "mimetype": "text/x-python",
   "name": "python",
   "nbconvert_exporter": "python",
   "pygments_lexer": "ipython3",
   "version": "3.13.1"
  }
 },
 "nbformat": 4,
 "nbformat_minor": 2
}
