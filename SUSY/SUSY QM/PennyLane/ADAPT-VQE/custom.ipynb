{
 "cells": [
  {
   "cell_type": "code",
   "execution_count": 248,
   "metadata": {},
   "outputs": [],
   "source": [
    "# PennyLane imports\n",
    "import pennylane as qml\n",
    "from pennylane import numpy as pnp\n",
    "\n",
    "# General imports\n",
    "import numpy as np\n",
    "\n",
    "from qiskit.quantum_info import SparsePauliOp\n",
    "\n",
    "# custom module\n",
    "from susy_qm import calculate_Hamiltonian\n",
    "\n",
    "from scipy.optimize import minimize, differential_evolution\n",
    "\n",
    "import json\n",
    "import os"
   ]
  },
  {
   "cell_type": "code",
   "execution_count": 204,
   "metadata": {},
   "outputs": [],
   "source": [
    "potential = 'DW'\n",
    "cutoff = 16\n",
    "shots = None"
   ]
  },
  {
   "cell_type": "code",
   "execution_count": 205,
   "metadata": {},
   "outputs": [],
   "source": [
    "#calculate Hamiltonian and expected eigenvalues\n",
    "H = calculate_Hamiltonian(cutoff, potential)\n",
    "eigenvalues = np.sort(np.linalg.eig(H)[0])\n",
    "min_eigenvalue = min(eigenvalues.real)\n",
    "\n",
    "#create qiskit Hamiltonian Pauli string\n",
    "hamiltonian = SparsePauliOp.from_operator(H)\n",
    "num_qubits = hamiltonian.num_qubits"
   ]
  },
  {
   "cell_type": "code",
   "execution_count": 206,
   "metadata": {},
   "outputs": [
    {
     "data": {
      "text/plain": [
       "np.float64(0.8915993623272539)"
      ]
     },
     "execution_count": 206,
     "metadata": {},
     "output_type": "execute_result"
    }
   ],
   "source": [
    "min_eigenvalue"
   ]
  },
  {
   "cell_type": "code",
   "execution_count": 207,
   "metadata": {},
   "outputs": [],
   "source": [
    "cnot_pool = []\n",
    "cz_pool = []\n",
    "\n",
    "for control in range(num_qubits):\n",
    "        for target in range(num_qubits):\n",
    "            if control != target:\n",
    "                cnot_pool.append(qml.CNOT(wires=[control, target]))\n",
    "                cz_pool.append(qml.CZ(wires=[control, target]))"
   ]
  },
  {
   "cell_type": "code",
   "execution_count": 208,
   "metadata": {},
   "outputs": [],
   "source": [
    "rot_pool = [qml.Rot(0.0, 0.0, 0.0, wires=x) for x in range(num_qubits)]\n",
    "operator_pool = rot_pool +  cz_pool #+ cnot_pool"
   ]
  },
  {
   "cell_type": "code",
   "execution_count": 209,
   "metadata": {},
   "outputs": [
    {
     "data": {
      "text/plain": [
       "[Rot(0.0, 0.0, 0.0, wires=[0]),\n",
       " Rot(0.0, 0.0, 0.0, wires=[1]),\n",
       " Rot(0.0, 0.0, 0.0, wires=[2]),\n",
       " Rot(0.0, 0.0, 0.0, wires=[3]),\n",
       " Rot(0.0, 0.0, 0.0, wires=[4]),\n",
       " CZ(wires=[0, 1]),\n",
       " CZ(wires=[0, 2]),\n",
       " CZ(wires=[0, 3]),\n",
       " CZ(wires=[0, 4]),\n",
       " CZ(wires=[1, 0]),\n",
       " CZ(wires=[1, 2]),\n",
       " CZ(wires=[1, 3]),\n",
       " CZ(wires=[1, 4]),\n",
       " CZ(wires=[2, 0]),\n",
       " CZ(wires=[2, 1]),\n",
       " CZ(wires=[2, 3]),\n",
       " CZ(wires=[2, 4]),\n",
       " CZ(wires=[3, 0]),\n",
       " CZ(wires=[3, 1]),\n",
       " CZ(wires=[3, 2]),\n",
       " CZ(wires=[3, 4]),\n",
       " CZ(wires=[4, 0]),\n",
       " CZ(wires=[4, 1]),\n",
       " CZ(wires=[4, 2]),\n",
       " CZ(wires=[4, 3])]"
      ]
     },
     "execution_count": 209,
     "metadata": {},
     "output_type": "execute_result"
    }
   ],
   "source": [
    "operator_pool"
   ]
  },
  {
   "cell_type": "code",
   "execution_count": 210,
   "metadata": {},
   "outputs": [],
   "source": [
    "dev = qml.device(\"default.qubit\", wires=num_qubits, shots=shots)\n",
    "\n",
    "@qml.qnode(dev)\n",
    "def circuit(params, trial_op, op_list):\n",
    "\n",
    "    if len(op_list) > 0:\n",
    "        for o, p, w, _ in op_list:\n",
    "            if (o == qml.CNOT) | (o == qml.CZ):\n",
    "                o(wires=w)\n",
    "            else:\n",
    "                o(*p, wires=w)\n",
    "\n",
    "    op = type(trial_op)\n",
    "\n",
    "    if (type(trial_op) == qml.CNOT) | (type(trial_op) == qml.CZ):\n",
    "        op(wires=trial_op.wires)\n",
    "    else:\n",
    "        op(*params, wires=trial_op.wires)\n",
    "\n",
    "    return qml.expval(qml.Hermitian(H, wires=range(num_qubits)))"
   ]
  },
  {
   "cell_type": "code",
   "execution_count": 211,
   "metadata": {},
   "outputs": [],
   "source": [
    "def cost_function(params, trial_op, op_list):\n",
    "    \n",
    "    params = pnp.tensor(params, requires_grad=True)\n",
    "    energy = circuit(params, trial_op, op_list)\n",
    "\n",
    "    return energy"
   ]
  },
  {
   "cell_type": "code",
   "execution_count": 212,
   "metadata": {},
   "outputs": [
    {
     "name": "stdout",
     "output_type": "stream",
     "text": [
      "step: 0\n",
      "Min energy: 1.0939110867557253\n",
      "step: 1\n",
      "Min energy: 1.0928892179864385\n",
      "step: 2\n",
      "Min energy: 1.0719155209353128\n",
      "step: 3\n",
      "Min energy: 1.0620654159866363\n",
      "step: 4\n",
      "Min energy: 1.0595874932667053\n",
      "step: 5\n",
      "Min energy: 1.0582536622216903\n",
      "step: 6\n",
      "Min energy: 1.0576523529005626\n",
      "step: 7\n",
      "Min energy: 1.05445420733646\n",
      "step: 8\n",
      "Min energy: 1.0492947451313732\n",
      "step: 9\n",
      "Min energy: 1.0482949221840192\n",
      "step: 10\n",
      "Min energy: 1.047974104996463\n",
      "step: 11\n",
      "Min energy: 1.0478439574073861\n",
      "step: 12\n",
      "Min energy: 1.04776009224311\n",
      "Converged\n"
     ]
    }
   ],
   "source": [
    "num_steps = 20\n",
    "\n",
    "x0 = np.random.uniform(0, 2 * np.pi, size=3)\n",
    "\n",
    "op_list = []\n",
    "\n",
    "for i in range(num_steps):\n",
    "\n",
    "    print(f\"step: {i}\")\n",
    "\n",
    "    energies = []\n",
    "    e_params = []\n",
    "\n",
    "    for trial_op in operator_pool:\n",
    "\n",
    "        res = minimize(\n",
    "                cost_function,\n",
    "                x0,\n",
    "                args=(trial_op, op_list),\n",
    "                method= \"COBYLA\",\n",
    "                options= {'maxiter':1000, 'tol': 1e-6}\n",
    "            )\n",
    "        \n",
    "        energies.append(res.fun)\n",
    "        e_params.append(res.x)\n",
    "\n",
    "    min_arg = np.argmin(energies)\n",
    "    min_energy = energies[min_arg]\n",
    "    print(f\"Min energy: {min_energy}\")\n",
    "\n",
    "    min_op = type(operator_pool[min_arg])\n",
    "    min_wires = operator_pool[min_arg].wires\n",
    "    min_params = e_params[min_arg]\n",
    "\n",
    "    if (i != 0):\n",
    "        if np.abs(min_energy - op_list[i-1][3]) < 1e-4:\n",
    "            print(\"Converged\")\n",
    "            break\n",
    "\n",
    "    op_list.append((min_op, min_params, min_wires, min_energy))\n",
    "\n",
    "    "
   ]
  },
  {
   "cell_type": "code",
   "execution_count": 226,
   "metadata": {},
   "outputs": [
    {
     "name": "stdout",
     "output_type": "stream",
     "text": [
      "Operator already added previously... skipping\n",
      "Operator already added previously... skipping\n"
     ]
    }
   ],
   "source": [
    "last_operator = {}\n",
    "reduced_op_list = []\n",
    "num_params = 0\n",
    "\n",
    "for o, p, w, _ in op_list:\n",
    "\n",
    "    if (o == qml.CNOT) | (o == qml.CZ):\n",
    "        last_operator[w[0]] = o\n",
    "        last_operator[w[1]] = o\n",
    "        reduced_op_list.append((o,w))\n",
    "\n",
    "    elif w[0] in last_operator.keys():\n",
    "        if last_operator[w[0]] == o:\n",
    "            print(\"Operator already added previously... skipping\")\n",
    "            continue\n",
    "        else:\n",
    "            last_operator[w[0]] = o\n",
    "            reduced_op_list.append((o,w))\n",
    "            num_params = num_params + 3\n",
    "    else:\n",
    "        last_operator[w[0]] = o\n",
    "        reduced_op_list.append((o,w))\n",
    "        num_params = num_params + 3"
   ]
  },
  {
   "cell_type": "code",
   "execution_count": 250,
   "metadata": {},
   "outputs": [],
   "source": [
    "data = {\"potential\": potential,\n",
    "        \"cutoff\": cutoff,\n",
    "        \"optimizer\": \"COBYLA\",\n",
    "        \"num steps\": num_steps,\n",
    "        \"op_list\": [str(x) for x in op_list],\n",
    "        \"reduced_op_list\": [str(x) for x in reduced_op_list],\n",
    "        \"num_params\": num_params}"
   ]
  },
  {
   "cell_type": "code",
   "execution_count": 253,
   "metadata": {},
   "outputs": [],
   "source": [
    "# Save the variable to a JSON file\n",
    "base_path = r\"C:\\Users\\johnkerf\\Desktop\\Quantum-Computing\\Quantum-Computing\\SUSY\\SUSY QM\\PennyLane\\ADAPT-VQE\\Files\\\\\"\n",
    "os.makedirs(base_path, exist_ok=True)\n",
    "path = base_path + \"{}_{}.json\".format(potential, cutoff)\n",
    "with open(path, 'w') as json_file:\n",
    "    json.dump(data, json_file, indent=4)"
   ]
  },
  {
   "cell_type": "code",
   "execution_count": 245,
   "metadata": {},
   "outputs": [],
   "source": [
    "params = np.random.uniform(0, 2 * np.pi, size=num_params)\n",
    "\n",
    "dev = qml.device(\"default.qubit\", wires=num_qubits)\n",
    "\n",
    "@qml.qnode(dev)\n",
    "def construct_ansatz(reduced_op_list, params):\n",
    "\n",
    "    params_index = 0\n",
    "\n",
    "    for i, (o, w) in enumerate(reduced_op_list):\n",
    "        if (o == qml.CNOT) | (o == qml.CZ):\n",
    "            o(wires=w)\n",
    "        else:\n",
    "            num_gate_params = o.num_params\n",
    "            o(*params[params_index:(params_index + num_gate_params)], wires=w)\n",
    "            params_index = params_index + num_gate_params\n",
    "\n",
    "    return qml.expval(qml.Hermitian(H, wires=range(num_qubits)))"
   ]
  },
  {
   "cell_type": "code",
   "execution_count": 246,
   "metadata": {},
   "outputs": [
    {
     "name": "stdout",
     "output_type": "stream",
     "text": [
      "0: ──────────────────────────────────────────────────────────────────────────────────────────────┤\n",
      "1: ──────────────────────────────────────────────────────────────────────────────────────────────┤\n",
      "2: ──Rot(3.64,0.08,4.39)─────────────────────────────────────────────────────────────────────────┤\n",
      "3: ──Rot(2.37,5.91,5.11)─╭●──Rot(5.09,6.27,3.93)─╭●──Rot(3.90,3.91,1.46)─╭●──────────────────────┤\n",
      "4: ──Rot(2.00,3.71,5.48)─╰Z──Rot(3.02,0.70,3.97)─╰Z──────────────────────╰Z──Rot(4.51,1.14,1.37)─┤\n",
      "\n",
      "  ╭<𝓗(M0)>\n",
      "  ├<𝓗(M0)>\n",
      "  ├<𝓗(M0)>\n",
      "  ├<𝓗(M0)>\n",
      "  ╰<𝓗(M0)>\n",
      "\n",
      "M0 = \n",
      "[[  2.375     +0.j   2.47487373+0.j   1.76776695+0.j ...   0.        +0.j\n",
      "    0.        +0.j   0.        +0.j]\n",
      " [  2.47487373+0.j   5.875     +0.j   5.        +0.j ...   0.        +0.j\n",
      "    0.        +0.j   0.        +0.j]\n",
      " [  1.76776695+0.j   5.        +0.j  10.875     +0.j ...   0.        +0.j\n",
      "    0.        +0.j   0.        +0.j]\n",
      " ...\n",
      " [  0.        +0.j   0.        +0.j   0.        +0.j ... 163.875     +0.j\n",
      "   55.56077753+0.j  83.32541629+0.j]\n",
      " [  0.        +0.j   0.        +0.j   0.        +0.j ...  55.56077753+0.j\n",
      "  156.875     +0.j  39.70988542+0.j]\n",
      " [  0.        +0.j   0.        +0.j   0.        +0.j ...  83.32541629+0.j\n",
      "   39.70988542+0.j  69.375     +0.j]]\n"
     ]
    }
   ],
   "source": [
    "print(qml.draw(construct_ansatz)(reduced_op_list, params))"
   ]
  },
  {
   "cell_type": "code",
   "execution_count": 254,
   "metadata": {},
   "outputs": [
    {
     "data": {
      "text/plain": [
       "(1, 5, 3)"
      ]
     },
     "execution_count": 254,
     "metadata": {},
     "output_type": "execute_result"
    }
   ],
   "source": [
    "qml.StronglyEntanglingLayers.shape(n_layers=1, n_wires=num_qubits)"
   ]
  },
  {
   "cell_type": "code",
   "execution_count": null,
   "metadata": {},
   "outputs": [],
   "source": []
  }
 ],
 "metadata": {
  "kernelspec": {
   "display_name": ".venv",
   "language": "python",
   "name": "python3"
  },
  "language_info": {
   "codemirror_mode": {
    "name": "ipython",
    "version": 3
   },
   "file_extension": ".py",
   "mimetype": "text/x-python",
   "name": "python",
   "nbconvert_exporter": "python",
   "pygments_lexer": "ipython3",
   "version": "3.10.0"
  }
 },
 "nbformat": 4,
 "nbformat_minor": 2
}
