{
 "cells": [
  {
   "cell_type": "code",
   "execution_count": 1,
   "metadata": {},
   "outputs": [],
   "source": [
    "# PennyLane imports\n",
    "import pennylane as qml\n",
    "from pennylane import numpy as pnp\n",
    "\n",
    "# General imports\n",
    "import numpy as np\n",
    "\n",
    "from qiskit.quantum_info import SparsePauliOp\n",
    "\n",
    "# custom module\n",
    "from susy_qm import calculate_Hamiltonian\n",
    "\n",
    "from scipy.optimize import minimize\n",
    "\n",
    "import json\n",
    "import os"
   ]
  },
  {
   "cell_type": "code",
   "execution_count": 53,
   "metadata": {},
   "outputs": [],
   "source": [
    "potential = 'AHO'\n",
    "cutoff = 32\n",
    "shots = None"
   ]
  },
  {
   "cell_type": "code",
   "execution_count": 54,
   "metadata": {},
   "outputs": [],
   "source": [
    "#calculate Hamiltonian and expected eigenvalues\n",
    "H = calculate_Hamiltonian(cutoff, potential)\n",
    "eigenvalues = np.sort(np.linalg.eig(H)[0])\n",
    "min_eigenvalue = min(eigenvalues.real)\n",
    "\n",
    "#create qiskit Hamiltonian Pauli string\n",
    "hamiltonian = SparsePauliOp.from_operator(H)\n",
    "num_qubits = hamiltonian.num_qubits"
   ]
  },
  {
   "cell_type": "code",
   "execution_count": 55,
   "metadata": {},
   "outputs": [
    {
     "data": {
      "text/plain": [
       "np.float64(6.182237677589772e-06)"
      ]
     },
     "execution_count": 55,
     "metadata": {},
     "output_type": "execute_result"
    }
   ],
   "source": [
    "min_eigenvalue"
   ]
  },
  {
   "cell_type": "code",
   "execution_count": 56,
   "metadata": {},
   "outputs": [],
   "source": [
    "cnot_pool = []\n",
    "cz_pool = []\n",
    "\n",
    "for control in range(num_qubits):\n",
    "        for target in range(num_qubits):\n",
    "            if control != target:\n",
    "                cnot_pool.append(qml.CNOT(wires=[control, target]))\n",
    "                cz_pool.append(qml.CZ(wires=[control, target]))"
   ]
  },
  {
   "cell_type": "code",
   "execution_count": 57,
   "metadata": {},
   "outputs": [],
   "source": [
    "rot_pool = [qml.Rot(0.0, 0.0, 0.0, wires=x) for x in range(num_qubits)]\n",
    "operator_pool = rot_pool +  cz_pool #+ cnot_pool"
   ]
  },
  {
   "cell_type": "code",
   "execution_count": 58,
   "metadata": {},
   "outputs": [
    {
     "data": {
      "text/plain": [
       "[Rot(0.0, 0.0, 0.0, wires=[0]),\n",
       " Rot(0.0, 0.0, 0.0, wires=[1]),\n",
       " Rot(0.0, 0.0, 0.0, wires=[2]),\n",
       " Rot(0.0, 0.0, 0.0, wires=[3]),\n",
       " Rot(0.0, 0.0, 0.0, wires=[4]),\n",
       " Rot(0.0, 0.0, 0.0, wires=[5]),\n",
       " CZ(wires=[0, 1]),\n",
       " CZ(wires=[0, 2]),\n",
       " CZ(wires=[0, 3]),\n",
       " CZ(wires=[0, 4]),\n",
       " CZ(wires=[0, 5]),\n",
       " CZ(wires=[1, 0]),\n",
       " CZ(wires=[1, 2]),\n",
       " CZ(wires=[1, 3]),\n",
       " CZ(wires=[1, 4]),\n",
       " CZ(wires=[1, 5]),\n",
       " CZ(wires=[2, 0]),\n",
       " CZ(wires=[2, 1]),\n",
       " CZ(wires=[2, 3]),\n",
       " CZ(wires=[2, 4]),\n",
       " CZ(wires=[2, 5]),\n",
       " CZ(wires=[3, 0]),\n",
       " CZ(wires=[3, 1]),\n",
       " CZ(wires=[3, 2]),\n",
       " CZ(wires=[3, 4]),\n",
       " CZ(wires=[3, 5]),\n",
       " CZ(wires=[4, 0]),\n",
       " CZ(wires=[4, 1]),\n",
       " CZ(wires=[4, 2]),\n",
       " CZ(wires=[4, 3]),\n",
       " CZ(wires=[4, 5]),\n",
       " CZ(wires=[5, 0]),\n",
       " CZ(wires=[5, 1]),\n",
       " CZ(wires=[5, 2]),\n",
       " CZ(wires=[5, 3]),\n",
       " CZ(wires=[5, 4])]"
      ]
     },
     "execution_count": 58,
     "metadata": {},
     "output_type": "execute_result"
    }
   ],
   "source": [
    "operator_pool"
   ]
  },
  {
   "cell_type": "code",
   "execution_count": 59,
   "metadata": {},
   "outputs": [],
   "source": [
    "dev = qml.device(\"default.qubit\", wires=num_qubits, shots=shots)\n",
    "\n",
    "@qml.qnode(dev)\n",
    "def circuit(params, trial_op, op_list):\n",
    "\n",
    "    if len(op_list) > 0:\n",
    "        for o, p, w, _ in op_list:\n",
    "            if (o == qml.CNOT) | (o == qml.CZ):\n",
    "                o(wires=w)\n",
    "            else:\n",
    "                o(*p, wires=w)\n",
    "\n",
    "    op = type(trial_op)\n",
    "\n",
    "    if (type(trial_op) == qml.CNOT) | (type(trial_op) == qml.CZ):\n",
    "        op(wires=trial_op.wires)\n",
    "    else:\n",
    "        op(*params, wires=trial_op.wires)\n",
    "\n",
    "    return qml.expval(qml.Hermitian(H, wires=range(num_qubits)))"
   ]
  },
  {
   "cell_type": "code",
   "execution_count": 60,
   "metadata": {},
   "outputs": [],
   "source": [
    "def cost_function(params, trial_op, op_list):\n",
    "    \n",
    "    params = pnp.tensor(params, requires_grad=True)\n",
    "    energy = circuit(params, trial_op, op_list)\n",
    "\n",
    "    return energy"
   ]
  },
  {
   "cell_type": "code",
   "execution_count": 67,
   "metadata": {},
   "outputs": [
    {
     "name": "stdout",
     "output_type": "stream",
     "text": [
      "step: 0\n",
      "Min energy: 0.9375000000009199\n",
      "step: 1\n",
      "Min energy: 0.1268240335304569\n",
      "step: 2\n",
      "Min energy: 0.09842000081048889\n",
      "step: 3\n",
      "Min energy: 0.08156474260675112\n",
      "step: 4\n",
      "Min energy: 0.06263045363022868\n",
      "step: 5\n",
      "Min energy: 0.055632970606917936\n",
      "step: 6\n",
      "Min energy: 0.050746622190805495\n",
      "step: 7\n",
      "Min energy: 0.04689439365501854\n",
      "step: 8\n",
      "Min energy: 0.04130958934027111\n",
      "step: 9\n",
      "Min energy: 0.03909646297373138\n"
     ]
    }
   ],
   "source": [
    "num_steps = 10\n",
    "\n",
    "x0 = np.random.uniform(0, 2 * np.pi, size=3)\n",
    "\n",
    "op_list = []\n",
    "\n",
    "for i in range(num_steps):\n",
    "\n",
    "    print(f\"step: {i}\")\n",
    "\n",
    "    energies = []\n",
    "    e_params = []\n",
    "\n",
    "    for trial_op in operator_pool:\n",
    "\n",
    "        res = minimize(\n",
    "                cost_function,\n",
    "                x0,\n",
    "                args=(trial_op, op_list),\n",
    "                method= \"COBYLA\",\n",
    "                options= {'maxiter':1000, 'tol': 1e-6}\n",
    "            )\n",
    "        \n",
    "        energies.append(res.fun)\n",
    "        e_params.append(res.x)\n",
    "\n",
    "    min_arg = np.argmin(energies)\n",
    "    min_energy = energies[min_arg]\n",
    "    print(f\"Min energy: {min_energy}\")\n",
    "\n",
    "    min_op = type(operator_pool[min_arg])\n",
    "    min_wires = operator_pool[min_arg].wires\n",
    "    min_params = e_params[min_arg]\n",
    "\n",
    "    if (i != 0):\n",
    "        if np.abs(min_energy - op_list[i-1][3]) < 1e-4:\n",
    "            print(\"Converged\")\n",
    "            break\n",
    "\n",
    "    op_list.append((min_op, min_params, min_wires, min_energy))\n",
    "\n",
    "    "
   ]
  },
  {
   "cell_type": "code",
   "execution_count": 68,
   "metadata": {},
   "outputs": [
    {
     "name": "stdout",
     "output_type": "stream",
     "text": [
      "Operator already added previously... skipping\n",
      "Operator already added previously... skipping\n",
      "Operator already added previously... skipping\n"
     ]
    }
   ],
   "source": [
    "last_operator = {}\n",
    "reduced_op_list = []\n",
    "num_params = 0\n",
    "\n",
    "for o, p, w, _ in op_list:\n",
    "\n",
    "    if o == qml.CNOT:\n",
    "        last_operator[w[0]] = o\n",
    "        last_operator[w[1]] = o\n",
    "        reduced_op_list.append((\"CNOT\", w.tolist()))\n",
    "\n",
    "    elif o == qml.CZ:\n",
    "        last_operator[w[0]] = o\n",
    "        last_operator[w[1]] = o\n",
    "        reduced_op_list.append((\"CZ\",w.tolist()))\n",
    "\n",
    "    elif w[0] in last_operator.keys():\n",
    "        if last_operator[w[0]] == o:\n",
    "            print(\"Operator already added previously... skipping\")\n",
    "            continue\n",
    "        else:\n",
    "            last_operator[w[0]] = o\n",
    "            reduced_op_list.append((\"Rot\",w.tolist()))\n",
    "            num_params = num_params + 3\n",
    "    else:\n",
    "        last_operator[w[0]] = o\n",
    "        reduced_op_list.append((\"Rot\",w.tolist()))\n",
    "        num_params = num_params + 3"
   ]
  },
  {
   "cell_type": "code",
   "execution_count": 69,
   "metadata": {},
   "outputs": [],
   "source": [
    "data = {\"potential\": potential,\n",
    "        \"cutoff\": cutoff,\n",
    "        \"optimizer\": \"COBYLA\",\n",
    "        \"num steps\": num_steps,\n",
    "        \"op_list\": [str(x) for x in op_list],\n",
    "        \"reduced_op_list\": reduced_op_list,\n",
    "        \"num_params\": num_params}"
   ]
  },
  {
   "cell_type": "code",
   "execution_count": 70,
   "metadata": {},
   "outputs": [
    {
     "data": {
      "text/plain": [
       "{'potential': 'AHO',\n",
       " 'cutoff': 32,\n",
       " 'optimizer': 'COBYLA',\n",
       " 'num steps': 10,\n",
       " 'op_list': [\"(<class 'pennylane.ops.qubit.parametric_ops_single_qubit.Rot'>, array([1.5570263 , 3.14159387, 4.70029003]), Wires([0]), np.float64(0.9375000000009199))\",\n",
       "  \"(<class 'pennylane.ops.qubit.parametric_ops_single_qubit.Rot'>, array([1.90052023, 5.96410412, 6.28318569]), Wires([4]), np.float64(0.1268240335304569))\",\n",
       "  \"(<class 'pennylane.ops.qubit.parametric_ops_single_qubit.Rot'>, array([1.16848754, 6.24919721, 3.50631795]), Wires([3]), np.float64(0.09842000081048889))\",\n",
       "  \"(<class 'pennylane.ops.qubit.parametric_ops_single_qubit.Rot'>, array([2.60660123, 5.68218408, 5.86360212]), Wires([4]), np.float64(0.08156474260675112))\",\n",
       "  \"(<class 'pennylane.ops.op_math.controlled_ops.CZ'>, array([1.5379991 , 3.16432192, 4.7086958 ]), Wires([4, 3]), np.float64(0.06263045363022868))\",\n",
       "  \"(<class 'pennylane.ops.qubit.parametric_ops_single_qubit.Rot'>, array([1.35938448, 6.26499534, 4.39665491]), Wires([3]), np.float64(0.055632970606917936))\",\n",
       "  \"(<class 'pennylane.ops.qubit.parametric_ops_single_qubit.Rot'>, array([1.36246029, 6.19818351, 5.12684531]), Wires([4]), np.float64(0.050746622190805495))\",\n",
       "  \"(<class 'pennylane.ops.qubit.parametric_ops_single_qubit.Rot'>, array([1.5870373 , 6.25604689, 4.18640544]), Wires([3]), np.float64(0.04689439365501854))\",\n",
       "  \"(<class 'pennylane.ops.qubit.parametric_ops_single_qubit.Rot'>, array([1.52312494, 6.14602445, 5.09311226]), Wires([4]), np.float64(0.04130958934027111))\",\n",
       "  \"(<class 'pennylane.ops.qubit.parametric_ops_single_qubit.Rot'>, array([2.91762218, 6.27924993, 5.68272094]), Wires([2]), np.float64(0.03909646297373138))\"],\n",
       " 'reduced_op_list': [('Rot', [0]),\n",
       "  ('Rot', [4]),\n",
       "  ('Rot', [3]),\n",
       "  ('CZ', [4, 3]),\n",
       "  ('Rot', [3]),\n",
       "  ('Rot', [4]),\n",
       "  ('Rot', [2])],\n",
       " 'num_params': 18}"
      ]
     },
     "execution_count": 70,
     "metadata": {},
     "output_type": "execute_result"
    }
   ],
   "source": [
    "data"
   ]
  },
  {
   "cell_type": "code",
   "execution_count": 71,
   "metadata": {},
   "outputs": [],
   "source": [
    "params = np.random.uniform(0, 2 * np.pi, size=num_params)\n",
    "\n",
    "dev = qml.device(\"default.qubit\", wires=num_qubits)\n",
    "\n",
    "@qml.qnode(dev)\n",
    "def construct_ansatz(reduced_op_list, params):\n",
    "\n",
    "    params_index = 0\n",
    "\n",
    "    for o, w in reduced_op_list:\n",
    "        if o == \"CNOT\":\n",
    "            qml.CNOT(wires=w)\n",
    "        elif o == \"CZ\":\n",
    "            qml.CZ(wires=w)\n",
    "        else:\n",
    "            num_gate_params = qml.Rot.num_params\n",
    "            qml.Rot(*params[params_index:(params_index + num_gate_params)], wires=w)\n",
    "            params_index = params_index + num_gate_params\n",
    "\n",
    "    return qml.expval(qml.Hermitian(H, wires=range(num_qubits)))"
   ]
  },
  {
   "cell_type": "code",
   "execution_count": 74,
   "metadata": {},
   "outputs": [
    {
     "name": "stdout",
     "output_type": "stream",
     "text": [
      "0: ──Rot(0.81,2.03,5.43)─────────────────────────┤ ╭<𝓗(M0)>\n",
      "1: ──────────────────────────────────────────────┤ ├<𝓗(M0)>\n",
      "2: ──Rot(2.29,0.32,0.30)─────────────────────────┤ ├<𝓗(M0)>\n",
      "3: ──Rot(1.69,2.90,4.90)─╭Z──Rot(4.55,4.43,0.81)─┤ ├<𝓗(M0)>\n",
      "4: ──Rot(3.82,4.42,0.60)─╰●──Rot(0.94,6.02,2.48)─┤ ├<𝓗(M0)>\n",
      "5: ──────────────────────────────────────────────┤ ╰<𝓗(M0)>\n"
     ]
    }
   ],
   "source": [
    "print(qml.draw(construct_ansatz, show_matrices=False)(reduced_op_list, params))"
   ]
  },
  {
   "cell_type": "code",
   "execution_count": 46,
   "metadata": {},
   "outputs": [],
   "source": [
    "# Save the variable to a JSON file\n",
    "base_path = r\"C:\\Users\\johnkerf\\Desktop\\Quantum-Computing\\Quantum-Computing\\SUSY\\SUSY QM\\PennyLane\\ADAPT-VQE\\Files\\\\\"\n",
    "base_path = r\"C:\\Users\\Johnk\\Documents\\PhD\\Quantum Computing Code\\Quantum-Computing\\SUSY\\SUSY QM\\PennyLane\\ADAPT-VQE\\Files\\\\\"\n",
    "os.makedirs(base_path, exist_ok=True)\n",
    "path = base_path + \"{}_{}.json\".format(potential, cutoff)\n",
    "with open(path, 'w') as json_file:\n",
    "    json.dump(data, json_file, indent=4)"
   ]
  },
  {
   "cell_type": "code",
   "execution_count": 52,
   "metadata": {},
   "outputs": [
    {
     "data": {
      "text/plain": [
       "[('Rot', [5]),\n",
       " ('Rot', [4]),\n",
       " ('CZ', [4, 5]),\n",
       " ('Rot', [5]),\n",
       " ('Rot', [3]),\n",
       " ('Rot', [4]),\n",
       " ('CZ', [3, 4]),\n",
       " ('Rot', [3])]"
      ]
     },
     "execution_count": 52,
     "metadata": {},
     "output_type": "execute_result"
    }
   ],
   "source": [
    "reduced_op_list"
   ]
  },
  {
   "cell_type": "code",
   "execution_count": 254,
   "metadata": {},
   "outputs": [
    {
     "data": {
      "text/plain": [
       "(1, 5, 3)"
      ]
     },
     "execution_count": 254,
     "metadata": {},
     "output_type": "execute_result"
    }
   ],
   "source": [
    "qml.StronglyEntanglingLayers.shape(n_layers=1, n_wires=num_qubits)"
   ]
  },
  {
   "cell_type": "code",
   "execution_count": null,
   "metadata": {},
   "outputs": [],
   "source": []
  },
  {
   "cell_type": "code",
   "execution_count": null,
   "metadata": {},
   "outputs": [],
   "source": []
  },
  {
   "cell_type": "code",
   "execution_count": null,
   "metadata": {},
   "outputs": [],
   "source": []
  },
  {
   "cell_type": "code",
   "execution_count": null,
   "metadata": {},
   "outputs": [],
   "source": []
  },
  {
   "cell_type": "code",
   "execution_count": null,
   "metadata": {},
   "outputs": [],
   "source": []
  },
  {
   "cell_type": "code",
   "execution_count": 39,
   "metadata": {},
   "outputs": [
    {
     "name": "stdout",
     "output_type": "stream",
     "text": [
      "Operator already added previously... skipping\n",
      "Operator already added previously... skipping\n"
     ]
    }
   ],
   "source": [
    "last_operator = {}\n",
    "reduced_op_list = []\n",
    "num_params = 0\n",
    "\n",
    "for o, p, w, _ in op_list:\n",
    "\n",
    "    if (o == qml.CNOT) | (o == qml.CZ):\n",
    "        last_operator[w[0]] = o\n",
    "        last_operator[w[1]] = o\n",
    "        reduced_op_list.append((o,w))\n",
    "\n",
    "    elif w[0] in last_operator.keys():\n",
    "        if last_operator[w[0]] == o:\n",
    "            print(\"Operator already added previously... skipping\")\n",
    "            continue\n",
    "        else:\n",
    "            last_operator[w[0]] = o\n",
    "            reduced_op_list.append((o,w))\n",
    "            num_params = num_params + 3\n",
    "    else:\n",
    "        last_operator[w[0]] = o\n",
    "        reduced_op_list.append((o,w))\n",
    "        num_params = num_params + 3"
   ]
  },
  {
   "cell_type": "code",
   "execution_count": 47,
   "metadata": {},
   "outputs": [],
   "source": [
    "params = np.random.uniform(0, 2 * np.pi, size=num_params)\n",
    "\n",
    "dev = qml.device(\"default.qubit\", wires=num_qubits)\n",
    "\n",
    "@qml.qnode(dev)\n",
    "def construct_ansatz(reduced_op_list, params):\n",
    "\n",
    "    params_index = 0\n",
    "\n",
    "    for i, (o, w) in enumerate(reduced_op_list):\n",
    "        if (o == qml.CNOT) | (o == qml.CZ):\n",
    "            o(wires=w)\n",
    "        else:\n",
    "            num_gate_params = o.num_params\n",
    "            o(*params[params_index:(params_index + num_gate_params)], wires=w)\n",
    "            params_index = params_index + num_gate_params\n",
    "\n",
    "    return qml.expval(qml.Hermitian(H, wires=range(num_qubits)))"
   ]
  }
 ],
 "metadata": {
  "kernelspec": {
   "display_name": ".venv",
   "language": "python",
   "name": "python3"
  },
  "language_info": {
   "codemirror_mode": {
    "name": "ipython",
    "version": 3
   },
   "file_extension": ".py",
   "mimetype": "text/x-python",
   "name": "python",
   "nbconvert_exporter": "python",
   "pygments_lexer": "ipython3",
   "version": "3.13.1"
  }
 },
 "nbformat": 4,
 "nbformat_minor": 2
}
