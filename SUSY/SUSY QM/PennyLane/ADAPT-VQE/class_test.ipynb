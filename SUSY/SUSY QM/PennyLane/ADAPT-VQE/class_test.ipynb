{
 "cells": [
  {
   "cell_type": "code",
   "execution_count": 1,
   "metadata": {},
   "outputs": [],
   "source": [
    "from susy_qm import adaptive_ansatz\n",
    "import numpy as np\n",
    "import pennylane as qml"
   ]
  },
  {
   "cell_type": "code",
   "execution_count": 4,
   "metadata": {},
   "outputs": [],
   "source": [
    "potential = 'DW'\n",
    "cutoff = 16\n",
    "\n",
    "ansatz = adaptive_ansatz(potential, cutoff)"
   ]
  },
  {
   "cell_type": "code",
   "execution_count": null,
   "metadata": {},
   "outputs": [],
   "source": [
    "base_path = r\"C:\\Users\\Johnk\\Documents\\PhD\\Quantum Computing Code\\Quantum-Computing\\SUSY\\SUSY QM\\PennyLane\\ADAPT-VQE\\Files\"\n",
    "ansatz.run_all(base_path)"
   ]
  },
  {
   "cell_type": "code",
   "execution_count": 2,
   "metadata": {},
   "outputs": [],
   "source": [
    "# Parameters\n",
    "N = 2\n",
    "a = 1.0\n",
    "c = 0\n",
    "potential = \"linear\"\n",
    "bc = 'dirichlet'\n",
    "cutoff = 2\n",
    "\n",
    "ansatz = adaptive_ansatz(potential, cutoff, type='wz', include_cnot=False, bc = 'dirichlet', N = 2, a = 1.0, c = 0)"
   ]
  },
  {
   "cell_type": "code",
   "execution_count": 3,
   "metadata": {},
   "outputs": [
    {
     "name": "stdout",
     "output_type": "stream",
     "text": [
      "Running ADAPT VQE\n",
      "step: 0\n",
      "Min energy: 0.12500000000008565\n",
      "step: 1\n",
      "Min energy: 0.12500000000008563\n",
      "step: 2\n",
      "Min energy: 0.12500000000008563\n",
      "step: 3\n",
      "Min energy: 0.1250000000000856\n",
      "step: 4\n",
      "Min energy: 0.1250000000000856\n",
      "step: 5\n",
      "Min energy: 0.1250000000000856\n",
      "step: 6\n",
      "Min energy: 0.1250000000000856\n",
      "step: 7\n",
      "Min energy: 0.12500000000007633\n",
      "step: 8\n",
      "Min energy: 0.1250000000000763\n",
      "step: 9\n",
      "Min energy: 0.12500000000007627\n",
      "Done\n",
      "Reducing op list\n",
      "Done\n",
      "Running overlap test\n",
      "Running for overlap\n",
      "Overlap: 0.05278640450004268\n",
      "Running for hellinger\n",
      "Hellinger fidelity: -2.402603233408159\n",
      "Done\n",
      "Saving data\n",
      "Saving to: C:\\Users\\Johnk\\Documents\\PhD\\Quantum Computing Code\\Quantum-Computing\\SUSY\\SUSY QM\\PennyLane\\ADAPT-VQE\\Files\\dirichlet\\linear\\N2\\linear_2.json\n",
      "Saving circuit image\n",
      "Data saved\n"
     ]
    },
    {
     "data": {
      "image/png": "[encoded data removed]",
      "text/plain": [
       "<Figure size 400x500 with 1 Axes>"
      ]
     },
     "metadata": {},
     "output_type": "display_data"
    }
   ],
   "source": [
    "base_path = r\"C:\\Users\\Johnk\\Documents\\PhD\\Quantum Computing Code\\Quantum-Computing\\SUSY\\SUSY QM\\PennyLane\\ADAPT-VQE\\Files\"\n",
    "ansatz.run_all(base_path)"
   ]
  },
  {
   "cell_type": "code",
   "execution_count": null,
   "metadata": {},
   "outputs": [],
   "source": []
  },
  {
   "cell_type": "code",
   "execution_count": null,
   "metadata": {},
   "outputs": [],
   "source": []
  },
  {
   "cell_type": "code",
   "execution_count": null,
   "metadata": {},
   "outputs": [],
   "source": []
  },
  {
   "cell_type": "code",
   "execution_count": null,
   "metadata": {},
   "outputs": [],
   "source": []
  },
  {
   "cell_type": "code",
   "execution_count": null,
   "metadata": {},
   "outputs": [],
   "source": []
  },
  {
   "cell_type": "code",
   "execution_count": null,
   "metadata": {},
   "outputs": [],
   "source": [
    "op_list = ansatz.run_adapt_vqe(num_steps=5)"
   ]
  },
  {
   "cell_type": "code",
   "execution_count": 4,
   "metadata": {},
   "outputs": [],
   "source": [
    "reduced_op_list = ansatz.reduce_op_list(op_list)"
   ]
  },
  {
   "cell_type": "code",
   "execution_count": null,
   "metadata": {},
   "outputs": [],
   "source": [
    "reduced_op_list"
   ]
  },
  {
   "cell_type": "code",
   "execution_count": null,
   "metadata": {},
   "outputs": [],
   "source": [
    "params = np.random.uniform(0, 2 * np.pi, size=ansatz.num_params)\n",
    "drawer = qml.draw(ansatz.construct_ansatz(params), show_matrices=False)\n",
    "print(drawer())"
   ]
  },
  {
   "cell_type": "code",
   "execution_count": null,
   "metadata": {},
   "outputs": [],
   "source": [
    "ansatz.construct_ansatz(params, type='state')()"
   ]
  },
  {
   "cell_type": "code",
   "execution_count": null,
   "metadata": {},
   "outputs": [],
   "source": [
    "ansatz.run_overlap_test()"
   ]
  },
  {
   "cell_type": "code",
   "execution_count": null,
   "metadata": {},
   "outputs": [],
   "source": [
    "# Save the variable to a JSON file\n",
    "base_path = r\"C:\\Users\\Johnk\\Documents\\PhD\\Quantum Computing Code\\Quantum-Computing\\SUSY\\SUSY QM\\PennyLane\\ADAPT-VQE\\Files\"\n",
    "ansatz.save_data(base_path)"
   ]
  },
  {
   "cell_type": "code",
   "execution_count": null,
   "metadata": {},
   "outputs": [],
   "source": []
  }
 ],
 "metadata": {
  "kernelspec": {
   "display_name": ".venv",
   "language": "python",
   "name": "python3"
  },
  "language_info": {
   "codemirror_mode": {
    "name": "ipython",
    "version": 3
   },
   "file_extension": ".py",
   "mimetype": "text/x-python",
   "name": "python",
   "nbconvert_exporter": "python",
   "pygments_lexer": "ipython3",
   "version": "3.13.1"
  }
 },
 "nbformat": 4,
 "nbformat_minor": 2
}
