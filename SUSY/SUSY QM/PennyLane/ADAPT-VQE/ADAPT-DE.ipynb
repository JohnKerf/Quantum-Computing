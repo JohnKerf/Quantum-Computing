{
 "cells": [
  {
   "cell_type": "code",
   "execution_count": 1,
   "metadata": {},
   "outputs": [],
   "source": [
    "import pennylane as qml\n",
    "from pennylane import numpy as pnp\n",
    "import numpy as np\n",
    "from qiskit.quantum_info import SparsePauliOp\n",
    "from scipy.optimize import minimize, differential_evolution\n",
    "from scipy.stats.qmc import Halton\n",
    "import os\n",
    "import json\n",
    "from susy_qm import calculate_Hamiltonian\n",
    "\n",
    "import itertools\n",
    "from collections import Counter"
   ]
  },
  {
   "cell_type": "code",
   "execution_count": 2,
   "metadata": {},
   "outputs": [],
   "source": [
    "potential = 'AHO'\n",
    "cutoff = 8\n",
    "shots = 1024"
   ]
  },
  {
   "cell_type": "code",
   "execution_count": 3,
   "metadata": {},
   "outputs": [],
   "source": [
    "#calculate Hamiltonian and expected eigenvalues\n",
    "H = calculate_Hamiltonian(cutoff, potential)\n",
    "\n",
    "eigenvalues, eigenvectors = np.linalg.eig(H)\n",
    "min_index = np.argmin(eigenvalues)\n",
    "min_eigenvalue = eigenvalues[min_index]\n",
    "min_eigenvector = np.asarray(eigenvectors[:, min_index])\n",
    "\n",
    "#create qiskit Hamiltonian Pauli string\n",
    "hamiltonian = SparsePauliOp.from_operator(H)\n",
    "num_qubits = hamiltonian.num_qubits"
   ]
  },
  {
   "cell_type": "code",
   "execution_count": 4,
   "metadata": {},
   "outputs": [
    {
     "data": {
      "text/plain": [
       "4"
      ]
     },
     "execution_count": 4,
     "metadata": {},
     "output_type": "execute_result"
    }
   ],
   "source": [
    "num_qubits"
   ]
  },
  {
   "cell_type": "code",
   "execution_count": 5,
   "metadata": {},
   "outputs": [],
   "source": [
    "min_3_ev = eigenvalues.argsort()[:3]\n",
    "min_eigenvector = np.asarray(eigenvectors[:, min_3_ev[1]])"
   ]
  },
  {
   "cell_type": "code",
   "execution_count": 6,
   "metadata": {},
   "outputs": [
    {
     "data": {
      "text/plain": [
       "np.complex128(0.03201011000921177+0j)"
      ]
     },
     "execution_count": 6,
     "metadata": {},
     "output_type": "execute_result"
    }
   ],
   "source": [
    "min_eigenvalue"
   ]
  },
  {
   "cell_type": "code",
   "execution_count": 16,
   "metadata": {},
   "outputs": [],
   "source": [
    "operator_pool = []\n",
    "phi = 0\n",
    "for i in range(num_qubits):\n",
    "    operator_pool.append(qml.RY(phi,wires=[i]))\n",
    "    operator_pool.append(qml.RZ(phi,wires=[i]))\n",
    "    #operator_pool.append(qml.RX(p,wires=[i]))\n"
   ]
  },
  {
   "cell_type": "code",
   "execution_count": 17,
   "metadata": {},
   "outputs": [],
   "source": [
    "c_pool = []\n",
    "\n",
    "for control in range(num_qubits):\n",
    "        for target in range(num_qubits):\n",
    "            if control != target:\n",
    "                #c_pool.append(qml.CZ(wires=[control, target]))\n",
    "                #c_pool.append(qml.CNOT(wires=[control, target]))\n",
    "                #operator_pool.append(qml.IsingXX(p,wires=[control, target]))\n",
    "                #c_pool.append(qml.CRY(phi=np.pi/2, wires=[control, target]))\n",
    "                c_pool.append(qml.CRX(phi, wires=[control, target]))"
   ]
  },
  {
   "cell_type": "code",
   "execution_count": 18,
   "metadata": {},
   "outputs": [],
   "source": [
    "operator_pool = operator_pool + c_pool"
   ]
  },
  {
   "cell_type": "code",
   "execution_count": 12,
   "metadata": {},
   "outputs": [],
   "source": [
    "dev = qml.device(\"default.qubit\", wires=num_qubits, shots=shots)\n",
    "@qml.qnode(dev)\n",
    "def circuit(params, op_list):\n",
    "\n",
    "    basis = [1,0,0,0]\n",
    "    qml.BasisState(basis, wires=range(num_qubits))\n",
    "\n",
    "    param_index = 0\n",
    "    for op in op_list:\n",
    "        o = type(op)\n",
    "        if (o == qml.CNOT) or (o == qml.CZ):\n",
    "            o(wires=op.wires)\n",
    "        else:\n",
    "            o(params[param_index], wires=op.wires)\n",
    "            param_index +=1\n",
    "\n",
    "\n",
    "    return qml.expval(qml.Hermitian(H, wires=range(num_qubits)))\n"
   ]
  },
  {
   "cell_type": "code",
   "execution_count": 13,
   "metadata": {},
   "outputs": [],
   "source": [
    "dev2 = qml.device(\"default.qubit\", wires=num_qubits, shots=None)\n",
    "@qml.qnode(dev2)\n",
    "def grad_circuit(param, operator_ham, op_list, op_params):\n",
    "\n",
    "    basis = [1,0,0,0]\n",
    "    qml.BasisState(basis, wires=range(num_qubits))\n",
    "\n",
    "    param_index = 0\n",
    "    for op in op_list:\n",
    "        o = type(op)\n",
    "        if (o == qml.CNOT) or (o == qml.CZ):\n",
    "            o(wires=op.wires)\n",
    "        else:\n",
    "            o(op_params[param_index], wires=op.wires)\n",
    "            param_index +=1\n",
    "\n",
    "    oph = type(operator_ham)\n",
    "    if (oph == qml.CNOT) or (oph == qml.CZ):\n",
    "        oph(wires=operator_ham.wires)\n",
    "    else:\n",
    "        oph(param, wires=operator_ham.wires)\n",
    "\n",
    "    return qml.expval(qml.Hermitian(H, wires=range(num_qubits)))\n"
   ]
  },
  {
   "cell_type": "code",
   "execution_count": 14,
   "metadata": {},
   "outputs": [],
   "source": [
    "def compute_grad(param, operator, op_list, op_params):\n",
    "    params = pnp.tensor(param, requires_grad=True)\n",
    "    grad_fn = qml.grad(grad_circuit)\n",
    "    grad = grad_fn(params, operator, op_list, op_params)\n",
    "    return grad"
   ]
  },
  {
   "cell_type": "code",
   "execution_count": 15,
   "metadata": {},
   "outputs": [],
   "source": [
    "def cost_function(times, op_list):\n",
    "\n",
    "    times = pnp.tensor(times, requires_grad=True)\n",
    "    energy = circuit(times, op_list)\n",
    "    \n",
    "    return energy"
   ]
  },
  {
   "cell_type": "code",
   "execution_count": 28,
   "metadata": {},
   "outputs": [
    {
     "name": "stdout",
     "output_type": "stream",
     "text": [
      "########################################\n",
      "step: 0\n",
      "Most common gate is RY(np.float64(0.0), wires=[1])\n",
      "num dimensions: 1\n",
      "Min E: 0.23579421961230967 params: [6.18014868]\n",
      "False\n",
      "########################################\n",
      "step: 1\n",
      "Removing RY(np.float64(0.0), wires=[1]) from pool\n",
      "Most common gate is RY(np.float64(0.0), wires=[2])\n",
      "num dimensions: 2\n",
      "Min E: 0.0320101100092327 params: [0.1188897  5.82116722]\n",
      "True\n"
     ]
    }
   ],
   "source": [
    "num_steps = 5\n",
    "op_list = []\n",
    "op_params = []\n",
    "\n",
    "#variables\n",
    "max_iter = 500\n",
    "strategy = \"randtobest1bin\"\n",
    "tol = 1e-3\n",
    "abs_tol = 1e-3\n",
    "popsize = 20\n",
    "\n",
    "number_grad_checks = 10\n",
    "pool = operator_pool.copy()\n",
    "for i in range(num_steps):\n",
    "\n",
    "    print(\"########################################\")\n",
    "    print(f\"step: {i}\")\n",
    "\n",
    "    max_ops_list = []\n",
    "    \n",
    "\n",
    "    if i != 0:\n",
    "        print(f\"Removing {most_common_gate} from pool\")\n",
    "        pool.remove(most_common_gate)\n",
    "\n",
    "        if type(most_common_gate) == qml.CRX:\n",
    "            cq = most_common_gate.wires[0]\n",
    "            tq = most_common_gate.wires[1]\n",
    "\n",
    "            if (qml.RY(phi, wires=cq) not in pool):\n",
    "                print(f\"Re-adding {qml.RY(phi, wires=cq)} to pool\")\n",
    "                pool.append(qml.RY(phi, wires=cq))\n",
    "\n",
    "            if (qml.RY(phi, wires=tq) not in pool):\n",
    "                print(f\"Re-adding {qml.RY(phi, wires=tq)} to pool\")\n",
    "                pool.append(qml.RY(phi, wires=tq))\n",
    "    \n",
    "    for param in np.random.uniform(phi, phi, size=number_grad_checks):\n",
    "        grad_list = []\n",
    "        for op in pool:\n",
    "            grad = compute_grad(param, op, op_list, op_params)\n",
    "            o=type(op)\n",
    "\n",
    "            if (o == qml.CNOT) or (o == qml.CZ):\n",
    "                grad_op = o(wires=op.wires)\n",
    "            else:\n",
    "                grad_op = o(param, wires=op.wires)\n",
    "\n",
    "            grad_list.append((grad_op,abs(grad)))\n",
    "\n",
    "        max_op, max_grad = max(grad_list, key=lambda x: x[1])\n",
    "        #print(f\"For param {param} the max op is {max_op} with grad {max_grad}\")\n",
    "        max_ops_list.append(max_op)\n",
    "\n",
    "    counter = Counter(max_ops_list)\n",
    "    most_common_gate, count = counter.most_common(1)[0]\n",
    "    print(f\"Most common gate is {most_common_gate}\")\n",
    "    op_list.append(most_common_gate)\n",
    "\n",
    "    # Generate Halton sequence\n",
    "    num_dimensions = len(op_list)\n",
    "    print(f\"num dimensions: {num_dimensions}\")\n",
    "    num_samples = popsize\n",
    "    halton_sampler = Halton(d=num_dimensions)\n",
    "    halton_samples = halton_sampler.random(n=num_samples)\n",
    "    scaled_samples = 2 * np.pi * halton_samples\n",
    "\n",
    "    bounds = [(0, 2 * np.pi) for _ in range(num_dimensions)]\n",
    "    x0 = np.concatenate((op_params, np.array([np.random.random()*2*np.pi])))\n",
    "    \n",
    "    res = differential_evolution(cost_function,\n",
    "                                    bounds,\n",
    "                                    x0=x0,\n",
    "                                    args=(op_list,),\n",
    "                                    maxiter=max_iter,\n",
    "                                    tol=tol,\n",
    "                                    atol=abs_tol,\n",
    "                                    strategy=strategy,\n",
    "                                    popsize=popsize,\n",
    "                                    init=scaled_samples,\n",
    "                                    )\n",
    "    \n",
    "    if i!=0: pre_min_e = min_e\n",
    "    min_e = res.fun\n",
    "    pre_op_params = op_params.copy()\n",
    "    op_params = res.x\n",
    "\n",
    "    print(f\"Min E: {min_e}\", f\"params: {op_params}\")\n",
    "    print(res.success)\n",
    "\n",
    "    \n",
    "    if i!=0:\n",
    "        if abs(pre_min_e - min_e) < 1e-8:\n",
    "            print(\"gradient converged\")\n",
    "            op_list.pop()\n",
    "            final_params = pre_op_params\n",
    "            break\n",
    "\n",
    "        if abs(min_eigenvalue-min_e) < 1e-6:\n",
    "                success = True\n",
    "                final_params = op_params\n",
    "                break\n",
    "        #elif min_e >= pre_min_e: \n",
    "        #    print(\"Energy increased\")\n",
    "        #    op_list.pop()\n",
    "        #    op_params = pre_op_params\n",
    "        #    break\n",
    "\n",
    "\n",
    "    "
   ]
  },
  {
   "cell_type": "code",
   "execution_count": 32,
   "metadata": {},
   "outputs": [],
   "source": [
    "final_ops = []\n",
    "for op, param in zip(op_list,final_params):\n",
    "    dict = {\"name\": op.name,\n",
    "            \"param\": param,\n",
    "            \"wires\": op.wires.tolist()}\n",
    "    final_ops.append(dict)"
   ]
  },
  {
   "cell_type": "code",
   "execution_count": 33,
   "metadata": {},
   "outputs": [
    {
     "data": {
      "text/plain": [
       "[{'name': 'RY', 'param': np.float64(0.11888970469004034), 'wires': [1]},\n",
       " {'name': 'RY', 'param': np.float64(5.821167223445569), 'wires': [2]}]"
      ]
     },
     "execution_count": 33,
     "metadata": {},
     "output_type": "execute_result"
    }
   ],
   "source": [
    "final_ops"
   ]
  },
  {
   "cell_type": "code",
   "execution_count": 263,
   "metadata": {},
   "outputs": [],
   "source": [
    "dev = qml.device(\"default.qubit\", wires=num_qubits, shots=2)\n",
    "@qml.qnode(dev)\n",
    "def final_circuit(params):\n",
    "\n",
    "    basis_state = [0,0,0,0]\n",
    "    qml.BasisState(basis_state, wires=range(num_qubits))\n",
    "    params_index = 0\n",
    "    for op in op_list:\n",
    "        o = type(op)\n",
    "        o(params[params_index], wires=op.wires)\n",
    "        params_index += 1\n",
    "\n",
    "    return qml.state()"
   ]
  },
  {
   "cell_type": "code",
   "execution_count": 264,
   "metadata": {},
   "outputs": [
    {
     "name": "stdout",
     "output_type": "stream",
     "text": [
      "0: ─╭|Ψ⟩─────────────────────────────────────────────────────────────┤  State\n",
      "1: ─├|Ψ⟩──RY(0.71)─╭RX(4.59)──RY(3.68)───────────────────────────────┤  State\n",
      "2: ─├|Ψ⟩──RY(0.03)─│───────────────────╭RX(1.83)──RY(0.33)───────────┤  State\n",
      "3: ─╰|Ψ⟩──RY(4.11)─╰●─────────RY(5.20)─╰●─────────RY(5.78)──RZ(5.39)─┤  State\n"
     ]
    }
   ],
   "source": [
    "x0 = np.random.uniform(0, 2 * np.pi, size=len(op_list))\n",
    "print(qml.draw(final_circuit)(x0))"
   ]
  },
  {
   "cell_type": "code",
   "execution_count": null,
   "metadata": {},
   "outputs": [],
   "source": [
    "def overlap_function(params):\n",
    "\n",
    "    params = pnp.tensor(params, requires_grad=True)\n",
    "    ansatz_state = final_circuit(params)\n",
    "    \n",
    "    overlap = np.vdot(min_eigenvector, ansatz_state)\n",
    "    cost = np.abs(overlap)**2  \n",
    "\n",
    "    return (1 - cost)"
   ]
  },
  {
   "cell_type": "code",
   "execution_count": null,
   "metadata": {},
   "outputs": [],
   "source": [
    "bounds = [(0, 2 * np.pi) for _ in range(len(op_list))]\n",
    "\n",
    "# Generate Halton sequence\n",
    "num_dimensions = len(op_list)\n",
    "num_samples = popsize\n",
    "halton_sampler = Halton(d=num_dimensions)\n",
    "halton_samples = halton_sampler.random(n=num_samples)\n",
    "scaled_samples = 2 * np.pi * halton_samples\n",
    "\n",
    "#variables\n",
    "max_iter = 300\n",
    "strategy = \"randtobest1bin\"\n",
    "tol = 1e-6\n",
    "abs_tol = 1e-5\n",
    "popsize = 20\n",
    "\n",
    "print(\"Running for overlap\")\n",
    "overlap_res = differential_evolution(overlap_function,\n",
    "                                    bounds,\n",
    "                                    maxiter=max_iter,\n",
    "                                    tol=tol,\n",
    "                                    atol=abs_tol,\n",
    "                                    strategy=strategy,\n",
    "                                    popsize=popsize,\n",
    "                                    init=scaled_samples,\n",
    "                                    )"
   ]
  },
  {
   "cell_type": "code",
   "execution_count": null,
   "metadata": {},
   "outputs": [],
   "source": [
    "overlap_res.fun"
   ]
  },
  {
   "cell_type": "code",
   "execution_count": null,
   "metadata": {},
   "outputs": [],
   "source": [
    "dev = qml.device(\"default.qubit\", wires=num_qubits)\n",
    "@qml.qnode(dev)\n",
    "def energy_circuit(params):\n",
    "\n",
    "    qml.BasisState(basis_state, wires=range(num_qubits))\n",
    "    params_index = 0\n",
    "    for op in op_list:\n",
    "        if type(op) == qml.CNOT:\n",
    "            qml.CNOT(wires=op.wires)\n",
    "        else:\n",
    "            pauli_string = qml.pauli.pauli_word_to_string(op)\n",
    "            qml.PauliRot(params[params_index], pauli_string, wires=op.wires)\n",
    "            params_index += 1\n",
    "\n",
    "    return qml.expval(qml.Hermitian(H, wires=range(num_qubits)))"
   ]
  },
  {
   "cell_type": "code",
   "execution_count": null,
   "metadata": {},
   "outputs": [],
   "source": [
    "x0 = overlap_res.x\n",
    "#x0 = hf_res.x\n",
    "energy_circuit(x0)"
   ]
  },
  {
   "cell_type": "code",
   "execution_count": null,
   "metadata": {},
   "outputs": [],
   "source": []
  },
  {
   "cell_type": "code",
   "execution_count": null,
   "metadata": {},
   "outputs": [],
   "source": [
    "data = {\"potential\": potential,\n",
    "        \"cutoff\": cutoff,\n",
    "        \"optimizer\": \"DE\",\n",
    "        \"num steps\": num_steps,\n",
    "        \"basis_state\": basis_state,\n",
    "        \"op_list\": [str(o) for o in op_list],\n",
    "        \"overlap\": overlap_res.fun,\n",
    "        \"hellinger\": hf_res.fun\n",
    "        }"
   ]
  },
  {
   "cell_type": "code",
   "execution_count": null,
   "metadata": {},
   "outputs": [],
   "source": [
    "data"
   ]
  },
  {
   "cell_type": "code",
   "execution_count": null,
   "metadata": {},
   "outputs": [],
   "source": [
    "# Save the variable to a JSON file\n",
    "base_path = r\"C:\\Users\\Johnk\\Documents\\PhD\\Quantum Computing Code\\Quantum-Computing\\SUSY\\SUSY QM\\PennyLane\\ADAPT-VQE\\Files\\TimeEv\\\\\"\n",
    "os.makedirs(base_path, exist_ok=True)\n",
    "path = base_path + \"{}_{}.json\".format(potential, cutoff)\n",
    "with open(path, 'w') as json_file:\n",
    "    json.dump(data, json_file, indent=4)"
   ]
  },
  {
   "cell_type": "code",
   "execution_count": null,
   "metadata": {},
   "outputs": [],
   "source": []
  },
  {
   "cell_type": "code",
   "execution_count": null,
   "metadata": {},
   "outputs": [],
   "source": []
  },
  {
   "cell_type": "code",
   "execution_count": null,
   "metadata": {},
   "outputs": [],
   "source": []
  },
  {
   "cell_type": "code",
   "execution_count": null,
   "metadata": {},
   "outputs": [],
   "source": [
    "#variables\n",
    "max_iter = 10000\n",
    "strategy = \"randtobest1bin\"\n",
    "tol = 1e-3\n",
    "atol = 1e-3\n",
    "popsize = 20\n",
    "\n",
    "num_steps = 5\n",
    "op_list = []\n",
    "op_params = []\n",
    "\n",
    "for i in range(num_steps):\n",
    "\n",
    "    print(f\"step: {i}\")\n",
    "\n",
    "    grad_list = []\n",
    "\n",
    "    for op in operator_pool:\n",
    "        grad = compute_grad(op, op_list, op_params)\n",
    "        grad_list.append(abs(grad))\n",
    "\n",
    "    maxidx = np.argmax(grad_list)\n",
    "    op_list.append(operator_pool[maxidx])\n",
    "\n",
    "    bounds = [(0, 2 * np.pi) for _ in range(len(op_list))]\n",
    "    res = differential_evolution(cost_function,\n",
    "                                    bounds,\n",
    "                                    args=(op_list,),\n",
    "                                    maxiter=max_iter,\n",
    "                                    tol=tol,\n",
    "                                    atol=atol,\n",
    "                                    strategy=strategy,\n",
    "                                    popsize=popsize\n",
    "                                    )\n",
    "    if i!=0: pre_min_e = min_e\n",
    "    min_e = res.fun\n",
    "    pre_op_params = op_params\n",
    "    op_params = res.x\n",
    "\n",
    "    print(f\"Min E: {min_e}\")\n",
    "    print(res.success)\n",
    "\n",
    "    print(\"Testing CZ pool\")\n",
    "    cz_e = []\n",
    "    for term in cz_pool:\n",
    "        energy = circuit(op_params, op_list, try_cz=True, cz_wires=term.wires)\n",
    "        cz_e.append(energy)\n",
    "\n",
    "    min_cz_e = cz_e[np.argmin(cz_e)]\n",
    "    min_cz_term = cz_pool[np.argmin(cz_e)]\n",
    "    if min_cz_e < min_e:\n",
    "        print(f\"Adding {min_cz_term} reduces energy further\")\n",
    "        op_list.append(min_cz_term)\n",
    "        min_e = min_cz_e\n",
    "        print(f\"Min E: {min_e}\")\n",
    "    \n",
    "    if i!=0:\n",
    "        if abs(pre_min_e - min_e) < 1e-8:\n",
    "            print(\"gradient converged\")\n",
    "            op_list.pop()\n",
    "            op_params = pre_op_params\n",
    "            break\n",
    "\n",
    "\n",
    "    "
   ]
  }
 ],
 "metadata": {
  "kernelspec": {
   "display_name": ".venv",
   "language": "python",
   "name": "python3"
  },
  "language_info": {
   "codemirror_mode": {
    "name": "ipython",
    "version": 3
   },
   "file_extension": ".py",
   "mimetype": "text/x-python",
   "name": "python",
   "nbconvert_exporter": "python",
   "pygments_lexer": "ipython3",
   "version": "3.13.1"
  }
 },
 "nbformat": 4,
 "nbformat_minor": 2
}
