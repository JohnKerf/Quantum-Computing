{
 "cells": [
  {
   "cell_type": "code",
   "execution_count": 464,
   "metadata": {},
   "outputs": [],
   "source": [
    "import pennylane as qml\n",
    "from pennylane import numpy as pnp\n",
    "import numpy as np\n",
    "from qiskit.quantum_info import SparsePauliOp\n",
    "from scipy.optimize import differential_evolution\n",
    "from scipy.stats.qmc import Halton\n",
    "import os\n",
    "import json\n",
    "from susy_qm import calculate_Hamiltonian\n",
    "\n",
    "import itertools"
   ]
  },
  {
   "cell_type": "code",
   "execution_count": 482,
   "metadata": {},
   "outputs": [],
   "source": [
    "potential = 'DW'\n",
    "cutoff = 4\n",
    "shots = 2"
   ]
  },
  {
   "cell_type": "code",
   "execution_count": 483,
   "metadata": {},
   "outputs": [],
   "source": [
    "#calculate Hamiltonian and expected eigenvalues\n",
    "H = calculate_Hamiltonian(cutoff, potential)\n",
    "\n",
    "eigenvalues, eigenvectors = np.linalg.eig(H)\n",
    "min_index = np.argmin(eigenvalues)\n",
    "min_eigenvalue = eigenvalues[min_index]\n",
    "min_eigenvector = np.asarray(eigenvectors[:, min_index])\n",
    "\n",
    "#create qiskit Hamiltonian Pauli string\n",
    "hamiltonian = SparsePauliOp.from_operator(H)\n",
    "num_qubits = hamiltonian.num_qubits"
   ]
  },
  {
   "cell_type": "code",
   "execution_count": 484,
   "metadata": {},
   "outputs": [],
   "source": [
    "operator_pool = []\n",
    "for i in range(num_qubits):\n",
    "    #operator_pool.append(qml.Identity(i))\n",
    "    #operator_pool.append(qml.PauliX(i))\n",
    "    operator_pool.append(qml.PauliY(i))\n",
    "    operator_pool.append(qml.PauliZ(i))\n"
   ]
  },
  {
   "cell_type": "code",
   "execution_count": 485,
   "metadata": {},
   "outputs": [],
   "source": [
    "dev = qml.device(\"default.qubit\", wires=num_qubits, shots=shots)\n",
    "\n",
    "@qml.qnode(dev)\n",
    "def basis_circuit(basis_state):\n",
    "\n",
    "    qml.BasisState(basis_state, wires=range(num_qubits))\n",
    "\n",
    "    return qml.expval(qml.Hermitian(H, wires=range(num_qubits)))"
   ]
  },
  {
   "cell_type": "code",
   "execution_count": 486,
   "metadata": {},
   "outputs": [
    {
     "name": "stdout",
     "output_type": "stream",
     "text": [
      "(1, 0, 0) 0.9065598714743808\n",
      "(0, 0, 0) 0.9506335329473417\n",
      "(1, 0, 0) 0.9065598714743808\n",
      "(1, 0, 0) 0.9065598714743808\n",
      "(1, 0, 0) 0.9065598714743808\n",
      "(1, 0, 0) 0.9065598714743808\n",
      "(1, 0, 0) 0.9065598714743808\n",
      "(1, 0, 0) 0.9065598714743808\n",
      "(1, 0, 0) 0.9065598714743808\n",
      "(1, 0, 0) 0.9065598714743808\n",
      "(1, 0, 0) 0.9065598714743808\n",
      "(1, 0, 0) 0.9065598714743808\n",
      "(1, 0, 0) 0.9065598714743808\n",
      "(0, 0, 0) 0.9506335329473417\n",
      "(0, 0, 0) 2.3189289829038993\n",
      "(1, 0, 0) 0.9065598714743808\n",
      "(1, 0, 0) 0.9065598714743808\n",
      "(1, 0, 0) 0.9065598714743808\n",
      "(1, 0, 0) 0.9065598714743808\n",
      "(0, 1, 1) 1.6956663473734905\n",
      "The basis with the lowest energy: (1, 0, 0)\n",
      "Lowest energy: 0.9065598714743808\n"
     ]
    }
   ],
   "source": [
    "basis_list = list(itertools.product([0,1], repeat=num_qubits))\n",
    "basis = []\n",
    "for _ in range(20):\n",
    "    energies = []\n",
    "    for bs in basis_list:\n",
    "        energies.append(basis_circuit(bs))\n",
    "\n",
    "    print(basis_list[np.argmin(energies)], energies[np.argmin(energies)])\n",
    "    basis.append([basis_list[np.argmin(energies)], energies[np.argmin(energies)]])\n",
    "\n",
    "min_basis, min_energy = min(basis, key=lambda x: x[1])\n",
    "print(\"The basis with the lowest energy:\", min_basis)\n",
    "print(\"Lowest energy:\", min_energy)"
   ]
  },
  {
   "cell_type": "code",
   "execution_count": 470,
   "metadata": {},
   "outputs": [],
   "source": [
    "dev = qml.device(\"default.qubit\", wires=num_qubits, shots=shots)\n",
    "basis_state = min_basis\n",
    "\n",
    "@qml.qnode(dev)\n",
    "def circuit(times, op_list, trotter_steps=1):\n",
    "\n",
    "    qml.BasisState(basis_state, wires=range(num_qubits))\n",
    "\n",
    "    for i, op in enumerate(op_list):\n",
    "        qml.ApproxTimeEvolution(op, time=times[i], n=trotter_steps)\n",
    "\n",
    "    return qml.expval(qml.Hermitian(H, wires=range(num_qubits)))\n"
   ]
  },
  {
   "cell_type": "code",
   "execution_count": 471,
   "metadata": {},
   "outputs": [],
   "source": [
    "dev2 = qml.device(\"default.qubit\", wires=num_qubits)\n",
    "@qml.qnode(dev2)\n",
    "def grad_circuit(times, operator_ham, op_list, op_params, trotter_steps=1):\n",
    "\n",
    "    qml.BasisState(basis_state, wires=range(num_qubits))\n",
    "    param_index = 0\n",
    "    for op in op_list:\n",
    "        qml.ApproxTimeEvolution(op, time=op_params[param_index], n=trotter_steps)\n",
    "        param_index +=1\n",
    "\n",
    "    qml.ApproxTimeEvolution(operator_ham, time=times, n=trotter_steps)\n",
    "\n",
    "    return qml.expval(qml.Hermitian(H, wires=range(num_qubits)))\n"
   ]
  },
  {
   "cell_type": "code",
   "execution_count": 472,
   "metadata": {},
   "outputs": [],
   "source": [
    "def compute_grad(operator, op_list, op_params):\n",
    "    t = pnp.tensor(0.0, requires_grad=True)\n",
    "    grad_fn = qml.grad(grad_circuit)\n",
    "    grad = grad_fn(t, operator, op_list, op_params)\n",
    "    return grad"
   ]
  },
  {
   "cell_type": "code",
   "execution_count": 473,
   "metadata": {},
   "outputs": [],
   "source": [
    "def cost_function(times, op_list):\n",
    "\n",
    "    times = pnp.tensor(times, requires_grad=True)\n",
    "    energy = circuit(times, op_list)\n",
    "    \n",
    "    return energy"
   ]
  },
  {
   "cell_type": "code",
   "execution_count": 474,
   "metadata": {},
   "outputs": [
    {
     "name": "stdout",
     "output_type": "stream",
     "text": [
      "step: 0\n",
      "Min E: 0.8916323801368011\n",
      "True\n",
      "step: 1\n",
      "Min E: 0.8916323801368011\n",
      "True\n",
      "gradient converged\n"
     ]
    }
   ],
   "source": [
    "num_steps = 4\n",
    "\n",
    "\n",
    "#variables\n",
    "max_iter = 300\n",
    "strategy = \"randtobest1bin\"\n",
    "tol = 1e-3\n",
    "abs_tol = 1e-3\n",
    "popsize = 20\n",
    "\n",
    "energies = []\n",
    "\n",
    "for _ in range(1):\n",
    "\n",
    "    op_list = []\n",
    "    op_params = []\n",
    "\n",
    "    for i in range(num_steps):\n",
    "\n",
    "        print(f\"step: {i}\")\n",
    "\n",
    "        grad_list = []\n",
    "\n",
    "        for op in operator_pool:\n",
    "            grad = compute_grad(op, op_list, op_params)\n",
    "            grad_list.append(abs(grad))\n",
    "\n",
    "        maxidx = np.argmax(grad_list)\n",
    "        op_list.append(operator_pool[maxidx])\n",
    "\n",
    "        # Generate Halton sequence\n",
    "        num_dimensions = len(op_list)\n",
    "        num_samples = popsize\n",
    "        halton_sampler = Halton(d=num_dimensions)\n",
    "        halton_samples = halton_sampler.random(n=num_samples)\n",
    "        scaled_samples = 2 * np.pi * halton_samples\n",
    "\n",
    "        bounds = [(0, 2 * np.pi) for _ in range(num_dimensions)]\n",
    "        \n",
    "        res = differential_evolution(cost_function,\n",
    "                                        bounds,\n",
    "                                        args=(op_list,),\n",
    "                                        maxiter=max_iter,\n",
    "                                        tol=tol,\n",
    "                                        atol=abs_tol,\n",
    "                                        strategy=strategy,\n",
    "                                        popsize=popsize,\n",
    "                                        init=scaled_samples,\n",
    "                                        )\n",
    "        \n",
    "        if i!=0: pre_min_e = min_e\n",
    "        min_e = res.fun\n",
    "        pre_op_params = op_params\n",
    "        op_params = res.x\n",
    "\n",
    "        print(f\"Min E: {min_e}\")\n",
    "        print(res.success)\n",
    "\n",
    "        if i!=0:\n",
    "            if abs(pre_min_e - min_e) < 1e-8:\n",
    "                print(\"gradient converged\")\n",
    "                op_list.pop()\n",
    "                op_params = pre_op_params\n",
    "                break\n",
    "\n",
    "    energies.append(min_e)\n",
    "\n",
    "\n",
    "    "
   ]
  },
  {
   "cell_type": "code",
   "execution_count": 475,
   "metadata": {},
   "outputs": [
    {
     "data": {
      "text/plain": [
       "np.float64(0.8916323801368011)"
      ]
     },
     "execution_count": 475,
     "metadata": {},
     "output_type": "execute_result"
    }
   ],
   "source": [
    "min(energies)"
   ]
  },
  {
   "cell_type": "code",
   "execution_count": 476,
   "metadata": {},
   "outputs": [
    {
     "data": {
      "text/plain": [
       "[Y(6)]"
      ]
     },
     "execution_count": 476,
     "metadata": {},
     "output_type": "execute_result"
    }
   ],
   "source": [
    "op_list"
   ]
  },
  {
   "cell_type": "code",
   "execution_count": 477,
   "metadata": {},
   "outputs": [],
   "source": [
    "dev3 = qml.device(\"default.qubit\", wires=num_qubits)\n",
    "@qml.qnode(dev3)\n",
    "def final_circuit(params):\n",
    "\n",
    "    qml.BasisState(basis_state, wires=range(num_qubits))\n",
    "    params_index = 0\n",
    "    for op in op_list:\n",
    "        pauli_string = qml.pauli.pauli_word_to_string(op)\n",
    "        qml.PauliRot(params[params_index], pauli_string, wires=op.wires)\n",
    "        params_index += 1\n",
    "\n",
    "    return qml.state()"
   ]
  },
  {
   "cell_type": "code",
   "execution_count": 478,
   "metadata": {},
   "outputs": [
    {
     "name": "stdout",
     "output_type": "stream",
     "text": [
      "0: ─╭|Ψ⟩───────────┤  State\n",
      "1: ─├|Ψ⟩───────────┤  State\n",
      "2: ─├|Ψ⟩───────────┤  State\n",
      "3: ─├|Ψ⟩───────────┤  State\n",
      "4: ─├|Ψ⟩───────────┤  State\n",
      "5: ─├|Ψ⟩───────────┤  State\n",
      "6: ─╰|Ψ⟩──RY(4.24)─┤  State\n"
     ]
    }
   ],
   "source": [
    "x0 = np.random.uniform(0, 2 * np.pi, size=len(op_list))\n",
    "print(qml.draw(final_circuit)(x0))"
   ]
  },
  {
   "cell_type": "code",
   "execution_count": 479,
   "metadata": {},
   "outputs": [],
   "source": [
    "data = {\"potential\": potential,\n",
    "        \"cutoff\": cutoff,\n",
    "        \"optimizer\": \"DE\",\n",
    "        \"shots\": shots,\n",
    "        \"Optimizer\": {\n",
    "                \"name\": \"differential_evolution\",\n",
    "                \"bounds\": \"[(0, 2 * np.pi) for _ in range(np.prod(params_shape))]\",\n",
    "                \"maxiter\": max_iter,\n",
    "                \"tolerance\": tol,\n",
    "                \"abs_tolerance\": abs_tol,\n",
    "                \"strategy\": \"randtobest1bin\",\n",
    "                \"popsize\": popsize,\n",
    "                \"init\": \"scaled_samples\"},\n",
    "        \"num steps\": num_steps,\n",
    "        \"basis_state\": basis_state,\n",
    "        \"op_list\": [str(o) for o in op_list],\n",
    "        \"min_e_exact\": min_eigenvalue.real,\n",
    "        \"min_e\": min_e\n",
    "        }"
   ]
  },
  {
   "cell_type": "code",
   "execution_count": 480,
   "metadata": {},
   "outputs": [
    {
     "data": {
      "text/plain": [
       "{'potential': 'DW',\n",
       " 'cutoff': 64,\n",
       " 'optimizer': 'DE',\n",
       " 'shots': 2,\n",
       " 'Optimizer': {'name': 'differential_evolution',\n",
       "  'bounds': '[(0, 2 * np.pi) for _ in range(np.prod(params_shape))]',\n",
       "  'maxiter': 300,\n",
       "  'tolerance': 0.001,\n",
       "  'abs_tolerance': 0.001,\n",
       "  'strategy': 'randtobest1bin',\n",
       "  'popsize': 20,\n",
       "  'init': 'scaled_samples'},\n",
       " 'num steps': 4,\n",
       " 'basis_state': (0, 0, 0, 0, 0, 0, 0),\n",
       " 'op_list': ['Y(6)'],\n",
       " 'min_e_exact': np.float64(0.8916323801370194),\n",
       " 'min_e': np.float64(0.8916323801368011)}"
      ]
     },
     "execution_count": 480,
     "metadata": {},
     "output_type": "execute_result"
    }
   ],
   "source": [
    "data"
   ]
  },
  {
   "cell_type": "code",
   "execution_count": 481,
   "metadata": {},
   "outputs": [],
   "source": [
    "# Save the variable to a JSON file\n",
    "base_path = r\"C:\\Users\\Johnk\\Documents\\PhD\\Quantum Computing Code\\Quantum-Computing\\SUSY\\SUSY QM\\PennyLane\\ADAPT-VQE\\Files\\{}\".format(potential)\n",
    "os.makedirs(base_path, exist_ok=True)\n",
    "path = os.path.join(base_path,\"{}_{}.json\".format(potential, cutoff))\n",
    "with open(path, 'w') as json_file:\n",
    "    json.dump(data, json_file, indent=4)"
   ]
  },
  {
   "cell_type": "code",
   "execution_count": null,
   "metadata": {},
   "outputs": [],
   "source": []
  },
  {
   "cell_type": "code",
   "execution_count": null,
   "metadata": {},
   "outputs": [],
   "source": []
  },
  {
   "cell_type": "code",
   "execution_count": null,
   "metadata": {},
   "outputs": [],
   "source": []
  }
 ],
 "metadata": {
  "kernelspec": {
   "display_name": ".venv",
   "language": "python",
   "name": "python3"
  },
  "language_info": {
   "codemirror_mode": {
    "name": "ipython",
    "version": 3
   },
   "file_extension": ".py",
   "mimetype": "text/x-python",
   "name": "python",
   "nbconvert_exporter": "python",
   "pygments_lexer": "ipython3",
   "version": "3.13.1"
  }
 },
 "nbformat": 4,
 "nbformat_minor": 2
}
