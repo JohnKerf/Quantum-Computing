{
 "cells": [
  {
   "cell_type": "code",
   "execution_count": 1,
   "metadata": {},
   "outputs": [],
   "source": [
    "import pennylane as qml\n",
    "from pennylane import numpy as pnp\n",
    "import numpy as np\n",
    "from qiskit.quantum_info import SparsePauliOp\n",
    "from scipy.optimize import minimize, differential_evolution\n",
    "from scipy.stats.qmc import Halton\n",
    "import os\n",
    "import json\n",
    "from susy_qm import calculate_Hamiltonian\n",
    "\n",
    "import itertools"
   ]
  },
  {
   "cell_type": "code",
   "execution_count": 38,
   "metadata": {},
   "outputs": [],
   "source": [
    "potential = 'DW'\n",
    "cutoff = 16\n",
    "shots = 1024"
   ]
  },
  {
   "cell_type": "code",
   "execution_count": 39,
   "metadata": {},
   "outputs": [],
   "source": [
    "#calculate Hamiltonian and expected eigenvalues\n",
    "H = calculate_Hamiltonian(cutoff, potential)\n",
    "\n",
    "eigenvalues, eigenvectors = np.linalg.eig(H)\n",
    "min_index = np.argmin(eigenvalues)\n",
    "min_eigenvalue = eigenvalues[min_index]\n",
    "min_eigenvector = np.asarray(eigenvectors[:, min_index])\n",
    "\n",
    "#create qiskit Hamiltonian Pauli string\n",
    "hamiltonian = SparsePauliOp.from_operator(H)\n",
    "num_qubits = hamiltonian.num_qubits"
   ]
  },
  {
   "cell_type": "code",
   "execution_count": 40,
   "metadata": {},
   "outputs": [],
   "source": [
    "min_3_ev = eigenvalues.argsort()[:3]\n",
    "min_eigenvector = np.asarray(eigenvectors[:, min_3_ev[1]])"
   ]
  },
  {
   "cell_type": "code",
   "execution_count": 41,
   "metadata": {},
   "outputs": [],
   "source": [
    "dev = qml.device(\"default.qubit\", wires=num_qubits, shots=shots)\n",
    "\n",
    "@qml.qnode(dev)\n",
    "def basis_circuit(basis_state):\n",
    "\n",
    "    qml.BasisState(basis_state, wires=range(num_qubits))\n",
    "\n",
    "    return qml.expval(qml.Hermitian(H, wires=range(num_qubits)))"
   ]
  },
  {
   "cell_type": "code",
   "execution_count": 42,
   "metadata": {},
   "outputs": [
    {
     "name": "stdout",
     "output_type": "stream",
     "text": [
      "(1, 0, 0, 0, 0) 1.3606440266380098\n",
      "(1, 0, 0, 0, 0) 1.4251712694817003\n",
      "(1, 0, 0, 0, 0) 1.3369066854746414\n",
      "(1, 0, 0, 0, 0) 1.334462859412981\n",
      "(1, 0, 0, 0, 0) 1.406938440125633\n",
      "(1, 0, 0, 0, 0) 1.341173958619114\n",
      "(1, 0, 0, 0, 0) 1.3662404011002964\n",
      "(1, 0, 0, 0, 0) 1.3627687433031634\n",
      "(1, 0, 0, 0, 0) 1.3633428652517734\n",
      "(1, 0, 0, 0, 0) 1.4137164657415153\n",
      "(1, 0, 0, 0, 0) 1.437881645268872\n",
      "(1, 0, 0, 0, 0) 1.343680141228789\n",
      "(1, 0, 0, 0, 0) 1.3804368577599369\n",
      "(1, 0, 0, 0, 0) 1.413051549235693\n",
      "(1, 0, 0, 0, 0) 1.3623588661659918\n",
      "(1, 0, 0, 0, 0) 1.4091066430041126\n",
      "(1, 0, 0, 0, 0) 1.3178756180079123\n",
      "(1, 0, 0, 0, 0) 1.3943006529214759\n",
      "(1, 0, 0, 0, 0) 1.4400820773130723\n",
      "(1, 0, 0, 0, 0) 1.3989221108759375\n",
      "The basis with the lowest energy: (1, 0, 0, 0, 0)\n",
      "Lowest energy: 1.3178756180079123\n"
     ]
    }
   ],
   "source": [
    "basis_list = list(itertools.product([0,1], repeat=num_qubits))\n",
    "basis = []\n",
    "for _ in range(20):\n",
    "    energies = []\n",
    "    for bs in basis_list:\n",
    "        energies.append(basis_circuit(bs))\n",
    "\n",
    "    print(basis_list[np.argmin(energies)], energies[np.argmin(energies)])\n",
    "    basis.append([basis_list[np.argmin(energies)], energies[np.argmin(energies)]])\n",
    "\n",
    "min_basis, min_energy = min(basis, key=lambda x: x[1])\n",
    "print(\"The basis with the lowest energy:\", min_basis)\n",
    "print(\"Lowest energy:\", min_energy)"
   ]
  },
  {
   "cell_type": "code",
   "execution_count": 43,
   "metadata": {},
   "outputs": [],
   "source": [
    "operator_pool = []\n",
    "for i in range(num_qubits):\n",
    "    #operator_pool.append(qml.Identity(i))\n",
    "    #operator_pool.append(qml.PauliX(i))\n",
    "    operator_pool.append(qml.PauliY(i))\n",
    "    operator_pool.append(qml.PauliZ(i))\n"
   ]
  },
  {
   "cell_type": "code",
   "execution_count": 44,
   "metadata": {},
   "outputs": [],
   "source": [
    "cz_pool = []\n",
    "\n",
    "for control in range(num_qubits):\n",
    "        for target in range(num_qubits):\n",
    "            if control != target:\n",
    "                cz_pool.append(qml.CZ(wires=[control, target]))"
   ]
  },
  {
   "cell_type": "code",
   "execution_count": 51,
   "metadata": {},
   "outputs": [],
   "source": [
    "dev = qml.device(\"default.qubit\", wires=num_qubits, shots=shots)\n",
    "basis_state = min_basis\n",
    "#basis_state = [0,0,0,0,0]\n",
    "\n",
    "@qml.qnode(dev)\n",
    "def circuit(times, op_list, try_cz=False, cz_wires=None, trotter_steps=1):\n",
    "\n",
    "    qml.BasisState(basis_state, wires=range(num_qubits))\n",
    "\n",
    "    for i, op in enumerate(op_list):\n",
    "        if type(op) == qml.CZ:\n",
    "            qml.CZ(wires=op.wires)\n",
    "        else:\n",
    "            qml.ApproxTimeEvolution(op, time=times[i], n=trotter_steps)\n",
    "\n",
    "    if try_cz:\n",
    "        qml.CZ(wires=cz_wires)\n",
    "\n",
    "    return qml.expval(qml.Hermitian(H, wires=range(num_qubits)))\n"
   ]
  },
  {
   "cell_type": "code",
   "execution_count": 52,
   "metadata": {},
   "outputs": [],
   "source": [
    "dev2 = qml.device(\"default.qubit\", wires=num_qubits)\n",
    "@qml.qnode(dev2)\n",
    "def grad_circuit(times, operator_ham, op_list, op_params, trotter_steps=1):\n",
    "\n",
    "    qml.BasisState(basis_state, wires=range(num_qubits))\n",
    "    param_index = 0\n",
    "    for op in op_list:\n",
    "        if type(op) == qml.CZ:\n",
    "            qml.CZ(wires=op.wires)\n",
    "        else:\n",
    "            qml.ApproxTimeEvolution(op, time=op_params[param_index], n=trotter_steps)\n",
    "            param_index +=1\n",
    "\n",
    "    qml.ApproxTimeEvolution(operator_ham, time=times, n=trotter_steps)\n",
    "\n",
    "    return qml.expval(qml.Hermitian(H, wires=range(num_qubits)))\n"
   ]
  },
  {
   "cell_type": "code",
   "execution_count": 53,
   "metadata": {},
   "outputs": [],
   "source": [
    "def compute_grad(operator, op_list, op_params):\n",
    "    t = pnp.tensor(0.0, requires_grad=True)\n",
    "    grad_fn = qml.grad(grad_circuit)\n",
    "    grad = grad_fn(t, operator, op_list, op_params)\n",
    "    return grad"
   ]
  },
  {
   "cell_type": "code",
   "execution_count": 54,
   "metadata": {},
   "outputs": [],
   "source": [
    "def cost_function(times, op_list):\n",
    "\n",
    "    times = pnp.tensor(times, requires_grad=True)\n",
    "    energy = circuit(times, op_list)\n",
    "    \n",
    "    return energy"
   ]
  },
  {
   "cell_type": "code",
   "execution_count": 55,
   "metadata": {},
   "outputs": [
    {
     "name": "stdout",
     "output_type": "stream",
     "text": [
      "step: 0\n"
     ]
    },
    {
     "ename": "KeyboardInterrupt",
     "evalue": "",
     "output_type": "error",
     "traceback": [
      "\u001b[1;31m---------------------------------------------------------------------------\u001b[0m",
      "\u001b[1;31mKeyboardInterrupt\u001b[0m                         Traceback (most recent call last)",
      "Cell \u001b[1;32mIn[55], line 34\u001b[0m\n\u001b[0;32m     30\u001b[0m scaled_samples \u001b[38;5;241m=\u001b[39m \u001b[38;5;241m2\u001b[39m \u001b[38;5;241m*\u001b[39m np\u001b[38;5;241m.\u001b[39mpi \u001b[38;5;241m*\u001b[39m halton_samples\n\u001b[0;32m     32\u001b[0m bounds \u001b[38;5;241m=\u001b[39m [(\u001b[38;5;241m0\u001b[39m, \u001b[38;5;241m2\u001b[39m \u001b[38;5;241m*\u001b[39m np\u001b[38;5;241m.\u001b[39mpi) \u001b[38;5;28;01mfor\u001b[39;00m _ \u001b[38;5;129;01min\u001b[39;00m \u001b[38;5;28mrange\u001b[39m(num_dimensions)]\n\u001b[1;32m---> 34\u001b[0m res \u001b[38;5;241m=\u001b[39m \u001b[43mdifferential_evolution\u001b[49m\u001b[43m(\u001b[49m\u001b[43mcost_function\u001b[49m\u001b[43m,\u001b[49m\n\u001b[0;32m     35\u001b[0m \u001b[43m                                \u001b[49m\u001b[43mbounds\u001b[49m\u001b[43m,\u001b[49m\n\u001b[0;32m     36\u001b[0m \u001b[43m                                \u001b[49m\u001b[43margs\u001b[49m\u001b[38;5;241;43m=\u001b[39;49m\u001b[43m(\u001b[49m\u001b[43mop_list\u001b[49m\u001b[43m,\u001b[49m\u001b[43m)\u001b[49m\u001b[43m,\u001b[49m\n\u001b[0;32m     37\u001b[0m \u001b[43m                                \u001b[49m\u001b[43mmaxiter\u001b[49m\u001b[38;5;241;43m=\u001b[39;49m\u001b[43mmax_iter\u001b[49m\u001b[43m,\u001b[49m\n\u001b[0;32m     38\u001b[0m \u001b[43m                                \u001b[49m\u001b[43mtol\u001b[49m\u001b[38;5;241;43m=\u001b[39;49m\u001b[43mtol\u001b[49m\u001b[43m,\u001b[49m\n\u001b[0;32m     39\u001b[0m \u001b[43m                                \u001b[49m\u001b[43matol\u001b[49m\u001b[38;5;241;43m=\u001b[39;49m\u001b[43mabs_tol\u001b[49m\u001b[43m,\u001b[49m\n\u001b[0;32m     40\u001b[0m \u001b[43m                                \u001b[49m\u001b[43mstrategy\u001b[49m\u001b[38;5;241;43m=\u001b[39;49m\u001b[43mstrategy\u001b[49m\u001b[43m,\u001b[49m\n\u001b[0;32m     41\u001b[0m \u001b[43m                                \u001b[49m\u001b[43mpopsize\u001b[49m\u001b[38;5;241;43m=\u001b[39;49m\u001b[43mpopsize\u001b[49m\u001b[43m,\u001b[49m\n\u001b[0;32m     42\u001b[0m \u001b[43m                                \u001b[49m\u001b[43minit\u001b[49m\u001b[38;5;241;43m=\u001b[39;49m\u001b[43mscaled_samples\u001b[49m\u001b[43m,\u001b[49m\n\u001b[0;32m     43\u001b[0m \u001b[43m                                \u001b[49m\u001b[43m)\u001b[49m\n\u001b[0;32m     45\u001b[0m \u001b[38;5;28;01mif\u001b[39;00m i\u001b[38;5;241m!=\u001b[39m\u001b[38;5;241m0\u001b[39m: pre_min_e \u001b[38;5;241m=\u001b[39m min_e\n\u001b[0;32m     46\u001b[0m min_e \u001b[38;5;241m=\u001b[39m res\u001b[38;5;241m.\u001b[39mfun\n",
      "File \u001b[1;32mc:\\Users\\Johnk\\Documents\\PhD\\Quantum Computing Code\\Quantum-Computing\\.venv\\Lib\\site-packages\\scipy\\_lib\\_util.py:440\u001b[0m, in \u001b[0;36m_transition_to_rng.<locals>.decorator.<locals>.wrapper\u001b[1;34m(*args, **kwargs)\u001b[0m\n\u001b[0;32m    433\u001b[0m     message \u001b[38;5;241m=\u001b[39m (\n\u001b[0;32m    434\u001b[0m         \u001b[38;5;124m\"\u001b[39m\u001b[38;5;124mThe NumPy global RNG was seeded by calling \u001b[39m\u001b[38;5;124m\"\u001b[39m\n\u001b[0;32m    435\u001b[0m         \u001b[38;5;124mf\u001b[39m\u001b[38;5;124m\"\u001b[39m\u001b[38;5;124m`np.random.seed`. Beginning in \u001b[39m\u001b[38;5;132;01m{\u001b[39;00mend_version\u001b[38;5;132;01m}\u001b[39;00m\u001b[38;5;124m, this \u001b[39m\u001b[38;5;124m\"\u001b[39m\n\u001b[0;32m    436\u001b[0m         \u001b[38;5;124m\"\u001b[39m\u001b[38;5;124mfunction will no longer use the global RNG.\u001b[39m\u001b[38;5;124m\"\u001b[39m\n\u001b[0;32m    437\u001b[0m     ) \u001b[38;5;241m+\u001b[39m cmn_msg\n\u001b[0;32m    438\u001b[0m     warnings\u001b[38;5;241m.\u001b[39mwarn(message, \u001b[38;5;167;01mFutureWarning\u001b[39;00m, stacklevel\u001b[38;5;241m=\u001b[39m\u001b[38;5;241m2\u001b[39m)\n\u001b[1;32m--> 440\u001b[0m \u001b[38;5;28;01mreturn\u001b[39;00m \u001b[43mfun\u001b[49m\u001b[43m(\u001b[49m\u001b[38;5;241;43m*\u001b[39;49m\u001b[43margs\u001b[49m\u001b[43m,\u001b[49m\u001b[43m \u001b[49m\u001b[38;5;241;43m*\u001b[39;49m\u001b[38;5;241;43m*\u001b[39;49m\u001b[43mkwargs\u001b[49m\u001b[43m)\u001b[49m\n",
      "File \u001b[1;32mc:\\Users\\Johnk\\Documents\\PhD\\Quantum Computing Code\\Quantum-Computing\\.venv\\Lib\\site-packages\\scipy\\optimize\\_differentialevolution.py:501\u001b[0m, in \u001b[0;36mdifferential_evolution\u001b[1;34m(func, bounds, args, strategy, maxiter, popsize, tol, mutation, recombination, rng, callback, disp, polish, init, atol, updating, workers, constraints, x0, integrality, vectorized)\u001b[0m\n\u001b[0;32m    484\u001b[0m \u001b[38;5;66;03m# using a context manager means that any created Pool objects are\u001b[39;00m\n\u001b[0;32m    485\u001b[0m \u001b[38;5;66;03m# cleared up.\u001b[39;00m\n\u001b[0;32m    486\u001b[0m \u001b[38;5;28;01mwith\u001b[39;00m DifferentialEvolutionSolver(func, bounds, args\u001b[38;5;241m=\u001b[39margs,\n\u001b[0;32m    487\u001b[0m                                  strategy\u001b[38;5;241m=\u001b[39mstrategy,\n\u001b[0;32m    488\u001b[0m                                  maxiter\u001b[38;5;241m=\u001b[39mmaxiter,\n\u001b[1;32m   (...)\u001b[0m\n\u001b[0;32m    499\u001b[0m                                  integrality\u001b[38;5;241m=\u001b[39mintegrality,\n\u001b[0;32m    500\u001b[0m                                  vectorized\u001b[38;5;241m=\u001b[39mvectorized) \u001b[38;5;28;01mas\u001b[39;00m solver:\n\u001b[1;32m--> 501\u001b[0m     ret \u001b[38;5;241m=\u001b[39m \u001b[43msolver\u001b[49m\u001b[38;5;241;43m.\u001b[39;49m\u001b[43msolve\u001b[49m\u001b[43m(\u001b[49m\u001b[43m)\u001b[49m\n\u001b[0;32m    503\u001b[0m \u001b[38;5;28;01mreturn\u001b[39;00m ret\n",
      "File \u001b[1;32mc:\\Users\\Johnk\\Documents\\PhD\\Quantum Computing Code\\Quantum-Computing\\.venv\\Lib\\site-packages\\scipy\\optimize\\_differentialevolution.py:1185\u001b[0m, in \u001b[0;36mDifferentialEvolutionSolver.solve\u001b[1;34m(self)\u001b[0m\n\u001b[0;32m   1182\u001b[0m \u001b[38;5;28;01mfor\u001b[39;00m nit \u001b[38;5;129;01min\u001b[39;00m \u001b[38;5;28mrange\u001b[39m(\u001b[38;5;241m1\u001b[39m, \u001b[38;5;28mself\u001b[39m\u001b[38;5;241m.\u001b[39mmaxiter \u001b[38;5;241m+\u001b[39m \u001b[38;5;241m1\u001b[39m):\n\u001b[0;32m   1183\u001b[0m     \u001b[38;5;66;03m# evolve the population by a generation\u001b[39;00m\n\u001b[0;32m   1184\u001b[0m     \u001b[38;5;28;01mtry\u001b[39;00m:\n\u001b[1;32m-> 1185\u001b[0m         \u001b[38;5;28;43mnext\u001b[39;49m\u001b[43m(\u001b[49m\u001b[38;5;28;43mself\u001b[39;49m\u001b[43m)\u001b[49m\n\u001b[0;32m   1186\u001b[0m     \u001b[38;5;28;01mexcept\u001b[39;00m \u001b[38;5;167;01mStopIteration\u001b[39;00m:\n\u001b[0;32m   1187\u001b[0m         warning_flag \u001b[38;5;241m=\u001b[39m \u001b[38;5;28;01mTrue\u001b[39;00m\n",
      "File \u001b[1;32mc:\\Users\\Johnk\\Documents\\PhD\\Quantum Computing Code\\Quantum-Computing\\.venv\\Lib\\site-packages\\scipy\\optimize\\_differentialevolution.py:1600\u001b[0m, in \u001b[0;36mDifferentialEvolutionSolver.__next__\u001b[1;34m(self)\u001b[0m\n\u001b[0;32m   1598\u001b[0m     feasible \u001b[38;5;241m=\u001b[39m \u001b[38;5;28;01mTrue\u001b[39;00m\n\u001b[0;32m   1599\u001b[0m     cv \u001b[38;5;241m=\u001b[39m np\u001b[38;5;241m.\u001b[39matleast_2d([\u001b[38;5;241m0.\u001b[39m])\n\u001b[1;32m-> 1600\u001b[0m     energy \u001b[38;5;241m=\u001b[39m \u001b[38;5;28;43mself\u001b[39;49m\u001b[38;5;241;43m.\u001b[39;49m\u001b[43mfunc\u001b[49m\u001b[43m(\u001b[49m\u001b[43mparameters\u001b[49m\u001b[43m)\u001b[49m\n\u001b[0;32m   1601\u001b[0m     \u001b[38;5;28mself\u001b[39m\u001b[38;5;241m.\u001b[39m_nfev \u001b[38;5;241m+\u001b[39m\u001b[38;5;241m=\u001b[39m \u001b[38;5;241m1\u001b[39m\n\u001b[0;32m   1603\u001b[0m \u001b[38;5;66;03m# compare trial and population member\u001b[39;00m\n",
      "File \u001b[1;32mc:\\Users\\Johnk\\Documents\\PhD\\Quantum Computing Code\\Quantum-Computing\\.venv\\Lib\\site-packages\\scipy\\_lib\\_util.py:657\u001b[0m, in \u001b[0;36m_FunctionWrapper.__call__\u001b[1;34m(self, x)\u001b[0m\n\u001b[0;32m    656\u001b[0m \u001b[38;5;28;01mdef\u001b[39;00m\u001b[38;5;250m \u001b[39m\u001b[38;5;21m__call__\u001b[39m(\u001b[38;5;28mself\u001b[39m, x):\n\u001b[1;32m--> 657\u001b[0m     \u001b[38;5;28;01mreturn\u001b[39;00m \u001b[38;5;28;43mself\u001b[39;49m\u001b[38;5;241;43m.\u001b[39;49m\u001b[43mf\u001b[49m\u001b[43m(\u001b[49m\u001b[43mx\u001b[49m\u001b[43m,\u001b[49m\u001b[43m \u001b[49m\u001b[38;5;241;43m*\u001b[39;49m\u001b[38;5;28;43mself\u001b[39;49m\u001b[38;5;241;43m.\u001b[39;49m\u001b[43margs\u001b[49m\u001b[43m)\u001b[49m\n",
      "Cell \u001b[1;32mIn[54], line 4\u001b[0m, in \u001b[0;36mcost_function\u001b[1;34m(times, op_list)\u001b[0m\n\u001b[0;32m      1\u001b[0m \u001b[38;5;28;01mdef\u001b[39;00m\u001b[38;5;250m \u001b[39m\u001b[38;5;21mcost_function\u001b[39m(times, op_list):\n\u001b[0;32m      3\u001b[0m     times \u001b[38;5;241m=\u001b[39m pnp\u001b[38;5;241m.\u001b[39mtensor(times, requires_grad\u001b[38;5;241m=\u001b[39m\u001b[38;5;28;01mTrue\u001b[39;00m)\n\u001b[1;32m----> 4\u001b[0m     energy \u001b[38;5;241m=\u001b[39m \u001b[43mcircuit\u001b[49m\u001b[43m(\u001b[49m\u001b[43mtimes\u001b[49m\u001b[43m,\u001b[49m\u001b[43m \u001b[49m\u001b[43mop_list\u001b[49m\u001b[43m)\u001b[49m\n\u001b[0;32m      6\u001b[0m     \u001b[38;5;28;01mreturn\u001b[39;00m energy\n",
      "File \u001b[1;32mc:\\Users\\Johnk\\Documents\\PhD\\Quantum Computing Code\\Quantum-Computing\\.venv\\Lib\\site-packages\\pennylane\\workflow\\qnode.py:905\u001b[0m, in \u001b[0;36mQNode.__call__\u001b[1;34m(self, *args, **kwargs)\u001b[0m\n\u001b[0;32m    903\u001b[0m \u001b[38;5;28;01mif\u001b[39;00m qml\u001b[38;5;241m.\u001b[39mcapture\u001b[38;5;241m.\u001b[39menabled():\n\u001b[0;32m    904\u001b[0m     \u001b[38;5;28;01mreturn\u001b[39;00m capture_qnode(\u001b[38;5;28mself\u001b[39m, \u001b[38;5;241m*\u001b[39margs, \u001b[38;5;241m*\u001b[39m\u001b[38;5;241m*\u001b[39mkwargs)\n\u001b[1;32m--> 905\u001b[0m \u001b[38;5;28;01mreturn\u001b[39;00m \u001b[38;5;28;43mself\u001b[39;49m\u001b[38;5;241;43m.\u001b[39;49m\u001b[43m_impl_call\u001b[49m\u001b[43m(\u001b[49m\u001b[38;5;241;43m*\u001b[39;49m\u001b[43margs\u001b[49m\u001b[43m,\u001b[49m\u001b[43m \u001b[49m\u001b[38;5;241;43m*\u001b[39;49m\u001b[38;5;241;43m*\u001b[39;49m\u001b[43mkwargs\u001b[49m\u001b[43m)\u001b[49m\n",
      "File \u001b[1;32mc:\\Users\\Johnk\\Documents\\PhD\\Quantum Computing Code\\Quantum-Computing\\.venv\\Lib\\site-packages\\pennylane\\workflow\\qnode.py:881\u001b[0m, in \u001b[0;36mQNode._impl_call\u001b[1;34m(self, *args, **kwargs)\u001b[0m\n\u001b[0;32m    878\u001b[0m \u001b[38;5;66;03m# Calculate the classical jacobians if necessary\u001b[39;00m\n\u001b[0;32m    879\u001b[0m \u001b[38;5;28mself\u001b[39m\u001b[38;5;241m.\u001b[39m_transform_program\u001b[38;5;241m.\u001b[39mset_classical_component(\u001b[38;5;28mself\u001b[39m, args, kwargs)\n\u001b[1;32m--> 881\u001b[0m res \u001b[38;5;241m=\u001b[39m \u001b[43mqml\u001b[49m\u001b[38;5;241;43m.\u001b[39;49m\u001b[43mexecute\u001b[49m\u001b[43m(\u001b[49m\n\u001b[0;32m    882\u001b[0m \u001b[43m    \u001b[49m\u001b[43m(\u001b[49m\u001b[43mtape\u001b[49m\u001b[43m,\u001b[49m\u001b[43m)\u001b[49m\u001b[43m,\u001b[49m\n\u001b[0;32m    883\u001b[0m \u001b[43m    \u001b[49m\u001b[43mdevice\u001b[49m\u001b[38;5;241;43m=\u001b[39;49m\u001b[38;5;28;43mself\u001b[39;49m\u001b[38;5;241;43m.\u001b[39;49m\u001b[43mdevice\u001b[49m\u001b[43m,\u001b[49m\n\u001b[0;32m    884\u001b[0m \u001b[43m    \u001b[49m\u001b[43mdiff_method\u001b[49m\u001b[38;5;241;43m=\u001b[39;49m\u001b[38;5;28;43mself\u001b[39;49m\u001b[38;5;241;43m.\u001b[39;49m\u001b[43mdiff_method\u001b[49m\u001b[43m,\u001b[49m\n\u001b[0;32m    885\u001b[0m \u001b[43m    \u001b[49m\u001b[43minterface\u001b[49m\u001b[38;5;241;43m=\u001b[39;49m\u001b[43minterface\u001b[49m\u001b[43m,\u001b[49m\n\u001b[0;32m    886\u001b[0m \u001b[43m    \u001b[49m\u001b[43mtransform_program\u001b[49m\u001b[38;5;241;43m=\u001b[39;49m\u001b[38;5;28;43mself\u001b[39;49m\u001b[38;5;241;43m.\u001b[39;49m\u001b[43m_transform_program\u001b[49m\u001b[43m,\u001b[49m\n\u001b[0;32m    887\u001b[0m \u001b[43m    \u001b[49m\u001b[43mgradient_kwargs\u001b[49m\u001b[38;5;241;43m=\u001b[39;49m\u001b[38;5;28;43mself\u001b[39;49m\u001b[38;5;241;43m.\u001b[39;49m\u001b[43mgradient_kwargs\u001b[49m\u001b[43m,\u001b[49m\n\u001b[0;32m    888\u001b[0m \u001b[43m    \u001b[49m\u001b[38;5;241;43m*\u001b[39;49m\u001b[38;5;241;43m*\u001b[39;49m\u001b[38;5;28;43mself\u001b[39;49m\u001b[38;5;241;43m.\u001b[39;49m\u001b[43mexecute_kwargs\u001b[49m\u001b[43m,\u001b[49m\n\u001b[0;32m    889\u001b[0m \u001b[43m\u001b[49m\u001b[43m)\u001b[49m\n\u001b[0;32m    890\u001b[0m res \u001b[38;5;241m=\u001b[39m res[\u001b[38;5;241m0\u001b[39m]\n\u001b[0;32m    892\u001b[0m \u001b[38;5;66;03m# convert result to the interface in case the qfunc has no parameters\u001b[39;00m\n",
      "File \u001b[1;32mc:\\Users\\Johnk\\Documents\\PhD\\Quantum Computing Code\\Quantum-Computing\\.venv\\Lib\\site-packages\\pennylane\\workflow\\execution.py:232\u001b[0m, in \u001b[0;36mexecute\u001b[1;34m(tapes, device, diff_method, interface, transform_program, inner_transform, config, grad_on_execution, gradient_kwargs, cache, cachesize, max_diff, device_vjp, mcm_config, gradient_fn)\u001b[0m\n\u001b[0;32m    229\u001b[0m \u001b[38;5;28;01mif\u001b[39;00m transform_program\u001b[38;5;241m.\u001b[39mis_informative:\n\u001b[0;32m    230\u001b[0m     \u001b[38;5;28;01mreturn\u001b[39;00m post_processing(tapes)\n\u001b[1;32m--> 232\u001b[0m results \u001b[38;5;241m=\u001b[39m \u001b[43mrun\u001b[49m\u001b[43m(\u001b[49m\u001b[43mtapes\u001b[49m\u001b[43m,\u001b[49m\u001b[43m \u001b[49m\u001b[43mdevice\u001b[49m\u001b[43m,\u001b[49m\u001b[43m \u001b[49m\u001b[43mconfig\u001b[49m\u001b[43m,\u001b[49m\u001b[43m \u001b[49m\u001b[43minner_transform\u001b[49m\u001b[43m)\u001b[49m\n\u001b[0;32m    233\u001b[0m \u001b[38;5;28;01mreturn\u001b[39;00m post_processing(results)\n",
      "File \u001b[1;32mc:\\Users\\Johnk\\Documents\\PhD\\Quantum Computing Code\\Quantum-Computing\\.venv\\Lib\\site-packages\\pennylane\\workflow\\run.py:333\u001b[0m, in \u001b[0;36mrun\u001b[1;34m(tapes, device, config, inner_transform_program)\u001b[0m\n\u001b[0;32m    330\u001b[0m         params \u001b[38;5;241m=\u001b[39m tape\u001b[38;5;241m.\u001b[39mget_parameters(trainable_only\u001b[38;5;241m=\u001b[39m\u001b[38;5;28;01mFalse\u001b[39;00m)\n\u001b[0;32m    331\u001b[0m         tape\u001b[38;5;241m.\u001b[39mtrainable_params \u001b[38;5;241m=\u001b[39m qml\u001b[38;5;241m.\u001b[39mmath\u001b[38;5;241m.\u001b[39mget_trainable_indices(params)\n\u001b[1;32m--> 333\u001b[0m results \u001b[38;5;241m=\u001b[39m \u001b[43mml_execute\u001b[49m\u001b[43m(\u001b[49m\u001b[43mtapes\u001b[49m\u001b[43m,\u001b[49m\u001b[43m \u001b[49m\u001b[43mexecute_fn\u001b[49m\u001b[43m,\u001b[49m\u001b[43m \u001b[49m\u001b[43mjpc\u001b[49m\u001b[43m,\u001b[49m\u001b[43m \u001b[49m\u001b[43mdevice\u001b[49m\u001b[38;5;241;43m=\u001b[39;49m\u001b[43mdevice\u001b[49m\u001b[43m)\u001b[49m\n\u001b[0;32m    334\u001b[0m \u001b[38;5;28;01mreturn\u001b[39;00m results\n",
      "File \u001b[1;32mc:\\Users\\Johnk\\Documents\\PhD\\Quantum Computing Code\\Quantum-Computing\\.venv\\Lib\\site-packages\\pennylane\\workflow\\interfaces\\autograd.py:147\u001b[0m, in \u001b[0;36mautograd_execute\u001b[1;34m(tapes, execute_fn, jpc, device)\u001b[0m\n\u001b[0;32m    142\u001b[0m \u001b[38;5;66;03m# pylint misidentifies autograd.builtins as a dict\u001b[39;00m\n\u001b[0;32m    143\u001b[0m \u001b[38;5;66;03m# pylint: disable=no-member\u001b[39;00m\n\u001b[0;32m    144\u001b[0m parameters \u001b[38;5;241m=\u001b[39m autograd\u001b[38;5;241m.\u001b[39mbuiltins\u001b[38;5;241m.\u001b[39mtuple(\n\u001b[0;32m    145\u001b[0m     [autograd\u001b[38;5;241m.\u001b[39mbuiltins\u001b[38;5;241m.\u001b[39mlist(t\u001b[38;5;241m.\u001b[39mget_parameters()) \u001b[38;5;28;01mfor\u001b[39;00m t \u001b[38;5;129;01min\u001b[39;00m tapes]\n\u001b[0;32m    146\u001b[0m )\n\u001b[1;32m--> 147\u001b[0m \u001b[38;5;28;01mreturn\u001b[39;00m \u001b[43m_execute\u001b[49m\u001b[43m(\u001b[49m\u001b[43mparameters\u001b[49m\u001b[43m,\u001b[49m\u001b[43m \u001b[49m\u001b[38;5;28;43mtuple\u001b[39;49m\u001b[43m(\u001b[49m\u001b[43mtapes\u001b[49m\u001b[43m)\u001b[49m\u001b[43m,\u001b[49m\u001b[43m \u001b[49m\u001b[43mexecute_fn\u001b[49m\u001b[43m,\u001b[49m\u001b[43m \u001b[49m\u001b[43mjpc\u001b[49m\u001b[43m)\u001b[49m\n",
      "File \u001b[1;32mc:\\Users\\Johnk\\Documents\\PhD\\Quantum Computing Code\\Quantum-Computing\\.venv\\Lib\\site-packages\\autograd\\tracer.py:48\u001b[0m, in \u001b[0;36mprimitive.<locals>.f_wrapped\u001b[1;34m(*args, **kwargs)\u001b[0m\n\u001b[0;32m     46\u001b[0m     \u001b[38;5;28;01mreturn\u001b[39;00m new_box(ans, trace, node)\n\u001b[0;32m     47\u001b[0m \u001b[38;5;28;01melse\u001b[39;00m:\n\u001b[1;32m---> 48\u001b[0m     \u001b[38;5;28;01mreturn\u001b[39;00m \u001b[43mf_raw\u001b[49m\u001b[43m(\u001b[49m\u001b[38;5;241;43m*\u001b[39;49m\u001b[43margs\u001b[49m\u001b[43m,\u001b[49m\u001b[43m \u001b[49m\u001b[38;5;241;43m*\u001b[39;49m\u001b[38;5;241;43m*\u001b[39;49m\u001b[43mkwargs\u001b[49m\u001b[43m)\u001b[49m\n",
      "File \u001b[1;32mc:\\Users\\Johnk\\Documents\\PhD\\Quantum Computing Code\\Quantum-Computing\\.venv\\Lib\\site-packages\\pennylane\\workflow\\interfaces\\autograd.py:183\u001b[0m, in \u001b[0;36m_execute\u001b[1;34m(parameters, tapes, execute_fn, jpc)\u001b[0m\n\u001b[0;32m    165\u001b[0m \u001b[38;5;129m@autograd\u001b[39m\u001b[38;5;241m.\u001b[39mextend\u001b[38;5;241m.\u001b[39mprimitive\n\u001b[0;32m    166\u001b[0m \u001b[38;5;28;01mdef\u001b[39;00m\u001b[38;5;250m \u001b[39m\u001b[38;5;21m_execute\u001b[39m(\n\u001b[0;32m    167\u001b[0m     parameters,\n\u001b[1;32m   (...)\u001b[0m\n\u001b[0;32m    170\u001b[0m     jpc,\n\u001b[0;32m    171\u001b[0m ):  \u001b[38;5;66;03m# pylint: disable=unused-argument\u001b[39;00m\n\u001b[0;32m    172\u001b[0m \u001b[38;5;250m    \u001b[39m\u001b[38;5;124;03m\"\"\"Autodifferentiable wrapper around a way of executing tapes.\u001b[39;00m\n\u001b[0;32m    173\u001b[0m \n\u001b[0;32m    174\u001b[0m \u001b[38;5;124;03m    Args:\u001b[39;00m\n\u001b[1;32m   (...)\u001b[0m\n\u001b[0;32m    181\u001b[0m \n\u001b[0;32m    182\u001b[0m \u001b[38;5;124;03m    \"\"\"\u001b[39;00m\n\u001b[1;32m--> 183\u001b[0m     \u001b[38;5;28;01mreturn\u001b[39;00m _to_autograd(\u001b[43mexecute_fn\u001b[49m\u001b[43m(\u001b[49m\u001b[43mtapes\u001b[49m\u001b[43m)\u001b[49m)\n",
      "File \u001b[1;32mc:\\Users\\Johnk\\Documents\\PhD\\Quantum Computing Code\\Quantum-Computing\\.venv\\Lib\\site-packages\\pennylane\\workflow\\run.py:247\u001b[0m, in \u001b[0;36m_make_inner_execute.<locals>.inner_execute\u001b[1;34m(tapes)\u001b[0m\n\u001b[0;32m    244\u001b[0m transformed_tapes, transform_post_processing \u001b[38;5;241m=\u001b[39m inner_transform(tapes)\n\u001b[0;32m    246\u001b[0m \u001b[38;5;28;01mif\u001b[39;00m transformed_tapes:\n\u001b[1;32m--> 247\u001b[0m     results \u001b[38;5;241m=\u001b[39m \u001b[43mdevice\u001b[49m\u001b[38;5;241;43m.\u001b[39;49m\u001b[43mexecute\u001b[49m\u001b[43m(\u001b[49m\u001b[43mtransformed_tapes\u001b[49m\u001b[43m,\u001b[49m\u001b[43m \u001b[49m\u001b[43mexecution_config\u001b[49m\u001b[38;5;241;43m=\u001b[39;49m\u001b[43mexecution_config\u001b[49m\u001b[43m)\u001b[49m\n\u001b[0;32m    248\u001b[0m \u001b[38;5;28;01melse\u001b[39;00m:\n\u001b[0;32m    249\u001b[0m     results \u001b[38;5;241m=\u001b[39m ()\n",
      "File \u001b[1;32mc:\\Users\\Johnk\\Documents\\PhD\\Quantum Computing Code\\Quantum-Computing\\.venv\\Lib\\site-packages\\pennylane\\devices\\modifiers\\simulator_tracking.py:30\u001b[0m, in \u001b[0;36m_track_execute.<locals>.execute\u001b[1;34m(self, circuits, execution_config)\u001b[0m\n\u001b[0;32m     28\u001b[0m \u001b[38;5;129m@wraps\u001b[39m(untracked_execute)\n\u001b[0;32m     29\u001b[0m \u001b[38;5;28;01mdef\u001b[39;00m\u001b[38;5;250m \u001b[39m\u001b[38;5;21mexecute\u001b[39m(\u001b[38;5;28mself\u001b[39m, circuits, execution_config\u001b[38;5;241m=\u001b[39mDefaultExecutionConfig):\n\u001b[1;32m---> 30\u001b[0m     results \u001b[38;5;241m=\u001b[39m \u001b[43muntracked_execute\u001b[49m\u001b[43m(\u001b[49m\u001b[38;5;28;43mself\u001b[39;49m\u001b[43m,\u001b[49m\u001b[43m \u001b[49m\u001b[43mcircuits\u001b[49m\u001b[43m,\u001b[49m\u001b[43m \u001b[49m\u001b[43mexecution_config\u001b[49m\u001b[43m)\u001b[49m\n\u001b[0;32m     31\u001b[0m     \u001b[38;5;28;01mif\u001b[39;00m \u001b[38;5;28misinstance\u001b[39m(circuits, QuantumScript):\n\u001b[0;32m     32\u001b[0m         batch \u001b[38;5;241m=\u001b[39m (circuits,)\n",
      "File \u001b[1;32mc:\\Users\\Johnk\\Documents\\PhD\\Quantum Computing Code\\Quantum-Computing\\.venv\\Lib\\site-packages\\pennylane\\devices\\modifiers\\single_tape_support.py:32\u001b[0m, in \u001b[0;36m_make_execute.<locals>.execute\u001b[1;34m(self, circuits, execution_config)\u001b[0m\n\u001b[0;32m     30\u001b[0m     is_single_circuit \u001b[38;5;241m=\u001b[39m \u001b[38;5;28;01mTrue\u001b[39;00m\n\u001b[0;32m     31\u001b[0m     circuits \u001b[38;5;241m=\u001b[39m (circuits,)\n\u001b[1;32m---> 32\u001b[0m results \u001b[38;5;241m=\u001b[39m \u001b[43mbatch_execute\u001b[49m\u001b[43m(\u001b[49m\u001b[38;5;28;43mself\u001b[39;49m\u001b[43m,\u001b[49m\u001b[43m \u001b[49m\u001b[43mcircuits\u001b[49m\u001b[43m,\u001b[49m\u001b[43m \u001b[49m\u001b[43mexecution_config\u001b[49m\u001b[43m)\u001b[49m\n\u001b[0;32m     33\u001b[0m \u001b[38;5;28;01mreturn\u001b[39;00m results[\u001b[38;5;241m0\u001b[39m] \u001b[38;5;28;01mif\u001b[39;00m is_single_circuit \u001b[38;5;28;01melse\u001b[39;00m results\n",
      "File \u001b[1;32mc:\\Users\\Johnk\\Documents\\PhD\\Quantum Computing Code\\Quantum-Computing\\.venv\\Lib\\site-packages\\pennylane\\logging\\decorators.py:61\u001b[0m, in \u001b[0;36mlog_string_debug_func.<locals>.wrapper_entry\u001b[1;34m(*args, **kwargs)\u001b[0m\n\u001b[0;32m     54\u001b[0m     s_caller \u001b[38;5;241m=\u001b[39m \u001b[38;5;124m\"\u001b[39m\u001b[38;5;124m::L\u001b[39m\u001b[38;5;124m\"\u001b[39m\u001b[38;5;241m.\u001b[39mjoin(\n\u001b[0;32m     55\u001b[0m         [\u001b[38;5;28mstr\u001b[39m(i) \u001b[38;5;28;01mfor\u001b[39;00m i \u001b[38;5;129;01min\u001b[39;00m inspect\u001b[38;5;241m.\u001b[39mgetouterframes(inspect\u001b[38;5;241m.\u001b[39mcurrentframe(), \u001b[38;5;241m2\u001b[39m)[\u001b[38;5;241m1\u001b[39m][\u001b[38;5;241m1\u001b[39m:\u001b[38;5;241m3\u001b[39m]]\n\u001b[0;32m     56\u001b[0m     )\n\u001b[0;32m     57\u001b[0m     lgr\u001b[38;5;241m.\u001b[39mdebug(\n\u001b[0;32m     58\u001b[0m         \u001b[38;5;124mf\u001b[39m\u001b[38;5;124m\"\u001b[39m\u001b[38;5;124mCalling \u001b[39m\u001b[38;5;132;01m{\u001b[39;00mf_string\u001b[38;5;132;01m}\u001b[39;00m\u001b[38;5;124m from \u001b[39m\u001b[38;5;132;01m{\u001b[39;00ms_caller\u001b[38;5;132;01m}\u001b[39;00m\u001b[38;5;124m\"\u001b[39m,\n\u001b[0;32m     59\u001b[0m         \u001b[38;5;241m*\u001b[39m\u001b[38;5;241m*\u001b[39m_debug_log_kwargs,\n\u001b[0;32m     60\u001b[0m     )\n\u001b[1;32m---> 61\u001b[0m \u001b[38;5;28;01mreturn\u001b[39;00m \u001b[43mfunc\u001b[49m\u001b[43m(\u001b[49m\u001b[38;5;241;43m*\u001b[39;49m\u001b[43margs\u001b[49m\u001b[43m,\u001b[49m\u001b[43m \u001b[49m\u001b[38;5;241;43m*\u001b[39;49m\u001b[38;5;241;43m*\u001b[39;49m\u001b[43mkwargs\u001b[49m\u001b[43m)\u001b[49m\n",
      "File \u001b[1;32mc:\\Users\\Johnk\\Documents\\PhD\\Quantum Computing Code\\Quantum-Computing\\.venv\\Lib\\site-packages\\pennylane\\devices\\default_qubit.py:630\u001b[0m, in \u001b[0;36mDefaultQubit.execute\u001b[1;34m(self, circuits, execution_config)\u001b[0m\n\u001b[0;32m    627\u001b[0m prng_keys \u001b[38;5;241m=\u001b[39m [\u001b[38;5;28mself\u001b[39m\u001b[38;5;241m.\u001b[39mget_prng_keys()[\u001b[38;5;241m0\u001b[39m] \u001b[38;5;28;01mfor\u001b[39;00m _ \u001b[38;5;129;01min\u001b[39;00m \u001b[38;5;28mrange\u001b[39m(\u001b[38;5;28mlen\u001b[39m(circuits))]\n\u001b[0;32m    629\u001b[0m \u001b[38;5;28;01mif\u001b[39;00m max_workers \u001b[38;5;129;01mis\u001b[39;00m \u001b[38;5;28;01mNone\u001b[39;00m:\n\u001b[1;32m--> 630\u001b[0m     \u001b[38;5;28;01mreturn\u001b[39;00m \u001b[38;5;28;43mtuple\u001b[39;49m\u001b[43m(\u001b[49m\n\u001b[0;32m    631\u001b[0m \u001b[43m        \u001b[49m\u001b[43m_simulate_wrapper\u001b[49m\u001b[43m(\u001b[49m\n\u001b[0;32m    632\u001b[0m \u001b[43m            \u001b[49m\u001b[43mc\u001b[49m\u001b[43m,\u001b[49m\n\u001b[0;32m    633\u001b[0m \u001b[43m            \u001b[49m\u001b[43m{\u001b[49m\n\u001b[0;32m    634\u001b[0m \u001b[43m                \u001b[49m\u001b[38;5;124;43m\"\u001b[39;49m\u001b[38;5;124;43mrng\u001b[39;49m\u001b[38;5;124;43m\"\u001b[39;49m\u001b[43m:\u001b[49m\u001b[43m \u001b[49m\u001b[38;5;28;43mself\u001b[39;49m\u001b[38;5;241;43m.\u001b[39;49m\u001b[43m_rng\u001b[49m\u001b[43m,\u001b[49m\n\u001b[0;32m    635\u001b[0m \u001b[43m                \u001b[49m\u001b[38;5;124;43m\"\u001b[39;49m\u001b[38;5;124;43mdebugger\u001b[39;49m\u001b[38;5;124;43m\"\u001b[39;49m\u001b[43m:\u001b[49m\u001b[43m \u001b[49m\u001b[38;5;28;43mself\u001b[39;49m\u001b[38;5;241;43m.\u001b[39;49m\u001b[43m_debugger\u001b[49m\u001b[43m,\u001b[49m\n\u001b[0;32m    636\u001b[0m \u001b[43m                \u001b[49m\u001b[38;5;124;43m\"\u001b[39;49m\u001b[38;5;124;43minterface\u001b[39;49m\u001b[38;5;124;43m\"\u001b[39;49m\u001b[43m:\u001b[49m\u001b[43m \u001b[49m\u001b[43minterface\u001b[49m\u001b[43m,\u001b[49m\n\u001b[0;32m    637\u001b[0m \u001b[43m                \u001b[49m\u001b[38;5;124;43m\"\u001b[39;49m\u001b[38;5;124;43mstate_cache\u001b[39;49m\u001b[38;5;124;43m\"\u001b[39;49m\u001b[43m:\u001b[49m\u001b[43m \u001b[49m\u001b[38;5;28;43mself\u001b[39;49m\u001b[38;5;241;43m.\u001b[39;49m\u001b[43m_state_cache\u001b[49m\u001b[43m,\u001b[49m\n\u001b[0;32m    638\u001b[0m \u001b[43m                \u001b[49m\u001b[38;5;124;43m\"\u001b[39;49m\u001b[38;5;124;43mprng_key\u001b[39;49m\u001b[38;5;124;43m\"\u001b[39;49m\u001b[43m:\u001b[49m\u001b[43m \u001b[49m\u001b[43m_key\u001b[49m\u001b[43m,\u001b[49m\n\u001b[0;32m    639\u001b[0m \u001b[43m                \u001b[49m\u001b[38;5;124;43m\"\u001b[39;49m\u001b[38;5;124;43mmcm_method\u001b[39;49m\u001b[38;5;124;43m\"\u001b[39;49m\u001b[43m:\u001b[49m\u001b[43m \u001b[49m\u001b[43mexecution_config\u001b[49m\u001b[38;5;241;43m.\u001b[39;49m\u001b[43mmcm_config\u001b[49m\u001b[38;5;241;43m.\u001b[39;49m\u001b[43mmcm_method\u001b[49m\u001b[43m,\u001b[49m\n\u001b[0;32m    640\u001b[0m \u001b[43m                \u001b[49m\u001b[38;5;124;43m\"\u001b[39;49m\u001b[38;5;124;43mpostselect_mode\u001b[39;49m\u001b[38;5;124;43m\"\u001b[39;49m\u001b[43m:\u001b[49m\u001b[43m \u001b[49m\u001b[43mexecution_config\u001b[49m\u001b[38;5;241;43m.\u001b[39;49m\u001b[43mmcm_config\u001b[49m\u001b[38;5;241;43m.\u001b[39;49m\u001b[43mpostselect_mode\u001b[49m\u001b[43m,\u001b[49m\n\u001b[0;32m    641\u001b[0m \u001b[43m            \u001b[49m\u001b[43m}\u001b[49m\u001b[43m,\u001b[49m\n\u001b[0;32m    642\u001b[0m \u001b[43m        \u001b[49m\u001b[43m)\u001b[49m\n\u001b[0;32m    643\u001b[0m \u001b[43m        \u001b[49m\u001b[38;5;28;43;01mfor\u001b[39;49;00m\u001b[43m \u001b[49m\u001b[43mc\u001b[49m\u001b[43m,\u001b[49m\u001b[43m \u001b[49m\u001b[43m_key\u001b[49m\u001b[43m \u001b[49m\u001b[38;5;129;43;01min\u001b[39;49;00m\u001b[43m \u001b[49m\u001b[38;5;28;43mzip\u001b[39;49m\u001b[43m(\u001b[49m\u001b[43mcircuits\u001b[49m\u001b[43m,\u001b[49m\u001b[43m \u001b[49m\u001b[43mprng_keys\u001b[49m\u001b[43m)\u001b[49m\n\u001b[0;32m    644\u001b[0m \u001b[43m    \u001b[49m\u001b[43m)\u001b[49m\n\u001b[0;32m    646\u001b[0m vanilla_circuits \u001b[38;5;241m=\u001b[39m convert_to_numpy_parameters(circuits)[\u001b[38;5;241m0\u001b[39m]\n\u001b[0;32m    647\u001b[0m seeds \u001b[38;5;241m=\u001b[39m \u001b[38;5;28mself\u001b[39m\u001b[38;5;241m.\u001b[39m_rng\u001b[38;5;241m.\u001b[39mintegers(\u001b[38;5;241m2\u001b[39m\u001b[38;5;241m*\u001b[39m\u001b[38;5;241m*\u001b[39m\u001b[38;5;241m31\u001b[39m \u001b[38;5;241m-\u001b[39m \u001b[38;5;241m1\u001b[39m, size\u001b[38;5;241m=\u001b[39m\u001b[38;5;28mlen\u001b[39m(vanilla_circuits))\n",
      "File \u001b[1;32mc:\\Users\\Johnk\\Documents\\PhD\\Quantum Computing Code\\Quantum-Computing\\.venv\\Lib\\site-packages\\pennylane\\devices\\default_qubit.py:631\u001b[0m, in \u001b[0;36m<genexpr>\u001b[1;34m(.0)\u001b[0m\n\u001b[0;32m    627\u001b[0m prng_keys \u001b[38;5;241m=\u001b[39m [\u001b[38;5;28mself\u001b[39m\u001b[38;5;241m.\u001b[39mget_prng_keys()[\u001b[38;5;241m0\u001b[39m] \u001b[38;5;28;01mfor\u001b[39;00m _ \u001b[38;5;129;01min\u001b[39;00m \u001b[38;5;28mrange\u001b[39m(\u001b[38;5;28mlen\u001b[39m(circuits))]\n\u001b[0;32m    629\u001b[0m \u001b[38;5;28;01mif\u001b[39;00m max_workers \u001b[38;5;129;01mis\u001b[39;00m \u001b[38;5;28;01mNone\u001b[39;00m:\n\u001b[0;32m    630\u001b[0m     \u001b[38;5;28;01mreturn\u001b[39;00m \u001b[38;5;28mtuple\u001b[39m(\n\u001b[1;32m--> 631\u001b[0m         \u001b[43m_simulate_wrapper\u001b[49m\u001b[43m(\u001b[49m\n\u001b[0;32m    632\u001b[0m \u001b[43m            \u001b[49m\u001b[43mc\u001b[49m\u001b[43m,\u001b[49m\n\u001b[0;32m    633\u001b[0m \u001b[43m            \u001b[49m\u001b[43m{\u001b[49m\n\u001b[0;32m    634\u001b[0m \u001b[43m                \u001b[49m\u001b[38;5;124;43m\"\u001b[39;49m\u001b[38;5;124;43mrng\u001b[39;49m\u001b[38;5;124;43m\"\u001b[39;49m\u001b[43m:\u001b[49m\u001b[43m \u001b[49m\u001b[38;5;28;43mself\u001b[39;49m\u001b[38;5;241;43m.\u001b[39;49m\u001b[43m_rng\u001b[49m\u001b[43m,\u001b[49m\n\u001b[0;32m    635\u001b[0m \u001b[43m                \u001b[49m\u001b[38;5;124;43m\"\u001b[39;49m\u001b[38;5;124;43mdebugger\u001b[39;49m\u001b[38;5;124;43m\"\u001b[39;49m\u001b[43m:\u001b[49m\u001b[43m \u001b[49m\u001b[38;5;28;43mself\u001b[39;49m\u001b[38;5;241;43m.\u001b[39;49m\u001b[43m_debugger\u001b[49m\u001b[43m,\u001b[49m\n\u001b[0;32m    636\u001b[0m \u001b[43m                \u001b[49m\u001b[38;5;124;43m\"\u001b[39;49m\u001b[38;5;124;43minterface\u001b[39;49m\u001b[38;5;124;43m\"\u001b[39;49m\u001b[43m:\u001b[49m\u001b[43m \u001b[49m\u001b[43minterface\u001b[49m\u001b[43m,\u001b[49m\n\u001b[0;32m    637\u001b[0m \u001b[43m                \u001b[49m\u001b[38;5;124;43m\"\u001b[39;49m\u001b[38;5;124;43mstate_cache\u001b[39;49m\u001b[38;5;124;43m\"\u001b[39;49m\u001b[43m:\u001b[49m\u001b[43m \u001b[49m\u001b[38;5;28;43mself\u001b[39;49m\u001b[38;5;241;43m.\u001b[39;49m\u001b[43m_state_cache\u001b[49m\u001b[43m,\u001b[49m\n\u001b[0;32m    638\u001b[0m \u001b[43m                \u001b[49m\u001b[38;5;124;43m\"\u001b[39;49m\u001b[38;5;124;43mprng_key\u001b[39;49m\u001b[38;5;124;43m\"\u001b[39;49m\u001b[43m:\u001b[49m\u001b[43m \u001b[49m\u001b[43m_key\u001b[49m\u001b[43m,\u001b[49m\n\u001b[0;32m    639\u001b[0m \u001b[43m                \u001b[49m\u001b[38;5;124;43m\"\u001b[39;49m\u001b[38;5;124;43mmcm_method\u001b[39;49m\u001b[38;5;124;43m\"\u001b[39;49m\u001b[43m:\u001b[49m\u001b[43m \u001b[49m\u001b[43mexecution_config\u001b[49m\u001b[38;5;241;43m.\u001b[39;49m\u001b[43mmcm_config\u001b[49m\u001b[38;5;241;43m.\u001b[39;49m\u001b[43mmcm_method\u001b[49m\u001b[43m,\u001b[49m\n\u001b[0;32m    640\u001b[0m \u001b[43m                \u001b[49m\u001b[38;5;124;43m\"\u001b[39;49m\u001b[38;5;124;43mpostselect_mode\u001b[39;49m\u001b[38;5;124;43m\"\u001b[39;49m\u001b[43m:\u001b[49m\u001b[43m \u001b[49m\u001b[43mexecution_config\u001b[49m\u001b[38;5;241;43m.\u001b[39;49m\u001b[43mmcm_config\u001b[49m\u001b[38;5;241;43m.\u001b[39;49m\u001b[43mpostselect_mode\u001b[49m\u001b[43m,\u001b[49m\n\u001b[0;32m    641\u001b[0m \u001b[43m            \u001b[49m\u001b[43m}\u001b[49m\u001b[43m,\u001b[49m\n\u001b[0;32m    642\u001b[0m \u001b[43m        \u001b[49m\u001b[43m)\u001b[49m\n\u001b[0;32m    643\u001b[0m         \u001b[38;5;28;01mfor\u001b[39;00m c, _key \u001b[38;5;129;01min\u001b[39;00m \u001b[38;5;28mzip\u001b[39m(circuits, prng_keys)\n\u001b[0;32m    644\u001b[0m     )\n\u001b[0;32m    646\u001b[0m vanilla_circuits \u001b[38;5;241m=\u001b[39m convert_to_numpy_parameters(circuits)[\u001b[38;5;241m0\u001b[39m]\n\u001b[0;32m    647\u001b[0m seeds \u001b[38;5;241m=\u001b[39m \u001b[38;5;28mself\u001b[39m\u001b[38;5;241m.\u001b[39m_rng\u001b[38;5;241m.\u001b[39mintegers(\u001b[38;5;241m2\u001b[39m\u001b[38;5;241m*\u001b[39m\u001b[38;5;241m*\u001b[39m\u001b[38;5;241m31\u001b[39m \u001b[38;5;241m-\u001b[39m \u001b[38;5;241m1\u001b[39m, size\u001b[38;5;241m=\u001b[39m\u001b[38;5;28mlen\u001b[39m(vanilla_circuits))\n",
      "File \u001b[1;32mc:\\Users\\Johnk\\Documents\\PhD\\Quantum Computing Code\\Quantum-Computing\\.venv\\Lib\\site-packages\\pennylane\\devices\\default_qubit.py:918\u001b[0m, in \u001b[0;36m_simulate_wrapper\u001b[1;34m(circuit, kwargs)\u001b[0m\n\u001b[0;32m    917\u001b[0m \u001b[38;5;28;01mdef\u001b[39;00m\u001b[38;5;250m \u001b[39m\u001b[38;5;21m_simulate_wrapper\u001b[39m(circuit, kwargs):\n\u001b[1;32m--> 918\u001b[0m     \u001b[38;5;28;01mreturn\u001b[39;00m \u001b[43msimulate\u001b[49m\u001b[43m(\u001b[49m\u001b[43mcircuit\u001b[49m\u001b[43m,\u001b[49m\u001b[43m \u001b[49m\u001b[38;5;241;43m*\u001b[39;49m\u001b[38;5;241;43m*\u001b[39;49m\u001b[43mkwargs\u001b[49m\u001b[43m)\u001b[49m\n",
      "File \u001b[1;32mc:\\Users\\Johnk\\Documents\\PhD\\Quantum Computing Code\\Quantum-Computing\\.venv\\Lib\\site-packages\\pennylane\\logging\\decorators.py:61\u001b[0m, in \u001b[0;36mlog_string_debug_func.<locals>.wrapper_entry\u001b[1;34m(*args, **kwargs)\u001b[0m\n\u001b[0;32m     54\u001b[0m     s_caller \u001b[38;5;241m=\u001b[39m \u001b[38;5;124m\"\u001b[39m\u001b[38;5;124m::L\u001b[39m\u001b[38;5;124m\"\u001b[39m\u001b[38;5;241m.\u001b[39mjoin(\n\u001b[0;32m     55\u001b[0m         [\u001b[38;5;28mstr\u001b[39m(i) \u001b[38;5;28;01mfor\u001b[39;00m i \u001b[38;5;129;01min\u001b[39;00m inspect\u001b[38;5;241m.\u001b[39mgetouterframes(inspect\u001b[38;5;241m.\u001b[39mcurrentframe(), \u001b[38;5;241m2\u001b[39m)[\u001b[38;5;241m1\u001b[39m][\u001b[38;5;241m1\u001b[39m:\u001b[38;5;241m3\u001b[39m]]\n\u001b[0;32m     56\u001b[0m     )\n\u001b[0;32m     57\u001b[0m     lgr\u001b[38;5;241m.\u001b[39mdebug(\n\u001b[0;32m     58\u001b[0m         \u001b[38;5;124mf\u001b[39m\u001b[38;5;124m\"\u001b[39m\u001b[38;5;124mCalling \u001b[39m\u001b[38;5;132;01m{\u001b[39;00mf_string\u001b[38;5;132;01m}\u001b[39;00m\u001b[38;5;124m from \u001b[39m\u001b[38;5;132;01m{\u001b[39;00ms_caller\u001b[38;5;132;01m}\u001b[39;00m\u001b[38;5;124m\"\u001b[39m,\n\u001b[0;32m     59\u001b[0m         \u001b[38;5;241m*\u001b[39m\u001b[38;5;241m*\u001b[39m_debug_log_kwargs,\n\u001b[0;32m     60\u001b[0m     )\n\u001b[1;32m---> 61\u001b[0m \u001b[38;5;28;01mreturn\u001b[39;00m \u001b[43mfunc\u001b[49m\u001b[43m(\u001b[49m\u001b[38;5;241;43m*\u001b[39;49m\u001b[43margs\u001b[49m\u001b[43m,\u001b[49m\u001b[43m \u001b[49m\u001b[38;5;241;43m*\u001b[39;49m\u001b[38;5;241;43m*\u001b[39;49m\u001b[43mkwargs\u001b[49m\u001b[43m)\u001b[49m\n",
      "File \u001b[1;32mc:\\Users\\Johnk\\Documents\\PhD\\Quantum Computing Code\\Quantum-Computing\\.venv\\Lib\\site-packages\\pennylane\\devices\\qubit\\simulate.py:362\u001b[0m, in \u001b[0;36msimulate\u001b[1;34m(circuit, debugger, state_cache, **execution_kwargs)\u001b[0m\n\u001b[0;32m    360\u001b[0m \u001b[38;5;28;01mif\u001b[39;00m state_cache \u001b[38;5;129;01mis\u001b[39;00m \u001b[38;5;129;01mnot\u001b[39;00m \u001b[38;5;28;01mNone\u001b[39;00m:\n\u001b[0;32m    361\u001b[0m     state_cache[circuit\u001b[38;5;241m.\u001b[39mhash] \u001b[38;5;241m=\u001b[39m state\n\u001b[1;32m--> 362\u001b[0m \u001b[38;5;28;01mreturn\u001b[39;00m \u001b[43mmeasure_final_state\u001b[49m\u001b[43m(\u001b[49m\n\u001b[0;32m    363\u001b[0m \u001b[43m    \u001b[49m\u001b[43mcircuit\u001b[49m\u001b[43m,\u001b[49m\u001b[43m \u001b[49m\u001b[43mstate\u001b[49m\u001b[43m,\u001b[49m\u001b[43m \u001b[49m\u001b[43mis_state_batched\u001b[49m\u001b[43m,\u001b[49m\u001b[43m \u001b[49m\u001b[43mprng_key\u001b[49m\u001b[38;5;241;43m=\u001b[39;49m\u001b[43mmeas_key\u001b[49m\u001b[43m,\u001b[49m\u001b[43m \u001b[49m\u001b[38;5;241;43m*\u001b[39;49m\u001b[38;5;241;43m*\u001b[39;49m\u001b[43mexecution_kwargs\u001b[49m\n\u001b[0;32m    364\u001b[0m \u001b[43m\u001b[49m\u001b[43m)\u001b[49m\n",
      "File \u001b[1;32mc:\\Users\\Johnk\\Documents\\PhD\\Quantum Computing Code\\Quantum-Computing\\.venv\\Lib\\site-packages\\pennylane\\logging\\decorators.py:61\u001b[0m, in \u001b[0;36mlog_string_debug_func.<locals>.wrapper_entry\u001b[1;34m(*args, **kwargs)\u001b[0m\n\u001b[0;32m     54\u001b[0m     s_caller \u001b[38;5;241m=\u001b[39m \u001b[38;5;124m\"\u001b[39m\u001b[38;5;124m::L\u001b[39m\u001b[38;5;124m\"\u001b[39m\u001b[38;5;241m.\u001b[39mjoin(\n\u001b[0;32m     55\u001b[0m         [\u001b[38;5;28mstr\u001b[39m(i) \u001b[38;5;28;01mfor\u001b[39;00m i \u001b[38;5;129;01min\u001b[39;00m inspect\u001b[38;5;241m.\u001b[39mgetouterframes(inspect\u001b[38;5;241m.\u001b[39mcurrentframe(), \u001b[38;5;241m2\u001b[39m)[\u001b[38;5;241m1\u001b[39m][\u001b[38;5;241m1\u001b[39m:\u001b[38;5;241m3\u001b[39m]]\n\u001b[0;32m     56\u001b[0m     )\n\u001b[0;32m     57\u001b[0m     lgr\u001b[38;5;241m.\u001b[39mdebug(\n\u001b[0;32m     58\u001b[0m         \u001b[38;5;124mf\u001b[39m\u001b[38;5;124m\"\u001b[39m\u001b[38;5;124mCalling \u001b[39m\u001b[38;5;132;01m{\u001b[39;00mf_string\u001b[38;5;132;01m}\u001b[39;00m\u001b[38;5;124m from \u001b[39m\u001b[38;5;132;01m{\u001b[39;00ms_caller\u001b[38;5;132;01m}\u001b[39;00m\u001b[38;5;124m\"\u001b[39m,\n\u001b[0;32m     59\u001b[0m         \u001b[38;5;241m*\u001b[39m\u001b[38;5;241m*\u001b[39m_debug_log_kwargs,\n\u001b[0;32m     60\u001b[0m     )\n\u001b[1;32m---> 61\u001b[0m \u001b[38;5;28;01mreturn\u001b[39;00m \u001b[43mfunc\u001b[49m\u001b[43m(\u001b[49m\u001b[38;5;241;43m*\u001b[39;49m\u001b[43margs\u001b[49m\u001b[43m,\u001b[49m\u001b[43m \u001b[49m\u001b[38;5;241;43m*\u001b[39;49m\u001b[38;5;241;43m*\u001b[39;49m\u001b[43mkwargs\u001b[49m\u001b[43m)\u001b[49m\n",
      "File \u001b[1;32mc:\\Users\\Johnk\\Documents\\PhD\\Quantum Computing Code\\Quantum-Computing\\.venv\\Lib\\site-packages\\pennylane\\devices\\qubit\\simulate.py:262\u001b[0m, in \u001b[0;36mmeasure_final_state\u001b[1;34m(circuit, state, is_state_batched, **execution_kwargs)\u001b[0m\n\u001b[0;32m    260\u001b[0m \u001b[38;5;66;03m# finite-shot case\u001b[39;00m\n\u001b[0;32m    261\u001b[0m rng \u001b[38;5;241m=\u001b[39m default_rng(rng)\n\u001b[1;32m--> 262\u001b[0m results \u001b[38;5;241m=\u001b[39m \u001b[43mmeasure_with_samples\u001b[49m\u001b[43m(\u001b[49m\n\u001b[0;32m    263\u001b[0m \u001b[43m    \u001b[49m\u001b[43mcircuit\u001b[49m\u001b[38;5;241;43m.\u001b[39;49m\u001b[43mmeasurements\u001b[49m\u001b[43m,\u001b[49m\n\u001b[0;32m    264\u001b[0m \u001b[43m    \u001b[49m\u001b[43mstate\u001b[49m\u001b[43m,\u001b[49m\n\u001b[0;32m    265\u001b[0m \u001b[43m    \u001b[49m\u001b[43mshots\u001b[49m\u001b[38;5;241;43m=\u001b[39;49m\u001b[43mcircuit\u001b[49m\u001b[38;5;241;43m.\u001b[39;49m\u001b[43mshots\u001b[49m\u001b[43m,\u001b[49m\n\u001b[0;32m    266\u001b[0m \u001b[43m    \u001b[49m\u001b[43mis_state_batched\u001b[49m\u001b[38;5;241;43m=\u001b[39;49m\u001b[43mis_state_batched\u001b[49m\u001b[43m,\u001b[49m\n\u001b[0;32m    267\u001b[0m \u001b[43m    \u001b[49m\u001b[43mrng\u001b[49m\u001b[38;5;241;43m=\u001b[39;49m\u001b[43mrng\u001b[49m\u001b[43m,\u001b[49m\n\u001b[0;32m    268\u001b[0m \u001b[43m    \u001b[49m\u001b[43mprng_key\u001b[49m\u001b[38;5;241;43m=\u001b[39;49m\u001b[43mprng_key\u001b[49m\u001b[43m,\u001b[49m\n\u001b[0;32m    269\u001b[0m \u001b[43m    \u001b[49m\u001b[43mmid_measurements\u001b[49m\u001b[38;5;241;43m=\u001b[39;49m\u001b[43mmid_measurements\u001b[49m\u001b[43m,\u001b[49m\n\u001b[0;32m    270\u001b[0m \u001b[43m\u001b[49m\u001b[43m)\u001b[49m\n\u001b[0;32m    272\u001b[0m \u001b[38;5;28;01mif\u001b[39;00m \u001b[38;5;28mlen\u001b[39m(circuit\u001b[38;5;241m.\u001b[39mmeasurements) \u001b[38;5;241m==\u001b[39m \u001b[38;5;241m1\u001b[39m:\n\u001b[0;32m    273\u001b[0m     \u001b[38;5;28;01mif\u001b[39;00m circuit\u001b[38;5;241m.\u001b[39mshots\u001b[38;5;241m.\u001b[39mhas_partitioned_shots:\n",
      "File \u001b[1;32mc:\\Users\\Johnk\\Documents\\PhD\\Quantum Computing Code\\Quantum-Computing\\.venv\\Lib\\site-packages\\pennylane\\devices\\qubit\\sampling.py:255\u001b[0m, in \u001b[0;36mmeasure_with_samples\u001b[1;34m(measurements, state, shots, is_state_batched, rng, prng_key, mid_measurements)\u001b[0m\n\u001b[0;32m    251\u001b[0m         measure_fn \u001b[38;5;241m=\u001b[39m _measure_with_samples_diagonalizing_gates\n\u001b[0;32m    253\u001b[0m     prng_key, key \u001b[38;5;241m=\u001b[39m jax_random_split(prng_key)\n\u001b[0;32m    254\u001b[0m     all_res\u001b[38;5;241m.\u001b[39mextend(\n\u001b[1;32m--> 255\u001b[0m         \u001b[43mmeasure_fn\u001b[49m\u001b[43m(\u001b[49m\n\u001b[0;32m    256\u001b[0m \u001b[43m            \u001b[49m\u001b[43mgroup\u001b[49m\u001b[43m,\u001b[49m\u001b[43m \u001b[49m\u001b[43mstate\u001b[49m\u001b[43m,\u001b[49m\u001b[43m \u001b[49m\u001b[43mshots\u001b[49m\u001b[43m,\u001b[49m\u001b[43m \u001b[49m\u001b[43mis_state_batched\u001b[49m\u001b[38;5;241;43m=\u001b[39;49m\u001b[43mis_state_batched\u001b[49m\u001b[43m,\u001b[49m\u001b[43m \u001b[49m\u001b[43mrng\u001b[49m\u001b[38;5;241;43m=\u001b[39;49m\u001b[43mrng\u001b[49m\u001b[43m,\u001b[49m\u001b[43m \u001b[49m\u001b[43mprng_key\u001b[49m\u001b[38;5;241;43m=\u001b[39;49m\u001b[43mkey\u001b[49m\n\u001b[0;32m    257\u001b[0m \u001b[43m        \u001b[49m\u001b[43m)\u001b[49m\n\u001b[0;32m    258\u001b[0m     )\n\u001b[0;32m    260\u001b[0m flat_indices \u001b[38;5;241m=\u001b[39m [_i \u001b[38;5;28;01mfor\u001b[39;00m i \u001b[38;5;129;01min\u001b[39;00m indices \u001b[38;5;28;01mfor\u001b[39;00m _i \u001b[38;5;129;01min\u001b[39;00m i]\n\u001b[0;32m    262\u001b[0m \u001b[38;5;66;03m# reorder results\u001b[39;00m\n",
      "File \u001b[1;32mc:\\Users\\Johnk\\Documents\\PhD\\Quantum Computing Code\\Quantum-Computing\\.venv\\Lib\\site-packages\\pennylane\\devices\\qubit\\sampling.py:324\u001b[0m, in \u001b[0;36m_measure_with_samples_diagonalizing_gates\u001b[1;34m(mps, state, shots, is_state_batched, rng, prng_key)\u001b[0m\n\u001b[0;32m    322\u001b[0m \u001b[38;5;28;01mtry\u001b[39;00m:\n\u001b[0;32m    323\u001b[0m     prng_key, _ \u001b[38;5;241m=\u001b[39m jax_random_split(prng_key)\n\u001b[1;32m--> 324\u001b[0m     samples \u001b[38;5;241m=\u001b[39m \u001b[43msample_state\u001b[49m\u001b[43m(\u001b[49m\n\u001b[0;32m    325\u001b[0m \u001b[43m        \u001b[49m\u001b[43mstate\u001b[49m\u001b[43m,\u001b[49m\n\u001b[0;32m    326\u001b[0m \u001b[43m        \u001b[49m\u001b[43mshots\u001b[49m\u001b[38;5;241;43m=\u001b[39;49m\u001b[43mshots\u001b[49m\u001b[38;5;241;43m.\u001b[39;49m\u001b[43mtotal_shots\u001b[49m\u001b[43m,\u001b[49m\n\u001b[0;32m    327\u001b[0m \u001b[43m        \u001b[49m\u001b[43mis_state_batched\u001b[49m\u001b[38;5;241;43m=\u001b[39;49m\u001b[43mis_state_batched\u001b[49m\u001b[43m,\u001b[49m\n\u001b[0;32m    328\u001b[0m \u001b[43m        \u001b[49m\u001b[43mwires\u001b[49m\u001b[38;5;241;43m=\u001b[39;49m\u001b[43mwires\u001b[49m\u001b[43m,\u001b[49m\n\u001b[0;32m    329\u001b[0m \u001b[43m        \u001b[49m\u001b[43mrng\u001b[49m\u001b[38;5;241;43m=\u001b[39;49m\u001b[43mrng\u001b[49m\u001b[43m,\u001b[49m\n\u001b[0;32m    330\u001b[0m \u001b[43m        \u001b[49m\u001b[43mprng_key\u001b[49m\u001b[38;5;241;43m=\u001b[39;49m\u001b[43mprng_key\u001b[49m\u001b[43m,\u001b[49m\n\u001b[0;32m    331\u001b[0m \u001b[43m    \u001b[49m\u001b[43m)\u001b[49m\n\u001b[0;32m    332\u001b[0m \u001b[38;5;28;01mexcept\u001b[39;00m \u001b[38;5;167;01mValueError\u001b[39;00m \u001b[38;5;28;01mas\u001b[39;00m e:\n\u001b[0;32m    333\u001b[0m     \u001b[38;5;28;01mif\u001b[39;00m \u001b[38;5;124m\"\u001b[39m\u001b[38;5;124mprobabilities contain nan\u001b[39m\u001b[38;5;124m\"\u001b[39m \u001b[38;5;129;01mnot\u001b[39;00m \u001b[38;5;129;01min\u001b[39;00m \u001b[38;5;28mstr\u001b[39m(e)\u001b[38;5;241m.\u001b[39mlower():\n",
      "File \u001b[1;32mc:\\Users\\Johnk\\Documents\\PhD\\Quantum Computing Code\\Quantum-Computing\\.venv\\Lib\\site-packages\\pennylane\\devices\\qubit\\sampling.py:486\u001b[0m, in \u001b[0;36msample_state\u001b[1;34m(state, shots, is_state_batched, wires, rng, prng_key)\u001b[0m\n\u001b[0;32m    483\u001b[0m     probs \u001b[38;5;241m=\u001b[39m qml\u001b[38;5;241m.\u001b[39mprobs(wires\u001b[38;5;241m=\u001b[39mwires_to_sample)\u001b[38;5;241m.\u001b[39mprocess_state(flat_state, state_wires)\n\u001b[0;32m    484\u001b[0m     \u001b[38;5;66;03m# Keep same interface (e.g. jax) as in the device\u001b[39;00m\n\u001b[1;32m--> 486\u001b[0m \u001b[38;5;28;01mreturn\u001b[39;00m \u001b[43msample_probs\u001b[49m\u001b[43m(\u001b[49m\u001b[43mprobs\u001b[49m\u001b[43m,\u001b[49m\u001b[43m \u001b[49m\u001b[43mshots\u001b[49m\u001b[43m,\u001b[49m\u001b[43m \u001b[49m\u001b[43mnum_wires\u001b[49m\u001b[43m,\u001b[49m\u001b[43m \u001b[49m\u001b[43mis_state_batched\u001b[49m\u001b[43m,\u001b[49m\u001b[43m \u001b[49m\u001b[43mrng\u001b[49m\u001b[43m,\u001b[49m\u001b[43m \u001b[49m\u001b[43mprng_key\u001b[49m\u001b[43m)\u001b[49m\n",
      "File \u001b[1;32mc:\\Users\\Johnk\\Documents\\PhD\\Quantum Computing Code\\Quantum-Computing\\.venv\\Lib\\site-packages\\pennylane\\devices\\qubit\\sampling.py:507\u001b[0m, in \u001b[0;36msample_probs\u001b[1;34m(probs, shots, num_wires, is_state_batched, rng, prng_key)\u001b[0m\n\u001b[0;32m    504\u001b[0m \u001b[38;5;28;01mif\u001b[39;00m qml\u001b[38;5;241m.\u001b[39mmath\u001b[38;5;241m.\u001b[39mget_interface(probs) \u001b[38;5;241m==\u001b[39m \u001b[38;5;124m\"\u001b[39m\u001b[38;5;124mjax\u001b[39m\u001b[38;5;124m\"\u001b[39m \u001b[38;5;129;01mor\u001b[39;00m prng_key \u001b[38;5;129;01mis\u001b[39;00m \u001b[38;5;129;01mnot\u001b[39;00m \u001b[38;5;28;01mNone\u001b[39;00m:\n\u001b[0;32m    505\u001b[0m     \u001b[38;5;28;01mreturn\u001b[39;00m _sample_probs_jax(probs, shots, num_wires, is_state_batched, prng_key, seed\u001b[38;5;241m=\u001b[39mrng)\n\u001b[1;32m--> 507\u001b[0m \u001b[38;5;28;01mreturn\u001b[39;00m \u001b[43m_sample_probs_numpy\u001b[49m\u001b[43m(\u001b[49m\u001b[43mprobs\u001b[49m\u001b[43m,\u001b[49m\u001b[43m \u001b[49m\u001b[43mshots\u001b[49m\u001b[43m,\u001b[49m\u001b[43m \u001b[49m\u001b[43mnum_wires\u001b[49m\u001b[43m,\u001b[49m\u001b[43m \u001b[49m\u001b[43mis_state_batched\u001b[49m\u001b[43m,\u001b[49m\u001b[43m \u001b[49m\u001b[43mrng\u001b[49m\u001b[43m)\u001b[49m\n",
      "File \u001b[1;32mc:\\Users\\Johnk\\Documents\\PhD\\Quantum Computing Code\\Quantum-Computing\\.venv\\Lib\\site-packages\\pennylane\\devices\\qubit\\sampling.py:538\u001b[0m, in \u001b[0;36m_sample_probs_numpy\u001b[1;34m(probs, shots, num_wires, is_state_batched, rng)\u001b[0m\n\u001b[0;32m    536\u001b[0m \u001b[38;5;28;01melse\u001b[39;00m:\n\u001b[0;32m    537\u001b[0m     probs \u001b[38;5;241m=\u001b[39m probs \u001b[38;5;241m/\u001b[39m norm\n\u001b[1;32m--> 538\u001b[0m     samples \u001b[38;5;241m=\u001b[39m \u001b[43mrng\u001b[49m\u001b[38;5;241;43m.\u001b[39;49m\u001b[43mchoice\u001b[49m\u001b[43m(\u001b[49m\u001b[43mbasis_states\u001b[49m\u001b[43m,\u001b[49m\u001b[43m \u001b[49m\u001b[43mshots\u001b[49m\u001b[43m,\u001b[49m\u001b[43m \u001b[49m\u001b[43mp\u001b[49m\u001b[38;5;241;43m=\u001b[39;49m\u001b[43mprobs\u001b[49m\u001b[43m)\u001b[49m\n\u001b[0;32m    540\u001b[0m powers_of_two \u001b[38;5;241m=\u001b[39m \u001b[38;5;241m1\u001b[39m \u001b[38;5;241m<<\u001b[39m np\u001b[38;5;241m.\u001b[39marange(num_wires, dtype\u001b[38;5;241m=\u001b[39mnp\u001b[38;5;241m.\u001b[39mint64)[::\u001b[38;5;241m-\u001b[39m\u001b[38;5;241m1\u001b[39m]\n\u001b[0;32m    541\u001b[0m states_sampled_base_ten \u001b[38;5;241m=\u001b[39m samples[\u001b[38;5;241m.\u001b[39m\u001b[38;5;241m.\u001b[39m\u001b[38;5;241m.\u001b[39m, \u001b[38;5;28;01mNone\u001b[39;00m] \u001b[38;5;241m&\u001b[39m powers_of_two\n",
      "\u001b[1;31mKeyboardInterrupt\u001b[0m: "
     ]
    }
   ],
   "source": [
    "num_steps = 4\n",
    "op_list = []\n",
    "op_params = []\n",
    "\n",
    "#variables\n",
    "max_iter = 5000\n",
    "strategy = \"randtobest1bin\"\n",
    "tol = 1e-3\n",
    "abs_tol = 1e-3\n",
    "popsize = 20\n",
    "\n",
    "for i in range(num_steps):\n",
    "\n",
    "    print(f\"step: {i}\")\n",
    "\n",
    "    grad_list = []\n",
    "\n",
    "    for op in operator_pool:\n",
    "        grad = compute_grad(op, op_list, op_params)\n",
    "        grad_list.append(abs(grad))\n",
    "\n",
    "    maxidx = np.argmax(grad_list)\n",
    "    op_list.append(operator_pool[maxidx])\n",
    "\n",
    "    # Generate Halton sequence\n",
    "    num_dimensions = len(op_list)\n",
    "    num_samples = popsize\n",
    "    halton_sampler = Halton(d=num_dimensions)\n",
    "    halton_samples = halton_sampler.random(n=num_samples)\n",
    "    scaled_samples = 2 * np.pi * halton_samples\n",
    "\n",
    "    bounds = [(0, 2 * np.pi) for _ in range(num_dimensions)]\n",
    "    \n",
    "    res = differential_evolution(cost_function,\n",
    "                                    bounds,\n",
    "                                    args=(op_list,),\n",
    "                                    maxiter=max_iter,\n",
    "                                    tol=tol,\n",
    "                                    atol=abs_tol,\n",
    "                                    strategy=strategy,\n",
    "                                    popsize=popsize,\n",
    "                                    init=scaled_samples,\n",
    "                                    )\n",
    "    \n",
    "    if i!=0: pre_min_e = min_e\n",
    "    min_e = res.fun\n",
    "    pre_op_params = op_params\n",
    "    op_params = res.x\n",
    "\n",
    "    print(f\"Min E: {min_e}\")\n",
    "    print(res.success)\n",
    "\n",
    "    \n",
    "    print(\"Testing CZ pool\")\n",
    "    cz_e = []\n",
    "    for term in cz_pool:\n",
    "        energy = circuit(op_params, op_list, try_cz=True, cz_wires=term.wires)\n",
    "        cz_e.append(energy)\n",
    "\n",
    "    min_cz_e = cz_e[np.argmin(cz_e)]\n",
    "    min_cz_term = cz_pool[np.argmin(cz_e)]\n",
    "    if min_cz_e < min_e:\n",
    "        print(f\"Adding {min_cz_term} reduces energy further\")\n",
    "        op_list.append(min_cz_term)\n",
    "        min_e = min_cz_e\n",
    "        print(f\"Min E: {min_e}\")\n",
    "    \n",
    "    if i!=0:\n",
    "        if abs(pre_min_e - min_e) < 1e-8:\n",
    "            print(\"gradient converged\")\n",
    "            op_list.pop()\n",
    "            op_params = pre_op_params\n",
    "            break\n",
    "\n",
    "\n",
    "    "
   ]
  },
  {
   "cell_type": "code",
   "execution_count": 50,
   "metadata": {},
   "outputs": [
    {
     "data": {
      "text/plain": [
       "[Y(4), Y(4), Y(4), Y(4)]"
      ]
     },
     "execution_count": 50,
     "metadata": {},
     "output_type": "execute_result"
    }
   ],
   "source": [
    "op_list"
   ]
  },
  {
   "cell_type": "code",
   "execution_count": 46,
   "metadata": {},
   "outputs": [],
   "source": [
    "dev = qml.device(\"default.qubit\", wires=num_qubits, shots=2)\n",
    "@qml.qnode(dev)\n",
    "def final_circuit(params):\n",
    "\n",
    "    qml.BasisState(basis_state, wires=range(num_qubits))\n",
    "    params_index = 0\n",
    "    for op in op_list:\n",
    "        if type(op) == qml.CZ:\n",
    "            qml.CZ(wires=op.wires)\n",
    "        else:\n",
    "            pauli_string = qml.pauli.pauli_word_to_string(op)\n",
    "            qml.PauliRot(params[params_index], pauli_string, wires=op.wires)\n",
    "            params_index += 1\n",
    "\n",
    "    return qml.state()"
   ]
  },
  {
   "cell_type": "code",
   "execution_count": 47,
   "metadata": {},
   "outputs": [
    {
     "name": "stdout",
     "output_type": "stream",
     "text": [
      "0: ─╭|Ψ⟩──RY(0.08)─┤  State\n",
      "1: ─├|Ψ⟩──RY(3.95)─┤  State\n",
      "2: ─├|Ψ⟩───────────┤  State\n",
      "3: ─╰|Ψ⟩───────────┤  State\n"
     ]
    }
   ],
   "source": [
    "x0 = np.random.uniform(0, 2 * np.pi, size=len(op_list))\n",
    "print(qml.draw(final_circuit)(x0))"
   ]
  },
  {
   "cell_type": "code",
   "execution_count": 48,
   "metadata": {},
   "outputs": [],
   "source": [
    "def overlap_function(params):\n",
    "\n",
    "    params = pnp.tensor(params, requires_grad=True)\n",
    "    ansatz_state = final_circuit(params)\n",
    "    \n",
    "    overlap = np.vdot(min_eigenvector, ansatz_state)\n",
    "    cost = np.abs(overlap)**2  \n",
    "\n",
    "    return (1 - cost)"
   ]
  },
  {
   "cell_type": "code",
   "execution_count": 49,
   "metadata": {},
   "outputs": [
    {
     "name": "stdout",
     "output_type": "stream",
     "text": [
      "Running for overlap\n"
     ]
    },
    {
     "ename": "DeviceError",
     "evalue": "Measurement state(wires=[0, 1, 2, 3]) not accepted with finite shots on default.qubit",
     "output_type": "error",
     "traceback": [
      "\u001b[1;31m---------------------------------------------------------------------------\u001b[0m",
      "\u001b[1;31mDeviceError\u001b[0m                               Traceback (most recent call last)",
      "Cell \u001b[1;32mIn[49], line 18\u001b[0m\n\u001b[0;32m     15\u001b[0m popsize \u001b[38;5;241m=\u001b[39m \u001b[38;5;241m20\u001b[39m\n\u001b[0;32m     17\u001b[0m \u001b[38;5;28mprint\u001b[39m(\u001b[38;5;124m\"\u001b[39m\u001b[38;5;124mRunning for overlap\u001b[39m\u001b[38;5;124m\"\u001b[39m)\n\u001b[1;32m---> 18\u001b[0m overlap_res \u001b[38;5;241m=\u001b[39m \u001b[43mdifferential_evolution\u001b[49m\u001b[43m(\u001b[49m\u001b[43moverlap_function\u001b[49m\u001b[43m,\u001b[49m\n\u001b[0;32m     19\u001b[0m \u001b[43m                                    \u001b[49m\u001b[43mbounds\u001b[49m\u001b[43m,\u001b[49m\n\u001b[0;32m     20\u001b[0m \u001b[43m                                    \u001b[49m\u001b[43mmaxiter\u001b[49m\u001b[38;5;241;43m=\u001b[39;49m\u001b[43mmax_iter\u001b[49m\u001b[43m,\u001b[49m\n\u001b[0;32m     21\u001b[0m \u001b[43m                                    \u001b[49m\u001b[43mtol\u001b[49m\u001b[38;5;241;43m=\u001b[39;49m\u001b[43mtol\u001b[49m\u001b[43m,\u001b[49m\n\u001b[0;32m     22\u001b[0m \u001b[43m                                    \u001b[49m\u001b[43matol\u001b[49m\u001b[38;5;241;43m=\u001b[39;49m\u001b[43mabs_tol\u001b[49m\u001b[43m,\u001b[49m\n\u001b[0;32m     23\u001b[0m \u001b[43m                                    \u001b[49m\u001b[43mstrategy\u001b[49m\u001b[38;5;241;43m=\u001b[39;49m\u001b[43mstrategy\u001b[49m\u001b[43m,\u001b[49m\n\u001b[0;32m     24\u001b[0m \u001b[43m                                    \u001b[49m\u001b[43mpopsize\u001b[49m\u001b[38;5;241;43m=\u001b[39;49m\u001b[43mpopsize\u001b[49m\u001b[43m,\u001b[49m\n\u001b[0;32m     25\u001b[0m \u001b[43m                                    \u001b[49m\u001b[43minit\u001b[49m\u001b[38;5;241;43m=\u001b[39;49m\u001b[43mscaled_samples\u001b[49m\u001b[43m,\u001b[49m\n\u001b[0;32m     26\u001b[0m \u001b[43m                                    \u001b[49m\u001b[43m)\u001b[49m\n",
      "File \u001b[1;32mc:\\Users\\Johnk\\Documents\\PhD\\Quantum Computing Code\\Quantum-Computing\\.venv\\Lib\\site-packages\\scipy\\_lib\\_util.py:440\u001b[0m, in \u001b[0;36m_transition_to_rng.<locals>.decorator.<locals>.wrapper\u001b[1;34m(*args, **kwargs)\u001b[0m\n\u001b[0;32m    433\u001b[0m     message \u001b[38;5;241m=\u001b[39m (\n\u001b[0;32m    434\u001b[0m         \u001b[38;5;124m\"\u001b[39m\u001b[38;5;124mThe NumPy global RNG was seeded by calling \u001b[39m\u001b[38;5;124m\"\u001b[39m\n\u001b[0;32m    435\u001b[0m         \u001b[38;5;124mf\u001b[39m\u001b[38;5;124m\"\u001b[39m\u001b[38;5;124m`np.random.seed`. Beginning in \u001b[39m\u001b[38;5;132;01m{\u001b[39;00mend_version\u001b[38;5;132;01m}\u001b[39;00m\u001b[38;5;124m, this \u001b[39m\u001b[38;5;124m\"\u001b[39m\n\u001b[0;32m    436\u001b[0m         \u001b[38;5;124m\"\u001b[39m\u001b[38;5;124mfunction will no longer use the global RNG.\u001b[39m\u001b[38;5;124m\"\u001b[39m\n\u001b[0;32m    437\u001b[0m     ) \u001b[38;5;241m+\u001b[39m cmn_msg\n\u001b[0;32m    438\u001b[0m     warnings\u001b[38;5;241m.\u001b[39mwarn(message, \u001b[38;5;167;01mFutureWarning\u001b[39;00m, stacklevel\u001b[38;5;241m=\u001b[39m\u001b[38;5;241m2\u001b[39m)\n\u001b[1;32m--> 440\u001b[0m \u001b[38;5;28;01mreturn\u001b[39;00m \u001b[43mfun\u001b[49m\u001b[43m(\u001b[49m\u001b[38;5;241;43m*\u001b[39;49m\u001b[43margs\u001b[49m\u001b[43m,\u001b[49m\u001b[43m \u001b[49m\u001b[38;5;241;43m*\u001b[39;49m\u001b[38;5;241;43m*\u001b[39;49m\u001b[43mkwargs\u001b[49m\u001b[43m)\u001b[49m\n",
      "File \u001b[1;32mc:\\Users\\Johnk\\Documents\\PhD\\Quantum Computing Code\\Quantum-Computing\\.venv\\Lib\\site-packages\\scipy\\optimize\\_differentialevolution.py:501\u001b[0m, in \u001b[0;36mdifferential_evolution\u001b[1;34m(func, bounds, args, strategy, maxiter, popsize, tol, mutation, recombination, rng, callback, disp, polish, init, atol, updating, workers, constraints, x0, integrality, vectorized)\u001b[0m\n\u001b[0;32m    484\u001b[0m \u001b[38;5;66;03m# using a context manager means that any created Pool objects are\u001b[39;00m\n\u001b[0;32m    485\u001b[0m \u001b[38;5;66;03m# cleared up.\u001b[39;00m\n\u001b[0;32m    486\u001b[0m \u001b[38;5;28;01mwith\u001b[39;00m DifferentialEvolutionSolver(func, bounds, args\u001b[38;5;241m=\u001b[39margs,\n\u001b[0;32m    487\u001b[0m                                  strategy\u001b[38;5;241m=\u001b[39mstrategy,\n\u001b[0;32m    488\u001b[0m                                  maxiter\u001b[38;5;241m=\u001b[39mmaxiter,\n\u001b[1;32m   (...)\u001b[0m\n\u001b[0;32m    499\u001b[0m                                  integrality\u001b[38;5;241m=\u001b[39mintegrality,\n\u001b[0;32m    500\u001b[0m                                  vectorized\u001b[38;5;241m=\u001b[39mvectorized) \u001b[38;5;28;01mas\u001b[39;00m solver:\n\u001b[1;32m--> 501\u001b[0m     ret \u001b[38;5;241m=\u001b[39m \u001b[43msolver\u001b[49m\u001b[38;5;241;43m.\u001b[39;49m\u001b[43msolve\u001b[49m\u001b[43m(\u001b[49m\u001b[43m)\u001b[49m\n\u001b[0;32m    503\u001b[0m \u001b[38;5;28;01mreturn\u001b[39;00m ret\n",
      "File \u001b[1;32mc:\\Users\\Johnk\\Documents\\PhD\\Quantum Computing Code\\Quantum-Computing\\.venv\\Lib\\site-packages\\scipy\\optimize\\_differentialevolution.py:1176\u001b[0m, in \u001b[0;36mDifferentialEvolutionSolver.solve\u001b[1;34m(self)\u001b[0m\n\u001b[0;32m   1171\u001b[0m     \u001b[38;5;28mself\u001b[39m\u001b[38;5;241m.\u001b[39mfeasible, \u001b[38;5;28mself\u001b[39m\u001b[38;5;241m.\u001b[39mconstraint_violation \u001b[38;5;241m=\u001b[39m (\n\u001b[0;32m   1172\u001b[0m         \u001b[38;5;28mself\u001b[39m\u001b[38;5;241m.\u001b[39m_calculate_population_feasibilities(\u001b[38;5;28mself\u001b[39m\u001b[38;5;241m.\u001b[39mpopulation))\n\u001b[0;32m   1174\u001b[0m     \u001b[38;5;66;03m# only work out population energies for feasible solutions\u001b[39;00m\n\u001b[0;32m   1175\u001b[0m     \u001b[38;5;28mself\u001b[39m\u001b[38;5;241m.\u001b[39mpopulation_energies[\u001b[38;5;28mself\u001b[39m\u001b[38;5;241m.\u001b[39mfeasible] \u001b[38;5;241m=\u001b[39m (\n\u001b[1;32m-> 1176\u001b[0m         \u001b[38;5;28;43mself\u001b[39;49m\u001b[38;5;241;43m.\u001b[39;49m\u001b[43m_calculate_population_energies\u001b[49m\u001b[43m(\u001b[49m\n\u001b[0;32m   1177\u001b[0m \u001b[43m            \u001b[49m\u001b[38;5;28;43mself\u001b[39;49m\u001b[38;5;241;43m.\u001b[39;49m\u001b[43mpopulation\u001b[49m\u001b[43m[\u001b[49m\u001b[38;5;28;43mself\u001b[39;49m\u001b[38;5;241;43m.\u001b[39;49m\u001b[43mfeasible\u001b[49m\u001b[43m]\u001b[49m\u001b[43m)\u001b[49m)\n\u001b[0;32m   1179\u001b[0m     \u001b[38;5;28mself\u001b[39m\u001b[38;5;241m.\u001b[39m_promote_lowest_energy()\n\u001b[0;32m   1181\u001b[0m \u001b[38;5;66;03m# do the optimization.\u001b[39;00m\n",
      "File \u001b[1;32mc:\\Users\\Johnk\\Documents\\PhD\\Quantum Computing Code\\Quantum-Computing\\.venv\\Lib\\site-packages\\scipy\\optimize\\_differentialevolution.py:1337\u001b[0m, in \u001b[0;36mDifferentialEvolutionSolver._calculate_population_energies\u001b[1;34m(self, population)\u001b[0m\n\u001b[0;32m   1335\u001b[0m parameters_pop \u001b[38;5;241m=\u001b[39m \u001b[38;5;28mself\u001b[39m\u001b[38;5;241m.\u001b[39m_scale_parameters(population)\n\u001b[0;32m   1336\u001b[0m \u001b[38;5;28;01mtry\u001b[39;00m:\n\u001b[1;32m-> 1337\u001b[0m     calc_energies \u001b[38;5;241m=\u001b[39m \u001b[38;5;28;43mlist\u001b[39;49m\u001b[43m(\u001b[49m\n\u001b[0;32m   1338\u001b[0m \u001b[43m        \u001b[49m\u001b[38;5;28;43mself\u001b[39;49m\u001b[38;5;241;43m.\u001b[39;49m\u001b[43m_mapwrapper\u001b[49m\u001b[43m(\u001b[49m\u001b[38;5;28;43mself\u001b[39;49m\u001b[38;5;241;43m.\u001b[39;49m\u001b[43mfunc\u001b[49m\u001b[43m,\u001b[49m\u001b[43m \u001b[49m\u001b[43mparameters_pop\u001b[49m\u001b[43m[\u001b[49m\u001b[38;5;241;43m0\u001b[39;49m\u001b[43m:\u001b[49m\u001b[43mS\u001b[49m\u001b[43m]\u001b[49m\u001b[43m)\u001b[49m\n\u001b[0;32m   1339\u001b[0m \u001b[43m    \u001b[49m\u001b[43m)\u001b[49m\n\u001b[0;32m   1340\u001b[0m     calc_energies \u001b[38;5;241m=\u001b[39m np\u001b[38;5;241m.\u001b[39msqueeze(calc_energies)\n\u001b[0;32m   1341\u001b[0m \u001b[38;5;28;01mexcept\u001b[39;00m (\u001b[38;5;167;01mTypeError\u001b[39;00m, \u001b[38;5;167;01mValueError\u001b[39;00m) \u001b[38;5;28;01mas\u001b[39;00m e:\n\u001b[0;32m   1342\u001b[0m     \u001b[38;5;66;03m# wrong number of arguments for _mapwrapper\u001b[39;00m\n\u001b[0;32m   1343\u001b[0m     \u001b[38;5;66;03m# or wrong length returned from the mapper\u001b[39;00m\n",
      "File \u001b[1;32mc:\\Users\\Johnk\\Documents\\PhD\\Quantum Computing Code\\Quantum-Computing\\.venv\\Lib\\site-packages\\scipy\\_lib\\_util.py:657\u001b[0m, in \u001b[0;36m_FunctionWrapper.__call__\u001b[1;34m(self, x)\u001b[0m\n\u001b[0;32m    656\u001b[0m \u001b[38;5;28;01mdef\u001b[39;00m\u001b[38;5;250m \u001b[39m\u001b[38;5;21m__call__\u001b[39m(\u001b[38;5;28mself\u001b[39m, x):\n\u001b[1;32m--> 657\u001b[0m     \u001b[38;5;28;01mreturn\u001b[39;00m \u001b[38;5;28;43mself\u001b[39;49m\u001b[38;5;241;43m.\u001b[39;49m\u001b[43mf\u001b[49m\u001b[43m(\u001b[49m\u001b[43mx\u001b[49m\u001b[43m,\u001b[49m\u001b[43m \u001b[49m\u001b[38;5;241;43m*\u001b[39;49m\u001b[38;5;28;43mself\u001b[39;49m\u001b[38;5;241;43m.\u001b[39;49m\u001b[43margs\u001b[49m\u001b[43m)\u001b[49m\n",
      "Cell \u001b[1;32mIn[48], line 4\u001b[0m, in \u001b[0;36moverlap_function\u001b[1;34m(params)\u001b[0m\n\u001b[0;32m      1\u001b[0m \u001b[38;5;28;01mdef\u001b[39;00m\u001b[38;5;250m \u001b[39m\u001b[38;5;21moverlap_function\u001b[39m(params):\n\u001b[0;32m      3\u001b[0m     params \u001b[38;5;241m=\u001b[39m pnp\u001b[38;5;241m.\u001b[39mtensor(params, requires_grad\u001b[38;5;241m=\u001b[39m\u001b[38;5;28;01mTrue\u001b[39;00m)\n\u001b[1;32m----> 4\u001b[0m     ansatz_state \u001b[38;5;241m=\u001b[39m \u001b[43mfinal_circuit\u001b[49m\u001b[43m(\u001b[49m\u001b[43mparams\u001b[49m\u001b[43m)\u001b[49m\n\u001b[0;32m      6\u001b[0m     overlap \u001b[38;5;241m=\u001b[39m np\u001b[38;5;241m.\u001b[39mvdot(min_eigenvector, ansatz_state)\n\u001b[0;32m      7\u001b[0m     cost \u001b[38;5;241m=\u001b[39m np\u001b[38;5;241m.\u001b[39mabs(overlap)\u001b[38;5;241m*\u001b[39m\u001b[38;5;241m*\u001b[39m\u001b[38;5;241m2\u001b[39m  \n",
      "File \u001b[1;32mc:\\Users\\Johnk\\Documents\\PhD\\Quantum Computing Code\\Quantum-Computing\\.venv\\Lib\\site-packages\\pennylane\\workflow\\qnode.py:905\u001b[0m, in \u001b[0;36mQNode.__call__\u001b[1;34m(self, *args, **kwargs)\u001b[0m\n\u001b[0;32m    903\u001b[0m \u001b[38;5;28;01mif\u001b[39;00m qml\u001b[38;5;241m.\u001b[39mcapture\u001b[38;5;241m.\u001b[39menabled():\n\u001b[0;32m    904\u001b[0m     \u001b[38;5;28;01mreturn\u001b[39;00m capture_qnode(\u001b[38;5;28mself\u001b[39m, \u001b[38;5;241m*\u001b[39margs, \u001b[38;5;241m*\u001b[39m\u001b[38;5;241m*\u001b[39mkwargs)\n\u001b[1;32m--> 905\u001b[0m \u001b[38;5;28;01mreturn\u001b[39;00m \u001b[38;5;28;43mself\u001b[39;49m\u001b[38;5;241;43m.\u001b[39;49m\u001b[43m_impl_call\u001b[49m\u001b[43m(\u001b[49m\u001b[38;5;241;43m*\u001b[39;49m\u001b[43margs\u001b[49m\u001b[43m,\u001b[49m\u001b[43m \u001b[49m\u001b[38;5;241;43m*\u001b[39;49m\u001b[38;5;241;43m*\u001b[39;49m\u001b[43mkwargs\u001b[49m\u001b[43m)\u001b[49m\n",
      "File \u001b[1;32mc:\\Users\\Johnk\\Documents\\PhD\\Quantum Computing Code\\Quantum-Computing\\.venv\\Lib\\site-packages\\pennylane\\workflow\\qnode.py:881\u001b[0m, in \u001b[0;36mQNode._impl_call\u001b[1;34m(self, *args, **kwargs)\u001b[0m\n\u001b[0;32m    878\u001b[0m \u001b[38;5;66;03m# Calculate the classical jacobians if necessary\u001b[39;00m\n\u001b[0;32m    879\u001b[0m \u001b[38;5;28mself\u001b[39m\u001b[38;5;241m.\u001b[39m_transform_program\u001b[38;5;241m.\u001b[39mset_classical_component(\u001b[38;5;28mself\u001b[39m, args, kwargs)\n\u001b[1;32m--> 881\u001b[0m res \u001b[38;5;241m=\u001b[39m \u001b[43mqml\u001b[49m\u001b[38;5;241;43m.\u001b[39;49m\u001b[43mexecute\u001b[49m\u001b[43m(\u001b[49m\n\u001b[0;32m    882\u001b[0m \u001b[43m    \u001b[49m\u001b[43m(\u001b[49m\u001b[43mtape\u001b[49m\u001b[43m,\u001b[49m\u001b[43m)\u001b[49m\u001b[43m,\u001b[49m\n\u001b[0;32m    883\u001b[0m \u001b[43m    \u001b[49m\u001b[43mdevice\u001b[49m\u001b[38;5;241;43m=\u001b[39;49m\u001b[38;5;28;43mself\u001b[39;49m\u001b[38;5;241;43m.\u001b[39;49m\u001b[43mdevice\u001b[49m\u001b[43m,\u001b[49m\n\u001b[0;32m    884\u001b[0m \u001b[43m    \u001b[49m\u001b[43mdiff_method\u001b[49m\u001b[38;5;241;43m=\u001b[39;49m\u001b[38;5;28;43mself\u001b[39;49m\u001b[38;5;241;43m.\u001b[39;49m\u001b[43mdiff_method\u001b[49m\u001b[43m,\u001b[49m\n\u001b[0;32m    885\u001b[0m \u001b[43m    \u001b[49m\u001b[43minterface\u001b[49m\u001b[38;5;241;43m=\u001b[39;49m\u001b[43minterface\u001b[49m\u001b[43m,\u001b[49m\n\u001b[0;32m    886\u001b[0m \u001b[43m    \u001b[49m\u001b[43mtransform_program\u001b[49m\u001b[38;5;241;43m=\u001b[39;49m\u001b[38;5;28;43mself\u001b[39;49m\u001b[38;5;241;43m.\u001b[39;49m\u001b[43m_transform_program\u001b[49m\u001b[43m,\u001b[49m\n\u001b[0;32m    887\u001b[0m \u001b[43m    \u001b[49m\u001b[43mgradient_kwargs\u001b[49m\u001b[38;5;241;43m=\u001b[39;49m\u001b[38;5;28;43mself\u001b[39;49m\u001b[38;5;241;43m.\u001b[39;49m\u001b[43mgradient_kwargs\u001b[49m\u001b[43m,\u001b[49m\n\u001b[0;32m    888\u001b[0m \u001b[43m    \u001b[49m\u001b[38;5;241;43m*\u001b[39;49m\u001b[38;5;241;43m*\u001b[39;49m\u001b[38;5;28;43mself\u001b[39;49m\u001b[38;5;241;43m.\u001b[39;49m\u001b[43mexecute_kwargs\u001b[49m\u001b[43m,\u001b[49m\n\u001b[0;32m    889\u001b[0m \u001b[43m\u001b[49m\u001b[43m)\u001b[49m\n\u001b[0;32m    890\u001b[0m res \u001b[38;5;241m=\u001b[39m res[\u001b[38;5;241m0\u001b[39m]\n\u001b[0;32m    892\u001b[0m \u001b[38;5;66;03m# convert result to the interface in case the qfunc has no parameters\u001b[39;00m\n",
      "File \u001b[1;32mc:\\Users\\Johnk\\Documents\\PhD\\Quantum Computing Code\\Quantum-Computing\\.venv\\Lib\\site-packages\\pennylane\\workflow\\execution.py:232\u001b[0m, in \u001b[0;36mexecute\u001b[1;34m(tapes, device, diff_method, interface, transform_program, inner_transform, config, grad_on_execution, gradient_kwargs, cache, cachesize, max_diff, device_vjp, mcm_config, gradient_fn)\u001b[0m\n\u001b[0;32m    229\u001b[0m \u001b[38;5;28;01mif\u001b[39;00m transform_program\u001b[38;5;241m.\u001b[39mis_informative:\n\u001b[0;32m    230\u001b[0m     \u001b[38;5;28;01mreturn\u001b[39;00m post_processing(tapes)\n\u001b[1;32m--> 232\u001b[0m results \u001b[38;5;241m=\u001b[39m \u001b[43mrun\u001b[49m\u001b[43m(\u001b[49m\u001b[43mtapes\u001b[49m\u001b[43m,\u001b[49m\u001b[43m \u001b[49m\u001b[43mdevice\u001b[49m\u001b[43m,\u001b[49m\u001b[43m \u001b[49m\u001b[43mconfig\u001b[49m\u001b[43m,\u001b[49m\u001b[43m \u001b[49m\u001b[43minner_transform\u001b[49m\u001b[43m)\u001b[49m\n\u001b[0;32m    233\u001b[0m \u001b[38;5;28;01mreturn\u001b[39;00m post_processing(results)\n",
      "File \u001b[1;32mc:\\Users\\Johnk\\Documents\\PhD\\Quantum Computing Code\\Quantum-Computing\\.venv\\Lib\\site-packages\\pennylane\\workflow\\run.py:333\u001b[0m, in \u001b[0;36mrun\u001b[1;34m(tapes, device, config, inner_transform_program)\u001b[0m\n\u001b[0;32m    330\u001b[0m         params \u001b[38;5;241m=\u001b[39m tape\u001b[38;5;241m.\u001b[39mget_parameters(trainable_only\u001b[38;5;241m=\u001b[39m\u001b[38;5;28;01mFalse\u001b[39;00m)\n\u001b[0;32m    331\u001b[0m         tape\u001b[38;5;241m.\u001b[39mtrainable_params \u001b[38;5;241m=\u001b[39m qml\u001b[38;5;241m.\u001b[39mmath\u001b[38;5;241m.\u001b[39mget_trainable_indices(params)\n\u001b[1;32m--> 333\u001b[0m results \u001b[38;5;241m=\u001b[39m \u001b[43mml_execute\u001b[49m\u001b[43m(\u001b[49m\u001b[43mtapes\u001b[49m\u001b[43m,\u001b[49m\u001b[43m \u001b[49m\u001b[43mexecute_fn\u001b[49m\u001b[43m,\u001b[49m\u001b[43m \u001b[49m\u001b[43mjpc\u001b[49m\u001b[43m,\u001b[49m\u001b[43m \u001b[49m\u001b[43mdevice\u001b[49m\u001b[38;5;241;43m=\u001b[39;49m\u001b[43mdevice\u001b[49m\u001b[43m)\u001b[49m\n\u001b[0;32m    334\u001b[0m \u001b[38;5;28;01mreturn\u001b[39;00m results\n",
      "File \u001b[1;32mc:\\Users\\Johnk\\Documents\\PhD\\Quantum Computing Code\\Quantum-Computing\\.venv\\Lib\\site-packages\\pennylane\\workflow\\interfaces\\autograd.py:147\u001b[0m, in \u001b[0;36mautograd_execute\u001b[1;34m(tapes, execute_fn, jpc, device)\u001b[0m\n\u001b[0;32m    142\u001b[0m \u001b[38;5;66;03m# pylint misidentifies autograd.builtins as a dict\u001b[39;00m\n\u001b[0;32m    143\u001b[0m \u001b[38;5;66;03m# pylint: disable=no-member\u001b[39;00m\n\u001b[0;32m    144\u001b[0m parameters \u001b[38;5;241m=\u001b[39m autograd\u001b[38;5;241m.\u001b[39mbuiltins\u001b[38;5;241m.\u001b[39mtuple(\n\u001b[0;32m    145\u001b[0m     [autograd\u001b[38;5;241m.\u001b[39mbuiltins\u001b[38;5;241m.\u001b[39mlist(t\u001b[38;5;241m.\u001b[39mget_parameters()) \u001b[38;5;28;01mfor\u001b[39;00m t \u001b[38;5;129;01min\u001b[39;00m tapes]\n\u001b[0;32m    146\u001b[0m )\n\u001b[1;32m--> 147\u001b[0m \u001b[38;5;28;01mreturn\u001b[39;00m \u001b[43m_execute\u001b[49m\u001b[43m(\u001b[49m\u001b[43mparameters\u001b[49m\u001b[43m,\u001b[49m\u001b[43m \u001b[49m\u001b[38;5;28;43mtuple\u001b[39;49m\u001b[43m(\u001b[49m\u001b[43mtapes\u001b[49m\u001b[43m)\u001b[49m\u001b[43m,\u001b[49m\u001b[43m \u001b[49m\u001b[43mexecute_fn\u001b[49m\u001b[43m,\u001b[49m\u001b[43m \u001b[49m\u001b[43mjpc\u001b[49m\u001b[43m)\u001b[49m\n",
      "File \u001b[1;32mc:\\Users\\Johnk\\Documents\\PhD\\Quantum Computing Code\\Quantum-Computing\\.venv\\Lib\\site-packages\\autograd\\tracer.py:48\u001b[0m, in \u001b[0;36mprimitive.<locals>.f_wrapped\u001b[1;34m(*args, **kwargs)\u001b[0m\n\u001b[0;32m     46\u001b[0m     \u001b[38;5;28;01mreturn\u001b[39;00m new_box(ans, trace, node)\n\u001b[0;32m     47\u001b[0m \u001b[38;5;28;01melse\u001b[39;00m:\n\u001b[1;32m---> 48\u001b[0m     \u001b[38;5;28;01mreturn\u001b[39;00m \u001b[43mf_raw\u001b[49m\u001b[43m(\u001b[49m\u001b[38;5;241;43m*\u001b[39;49m\u001b[43margs\u001b[49m\u001b[43m,\u001b[49m\u001b[43m \u001b[49m\u001b[38;5;241;43m*\u001b[39;49m\u001b[38;5;241;43m*\u001b[39;49m\u001b[43mkwargs\u001b[49m\u001b[43m)\u001b[49m\n",
      "File \u001b[1;32mc:\\Users\\Johnk\\Documents\\PhD\\Quantum Computing Code\\Quantum-Computing\\.venv\\Lib\\site-packages\\pennylane\\workflow\\interfaces\\autograd.py:183\u001b[0m, in \u001b[0;36m_execute\u001b[1;34m(parameters, tapes, execute_fn, jpc)\u001b[0m\n\u001b[0;32m    165\u001b[0m \u001b[38;5;129m@autograd\u001b[39m\u001b[38;5;241m.\u001b[39mextend\u001b[38;5;241m.\u001b[39mprimitive\n\u001b[0;32m    166\u001b[0m \u001b[38;5;28;01mdef\u001b[39;00m\u001b[38;5;250m \u001b[39m\u001b[38;5;21m_execute\u001b[39m(\n\u001b[0;32m    167\u001b[0m     parameters,\n\u001b[1;32m   (...)\u001b[0m\n\u001b[0;32m    170\u001b[0m     jpc,\n\u001b[0;32m    171\u001b[0m ):  \u001b[38;5;66;03m# pylint: disable=unused-argument\u001b[39;00m\n\u001b[0;32m    172\u001b[0m \u001b[38;5;250m    \u001b[39m\u001b[38;5;124;03m\"\"\"Autodifferentiable wrapper around a way of executing tapes.\u001b[39;00m\n\u001b[0;32m    173\u001b[0m \n\u001b[0;32m    174\u001b[0m \u001b[38;5;124;03m    Args:\u001b[39;00m\n\u001b[1;32m   (...)\u001b[0m\n\u001b[0;32m    181\u001b[0m \n\u001b[0;32m    182\u001b[0m \u001b[38;5;124;03m    \"\"\"\u001b[39;00m\n\u001b[1;32m--> 183\u001b[0m     \u001b[38;5;28;01mreturn\u001b[39;00m _to_autograd(\u001b[43mexecute_fn\u001b[49m\u001b[43m(\u001b[49m\u001b[43mtapes\u001b[49m\u001b[43m)\u001b[49m)\n",
      "File \u001b[1;32mc:\\Users\\Johnk\\Documents\\PhD\\Quantum Computing Code\\Quantum-Computing\\.venv\\Lib\\site-packages\\pennylane\\workflow\\run.py:244\u001b[0m, in \u001b[0;36m_make_inner_execute.<locals>.inner_execute\u001b[1;34m(tapes)\u001b[0m\n\u001b[0;32m    235\u001b[0m \u001b[38;5;28;01mdef\u001b[39;00m\u001b[38;5;250m \u001b[39m\u001b[38;5;21minner_execute\u001b[39m(tapes: QuantumScriptBatch) \u001b[38;5;241m-\u001b[39m\u001b[38;5;241m>\u001b[39m ResultBatch:\n\u001b[0;32m    236\u001b[0m \u001b[38;5;250m    \u001b[39m\u001b[38;5;124;03m\"\"\"Execution that occurs within a ML framework boundary.\u001b[39;00m\n\u001b[0;32m    237\u001b[0m \n\u001b[0;32m    238\u001b[0m \u001b[38;5;124;03m    Closure Variables:\u001b[39;00m\n\u001b[1;32m   (...)\u001b[0m\n\u001b[0;32m    241\u001b[0m \u001b[38;5;124;03m        device (qml.devices.Device): a Pennylane device\u001b[39;00m\n\u001b[0;32m    242\u001b[0m \u001b[38;5;124;03m    \"\"\"\u001b[39;00m\n\u001b[1;32m--> 244\u001b[0m     transformed_tapes, transform_post_processing \u001b[38;5;241m=\u001b[39m \u001b[43minner_transform\u001b[49m\u001b[43m(\u001b[49m\u001b[43mtapes\u001b[49m\u001b[43m)\u001b[49m\n\u001b[0;32m    246\u001b[0m     \u001b[38;5;28;01mif\u001b[39;00m transformed_tapes:\n\u001b[0;32m    247\u001b[0m         results \u001b[38;5;241m=\u001b[39m device\u001b[38;5;241m.\u001b[39mexecute(transformed_tapes, execution_config\u001b[38;5;241m=\u001b[39mexecution_config)\n",
      "File \u001b[1;32mc:\\Users\\Johnk\\Documents\\PhD\\Quantum Computing Code\\Quantum-Computing\\.venv\\Lib\\site-packages\\pennylane\\transforms\\core\\transform_program.py:580\u001b[0m, in \u001b[0;36mTransformProgram.__call__\u001b[1;34m(self, tapes)\u001b[0m\n\u001b[0;32m    578\u001b[0m \u001b[38;5;28;01mif\u001b[39;00m argnums \u001b[38;5;129;01mis\u001b[39;00m \u001b[38;5;129;01mnot\u001b[39;00m \u001b[38;5;28;01mNone\u001b[39;00m:\n\u001b[0;32m    579\u001b[0m     tape\u001b[38;5;241m.\u001b[39mtrainable_params \u001b[38;5;241m=\u001b[39m argnums[j]\n\u001b[1;32m--> 580\u001b[0m new_tapes, fn \u001b[38;5;241m=\u001b[39m \u001b[43mtransform\u001b[49m\u001b[43m(\u001b[49m\u001b[43mtape\u001b[49m\u001b[43m,\u001b[49m\u001b[43m \u001b[49m\u001b[38;5;241;43m*\u001b[39;49m\u001b[43mtargs\u001b[49m\u001b[43m,\u001b[49m\u001b[43m \u001b[49m\u001b[38;5;241;43m*\u001b[39;49m\u001b[38;5;241;43m*\u001b[39;49m\u001b[43mtkwargs\u001b[49m\u001b[43m)\u001b[49m\n\u001b[0;32m    581\u001b[0m execution_tapes\u001b[38;5;241m.\u001b[39mextend(new_tapes)\n\u001b[0;32m    583\u001b[0m fns\u001b[38;5;241m.\u001b[39mappend(fn)\n",
      "File \u001b[1;32mc:\\Users\\Johnk\\Documents\\PhD\\Quantum Computing Code\\Quantum-Computing\\.venv\\Lib\\site-packages\\pennylane\\devices\\preprocess.py:538\u001b[0m, in \u001b[0;36mvalidate_measurements\u001b[1;34m(tape, analytic_measurements, sample_measurements, name)\u001b[0m\n\u001b[0;32m    536\u001b[0m     \u001b[38;5;28;01mfor\u001b[39;00m m \u001b[38;5;129;01min\u001b[39;00m chain(snapshot_measurements, tape\u001b[38;5;241m.\u001b[39mmeasurements):\n\u001b[0;32m    537\u001b[0m         \u001b[38;5;28;01mif\u001b[39;00m \u001b[38;5;129;01mnot\u001b[39;00m sample_measurements(m):\n\u001b[1;32m--> 538\u001b[0m             \u001b[38;5;28;01mraise\u001b[39;00m qml\u001b[38;5;241m.\u001b[39mDeviceError(\u001b[38;5;124mf\u001b[39m\u001b[38;5;124m\"\u001b[39m\u001b[38;5;124mMeasurement \u001b[39m\u001b[38;5;132;01m{\u001b[39;00mm\u001b[38;5;132;01m}\u001b[39;00m\u001b[38;5;124m not accepted with finite shots on \u001b[39m\u001b[38;5;132;01m{\u001b[39;00mname\u001b[38;5;132;01m}\u001b[39;00m\u001b[38;5;124m\"\u001b[39m)\n\u001b[0;32m    540\u001b[0m \u001b[38;5;28;01melse\u001b[39;00m:\n\u001b[0;32m    541\u001b[0m     \u001b[38;5;28;01mfor\u001b[39;00m m \u001b[38;5;129;01min\u001b[39;00m chain(snapshot_measurements, tape\u001b[38;5;241m.\u001b[39mmeasurements):\n",
      "\u001b[1;31mDeviceError\u001b[0m: Measurement state(wires=[0, 1, 2, 3]) not accepted with finite shots on default.qubit"
     ]
    }
   ],
   "source": [
    "bounds = [(0, 2 * np.pi) for _ in range(len(op_list))]\n",
    "\n",
    "# Generate Halton sequence\n",
    "num_dimensions = len(op_list)\n",
    "num_samples = popsize\n",
    "halton_sampler = Halton(d=num_dimensions)\n",
    "halton_samples = halton_sampler.random(n=num_samples)\n",
    "scaled_samples = 2 * np.pi * halton_samples\n",
    "\n",
    "#variables\n",
    "max_iter = 300\n",
    "strategy = \"randtobest1bin\"\n",
    "tol = 1e-6\n",
    "abs_tol = 1e-5\n",
    "popsize = 20\n",
    "\n",
    "print(\"Running for overlap\")\n",
    "overlap_res = differential_evolution(overlap_function,\n",
    "                                    bounds,\n",
    "                                    maxiter=max_iter,\n",
    "                                    tol=tol,\n",
    "                                    atol=abs_tol,\n",
    "                                    strategy=strategy,\n",
    "                                    popsize=popsize,\n",
    "                                    init=scaled_samples,\n",
    "                                    )"
   ]
  },
  {
   "cell_type": "code",
   "execution_count": 45,
   "metadata": {},
   "outputs": [
    {
     "data": {
      "text/plain": [
       "np.float64(0.10755863889768569)"
      ]
     },
     "execution_count": 45,
     "metadata": {},
     "output_type": "execute_result"
    }
   ],
   "source": [
    "overlap_res.fun"
   ]
  },
  {
   "cell_type": "code",
   "execution_count": 38,
   "metadata": {},
   "outputs": [],
   "source": [
    "dev = qml.device(\"default.qubit\", wires=num_qubits)\n",
    "@qml.qnode(dev)\n",
    "def energy_circuit(params):\n",
    "\n",
    "    qml.BasisState(basis_state, wires=range(num_qubits))\n",
    "    params_index = 0\n",
    "    for op in op_list:\n",
    "        if type(op) == qml.CZ:\n",
    "            qml.CZ(wires=op.wires)\n",
    "        else:\n",
    "            pauli_string = qml.pauli.pauli_word_to_string(op)\n",
    "            qml.PauliRot(params[params_index], pauli_string, wires=op.wires)\n",
    "            params_index += 1\n",
    "\n",
    "    return qml.expval(qml.Hermitian(H, wires=range(num_qubits)))"
   ]
  },
  {
   "cell_type": "code",
   "execution_count": 39,
   "metadata": {},
   "outputs": [
    {
     "data": {
      "text/plain": [
       "np.float64(8.067428176795758)"
      ]
     },
     "execution_count": 39,
     "metadata": {},
     "output_type": "execute_result"
    }
   ],
   "source": [
    "x0 = overlap_res.x\n",
    "#x0 = hf_res.x\n",
    "energy_circuit(x0)"
   ]
  },
  {
   "cell_type": "code",
   "execution_count": null,
   "metadata": {},
   "outputs": [],
   "source": []
  },
  {
   "cell_type": "code",
   "execution_count": 301,
   "metadata": {},
   "outputs": [],
   "source": [
    "data = {\"potential\": potential,\n",
    "        \"cutoff\": cutoff,\n",
    "        \"optimizer\": \"DE\",\n",
    "        \"num steps\": num_steps,\n",
    "        \"basis_state\": basis_state,\n",
    "        \"op_list\": [str(o) for o in op_list],\n",
    "        \"overlap\": overlap_res.fun,\n",
    "        \"hellinger\": hf_res.fun\n",
    "        }"
   ]
  },
  {
   "cell_type": "code",
   "execution_count": 302,
   "metadata": {},
   "outputs": [
    {
     "data": {
      "text/plain": [
       "{'potential': 'AHO',\n",
       " 'cutoff': 8,\n",
       " 'optimizer': 'DE',\n",
       " 'num steps': 5,\n",
       " 'basis_state': [1, 0, 0, 0],\n",
       " 'op_list': ['Y(2)'],\n",
       " 'overlap': np.float64(0.001074857629434267),\n",
       " 'hellinger': np.float64(0.0005375733072474631)}"
      ]
     },
     "execution_count": 302,
     "metadata": {},
     "output_type": "execute_result"
    }
   ],
   "source": [
    "data"
   ]
  },
  {
   "cell_type": "code",
   "execution_count": 303,
   "metadata": {},
   "outputs": [],
   "source": [
    "# Save the variable to a JSON file\n",
    "base_path = r\"C:\\Users\\Johnk\\Documents\\PhD\\Quantum Computing Code\\Quantum-Computing\\SUSY\\SUSY QM\\PennyLane\\ADAPT-VQE\\Files\\TimeEv\\\\\"\n",
    "os.makedirs(base_path, exist_ok=True)\n",
    "path = base_path + \"{}_{}.json\".format(potential, cutoff)\n",
    "with open(path, 'w') as json_file:\n",
    "    json.dump(data, json_file, indent=4)"
   ]
  },
  {
   "cell_type": "code",
   "execution_count": null,
   "metadata": {},
   "outputs": [],
   "source": []
  },
  {
   "cell_type": "code",
   "execution_count": null,
   "metadata": {},
   "outputs": [],
   "source": []
  },
  {
   "cell_type": "code",
   "execution_count": null,
   "metadata": {},
   "outputs": [],
   "source": []
  },
  {
   "cell_type": "code",
   "execution_count": 88,
   "metadata": {},
   "outputs": [
    {
     "name": "stdout",
     "output_type": "stream",
     "text": [
      "step: 0\n",
      "Min E: 21.835191043096877\n",
      "True\n",
      "Testing CZ pool\n",
      "step: 1\n",
      "Min E: 13.952265530952426\n",
      "True\n",
      "Testing CZ pool\n",
      "step: 2\n",
      "Min E: 12.930673281831922\n",
      "True\n",
      "Testing CZ pool\n",
      "step: 3\n",
      "Min E: 1.090499530121596\n",
      "True\n",
      "Testing CZ pool\n",
      "Adding CZ(wires=[3, 4]) reduces energy further\n",
      "Min E: 1.0337017717049055\n",
      "step: 4\n",
      "Min E: 0.9164451094702184\n",
      "True\n",
      "Testing CZ pool\n"
     ]
    }
   ],
   "source": [
    "#variables\n",
    "max_iter = 10000\n",
    "strategy = \"randtobest1bin\"\n",
    "tol = 1e-3\n",
    "atol = 1e-3\n",
    "popsize = 20\n",
    "\n",
    "num_steps = 5\n",
    "op_list = []\n",
    "op_params = []\n",
    "\n",
    "for i in range(num_steps):\n",
    "\n",
    "    print(f\"step: {i}\")\n",
    "\n",
    "    grad_list = []\n",
    "\n",
    "    for op in operator_pool:\n",
    "        grad = compute_grad(op, op_list, op_params)\n",
    "        grad_list.append(abs(grad))\n",
    "\n",
    "    maxidx = np.argmax(grad_list)\n",
    "    op_list.append(operator_pool[maxidx])\n",
    "\n",
    "    bounds = [(0, 2 * np.pi) for _ in range(len(op_list))]\n",
    "    res = differential_evolution(cost_function,\n",
    "                                    bounds,\n",
    "                                    args=(op_list,),\n",
    "                                    maxiter=max_iter,\n",
    "                                    tol=tol,\n",
    "                                    atol=atol,\n",
    "                                    strategy=strategy,\n",
    "                                    popsize=popsize\n",
    "                                    )\n",
    "    if i!=0: pre_min_e = min_e\n",
    "    min_e = res.fun\n",
    "    pre_op_params = op_params\n",
    "    op_params = res.x\n",
    "\n",
    "    print(f\"Min E: {min_e}\")\n",
    "    print(res.success)\n",
    "\n",
    "    print(\"Testing CZ pool\")\n",
    "    cz_e = []\n",
    "    for term in cz_pool:\n",
    "        energy = circuit(op_params, op_list, try_cz=True, cz_wires=term.wires)\n",
    "        cz_e.append(energy)\n",
    "\n",
    "    min_cz_e = cz_e[np.argmin(cz_e)]\n",
    "    min_cz_term = cz_pool[np.argmin(cz_e)]\n",
    "    if min_cz_e < min_e:\n",
    "        print(f\"Adding {min_cz_term} reduces energy further\")\n",
    "        op_list.append(min_cz_term)\n",
    "        min_e = min_cz_e\n",
    "        print(f\"Min E: {min_e}\")\n",
    "    \n",
    "    if i!=0:\n",
    "        if abs(pre_min_e - min_e) < 1e-8:\n",
    "            print(\"gradient converged\")\n",
    "            op_list.pop()\n",
    "            op_params = pre_op_params\n",
    "            break\n",
    "\n",
    "\n",
    "    "
   ]
  }
 ],
 "metadata": {
  "kernelspec": {
   "display_name": ".venv",
   "language": "python",
   "name": "python3"
  },
  "language_info": {
   "codemirror_mode": {
    "name": "ipython",
    "version": 3
   },
   "file_extension": ".py",
   "mimetype": "text/x-python",
   "name": "python",
   "nbconvert_exporter": "python",
   "pygments_lexer": "ipython3",
   "version": "3.13.1"
  }
 },
 "nbformat": 4,
 "nbformat_minor": 2
}
