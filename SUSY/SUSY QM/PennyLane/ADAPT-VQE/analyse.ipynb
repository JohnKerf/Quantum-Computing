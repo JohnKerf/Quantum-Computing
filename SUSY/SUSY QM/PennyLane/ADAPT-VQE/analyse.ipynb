{
 "cells": [
  {
   "cell_type": "code",
   "execution_count": 24,
   "metadata": {},
   "outputs": [],
   "source": [
    "import os\n",
    "import json\n",
    "\n",
    "import numpy as np\n",
    "import pennylane as qml"
   ]
  },
  {
   "cell_type": "code",
   "execution_count": 6,
   "metadata": {},
   "outputs": [],
   "source": [
    "folder_path = r\"C:\\Users\\Johnk\\Documents\\PhD\\Quantum Computing Code\\Quantum-Computing\\SUSY\\SUSY QM\\PennyLane\\ADAPT-VQE\\Files\\AHO\"\n",
    "file_paths = os.listdir(folder_path)"
   ]
  },
  {
   "cell_type": "code",
   "execution_count": 34,
   "metadata": {},
   "outputs": [
    {
     "data": {
      "text/plain": [
       "['AHO_16.json', 'AHO_2.json', 'AHO_4.json', 'AHO_8.json']"
      ]
     },
     "execution_count": 34,
     "metadata": {},
     "output_type": "execute_result"
    }
   ],
   "source": [
    "file_paths"
   ]
  },
  {
   "cell_type": "code",
   "execution_count": 67,
   "metadata": {},
   "outputs": [],
   "source": [
    "for path in file_paths:\n",
    "    data_path = os.path.join(folder_path,path)\n",
    "\n",
    "    with open(data_path, 'r') as file:\n",
    "            data = json.load(file)\n",
    "    \n",
    "    break"
   ]
  },
  {
   "cell_type": "code",
   "execution_count": 68,
   "metadata": {},
   "outputs": [
    {
     "data": {
      "text/plain": [
       "5"
      ]
     },
     "execution_count": 68,
     "metadata": {},
     "output_type": "execute_result"
    }
   ],
   "source": [
    "num_qubits = int(np.log2(data['cutoff'])) + 1\n",
    "num_qubits"
   ]
  },
  {
   "cell_type": "code",
   "execution_count": 69,
   "metadata": {},
   "outputs": [
    {
     "data": {
      "text/plain": [
       "-0.0011669756810460754"
      ]
     },
     "execution_count": 69,
     "metadata": {},
     "output_type": "execute_result"
    }
   ],
   "source": [
    "min_eigenvalue = min(data['exact_eigenvalues'])\n",
    "min_eigenvalue"
   ]
  },
  {
   "cell_type": "code",
   "execution_count": 70,
   "metadata": {},
   "outputs": [],
   "source": [
    "mask = []\n",
    "for d in data['min_energies']:\n",
    "    if abs(d - min_eigenvalue) < 1e-6:\n",
    "        mask.append(True)\n",
    "    else:\n",
    "        mask.append(False)\n"
   ]
  },
  {
   "cell_type": "code",
   "execution_count": 71,
   "metadata": {},
   "outputs": [],
   "source": [
    "min_ops = [op_list for op_list, keep in zip(data['op_list'], mask) if keep]\n",
    "min_ops = [eval(ops, {\"RY\": qml.RY, \"CRX\": qml.CRX, \"np\": np}) for ops in min_ops]"
   ]
  },
  {
   "cell_type": "code",
   "execution_count": 72,
   "metadata": {},
   "outputs": [
    {
     "data": {
      "text/plain": [
       "6"
      ]
     },
     "execution_count": 72,
     "metadata": {},
     "output_type": "execute_result"
    }
   ],
   "source": [
    "min_len = min([len(ops) for ops in min_ops])\n",
    "min_len"
   ]
  },
  {
   "cell_type": "code",
   "execution_count": 73,
   "metadata": {},
   "outputs": [
    {
     "data": {
      "text/plain": [
       "[[RY(np.float64(1.5707963267948966), wires=[1]),\n",
       "  CRX(1.5707963267948966, wires=[0, 1]),\n",
       "  RY(np.float64(1.5707963267948966), wires=[1]),\n",
       "  CRX(1.5707963267948966, wires=[0, 2]),\n",
       "  RY(np.float64(1.5707963267948966), wires=[2]),\n",
       "  RY(np.float64(1.5707963267948966), wires=[3])],\n",
       " [RY(np.float64(1.5707963267948966), wires=[1]),\n",
       "  CRX(1.5707963267948966, wires=[0, 1]),\n",
       "  RY(np.float64(1.5707963267948966), wires=[1]),\n",
       "  CRX(1.5707963267948966, wires=[0, 2]),\n",
       "  RY(np.float64(1.5707963267948966), wires=[2]),\n",
       "  RY(np.float64(1.5707963267948966), wires=[3])],\n",
       " [RY(np.float64(1.5707963267948966), wires=[1]),\n",
       "  CRX(1.5707963267948966, wires=[0, 1]),\n",
       "  RY(np.float64(1.5707963267948966), wires=[1]),\n",
       "  CRX(1.5707963267948966, wires=[0, 2]),\n",
       "  RY(np.float64(1.5707963267948966), wires=[2]),\n",
       "  RY(np.float64(1.5707963267948966), wires=[3])],\n",
       " [RY(np.float64(1.5707963267948966), wires=[1]),\n",
       "  CRX(1.5707963267948966, wires=[0, 1]),\n",
       "  RY(np.float64(1.5707963267948966), wires=[1]),\n",
       "  CRX(1.5707963267948966, wires=[0, 2]),\n",
       "  RY(np.float64(1.5707963267948966), wires=[2]),\n",
       "  RY(np.float64(1.5707963267948966), wires=[3])],\n",
       " [RY(np.float64(1.5707963267948966), wires=[1]),\n",
       "  CRX(1.5707963267948966, wires=[0, 1]),\n",
       "  RY(np.float64(1.5707963267948966), wires=[1]),\n",
       "  CRX(1.5707963267948966, wires=[0, 2]),\n",
       "  RY(np.float64(1.5707963267948966), wires=[2]),\n",
       "  RY(np.float64(1.5707963267948966), wires=[3])]]"
      ]
     },
     "execution_count": 73,
     "metadata": {},
     "output_type": "execute_result"
    }
   ],
   "source": [
    "reduced = [ops for ops in min_ops if len(ops) == min_len]\n",
    "reduced"
   ]
  },
  {
   "cell_type": "code",
   "execution_count": 74,
   "metadata": {},
   "outputs": [],
   "source": [
    "unique = []\n",
    "for op_list in reduced:\n",
    "    if op_list not in unique:\n",
    "        unique.append(op_list)"
   ]
  },
  {
   "cell_type": "code",
   "execution_count": 75,
   "metadata": {},
   "outputs": [
    {
     "data": {
      "text/plain": [
       "[[RY(np.float64(1.5707963267948966), wires=[1]),\n",
       "  CRX(1.5707963267948966, wires=[0, 1]),\n",
       "  RY(np.float64(1.5707963267948966), wires=[1]),\n",
       "  CRX(1.5707963267948966, wires=[0, 2]),\n",
       "  RY(np.float64(1.5707963267948966), wires=[2]),\n",
       "  RY(np.float64(1.5707963267948966), wires=[3])]]"
      ]
     },
     "execution_count": 75,
     "metadata": {},
     "output_type": "execute_result"
    }
   ],
   "source": [
    "unique"
   ]
  },
  {
   "cell_type": "code",
   "execution_count": 76,
   "metadata": {},
   "outputs": [],
   "source": [
    "# Define the device\n",
    "dev = qml.device(\"default.qubit\", wires=num_qubits)\n",
    "\n",
    "# Create the QNode\n",
    "@qml.qnode(dev)\n",
    "def circuit():\n",
    "    for op in unique[0]:\n",
    "        op.queue()\n",
    "    return qml.state()\n",
    "\n"
   ]
  },
  {
   "cell_type": "code",
   "execution_count": 78,
   "metadata": {},
   "outputs": [
    {
     "data": {
      "text/plain": [
       "'0: ───────────╭●──────────────────╭●──────────────────┤  State\\n1: ──RY(1.57)─╰RX(1.57)──RY(1.57)─│───────────────────┤  State\\n2: ───────────────────────────────╰RX(1.57)──RY(1.57)─┤  State\\n3: ──RY(1.57)─────────────────────────────────────────┤  State'"
      ]
     },
     "execution_count": 78,
     "metadata": {},
     "output_type": "execute_result"
    }
   ],
   "source": [
    "qml.draw(circuit)()"
   ]
  },
  {
   "cell_type": "code",
   "execution_count": 77,
   "metadata": {},
   "outputs": [
    {
     "name": "stdout",
     "output_type": "stream",
     "text": [
      "0: ───────────╭●──────────────────╭●──────────────────┤  State\n",
      "1: ──RY(1.57)─╰RX(1.57)──RY(1.57)─│───────────────────┤  State\n",
      "2: ───────────────────────────────╰RX(1.57)──RY(1.57)─┤  State\n",
      "3: ──RY(1.57)─────────────────────────────────────────┤  State\n"
     ]
    }
   ],
   "source": [
    "print(qml.draw(circuit)())"
   ]
  },
  {
   "cell_type": "code",
   "execution_count": null,
   "metadata": {},
   "outputs": [],
   "source": []
  }
 ],
 "metadata": {
  "kernelspec": {
   "display_name": ".venv",
   "language": "python",
   "name": "python3"
  },
  "language_info": {
   "codemirror_mode": {
    "name": "ipython",
    "version": 3
   },
   "file_extension": ".py",
   "mimetype": "text/x-python",
   "name": "python",
   "nbconvert_exporter": "python",
   "pygments_lexer": "ipython3",
   "version": "3.13.1"
  }
 },
 "nbformat": 4,
 "nbformat_minor": 2
}
