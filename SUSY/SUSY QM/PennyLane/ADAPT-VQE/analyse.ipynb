{
 "cells": [
  {
   "cell_type": "code",
   "execution_count": 1,
   "metadata": {},
   "outputs": [],
   "source": [
    "import os\n",
    "import json\n",
    "\n",
    "import numpy as np\n",
    "import pennylane as qml"
   ]
  },
  {
   "cell_type": "code",
   "execution_count": 54,
   "metadata": {},
   "outputs": [],
   "source": [
    "folder_path = r\"C:\\Users\\Johnk\\Documents\\PhD\\Quantum Computing Code\\Quantum-Computing\\SUSY\\SUSY QM\\PennyLane\\ADAPT-VQE\\Files\\AHO\"\n",
    "file_paths = os.listdir(folder_path)"
   ]
  },
  {
   "cell_type": "code",
   "execution_count": 55,
   "metadata": {},
   "outputs": [
    {
     "data": {
      "text/plain": [
       "['AHO_16.json', 'AHO_32.json', 'AHO_8.json']"
      ]
     },
     "execution_count": 55,
     "metadata": {},
     "output_type": "execute_result"
    }
   ],
   "source": [
    "file_paths"
   ]
  },
  {
   "cell_type": "code",
   "execution_count": 56,
   "metadata": {},
   "outputs": [
    {
     "name": "stdout",
     "output_type": "stream",
     "text": [
      "Finding optimal circuit for AHO - cutoff 16\n",
      "Finding optimal circuit for AHO - cutoff 32\n",
      "Finding optimal circuit for AHO - cutoff 8\n"
     ]
    }
   ],
   "source": [
    "for path in file_paths:\n",
    "\n",
    "    data_path = os.path.join(folder_path,path)\n",
    "    data_dict = {}\n",
    "\n",
    "    with open(data_path, 'r') as file:\n",
    "            data = json.load(file)\n",
    "\n",
    "    cutoff = data['cutoff']\n",
    "    potential = data['potential']\n",
    "\n",
    "    print(f\"Finding optimal circuit for {potential} - cutoff {cutoff}\")\n",
    "\n",
    "    num_qubits = int(np.log2(cutoff)) + 1\n",
    "    min_eigenvalue = min(data['exact_eigenvalues'])\n",
    "\n",
    "    # Only consider data that has converge to min energy\n",
    "    mask = []\n",
    "    for d in data['min_energies']:\n",
    "        if abs(d - min_eigenvalue) < 1e-6:\n",
    "            mask.append(True)\n",
    "        else:\n",
    "            mask.append(False)\n",
    "\n",
    "    # Clean and prepare circuit data\n",
    "    d_ops = [op.replace('))',')') for op in data['op_list']]\n",
    "    min_ops = [op_list for op_list, keep in zip(d_ops, mask) if keep]\n",
    "    min_ops = [eval(ops, {\"RY\": qml.RY, \"CRX\": qml.CRX, \"CRY\": qml.CRY, \"np\": np}) for ops in min_ops]\n",
    "\n",
    "    # Find op list with minimum number of gates\n",
    "    min_len = min([len(ops) for ops in min_ops])\n",
    "    reduced = [ops for ops in min_ops if len(ops) == min_len]\n",
    "\n",
    "    # Take the unique circuits\n",
    "    unique = []\n",
    "    for op_list in reduced:\n",
    "        if op_list not in unique:\n",
    "            unique.append(op_list)\n",
    "\n",
    "    data_dict['potential'] = potential\n",
    "    data_dict['cutoff'] = cutoff\n",
    "    data_dict['circuits'] = str(unique)\n",
    "\n",
    "    file_path = os.path.join(folder_path, f\"data_{cutoff}.txt\")\n",
    "\n",
    "   \n",
    "    with open(file_path, \"w\") as file:\n",
    "        json.dump(data_dict, file, indent=4)\n",
    "\n",
    "\n",
    "    # Define the device\n",
    "    dev = qml.device(\"default.qubit\", wires=num_qubits)\n",
    "    basis_state = data['basis_state']\n",
    "\n",
    "    for i in range(len(unique)):\n",
    "    \n",
    "        @qml.qnode(dev)\n",
    "        def circuit():\n",
    "\n",
    "            qml.BasisState(basis_state, wires=range(num_qubits))\n",
    "\n",
    "            for op in unique[i]:\n",
    "                op.queue()\n",
    "            return qml.state()\n",
    "        \n",
    "        circuit_diagram = qml.draw(circuit)()\n",
    "\n",
    "        with open(file_path, \"a\", encoding=\"utf-8\") as file:\n",
    "            file.write(\"\\n###############################\\n\")\n",
    "            file.write(circuit_diagram)\n",
    "            file.write(\"\\n###############################\\n\")\n",
    "\n",
    "\n"
   ]
  },
  {
   "cell_type": "code",
   "execution_count": null,
   "metadata": {},
   "outputs": [],
   "source": []
  }
 ],
 "metadata": {
  "kernelspec": {
   "display_name": ".venv",
   "language": "python",
   "name": "python3"
  },
  "language_info": {
   "codemirror_mode": {
    "name": "ipython",
    "version": 3
   },
   "file_extension": ".py",
   "mimetype": "text/x-python",
   "name": "python",
   "nbconvert_exporter": "python",
   "pygments_lexer": "ipython3",
   "version": "3.13.1"
  }
 },
 "nbformat": 4,
 "nbformat_minor": 2
}
