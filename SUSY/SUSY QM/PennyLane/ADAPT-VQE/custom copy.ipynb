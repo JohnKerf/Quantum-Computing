{
 "cells": [
  {
   "cell_type": "code",
   "execution_count": 1,
   "metadata": {},
   "outputs": [],
   "source": [
    "# PennyLane imports\n",
    "import pennylane as qml\n",
    "from pennylane import numpy as pnp\n",
    "\n",
    "# General imports\n",
    "import numpy as np\n",
    "\n",
    "from qiskit.quantum_info import SparsePauliOp\n",
    "\n",
    "# custom module\n",
    "from susy_qm import calculate_Hamiltonian\n",
    "\n",
    "from scipy.optimize import minimize, differential_evolution\n",
    "from scipy.stats.qmc import Halton\n",
    "\n",
    "import json\n",
    "import os"
   ]
  },
  {
   "cell_type": "code",
   "execution_count": 54,
   "metadata": {},
   "outputs": [],
   "source": [
    "potential = 'DW'\n",
    "cutoff = 16\n",
    "shots = None#'1024"
   ]
  },
  {
   "cell_type": "code",
   "execution_count": 55,
   "metadata": {},
   "outputs": [],
   "source": [
    "#calculate Hamiltonian and expected eigenvalues\n",
    "H = calculate_Hamiltonian(cutoff, potential)\n",
    "eigenvalues = np.sort(np.linalg.eig(H)[0])\n",
    "min_eigenvalue = min(eigenvalues.real)\n",
    "\n",
    "#create qiskit Hamiltonian Pauli string\n",
    "hamiltonian = SparsePauliOp.from_operator(H)\n",
    "num_qubits = hamiltonian.num_qubits"
   ]
  },
  {
   "cell_type": "code",
   "execution_count": 56,
   "metadata": {},
   "outputs": [
    {
     "data": {
      "text/plain": [
       "np.float64(0.8915993623272539)"
      ]
     },
     "execution_count": 56,
     "metadata": {},
     "output_type": "execute_result"
    }
   ],
   "source": [
    "min_eigenvalue"
   ]
  },
  {
   "cell_type": "code",
   "execution_count": 57,
   "metadata": {},
   "outputs": [],
   "source": [
    "cnot_pool = []\n",
    "cz_pool = []\n",
    "\n",
    "for control in range(num_qubits):\n",
    "        for target in range(num_qubits):\n",
    "            if control != target:\n",
    "                cnot_pool.append(qml.CNOT(wires=[control, target]))\n",
    "                cz_pool.append(qml.CZ(wires=[control, target]))"
   ]
  },
  {
   "cell_type": "code",
   "execution_count": 58,
   "metadata": {},
   "outputs": [],
   "source": [
    "RY_pool = [qml.RY(0.0, wires=x) for x in range(num_qubits)]\n",
    "RZ_pool = [qml.RZ(0.0, wires=x) for x in range(num_qubits)]\n",
    "RX_pool = [qml.RX(0.0, wires=x) for x in range(num_qubits)]\n",
    "operator_pool = cz_pool + RY_pool + RZ_pool + RX_pool"
   ]
  },
  {
   "cell_type": "code",
   "execution_count": 59,
   "metadata": {},
   "outputs": [
    {
     "data": {
      "text/plain": [
       "[CZ(wires=[0, 1]),\n",
       " CZ(wires=[0, 2]),\n",
       " CZ(wires=[0, 3]),\n",
       " CZ(wires=[0, 4]),\n",
       " CZ(wires=[1, 0]),\n",
       " CZ(wires=[1, 2]),\n",
       " CZ(wires=[1, 3]),\n",
       " CZ(wires=[1, 4]),\n",
       " CZ(wires=[2, 0]),\n",
       " CZ(wires=[2, 1]),\n",
       " CZ(wires=[2, 3]),\n",
       " CZ(wires=[2, 4]),\n",
       " CZ(wires=[3, 0]),\n",
       " CZ(wires=[3, 1]),\n",
       " CZ(wires=[3, 2]),\n",
       " CZ(wires=[3, 4]),\n",
       " CZ(wires=[4, 0]),\n",
       " CZ(wires=[4, 1]),\n",
       " CZ(wires=[4, 2]),\n",
       " CZ(wires=[4, 3]),\n",
       " RY(0.0, wires=[0]),\n",
       " RY(0.0, wires=[1]),\n",
       " RY(0.0, wires=[2]),\n",
       " RY(0.0, wires=[3]),\n",
       " RY(0.0, wires=[4]),\n",
       " RZ(0.0, wires=[0]),\n",
       " RZ(0.0, wires=[1]),\n",
       " RZ(0.0, wires=[2]),\n",
       " RZ(0.0, wires=[3]),\n",
       " RZ(0.0, wires=[4]),\n",
       " RX(0.0, wires=[0]),\n",
       " RX(0.0, wires=[1]),\n",
       " RX(0.0, wires=[2]),\n",
       " RX(0.0, wires=[3]),\n",
       " RX(0.0, wires=[4])]"
      ]
     },
     "execution_count": 59,
     "metadata": {},
     "output_type": "execute_result"
    }
   ],
   "source": [
    "operator_pool"
   ]
  },
  {
   "cell_type": "code",
   "execution_count": 60,
   "metadata": {},
   "outputs": [],
   "source": [
    "dev = qml.device(\"default.qubit\", wires=num_qubits, shots=shots)\n",
    "\n",
    "@qml.qnode(dev)\n",
    "def circuit(params, trial_op, op_list):\n",
    "\n",
    "    if len(op_list) > 0:\n",
    "        for o, p, w, _ in op_list:\n",
    "            if (o == qml.CNOT) | (o == qml.CZ):\n",
    "                o(wires=w)\n",
    "            else:\n",
    "                o(p, wires=w)\n",
    "\n",
    "    op = type(trial_op)\n",
    "\n",
    "    if (type(trial_op) == qml.CNOT) | (type(trial_op) == qml.CZ):\n",
    "        op(wires=trial_op.wires)\n",
    "    else:\n",
    "        op(params, wires=trial_op.wires)\n",
    "\n",
    "    return qml.expval(qml.Hermitian(H, wires=range(num_qubits)))"
   ]
  },
  {
   "cell_type": "code",
   "execution_count": 61,
   "metadata": {},
   "outputs": [],
   "source": [
    "def cost_function(params, trial_op, op_list):\n",
    "    \n",
    "    params = pnp.tensor(params, requires_grad=True)\n",
    "    energy = circuit(params, trial_op, op_list)\n",
    "\n",
    "    return energy"
   ]
  },
  {
   "cell_type": "code",
   "execution_count": 62,
   "metadata": {},
   "outputs": [
    {
     "name": "stdout",
     "output_type": "stream",
     "text": [
      "step: 0\n",
      "Min energy: 1.0939110867588582\n",
      "step: 1\n",
      "Min energy: 1.0919837656605664\n",
      "step: 2\n",
      "Min energy: 1.052433979371373\n",
      "step: 3\n",
      "Min energy: 1.04932439201529\n",
      "step: 4\n",
      "Min energy: 1.047214352880776\n",
      "step: 5\n",
      "Min energy: 1.045867830098561\n",
      "step: 6\n",
      "Min energy: 1.0457705409701377\n",
      "Converged\n"
     ]
    }
   ],
   "source": [
    "num_steps = 10\n",
    "\n",
    "x0 = np.random.rand()\n",
    "bounds = [(0, 2 * np.pi) for _ in range(3)]\n",
    "\n",
    "#variables\n",
    "max_iter = 1000\n",
    "strategy = \"randtobest1bin\"\n",
    "tol = 1e-2\n",
    "abs_tol = 1e-2\n",
    "popsize = 20\n",
    "\n",
    "# Generate Halton sequence\n",
    "num_dimensions = np.prod(3)\n",
    "num_samples = popsize\n",
    "halton_sampler = Halton(d=num_dimensions)\n",
    "halton_samples = halton_sampler.random(n=num_samples)\n",
    "scaled_samples = 2 * np.pi * halton_samples\n",
    "\n",
    "op_list = []\n",
    "\n",
    "for i in range(num_steps):\n",
    "\n",
    "    print(f\"step: {i}\")\n",
    "\n",
    "    energies = []\n",
    "    e_params = []\n",
    "\n",
    "    for trial_op in operator_pool:\n",
    "\n",
    "        res = minimize(\n",
    "                cost_function,\n",
    "                x0,\n",
    "                args=(trial_op, op_list),\n",
    "                method= \"COBYLA\",\n",
    "                options= {'maxiter':1000, 'tol': 1e-6}\n",
    "            )\n",
    "        '''\n",
    "        res = differential_evolution(cost_function,\n",
    "                                    bounds,\n",
    "                                    args=(trial_op, op_list),\n",
    "                                    maxiter=max_iter,\n",
    "                                    tol=tol,\n",
    "                                    atol=abs_tol,\n",
    "                                    strategy=strategy,\n",
    "                                    popsize=popsize,\n",
    "                                    init=scaled_samples\n",
    "                                    )\n",
    "        '''\n",
    "        energies.append(res.fun)\n",
    "        e_params.append(res.x)\n",
    "\n",
    "    min_arg = np.argmin(energies)\n",
    "    min_energy = energies[min_arg]\n",
    "    print(f\"Min energy: {min_energy}\")\n",
    "\n",
    "    min_op = type(operator_pool[min_arg])\n",
    "    min_wires = operator_pool[min_arg].wires\n",
    "    min_params = e_params[min_arg]\n",
    "\n",
    "    if (i != 0):\n",
    "        if np.abs(min_energy - op_list[-1][3]) < 1e-4:\n",
    "            print(\"Converged\")\n",
    "            break\n",
    "\n",
    "    if (i == 0):\n",
    "        op_list.append((min_op, min_params, min_wires, min_energy))\n",
    "\n",
    "    elif (i != 0) & (min_energy <= op_list[-1][3]):\n",
    "        op_list.append((min_op, min_params, min_wires, min_energy))\n",
    "\n",
    "    "
   ]
  },
  {
   "cell_type": "code",
   "execution_count": 63,
   "metadata": {},
   "outputs": [
    {
     "data": {
      "text/plain": [
       "[(pennylane.ops.qubit.parametric_ops_single_qubit.RY,\n",
       "  array([-0.95531832]),\n",
       "  Wires([4]),\n",
       "  np.float64(1.0939110867588582)),\n",
       " (pennylane.ops.qubit.parametric_ops_single_qubit.RY,\n",
       "  array([0.04068397]),\n",
       "  Wires([3]),\n",
       "  np.float64(1.0919837656605664)),\n",
       " (pennylane.ops.op_math.controlled_ops.CZ,\n",
       "  array([0.92364615]),\n",
       "  Wires([3, 4]),\n",
       "  np.float64(1.052433979371373)),\n",
       " (pennylane.ops.qubit.parametric_ops_single_qubit.RY,\n",
       "  array([-0.02957331]),\n",
       "  Wires([2]),\n",
       "  np.float64(1.04932439201529)),\n",
       " (pennylane.ops.qubit.parametric_ops_single_qubit.RY,\n",
       "  array([-0.03716637]),\n",
       "  Wires([4]),\n",
       "  np.float64(1.047214352880776)),\n",
       " (pennylane.ops.qubit.parametric_ops_single_qubit.RY,\n",
       "  array([0.03449162]),\n",
       "  Wires([3]),\n",
       "  np.float64(1.045867830098561))]"
      ]
     },
     "execution_count": 63,
     "metadata": {},
     "output_type": "execute_result"
    }
   ],
   "source": [
    "op_list"
   ]
  },
  {
   "cell_type": "code",
   "execution_count": 64,
   "metadata": {},
   "outputs": [],
   "source": [
    "last_operator = {}\n",
    "reduced_op_list = []\n",
    "num_params = 0\n",
    "\n",
    "for o, p, w, _ in op_list:\n",
    "\n",
    "    if w[0] in last_operator.keys():\n",
    "        if last_operator[w[0]] == o:\n",
    "            print(\"Operator already added previously... skipping\")\n",
    "            continue\n",
    "\n",
    "    if o == qml.CNOT:\n",
    "        last_operator[w[0]] = o\n",
    "        last_operator[w[1]] = o\n",
    "        reduced_op_list.append((\"CNOT\", w.tolist()))\n",
    "\n",
    "    elif o == qml.CZ:\n",
    "        last_operator[w[0]] = o\n",
    "        last_operator[w[1]] = o\n",
    "        reduced_op_list.append((\"CZ\",w.tolist()))\n",
    "\n",
    "    elif o == qml.RY:\n",
    "        last_operator[w[0]] = o\n",
    "        reduced_op_list.append((\"RY\",w.tolist()))\n",
    "        num_params+=1\n",
    "\n",
    "    elif o == qml.RZ:\n",
    "        last_operator[w[0]] = o\n",
    "        reduced_op_list.append((\"RZ\",w.tolist()))\n",
    "        num_params+=1\n",
    "\n",
    "    elif o == qml.RX:\n",
    "        last_operator[w[0]] = o\n",
    "        reduced_op_list.append((\"RX\",w.tolist()))\n",
    "        num_params+=1"
   ]
  },
  {
   "cell_type": "code",
   "execution_count": 65,
   "metadata": {},
   "outputs": [
    {
     "data": {
      "text/plain": [
       "[('RY', [4]),\n",
       " ('RY', [3]),\n",
       " ('CZ', [3, 4]),\n",
       " ('RY', [2]),\n",
       " ('RY', [4]),\n",
       " ('RY', [3])]"
      ]
     },
     "execution_count": 65,
     "metadata": {},
     "output_type": "execute_result"
    }
   ],
   "source": [
    "reduced_op_list"
   ]
  },
  {
   "cell_type": "code",
   "execution_count": 66,
   "metadata": {},
   "outputs": [],
   "source": [
    "data = {\"potential\": potential,\n",
    "        \"cutoff\": cutoff,\n",
    "        \"optimizer\": \"COBYLA\",\n",
    "        \"num steps\": num_steps,\n",
    "        \"op_list\": [str(x) for x in op_list],\n",
    "        \"reduced_op_list\": reduced_op_list,\n",
    "        \"num_params\": num_params}"
   ]
  },
  {
   "cell_type": "code",
   "execution_count": 67,
   "metadata": {},
   "outputs": [
    {
     "data": {
      "text/plain": [
       "{'potential': 'DW',\n",
       " 'cutoff': 16,\n",
       " 'optimizer': 'COBYLA',\n",
       " 'num steps': 10,\n",
       " 'op_list': [\"(<class 'pennylane.ops.qubit.parametric_ops_single_qubit.RY'>, array([-0.95531832]), Wires([4]), np.float64(1.0939110867588582))\",\n",
       "  \"(<class 'pennylane.ops.qubit.parametric_ops_single_qubit.RY'>, array([0.04068397]), Wires([3]), np.float64(1.0919837656605664))\",\n",
       "  \"(<class 'pennylane.ops.op_math.controlled_ops.CZ'>, array([0.92364615]), Wires([3, 4]), np.float64(1.052433979371373))\",\n",
       "  \"(<class 'pennylane.ops.qubit.parametric_ops_single_qubit.RY'>, array([-0.02957331]), Wires([2]), np.float64(1.04932439201529))\",\n",
       "  \"(<class 'pennylane.ops.qubit.parametric_ops_single_qubit.RY'>, array([-0.03716637]), Wires([4]), np.float64(1.047214352880776))\",\n",
       "  \"(<class 'pennylane.ops.qubit.parametric_ops_single_qubit.RY'>, array([0.03449162]), Wires([3]), np.float64(1.045867830098561))\"],\n",
       " 'reduced_op_list': [('RY', [4]),\n",
       "  ('RY', [3]),\n",
       "  ('CZ', [3, 4]),\n",
       "  ('RY', [2]),\n",
       "  ('RY', [4]),\n",
       "  ('RY', [3])],\n",
       " 'num_params': 5}"
      ]
     },
     "execution_count": 67,
     "metadata": {},
     "output_type": "execute_result"
    }
   ],
   "source": [
    "data"
   ]
  },
  {
   "cell_type": "code",
   "execution_count": 72,
   "metadata": {},
   "outputs": [],
   "source": [
    "params = np.random.uniform(0, 2 * np.pi, size=num_params)\n",
    "\n",
    "dev = qml.device(\"default.qubit\", wires=num_qubits)\n",
    "\n",
    "@qml.qnode(dev)\n",
    "def construct_ansatz(reduced_op_list, params):\n",
    "\n",
    "    params_index = 0\n",
    "\n",
    "    for o, w in reduced_op_list:\n",
    "        if o == \"CNOT\":\n",
    "            qml.CNOT(wires=w)\n",
    "        elif o == \"CZ\":\n",
    "            qml.CZ(wires=w)\n",
    "        elif o == \"RY\":\n",
    "            qml.RY(params[params_index], wires=w)\n",
    "            params_index +=1\n",
    "\n",
    "    return qml.expval(qml.Hermitian(H, wires=range(num_qubits)))"
   ]
  },
  {
   "cell_type": "code",
   "execution_count": 73,
   "metadata": {},
   "outputs": [
    {
     "name": "stdout",
     "output_type": "stream",
     "text": [
      "0: ────────────────────────┤ ╭<𝓗(M0)>\n",
      "1: ────────────────────────┤ ├<𝓗(M0)>\n",
      "2: ──RY(2.76)──────────────┤ ├<𝓗(M0)>\n",
      "3: ──RY(5.07)─╭●──RY(4.80)─┤ ├<𝓗(M0)>\n",
      "4: ──RY(2.32)─╰Z──RY(6.18)─┤ ╰<𝓗(M0)>\n"
     ]
    }
   ],
   "source": [
    "print(qml.draw(construct_ansatz, show_matrices=False)(reduced_op_list, params))"
   ]
  },
  {
   "cell_type": "code",
   "execution_count": 75,
   "metadata": {},
   "outputs": [],
   "source": [
    "# Save the variable to a JSON file\n",
    "base_path = r\"C:\\Users\\johnkerf\\Desktop\\Quantum-Computing\\Quantum-Computing\\SUSY\\SUSY QM\\PennyLane\\ADAPT-VQE\\NoRotFiles\\\\\"\n",
    "os.makedirs(base_path, exist_ok=True)\n",
    "\n",
    "cd = qml.draw(construct_ansatz, show_matrices=False)(reduced_op_list, params)\n",
    "\n",
    "path = base_path + \"cd_{}_{}.txt\".format(potential, cutoff)\n",
    "with open(path, 'w', encoding='utf-8') as f:\n",
    "    f.write(cd)"
   ]
  },
  {
   "cell_type": "code",
   "execution_count": 76,
   "metadata": {},
   "outputs": [],
   "source": [
    "# Save the variable to a JSON file\n",
    "base_path = r\"C:\\Users\\johnkerf\\Desktop\\Quantum-Computing\\Quantum-Computing\\SUSY\\SUSY QM\\PennyLane\\ADAPT-VQE\\NoRotFiles\\\\\"\n",
    "#base_path = r\"C:\\Users\\Johnk\\Documents\\PhD\\Quantum Computing Code\\Quantum-Computing\\SUSY\\SUSY QM\\PennyLane\\ADAPT-VQE\\Files\\\\\"\n",
    "os.makedirs(base_path, exist_ok=True)\n",
    "path = base_path + \"{}_{}.json\".format(potential, cutoff)\n",
    "with open(path, 'w') as json_file:\n",
    "    json.dump(data, json_file, indent=4)"
   ]
  },
  {
   "cell_type": "code",
   "execution_count": 52,
   "metadata": {},
   "outputs": [
    {
     "data": {
      "text/plain": [
       "[('Rot', [5]),\n",
       " ('Rot', [4]),\n",
       " ('CZ', [4, 5]),\n",
       " ('Rot', [5]),\n",
       " ('Rot', [3]),\n",
       " ('Rot', [4]),\n",
       " ('CZ', [3, 4]),\n",
       " ('Rot', [3])]"
      ]
     },
     "execution_count": 52,
     "metadata": {},
     "output_type": "execute_result"
    }
   ],
   "source": [
    "reduced_op_list"
   ]
  },
  {
   "cell_type": "code",
   "execution_count": 254,
   "metadata": {},
   "outputs": [
    {
     "data": {
      "text/plain": [
       "(1, 5, 3)"
      ]
     },
     "execution_count": 254,
     "metadata": {},
     "output_type": "execute_result"
    }
   ],
   "source": [
    "qml.StronglyEntanglingLayers.shape(n_layers=1, n_wires=num_qubits)"
   ]
  },
  {
   "cell_type": "code",
   "execution_count": null,
   "metadata": {},
   "outputs": [],
   "source": []
  },
  {
   "cell_type": "code",
   "execution_count": null,
   "metadata": {},
   "outputs": [],
   "source": []
  },
  {
   "cell_type": "code",
   "execution_count": null,
   "metadata": {},
   "outputs": [],
   "source": []
  },
  {
   "cell_type": "code",
   "execution_count": null,
   "metadata": {},
   "outputs": [],
   "source": []
  },
  {
   "cell_type": "code",
   "execution_count": null,
   "metadata": {},
   "outputs": [],
   "source": []
  },
  {
   "cell_type": "code",
   "execution_count": 39,
   "metadata": {},
   "outputs": [
    {
     "name": "stdout",
     "output_type": "stream",
     "text": [
      "Operator already added previously... skipping\n",
      "Operator already added previously... skipping\n"
     ]
    }
   ],
   "source": [
    "last_operator = {}\n",
    "reduced_op_list = []\n",
    "num_params = 0\n",
    "\n",
    "for o, p, w, _ in op_list:\n",
    "\n",
    "    if (o == qml.CNOT) | (o == qml.CZ):\n",
    "        last_operator[w[0]] = o\n",
    "        last_operator[w[1]] = o\n",
    "        reduced_op_list.append((o,w))\n",
    "\n",
    "    elif w[0] in last_operator.keys():\n",
    "        if last_operator[w[0]] == o:\n",
    "            print(\"Operator already added previously... skipping\")\n",
    "            continue\n",
    "        else:\n",
    "            last_operator[w[0]] = o\n",
    "            reduced_op_list.append((o,w))\n",
    "            num_params = num_params + 3\n",
    "    else:\n",
    "        last_operator[w[0]] = o\n",
    "        reduced_op_list.append((o,w))\n",
    "        num_params = num_params + 3"
   ]
  },
  {
   "cell_type": "code",
   "execution_count": 47,
   "metadata": {},
   "outputs": [],
   "source": [
    "params = np.random.uniform(0, 2 * np.pi, size=num_params)\n",
    "\n",
    "dev = qml.device(\"default.qubit\", wires=num_qubits)\n",
    "\n",
    "@qml.qnode(dev)\n",
    "def construct_ansatz(reduced_op_list, params):\n",
    "\n",
    "    params_index = 0\n",
    "\n",
    "    for i, (o, w) in enumerate(reduced_op_list):\n",
    "        if (o == qml.CNOT) | (o == qml.CZ):\n",
    "            o(wires=w)\n",
    "        else:\n",
    "            num_gate_params = o.num_params\n",
    "            o(*params[params_index:(params_index + num_gate_params)], wires=w)\n",
    "            params_index = params_index + num_gate_params\n",
    "\n",
    "    return qml.expval(qml.Hermitian(H, wires=range(num_qubits)))"
   ]
  }
 ],
 "metadata": {
  "kernelspec": {
   "display_name": ".venv",
   "language": "python",
   "name": "python3"
  },
  "language_info": {
   "codemirror_mode": {
    "name": "ipython",
    "version": 3
   },
   "file_extension": ".py",
   "mimetype": "text/x-python",
   "name": "python",
   "nbconvert_exporter": "python",
   "pygments_lexer": "ipython3",
   "version": "3.10.0"
  }
 },
 "nbformat": 4,
 "nbformat_minor": 2
}
