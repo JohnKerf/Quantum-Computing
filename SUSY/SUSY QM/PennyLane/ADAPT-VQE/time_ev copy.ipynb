{
 "cells": [
  {
   "cell_type": "code",
   "execution_count": 1,
   "metadata": {},
   "outputs": [],
   "source": [
    "import pennylane as qml\n",
    "from pennylane import numpy as pnp\n",
    "import numpy as np\n",
    "from qiskit.quantum_info import SparsePauliOp\n",
    "from qiskit.circuit.library import PauliEvolutionGate\n",
    "from scipy.optimize import minimize, differential_evolution\n",
    "import os\n",
    "import json\n",
    "from susy_qm import calculate_Hamiltonian"
   ]
  },
  {
   "cell_type": "code",
   "execution_count": 40,
   "metadata": {},
   "outputs": [],
   "source": [
    "potential = 'AHO'\n",
    "cutoff = 8\n",
    "shots = None"
   ]
  },
  {
   "cell_type": "code",
   "execution_count": 41,
   "metadata": {},
   "outputs": [],
   "source": [
    "#calculate Hamiltonian and expected eigenvalues\n",
    "H = calculate_Hamiltonian(cutoff, potential)\n",
    "eigenvalues = np.sort(np.linalg.eig(H)[0])\n",
    "min_eigenvalue = min(eigenvalues.real)\n",
    "\n",
    "#create qiskit Hamiltonian Pauli string\n",
    "hamiltonian = SparsePauliOp.from_operator(H)\n",
    "num_qubits = hamiltonian.num_qubits"
   ]
  },
  {
   "cell_type": "code",
   "execution_count": 42,
   "metadata": {},
   "outputs": [
    {
     "data": {
      "text/plain": [
       "4"
      ]
     },
     "execution_count": 42,
     "metadata": {},
     "output_type": "execute_result"
    }
   ],
   "source": [
    "num_qubits"
   ]
  },
  {
   "cell_type": "code",
   "execution_count": 43,
   "metadata": {},
   "outputs": [
    {
     "data": {
      "text/plain": [
       "np.float64(0.03201011000923872)"
      ]
     },
     "execution_count": 43,
     "metadata": {},
     "output_type": "execute_result"
    }
   ],
   "source": [
    "min_eigenvalue"
   ]
  },
  {
   "cell_type": "code",
   "execution_count": 44,
   "metadata": {},
   "outputs": [],
   "source": [
    "HP = qml.pauli_decompose(H)"
   ]
  },
  {
   "cell_type": "code",
   "execution_count": 45,
   "metadata": {},
   "outputs": [],
   "source": [
    "dev = qml.device(\"default.qubit\", wires=num_qubits, shots=shots)\n",
    "@qml.qnode(dev)\n",
    "def circuit(times, operator_ham, op_list, trotter_steps=1):\n",
    "\n",
    "    #qml.BasisState([1]*num_qubits, wires=range(num_qubits)) # + [0]*(num_qubits-1)\n",
    "    qml.BasisState([1,1,1,0], wires=range(num_qubits))\n",
    "\n",
    "    for i, (op, _, _) in enumerate(op_list):\n",
    "        qml.ApproxTimeEvolution(op, time=times[i], n=trotter_steps)\n",
    "\n",
    "    qml.ApproxTimeEvolution(operator_ham, time=times[-1], n=trotter_steps)\n",
    "\n",
    "    return qml.expval(qml.Hermitian(H, wires=range(num_qubits)))\n"
   ]
  },
  {
   "cell_type": "code",
   "execution_count": 46,
   "metadata": {},
   "outputs": [],
   "source": [
    "def cost_function(times, operator, op_list):\n",
    "\n",
    "    #t = pnp.tensor(t, requires_grad=True)\n",
    "    times = pnp.tensor(times, requires_grad=True)\n",
    "    #grad_fn = qml.grad(circuit)\n",
    "    #grad = grad_fn(t, operator, op_list)[0]\n",
    "\n",
    "    #params = pnp.tensor(params, requires_grad=True)\n",
    "    energy = circuit(times, operator, op_list)\n",
    "    \n",
    "    return energy#-abs(grad)"
   ]
  },
  {
   "cell_type": "code",
   "execution_count": 47,
   "metadata": {},
   "outputs": [],
   "source": [
    "operator_pool = HP\n",
    "for i in range(num_qubits):\n",
    "    operator_pool += qml.PauliX(i)\n",
    "    operator_pool += qml.PauliY(i)\n",
    "    operator_pool += qml.PauliZ(i)\n"
   ]
  },
  {
   "cell_type": "code",
   "execution_count": 48,
   "metadata": {},
   "outputs": [
    {
     "name": "stdout",
     "output_type": "stream",
     "text": [
      "step: 0\n",
      "Min grad: 0.9375000000000241\n",
      "42.156748329868826 * (I(0) @ X(1) @ X(2) @ I(3)) [1.57079634]\n",
      "step: 1\n",
      "Min grad: 0.9300868044017949\n",
      "-9.0625 * (I(0) @ I(1) @ Z(2) @ I(3)) [0.11165287 1.09998307]\n",
      "step: 2\n",
      "Min grad: 0.9261597950797428\n",
      "1.4880445444007506 * (Z(0) @ Y(1) @ Y(2) @ I(3)) [0.10857403 1.03718356 0.13509557]\n",
      "step: 3\n",
      "Min grad: 0.9261597945164264\n",
      "gradient converged\n"
     ]
    }
   ],
   "source": [
    "num_steps = 5\n",
    "op_list = []\n",
    "\n",
    "#variables\n",
    "max_iter = 1000\n",
    "strategy = \"randtobest1bin\"\n",
    "tol = 1e-3\n",
    "atol = 1e-3\n",
    "popsize = 20\n",
    "\n",
    "bounds = [(0.01, 2 * np.pi)]\n",
    "\n",
    "for i in range(num_steps):\n",
    "\n",
    "    print(f\"step: {i}\")\n",
    "\n",
    "    gradients = []\n",
    "    terms = []\n",
    "    times = []\n",
    "\n",
    "    x0 = [0.1] * (len(op_list) + 1)\n",
    "\n",
    "    for op in operator_pool.terms()[1]:\n",
    "\n",
    "        #'''\n",
    "        res = minimize(\n",
    "                cost_function,\n",
    "                x0=x0,\n",
    "                bounds = [(0.001, 2*np.pi)],\n",
    "                args=(op, op_list),\n",
    "                method= \"COBYLA\",\n",
    "                options= {'maxiter':10000, 'tol': 1e-8}\n",
    "            )\n",
    "        #'''\n",
    "        '''\n",
    "        res = differential_evolution(cost_function,\n",
    "                                    bounds,\n",
    "                                    args=(op, op_list),\n",
    "                                    maxiter=max_iter,\n",
    "                                    tol=tol,\n",
    "                                    atol=atol,\n",
    "                                    strategy=strategy,\n",
    "                                    popsize=popsize\n",
    "                                    )\n",
    "        '''\n",
    "        gradients.append(res.fun)\n",
    "        times.append(res.x)\n",
    "\n",
    "    if i!=0:\n",
    "        pre_min_grad = min_grad\n",
    "    min_arg = np.argmin(gradients)\n",
    "    min_grad = gradients[min_arg]\n",
    "\n",
    "    print(f\"Min grad: {min_grad}\")\n",
    "\n",
    "    if i!=0:\n",
    "        if abs(pre_min_grad - min_grad) < 1e-8:\n",
    "            print(\"gradient converged\")\n",
    "            break\n",
    "\n",
    "    min_op = operator_pool[min_arg]\n",
    "    min_t = times[min_arg]\n",
    "    print(min_op, min_t)\n",
    "\n",
    "    op_list.append((min_op,min_t,min_grad))"
   ]
  },
  {
   "cell_type": "code",
   "execution_count": 50,
   "metadata": {},
   "outputs": [],
   "source": [
    "hamiltonian_dict = {op: coeff for op, coeff in zip(HP.terms()[1], HP.terms()[0])}\n",
    "#hamiltonian_dict"
   ]
  },
  {
   "cell_type": "code",
   "execution_count": 51,
   "metadata": {},
   "outputs": [],
   "source": [
    "op_coeffs = []\n",
    "for op, t, grad in op_list:\n",
    "    coeff = hamiltonian_dict.get(op, None)\n",
    "    op_coeffs.append((op, coeff, t))"
   ]
  },
  {
   "cell_type": "code",
   "execution_count": 52,
   "metadata": {},
   "outputs": [
    {
     "data": {
      "text/plain": [
       "[(42.156748329868826 * (I(0) @ X(1) @ X(2) @ I(3)), None, array([1.57079634])),\n",
       " (-9.0625 * (I(0) @ I(1) @ Z(2) @ I(3)),\n",
       "  None,\n",
       "  array([0.11165287, 1.09998307])),\n",
       " (1.4880445444007506 * (Z(0) @ Y(1) @ Y(2) @ I(3)),\n",
       "  None,\n",
       "  array([0.10857403, 1.03718356, 0.13509557]))]"
      ]
     },
     "execution_count": 52,
     "metadata": {},
     "output_type": "execute_result"
    }
   ],
   "source": [
    "op_coeffs"
   ]
  },
  {
   "cell_type": "code",
   "execution_count": 53,
   "metadata": {},
   "outputs": [],
   "source": [
    "dev = qml.device(\"default.qubit\", wires=num_qubits)\n",
    "@qml.qnode(dev)\n",
    "def final_circuit(params):\n",
    "\n",
    "    #qml.BasisState([1]*num_qubits, wires=range(num_qubits))\n",
    "    qml.BasisState([1,1,1,0], wires=range(num_qubits))\n",
    "\n",
    "    for i, (op, coeff, t) in enumerate(op_coeffs):\n",
    "        pauli_string = qml.pauli.pauli_word_to_string(op)\n",
    "        qml.PauliRot(params[i], pauli_string, wires=op.wires)\n",
    "\n",
    "    return qml.state()"
   ]
  },
  {
   "cell_type": "code",
   "execution_count": 54,
   "metadata": {},
   "outputs": [],
   "source": [
    "dev = qml.device(\"default.qubit\", wires=num_qubits)\n",
    "@qml.qnode(dev)\n",
    "def test(params):\n",
    "\n",
    "    qml.BasisState([1,1,1,0], wires=range(num_qubits))\n",
    "\n",
    "    qml.PauliRot(params[0], 'IXXI', wires=[0,1,2,3])\n",
    "    qml.PauliRot(params[1], 'IIZI', wires=[0,1,2,3])\n",
    "    qml.PauliRot(params[2], 'IXXZ', wires=[0,1,2,3])\n",
    "\n",
    "    return qml.expval(qml.Hermitian(H, wires=range(num_qubits)))"
   ]
  },
  {
   "cell_type": "code",
   "execution_count": null,
   "metadata": {},
   "outputs": [],
   "source": []
  },
  {
   "cell_type": "code",
   "execution_count": 55,
   "metadata": {},
   "outputs": [
    {
     "name": "stdout",
     "output_type": "stream",
     "text": [
      "0: ─╭|Ψ⟩─╭RIXXI(4.86)─╭RIIZI(4.53)─╭RIXXZ(2.88)─┤ ╭<𝓗(M0)>\n",
      "1: ─├|Ψ⟩─├RIXXI(4.86)─├RIIZI(4.53)─├RIXXZ(2.88)─┤ ├<𝓗(M0)>\n",
      "2: ─├|Ψ⟩─├RIXXI(4.86)─├RIIZI(4.53)─├RIXXZ(2.88)─┤ ├<𝓗(M0)>\n",
      "3: ─╰|Ψ⟩─╰RIXXI(4.86)─╰RIIZI(4.53)─╰RIXXZ(2.88)─┤ ╰<𝓗(M0)>\n",
      "\n",
      "M0 = \n",
      "[[  3.4375    +0.j   0.        +0.j   7.15945616+0.j   0.        +0.j\n",
      "    5.81753814+0.j   0.        +0.j   1.67705098+0.j   0.        +0.j\n",
      "    0.        +0.j   0.        +0.j   0.        +0.j   0.        +0.j\n",
      "    0.        +0.j   0.        +0.j   0.        +0.j   0.        +0.j]\n",
      " [  0.        +0.j  14.5625    +0.j   0.        +0.j  24.0356181 +0.j\n",
      "    0.        +0.j  17.11632992+0.j   0.        +0.j   4.43705984+0.j\n",
      "    0.        +0.j   0.        +0.j   0.        +0.j   0.        +0.j\n",
      "    0.        +0.j   0.        +0.j   0.        +0.j   0.        +0.j]\n",
      " [  7.15945616+0.j   0.        +0.j  39.9375    +0.j   0.        +0.j\n",
      "   56.9411703 +0.j   0.        +0.j  36.7614778 +0.j   0.        +0.j\n",
      "    0.        +0.j   0.        +0.j   0.        +0.j   0.        +0.j\n",
      "    0.        +0.j   0.        +0.j   0.        +0.j   0.        +0.j]\n",
      " [  0.        +0.j  24.0356181 +0.j   0.        +0.j  87.0625    +0.j\n",
      "    0.        +0.j 111.52389038+0.j   0.        +0.j  52.5312407 +0.j\n",
      "    0.        +0.j   0.        +0.j   0.        +0.j   0.        +0.j\n",
      "    0.        +0.j   0.        +0.j   0.        +0.j   0.        +0.j]\n",
      " [  5.81753814+0.j   0.        +0.j  56.9411703 +0.j   0.        +0.j\n",
      "  163.4375    +0.j   0.        +0.j 174.24423861+0.j   0.        +0.j\n",
      "    0.        +0.j   0.        +0.j   0.        +0.j   0.        +0.j\n",
      "    0.        +0.j   0.        +0.j   0.        +0.j   0.        +0.j]\n",
      " [  0.        +0.j  17.11632992+0.j   0.        +0.j 111.52389038+0.j\n",
      "    0.        +0.j 255.5625    +0.j   0.        +0.j 159.1831934 +0.j\n",
      "    0.        +0.j   0.        +0.j   0.        +0.j   0.        +0.j\n",
      "    0.        +0.j   0.        +0.j   0.        +0.j   0.        +0.j]\n",
      " [  1.67705098+0.j   0.        +0.j  36.7614778 +0.j   0.        +0.j\n",
      "  174.24423861+0.j   0.        +0.j 269.4375    +0.j   0.        +0.j\n",
      "    0.        +0.j   0.        +0.j   0.        +0.j   0.        +0.j\n",
      "    0.        +0.j   0.        +0.j   0.        +0.j   0.        +0.j]\n",
      " [  0.        +0.j   4.43705984+0.j   0.        +0.j  52.5312407 +0.j\n",
      "    0.        +0.j 159.1831934 +0.j   0.        +0.j 119.0625    +0.j\n",
      "    0.        +0.j   0.        +0.j   0.        +0.j   0.        +0.j\n",
      "    0.        +0.j   0.        +0.j   0.        +0.j   0.        +0.j]\n",
      " [  0.        +0.j   0.        +0.j   0.        +0.j   0.        +0.j\n",
      "    0.        +0.j   0.        +0.j   0.        +0.j   0.        +0.j\n",
      "    0.9375    +0.j   0.        +0.j   5.03813582+0.j   0.        +0.j\n",
      "    5.81753814+0.j   0.        +0.j   1.67705098+0.j   0.        +0.j]\n",
      " [  0.        +0.j   0.        +0.j   0.        +0.j   0.        +0.j\n",
      "    0.        +0.j   0.        +0.j   0.        +0.j   0.        +0.j\n",
      "    0.        +0.j   9.0625    +0.j   0.        +0.j  20.36138349+0.j\n",
      "    0.        +0.j  17.11632992+0.j   0.        +0.j   4.43705984+0.j]\n",
      " [  0.        +0.j   0.        +0.j   0.        +0.j   0.        +0.j\n",
      "    0.        +0.j   0.        +0.j   0.        +0.j   0.        +0.j\n",
      "    5.03813582+0.j   0.        +0.j  31.4375    +0.j   0.        +0.j\n",
      "   51.74501788+0.j   0.        +0.j  36.7614778 +0.j   0.        +0.j]\n",
      " [  0.        +0.j   0.        +0.j   0.        +0.j   0.        +0.j\n",
      "    0.        +0.j   0.        +0.j   0.        +0.j   0.        +0.j\n",
      "    0.        +0.j  20.36138349+0.j   0.        +0.j  75.5625    +0.j\n",
      "    0.        +0.j 104.81568645+0.j   0.        +0.j  52.5312407 +0.j]\n",
      " [  0.        +0.j   0.        +0.j   0.        +0.j   0.        +0.j\n",
      "    0.        +0.j   0.        +0.j   0.        +0.j   0.        +0.j\n",
      "    5.81753814+0.j   0.        +0.j  51.74501788+0.j   0.        +0.j\n",
      "  148.9375    +0.j   0.        +0.j 166.02840024+0.j   0.        +0.j]\n",
      " [  0.        +0.j   0.        +0.j   0.        +0.j   0.        +0.j\n",
      "    0.        +0.j   0.        +0.j   0.        +0.j   0.        +0.j\n",
      "    0.        +0.j  17.11632992+0.j   0.        +0.j 104.81568645+0.j\n",
      "    0.        +0.j 238.0625    +0.j   0.        +0.j 149.46208236+0.j]\n",
      " [  0.        +0.j   0.        +0.j   0.        +0.j   0.        +0.j\n",
      "    0.        +0.j   0.        +0.j   0.        +0.j   0.        +0.j\n",
      "    1.67705098+0.j   0.        +0.j  36.7614778 +0.j   0.        +0.j\n",
      "  166.02840024+0.j   0.        +0.j 248.9375    +0.j   0.        +0.j]\n",
      " [  0.        +0.j   0.        +0.j   0.        +0.j   0.        +0.j\n",
      "    0.        +0.j   0.        +0.j   0.        +0.j   0.        +0.j\n",
      "    0.        +0.j   4.43705984+0.j   0.        +0.j  52.5312407 +0.j\n",
      "    0.        +0.j 149.46208236+0.j   0.        +0.j 107.5625    +0.j]]\n"
     ]
    }
   ],
   "source": [
    "x0 = np.random.uniform(0, 2 * np.pi, size=3)\n",
    "print(qml.draw(test)(x0))"
   ]
  },
  {
   "cell_type": "code",
   "execution_count": 37,
   "metadata": {},
   "outputs": [
    {
     "data": {
      "text/plain": [
       "[(42.156748329868826 * (I(0) @ X(1) @ X(2) @ I(3)), None, array([1.57079634])),\n",
       " (-9.0625 * (I(0) @ I(1) @ Z(2) @ I(3)),\n",
       "  None,\n",
       "  array([0.11165286, 1.09996672])),\n",
       " (-14.146675794569658 * (I(0) @ X(1) @ X(2) @ Z(3)),\n",
       "  None,\n",
       "  array([0.02727352, 1.03897517, 0.42099307]))]"
      ]
     },
     "execution_count": 37,
     "metadata": {},
     "output_type": "execute_result"
    }
   ],
   "source": [
    "op_coeffs"
   ]
  },
  {
   "cell_type": "code",
   "execution_count": 49,
   "metadata": {},
   "outputs": [
    {
     "name": "stdout",
     "output_type": "stream",
     "text": [
      "0: ─╭|Ψ⟩─╭RIXXI(4.75)─╭RIIZI(5.12)─╭RIXXZ(2.60)─┤  State\n",
      "1: ─├|Ψ⟩─├RIXXI(4.75)─├RIIZI(5.12)─├RIXXZ(2.60)─┤  State\n",
      "2: ─├|Ψ⟩─├RIXXI(4.75)─├RIIZI(5.12)─├RIXXZ(2.60)─┤  State\n",
      "3: ─╰|Ψ⟩─╰RIXXI(4.75)─╰RIIZI(5.12)─╰RIXXZ(2.60)─┤  State\n"
     ]
    }
   ],
   "source": [
    "x0 = np.random.uniform(0, 2 * np.pi, size=len(op_coeffs))\n",
    "print(qml.draw(final_circuit)(x0))"
   ]
  },
  {
   "cell_type": "code",
   "execution_count": 31,
   "metadata": {},
   "outputs": [],
   "source": [
    "eigenvalues, eigenvectors = np.linalg.eig(H)\n",
    "min_index = np.argmin(eigenvalues)\n",
    "min_eigenvalue = eigenvalues[min_index]\n",
    "min_eigenvector = np.asarray(eigenvectors[:, min_index])"
   ]
  },
  {
   "cell_type": "code",
   "execution_count": 32,
   "metadata": {},
   "outputs": [
    {
     "data": {
      "text/plain": [
       "np.complex128(0.03201011000923872+0j)"
      ]
     },
     "execution_count": 32,
     "metadata": {},
     "output_type": "execute_result"
    }
   ],
   "source": [
    "min_eigenvalue"
   ]
  },
  {
   "cell_type": "code",
   "execution_count": 33,
   "metadata": {},
   "outputs": [],
   "source": [
    "def overlap_function(params):\n",
    "\n",
    "    params = pnp.tensor(params, requires_grad=True)\n",
    "    ansatz_state = final_circuit(params)\n",
    "    \n",
    "    \n",
    "    overlap = np.vdot(min_eigenvector, ansatz_state)\n",
    "    cost = np.abs(overlap)**2  \n",
    "    \n",
    "    #min_eigenvector_prob = np.abs(min_eigenvector)**2\n",
    "    #ansatz_prob = np.abs(ansatz_state)**2\n",
    "    #cost = np.sum(np.sqrt(min_eigenvector_prob * ansatz_prob))\n",
    "\n",
    "    return (1 - cost)"
   ]
  },
  {
   "cell_type": "code",
   "execution_count": 34,
   "metadata": {},
   "outputs": [
    {
     "name": "stdout",
     "output_type": "stream",
     "text": [
      "Running for overlap\n"
     ]
    }
   ],
   "source": [
    "x0 = np.random.uniform(0, 2 * np.pi, size=len(op_coeffs))\n",
    "o_iters = 10000\n",
    "o_tol=1e-8\n",
    "\n",
    "print(\"Running for overlap\")\n",
    "\n",
    "overlap_res = minimize(\n",
    "    overlap_function,\n",
    "    x0,\n",
    "    method= \"COBYLA\",\n",
    "    options= {'maxiter':o_iters, 'tol': o_tol}\n",
    ")"
   ]
  },
  {
   "cell_type": "code",
   "execution_count": 35,
   "metadata": {},
   "outputs": [
    {
     "data": {
      "text/plain": [
       "np.float64(0.04695409286857666)"
      ]
     },
     "execution_count": 35,
     "metadata": {},
     "output_type": "execute_result"
    }
   ],
   "source": [
    "overlap_res.fun"
   ]
  },
  {
   "cell_type": "code",
   "execution_count": null,
   "metadata": {},
   "outputs": [],
   "source": []
  },
  {
   "cell_type": "code",
   "execution_count": null,
   "metadata": {},
   "outputs": [],
   "source": []
  },
  {
   "cell_type": "code",
   "execution_count": null,
   "metadata": {},
   "outputs": [],
   "source": []
  },
  {
   "cell_type": "code",
   "execution_count": 768,
   "metadata": {},
   "outputs": [],
   "source": [
    "dev = qml.device(\"default.qubit\", wires=num_qubits)\n",
    "@qml.qnode(dev)\n",
    "def final_circuit():\n",
    "\n",
    "    qml.BasisState([1]*num_qubits, wires=range(num_qubits))\n",
    "\n",
    "    for op, coeff, t in op_coeffs:\n",
    "        theta = coeff * t[0]\n",
    "        pauli_string = qml.pauli.pauli_word_to_string(op)\n",
    "        qml.PauliRot(theta, pauli_string, wires=op.wires)\n",
    "\n",
    "    return qml.state()"
   ]
  }
 ],
 "metadata": {
  "kernelspec": {
   "display_name": ".venv",
   "language": "python",
   "name": "python3"
  },
  "language_info": {
   "codemirror_mode": {
    "name": "ipython",
    "version": 3
   },
   "file_extension": ".py",
   "mimetype": "text/x-python",
   "name": "python",
   "nbconvert_exporter": "python",
   "pygments_lexer": "ipython3",
   "version": "3.13.1"
  }
 },
 "nbformat": 4,
 "nbformat_minor": 2
}
