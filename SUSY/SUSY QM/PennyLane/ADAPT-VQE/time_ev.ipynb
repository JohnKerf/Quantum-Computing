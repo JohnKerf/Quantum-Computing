{
 "cells": [
  {
   "cell_type": "code",
   "execution_count": 1,
   "metadata": {},
   "outputs": [],
   "source": [
    "import pennylane as qml\n",
    "from pennylane import numpy as pnp\n",
    "import numpy as np\n",
    "from qiskit.quantum_info import SparsePauliOp\n",
    "from qiskit.circuit.library import PauliEvolutionGate\n",
    "from scipy.optimize import minimize\n",
    "import os\n",
    "import json\n",
    "from susy_qm import calculate_Hamiltonian"
   ]
  },
  {
   "cell_type": "code",
   "execution_count": 2,
   "metadata": {},
   "outputs": [],
   "source": [
    "potential = 'AHO'\n",
    "cutoff = 4\n",
    "shots = None"
   ]
  },
  {
   "cell_type": "code",
   "execution_count": 3,
   "metadata": {},
   "outputs": [],
   "source": [
    "#calculate Hamiltonian and expected eigenvalues\n",
    "H = calculate_Hamiltonian(cutoff, potential)\n",
    "eigenvalues = np.sort(np.linalg.eig(H)[0])\n",
    "min_eigenvalue = min(eigenvalues.real)\n",
    "\n",
    "#create qiskit Hamiltonian Pauli string\n",
    "hamiltonian = SparsePauliOp.from_operator(H)\n",
    "num_qubits = hamiltonian.num_qubits"
   ]
  },
  {
   "cell_type": "code",
   "execution_count": 4,
   "metadata": {},
   "outputs": [
    {
     "data": {
      "text/plain": [
       "np.float64(-0.16478526068502214)"
      ]
     },
     "execution_count": 4,
     "metadata": {},
     "output_type": "execute_result"
    }
   ],
   "source": [
    "min_eigenvalue"
   ]
  },
  {
   "cell_type": "code",
   "execution_count": 5,
   "metadata": {},
   "outputs": [
    {
     "data": {
      "text/plain": [
       "[(Pauli('III'), np.complex128(10.312499999999996+0j)),\n",
       " (Pauli('IXI'), np.complex128(6.882221512309609+0j)),\n",
       " (Pauli('IXZ'), np.complex128(-1.8440856963554602+0j)),\n",
       " (Pauli('IZI'), np.complex128(-4.062499999999998+0j)),\n",
       " (Pauli('IZZ'), np.complex128(-4.0625+0j)),\n",
       " (Pauli('ZII'), np.complex128(2.75+0j)),\n",
       " (Pauli('ZXI'), np.complex128(1.4488887394336023+0j)),\n",
       " (Pauli('ZXZ'), np.complex128(-0.38822856765378133+0j)),\n",
       " (Pauli('ZZI'), np.complex128(-0.7500000000000001+0j)),\n",
       " (Pauli('ZZZ'), np.complex128(-0.7500000000000001+0j))]"
      ]
     },
     "execution_count": 5,
     "metadata": {},
     "output_type": "execute_result"
    }
   ],
   "source": [
    "pauli_terms = list(zip(hamiltonian.paulis, hamiltonian.coeffs))\n",
    "pauli_terms"
   ]
  },
  {
   "cell_type": "code",
   "execution_count": 102,
   "metadata": {},
   "outputs": [],
   "source": [
    "def get_ansatz(evolution_time, num_trotter_steps = 10):\n",
    "        \n",
    "        dev = qml.device(\"default.qubit\", wires=num_qubits)\n",
    "        \n",
    "        @qml.qnode(dev)\n",
    "        def ansatz():\n",
    "\n",
    "            for wire in range(num_qubits):\n",
    "                 qml.PauliX(wire)\n",
    "\n",
    "            for _ in range(num_trotter_steps):\n",
    "                for term, coeff in pauli_terms:\n",
    "                    pauli_word = term.to_label()\n",
    "                    qml.PauliRot(100 * coeff * evolution_time / num_trotter_steps, pauli_word, wires=list(range(num_qubits)))\n",
    "            return qml.expval(qml.Hermitian(H, wires=range(num_qubits)))\n",
    "        \n",
    "        return ansatz"
   ]
  },
  {
   "cell_type": "code",
   "execution_count": 103,
   "metadata": {},
   "outputs": [],
   "source": [
    "def cost_function(evolution_time):\n",
    "        ansatz = get_ansatz(evolution_time)\n",
    "        return ansatz()"
   ]
  },
  {
   "cell_type": "code",
   "execution_count": 108,
   "metadata": {},
   "outputs": [],
   "source": [
    "def compute_gradients(evolution_time):\n",
    "        grad_fn = qml.grad(cost_function)\n",
    "        print(grad_fn(evolution_time))\n",
    "        return grad_fn(evolution_time)"
   ]
  },
  {
   "cell_type": "code",
   "execution_count": 119,
   "metadata": {},
   "outputs": [],
   "source": [
    "def optimize_time_evolution(evolution_time = 1.0, o_iters=200, learning_rate=0.01):\n",
    "\n",
    "        opt = qml.AdaptiveOptimizer(stepsize=learning_rate)    \n",
    "        evolution_time = pnp.tensor(evolution_time, requires_grad=True)\n",
    "\n",
    "        for i in range(o_iters):\n",
    "            circuit, energy, evolution_time = opt.step_and_cost(compute_gradients(evolution_time))\n",
    "            if i % 10 == 0:\n",
    "                print(f\"Step {i}: Evolution time = {evolution_time}\")\n",
    "\n",
    "        optimized_time = evolution_time\n",
    "        print(f\"Optimized evolution time: {optimized_time}\")\n",
    "        return optimized_time"
   ]
  },
  {
   "cell_type": "code",
   "execution_count": 120,
   "metadata": {},
   "outputs": [
    {
     "name": "stdout",
     "output_type": "stream",
     "text": [
      "Initial Cost:  1.0000000000000018\n",
      "Cost at 10x evolution time:  1.0000000000000009\n",
      "Cost at 0.1x evolution time:  0.9999999999999992\n"
     ]
    }
   ],
   "source": [
    "print(\"Initial Cost: \", cost_function(1.0))\n",
    "print(\"Cost at 10x evolution time: \", cost_function(10.0))\n",
    "print(\"Cost at 0.1x evolution time: \", cost_function(0.1))\n"
   ]
  },
  {
   "cell_type": "code",
   "execution_count": 121,
   "metadata": {},
   "outputs": [
    {
     "name": "stdout",
     "output_type": "stream",
     "text": [
      "-2.0689161379333923e-15\n"
     ]
    },
    {
     "ename": "TypeError",
     "evalue": "AdaptiveOptimizer.step_and_cost() missing 1 required positional argument: 'operator_pool'",
     "output_type": "error",
     "traceback": [
      "\u001b[1;31m---------------------------------------------------------------------------\u001b[0m",
      "\u001b[1;31mTypeError\u001b[0m                                 Traceback (most recent call last)",
      "Cell \u001b[1;32mIn[121], line 1\u001b[0m\n\u001b[1;32m----> 1\u001b[0m optimized_time \u001b[38;5;241m=\u001b[39m \u001b[43moptimize_time_evolution\u001b[49m\u001b[43m(\u001b[49m\u001b[43m)\u001b[49m\n\u001b[0;32m      2\u001b[0m optimized_energy \u001b[38;5;241m=\u001b[39m cost_function(optimized_time)\n\u001b[0;32m      3\u001b[0m \u001b[38;5;28mprint\u001b[39m(\u001b[38;5;124mf\u001b[39m\u001b[38;5;124m\"\u001b[39m\u001b[38;5;124mFinal optimized energy: \u001b[39m\u001b[38;5;132;01m{\u001b[39;00moptimized_energy\u001b[38;5;132;01m}\u001b[39;00m\u001b[38;5;124m\"\u001b[39m)\n",
      "Cell \u001b[1;32mIn[119], line 7\u001b[0m, in \u001b[0;36moptimize_time_evolution\u001b[1;34m(evolution_time, o_iters, learning_rate)\u001b[0m\n\u001b[0;32m      4\u001b[0m evolution_time \u001b[38;5;241m=\u001b[39m pnp\u001b[38;5;241m.\u001b[39mtensor(evolution_time, requires_grad\u001b[38;5;241m=\u001b[39m\u001b[38;5;28;01mTrue\u001b[39;00m)\n\u001b[0;32m      6\u001b[0m \u001b[38;5;28;01mfor\u001b[39;00m i \u001b[38;5;129;01min\u001b[39;00m \u001b[38;5;28mrange\u001b[39m(o_iters):\n\u001b[1;32m----> 7\u001b[0m     circuit, energy, evolution_time \u001b[38;5;241m=\u001b[39m \u001b[43mopt\u001b[49m\u001b[38;5;241;43m.\u001b[39;49m\u001b[43mstep_and_cost\u001b[49m\u001b[43m(\u001b[49m\u001b[43mcompute_gradients\u001b[49m\u001b[43m(\u001b[49m\u001b[43mevolution_time\u001b[49m\u001b[43m)\u001b[49m\u001b[43m)\u001b[49m\n\u001b[0;32m      8\u001b[0m     \u001b[38;5;28;01mif\u001b[39;00m i \u001b[38;5;241m%\u001b[39m \u001b[38;5;241m10\u001b[39m \u001b[38;5;241m==\u001b[39m \u001b[38;5;241m0\u001b[39m:\n\u001b[0;32m      9\u001b[0m         \u001b[38;5;28mprint\u001b[39m(\u001b[38;5;124mf\u001b[39m\u001b[38;5;124m\"\u001b[39m\u001b[38;5;124mStep \u001b[39m\u001b[38;5;132;01m{\u001b[39;00mi\u001b[38;5;132;01m}\u001b[39;00m\u001b[38;5;124m: Evolution time = \u001b[39m\u001b[38;5;132;01m{\u001b[39;00mevolution_time\u001b[38;5;132;01m}\u001b[39;00m\u001b[38;5;124m\"\u001b[39m)\n",
      "\u001b[1;31mTypeError\u001b[0m: AdaptiveOptimizer.step_and_cost() missing 1 required positional argument: 'operator_pool'"
     ]
    }
   ],
   "source": [
    "optimized_time = optimize_time_evolution()\n",
    "optimized_energy = cost_function(optimized_time)\n",
    "print(f\"Final optimized energy: {optimized_energy}\")"
   ]
  },
  {
   "cell_type": "code",
   "execution_count": 55,
   "metadata": {},
   "outputs": [
    {
     "name": "stdout",
     "output_type": "stream",
     "text": [
      "0: ──X─╭RIII─╭RIZI─╭RIZZ─╭RZII─╭RIII─╭RIZI─╭RIZZ─╭RZII─╭RIII─╭RIZI─╭RIZZ─╭RZII─┤ ╭<𝓗(M0)>\n",
      "1: ──X─├RIII─├RIZI─├RIZZ─├RZII─├RIII─├RIZI─├RIZZ─├RZII─├RIII─├RIZI─├RIZZ─├RZII─┤ ├<𝓗(M0)>\n",
      "2: ──X─╰RIII─╰RIZI─╰RIZZ─╰RZII─╰RIII─╰RIZI─╰RIZZ─╰RZII─╰RIII─╰RIZI─╰RIZZ─╰RZII─┤ ╰<𝓗(M0)>\n"
     ]
    }
   ],
   "source": [
    "print(qml.draw(get_ansatz(optimized_time), show_matrices=False)())"
   ]
  },
  {
   "cell_type": "code",
   "execution_count": null,
   "metadata": {},
   "outputs": [],
   "source": [
    "class TimeEvolutionAnsatz:\n",
    "    def __init__(self, potential, cutoff, evolution_time, num_trotter_steps=1, **kwargs):\n",
    "        self.potential = potential\n",
    "        self.cutoff = cutoff\n",
    "        self.evolution_time = evolution_time\n",
    "        self.num_trotter_steps = num_trotter_steps\n",
    "        self.optimized_time = None\n",
    "\n",
    "        # Compute Hamiltonian\n",
    "        self.H = calculate_Hamiltonian(cutoff, potential)  # Assuming function is defined\n",
    "        hamiltonian = SparsePauliOp.from_operator(self.H)\n",
    "        self.num_qubits = hamiltonian.num_qubits\n",
    "\n",
    "        # Get eigenvalues for comparison\n",
    "        eigenvalues, eigenvectors = np.linalg.eigh(self.H)\n",
    "        self.min_eigenvalue = np.min(eigenvalues)\n",
    "        self.min_eigenvector = eigenvectors[:, np.argmin(eigenvalues)]\n",
    "        \n",
    "        # Convert Hamiltonian to Pauli terms\n",
    "        self.pauli_terms = hamiltonian.terms\n",
    "\n",
    "    def get_ansatz(self, evolution_time=None):\n",
    "        \"\"\"\n",
    "        Returns a QNode representing the ansatz circuit using the optimized evolution time.\n",
    "        \"\"\"\n",
    "        if evolution_time is None:\n",
    "            evolution_time = self.optimized_time if self.optimized_time is not None else self.evolution_time\n",
    "\n",
    "        dev = qml.device(\"default.qubit\", wires=self.num_qubits)\n",
    "        \n",
    "        @qml.qnode(dev)\n",
    "        def ansatz():\n",
    "            for _ in range(self.num_trotter_steps):\n",
    "                for term, coeff in zip(*self.pauli_terms):\n",
    "                    qml.PauliRot(-2 * coeff * evolution_time / self.num_trotter_steps, term, wires=range(self.num_qubits))\n",
    "            return qml.expval(qml.Hermitian(self.H, wires=range(self.num_qubits)))\n",
    "        \n",
    "        return ansatz\n",
    "    \n",
    "    def cost_function(self, evolution_time):\n",
    "        \"\"\"\n",
    "        Compute the cost function based on time evolution ansatz.\n",
    "        \"\"\"\n",
    "        ansatz = self.get_ansatz(evolution_time)\n",
    "        return ansatz()\n",
    "\n",
    "    def optimize_time_evolution(self, o_iters=1000, o_tol=1e-6):\n",
    "        \"\"\"\n",
    "        Optimize the ansatz evolution time to minimize the energy.\n",
    "        \"\"\"\n",
    "        print(\"Optimizing Time Evolution Ansatz\")\n",
    "        \n",
    "        res = minimize(\n",
    "            self.cost_function,\n",
    "            self.evolution_time,\n",
    "            method=\"COBYLA\",\n",
    "            options={'maxiter': o_iters, 'tol': o_tol}\n",
    "        )\n",
    "        \n",
    "        self.optimized_time = res.x\n",
    "        print(f\"Optimized evolution time: {self.optimized_time}\")\n",
    "        return self.optimized_time\n",
    "    \n",
    "    def run(self):\n",
    "        \"\"\"\n",
    "        Run the full optimization and return the final ansatz.\n",
    "        \"\"\"\n",
    "        self.optimize_time_evolution()\n",
    "        optimized_energy = self.cost_function(self.optimized_time)\n",
    "        print(f\"Final optimized energy: {optimized_energy}\")\n",
    "        return self.get_ansatz(self.optimized_time)\n"
   ]
  }
 ],
 "metadata": {
  "kernelspec": {
   "display_name": ".venv",
   "language": "python",
   "name": "python3"
  },
  "language_info": {
   "codemirror_mode": {
    "name": "ipython",
    "version": 3
   },
   "file_extension": ".py",
   "mimetype": "text/x-python",
   "name": "python",
   "nbconvert_exporter": "python",
   "pygments_lexer": "ipython3",
   "version": "3.13.1"
  }
 },
 "nbformat": 4,
 "nbformat_minor": 2
}
