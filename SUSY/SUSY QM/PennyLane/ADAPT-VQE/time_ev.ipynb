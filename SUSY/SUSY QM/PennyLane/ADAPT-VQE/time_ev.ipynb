{
 "cells": [
  {
   "cell_type": "code",
   "execution_count": 1,
   "metadata": {},
   "outputs": [],
   "source": [
    "import pennylane as qml\n",
    "from pennylane import numpy as pnp\n",
    "import numpy as np\n",
    "from qiskit.quantum_info import SparsePauliOp\n",
    "from qiskit.circuit.library import PauliEvolutionGate\n",
    "from scipy.optimize import minimize, differential_evolution\n",
    "import os\n",
    "import json\n",
    "from susy_qm import calculate_Hamiltonian"
   ]
  },
  {
   "cell_type": "code",
   "execution_count": 231,
   "metadata": {},
   "outputs": [],
   "source": [
    "potential = 'DW'\n",
    "cutoff = 8\n",
    "shots = None"
   ]
  },
  {
   "cell_type": "code",
   "execution_count": 232,
   "metadata": {},
   "outputs": [],
   "source": [
    "#calculate Hamiltonian and expected eigenvalues\n",
    "H = calculate_Hamiltonian(cutoff, potential)\n",
    "\n",
    "eigenvalues, eigenvectors = np.linalg.eig(H)\n",
    "min_index = np.argmin(eigenvalues)\n",
    "min_eigenvalue = eigenvalues[min_index]\n",
    "min_eigenvector = np.asarray(eigenvectors[:, min_index])\n",
    "\n",
    "#create qiskit Hamiltonian Pauli string\n",
    "hamiltonian = SparsePauliOp.from_operator(H)\n",
    "num_qubits = hamiltonian.num_qubits"
   ]
  },
  {
   "cell_type": "code",
   "execution_count": 233,
   "metadata": {},
   "outputs": [
    {
     "data": {
      "text/plain": [
       "4"
      ]
     },
     "execution_count": 233,
     "metadata": {},
     "output_type": "execute_result"
    }
   ],
   "source": [
    "num_qubits"
   ]
  },
  {
   "cell_type": "code",
   "execution_count": 234,
   "metadata": {},
   "outputs": [
    {
     "data": {
      "text/plain": [
       "np.complex128(0.8845804438663997+0j)"
      ]
     },
     "execution_count": 234,
     "metadata": {},
     "output_type": "execute_result"
    }
   ],
   "source": [
    "min_eigenvalue"
   ]
  },
  {
   "cell_type": "code",
   "execution_count": 235,
   "metadata": {},
   "outputs": [],
   "source": [
    "HP = qml.pauli_decompose(H)"
   ]
  },
  {
   "cell_type": "code",
   "execution_count": 261,
   "metadata": {},
   "outputs": [],
   "source": [
    "dev = qml.device(\"default.qubit\", wires=num_qubits, shots=shots)\n",
    "#basis_state = [1,1,1,0] #AHO8\n",
    "basis_state = [0,1,1,1]\n",
    "\n",
    "@qml.qnode(dev)\n",
    "def circuit(times, operator_ham, op_list, trotter_steps=3):\n",
    "\n",
    "    #qml.BasisState([1]*num_qubits, wires=range(num_qubits)) # + [0]*(num_qubits-1)\n",
    "    qml.BasisState(basis_state, wires=range(num_qubits))\n",
    "\n",
    "    for i, (op, _, _) in enumerate(op_list):\n",
    "        qml.ApproxTimeEvolution(op, time=times[i], n=trotter_steps)\n",
    "\n",
    "    qml.ApproxTimeEvolution(operator_ham, time=times[-1], n=trotter_steps)\n",
    "\n",
    "    return qml.expval(qml.Hermitian(H, wires=range(num_qubits)))\n"
   ]
  },
  {
   "cell_type": "code",
   "execution_count": 262,
   "metadata": {},
   "outputs": [],
   "source": [
    "def cost_function(times, operator, op_list):\n",
    "\n",
    "    #t = pnp.tensor(t, requires_grad=True)\n",
    "    times = pnp.tensor(times, requires_grad=True)\n",
    "    #grad_fn = qml.grad(circuit)\n",
    "    #grad = grad_fn(t, operator, op_list)[0]\n",
    "\n",
    "    #params = pnp.tensor(params, requires_grad=True)\n",
    "    energy = circuit(times, operator, op_list)\n",
    "    \n",
    "    return energy#-abs(grad)"
   ]
  },
  {
   "cell_type": "code",
   "execution_count": 263,
   "metadata": {},
   "outputs": [],
   "source": [
    "operator_pool = HP\n",
    "for i in range(num_qubits):\n",
    "    operator_pool += qml.PauliX(i)\n",
    "    operator_pool += qml.PauliY(i)\n",
    "    operator_pool += qml.PauliZ(i)\n"
   ]
  },
  {
   "cell_type": "code",
   "execution_count": 264,
   "metadata": {},
   "outputs": [
    {
     "name": "stdout",
     "output_type": "stream",
     "text": [
      "step: 0\n",
      "Min grad: 2.374999999999994\n",
      "3.159526931034373 * (I(0) @ X(1) @ X(2) @ X(3)) [1.57079633]\n",
      "step: 1\n",
      "Min grad: 1.093911086754477\n",
      "1.0 * Y(3) [2.48580936 2.66393433]\n",
      "step: 2\n",
      "Min grad: 1.0786618070319391\n",
      "1.0 * Y(0) [3.48013311 2.86914931 4.71238866]\n",
      "step: 3\n",
      "Min grad: 0.9241175735078525\n",
      "1.0 * Y(2) [0.49716187 6.08913721 1.57079661 2.98392328]\n",
      "step: 4\n",
      "Min grad: 0.8951448522868215\n",
      "1.0 * Y(1) [0.49716188 6.10799988 4.71238805 2.94044275 3.19498255]\n"
     ]
    }
   ],
   "source": [
    "num_steps = 5\n",
    "op_list = []\n",
    "\n",
    "#variables\n",
    "max_iter = 250\n",
    "strategy = \"randtobest1bin\"\n",
    "tol = 1e-2\n",
    "atol = 1e-3\n",
    "popsize = 15\n",
    "\n",
    "bounds = [(0.001, 2 * np.pi)]\n",
    "\n",
    "for i in range(num_steps):\n",
    "\n",
    "    print(f\"step: {i}\")\n",
    "\n",
    "    gradients = []\n",
    "    terms = []\n",
    "    times = []\n",
    "\n",
    "    x0 = [0.1] * (len(op_list) + 1)\n",
    "    bounds = [(0.001, 2 * np.pi) for _ in range(len(op_list) + 1)]\n",
    "\n",
    "    for op in operator_pool.terms()[1]:\n",
    "\n",
    "        '''\n",
    "        res = minimize(\n",
    "                cost_function,\n",
    "                x0=x0,\n",
    "                bounds = [(0.001, 2*np.pi)],\n",
    "                args=(op, op_list),\n",
    "                method= \"COBYLA\",\n",
    "                options= {'maxiter':10000, 'tol': 1e-8}\n",
    "            )\n",
    "        '''\n",
    "        #'''\n",
    "        res = differential_evolution(cost_function,\n",
    "                                    bounds,\n",
    "                                    args=(op, op_list),\n",
    "                                    maxiter=max_iter,\n",
    "                                    tol=tol,\n",
    "                                    atol=atol,\n",
    "                                    strategy=strategy,\n",
    "                                    popsize=popsize\n",
    "                                    )\n",
    "        #'''\n",
    "        gradients.append(res.fun)\n",
    "        times.append(res.x)\n",
    "\n",
    "    if i!=0:\n",
    "        pre_min_grad = min_grad\n",
    "    min_arg = np.argmin(gradients)\n",
    "    min_grad = gradients[min_arg]\n",
    "\n",
    "    print(f\"Min grad: {min_grad}\")\n",
    "\n",
    "    if i!=0:\n",
    "        if abs(pre_min_grad - min_grad) < 1e-8:\n",
    "            print(\"gradient converged\")\n",
    "            break\n",
    "\n",
    "    min_op = operator_pool[min_arg]\n",
    "    min_t = times[min_arg]\n",
    "    print(min_op, min_t)\n",
    "\n",
    "    op_list.append((min_op,min_t,min_grad))"
   ]
  },
  {
   "cell_type": "code",
   "execution_count": 265,
   "metadata": {},
   "outputs": [],
   "source": [
    "hamiltonian_dict = {op: coeff for op, coeff in zip(HP.terms()[1], HP.terms()[0])}\n",
    "op_coeffs = []\n",
    "for op, t, grad in op_list:\n",
    "    coeff = hamiltonian_dict.get(op, None)\n",
    "    op_coeffs.append((op, coeff, t))"
   ]
  },
  {
   "cell_type": "code",
   "execution_count": 266,
   "metadata": {},
   "outputs": [],
   "source": [
    "dev = qml.device(\"default.qubit\", wires=num_qubits)\n",
    "@qml.qnode(dev)\n",
    "def final_circuit(params):\n",
    "\n",
    "    qml.BasisState(basis_state, wires=range(num_qubits))\n",
    "\n",
    "    for i, (op, coeff, t) in enumerate(op_coeffs):\n",
    "        pauli_string = qml.pauli.pauli_word_to_string(op)\n",
    "        qml.PauliRot(params[i], pauli_string, wires=op.wires)\n",
    "\n",
    "    return qml.state()"
   ]
  },
  {
   "cell_type": "code",
   "execution_count": 267,
   "metadata": {},
   "outputs": [
    {
     "name": "stdout",
     "output_type": "stream",
     "text": [
      "0: ─╭|Ψ⟩─╭RIXXX(3.25)──RY(1.34)─┤  State\n",
      "1: ─├|Ψ⟩─├RIXXX(3.25)──RY(2.64)─┤  State\n",
      "2: ─├|Ψ⟩─├RIXXX(3.25)──RY(1.07)─┤  State\n",
      "3: ─╰|Ψ⟩─╰RIXXX(3.25)──RY(5.97)─┤  State\n"
     ]
    }
   ],
   "source": [
    "x0 = np.random.uniform(0, 2 * np.pi, size=len(op_coeffs))\n",
    "print(qml.draw(final_circuit)(x0))"
   ]
  },
  {
   "cell_type": "code",
   "execution_count": 268,
   "metadata": {},
   "outputs": [],
   "source": [
    "def overlap_function(params):\n",
    "\n",
    "    params = pnp.tensor(params, requires_grad=True)\n",
    "    ansatz_state = final_circuit(params)\n",
    "    \n",
    "    overlap = np.vdot(min_eigenvector, ansatz_state)\n",
    "    cost = np.abs(overlap)**2  \n",
    "\n",
    "    return (1 - cost)"
   ]
  },
  {
   "cell_type": "code",
   "execution_count": 269,
   "metadata": {},
   "outputs": [],
   "source": [
    "def hellinger(params):\n",
    "\n",
    "    params = pnp.tensor(params, requires_grad=True)\n",
    "    ansatz_state = final_circuit(params)\n",
    "    \n",
    "    min_eigenvector_prob = np.abs(min_eigenvector)**2\n",
    "    ansatz_prob = np.abs(ansatz_state)**2\n",
    "    cost = np.sum(np.sqrt(np.vdot(min_eigenvector_prob, ansatz_prob)))\n",
    "\n",
    "    return (1 - cost)"
   ]
  },
  {
   "cell_type": "code",
   "execution_count": 270,
   "metadata": {},
   "outputs": [
    {
     "name": "stdout",
     "output_type": "stream",
     "text": [
      "Running for overlap\n"
     ]
    }
   ],
   "source": [
    "x0 = np.random.uniform(0, 2 * np.pi, size=len(op_coeffs))\n",
    "o_iters = 10000\n",
    "o_tol=1e-8\n",
    "\n",
    "print(\"Running for overlap\")\n",
    "\n",
    "overlap_res = minimize(\n",
    "    overlap_function,\n",
    "    x0,\n",
    "    method= \"COBYLA\",\n",
    "    options= {'maxiter':o_iters, 'tol': o_tol}\n",
    ")\n",
    "\n",
    "hf_res = minimize(\n",
    "    hellinger,\n",
    "    x0,\n",
    "    method= \"COBYLA\",\n",
    "    options= {'maxiter':o_iters, 'tol': o_tol}\n",
    ")"
   ]
  },
  {
   "cell_type": "code",
   "execution_count": 271,
   "metadata": {},
   "outputs": [
    {
     "data": {
      "text/plain": [
       "np.float64(0.02856289256240696)"
      ]
     },
     "execution_count": 271,
     "metadata": {},
     "output_type": "execute_result"
    }
   ],
   "source": [
    "overlap_res.fun"
   ]
  },
  {
   "cell_type": "code",
   "execution_count": 272,
   "metadata": {},
   "outputs": [
    {
     "data": {
      "text/plain": [
       "np.float64(0.21190712963092517)"
      ]
     },
     "execution_count": 272,
     "metadata": {},
     "output_type": "execute_result"
    }
   ],
   "source": [
    "hf_res.fun"
   ]
  },
  {
   "cell_type": "code",
   "execution_count": 254,
   "metadata": {},
   "outputs": [],
   "source": [
    "data = {\"potential\": potential,\n",
    "        \"cutoff\": cutoff,\n",
    "        \"optimizer\": \"DE\",\n",
    "        \"num steps\": num_steps,\n",
    "        \"basis_state\": basis_state,\n",
    "        \"op_list\": [str(o[0].terms()[1]) for o in op_list],\n",
    "        \"overlap\": overlap_res.fun,\n",
    "        \"hellinger\": hf_res.fun\n",
    "        }"
   ]
  },
  {
   "cell_type": "code",
   "execution_count": 255,
   "metadata": {},
   "outputs": [
    {
     "data": {
      "text/plain": [
       "{'potential': 'DW',\n",
       " 'cutoff': 8,\n",
       " 'optimizer': 'DE',\n",
       " 'num steps': 5,\n",
       " 'basis_state': [1, 0, 0, 0],\n",
       " 'op_list': ['[Y(2)]', '[Y(3)]', '[Y(1)]'],\n",
       " 'overlap': np.float64(1.0),\n",
       " 'hellinger': np.float64(1.0)}"
      ]
     },
     "execution_count": 255,
     "metadata": {},
     "output_type": "execute_result"
    }
   ],
   "source": [
    "data"
   ]
  },
  {
   "cell_type": "code",
   "execution_count": 256,
   "metadata": {},
   "outputs": [],
   "source": [
    "# Save the variable to a JSON file\n",
    "base_path = r\"C:\\Users\\Johnk\\Documents\\PhD\\Quantum Computing Code\\Quantum-Computing\\SUSY\\SUSY QM\\PennyLane\\ADAPT-VQE\\Files\\TimeEv\\\\\"\n",
    "os.makedirs(base_path, exist_ok=True)\n",
    "path = base_path + \"{}_{}.json\".format(potential, cutoff)\n",
    "with open(path, 'w') as json_file:\n",
    "    json.dump(data, json_file, indent=4)"
   ]
  },
  {
   "cell_type": "code",
   "execution_count": null,
   "metadata": {},
   "outputs": [],
   "source": []
  },
  {
   "cell_type": "code",
   "execution_count": 36,
   "metadata": {},
   "outputs": [],
   "source": [
    "dev = qml.device(\"default.qubit\", wires=num_qubits)\n",
    "@qml.qnode(dev)\n",
    "def test(params):\n",
    "\n",
    "    qml.BasisState([1,1,1,0], wires=range(num_qubits))\n",
    "\n",
    "    qml.PauliRot(params[0], 'IXXI', wires=[0,1,2,3])\n",
    "    qml.PauliRot(params[1], 'Y', wires=[2])\n",
    "    qml.PauliRot(params[2], 'IIZI', wires=[0,1,2,3])\n",
    "    qml.PauliRot(params[3], 'IXXZ', wires=[0,1,2,3])\n",
    "\n",
    "    return qml.expval(qml.Hermitian(H, wires=range(num_qubits)))"
   ]
  },
  {
   "cell_type": "code",
   "execution_count": null,
   "metadata": {},
   "outputs": [],
   "source": [
    "x0 = np.random.uniform(0, 2 * np.pi, size=4)\n",
    "print(qml.draw(test)(x0))"
   ]
  }
 ],
 "metadata": {
  "kernelspec": {
   "display_name": ".venv",
   "language": "python",
   "name": "python3"
  },
  "language_info": {
   "codemirror_mode": {
    "name": "ipython",
    "version": 3
   },
   "file_extension": ".py",
   "mimetype": "text/x-python",
   "name": "python",
   "nbconvert_exporter": "python",
   "pygments_lexer": "ipython3",
   "version": "3.13.1"
  }
 },
 "nbformat": 4,
 "nbformat_minor": 2
}
