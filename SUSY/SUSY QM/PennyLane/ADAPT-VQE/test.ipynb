{
 "cells": [
  {
   "cell_type": "code",
   "execution_count": 6,
   "metadata": {},
   "outputs": [],
   "source": [
    "# PennyLane imports\n",
    "import pennylane as qml\n",
    "from pennylane import numpy as pnp\n",
    "\n",
    "# General imports\n",
    "import numpy as np\n",
    "\n",
    "from qiskit.quantum_info import SparsePauliOp\n",
    "\n",
    "# custom module\n",
    "from susy_qm import calculate_Hamiltonian"
   ]
  },
  {
   "cell_type": "code",
   "execution_count": 417,
   "metadata": {},
   "outputs": [],
   "source": [
    "potential = 'QHO'\n",
    "cutoff = 16\n",
    "shots = 1024"
   ]
  },
  {
   "cell_type": "code",
   "execution_count": 418,
   "metadata": {},
   "outputs": [],
   "source": [
    "#calculate Hamiltonian and expected eigenvalues\n",
    "H = calculate_Hamiltonian(cutoff, potential)\n",
    "eigenvalues = np.sort(np.linalg.eig(H)[0])\n",
    "min_eigenvalue = min(eigenvalues.real)\n",
    "\n",
    "#create qiskit Hamiltonian Pauli string\n",
    "hamiltonian = SparsePauliOp.from_operator(H)\n",
    "num_qubits = hamiltonian.num_qubits"
   ]
  },
  {
   "cell_type": "code",
   "execution_count": 419,
   "metadata": {},
   "outputs": [
    {
     "data": {
      "text/plain": [
       "array([ 0.+0.j,  1.+0.j,  1.+0.j,  2.+0.j,  2.+0.j,  3.+0.j,  3.+0.j,\n",
       "        4.+0.j,  4.+0.j,  5.+0.j,  5.+0.j,  6.+0.j,  6.+0.j,  7.+0.j,\n",
       "        7.+0.j,  7.+0.j,  8.+0.j,  8.+0.j,  8.+0.j,  9.+0.j,  9.+0.j,\n",
       "       10.+0.j, 10.+0.j, 11.+0.j, 11.+0.j, 12.+0.j, 12.+0.j, 13.+0.j,\n",
       "       13.+0.j, 14.+0.j, 14.+0.j, 15.+0.j])"
      ]
     },
     "execution_count": 419,
     "metadata": {},
     "output_type": "execute_result"
    }
   ],
   "source": [
    "eigenvalues"
   ]
  },
  {
   "cell_type": "code",
   "execution_count": 420,
   "metadata": {},
   "outputs": [
    {
     "data": {
      "text/plain": [
       "np.float64(0.0)"
      ]
     },
     "execution_count": 420,
     "metadata": {},
     "output_type": "execute_result"
    }
   ],
   "source": [
    "min_eigenvalue"
   ]
  },
  {
   "cell_type": "code",
   "execution_count": 421,
   "metadata": {},
   "outputs": [
    {
     "data": {
      "text/plain": [
       "5"
      ]
     },
     "execution_count": 421,
     "metadata": {},
     "output_type": "execute_result"
    }
   ],
   "source": [
    "num_qubits"
   ]
  },
  {
   "cell_type": "code",
   "execution_count": 422,
   "metadata": {},
   "outputs": [
    {
     "data": {
      "text/plain": [
       "SparsePauliOp(['IIIII', 'IIIZI', 'IIIZZ', 'IIZII', 'IIZIZ', 'IIZZI', 'IIZZZ', 'IZIII', 'IZIIZ', 'IZIZI', 'IZIZZ', 'IZZII', 'IZZIZ', 'IZZZI', 'IZZZZ', 'ZIIII'],\n",
       "              coeffs=[ 7.5+0.j, -0.5+0.j, -0.5+0.j, -1.5+0.j, -0.5+0.j, -0.5+0.j,  0.5+0.j,\n",
       " -3.5+0.j, -0.5+0.j, -0.5+0.j,  0.5+0.j, -0.5+0.j,  0.5+0.j,  0.5+0.j,\n",
       " -0.5+0.j,  0.5+0.j])"
      ]
     },
     "execution_count": 422,
     "metadata": {},
     "output_type": "execute_result"
    }
   ],
   "source": [
    "hamiltonian"
   ]
  },
  {
   "cell_type": "code",
   "execution_count": 423,
   "metadata": {},
   "outputs": [],
   "source": [
    "operator_pool = [\n",
    "    qml.Rot(0.0, 0.0, 0.0, wires=0),\n",
    "    qml.Rot(0.0, 0.0, 0.0, wires=1)\n",
    "    #parameterized_CNOT(param=0.0)\n",
    "    #qml.CZ(wires=[0,1])\n",
    "]"
   ]
  },
  {
   "cell_type": "code",
   "execution_count": 429,
   "metadata": {},
   "outputs": [],
   "source": [
    "dev = qml.device(\"default.qubit\", wires=num_qubits)\n",
    "\n",
    "@qml.qnode(dev)\n",
    "def circuit():\n",
    "    qml.PauliX(0)\n",
    "    qml.PauliX(1)\n",
    "    return qml.expval(qml.Hermitian(H, wires=range(num_qubits)))"
   ]
  },
  {
   "cell_type": "code",
   "execution_count": 430,
   "metadata": {},
   "outputs": [
    {
     "name": "stdout",
     "output_type": "stream",
     "text": [
      "0: ──X─┤ ╭<𝓗(M0)>\n",
      "1: ──X─┤ ├<𝓗(M0)>\n",
      "2: ────┤ ├<𝓗(M0)>\n",
      "3: ────┤ ├<𝓗(M0)>\n",
      "4: ────┤ ╰<𝓗(M0)>\n",
      "\n",
      "M0 = \n",
      "[[ 1.+0.j  0.+0.j  0.+0.j ...  0.+0.j  0.+0.j  0.+0.j]\n",
      " [ 0.+0.j  2.+0.j  0.+0.j ...  0.+0.j  0.+0.j  0.+0.j]\n",
      " [ 0.+0.j  0.+0.j  3.+0.j ...  0.+0.j  0.+0.j  0.+0.j]\n",
      " ...\n",
      " [ 0.+0.j  0.+0.j  0.+0.j ... 13.+0.j  0.+0.j  0.+0.j]\n",
      " [ 0.+0.j  0.+0.j  0.+0.j ...  0.+0.j 14.+0.j  0.+0.j]\n",
      " [ 0.+0.j  0.+0.j  0.+0.j ...  0.+0.j  0.+0.j  7.+0.j]]\n"
     ]
    }
   ],
   "source": [
    "print(qml.draw(circuit)())"
   ]
  },
  {
   "cell_type": "code",
   "execution_count": 431,
   "metadata": {},
   "outputs": [
    {
     "name": "stdout",
     "output_type": "stream",
     "text": [
      "n = 0,  E = 8.00000000 H, Largest Gradient = 0.000\n",
      "0: ──X──Rot─┤ ╭<𝓗(M0)>\n",
      "1: ──X──────┤ ├<𝓗(M0)>\n",
      "2: ─────────┤ ├<𝓗(M0)>\n",
      "3: ─────────┤ ├<𝓗(M0)>\n",
      "4: ─────────┤ ╰<𝓗(M0)>\n",
      "\n"
     ]
    }
   ],
   "source": [
    "opt = qml.AdaptiveOptimizer()\n",
    "\n",
    "for i in range(len(operator_pool)):\n",
    "    circuit, energy, gradient = opt.step_and_cost(circuit, operator_pool, drain_pool=True)\n",
    "    if i % 3 == 0:\n",
    "        print(\"n = {:},  E = {:.8f} H, Largest Gradient = {:.3f}\".format(i, energy, gradient))\n",
    "        print(qml.draw(circuit, decimals=None, show_matrices=False)())\n",
    "        print()\n",
    "    if energy < 1e-5:\n",
    "        break"
   ]
  },
  {
   "cell_type": "code",
   "execution_count": null,
   "metadata": {},
   "outputs": [],
   "source": []
  },
  {
   "cell_type": "code",
   "execution_count": 122,
   "metadata": {},
   "outputs": [],
   "source": [
    "# Pool of operators (e.g., single-qubit rotations and entangling gates)\n",
    "operator_pool = [\n",
    "    qml.Rot(0.0, 0.0, 0.0, wires=0)\n",
    "    #qml.Rot(0.0, 0.0, 0.0, wires=1)\n",
    "    #qml.CNOT(wires=[0, 1])\n",
    "    #qml.CZ(wires=[0,1])\n",
    "]"
   ]
  },
  {
   "cell_type": "code",
   "execution_count": 124,
   "metadata": {},
   "outputs": [],
   "source": [
    "# Define the device\n",
    "dev = qml.device(\"default.qubit\", wires=num_qubits)\n",
    "\n",
    "# Adaptive ansatz, starts with the basis state and grows dynamically\n",
    "def adaptive_ansatz(params, ops):\n",
    "\n",
    "    # basis state\n",
    "    for i in range(num_qubits):\n",
    "        qml.PauliX(i)\n",
    "\n",
    "    for param, op in zip(params, ops):\n",
    "        if len(param) == 3:  # For rotation gates\n",
    "            qml.Rot(*param, wires=op.wires)\n",
    "        else:  # For non-parameterized gates\n",
    "            op\n",
    "\n",
    "    #return qml.expval(qml.Hermitian(H, wires=range(num_qubits)))"
   ]
  },
  {
   "cell_type": "code",
   "execution_count": 112,
   "metadata": {},
   "outputs": [],
   "source": [
    "# Cost function to minimize the expectation value of the Hamiltonian\n",
    "def cost_function(params, ops):\n",
    "    \n",
    "    @qml.qnode(dev)\n",
    "    def circuit():\n",
    "        adaptive_ansatz(params, ops)\n",
    "        return qml.expval(qml.Hermitian(H, wires=range(num_qubits)))\n",
    "    \n",
    "    return circuit()"
   ]
  },
  {
   "cell_type": "code",
   "execution_count": 212,
   "metadata": {},
   "outputs": [],
   "source": [
    "def compute_operator_gradients(params, ops):\n",
    "    grads = []\n",
    "    for i, op in enumerate(operator_pool):\n",
    "        # Define a QNode for gradient computation specific to the operator\n",
    "        @qml.qnode(dev)\n",
    "        def gradient_circuit(params):\n",
    "            adaptive_ansatz(params, ops + [op])\n",
    "            return qml.expval(qml.Hermitian(H, wires=range(num_qubits)))\n",
    "\n",
    "        try:\n",
    "            # Compute the gradient of the energy with respect to the operator\n",
    "            grad_fn = qml.grad(gradient_circuit)\n",
    "            grad = grad_fn(params)\n",
    "            grads.append(grad)\n",
    "        except Exception as e:\n",
    "            print(f\"Error computing gradient for operator {i}: {e}\")\n",
    "            grads.append(0.0)  # Append zero if gradient computation fails\n",
    "\n",
    "    print(f\"Gradients: {grads}\")\n",
    "    return np.abs(np.array(grads))\n"
   ]
  },
  {
   "cell_type": "code",
   "execution_count": null,
   "metadata": {},
   "outputs": [],
   "source": [
    "# Main ADAPT-VQE routine\n",
    "tol=1e-4,\n",
    "max_steps=50\n",
    "\n",
    "params = []\n",
    "ops = []\n",
    "opt = qml.AdamOptimizer(stepsize=0.1)\n",
    "step = 0\n",
    "\n",
    "while step < max_steps:\n",
    "\n",
    "    if not params:  # For the first operator, initialize a single set of parameters\n",
    "        params = [pnp.tensor(np.zeros(3), requires_grad=True)]\n",
    "    else:  # For subsequent operators, extend the parameter list\n",
    "        params.append(pnp.tensor(np.zeros(3), requires_grad=True))\n",
    "\n",
    "    # Compute operator gradients\n",
    "    grads = compute_operator_gradients(params, ops)\n",
    "\n",
    "    # Select the operator with the largest gradient\n",
    "    max_grad_idx = np.argmax(grads)\n",
    "    if grads[max_grad_idx] < tol:\n",
    "        print(\"Converged!\")\n",
    "        break\n",
    "\n",
    "    # Add the selected operator to the ansatz\n",
    "    ops.append(operator_pool[max_grad_idx])\n",
    "    params.append(np.zeros(3))  # Initialize parameters for the new gate\n",
    "\n",
    "    # Optimize the parameters\n",
    "    params = opt.step(lambda p: cost_function(p, ops), params)\n",
    "\n",
    "    # Print the current energy\n",
    "    energy = cost_function(params, ops)\n",
    "    print(f\"Step {step + 1}: Energy = {energy:.6f}\")\n",
    "    step += 1"
   ]
  },
  {
   "cell_type": "code",
   "execution_count": 235,
   "metadata": {},
   "outputs": [
    {
     "data": {
      "text/plain": [
       "[tensor([0., 0., 0.], requires_grad=True)]"
      ]
     },
     "execution_count": 235,
     "metadata": {},
     "output_type": "execute_result"
    }
   ],
   "source": [
    "params"
   ]
  },
  {
   "cell_type": "code",
   "execution_count": 240,
   "metadata": {},
   "outputs": [],
   "source": [
    "dev = qml.device(\"default.qubit\", wires=num_qubits)\n",
    "\n",
    "@qml.qnode(dev)\n",
    "def gradient_circuit(params, ops_list):\n",
    "    adaptive_ansatz(params, ops_list)\n",
    "    return qml.expval(qml.Hermitian(H, wires=range(num_qubits)))\n"
   ]
  },
  {
   "cell_type": "code",
   "execution_count": 288,
   "metadata": {},
   "outputs": [
    {
     "name": "stdout",
     "output_type": "stream",
     "text": [
      "[Rot(0.0, 0.0, 0.0, wires=[0])]\n",
      "[tensor([0., 0., 0.], requires_grad=True)]\n",
      "hello\n"
     ]
    }
   ],
   "source": [
    "grads = []\n",
    "\n",
    "for i, op in enumerate(operator_pool):\n",
    "    # Define a QNode for gradient computation specific to the operator\n",
    "    ops_list = ops + [op]\n",
    "    print(ops_list)\n",
    "    try:\n",
    "        # Compute the gradient of the energy with respect to the operator\n",
    "        #grad = qml.grad(gradient_circuit)(params, ops_list)\n",
    "        grad = qml.grad(adaptive_ansatz)(params, ops_list)\n",
    "        print(params)\n",
    "        #grad = grad_fn(params)\n",
    "        grads.append(grad)\n",
    "        print(\"hello\")\n",
    "        grads\n",
    "    except Exception as e:\n",
    "        print(f\"Error computing gradient for operator {i}: {e}\")\n",
    "        grads.append(0.0)"
   ]
  },
  {
   "cell_type": "code",
   "execution_count": 290,
   "metadata": {},
   "outputs": [
    {
     "data": {
      "text/plain": [
       "[()]"
      ]
     },
     "execution_count": 290,
     "metadata": {},
     "output_type": "execute_result"
    }
   ],
   "source": [
    "grads"
   ]
  },
  {
   "cell_type": "code",
   "execution_count": 291,
   "metadata": {},
   "outputs": [
    {
     "data": {
      "text/plain": [
       "[tensor([0., 0., 0.], requires_grad=True)]"
      ]
     },
     "execution_count": 291,
     "metadata": {},
     "output_type": "execute_result"
    }
   ],
   "source": [
    "params"
   ]
  },
  {
   "cell_type": "code",
   "execution_count": 244,
   "metadata": {},
   "outputs": [
    {
     "data": {
      "text/plain": [
       "[Rot(0.0, 0.0, 0.0, wires=[0])]"
      ]
     },
     "execution_count": 244,
     "metadata": {},
     "output_type": "execute_result"
    }
   ],
   "source": [
    "ops_list"
   ]
  },
  {
   "cell_type": "code",
   "execution_count": 257,
   "metadata": {},
   "outputs": [
    {
     "name": "stdout",
     "output_type": "stream",
     "text": [
      "[0. 0. 0.]\n",
      "Rot(0.0, 0.0, 0.0, wires=[0])\n"
     ]
    }
   ],
   "source": [
    "for param, op in zip(params, ops_list):\n",
    "    print(param)\n",
    "    print(op)"
   ]
  },
  {
   "cell_type": "code",
   "execution_count": 263,
   "metadata": {},
   "outputs": [
    {
     "data": {
      "text/plain": [
       "tensor([0., 0., 0.], requires_grad=True)"
      ]
     },
     "execution_count": 263,
     "metadata": {},
     "output_type": "execute_result"
    }
   ],
   "source": [
    "pnp.tensor(param, requires_grad=True)"
   ]
  },
  {
   "cell_type": "code",
   "execution_count": 283,
   "metadata": {},
   "outputs": [],
   "source": [
    "# Define the device\n",
    "dev = qml.device(\"default.qubit\", wires=num_qubits)\n",
    "\n",
    "# Adaptive ansatz, starts with the basis state and grows dynamically\n",
    "@qml.qnode(dev)\n",
    "def adaptive_ansatz(params, ops):\n",
    "\n",
    "    # basis state\n",
    "    for i in range(num_qubits):\n",
    "        qml.PauliX(i)\n",
    "\n",
    "    for param, op in zip(params, ops):\n",
    "        gate_params = pnp.tensor([0.0,0.0,0.0], requires_grad=True)\n",
    "        if len(param) == 3:  # For rotation gates\n",
    "            qml.Rot(0.0, 0.0, 0.0, wires=op.wires)\n",
    "        else:  # For non-parameterized gates\n",
    "            op\n",
    "\n",
    "    return qml.expval(qml.Hermitian(H, wires=range(num_qubits)))"
   ]
  },
  {
   "cell_type": "code",
   "execution_count": 121,
   "metadata": {},
   "outputs": [
    {
     "name": "stdout",
     "output_type": "stream",
     "text": [
      "Error computing gradient for operator 0: multi-dimensional sub-views are not implemented\n",
      "Error computing gradient for operator 1: multi-dimensional sub-views are not implemented\n",
      "Gradients: [0.0, 0.0]\n",
      "Converged!\n",
      "Final Parameters: []\n",
      "Final Operators: []\n"
     ]
    }
   ],
   "source": [
    "print(\"Final Parameters:\", params)\n",
    "print(\"Final Operators:\", ops)"
   ]
  },
  {
   "cell_type": "code",
   "execution_count": null,
   "metadata": {},
   "outputs": [],
   "source": []
  }
 ],
 "metadata": {
  "kernelspec": {
   "display_name": ".venv",
   "language": "python",
   "name": "python3"
  },
  "language_info": {
   "codemirror_mode": {
    "name": "ipython",
    "version": 3
   },
   "file_extension": ".py",
   "mimetype": "text/x-python",
   "name": "python",
   "nbconvert_exporter": "python",
   "pygments_lexer": "ipython3",
   "version": "3.13.1"
  }
 },
 "nbformat": 4,
 "nbformat_minor": 2
}
