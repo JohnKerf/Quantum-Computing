{
 "cells": [
  {
   "cell_type": "code",
   "execution_count": 1,
   "metadata": {},
   "outputs": [],
   "source": [
    "import pennylane as qml\n",
    "from pennylane import numpy as pnp\n",
    "import numpy as np\n",
    "from qiskit.quantum_info import SparsePauliOp\n",
    "from scipy.optimize import minimize, differential_evolution\n",
    "import os\n",
    "import json\n",
    "from susy_qm import calculate_Hamiltonian"
   ]
  },
  {
   "cell_type": "code",
   "execution_count": 34,
   "metadata": {},
   "outputs": [],
   "source": [
    "potential = 'QHO'\n",
    "cutoff = 8\n",
    "shots = None"
   ]
  },
  {
   "cell_type": "code",
   "execution_count": 35,
   "metadata": {},
   "outputs": [
    {
     "data": {
      "text/plain": [
       "4"
      ]
     },
     "execution_count": 35,
     "metadata": {},
     "output_type": "execute_result"
    }
   ],
   "source": [
    "#calculate Hamiltonian and expected eigenvalues\n",
    "H = calculate_Hamiltonian(cutoff, potential)\n",
    "\n",
    "eigenvalues, eigenvectors = np.linalg.eig(H)\n",
    "min_index = np.argmin(eigenvalues)\n",
    "min_eigenvalue = eigenvalues[min_index]\n",
    "min_eigenvector = np.asarray(eigenvectors[:, min_index])\n",
    "\n",
    "#create qiskit Hamiltonian Pauli string\n",
    "hamiltonian = SparsePauliOp.from_operator(H)\n",
    "num_qubits = hamiltonian.num_qubits\n",
    "\n",
    "num_qubits"
   ]
  },
  {
   "cell_type": "code",
   "execution_count": 36,
   "metadata": {},
   "outputs": [],
   "source": [
    "min_3_ev = eigenvalues.argsort()[:3]\n",
    "eigenvector = np.asarray(eigenvectors[:, min_3_ev[0]])"
   ]
  },
  {
   "cell_type": "code",
   "execution_count": 37,
   "metadata": {},
   "outputs": [],
   "source": [
    "operator_pool = []\n",
    "for i in range(num_qubits):\n",
    "    operator_pool.append(qml.Identity(i))\n",
    "    #operator_pool.append(qml.PauliX(i))\n",
    "    operator_pool.append(qml.PauliY(i))\n",
    "    operator_pool.append(qml.PauliZ(i))\n",
    "\n",
    "cz_pool = []\n",
    "for control in range(num_qubits):\n",
    "        for target in range(num_qubits):\n",
    "            if control != target:\n",
    "                cz_pool.append(qml.CZ(wires=[control, target]))\n"
   ]
  },
  {
   "cell_type": "code",
   "execution_count": 38,
   "metadata": {},
   "outputs": [],
   "source": [
    "dev = qml.device(\"default.qubit\", wires=num_qubits, shots=shots)\n",
    "basis_state = [1,0,0,0]\n",
    "\n",
    "@qml.qnode(dev)\n",
    "def circuit(times, op_list, try_cz=False, cz_wires=None, trotter_steps=1):\n",
    "\n",
    "    qml.BasisState(basis_state, wires=range(num_qubits))\n",
    "\n",
    "    param_index = 0\n",
    "    for op in op_list:\n",
    "        if type(op) == qml.CZ:\n",
    "            qml.CZ(wires=op.wires)\n",
    "        else:\n",
    "            qml.ApproxTimeEvolution(op, time=times[param_index], n=trotter_steps)\n",
    "            param_index += 1\n",
    "\n",
    "    if try_cz:\n",
    "        qml.CZ(wires=cz_wires)\n",
    "\n",
    "    return qml.expval(qml.Hermitian(H, wires=range(num_qubits)))\n"
   ]
  },
  {
   "cell_type": "code",
   "execution_count": 39,
   "metadata": {},
   "outputs": [],
   "source": [
    "dev = qml.device(\"default.qubit\", wires=2*num_qubits, shots=shots)\n",
    "basis_state = [1,0,0,0]\n",
    "\n",
    "@qml.qnode(dev)\n",
    "def swap_test(prev_times, times, prev_op_list, op_list, basis_state):\n",
    "\n",
    "    trotter_steps=1\n",
    "    bs = (basis_state + basis_state)\n",
    "    qml.BasisState(bs, wires=range(2*num_qubits))\n",
    "   \n",
    "    prev_param_index = 0\n",
    "    for pop in prev_op_list:\n",
    "\n",
    "        if type(pop) == qml.CZ:\n",
    "            qml.CZ(wires=pop.wires)\n",
    "        else:\n",
    "            qml.ApproxTimeEvolution(pop, time=prev_times[prev_param_index], n=trotter_steps)\n",
    "            prev_param_index += 1\n",
    "    \n",
    "    param_index  = 0\n",
    "    for op in op_list:\n",
    "        if type(op) == qml.CZ:\n",
    "            w0 = op.wires[0] + num_qubits\n",
    "            w1 = op.wires[1] + num_qubits\n",
    "            wire_map = {op.wires[0]:w0, op.wires[1]:w1}\n",
    "            op = op.map_wires(wire_map)\n",
    "            qml.CZ(wires=op.wires)\n",
    "        else:\n",
    "            wire = op.wires[0] + num_qubits\n",
    "            wire_map = {op.wires[0]: wire}\n",
    "            op = op.map_wires(wire_map)\n",
    "            qml.ApproxTimeEvolution(op, time=times[param_index], n=trotter_steps)  \n",
    "            param_index += 1\n",
    "    \n",
    "    qml.Barrier()\n",
    "    for i in range(num_qubits):\n",
    "        qml.CNOT(wires=[i, i+num_qubits])    \n",
    "        qml.Hadamard(wires=i)   \n",
    "\n",
    "    prob = qml.probs(wires=range(2*num_qubits))\n",
    "\n",
    "    return prob\n"
   ]
  },
  {
   "cell_type": "code",
   "execution_count": 41,
   "metadata": {},
   "outputs": [],
   "source": [
    "def overlap(prev_times, times, prev_op_list, op_list, basis_state):\n",
    "\n",
    "    probs = swap_test(prev_times, times, prev_op_list, op_list, basis_state)\n",
    "\n",
    "    overlap = 0\n",
    "    for idx, p in enumerate(probs):\n",
    "\n",
    "        bitstring = format(idx, '0{}b'.format(2*num_qubits))\n",
    "\n",
    "        counter_11 = 0\n",
    "        for i in range(num_qubits):\n",
    "            a = int(bitstring[i])\n",
    "            b = int(bitstring[i+num_qubits])\n",
    "            if (a == 1 and b == 1):\n",
    "                counter_11 +=1\n",
    "\n",
    "        overlap += p*(-1)**counter_11\n",
    "\n",
    "    return overlap"
   ]
  },
  {
   "cell_type": "code",
   "execution_count": 42,
   "metadata": {},
   "outputs": [],
   "source": [
    "def loss_f(params, op_list, prev_ops, prev_params, beta=2.0):\n",
    "\n",
    "    energy = circuit(params, op_list)\n",
    "    \n",
    "    penalty = 0\n",
    "    try:\n",
    "        if len(prev_ops) != 0:\n",
    "            for prev_param, prev_op in zip([prev_params], [prev_ops]):\n",
    "                ol = overlap(prev_times=prev_param, times=params, prev_op_list=prev_op, op_list=op_list, basis_state=basis_state)\n",
    "                penalty += (beta*ol)\n",
    "    except Exception as e:\n",
    "        print(e)\n",
    "        print(params)\n",
    "        raise\n",
    "\n",
    "    return energy + (penalty)"
   ]
  },
  {
   "cell_type": "code",
   "execution_count": 43,
   "metadata": {},
   "outputs": [],
   "source": [
    "@qml.qnode(dev)\n",
    "def grad_circuit(times, operator_ham, op_list, op_params, trotter_steps=1):\n",
    "\n",
    "    qml.BasisState(basis_state, wires=range(num_qubits))\n",
    "    param_index = 0\n",
    "    for op in op_list:\n",
    "        if type(op) == qml.CZ:\n",
    "            qml.CZ(wires=op.wires)\n",
    "        else:\n",
    "            qml.ApproxTimeEvolution(op, time=op_params[param_index], n=trotter_steps)\n",
    "            param_index +=1\n",
    "\n",
    "    qml.ApproxTimeEvolution(operator_ham, time=times, n=trotter_steps)\n",
    "\n",
    "    return qml.expval(qml.Hermitian(H, wires=range(num_qubits)))\n"
   ]
  },
  {
   "cell_type": "code",
   "execution_count": 44,
   "metadata": {},
   "outputs": [],
   "source": [
    "def compute_grad(operator, op_list, op_params):\n",
    "    t = pnp.tensor(0.0, requires_grad=True)\n",
    "    grad_fn = qml.grad(grad_circuit)\n",
    "    grad = grad_fn(t, operator, op_list, op_params)\n",
    "    return grad"
   ]
  },
  {
   "cell_type": "code",
   "execution_count": 49,
   "metadata": {},
   "outputs": [
    {
     "data": {
      "text/plain": [
       "[I(0), I(0), CZ(wires=[0, 1]), I(0)]"
      ]
     },
     "execution_count": 49,
     "metadata": {},
     "output_type": "execute_result"
    }
   ],
   "source": [
    "pop_list"
   ]
  },
  {
   "cell_type": "code",
   "execution_count": 50,
   "metadata": {},
   "outputs": [
    {
     "data": {
      "text/plain": [
       "array([4.86706754, 4.23773373])"
      ]
     },
     "execution_count": 50,
     "metadata": {},
     "output_type": "execute_result"
    }
   ],
   "source": [
    "pop_params"
   ]
  },
  {
   "cell_type": "code",
   "execution_count": 104,
   "metadata": {},
   "outputs": [
    {
     "name": "stdout",
     "output_type": "stream",
     "text": [
      "######################################\n",
      "level: 0\n",
      "step: 0\n",
      "Max op is I(0)\n",
      "[I(0)] [] [] [2.6445966485455723]\n",
      "op_params: [2.64459665]\n",
      "Min E: 0.0\n",
      "True\n",
      "Testing CZ pool\n",
      "step: 1\n",
      "Max op is I(0)\n",
      "[I(0), I(0)] [] [] [1.1605782483549127, 1.9623006094930762]\n",
      "op_params: [1.16057825 1.96230061]\n",
      "Min E: 0.0\n",
      "True\n",
      "Testing CZ pool\n",
      "gradient converged\n",
      "[[I(0), I(0)]]\n",
      "[array([1.16057825, 1.96230061])]\n",
      "######################################\n",
      "level: 1\n",
      "step: 0\n",
      "Max op is I(0)\n",
      "[I(0), I(0), I(0)] [I(0), I(0)] [1.16057825 1.96230061] [4.648969846088399, 4.38471527074582, 0.7101986371122927]\n",
      "op_params: [4.64896985 4.38471527 0.71019864]\n",
      "Min E: 1.9999999999999991\n",
      "True\n",
      "Testing CZ pool\n",
      "Adding CZ(wires=[0, 1]) reduces energy further\n",
      "Min E: 0.0\n",
      "step: 1\n",
      "Max op is I(0)\n",
      "[I(0), I(0), I(0), CZ(wires=[0, 1]), I(0)] [I(0), I(0)] [1.16057825 1.96230061] [0.6215571982376906, 5.998401391760616, 0.5008282713469413, 5.401785043584749, 1.9239722868094813]\n",
      "op_params: [0.6215572  5.99840139 0.50082827 5.40178504 1.92397229]\n",
      "Min E: 1.9999999999999991\n",
      "True\n",
      "Testing CZ pool\n",
      "Adding CZ(wires=[0, 1]) reduces energy further\n",
      "Min E: 0.0\n",
      "gradient converged\n",
      "[[I(0), I(0)], [I(0), I(0), I(0), CZ(wires=[0, 1]), I(0), CZ(wires=[0, 1])]]\n",
      "[array([1.16057825, 1.96230061]), array([0.6215572 , 5.99840139, 0.50082827, 5.40178504, 1.92397229])]\n"
     ]
    }
   ],
   "source": [
    "num_steps = 2\n",
    "num_levels = 2\n",
    "prev_ops = []\n",
    "prev_params = []\n",
    "\n",
    "for j in range(num_levels):\n",
    "\n",
    "    print(\"######################################\")\n",
    "    print(f\"level: {j}\")\n",
    "\n",
    "    if prev_ops:\n",
    "        #op_list = [o for ops in prev_ops.copy()[-1] for o in ops]\n",
    "        #op_params = [p for params in prev_params.copy()[-1] for p in params]\n",
    "        pop_list = prev_ops.copy()[-1]\n",
    "        pop_params = prev_params.copy()[-1]\n",
    "    else:\n",
    "        pop_list = []\n",
    "        pop_params = []\n",
    "\n",
    "    op_list = pop_list.copy()\n",
    "\n",
    "    for i in range(num_steps):\n",
    "\n",
    "        print(f\"step: {i}\")\n",
    "\n",
    "        grad_list = []\n",
    "\n",
    "        for op in operator_pool:\n",
    "            grad = compute_grad(op, pop_list, pop_params)\n",
    "            grad_list.append(abs(grad))\n",
    "\n",
    "        maxidx = np.argmax(grad_list)\n",
    "        max_op = operator_pool[maxidx]\n",
    "\n",
    "        print(f\"Max op is {max_op}\")\n",
    "\n",
    "        #if type(max_op) == qml.Identity:\n",
    "        #    print(\"Op is Identity... skipping\")\n",
    "        #    break\n",
    "\n",
    "        #if (op_list and max_op != op_list[-1]) or (not op_list):\n",
    "        #op_list = pop_list.copy() + [max_op]\n",
    "        op_list.append(max_op)\n",
    "\n",
    "        x0 = [np.random.rand()*2*np.pi for _ in range(len(op_list))]\n",
    "        print(op_list, pop_list, pop_params, x0)\n",
    "        res = minimize(\n",
    "                    loss_f,\n",
    "                    x0=x0,\n",
    "                    args=(op_list, pop_list, pop_params),\n",
    "                    method= \"COBYLA\",\n",
    "                    options= {'maxiter':10000, 'tol': 1e-8}\n",
    "                )\n",
    "        \n",
    "        if i!=0: \n",
    "            pre_min_e = min_e\n",
    "            pre_op_params = op_params\n",
    "\n",
    "        min_e = res.fun\n",
    "        op_params = res.x\n",
    "        print(f\"op_params: {op_params}\")\n",
    "\n",
    "        print(f\"Min E: {min_e}\")\n",
    "        print(res.success)\n",
    "\n",
    "        #else:\n",
    "        #    print(\"Op same as previous... skipping\")\n",
    "\n",
    "        \n",
    "        print(\"Testing CZ pool\")\n",
    "        cz_e = []\n",
    "        for term in cz_pool:\n",
    "            energy = circuit(op_params, op_list, try_cz=True, cz_wires=term.wires)\n",
    "            cz_e.append(energy)\n",
    "\n",
    "        min_cz_e = cz_e[np.argmin(cz_e)]\n",
    "        min_cz_term = cz_pool[np.argmin(cz_e)]\n",
    "        if min_cz_e < min_e:\n",
    "            print(f\"Adding {min_cz_term} reduces energy further\")\n",
    "            op_list.append(min_cz_term)\n",
    "            min_e = min_cz_e\n",
    "            print(f\"Min E: {min_e}\")\n",
    "        \n",
    "        if i!=0:\n",
    "            if abs(pre_min_e - min_e) < 1e-8:\n",
    "                print(\"gradient converged\")\n",
    "                #if type(op_list[-1]) == qml.CZ:\n",
    "                #    op_list.pop()\n",
    "                #    pass\n",
    "                #else:\n",
    "                #    op_list.pop()\n",
    "                #    op_params = pre_op_params#[:-len(pop_params)]\n",
    "                break\n",
    "\n",
    "      \n",
    "    prev_ops.append(op_list.copy())\n",
    "    prev_params.append(op_params.copy())\n",
    "    print(prev_ops)\n",
    "    print(prev_params)\n",
    "        \n",
    "    "
   ]
  },
  {
   "cell_type": "code",
   "execution_count": 101,
   "metadata": {},
   "outputs": [
    {
     "data": {
      "text/plain": [
       "array([0.24736779, 0.70284737, 0.18210836, 0.54950422, 0.1609648 ])"
      ]
     },
     "execution_count": 101,
     "metadata": {},
     "output_type": "execute_result"
    }
   ],
   "source": [
    "op_params"
   ]
  },
  {
   "cell_type": "code",
   "execution_count": 102,
   "metadata": {},
   "outputs": [
    {
     "data": {
      "text/plain": [
       "array([0.24736779, 0.70284737, 0.18210836, 0.54950422, 0.1609648 ])"
      ]
     },
     "execution_count": 102,
     "metadata": {},
     "output_type": "execute_result"
    }
   ],
   "source": [
    "res.x"
   ]
  },
  {
   "cell_type": "code",
   "execution_count": 82,
   "metadata": {},
   "outputs": [
    {
     "data": {
      "text/plain": [
       "0"
      ]
     },
     "execution_count": 82,
     "metadata": {},
     "output_type": "execute_result"
    }
   ],
   "source": [
    "len(pop_params)"
   ]
  },
  {
   "cell_type": "code",
   "execution_count": 89,
   "metadata": {},
   "outputs": [
    {
     "data": {
      "text/plain": [
       "array([4.18051356])"
      ]
     },
     "execution_count": 89,
     "metadata": {},
     "output_type": "execute_result"
    }
   ],
   "source": [
    "pre_op_params"
   ]
  },
  {
   "cell_type": "code",
   "execution_count": 75,
   "metadata": {},
   "outputs": [
    {
     "data": {
      "text/plain": [
       "array([2.49258228])"
      ]
     },
     "execution_count": 75,
     "metadata": {},
     "output_type": "execute_result"
    }
   ],
   "source": [
    "pre_op_params[:1]"
   ]
  },
  {
   "cell_type": "code",
   "execution_count": 47,
   "metadata": {},
   "outputs": [
    {
     "data": {
      "text/plain": [
       "[[], [], []]"
      ]
     },
     "execution_count": 47,
     "metadata": {},
     "output_type": "execute_result"
    }
   ],
   "source": [
    "prev_ops"
   ]
  },
  {
   "cell_type": "code",
   "execution_count": null,
   "metadata": {},
   "outputs": [],
   "source": [
    "pre_op_params"
   ]
  },
  {
   "cell_type": "code",
   "execution_count": null,
   "metadata": {},
   "outputs": [],
   "source": [
    "prev_ops"
   ]
  },
  {
   "cell_type": "code",
   "execution_count": null,
   "metadata": {},
   "outputs": [],
   "source": [
    "dev = qml.device(\"default.qubit\", wires=num_qubits)\n",
    "@qml.qnode(dev)\n",
    "def final_circuit(params, op_list):\n",
    "\n",
    "    qml.BasisState(basis_state, wires=range(num_qubits))\n",
    "    params_index = 0\n",
    "    for op in op_list:\n",
    "        if type(op) == qml.Identity:\n",
    "            continue\n",
    "        elif type(op) == qml.CZ:\n",
    "            qml.CZ(wires=op.wires)\n",
    "        else:\n",
    "            pauli_string = qml.pauli.pauli_word_to_string(op)\n",
    "            qml.PauliRot(params[params_index], pauli_string, wires=op.wires)\n",
    "            params_index += 1\n",
    "\n",
    "    return qml.state()"
   ]
  },
  {
   "cell_type": "code",
   "execution_count": null,
   "metadata": {},
   "outputs": [],
   "source": [
    "x0 = np.random.uniform(0, 2 * np.pi, size=len(op_list))\n",
    "print(qml.draw(final_circuit)(x0, op_list))"
   ]
  },
  {
   "cell_type": "code",
   "execution_count": null,
   "metadata": {},
   "outputs": [],
   "source": [
    "def overlap_function(params, op_list):\n",
    "\n",
    "    params = pnp.tensor(params, requires_grad=True)\n",
    "    ansatz_state = final_circuit(params, op_list)\n",
    "    \n",
    "    overlap = np.vdot(min_eigenvector, ansatz_state)\n",
    "    cost = np.abs(overlap)**2  \n",
    "\n",
    "    return (1 - cost)"
   ]
  },
  {
   "cell_type": "code",
   "execution_count": null,
   "metadata": {},
   "outputs": [],
   "source": [
    "x0 = np.random.uniform(0, 2 * np.pi, size=len(op_list))\n",
    "o_iters = 10000\n",
    "o_tol=1e-8\n",
    "\n",
    "print(\"Running for overlap\")\n",
    "overlap_res = minimize(\n",
    "    overlap_function,\n",
    "    x0,\n",
    "    args=(op_list),\n",
    "    method= \"COBYLA\",\n",
    "    options= {'maxiter':o_iters, 'tol': o_tol}\n",
    ")"
   ]
  },
  {
   "cell_type": "code",
   "execution_count": null,
   "metadata": {},
   "outputs": [],
   "source": [
    "overlap_res.fun"
   ]
  },
  {
   "cell_type": "code",
   "execution_count": null,
   "metadata": {},
   "outputs": [],
   "source": [
    "dev = qml.device(\"default.qubit\", wires=num_qubits)\n",
    "@qml.qnode(dev)\n",
    "def energy_circuit(params, op_list):\n",
    "\n",
    "    qml.BasisState(basis_state, wires=range(num_qubits))\n",
    "    params_index = 0\n",
    "    for op in op_list:\n",
    "        if type(op) == qml.Identity:\n",
    "            continue\n",
    "        elif type(op) == qml.CZ:\n",
    "            qml.CZ(wires=op.wires)\n",
    "        else:\n",
    "            pauli_string = qml.pauli.pauli_word_to_string(op)\n",
    "            qml.PauliRot(params[params_index], pauli_string, wires=op.wires)\n",
    "            params_index += 1\n",
    "\n",
    "    return qml.expval(qml.Hermitian(H, wires=range(num_qubits)))"
   ]
  },
  {
   "cell_type": "code",
   "execution_count": null,
   "metadata": {},
   "outputs": [],
   "source": [
    "x0 = overlap_res.x\n",
    "x0 = op_params\n",
    "energy_circuit(x0, op_list)"
   ]
  },
  {
   "cell_type": "code",
   "execution_count": null,
   "metadata": {},
   "outputs": [],
   "source": [
    "data = {\"potential\": potential,\n",
    "        \"cutoff\": cutoff,\n",
    "        \"optimizer\": \"DE\",\n",
    "        \"num steps\": num_steps,\n",
    "        \"basis_state\": basis_state,\n",
    "        \"op_list\": [str(o) for o in op_list],\n",
    "        \"overlap\": overlap_res.fun,\n",
    "        \"hellinger\": hf_res.fun\n",
    "        }"
   ]
  },
  {
   "cell_type": "code",
   "execution_count": null,
   "metadata": {},
   "outputs": [],
   "source": [
    "data"
   ]
  },
  {
   "cell_type": "code",
   "execution_count": null,
   "metadata": {},
   "outputs": [],
   "source": [
    "# Save the variable to a JSON file\n",
    "base_path = r\"C:\\Users\\Johnk\\Documents\\PhD\\Quantum Computing Code\\Quantum-Computing\\SUSY\\SUSY QM\\PennyLane\\ADAPT-VQE\\Files\\TimeEv\\\\\"\n",
    "os.makedirs(base_path, exist_ok=True)\n",
    "path = base_path + \"{}_{}.json\".format(potential, cutoff)\n",
    "with open(path, 'w') as json_file:\n",
    "    json.dump(data, json_file, indent=4)"
   ]
  }
 ],
 "metadata": {
  "kernelspec": {
   "display_name": ".venv",
   "language": "python",
   "name": "python3"
  },
  "language_info": {
   "codemirror_mode": {
    "name": "ipython",
    "version": 3
   },
   "file_extension": ".py",
   "mimetype": "text/x-python",
   "name": "python",
   "nbconvert_exporter": "python",
   "pygments_lexer": "ipython3",
   "version": "3.13.1"
  }
 },
 "nbformat": 4,
 "nbformat_minor": 2
}
