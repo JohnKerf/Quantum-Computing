{
 "cells": [
  {
   "cell_type": "code",
   "execution_count": 1,
   "metadata": {},
   "outputs": [],
   "source": [
    "import pennylane as qml\n",
    "from pennylane import numpy as pnp\n",
    "import numpy as np\n",
    "from qiskit.quantum_info import SparsePauliOp\n",
    "from scipy.optimize import minimize, differential_evolution\n",
    "import os\n",
    "import json\n",
    "from susy_qm import calculate_Hamiltonian"
   ]
  },
  {
   "cell_type": "code",
   "execution_count": 131,
   "metadata": {},
   "outputs": [],
   "source": [
    "potential = 'AHO'\n",
    "cutoff = 2\n",
    "shots = None"
   ]
  },
  {
   "cell_type": "code",
   "execution_count": 132,
   "metadata": {},
   "outputs": [
    {
     "data": {
      "text/plain": [
       "2"
      ]
     },
     "execution_count": 132,
     "metadata": {},
     "output_type": "execute_result"
    }
   ],
   "source": [
    "#calculate Hamiltonian and expected eigenvalues\n",
    "H = calculate_Hamiltonian(cutoff, potential)\n",
    "\n",
    "eigenvalues, eigenvectors = np.linalg.eig(H)\n",
    "min_index = np.argmin(eigenvalues)\n",
    "min_eigenvalue = eigenvalues[min_index]\n",
    "min_eigenvector = np.asarray(eigenvectors[:, min_index])\n",
    "\n",
    "#create qiskit Hamiltonian Pauli string\n",
    "hamiltonian = SparsePauliOp.from_operator(H)\n",
    "num_qubits = hamiltonian.num_qubits\n",
    "\n",
    "num_qubits"
   ]
  },
  {
   "cell_type": "code",
   "execution_count": 133,
   "metadata": {},
   "outputs": [
    {
     "data": {
      "text/plain": [
       "array([[1.+0.j, 0.+0.j, 0.+0.j, 0.+0.j],\n",
       "       [0.+0.j, 1.+0.j, 0.+0.j, 0.+0.j],\n",
       "       [0.+0.j, 0.+0.j, 1.+0.j, 0.+0.j],\n",
       "       [0.+0.j, 0.+0.j, 0.+0.j, 1.+0.j]])"
      ]
     },
     "execution_count": 133,
     "metadata": {},
     "output_type": "execute_result"
    }
   ],
   "source": [
    "eigenvectors"
   ]
  },
  {
   "cell_type": "code",
   "execution_count": 134,
   "metadata": {},
   "outputs": [],
   "source": [
    "min_3_ev = eigenvalues.argsort()[:3]\n",
    "eigenvector = np.asarray(eigenvectors[:, min_3_ev[0]])"
   ]
  },
  {
   "cell_type": "code",
   "execution_count": 150,
   "metadata": {},
   "outputs": [],
   "source": [
    "operator_pool = []\n",
    "for i in range(num_qubits):\n",
    "    #operator_pool.append(qml.Identity(i))\n",
    "    operator_pool.append(qml.PauliX(i))\n",
    "    operator_pool.append(qml.PauliY(i))\n",
    "    operator_pool.append(qml.PauliZ(i))\n",
    "\n",
    "cz_pool = []\n",
    "for control in range(num_qubits):\n",
    "        for target in range(num_qubits):\n",
    "            if control != target:\n",
    "                cz_pool.append(qml.CZ(wires=[control, target]))\n"
   ]
  },
  {
   "cell_type": "code",
   "execution_count": 158,
   "metadata": {},
   "outputs": [],
   "source": [
    "dev = qml.device(\"default.qubit\", wires=num_qubits, shots=shots)\n",
    "basis_state = [1,0]\n",
    "\n",
    "@qml.qnode(dev)\n",
    "def circuit(times, op_list, try_cz=False, cz_wires=None, trotter_steps=1):\n",
    "\n",
    "    qml.BasisState(basis_state, wires=range(num_qubits))\n",
    "\n",
    "    param_index = 0\n",
    "    for op in op_list:\n",
    "        if type(op) == qml.CZ:\n",
    "            qml.CZ(wires=op.wires)\n",
    "        else:\n",
    "            qml.ApproxTimeEvolution(op, time=times[param_index], n=trotter_steps)\n",
    "            param_index += 1\n",
    "\n",
    "    if try_cz:\n",
    "        qml.CZ(wires=cz_wires)\n",
    "\n",
    "    return qml.expval(qml.Hermitian(H, wires=range(num_qubits)))\n"
   ]
  },
  {
   "cell_type": "code",
   "execution_count": 159,
   "metadata": {},
   "outputs": [],
   "source": [
    "dev = qml.device(\"default.qubit\", wires=2*num_qubits, shots=shots)\n",
    "\n",
    "@qml.qnode(dev)\n",
    "def swap_test(prev_times, times, prev_op_list, op_list, basis_state):\n",
    "\n",
    "    trotter_steps=1\n",
    "    bs = (basis_state + basis_state)\n",
    "    qml.BasisState(bs, wires=range(2*num_qubits))\n",
    "   \n",
    "    prev_param_index = 0\n",
    "    for pop in prev_op_list:\n",
    "\n",
    "        if type(pop) == qml.CZ:\n",
    "            qml.CZ(wires=pop.wires)\n",
    "        else:\n",
    "            qml.ApproxTimeEvolution(pop, time=prev_times[prev_param_index], n=trotter_steps)\n",
    "            prev_param_index += 1\n",
    "    \n",
    "    param_index  = 0\n",
    "    for op in op_list:\n",
    "        if type(op) == qml.CZ:\n",
    "            w0 = op.wires[0] + num_qubits\n",
    "            w1 = op.wires[1] + num_qubits\n",
    "            wire_map = {op.wires[0]:w0, op.wires[1]:w1}\n",
    "            op = op.map_wires(wire_map)\n",
    "            qml.CZ(wires=op.wires)\n",
    "        else:\n",
    "            wire = op.wires[0] + num_qubits\n",
    "            wire_map = {op.wires[0]: wire}\n",
    "            op = op.map_wires(wire_map)\n",
    "            qml.ApproxTimeEvolution(op, time=times[param_index], n=trotter_steps)  \n",
    "            param_index += 1\n",
    "    \n",
    "    qml.Barrier()\n",
    "    for i in range(num_qubits):\n",
    "        qml.CNOT(wires=[i, i+num_qubits])    \n",
    "        qml.Hadamard(wires=i)   \n",
    "\n",
    "    prob = qml.probs(wires=range(2*num_qubits))\n",
    "\n",
    "    return prob\n"
   ]
  },
  {
   "cell_type": "code",
   "execution_count": 160,
   "metadata": {},
   "outputs": [],
   "source": [
    "def overlap(prev_times, times, prev_op_list, op_list, basis_state):\n",
    "\n",
    "    probs = swap_test(prev_times, times, prev_op_list, op_list, basis_state)\n",
    "\n",
    "    overlap = 0\n",
    "    for idx, p in enumerate(probs):\n",
    "\n",
    "        bitstring = format(idx, '0{}b'.format(2*num_qubits))\n",
    "\n",
    "        counter_11 = 0\n",
    "        for i in range(num_qubits):\n",
    "            a = int(bitstring[i])\n",
    "            b = int(bitstring[i+num_qubits])\n",
    "            if (a == 1 and b == 1):\n",
    "                counter_11 +=1\n",
    "\n",
    "        overlap += p*(-1)**counter_11\n",
    "\n",
    "    return overlap"
   ]
  },
  {
   "cell_type": "code",
   "execution_count": 161,
   "metadata": {},
   "outputs": [],
   "source": [
    "def loss_f(params, op_list, prev_ops, prev_params, beta=2.0):\n",
    "\n",
    "    energy = circuit(params, op_list)\n",
    "    \n",
    "    penalty = 0\n",
    "    try:\n",
    "        if len(prev_ops) != 0:\n",
    "            for prev_param, prev_op in zip([prev_params], [prev_ops]):\n",
    "                ol = overlap(prev_times=prev_param, times=params, prev_op_list=prev_op, op_list=op_list, basis_state=basis_state)\n",
    "                penalty += (beta*ol)\n",
    "    except Exception as e:\n",
    "        print(e)\n",
    "        print(params)\n",
    "        raise\n",
    "\n",
    "    return energy + (penalty)"
   ]
  },
  {
   "cell_type": "code",
   "execution_count": 162,
   "metadata": {},
   "outputs": [],
   "source": [
    "@qml.qnode(dev)\n",
    "def grad_circuit(times, operator_ham, op_list, op_params, trotter_steps=1):\n",
    "\n",
    "    qml.BasisState(basis_state, wires=range(num_qubits))\n",
    "    param_index = 0\n",
    "    for op in op_list:\n",
    "        if type(op) == qml.CZ:\n",
    "            qml.CZ(wires=op.wires)\n",
    "        else:\n",
    "            qml.ApproxTimeEvolution(op, time=op_params[param_index], n=trotter_steps)\n",
    "            param_index +=1\n",
    "\n",
    "    qml.ApproxTimeEvolution(operator_ham, time=times, n=trotter_steps)\n",
    "\n",
    "    return qml.expval(qml.Hermitian(H, wires=range(num_qubits)))\n"
   ]
  },
  {
   "cell_type": "code",
   "execution_count": 163,
   "metadata": {},
   "outputs": [],
   "source": [
    "def compute_grad(operator, op_list, op_params):\n",
    "    t = pnp.tensor(0.0, requires_grad=True)\n",
    "    grad_fn = qml.grad(grad_circuit)\n",
    "    grad = grad_fn(t, operator, op_list, op_params)\n",
    "    return grad"
   ]
  },
  {
   "cell_type": "code",
   "execution_count": 165,
   "metadata": {},
   "outputs": [
    {
     "name": "stdout",
     "output_type": "stream",
     "text": [
      "######################################\n",
      "level: 0\n",
      "step: 0\n",
      "[tensor(0., requires_grad=True), tensor(0., requires_grad=True), tensor(0., requires_grad=True), tensor(0., requires_grad=True), tensor(0., requires_grad=True), tensor(0., requires_grad=True)]\n",
      "Max op is X(0)\n",
      "[X(0)] [] [] [2.8849794006343186]\n",
      "op_params: [3.1415926651814376]\n",
      "Min E: -0.43749999999999917\n",
      "True\n",
      "step: 1\n",
      "[tensor(0., requires_grad=True), tensor(0., requires_grad=True), tensor(0., requires_grad=True), tensor(0., requires_grad=True), tensor(0., requires_grad=True), tensor(0., requires_grad=True)]\n",
      "Max op is X(0)\n",
      "[X(0), X(0)] [] [] [4.4202961297665695, 1.380150728548649]\n",
      "op_params: [4.699108585590886, 1.584076734996268]\n",
      "Min E: -0.43749999999999895\n",
      "True\n",
      "gradient converged\n",
      "[[X(0)]]\n",
      "[[4.699108585590886]]\n",
      "######################################\n",
      "level: 1\n",
      "step: 0\n",
      "[tensor(0.06639417, requires_grad=True), tensor(0., requires_grad=True), tensor(0., requires_grad=True), tensor(0., requires_grad=True), tensor(0., requires_grad=True), tensor(0., requires_grad=True)]\n",
      "Max op is X(0)\n",
      "[X(0), X(0)] [X(0)] [4.699108585590886] [4.176569534598304, 3.3400094744043614]\n",
      "op_params: [5.0656720606702885, 4.3532035350955605]\n",
      "Min E: -0.43730403755809044\n",
      "True\n",
      "step: 1\n",
      "[tensor(0.06639417, requires_grad=True), tensor(0., requires_grad=True), tensor(0., requires_grad=True), tensor(0., requires_grad=True), tensor(0., requires_grad=True), tensor(0., requires_grad=True)]\n",
      "Max op is X(0)\n",
      "[X(0), X(0), X(0)] [X(0)] [4.699108585590886] [5.377927718440898, 1.4411985581766338, 0.8805679633399409]\n",
      "op_params: [6.271952131714525, 2.406795204120052, 0.7401282888729966]\n",
      "Min E: -0.43730403755808933\n",
      "True\n",
      "gradient converged\n",
      "[[X(0)], [X(0), X(0)]]\n",
      "[[4.699108585590886], [6.271952131714525, 2.406795204120052]]\n"
     ]
    }
   ],
   "source": [
    "num_steps = 2\n",
    "num_levels = 2\n",
    "prev_ops = []\n",
    "prev_params = []\n",
    "\n",
    "for j in range(num_levels):\n",
    "\n",
    "    print(\"######################################\")\n",
    "    print(f\"level: {j}\")\n",
    "\n",
    "    if prev_ops:\n",
    "        pop_list = prev_ops.copy()[-1]\n",
    "        pop_params = prev_params.copy()[-1]\n",
    "    else:\n",
    "        pop_list = []\n",
    "        pop_params = []\n",
    "\n",
    "    op_list = pop_list.copy()\n",
    "    last_cz_term = None\n",
    "\n",
    "    for i in range(num_steps):\n",
    "\n",
    "        print(f\"step: {i}\")\n",
    "\n",
    "        grad_list = []\n",
    "\n",
    "        for op in operator_pool:\n",
    "            grad = compute_grad(op, pop_list, pop_params)\n",
    "            grad_list.append(abs(grad))\n",
    "\n",
    "        print(grad_list)\n",
    "        maxidx = np.argmax(grad_list)\n",
    "        max_op = operator_pool[maxidx]\n",
    "\n",
    "        print(f\"Max op is {max_op}\")\n",
    "\n",
    "        #if type(max_op) == qml.Identity:\n",
    "        #    print(\"Op is Identity... skipping\")\n",
    "        #    break\n",
    "\n",
    "        #if (op_list and max_op != op_list[-1]) or (not op_list):\n",
    "        op_list.append(max_op)\n",
    "\n",
    "        num_param_gates = sum([0 if type(op) == qml.CZ else 1 for op in op_list])\n",
    "        x0 = [np.random.rand()*2*np.pi for _ in range(num_param_gates)]\n",
    "        print(op_list, pop_list, pop_params, x0)\n",
    "        res = minimize(\n",
    "                    loss_f,\n",
    "                    x0=x0,\n",
    "                    args=(op_list, pop_list, pop_params),\n",
    "                    method= \"COBYLA\",\n",
    "                    options= {'maxiter':10000, 'tol': 1e-8}\n",
    "                )\n",
    "        \n",
    "        if i!=0: \n",
    "            pre_min_e = min_e\n",
    "            pre_op_params = op_params\n",
    "\n",
    "        min_e = res.fun\n",
    "        op_params = res.x.tolist()\n",
    "        print(f\"op_params: {op_params}\")\n",
    "\n",
    "        print(f\"Min E: {min_e}\")\n",
    "        print(res.success)\n",
    "\n",
    "        #else:\n",
    "        #    print(\"Op same as previous... skipping\")\n",
    "\n",
    "        '''\n",
    "        print(\"Testing CZ pool\")\n",
    "        cz_e = []\n",
    "        for term in cz_pool:\n",
    "            energy = circuit(op_params, op_list, try_cz=True, cz_wires=term.wires)\n",
    "            cz_e.append(energy)\n",
    "\n",
    "        min_cz_e = cz_e[np.argmin(cz_e)]\n",
    "        min_cz_term = cz_pool[np.argmin(cz_e)]\n",
    "        if (min_cz_e < min_e) and (last_cz_term != min_cz_term):\n",
    "            print(f\"Adding {min_cz_term} reduces energy further\")\n",
    "            last_cz_term = min_cz_term\n",
    "            op_list.append(min_cz_term)\n",
    "            min_e = min_cz_e\n",
    "            print(f\"Min E: {min_e}\")\n",
    "        '''\n",
    "        if i!=0:\n",
    "            #if (op_list and max_op != op_list[-1]) or (not op_list):\n",
    "                if abs(pre_min_e - min_e) < 1e-8:\n",
    "                    print(\"gradient converged\")\n",
    "                    if type(op_list[-1]) == qml.CZ:\n",
    "                        op_list.pop()\n",
    "                    else:\n",
    "                        op_list.pop()\n",
    "                        op_params.pop()\n",
    "                    break\n",
    "\n",
    "      \n",
    "    prev_ops.append(op_list.copy())\n",
    "    prev_params.append(op_params.copy())\n",
    "    print(prev_ops)\n",
    "    print(prev_params)\n",
    "        \n",
    "    "
   ]
  },
  {
   "cell_type": "code",
   "execution_count": null,
   "metadata": {},
   "outputs": [],
   "source": []
  },
  {
   "cell_type": "code",
   "execution_count": 123,
   "metadata": {},
   "outputs": [],
   "source": [
    "dev = qml.device(\"default.qubit\", wires=num_qubits)\n",
    "@qml.qnode(dev)\n",
    "def final_circuit(params, op_list):\n",
    "\n",
    "    qml.BasisState(basis_state, wires=range(num_qubits))\n",
    "    params_index = 0\n",
    "    for op in op_list:\n",
    "        if type(op) == qml.Identity:\n",
    "            continue\n",
    "        elif type(op) == qml.CZ:\n",
    "            qml.CZ(wires=op.wires)\n",
    "        else:\n",
    "            pauli_string = qml.pauli.pauli_word_to_string(op)\n",
    "            qml.PauliRot(params[params_index], pauli_string, wires=op.wires)\n",
    "            params_index += 1\n",
    "\n",
    "    return qml.state()"
   ]
  },
  {
   "cell_type": "code",
   "execution_count": 124,
   "metadata": {},
   "outputs": [],
   "source": [
    "ol = prev_ops[0]"
   ]
  },
  {
   "cell_type": "code",
   "execution_count": 125,
   "metadata": {},
   "outputs": [
    {
     "name": "stdout",
     "output_type": "stream",
     "text": [
      "0: ─╭|Ψ⟩─┤  State\n",
      "1: ─╰|Ψ⟩─┤  State\n"
     ]
    }
   ],
   "source": [
    "num_param_gates = sum([0 if type(op) == qml.CZ else 1 for op in ol])\n",
    "x0 = np.random.uniform(0, 2 * np.pi, size=num_param_gates)\n",
    "print(qml.draw(final_circuit)(x0, ol))"
   ]
  },
  {
   "cell_type": "code",
   "execution_count": 126,
   "metadata": {},
   "outputs": [],
   "source": [
    "def overlap_function(params, op_list, eigenvector):\n",
    "\n",
    "    params = pnp.tensor(params, requires_grad=True)\n",
    "    ansatz_state = final_circuit(params, op_list)\n",
    "    \n",
    "    overlap = np.vdot(eigenvector, ansatz_state)\n",
    "    cost = np.abs(overlap)**2  \n",
    "\n",
    "    return (1 - cost)"
   ]
  },
  {
   "cell_type": "code",
   "execution_count": 127,
   "metadata": {},
   "outputs": [
    {
     "name": "stdout",
     "output_type": "stream",
     "text": [
      "Running for overlap\n"
     ]
    }
   ],
   "source": [
    "#x0 = np.random.uniform(0, 2 * np.pi, size=len(op_list))\n",
    "o_iters = 10000\n",
    "o_tol=1e-8\n",
    "eigenvector = np.asarray(eigenvectors[:, min_3_ev[0]])\n",
    "\n",
    "print(\"Running for overlap\")\n",
    "overlap_res = minimize(\n",
    "    overlap_function,\n",
    "    x0,\n",
    "    args=(ol, eigenvector),\n",
    "    method= \"COBYLA\",\n",
    "    options= {'maxiter':o_iters, 'tol': o_tol}\n",
    ")"
   ]
  },
  {
   "cell_type": "code",
   "execution_count": 128,
   "metadata": {},
   "outputs": [
    {
     "data": {
      "text/plain": [
       "np.float64(1.0)"
      ]
     },
     "execution_count": 128,
     "metadata": {},
     "output_type": "execute_result"
    }
   ],
   "source": [
    "overlap_res.fun"
   ]
  },
  {
   "cell_type": "code",
   "execution_count": 129,
   "metadata": {},
   "outputs": [],
   "source": [
    "dev = qml.device(\"default.qubit\", wires=num_qubits)\n",
    "@qml.qnode(dev)\n",
    "def energy_circuit(params, op_list):\n",
    "\n",
    "    qml.BasisState(basis_state, wires=range(num_qubits))\n",
    "\n",
    "    #qml.X(wires=[0])\n",
    "    params_index = 0\n",
    "    for op in op_list:\n",
    "        if type(op) == qml.Identity:\n",
    "            continue\n",
    "        elif type(op) == qml.CZ:\n",
    "            qml.CZ(wires=op.wires)\n",
    "        else:\n",
    "            pauli_string = qml.pauli.pauli_word_to_string(op)\n",
    "            qml.PauliRot(params[params_index], pauli_string, wires=op.wires)\n",
    "            params_index += 1\n",
    "\n",
    "    return qml.expval(qml.Hermitian(H, wires=range(num_qubits)))"
   ]
  },
  {
   "cell_type": "code",
   "execution_count": 130,
   "metadata": {},
   "outputs": [
    {
     "data": {
      "text/plain": [
       "np.complex128(0j)"
      ]
     },
     "execution_count": 130,
     "metadata": {},
     "output_type": "execute_result"
    }
   ],
   "source": [
    "min_eigenvalue"
   ]
  },
  {
   "cell_type": "code",
   "execution_count": 87,
   "metadata": {},
   "outputs": [
    {
     "data": {
      "text/plain": [
       "np.float64(0.15898793834582922)"
      ]
     },
     "execution_count": 87,
     "metadata": {},
     "output_type": "execute_result"
    }
   ],
   "source": [
    "x0 = overlap_res.x\n",
    "x0 = op_params\n",
    "energy_circuit(x0, ol)"
   ]
  },
  {
   "cell_type": "code",
   "execution_count": null,
   "metadata": {},
   "outputs": [],
   "source": [
    "data = {\"potential\": potential,\n",
    "        \"cutoff\": cutoff,\n",
    "        \"optimizer\": \"DE\",\n",
    "        \"num steps\": num_steps,\n",
    "        \"basis_state\": basis_state,\n",
    "        \"op_list\": [str(o) for o in op_list],\n",
    "        \"overlap\": overlap_res.fun,\n",
    "        }"
   ]
  },
  {
   "cell_type": "code",
   "execution_count": null,
   "metadata": {},
   "outputs": [],
   "source": [
    "data"
   ]
  },
  {
   "cell_type": "code",
   "execution_count": null,
   "metadata": {},
   "outputs": [],
   "source": [
    "# Save the variable to a JSON file\n",
    "base_path = r\"C:\\Users\\Johnk\\Documents\\PhD\\Quantum Computing Code\\Quantum-Computing\\SUSY\\SUSY QM\\PennyLane\\ADAPT-VQE\\Files\\TimeEv\\\\\"\n",
    "os.makedirs(base_path, exist_ok=True)\n",
    "path = base_path + \"{}_{}.json\".format(potential, cutoff)\n",
    "with open(path, 'w') as json_file:\n",
    "    json.dump(data, json_file, indent=4)"
   ]
  }
 ],
 "metadata": {
  "kernelspec": {
   "display_name": ".venv",
   "language": "python",
   "name": "python3"
  },
  "language_info": {
   "codemirror_mode": {
    "name": "ipython",
    "version": 3
   },
   "file_extension": ".py",
   "mimetype": "text/x-python",
   "name": "python",
   "nbconvert_exporter": "python",
   "pygments_lexer": "ipython3",
   "version": "3.10.0"
  }
 },
 "nbformat": 4,
 "nbformat_minor": 2
}
