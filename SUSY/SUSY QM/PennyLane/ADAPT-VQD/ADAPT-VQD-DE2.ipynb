{
 "cells": [
  {
   "cell_type": "code",
   "execution_count": 1,
   "metadata": {},
   "outputs": [],
   "source": [
    "import pennylane as qml\n",
    "from pennylane import numpy as pnp\n",
    "import numpy as np\n",
    "from qiskit.quantum_info import SparsePauliOp\n",
    "from scipy.optimize import differential_evolution\n",
    "from scipy.stats.qmc import Halton\n",
    "import os\n",
    "import json\n",
    "from susy_qm import calculate_Hamiltonian"
   ]
  },
  {
   "cell_type": "code",
   "execution_count": 50,
   "metadata": {},
   "outputs": [],
   "source": [
    "potential = 'AHO'\n",
    "cutoff = 16\n",
    "shots = 2"
   ]
  },
  {
   "cell_type": "code",
   "execution_count": 51,
   "metadata": {},
   "outputs": [],
   "source": [
    "#calculate Hamiltonian and expected eigenvalues\n",
    "H = calculate_Hamiltonian(cutoff, potential)\n",
    "\n",
    "eigenvalues, eigenvectors = np.linalg.eig(H)\n",
    "min_index = np.argmin(eigenvalues)\n",
    "min_eigenvalue = eigenvalues[min_index]\n",
    "min_eigenvector = np.asarray(eigenvectors[:, min_index])\n",
    "\n",
    "#create qiskit Hamiltonian Pauli string\n",
    "hamiltonian = SparsePauliOp.from_operator(H)\n",
    "num_qubits = hamiltonian.num_qubits"
   ]
  },
  {
   "cell_type": "code",
   "execution_count": 52,
   "metadata": {},
   "outputs": [],
   "source": [
    "min_3_ev = eigenvalues.argsort()[:3]\n",
    "min_eigenvector = np.asarray(eigenvectors[:, min_3_ev[1]])"
   ]
  },
  {
   "cell_type": "code",
   "execution_count": 53,
   "metadata": {},
   "outputs": [],
   "source": [
    "operator_pool = []\n",
    "for i in range(num_qubits):\n",
    "    #operator_pool.append(qml.Identity(i))\n",
    "    operator_pool.append(qml.PauliX(i))\n",
    "    operator_pool.append(qml.PauliY(i))\n",
    "    operator_pool.append(qml.PauliZ(i))\n"
   ]
  },
  {
   "cell_type": "code",
   "execution_count": 54,
   "metadata": {},
   "outputs": [],
   "source": [
    "dev = qml.device(\"default.qubit\", wires=num_qubits, shots=shots)\n",
    "basis_state = [1,0,0,0,0]\n",
    "\n",
    "@qml.qnode(dev)\n",
    "def circuit(times, op_list, try_cz=False, cz_wires=None, trotter_steps=1):\n",
    "\n",
    "    qml.BasisState(basis_state, wires=range(num_qubits))\n",
    "\n",
    "    for i, op in enumerate(op_list):\n",
    "        if type(op) == qml.CZ:\n",
    "            qml.CZ(wires=op.wires)\n",
    "        else:\n",
    "            qml.ApproxTimeEvolution(op, time=times[i], n=trotter_steps)\n",
    "\n",
    "    if try_cz:\n",
    "        qml.CZ(wires=cz_wires)\n",
    "\n",
    "    return qml.expval(qml.Hermitian(H, wires=range(num_qubits)))\n"
   ]
  },
  {
   "cell_type": "code",
   "execution_count": 55,
   "metadata": {},
   "outputs": [],
   "source": [
    "def cost_function(times, op_list):\n",
    "\n",
    "    times = pnp.tensor(times, requires_grad=True)\n",
    "    energy = circuit(times, op_list)\n",
    "    \n",
    "    return energy"
   ]
  },
  {
   "cell_type": "code",
   "execution_count": 56,
   "metadata": {},
   "outputs": [],
   "source": [
    "dev = qml.device(\"default.qubit\", wires=2*num_qubits, shots=shots)\n",
    "\n",
    "@qml.qnode(dev)\n",
    "def swap_test(trial_op, op_list, op_params, prev_op_list, prev_op_params, basis_state):\n",
    "\n",
    "    trotter_steps=1\n",
    "    bs = (basis_state + basis_state)\n",
    "    qml.BasisState(bs, wires=range(2*num_qubits))\n",
    "   \n",
    "    prev_param_index = 0\n",
    "    for pop in prev_op_list:\n",
    "\n",
    "        if type(pop) == qml.CZ:\n",
    "            qml.CZ(wires=pop.wires)\n",
    "        else:\n",
    "            qml.ApproxTimeEvolution(pop, time=prev_op_params[prev_param_index], n=trotter_steps)\n",
    "            prev_param_index += 1\n",
    "    \n",
    "\n",
    "    param_index  = 0\n",
    "    for op in op_list:\n",
    "        if type(op) == qml.CZ:\n",
    "            w0 = op.wires[0] + num_qubits\n",
    "            w1 = op.wires[1] + num_qubits\n",
    "            wire_map = {op.wires[0]:w0, op.wires[1]:w1}\n",
    "            op = op.map_wires(wire_map)\n",
    "            qml.CZ(wires=op.wires)\n",
    "        else:\n",
    "            wire = op.wires[0] + num_qubits\n",
    "            wire_map = {op.wires[0]: wire}\n",
    "            op = op.map_wires(wire_map)\n",
    "            qml.ApproxTimeEvolution(op, time=op_params[param_index], n=trotter_steps)  \n",
    "            param_index += 1\n",
    "\n",
    "    qml.ApproxTimeEvolution(trial_op, time=0.0, n=trotter_steps)\n",
    "\n",
    "    qml.Barrier()\n",
    "    for i in range(num_qubits):\n",
    "        qml.CNOT(wires=[i, i+num_qubits])    \n",
    "        qml.Hadamard(wires=i)   \n",
    "\n",
    "    prob = qml.probs(wires=range(2*num_qubits))\n",
    "\n",
    "    return prob\n"
   ]
  },
  {
   "cell_type": "code",
   "execution_count": 57,
   "metadata": {},
   "outputs": [],
   "source": [
    "def overlap(trial_op, op_list, op_params, prev_op_list, prev_op_params, basis_state):\n",
    "\n",
    "    probs = swap_test(trial_op, op_list, op_params, prev_op_list, prev_op_params, basis_state)\n",
    "\n",
    "    ol = 0\n",
    "    for idx, p in enumerate(probs):\n",
    "\n",
    "        bitstring = format(idx, '0{}b'.format(2*num_qubits))\n",
    "\n",
    "        counter_11 = 0\n",
    "        for i in range(num_qubits):\n",
    "            a = int(bitstring[i])\n",
    "            b = int(bitstring[i+num_qubits])\n",
    "            if (a == 1 and b == 1):\n",
    "                counter_11 +=1\n",
    "\n",
    "        ol += p*(-1)**counter_11\n",
    "\n",
    "    return ol"
   ]
  },
  {
   "cell_type": "code",
   "execution_count": 58,
   "metadata": {},
   "outputs": [],
   "source": [
    "@qml.qnode(dev)\n",
    "def grad_circuit(times, trial_op, op_list, op_params, trotter_steps=1):\n",
    "\n",
    "    qml.BasisState(basis_state, wires=range(num_qubits))\n",
    "    param_index = 0\n",
    "    for op in op_list:\n",
    "        if type(op) == qml.CZ:\n",
    "            qml.CZ(wires=op.wires)\n",
    "        else:\n",
    "            qml.ApproxTimeEvolution(op, time=op_params[param_index], n=trotter_steps)\n",
    "            param_index +=1\n",
    "\n",
    "    qml.ApproxTimeEvolution(trial_op, time=times, n=trotter_steps)\n",
    "\n",
    "    return qml.expval(qml.Hermitian(H, wires=range(num_qubits)))\n"
   ]
  },
  {
   "cell_type": "code",
   "execution_count": 59,
   "metadata": {},
   "outputs": [],
   "source": [
    "def compute_grad(trial_op, op_list, op_params):\n",
    "    t = pnp.tensor(0.0, requires_grad=True)\n",
    "    grad_fn = qml.grad(grad_circuit)\n",
    "    grad = grad_fn(t, trial_op, op_list, op_params)\n",
    "    return grad"
   ]
  },
  {
   "cell_type": "code",
   "execution_count": 60,
   "metadata": {},
   "outputs": [],
   "source": [
    "def grad_plus_overlap(trial_op, op_list, op_params, prev_op_list, prev_op_params, beta=200.0):\n",
    "\n",
    "    grad = compute_grad(trial_op, op_list, op_params)\n",
    "    \n",
    "    penalty = 0\n",
    "    if len(prev_op_list) != 0:\n",
    "        for prev_op, prev_param in zip(prev_op_list, prev_op_params):\n",
    "            ol = overlap(trial_op, op_list, op_params, prev_op, prev_param, basis_state)\n",
    "            penalty += (beta*ol)\n",
    "            if penalty > 0:\n",
    "                print(f\"Applying penalty {penalty} to op {trial_op}\")\n",
    "    \n",
    "    return abs(grad), penalty"
   ]
  },
  {
   "cell_type": "code",
   "execution_count": 62,
   "metadata": {},
   "outputs": [
    {
     "name": "stdout",
     "output_type": "stream",
     "text": [
      "######################################\n",
      "Energy level: 0\n",
      "step: 0\n",
      "Best op is: Y(1)\n",
      "Min E: -0.0011669756806108533\n",
      "True\n",
      "step: 1\n",
      "Best op is: X(1)\n",
      "Min E: -0.0011669756806108533\n",
      "True\n",
      "gradient converged\n",
      "[Y(1)] [2.97207465]\n",
      "######################################\n",
      "Energy level: 1\n",
      "step: 0\n",
      "Applying penalty 200.0 to op X(0)\n",
      "Applying penalty 200.0 to op Y(0)\n",
      "Applying penalty 200.0 to op Z(0)\n",
      "Applying penalty 200.0 to op X(1)\n",
      "Applying penalty 200.0 to op Z(1)\n",
      "Applying penalty 200.0 to op X(2)\n",
      "Applying penalty 200.0 to op Y(2)\n",
      "Applying penalty 200.0 to op Z(2)\n",
      "Applying penalty 200.0 to op X(3)\n",
      "Applying penalty 200.0 to op Y(3)\n",
      "Applying penalty 200.0 to op Z(3)\n",
      "Applying penalty 200.0 to op X(4)\n",
      "Applying penalty 200.0 to op Y(4)\n",
      "Applying penalty 200.0 to op Z(4)\n",
      "Best op is: X(2)\n",
      "Min E: -0.0011669756806108533\n",
      "True\n",
      "step: 1\n",
      "Applying penalty 200.0 to op X(0)\n",
      "Applying penalty 200.0 to op Y(0)\n",
      "Applying penalty 200.0 to op X(1)\n",
      "Applying penalty 200.0 to op Y(1)\n",
      "Applying penalty 200.0 to op Z(1)\n",
      "Applying penalty 200.0 to op X(2)\n",
      "Applying penalty 200.0 to op Y(2)\n",
      "Applying penalty 200.0 to op Z(2)\n",
      "Applying penalty 200.0 to op X(3)\n",
      "Applying penalty 200.0 to op Y(3)\n",
      "Applying penalty 200.0 to op Z(3)\n",
      "Applying penalty 200.0 to op X(4)\n",
      "Applying penalty 200.0 to op Y(4)\n",
      "Applying penalty 200.0 to op Z(4)\n",
      "Best op is: X(1)\n",
      "Min E: -0.0011669756806108533\n",
      "True\n",
      "gradient converged\n",
      "[X(2)] [3.10641487]\n"
     ]
    }
   ],
   "source": [
    "num_levels = 2\n",
    "num_steps = 4\n",
    "prev_op_list = []\n",
    "prev_op_params = []\n",
    "\n",
    "#variables\n",
    "max_iter = 300\n",
    "strategy = \"randtobest1bin\"\n",
    "tol = 1e-3\n",
    "abs_tol = 1e-3\n",
    "popsize = 20\n",
    "\n",
    "for e_level in range(num_levels):\n",
    "\n",
    "    print(\"######################################\")\n",
    "    print(f\"Energy level: {e_level}\")\n",
    "\n",
    "    op_list = []\n",
    "    op_params = []\n",
    "\n",
    "    for i in range(num_steps):\n",
    "\n",
    "        print(f\"step: {i}\")\n",
    "\n",
    "        grad_list = []\n",
    "        overlaps = []\n",
    "\n",
    "        for trial_op in operator_pool:\n",
    "            grad, ol = grad_plus_overlap(trial_op, op_list, op_params, prev_op_list, prev_op_params)\n",
    "            grad_list.append(grad)\n",
    "            overlaps.append(ol)\n",
    "\n",
    "        norm_grad = [i/sum(grad_list) for i in grad_list]\n",
    "        results = [a + b for a, b in zip(norm_grad, overlaps)]\n",
    "        maxidx = np.argmax(grad_list)\n",
    "        op_list.append(operator_pool[maxidx])\n",
    "\n",
    "        print(f\"Best op is: {operator_pool[maxidx]}\")\n",
    "\n",
    "        # Generate Halton sequence\n",
    "        num_dimensions = len(op_list)\n",
    "        num_samples = popsize\n",
    "        halton_sampler = Halton(d=num_dimensions)\n",
    "        halton_samples = halton_sampler.random(n=num_samples)\n",
    "        scaled_samples = 2 * np.pi * halton_samples\n",
    "\n",
    "        bounds = [(0, 2 * np.pi) for _ in range(num_dimensions)]\n",
    "        \n",
    "        res = differential_evolution(cost_function,\n",
    "                                        bounds,\n",
    "                                        args=(op_list,),\n",
    "                                        maxiter=max_iter,\n",
    "                                        tol=tol,\n",
    "                                        atol=abs_tol,\n",
    "                                        strategy=strategy,\n",
    "                                        popsize=popsize,\n",
    "                                        init=scaled_samples,\n",
    "                                        )\n",
    "        \n",
    "        if i!=0: \n",
    "            pre_min_e = min_e\n",
    "            pre_op_params = op_params\n",
    "\n",
    "        min_e = res.fun\n",
    "        op_params = res.x\n",
    "\n",
    "        print(f\"Min E: {min_e}\")\n",
    "        print(res.success)\n",
    "\n",
    "        if i!=0:\n",
    "            if abs(pre_min_e - min_e) < 1e-8:\n",
    "                print(\"gradient converged\")\n",
    "                op_list.pop()\n",
    "                op_params = pre_op_params\n",
    "                print(op_list, op_params)\n",
    "                prev_op_list.append(op_list.copy())\n",
    "                prev_op_params.append(op_params.copy())\n",
    "                break\n",
    "\n",
    "\n",
    "    "
   ]
  },
  {
   "cell_type": "code",
   "execution_count": 45,
   "metadata": {},
   "outputs": [],
   "source": [
    "dev = qml.device(\"default.qubit\", wires=num_qubits)\n",
    "@qml.qnode(dev)\n",
    "def final_circuit(params):\n",
    "\n",
    "    qml.BasisState(basis_state, wires=range(num_qubits))\n",
    "    params_index = 0\n",
    "    for op in op_list:\n",
    "        if type(op) == qml.CZ:\n",
    "            qml.CZ(wires=op.wires)\n",
    "        else:\n",
    "            pauli_string = qml.pauli.pauli_word_to_string(op)\n",
    "            qml.PauliRot(params[params_index], pauli_string, wires=op.wires)\n",
    "            params_index += 1\n",
    "\n",
    "    return qml.state()"
   ]
  },
  {
   "cell_type": "code",
   "execution_count": 46,
   "metadata": {},
   "outputs": [
    {
     "name": "stdout",
     "output_type": "stream",
     "text": [
      "0: ─╭|Ψ⟩───────────┤  State\n",
      "1: ─├|Ψ⟩──RY(5.64)─┤  State\n",
      "2: ─├|Ψ⟩───────────┤  State\n",
      "3: ─╰|Ψ⟩───────────┤  State\n"
     ]
    }
   ],
   "source": [
    "x0 = np.random.uniform(0, 2 * np.pi, size=len(op_list))\n",
    "print(qml.draw(final_circuit)(x0))"
   ]
  },
  {
   "cell_type": "code",
   "execution_count": 47,
   "metadata": {},
   "outputs": [],
   "source": [
    "def overlap_function(params):\n",
    "\n",
    "    params = pnp.tensor(params, requires_grad=True)\n",
    "    ansatz_state = final_circuit(params)\n",
    "    \n",
    "    overlap = np.vdot(min_eigenvector, ansatz_state)\n",
    "    cost = np.abs(overlap)**2  \n",
    "\n",
    "    return (1 - cost)"
   ]
  },
  {
   "cell_type": "code",
   "execution_count": 48,
   "metadata": {},
   "outputs": [
    {
     "name": "stdout",
     "output_type": "stream",
     "text": [
      "Running for overlap\n"
     ]
    }
   ],
   "source": [
    "bounds = [(0, 2 * np.pi) for _ in range(len(op_list))]\n",
    "\n",
    "# Generate Halton sequence\n",
    "num_dimensions = len(op_list)\n",
    "num_samples = popsize\n",
    "halton_sampler = Halton(d=num_dimensions)\n",
    "halton_samples = halton_sampler.random(n=num_samples)\n",
    "scaled_samples = 2 * np.pi * halton_samples\n",
    "\n",
    "#variables\n",
    "max_iter = 300\n",
    "strategy = \"randtobest1bin\"\n",
    "tol = 1e-6\n",
    "abs_tol = 1e-5\n",
    "popsize = 20\n",
    "\n",
    "print(\"Running for overlap\")\n",
    "overlap_res = differential_evolution(overlap_function,\n",
    "                                    bounds,\n",
    "                                    maxiter=max_iter,\n",
    "                                    tol=tol,\n",
    "                                    atol=abs_tol,\n",
    "                                    strategy=strategy,\n",
    "                                    popsize=popsize,\n",
    "                                    init=scaled_samples,\n",
    "                                    )"
   ]
  },
  {
   "cell_type": "code",
   "execution_count": 49,
   "metadata": {},
   "outputs": [
    {
     "data": {
      "text/plain": [
       "np.float64(1.0)"
      ]
     },
     "execution_count": 49,
     "metadata": {},
     "output_type": "execute_result"
    }
   ],
   "source": [
    "overlap_res.fun"
   ]
  },
  {
   "cell_type": "code",
   "execution_count": 32,
   "metadata": {},
   "outputs": [],
   "source": [
    "dev = qml.device(\"default.qubit\", wires=num_qubits)\n",
    "@qml.qnode(dev)\n",
    "def energy_circuit(params):\n",
    "\n",
    "    qml.BasisState(basis_state, wires=range(num_qubits))\n",
    "    params_index = 0\n",
    "    for op in op_list:\n",
    "        if type(op) == qml.CZ:\n",
    "            qml.CZ(wires=op.wires)\n",
    "        else:\n",
    "            pauli_string = qml.pauli.pauli_word_to_string(op)\n",
    "            qml.PauliRot(params[params_index], pauli_string, wires=op.wires)\n",
    "            params_index += 1\n",
    "\n",
    "    return qml.expval(qml.Hermitian(H, wires=range(num_qubits)))"
   ]
  },
  {
   "cell_type": "code",
   "execution_count": 36,
   "metadata": {},
   "outputs": [
    {
     "data": {
      "text/plain": [
       "np.float64(51.48956061469692)"
      ]
     },
     "execution_count": 36,
     "metadata": {},
     "output_type": "execute_result"
    }
   ],
   "source": [
    "x0 = overlap_res.x\n",
    "#x0\n",
    "energy_circuit(x0)"
   ]
  },
  {
   "cell_type": "code",
   "execution_count": null,
   "metadata": {},
   "outputs": [],
   "source": []
  },
  {
   "cell_type": "code",
   "execution_count": null,
   "metadata": {},
   "outputs": [],
   "source": [
    "data = {\"potential\": potential,\n",
    "        \"cutoff\": cutoff,\n",
    "        \"optimizer\": \"DE\",\n",
    "        \"num steps\": num_steps,\n",
    "        \"basis_state\": basis_state,\n",
    "        \"op_list\": [str(o) for o in op_list],\n",
    "        \"overlap\": overlap_res.fun,\n",
    "        \"hellinger\": hf_res.fun\n",
    "        }"
   ]
  },
  {
   "cell_type": "code",
   "execution_count": null,
   "metadata": {},
   "outputs": [],
   "source": [
    "data"
   ]
  },
  {
   "cell_type": "code",
   "execution_count": null,
   "metadata": {},
   "outputs": [],
   "source": [
    "# Save the variable to a JSON file\n",
    "base_path = r\"C:\\Users\\Johnk\\Documents\\PhD\\Quantum Computing Code\\Quantum-Computing\\SUSY\\SUSY QM\\PennyLane\\ADAPT-VQE\\Files\\TimeEv\\\\\"\n",
    "os.makedirs(base_path, exist_ok=True)\n",
    "path = base_path + \"{}_{}.json\".format(potential, cutoff)\n",
    "with open(path, 'w') as json_file:\n",
    "    json.dump(data, json_file, indent=4)"
   ]
  },
  {
   "cell_type": "code",
   "execution_count": null,
   "metadata": {},
   "outputs": [],
   "source": []
  },
  {
   "cell_type": "code",
   "execution_count": null,
   "metadata": {},
   "outputs": [],
   "source": []
  },
  {
   "cell_type": "code",
   "execution_count": null,
   "metadata": {},
   "outputs": [],
   "source": []
  },
  {
   "cell_type": "code",
   "execution_count": null,
   "metadata": {},
   "outputs": [],
   "source": [
    "#variables\n",
    "max_iter = 10000\n",
    "strategy = \"randtobest1bin\"\n",
    "tol = 1e-3\n",
    "atol = 1e-3\n",
    "popsize = 20\n",
    "\n",
    "num_steps = 5\n",
    "op_list = []\n",
    "op_params = []\n",
    "\n",
    "for i in range(num_steps):\n",
    "\n",
    "    print(f\"step: {i}\")\n",
    "\n",
    "    grad_list = []\n",
    "\n",
    "    for op in operator_pool:\n",
    "        grad = compute_grad(op, op_list, op_params)\n",
    "        grad_list.append(abs(grad))\n",
    "\n",
    "    maxidx = np.argmax(grad_list)\n",
    "    op_list.append(operator_pool[maxidx])\n",
    "\n",
    "    bounds = [(0, 2 * np.pi) for _ in range(len(op_list))]\n",
    "    res = differential_evolution(cost_function,\n",
    "                                    bounds,\n",
    "                                    args=(op_list,),\n",
    "                                    maxiter=max_iter,\n",
    "                                    tol=tol,\n",
    "                                    atol=atol,\n",
    "                                    strategy=strategy,\n",
    "                                    popsize=popsize\n",
    "                                    )\n",
    "    if i!=0: pre_min_e = min_e\n",
    "    min_e = res.fun\n",
    "    pre_op_params = op_params\n",
    "    op_params = res.x\n",
    "\n",
    "    print(f\"Min E: {min_e}\")\n",
    "    print(res.success)\n",
    "\n",
    "    print(\"Testing CZ pool\")\n",
    "    cz_e = []\n",
    "    for term in cz_pool:\n",
    "        energy = circuit(op_params, op_list, try_cz=True, cz_wires=term.wires)\n",
    "        cz_e.append(energy)\n",
    "\n",
    "    min_cz_e = cz_e[np.argmin(cz_e)]\n",
    "    min_cz_term = cz_pool[np.argmin(cz_e)]\n",
    "    if min_cz_e < min_e:\n",
    "        print(f\"Adding {min_cz_term} reduces energy further\")\n",
    "        op_list.append(min_cz_term)\n",
    "        min_e = min_cz_e\n",
    "        print(f\"Min E: {min_e}\")\n",
    "    \n",
    "    if i!=0:\n",
    "        if abs(pre_min_e - min_e) < 1e-8:\n",
    "            print(\"gradient converged\")\n",
    "            op_list.pop()\n",
    "            op_params = pre_op_params\n",
    "            break\n",
    "\n",
    "\n",
    "    "
   ]
  }
 ],
 "metadata": {
  "kernelspec": {
   "display_name": ".venv",
   "language": "python",
   "name": "python3"
  },
  "language_info": {
   "codemirror_mode": {
    "name": "ipython",
    "version": 3
   },
   "file_extension": ".py",
   "mimetype": "text/x-python",
   "name": "python",
   "nbconvert_exporter": "python",
   "pygments_lexer": "ipython3",
   "version": "3.10.0"
  }
 },
 "nbformat": 4,
 "nbformat_minor": 2
}
