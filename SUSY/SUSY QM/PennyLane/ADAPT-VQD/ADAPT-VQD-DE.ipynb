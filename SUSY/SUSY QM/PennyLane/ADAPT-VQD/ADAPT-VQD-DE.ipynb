{
 "cells": [
  {
   "cell_type": "code",
   "execution_count": 1,
   "metadata": {},
   "outputs": [],
   "source": [
    "import pennylane as qml\n",
    "from pennylane import numpy as pnp\n",
    "import numpy as np\n",
    "from qiskit.quantum_info import SparsePauliOp\n",
    "from scipy.optimize import differential_evolution\n",
    "from scipy.stats.qmc import Halton\n",
    "import os\n",
    "import json\n",
    "from susy_qm import calculate_Hamiltonian\n",
    "\n",
    "from collections import Counter\n",
    "import time"
   ]
  },
  {
   "cell_type": "code",
   "execution_count": 227,
   "metadata": {},
   "outputs": [],
   "source": [
    "potential = 'QHO'\n",
    "cutoff = 8\n",
    "shots = 1024"
   ]
  },
  {
   "cell_type": "code",
   "execution_count": 228,
   "metadata": {},
   "outputs": [],
   "source": [
    "#calculate Hamiltonian and expected eigenvalues\n",
    "H = calculate_Hamiltonian(cutoff, potential)\n",
    "\n",
    "eigenvalues, eigenvectors = np.linalg.eig(H)\n",
    "min_index = np.argmin(eigenvalues)\n",
    "min_eigenvalue = eigenvalues[min_index]\n",
    "min_eigenvector = np.asarray(eigenvectors[:, min_index])\n",
    "\n",
    "#create qiskit Hamiltonian Pauli string\n",
    "hamiltonian = SparsePauliOp.from_operator(H)\n",
    "num_qubits = hamiltonian.num_qubits\n",
    "\n",
    "min_3_ev = eigenvalues.argsort()[:3]\n",
    "#min_eigenvector = np.asarray(eigenvectors[:, min_3_ev[0]])"
   ]
  },
  {
   "cell_type": "code",
   "execution_count": 229,
   "metadata": {},
   "outputs": [
    {
     "data": {
      "text/plain": [
       "array([0.+0.j, 1.+0.j, 1.+0.j])"
      ]
     },
     "execution_count": 229,
     "metadata": {},
     "output_type": "execute_result"
    }
   ],
   "source": [
    "eigenvalues[min_3_ev]"
   ]
  },
  {
   "cell_type": "code",
   "execution_count": 230,
   "metadata": {},
   "outputs": [],
   "source": [
    "#Create operator pool\n",
    "operator_pool = []\n",
    "phi = 0.0\n",
    "for i in range(num_qubits):\n",
    "    operator_pool.append(qml.RY(phi,wires=[i]))\n",
    "    #operator_pool.append(qml.RZ(phi,wires=[i]))\n",
    "\n",
    "c_pool = []\n",
    "\n",
    "for control in range(num_qubits):\n",
    "        for target in range(num_qubits):\n",
    "            if control != target:\n",
    "                c_pool.append(qml.CRY(phi=phi, wires=[control, target]))\n",
    "\n",
    "operator_pool = operator_pool + c_pool"
   ]
  },
  {
   "cell_type": "code",
   "execution_count": 231,
   "metadata": {},
   "outputs": [],
   "source": [
    "# For QHO 4\n",
    "# eig1 = 100\n",
    "# eig2 = 000\n",
    "# eig3 = 100"
   ]
  },
  {
   "cell_type": "code",
   "execution_count": 232,
   "metadata": {},
   "outputs": [],
   "source": [
    "def create_circuit(params, op_list, basis_state, use_trial=False, trial_op=None, swap=False):\n",
    "\n",
    "    param_index = 0\n",
    "\n",
    "    if swap:\n",
    "        qml.BasisState(basis_state, wires=range(num_qubits, 2*num_qubits))\n",
    "        for op in op_list:\n",
    "            o = type(op)\n",
    "            if o == qml.CRY:\n",
    "                w0 = op.wires[0] + num_qubits\n",
    "                w1 = op.wires[1] + num_qubits\n",
    "                o(params[param_index], wires=[w0,w1])\n",
    "                param_index += 1\n",
    "            else:\n",
    "                wire = op.wires[0] + num_qubits\n",
    "                o(params[param_index], wires=wire)\n",
    "                param_index += 1\n",
    "    else:\n",
    "        qml.BasisState(basis_state, wires=range(num_qubits))\n",
    "        for op in op_list:\n",
    "            o = type(op)\n",
    "            o(params[param_index], wires=op.wires)\n",
    "            param_index +=1\n",
    "\n",
    "        if use_trial:\n",
    "            to = type(trial_op)\n",
    "            to(0.0, wires=trial_op.wires)\n"
   ]
  },
  {
   "cell_type": "code",
   "execution_count": 233,
   "metadata": {},
   "outputs": [],
   "source": [
    "dev = qml.device(\"default.qubit\", wires=num_qubits, shots=shots)\n",
    "@qml.qnode(dev)\n",
    "def energy_expval(params, op_list, basis_state):\n",
    "\n",
    "    create_circuit(params, op_list, basis_state)\n",
    "\n",
    "    return qml.expval(qml.Hermitian(H, wires=range(num_qubits)))"
   ]
  },
  {
   "cell_type": "code",
   "execution_count": 234,
   "metadata": {},
   "outputs": [],
   "source": [
    "swap_dev = qml.device(\"default.qubit\", wires=2*num_qubits, shots=shots)\n",
    "@qml.qnode(swap_dev)\n",
    "def swap_test(basis_state, prev_op_list, prev_params, op_list, op_params, use_trial, trial_op):\n",
    "\n",
    "    create_circuit(prev_params, prev_op_list, basis_state, swap=True)\n",
    "    create_circuit(op_params, op_list, basis_state, use_trial, trial_op=trial_op)\n",
    "\n",
    "    qml.Barrier()\n",
    "    for i in range(num_qubits):\n",
    "        qml.CNOT(wires=[i, i+num_qubits])    \n",
    "        qml.Hadamard(wires=i)      \n",
    "\n",
    "    prob = qml.probs(wires=range(2*num_qubits))\n",
    "\n",
    "    return prob"
   ]
  },
  {
   "cell_type": "code",
   "execution_count": 235,
   "metadata": {},
   "outputs": [],
   "source": [
    "def overlap(basis_state, prev_op_list, prev_params, op_list, op_params, use_trial, trial_op):\n",
    "\n",
    "    probs = swap_test(basis_state, prev_op_list, prev_params, op_list, op_params, use_trial, trial_op)\n",
    "\n",
    "    overlap = 0\n",
    "    for idx, p in enumerate(probs):\n",
    "\n",
    "        bitstring = format(idx, '0{}b'.format(2*num_qubits))\n",
    "\n",
    "        counter_11 = 0\n",
    "        for i in range(num_qubits):\n",
    "            a = int(bitstring[i])\n",
    "            b = int(bitstring[i+num_qubits])\n",
    "            if (a == 1 and b == 1):\n",
    "                counter_11 +=1\n",
    "\n",
    "        overlap += p*(-1)**counter_11\n",
    "\n",
    "    return overlap"
   ]
  },
  {
   "cell_type": "code",
   "execution_count": 236,
   "metadata": {},
   "outputs": [],
   "source": [
    "def multi_swap_test(basis_state, prev_op_list, prev_params, op_list, op_params, use_trial, trial_op=None, num_swap_tests=20):\n",
    "\n",
    "    results = []\n",
    "    for _ in range(num_swap_tests):\n",
    "\n",
    "        ol = overlap(basis_state, prev_op_list, prev_params, op_list, op_params, use_trial, trial_op)\n",
    "        results.append(ol)\n",
    "    \n",
    "    avg_ol = sum(results) / num_swap_tests\n",
    "\n",
    "    return avg_ol"
   ]
  },
  {
   "cell_type": "code",
   "execution_count": 237,
   "metadata": {},
   "outputs": [],
   "source": [
    "def loss_f(params, op_list, prev_op_list, prev_params, basis_state, beta=2.0):\n",
    "\n",
    "    energy = energy_expval(params, op_list, basis_state)\n",
    "    penalty = 0\n",
    "\n",
    "    if len(prev_op_list) != 0:\n",
    "        for prev_op, prev_param in zip(prev_op_list, prev_params):\n",
    "                    ol = multi_swap_test(basis_state, prev_op, prev_param, op_list, params, use_trial=False)\n",
    "                    penalty += (beta*ol)\n",
    "\n",
    "    return energy + (penalty)"
   ]
  },
  {
   "cell_type": "code",
   "execution_count": 238,
   "metadata": {},
   "outputs": [],
   "source": [
    "def compute_grad(trial_param, H, num_qubits, trial_op, op_list, op_params, basis_state):\n",
    "\n",
    "    dev2 = qml.device(\"default.qubit\", wires=num_qubits, shots=None)\n",
    "    @qml.qnode(dev2)\n",
    "\n",
    "    def grad_circuit(trial_param, trial_op, op_list, op_params):\n",
    "\n",
    "        qml.BasisState(basis_state, wires=range(num_qubits))\n",
    "\n",
    "        param_index = 0\n",
    "        for op in op_list:\n",
    "            o = type(op)\n",
    "            o(op_params[param_index], wires=op.wires)\n",
    "            param_index +=1\n",
    "\n",
    "        oph = type(trial_op)\n",
    "        oph(trial_param, wires=trial_op.wires)\n",
    "\n",
    "        return qml.expval(qml.Hermitian(H, wires=range(num_qubits)))\n",
    "    \n",
    "    params = pnp.tensor(trial_param, requires_grad=True)\n",
    "    grad_fn = qml.grad(grad_circuit)\n",
    "    grad = grad_fn(params, trial_op, op_list, op_params)\n",
    "    \n",
    "    return grad"
   ]
  },
  {
   "cell_type": "code",
   "execution_count": 239,
   "metadata": {},
   "outputs": [],
   "source": [
    "def grad_plus_overlap(basis_state, trial_op, trial_param, op_list, op_params, prev_op_list, prev_params, beta=2.0):\n",
    "\n",
    "    grad = compute_grad(trial_param, H, num_qubits, trial_op, op_list, op_params, basis_state)\n",
    "  \n",
    "    penalty = 0\n",
    "    if len(prev_op_list) != 0:\n",
    "            for prev_op, prev_param in zip(prev_op_list, prev_params):\n",
    "                ol = multi_swap_test(basis_state, prev_op, prev_param, op_list, op_params, use_trial=True, trial_op=trial_op)\n",
    "                penalty += (beta*ol)\n",
    "                #print(f\"Applying penalty {penalty} to op {trial_op} with gradient {abs(grad)}\")\n",
    "    \n",
    "    return abs(grad), penalty"
   ]
  },
  {
   "cell_type": "code",
   "execution_count": 244,
   "metadata": {},
   "outputs": [
    {
     "name": "stdout",
     "output_type": "stream",
     "text": [
      "Running for energy level: 0\n",
      "Running for adapt step: 0\n",
      "Starting VQE\n"
     ]
    },
    {
     "name": "stderr",
     "output_type": "stream",
     "text": [
      "C:\\Users\\Johnk\\AppData\\Local\\Temp\\ipykernel_15544\\1124011183.py:75: RuntimeWarning: invalid value encountered in divide\n",
      "  penalty_norm = np.where(max(penalties) != 0, np.array(penalties) / max(penalties), 0)\n"
     ]
    },
    {
     "name": "stdout",
     "output_type": "stream",
     "text": [
      "Running for adapt step: 1\n",
      "Starting VQE\n",
      "gradient converged\n",
      "Running for energy level: 1\n",
      "Running for adapt step: 0\n",
      "Starting VQE\n",
      "Running for adapt step: 1\n",
      "Starting VQE\n",
      "Running for adapt step: 2\n",
      "Starting VQE\n",
      "Running for adapt step: 3\n",
      "Starting VQE\n",
      "Running for adapt step: 4\n",
      "Starting VQE\n",
      "Running for energy level: 2\n",
      "Running for adapt step: 0\n",
      "Starting VQE\n",
      "Running for adapt step: 1\n",
      "Starting VQE\n",
      "Running for adapt step: 2\n",
      "Starting VQE\n",
      "Running for adapt step: 3\n",
      "Starting VQE\n",
      "Running for adapt step: 4\n",
      "Starting VQE\n"
     ]
    }
   ],
   "source": [
    "# We need to generate a random seed for each process otherwise each parallelised run will have the same result\n",
    "seed = (os.getpid() * int(time.time())) % 123456789\n",
    "\n",
    "# Optimizer\n",
    "num_energy_levels = 3\n",
    "num_adapt_steps = 5\n",
    "num_grad_checks = 10\n",
    "num_vqe_runs = 1\n",
    "max_iter = 250\n",
    "strategy = \"randtobest1bin\"\n",
    "tol = 1e-3\n",
    "abs_tol = 1e-2\n",
    "popsize = 20\n",
    "\n",
    "# Main ADAPT-VQE script\n",
    "prev_op_list = []\n",
    "prev_params = []\n",
    "all_energies = []\n",
    "single_ops = [qml.RY]#,qml.RZ]\n",
    "\n",
    "\n",
    "#basis_state = [1] + [0]*(num_qubits-1)\n",
    "basis_state = [0] + [0]*(num_qubits-1)\n",
    "\n",
    "for e in range(num_energy_levels):\n",
    "\n",
    "    print(f\"Running for energy level: {e}\")\n",
    "\n",
    "    op_list = []\n",
    "    op_params = []\n",
    "    energies = []\n",
    "    pool = operator_pool.copy()\n",
    "    success = False\n",
    "\n",
    "    #if e==0:\n",
    "    #    basis_state = [1] + [0]*(num_qubits-1)\n",
    "    #else:\n",
    "    #    basis_state = [0]*(num_qubits)\n",
    "\n",
    "    for i in range(num_adapt_steps):\n",
    "\n",
    "        print(f\"Running for adapt step: {i}\")\n",
    "\n",
    "        max_ops_list = []\n",
    "        \n",
    "        if i != 0:\n",
    "            \n",
    "            pool.remove(most_common_gate)\n",
    "\n",
    "            if type(most_common_gate) == qml.CRY:\n",
    "                cq = most_common_gate.wires[0]\n",
    "                tq = most_common_gate.wires[1]\n",
    "\n",
    "                for sop in single_ops:\n",
    "                    if (sop(phi, wires=cq) not in pool):\n",
    "                        pool.append(sop(phi, wires=cq))\n",
    "\n",
    "                    if (sop(phi, wires=tq) not in pool):\n",
    "                        pool.append(sop(phi, wires=tq))\n",
    "        \n",
    "        for trial_param in np.random.uniform(phi, phi, size=num_grad_checks):\n",
    "            grad_list = []\n",
    "            grads = []\n",
    "            penalties = []\n",
    "            for trial_op in pool:\n",
    "                grad, penalty = grad_plus_overlap(basis_state, trial_op, trial_param, op_list, op_params, prev_op_list, prev_params)\n",
    "                grads.append(grad)\n",
    "                penalties.append(penalty)\n",
    "                o=type(trial_op)\n",
    "                grad_op = o(trial_param, wires=trial_op.wires)\n",
    "\n",
    "                grad_list.append(grad_op)\n",
    "\n",
    "            grad_norm = np.where(max(grads) != 0, grads / max(grads), 0)\n",
    "            penalty_norm = np.where(max(penalties) != 0, np.array(penalties) / max(penalties), 0)\n",
    "            #print(f\"grad norm: {grad_norm}\")\n",
    "            #print(f\"penalty norm: {grad_norm}\")\n",
    "\n",
    "            gp = grad_norm - penalty_norm\n",
    "            max_gp = np.argmax(gp)\n",
    "\n",
    "            max_op = grad_list[max_gp]\n",
    "            max_ops_list.append(max_op)\n",
    "\n",
    "\n",
    "        counter = Counter(max_ops_list)\n",
    "        most_common_gate, count = counter.most_common(1)[0]\n",
    "        op_list.append(most_common_gate)\n",
    "\n",
    "        # Generate Halton sequence\n",
    "        num_dimensions = len(op_list)\n",
    "        num_samples = popsize\n",
    "        halton_sampler = Halton(d=num_dimensions, seed=seed)\n",
    "        halton_samples = halton_sampler.random(n=num_samples)\n",
    "        scaled_samples = 2 * np.pi * halton_samples\n",
    "\n",
    "        bounds = [(0, 2 * np.pi) for _ in range(num_dimensions)]\n",
    "        x0 = np.concatenate((op_params, np.array([0.0])))\n",
    "        \n",
    "        print('Starting VQE')\n",
    "\n",
    "        res = differential_evolution(loss_f,\n",
    "                                        bounds=bounds,\n",
    "                                        args=(op_list, prev_op_list, prev_params, basis_state),\n",
    "                                        x0=x0,\n",
    "                                        maxiter=max_iter,\n",
    "                                        tol=tol,\n",
    "                                        atol=abs_tol,\n",
    "                                        strategy=strategy,\n",
    "                                        popsize=popsize,\n",
    "                                        init=scaled_samples,\n",
    "                                        seed=seed\n",
    "                                        )\n",
    "        \n",
    "        if i!=0: pre_min_e = min_e\n",
    "        min_e = res.fun\n",
    "        pre_op_params = op_params.copy()\n",
    "        op_params = res.x\n",
    "\n",
    "        energies.append(min_e)\n",
    "\n",
    "        if i!=0:\n",
    "            if abs(pre_min_e - min_e) < 1e-3:\n",
    "                print(\"gradient converged\")\n",
    "                energies.pop()\n",
    "                op_list.pop()\n",
    "                final_params = pre_op_params\n",
    "                success = True\n",
    "                break\n",
    "            if abs(min_eigenvalue-min_e) < 1e-6:\n",
    "                print(\"Converged to min e\")\n",
    "                success = True\n",
    "                final_params = op_params\n",
    "                break\n",
    "\n",
    "    if success == False:\n",
    "        final_params = op_params\n",
    "\n",
    "    final_ops = []\n",
    "    #print(op_list)\n",
    "    for op, param in zip(op_list,final_params):\n",
    "        dict = {\"name\": op.name,\n",
    "                \"param\": param,\n",
    "                \"wires\": op.wires.tolist()\n",
    "                }\n",
    "        final_ops.append(dict)\n",
    "\n",
    "    #print(final_ops)\n",
    "    prev_op_list.append(op_list)\n",
    "    prev_params.append(final_params)\n",
    "    all_energies.append(energies)"
   ]
  },
  {
   "cell_type": "code",
   "execution_count": 241,
   "metadata": {},
   "outputs": [
    {
     "data": {
      "text/plain": [
       "[[np.float64(0.0)],\n",
       " [np.float64(1.9205078125000004),\n",
       "  np.float64(1.9275390625000002),\n",
       "  np.float64(1.9134765625),\n",
       "  np.float64(1.8958984375),\n",
       "  np.float64(0.9712890625000002)],\n",
       " [np.float64(1.989453125),\n",
       "  np.float64(1.9919921875),\n",
       "  np.float64(1.9671874999999999),\n",
       "  np.float64(0.9607421875),\n",
       "  np.float64(0.9478515625)]]"
      ]
     },
     "execution_count": 241,
     "metadata": {},
     "output_type": "execute_result"
    }
   ],
   "source": [
    "all_energies"
   ]
  },
  {
   "cell_type": "code",
   "execution_count": 226,
   "metadata": {},
   "outputs": [
    {
     "data": {
      "text/plain": [
       "array([0.03201011+0.j, 1.68015552+0.j, 1.83352558+0.j])"
      ]
     },
     "execution_count": 226,
     "metadata": {},
     "output_type": "execute_result"
    }
   ],
   "source": [
    "eigenvalues[min_3_ev]"
   ]
  },
  {
   "cell_type": "code",
   "execution_count": 242,
   "metadata": {},
   "outputs": [
    {
     "data": {
      "text/plain": [
       "[[RY(np.float64(0.0), wires=[0])],\n",
       " [RY(np.float64(0.0), wires=[2]),\n",
       "  CRY(0.0, wires=[0, 2])),\n",
       "  RY(np.float64(0.0), wires=[2]),\n",
       "  CRY(0.0, wires=[2, 3])),\n",
       "  RY(np.float64(0.0), wires=[2])],\n",
       " [CRY(0.0, wires=[0, 1])),\n",
       "  RY(np.float64(0.0), wires=[1]),\n",
       "  CRY(0.0, wires=[1, 0])),\n",
       "  RY(np.float64(0.0), wires=[1]),\n",
       "  RY(np.float64(0.0), wires=[0])]]"
      ]
     },
     "execution_count": 242,
     "metadata": {},
     "output_type": "execute_result"
    }
   ],
   "source": [
    "prev_op_list"
   ]
  },
  {
   "cell_type": "code",
   "execution_count": null,
   "metadata": {},
   "outputs": [],
   "source": []
  }
 ],
 "metadata": {
  "kernelspec": {
   "display_name": ".venv",
   "language": "python",
   "name": "python3"
  },
  "language_info": {
   "codemirror_mode": {
    "name": "ipython",
    "version": 3
   },
   "file_extension": ".py",
   "mimetype": "text/x-python",
   "name": "python",
   "nbconvert_exporter": "python",
   "pygments_lexer": "ipython3",
   "version": "3.13.1"
  }
 },
 "nbformat": 4,
 "nbformat_minor": 2
}
