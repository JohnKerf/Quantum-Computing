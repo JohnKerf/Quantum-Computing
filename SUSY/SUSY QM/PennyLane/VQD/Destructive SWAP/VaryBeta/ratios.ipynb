{
 "cells": [
  {
   "cell_type": "code",
   "execution_count": 1,
   "metadata": {},
   "outputs": [],
   "source": [
    "import pandas as pd\n",
    "import numpy as np\n",
    "import json\n",
    "import os\n",
    "from tabulate import tabulate"
   ]
  },
  {
   "cell_type": "code",
   "execution_count": 2,
   "metadata": {},
   "outputs": [],
   "source": [
    "folder_path = r\"C:\\Users\\Johnk\\Documents\\PhD\\Quantum Computing Code\\Quantum-Computing\\SUSY\\SUSY QM\\PennyLane\\VQD\\Destructive SWAP\\VaryBeta\"\n",
    "cutoff = 16\n",
    "potential = 'DW'\n",
    "betas = [f for f in os.listdir(folder_path) if os.path.isdir(os.path.join(folder_path, f))]"
   ]
  },
  {
   "cell_type": "code",
   "execution_count": 3,
   "metadata": {},
   "outputs": [
    {
     "data": {
      "text/plain": [
       "['0.5', '1.0', '1.5', '2.0', '2.5']"
      ]
     },
     "execution_count": 3,
     "metadata": {},
     "output_type": "execute_result"
    }
   ],
   "source": [
    "betas"
   ]
  },
  {
   "cell_type": "code",
   "execution_count": 23,
   "metadata": {},
   "outputs": [],
   "source": [
    "converged_only = False\n",
    "all_data = []\n",
    "\n",
    "for beta in betas:\n",
    "\n",
    "    median = []\n",
    "    mean = []\n",
    "    min = []\n",
    "    e0 = []\n",
    "    e1 = []\n",
    "    e2 = []\n",
    "    ratios = []\n",
    "\n",
    "    data_path = folder_path + \"\\\\{}\\\\{}_{}.json\".format(beta,potential, cutoff)\n",
    "    \n",
    "    with open(data_path, 'r') as file:\n",
    "        data = json.load(file)\n",
    "\n",
    "    num_VQD = data['num_VQD']\n",
    "\n",
    "    converged = [all(x) for x in data['success']]\n",
    "    converged_indices = [i for i, success in enumerate(converged) if success]\n",
    "    converged_runs = sum(converged)\n",
    "\n",
    "    if converged_only:\n",
    "        results = [data['results'][i] for i in converged_indices]\n",
    "    else:\n",
    "        results = data['results']\n",
    "\n",
    "    success_i = [i for i, success in enumerate(data['success']) if all(success)]\n",
    "    successful_results = [data['results'][i] for i in success_i]\n",
    "    energies =np.sort(successful_results)\n",
    "\n",
    "    run_times = [data['run_times'][i] for i in converged_indices]\n",
    "    time_series = np.array([pd.Timedelta(t).total_seconds() for t in run_times])\n",
    "    mean_vqe_time = np.mean(time_series)\n",
    "    time_taken = np.mean(mean_vqe_time)\n",
    "\n",
    "    for e in energies:\n",
    "        \n",
    "        e0.append(e[0])\n",
    "        e1.append(e[1])\n",
    "        e2.append(e[2])\n",
    "        r = abs((e[2] - e[1]) / (e[2] - e[0]))\n",
    "        ratios.append(r)\n",
    "\n",
    "    e0_exact = data['exact_eigenvalues'][0]\n",
    "    e1_exact = data['exact_eigenvalues'][1]\n",
    "    e2_exact = data['exact_eigenvalues'][2]\n",
    "    exact_ratio = abs((e2_exact - e1_exact) / (e2_exact - e0_exact))\n",
    "\n",
    "    row = {\n",
    "    \"beta\": beta,\n",
    "    'Converged Runs': f\"{converged_runs}/100\",\n",
    "    'Mean VQD time (s)': f\"{time_taken:.2f}\",\n",
    "    #\"e0_exact\": e0_exact,\n",
    "    #\"e1_exact\": e1_exact,\n",
    "    #\"e2_exact\": e2_exact,\n",
    "    #\"e0\": np.median(e0),\n",
    "    #\"e1\": np.median(e1),\n",
    "    #\"e2\": np.median(e2),\n",
    "    \"exact_ratio\": exact_ratio,\n",
    "    \"median_ratio\": np.median(ratios),\n",
    "    \"delta_ratio\": abs(exact_ratio-np.median(ratios))\n",
    "    #\"mean_ratio\": np.mean(ratios),\n",
    "    #\"min_ratio\": np.min(ratios),\n",
    "    \n",
    "    }\n",
    "\n",
    "    all_data.append(row)"
   ]
  },
  {
   "cell_type": "code",
   "execution_count": 24,
   "metadata": {},
   "outputs": [
    {
     "data": {
      "text/html": [
       "<div>\n",
       "<style scoped>\n",
       "    .dataframe tbody tr th:only-of-type {\n",
       "        vertical-align: middle;\n",
       "    }\n",
       "\n",
       "    .dataframe tbody tr th {\n",
       "        vertical-align: top;\n",
       "    }\n",
       "\n",
       "    .dataframe thead th {\n",
       "        text-align: right;\n",
       "    }\n",
       "</style>\n",
       "<table border=\"1\" class=\"dataframe\">\n",
       "  <thead>\n",
       "    <tr style=\"text-align: right;\">\n",
       "      <th></th>\n",
       "      <th>beta</th>\n",
       "      <th>Converged Runs</th>\n",
       "      <th>Mean VQD time (s)</th>\n",
       "      <th>exact_ratio</th>\n",
       "      <th>median_ratio</th>\n",
       "      <th>delta_ratio</th>\n",
       "    </tr>\n",
       "  </thead>\n",
       "  <tbody>\n",
       "    <tr>\n",
       "      <th>0</th>\n",
       "      <td>0.5</td>\n",
       "      <td>100/100</td>\n",
       "      <td>2317.68</td>\n",
       "      <td>0.999977</td>\n",
       "      <td>0.990469</td>\n",
       "      <td>0.009509</td>\n",
       "    </tr>\n",
       "    <tr>\n",
       "      <th>1</th>\n",
       "      <td>1.0</td>\n",
       "      <td>100/100</td>\n",
       "      <td>2314.89</td>\n",
       "      <td>0.999977</td>\n",
       "      <td>0.992740</td>\n",
       "      <td>0.007238</td>\n",
       "    </tr>\n",
       "    <tr>\n",
       "      <th>2</th>\n",
       "      <td>1.5</td>\n",
       "      <td>100/100</td>\n",
       "      <td>2509.06</td>\n",
       "      <td>0.999977</td>\n",
       "      <td>0.993273</td>\n",
       "      <td>0.006705</td>\n",
       "    </tr>\n",
       "    <tr>\n",
       "      <th>3</th>\n",
       "      <td>2.0</td>\n",
       "      <td>100/100</td>\n",
       "      <td>2345.85</td>\n",
       "      <td>0.999977</td>\n",
       "      <td>0.993765</td>\n",
       "      <td>0.006213</td>\n",
       "    </tr>\n",
       "    <tr>\n",
       "      <th>4</th>\n",
       "      <td>2.5</td>\n",
       "      <td>100/100</td>\n",
       "      <td>3100.23</td>\n",
       "      <td>0.999977</td>\n",
       "      <td>0.988046</td>\n",
       "      <td>0.011931</td>\n",
       "    </tr>\n",
       "  </tbody>\n",
       "</table>\n",
       "</div>"
      ],
      "text/plain": [
       "  beta Converged Runs Mean VQD time (s)  exact_ratio  median_ratio  \\\n",
       "0  0.5        100/100           2317.68     0.999977      0.990469   \n",
       "1  1.0        100/100           2314.89     0.999977      0.992740   \n",
       "2  1.5        100/100           2509.06     0.999977      0.993273   \n",
       "3  2.0        100/100           2345.85     0.999977      0.993765   \n",
       "4  2.5        100/100           3100.23     0.999977      0.988046   \n",
       "\n",
       "   delta_ratio  \n",
       "0     0.009509  \n",
       "1     0.007238  \n",
       "2     0.006705  \n",
       "3     0.006213  \n",
       "4     0.011931  "
      ]
     },
     "execution_count": 24,
     "metadata": {},
     "output_type": "execute_result"
    }
   ],
   "source": [
    "df = pd.DataFrame(all_data)\n",
    "df"
   ]
  },
  {
   "cell_type": "code",
   "execution_count": 25,
   "metadata": {},
   "outputs": [
    {
     "name": "stdout",
     "output_type": "stream",
     "text": [
      "\\begin{tabular}{rlrrrr}\n",
      "\\hline\n",
      "   beta & Converged Runs   &   Mean VQD time (s) &   exact\\_ratio &   median\\_ratio &   delta\\_ratio \\\\\n",
      "\\hline\n",
      "  0.500 & 100/100          &            2317.680 &         1.000 &          0.990 &         0.010 \\\\\n",
      "  1.000 & 100/100          &            2314.890 &         1.000 &          0.993 &         0.007 \\\\\n",
      "  1.500 & 100/100          &            2509.060 &         1.000 &          0.993 &         0.007 \\\\\n",
      "  2.000 & 100/100          &            2345.850 &         1.000 &          0.994 &         0.006 \\\\\n",
      "  2.500 & 100/100          &            3100.230 &         1.000 &          0.988 &         0.012 \\\\\n",
      "\\hline\n",
      "\\end{tabular}\n"
     ]
    }
   ],
   "source": [
    "latex_table = tabulate(df.values, headers=df.columns, tablefmt=\"latex\", floatfmt=\".3f\")\n",
    "print(latex_table)"
   ]
  },
  {
   "cell_type": "code",
   "execution_count": null,
   "metadata": {},
   "outputs": [],
   "source": []
  }
 ],
 "metadata": {
  "kernelspec": {
   "display_name": ".venv",
   "language": "python",
   "name": "python3"
  },
  "language_info": {
   "codemirror_mode": {
    "name": "ipython",
    "version": 3
   },
   "file_extension": ".py",
   "mimetype": "text/x-python",
   "name": "python",
   "nbconvert_exporter": "python",
   "pygments_lexer": "ipython3",
   "version": "3.13.1"
  }
 },
 "nbformat": 4,
 "nbformat_minor": 2
}
