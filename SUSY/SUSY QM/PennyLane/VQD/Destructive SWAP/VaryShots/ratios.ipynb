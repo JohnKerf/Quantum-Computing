{
 "cells": [
  {
   "cell_type": "code",
   "execution_count": 4,
   "metadata": {},
   "outputs": [],
   "source": [
    "import pandas as pd\n",
    "import numpy as np\n",
    "import json\n",
    "import os\n",
    "from tabulate import tabulate"
   ]
  },
  {
   "cell_type": "code",
   "execution_count": 30,
   "metadata": {},
   "outputs": [],
   "source": [
    "cutoff = 16\n",
    "potential = 'QHO'\n",
    "folder_path = r\"C:\\Users\\Johnk\\Documents\\PhD\\Quantum Computing Code\\Quantum-Computing\\SUSY\\SUSY QM\\PennyLane\\VQD\\Destructive SWAP\\VaryShots\\{}\".format(potential)\n",
    "shots_list = [f for f in os.listdir(folder_path) if os.path.isdir(os.path.join(folder_path, f))]"
   ]
  },
  {
   "cell_type": "code",
   "execution_count": 31,
   "metadata": {},
   "outputs": [
    {
     "name": "stderr",
     "output_type": "stream",
     "text": [
      "c:\\Users\\Johnk\\Documents\\PhD\\Quantum Computing Code\\Quantum-Computing\\.venv\\Lib\\site-packages\\numpy\\_core\\fromnumeric.py:3596: RuntimeWarning: Mean of empty slice.\n",
      "  return _methods._mean(a, axis=axis, dtype=dtype,\n",
      "c:\\Users\\Johnk\\Documents\\PhD\\Quantum Computing Code\\Quantum-Computing\\.venv\\Lib\\site-packages\\numpy\\_core\\_methods.py:138: RuntimeWarning: invalid value encountered in scalar divide\n",
      "  ret = ret.dtype.type(ret / rcount)\n"
     ]
    }
   ],
   "source": [
    "converged_only = True\n",
    "all_data = []\n",
    "\n",
    "for shots in shots_list:\n",
    "\n",
    "    median = []\n",
    "    mean = []\n",
    "    min = []\n",
    "    e0 = []\n",
    "    e1 = []\n",
    "    e2 = []\n",
    "    ratios = []\n",
    "\n",
    "    data_path = folder_path + \"\\\\{}\\\\{}_{}.json\".format(shots,potential, cutoff)\n",
    "    \n",
    "    with open(data_path, 'r') as file:\n",
    "        data = json.load(file)\n",
    "\n",
    "    num_VQD = data['num_VQD']\n",
    "\n",
    "    converged = [all(x) for x in data['success']]\n",
    "    converged_indices = [i for i, success in enumerate(converged) if success]\n",
    "    converged_runs = sum(converged)\n",
    "\n",
    "    if converged_only:\n",
    "        results = [data['results'][i] for i in converged_indices]\n",
    "    else:\n",
    "        results = data['results']\n",
    "\n",
    "    success_i = [i for i, success in enumerate(data['success']) if all(success)]\n",
    "    successful_results = [data['results'][i] for i in success_i]\n",
    "    energies =np.sort(successful_results)\n",
    "\n",
    "    run_times = data['run_times']#[data['run_times'][i] for i in converged_indices]\n",
    "    time_series = np.array([pd.Timedelta(t).total_seconds() for t in run_times])\n",
    "    mean_vqe_time = np.mean(time_series)\n",
    "    time_taken = np.mean(mean_vqe_time)\n",
    "\n",
    "    for e in energies:\n",
    "        \n",
    "        e0.append(e[0])\n",
    "        e1.append(e[1])\n",
    "        e2.append(e[2])\n",
    "        r = abs((e[2] - e[1]) / (e[2] - e[0]))\n",
    "        ratios.append(r)\n",
    "\n",
    "    e0_exact = data['exact_eigenvalues'][0]\n",
    "    e1_exact = data['exact_eigenvalues'][1]\n",
    "    e2_exact = data['exact_eigenvalues'][2]\n",
    "    exact_ratio = abs((e2_exact - e1_exact) / (e2_exact - e0_exact))\n",
    "\n",
    "    row = {\n",
    "    \"shots\": shots,\n",
    "    'Converged Runs': f\"{converged_runs}/100\",\n",
    "    'Mean VQD time (s)': f\"{time_taken:.2f}\",\n",
    "    #\"e0_exact\": e0_exact,\n",
    "    #\"e1_exact\": e1_exact,\n",
    "    #\"e2_exact\": e2_exact,\n",
    "    #\"e0\": np.median(e0),\n",
    "    #\"e1\": np.median(e1),\n",
    "    #\"e2\": np.median(e2),\n",
    "    #\"E01\": e1_exact - e0_exact,\n",
    "    #\"E12\": e2_exact - e1_exact,\n",
    "    \"exact_ratio\": exact_ratio,\n",
    "    \"median_ratio\": np.median(ratios),\n",
    "    \"delta_ratio\": abs(exact_ratio-np.median(ratios))\n",
    "    #\"mean_ratio\": np.mean(ratios),\n",
    "    #\"min_ratio\": np.min(ratios),\n",
    "    }\n",
    "\n",
    "    all_data.append(row)"
   ]
  },
  {
   "cell_type": "code",
   "execution_count": 32,
   "metadata": {},
   "outputs": [],
   "source": [
    "df = pd.DataFrame(all_data)\n",
    "df['shots'] = df['shots'].astype(int)\n",
    "df = df.sort_values('shots')"
   ]
  },
  {
   "cell_type": "code",
   "execution_count": 33,
   "metadata": {},
   "outputs": [
    {
     "data": {
      "text/html": [
       "<div>\n",
       "<style scoped>\n",
       "    .dataframe tbody tr th:only-of-type {\n",
       "        vertical-align: middle;\n",
       "    }\n",
       "\n",
       "    .dataframe tbody tr th {\n",
       "        vertical-align: top;\n",
       "    }\n",
       "\n",
       "    .dataframe thead th {\n",
       "        text-align: right;\n",
       "    }\n",
       "</style>\n",
       "<table border=\"1\" class=\"dataframe\">\n",
       "  <thead>\n",
       "    <tr style=\"text-align: right;\">\n",
       "      <th></th>\n",
       "      <th>shots</th>\n",
       "      <th>Converged Runs</th>\n",
       "      <th>Mean VQD time (s)</th>\n",
       "      <th>exact_ratio</th>\n",
       "      <th>median_ratio</th>\n",
       "      <th>delta_ratio</th>\n",
       "    </tr>\n",
       "  </thead>\n",
       "  <tbody>\n",
       "    <tr>\n",
       "      <th>0</th>\n",
       "      <td>1024</td>\n",
       "      <td>0/100</td>\n",
       "      <td>5739.72</td>\n",
       "      <td>4.440892e-16</td>\n",
       "      <td>NaN</td>\n",
       "      <td>NaN</td>\n",
       "    </tr>\n",
       "    <tr>\n",
       "      <th>2</th>\n",
       "      <td>2048</td>\n",
       "      <td>0/100</td>\n",
       "      <td>5691.67</td>\n",
       "      <td>4.440892e-16</td>\n",
       "      <td>NaN</td>\n",
       "      <td>NaN</td>\n",
       "    </tr>\n",
       "    <tr>\n",
       "      <th>4</th>\n",
       "      <td>4096</td>\n",
       "      <td>19/100</td>\n",
       "      <td>3637.87</td>\n",
       "      <td>4.440892e-16</td>\n",
       "      <td>0.051648</td>\n",
       "      <td>0.051648</td>\n",
       "    </tr>\n",
       "    <tr>\n",
       "      <th>5</th>\n",
       "      <td>8192</td>\n",
       "      <td>98/100</td>\n",
       "      <td>558.81</td>\n",
       "      <td>4.440892e-16</td>\n",
       "      <td>0.048639</td>\n",
       "      <td>0.048639</td>\n",
       "    </tr>\n",
       "    <tr>\n",
       "      <th>1</th>\n",
       "      <td>16384</td>\n",
       "      <td>100/100</td>\n",
       "      <td>171.91</td>\n",
       "      <td>4.440892e-16</td>\n",
       "      <td>0.026678</td>\n",
       "      <td>0.026678</td>\n",
       "    </tr>\n",
       "    <tr>\n",
       "      <th>3</th>\n",
       "      <td>32768</td>\n",
       "      <td>100/100</td>\n",
       "      <td>160.72</td>\n",
       "      <td>4.440892e-16</td>\n",
       "      <td>0.014696</td>\n",
       "      <td>0.014696</td>\n",
       "    </tr>\n",
       "  </tbody>\n",
       "</table>\n",
       "</div>"
      ],
      "text/plain": [
       "   shots Converged Runs Mean VQD time (s)   exact_ratio  median_ratio  \\\n",
       "0   1024          0/100           5739.72  4.440892e-16           NaN   \n",
       "2   2048          0/100           5691.67  4.440892e-16           NaN   \n",
       "4   4096         19/100           3637.87  4.440892e-16      0.051648   \n",
       "5   8192         98/100            558.81  4.440892e-16      0.048639   \n",
       "1  16384        100/100            171.91  4.440892e-16      0.026678   \n",
       "3  32768        100/100            160.72  4.440892e-16      0.014696   \n",
       "\n",
       "   delta_ratio  \n",
       "0          NaN  \n",
       "2          NaN  \n",
       "4     0.051648  \n",
       "5     0.048639  \n",
       "1     0.026678  \n",
       "3     0.014696  "
      ]
     },
     "execution_count": 33,
     "metadata": {},
     "output_type": "execute_result"
    }
   ],
   "source": [
    "df"
   ]
  },
  {
   "cell_type": "code",
   "execution_count": 34,
   "metadata": {},
   "outputs": [
    {
     "name": "stdout",
     "output_type": "stream",
     "text": [
      "\\begin{tabular}{rlrrrr}\n",
      "\\hline\n",
      "   shots & Converged Runs   &   Mean VQD time (s) &   exact\\_ratio &   median\\_ratio &   delta\\_ratio \\\\\n",
      "\\hline\n",
      "    1024 & 0/100            &           5739.7200 &        0.0000 &       nan      &      nan      \\\\\n",
      "    2048 & 0/100            &           5691.6700 &        0.0000 &       nan      &      nan      \\\\\n",
      "    4096 & 19/100           &           3637.8700 &        0.0000 &         0.0516 &        0.0516 \\\\\n",
      "    8192 & 98/100           &            558.8100 &        0.0000 &         0.0486 &        0.0486 \\\\\n",
      "   16384 & 100/100          &            171.9100 &        0.0000 &         0.0267 &        0.0267 \\\\\n",
      "   32768 & 100/100          &            160.7200 &        0.0000 &         0.0147 &        0.0147 \\\\\n",
      "\\hline\n",
      "\\end{tabular}\n"
     ]
    }
   ],
   "source": [
    "latex_table = tabulate(df.values, headers=df.columns, tablefmt=\"latex\", floatfmt=\".4f\")\n",
    "print(latex_table)"
   ]
  },
  {
   "cell_type": "code",
   "execution_count": null,
   "metadata": {},
   "outputs": [],
   "source": []
  }
 ],
 "metadata": {
  "kernelspec": {
   "display_name": ".venv",
   "language": "python",
   "name": "python3"
  },
  "language_info": {
   "codemirror_mode": {
    "name": "ipython",
    "version": 3
   },
   "file_extension": ".py",
   "mimetype": "text/x-python",
   "name": "python",
   "nbconvert_exporter": "python",
   "pygments_lexer": "ipython3",
   "version": "3.13.1"
  }
 },
 "nbformat": 4,
 "nbformat_minor": 2
}
