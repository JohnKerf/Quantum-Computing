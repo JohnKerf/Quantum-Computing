{
 "cells": [
  {
   "cell_type": "code",
   "execution_count": 2,
   "metadata": {},
   "outputs": [],
   "source": [
    "# PennyLane imports\n",
    "import pennylane as qml\n",
    "from pennylane import numpy as pnp\n",
    "\n",
    "from scipy.optimize import differential_evolution\n",
    "from scipy.stats.qmc import Halton\n",
    "\n",
    "# General imports\n",
    "import numpy as np\n",
    "\n",
    "from qiskit.quantum_info import SparsePauliOp\n",
    "\n",
    "# custom module\n",
    "from susy_qm import calculate_Hamiltonian"
   ]
  },
  {
   "cell_type": "code",
   "execution_count": 4,
   "metadata": {},
   "outputs": [],
   "source": [
    "potential = 'QHO'\n",
    "cutoff = 2"
   ]
  },
  {
   "cell_type": "code",
   "execution_count": 5,
   "metadata": {},
   "outputs": [],
   "source": [
    "#calculate Hamiltonian and expected eigenvalues\n",
    "H = calculate_Hamiltonian(cutoff, potential)\n",
    "\n",
    "eigenvalues, eigenvectors = np.linalg.eig(H)\n",
    "min_index = np.argmin(eigenvalues)\n",
    "min_eigenvalue = eigenvalues[min_index]\n",
    "min_eigenvector = np.asarray(eigenvectors[:, min_index])\n",
    "\n",
    "#create qiskit Hamiltonian Pauli string\n",
    "hamiltonian = SparsePauliOp.from_operator(H)\n",
    "num_qubits = hamiltonian.num_qubits"
   ]
  },
  {
   "cell_type": "code",
   "execution_count": 3,
   "metadata": {},
   "outputs": [],
   "source": [
    "num_qubits = 2\n",
    "dev = qml.device(\"default.qubit\", wires=2*num_qubits)\n",
    "\n",
    "@qml.qnode(dev)\n",
    "def destructive_swap_test_probs():\n",
    "\n",
    "    qml.RY(np.pi, wires=[0])\n",
    "    #qml.RY(np.pi, wires=[1])\n",
    "    qml.RY(np.pi, wires=[num_qubits])\n",
    "    #qml.RY(np.pi, wires=[num_qubits+1])\n",
    "    \n",
    "    for i in range(num_qubits):\n",
    "        qml.CNOT(wires=[i, i+num_qubits])    \n",
    "        qml.Hadamard(wires=i)         \n",
    "\n",
    "    return qml.probs(wires=range(2*num_qubits))"
   ]
  },
  {
   "cell_type": "code",
   "execution_count": 4,
   "metadata": {},
   "outputs": [
    {
     "data": {
      "text/plain": [
       "array([2.50000000e-01, 0.00000000e+00, 3.74939946e-33, 0.00000000e+00,\n",
       "       2.50000000e-01, 0.00000000e+00, 3.74939946e-33, 0.00000000e+00,\n",
       "       2.50000000e-01, 0.00000000e+00, 0.00000000e+00, 0.00000000e+00,\n",
       "       2.50000000e-01, 0.00000000e+00, 0.00000000e+00, 0.00000000e+00])"
      ]
     },
     "execution_count": 4,
     "metadata": {},
     "output_type": "execute_result"
    }
   ],
   "source": [
    "probs = destructive_swap_test_probs()\n",
    "probs"
   ]
  },
  {
   "cell_type": "code",
   "execution_count": 5,
   "metadata": {},
   "outputs": [
    {
     "name": "stdout",
     "output_type": "stream",
     "text": [
      "0: ──RY(3.14)─╭●──H────┤ ╭Probs\n",
      "1: ───────────│──╭●──H─┤ ├Probs\n",
      "2: ──RY(3.14)─╰X─│─────┤ ├Probs\n",
      "3: ──────────────╰X────┤ ╰Probs\n"
     ]
    }
   ],
   "source": [
    "print(qml.draw(destructive_swap_test_probs)())"
   ]
  },
  {
   "cell_type": "code",
   "execution_count": 6,
   "metadata": {},
   "outputs": [
    {
     "name": "stdout",
     "output_type": "stream",
     "text": [
      "0000 0\n",
      "0001 0\n",
      "0010 0\n",
      "0011 0\n",
      "0100 0\n",
      "0101 1\n",
      "0110 0\n",
      "0111 1\n",
      "1000 0\n",
      "1001 0\n",
      "1010 1\n",
      "1011 1\n",
      "1100 0\n",
      "1101 1\n",
      "1110 1\n",
      "1111 2\n",
      "Estimated fidelity squared |<ψ|φ>|²: 0.9999999999999996\n"
     ]
    }
   ],
   "source": [
    "# There are 2^(2*n) possible outcomes.\n",
    "expected_value = 0\n",
    "for idx, p in enumerate(probs):\n",
    "\n",
    "    bitstring = format(idx, '0{}b'.format(2*num_qubits))\n",
    "\n",
    "    counter_11 = 0\n",
    "    for i in range(num_qubits):\n",
    "        a = int(bitstring[i])\n",
    "        b = int(bitstring[i+num_qubits])\n",
    "        if (a == 1 and b == 1):\n",
    "            counter_11 +=1\n",
    "\n",
    "    print(bitstring, counter_11)\n",
    "    expected_value += p*(-1)**counter_11\n",
    "\n",
    "print(\"Estimated fidelity squared |<ψ|φ>|²:\", expected_value)\n"
   ]
  },
  {
   "cell_type": "code",
   "execution_count": null,
   "metadata": {},
   "outputs": [],
   "source": []
  }
 ],
 "metadata": {
  "kernelspec": {
   "display_name": ".venv",
   "language": "python",
   "name": "python3"
  },
  "language_info": {
   "codemirror_mode": {
    "name": "ipython",
    "version": 3
   },
   "file_extension": ".py",
   "mimetype": "text/x-python",
   "name": "python",
   "nbconvert_exporter": "python",
   "pygments_lexer": "ipython3",
   "version": "3.13.1"
  }
 },
 "nbformat": 4,
 "nbformat_minor": 2
}
