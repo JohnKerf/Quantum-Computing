{
 "cells": [
  {
   "cell_type": "code",
   "execution_count": 1,
   "metadata": {},
   "outputs": [],
   "source": [
    "import pennylane as qml\n",
    "import numpy as np\n",
    "from susy_qm import calculate_Hamiltonian"
   ]
  },
  {
   "cell_type": "code",
   "execution_count": 24,
   "metadata": {},
   "outputs": [],
   "source": [
    "num_qubits = 2\n",
    "dev = qml.device(\"default.qubit\", wires=2*num_qubits)\n",
    "\n",
    "@qml.qnode(dev)\n",
    "def destructive_swap_test_probs():\n",
    "\n",
    "    qml.RX(np.pi, wires=[0])\n",
    "    #qml.RX(np.pi/2, wires=[1])\n",
    "    qml.RX(np.pi/2, wires=[2])\n",
    "    #qml.RX(np.pi/2, wires=[3])\n",
    "    \n",
    "    for i in range(num_qubits):\n",
    "        qml.CNOT(wires=[i, i+num_qubits])    \n",
    "        qml.Hadamard(wires=i)         \n",
    "\n",
    "    return qml.probs(wires=range(2*num_qubits))"
   ]
  },
  {
   "cell_type": "code",
   "execution_count": 25,
   "metadata": {},
   "outputs": [
    {
     "data": {
      "text/plain": [
       "array([0.125, 0.   , 0.125, 0.   , 0.125, 0.   , 0.125, 0.   , 0.125,\n",
       "       0.   , 0.125, 0.   , 0.125, 0.   , 0.125, 0.   ])"
      ]
     },
     "execution_count": 25,
     "metadata": {},
     "output_type": "execute_result"
    }
   ],
   "source": [
    "probs = destructive_swap_test_probs()\n",
    "probs"
   ]
  },
  {
   "cell_type": "code",
   "execution_count": 26,
   "metadata": {},
   "outputs": [
    {
     "name": "stdout",
     "output_type": "stream",
     "text": [
      "0: ──RX(3.14)─╭●──H────┤ ╭Probs\n",
      "1: ───────────│──╭●──H─┤ ├Probs\n",
      "2: ──RX(1.57)─╰X─│─────┤ ├Probs\n",
      "3: ──────────────╰X────┤ ╰Probs\n"
     ]
    }
   ],
   "source": [
    "print(qml.draw(destructive_swap_test_probs)())"
   ]
  },
  {
   "cell_type": "code",
   "execution_count": 27,
   "metadata": {},
   "outputs": [
    {
     "name": "stdout",
     "output_type": "stream",
     "text": [
      "0000 0 0.12499999999999994 1\n",
      "0001 0 0.0 1\n",
      "0010 0 0.12499999999999997 1\n",
      "0011 0 0.0 1\n",
      "0100 0 0.12499999999999994 1\n",
      "0101 1 0.0 -1\n",
      "0110 0 0.12499999999999997 1\n",
      "0111 1 0.0 -1\n",
      "1000 0 0.12499999999999997 1\n",
      "1001 0 0.0 1\n",
      "1010 1 0.12499999999999994 -1\n",
      "1011 1 0.0 -1\n",
      "1100 0 0.12499999999999997 1\n",
      "1101 1 0.0 -1\n",
      "1110 1 0.12499999999999994 -1\n",
      "1111 2 0.0 1\n",
      "Fidelity: 0.49999999999999994\n"
     ]
    }
   ],
   "source": [
    "Fidelity = 0\n",
    "for idx, p in enumerate(probs):\n",
    "\n",
    "    bitstring = format(idx, '0{}b'.format(2*num_qubits))\n",
    "\n",
    "    counter_11 = 0\n",
    "    for i in range(num_qubits):\n",
    "        a = int(bitstring[i])\n",
    "        b = int(bitstring[i+num_qubits])\n",
    "        if (a == 1 and b == 1):\n",
    "            counter_11 +=1\n",
    "\n",
    "    if p < 1e-20:\n",
    "        p=0.0\n",
    "        \n",
    "    print(bitstring, counter_11, p, (-1)**counter_11)\n",
    "    Fidelity += p*(-1)**counter_11\n",
    "\n",
    "print(\"Fidelity:\", Fidelity)\n"
   ]
  },
  {
   "cell_type": "markdown",
   "metadata": {},
   "source": [
    "0000 0 0.2499999999999999 1\n",
    "0001 0 0.0 1\n",
    "0010 0 0.0 1\n",
    "0011 0 0.0 1\n",
    "0100 0 0.2499999999999999 1\n",
    "0101 1 0.0 -1\n",
    "0110 0 0.0 1\n",
    "0111 1 0.0 -1\n",
    "1000 0 0.2499999999999999 1\n",
    "1001 0 0.0 1\n",
    "1010 1 0.0 -1\n",
    "1011 1 0.0 -1\n",
    "1100 0 0.2499999999999999 1\n",
    "1101 1 0.0 -1\n",
    "1110 1 0.0 -1\n",
    "1111 2 0.0 1\n",
    "Fidelity: 0.9999999999999996"
   ]
  },
  {
   "cell_type": "code",
   "execution_count": null,
   "metadata": {},
   "outputs": [],
   "source": []
  }
 ],
 "metadata": {
  "kernelspec": {
   "display_name": ".venv",
   "language": "python",
   "name": "python3"
  },
  "language_info": {
   "codemirror_mode": {
    "name": "ipython",
    "version": 3
   },
   "file_extension": ".py",
   "mimetype": "text/x-python",
   "name": "python",
   "nbconvert_exporter": "python",
   "pygments_lexer": "ipython3",
   "version": "3.10.0"
  }
 },
 "nbformat": 4,
 "nbformat_minor": 2
}
