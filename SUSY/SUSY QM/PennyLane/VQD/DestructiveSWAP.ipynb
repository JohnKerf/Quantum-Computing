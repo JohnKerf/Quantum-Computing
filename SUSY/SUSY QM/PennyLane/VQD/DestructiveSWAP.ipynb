{
 "cells": [
  {
   "cell_type": "code",
   "execution_count": 3,
   "metadata": {},
   "outputs": [],
   "source": [
    "# PennyLane imports\n",
    "import pennylane as qml\n",
    "from pennylane import numpy as pnp\n",
    "\n",
    "from scipy.optimize import differential_evolution\n",
    "from scipy.stats.qmc import Halton\n",
    "\n",
    "# General imports\n",
    "import numpy as np\n",
    "\n",
    "from qiskit.quantum_info import SparsePauliOp\n",
    "\n",
    "# custom module\n",
    "from susy_qm import calculate_Hamiltonian"
   ]
  },
  {
   "cell_type": "code",
   "execution_count": 4,
   "metadata": {},
   "outputs": [],
   "source": [
    "potential = 'QHO'\n",
    "cutoff = 2"
   ]
  },
  {
   "cell_type": "code",
   "execution_count": 5,
   "metadata": {},
   "outputs": [],
   "source": [
    "#calculate Hamiltonian and expected eigenvalues\n",
    "H = calculate_Hamiltonian(cutoff, potential)\n",
    "\n",
    "eigenvalues, eigenvectors = np.linalg.eig(H)\n",
    "min_index = np.argmin(eigenvalues)\n",
    "min_eigenvalue = eigenvalues[min_index]\n",
    "min_eigenvector = np.asarray(eigenvectors[:, min_index])\n",
    "\n",
    "#create qiskit Hamiltonian Pauli string\n",
    "hamiltonian = SparsePauliOp.from_operator(H)\n",
    "num_qubits = hamiltonian.num_qubits"
   ]
  },
  {
   "cell_type": "code",
   "execution_count": 21,
   "metadata": {},
   "outputs": [],
   "source": [
    "def ansatz(params, wire):\n",
    "        qml.RY(params, wires=wire)"
   ]
  },
  {
   "cell_type": "code",
   "execution_count": 18,
   "metadata": {},
   "outputs": [
    {
     "name": "stdout",
     "output_type": "stream",
     "text": [
      "0: ─╭|Ψ⟩──RY(0.00)─┤  \n",
      "1: ─╰|Ψ⟩───────────┤  \n"
     ]
    }
   ],
   "source": [
    "print(qml.draw(ansatz)(0.0,0))"
   ]
  },
  {
   "cell_type": "code",
   "execution_count": 22,
   "metadata": {},
   "outputs": [],
   "source": [
    "def test(params1, params2):\n",
    "    qml.BasisState([0]*2*num_qubits, wires=range(2*num_qubits))\n",
    "    ansatz(params1, wire=[0])\n",
    "    ansatz(params2, wire=[num_qubits])"
   ]
  },
  {
   "cell_type": "code",
   "execution_count": 23,
   "metadata": {},
   "outputs": [
    {
     "name": "stdout",
     "output_type": "stream",
     "text": [
      "0: ─╭|Ψ⟩──RY(0.00)─┤  \n",
      "1: ─├|Ψ⟩───────────┤  \n",
      "2: ─├|Ψ⟩──RY(0.00)─┤  \n",
      "3: ─╰|Ψ⟩───────────┤  \n"
     ]
    }
   ],
   "source": [
    "print(qml.draw(test)(0.0,0.0))"
   ]
  },
  {
   "cell_type": "code",
   "execution_count": 26,
   "metadata": {},
   "outputs": [],
   "source": [
    "shots=2\n",
    "dev = qml.device('default.qubit', wires=2*num_qubits, shots=shots)\n",
    "@qml.qnode(dev)\n",
    "def destructive_swap_test(params1, params2):\n",
    "\n",
    "    qml.BasisState([0]*2*num_qubits, wires=range(2*num_qubits))\n",
    "    \n",
    "    ansatz(params1, wire=[0])\n",
    "    ansatz(params2, wire=[num_qubits])\n",
    "\n",
    "    qml.Barrier()\n",
    "\n",
    "    for i in range(num_qubits):\n",
    "        qml.CNOT(wires=[i, num_qubits + i])\n",
    "        qml.Hadamard(wires=i)\n",
    "\n",
    "    probs = qml.probs(wires=range(2*num_qubits))\n",
    "\n",
    "    return probs\n"
   ]
  },
  {
   "cell_type": "code",
   "execution_count": 27,
   "metadata": {},
   "outputs": [
    {
     "name": "stdout",
     "output_type": "stream",
     "text": [
      "0: ─╭|Ψ⟩──RY(0.00)──||─╭●──H────┤ ╭Probs\n",
      "1: ─├|Ψ⟩────────────||─│──╭●──H─┤ ├Probs\n",
      "2: ─├|Ψ⟩──RY(0.00)──||─╰X─│─────┤ ├Probs\n",
      "3: ─╰|Ψ⟩────────────||────╰X────┤ ╰Probs\n"
     ]
    }
   ],
   "source": [
    "print(qml.draw(destructive_swap_test)(0.0,0.0))"
   ]
  },
  {
   "cell_type": "code",
   "execution_count": 29,
   "metadata": {},
   "outputs": [
    {
     "data": {
      "text/plain": [
       "array([0., 0., 0., 0., 0., 0., 0., 0., 0., 0., 1., 0., 0., 0., 0., 0.])"
      ]
     },
     "execution_count": 29,
     "metadata": {},
     "output_type": "execute_result"
    }
   ],
   "source": [
    "params1=[3.1422955718061014]\n",
    "params2=[0.1422955718061014]\n",
    "destructive_swap_test(params1,params2)"
   ]
  },
  {
   "cell_type": "code",
   "execution_count": null,
   "metadata": {},
   "outputs": [],
   "source": []
  }
 ],
 "metadata": {
  "kernelspec": {
   "display_name": ".venv",
   "language": "python",
   "name": "python3"
  },
  "language_info": {
   "codemirror_mode": {
    "name": "ipython",
    "version": 3
   },
   "file_extension": ".py",
   "mimetype": "text/x-python",
   "name": "python",
   "nbconvert_exporter": "python",
   "pygments_lexer": "ipython3",
   "version": "3.10.0"
  }
 },
 "nbformat": 4,
 "nbformat_minor": 2
}
