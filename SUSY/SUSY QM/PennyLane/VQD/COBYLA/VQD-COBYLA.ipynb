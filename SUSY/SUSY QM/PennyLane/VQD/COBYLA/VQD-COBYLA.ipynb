{
 "cells": [
  {
   "cell_type": "code",
   "execution_count": 1,
   "metadata": {},
   "outputs": [],
   "source": [
    "# PennyLane imports\n",
    "import pennylane as qml\n",
    "from pennylane import numpy as pnp\n",
    "\n",
    "from scipy.optimize import minimize\n",
    "\n",
    "# General imports\n",
    "import os\n",
    "import json\n",
    "import numpy as np\n",
    "from datetime import datetime\n",
    "import matplotlib.pyplot as plt\n",
    "\n",
    "from qiskit.quantum_info import SparsePauliOp\n",
    "\n",
    "# custom module\n",
    "from susy_qm import calculate_Hamiltonian, create_vqd_plots"
   ]
  },
  {
   "cell_type": "code",
   "execution_count": 2,
   "metadata": {},
   "outputs": [],
   "source": [
    "#potential = 'QHO'\n",
    "potential = 'AHO'\n",
    "#potential = 'DW'\n",
    "cut_off = 16"
   ]
  },
  {
   "cell_type": "code",
   "execution_count": 3,
   "metadata": {},
   "outputs": [],
   "source": [
    "#calculate Hamiltonian and expected eigenvalues\n",
    "H = calculate_Hamiltonian(cut_off, potential)\n",
    "eigenvalues = np.sort(np.linalg.eig(H)[0])\n",
    "min_eigenvalue = min(eigenvalues.real)\n",
    "\n",
    "#create qiskit Hamiltonian Pauli string\n",
    "hamiltonian = SparsePauliOp.from_operator(H)\n",
    "num_qubits = hamiltonian.num_qubits"
   ]
  },
  {
   "cell_type": "code",
   "execution_count": 4,
   "metadata": {},
   "outputs": [
    {
     "data": {
      "text/plain": [
       "5"
      ]
     },
     "execution_count": 4,
     "metadata": {},
     "output_type": "execute_result"
    }
   ],
   "source": [
    "num_qubits"
   ]
  },
  {
   "cell_type": "code",
   "execution_count": 5,
   "metadata": {},
   "outputs": [],
   "source": [
    "#Initial params shape\n",
    "num_layers = 1\n",
    "params_shape = qml.StronglyEntanglingLayers.shape(n_layers=num_layers, n_wires=num_qubits)"
   ]
  },
  {
   "cell_type": "code",
   "execution_count": 6,
   "metadata": {},
   "outputs": [],
   "source": [
    "def ansatz(params, wires):\n",
    "    params = pnp.tensor(params.reshape(params_shape), requires_grad=True)\n",
    "    qml.StronglyEntanglingLayers(weights=params, wires=wires, imprimitive=qml.CZ)"
   ]
  },
  {
   "cell_type": "code",
   "execution_count": 7,
   "metadata": {},
   "outputs": [],
   "source": [
    "# Device\n",
    "shots = 1024\n",
    "dev = qml.device('lightning.qubit', wires=2*num_qubits+1, shots=shots)\n",
    "\n",
    "@qml.qnode(dev)\n",
    "def swap_test(params1, params2):\n",
    "\n",
    "    params1 = pnp.tensor(params1.reshape(params_shape), requires_grad=True)\n",
    "    params2 = pnp.tensor(params2.reshape(params_shape), requires_grad=True)\n",
    "\n",
    "    ancilla = 2*num_qubits\n",
    "    qml.Hadamard(wires=ancilla)\n",
    "\n",
    "    ansatz(params1, wires=range(num_qubits))\n",
    "    ansatz(params2, wires=range(num_qubits, 2*num_qubits))\n",
    "\n",
    "    qml.Barrier()\n",
    "    for i in range(num_qubits):\n",
    "        qml.CSWAP(wires=[ancilla, i, num_qubits + i])\n",
    "\n",
    "    qml.Hadamard(wires=ancilla)\n",
    "\n",
    "    return qml.probs(wires=ancilla)"
   ]
  },
  {
   "cell_type": "code",
   "execution_count": 8,
   "metadata": {},
   "outputs": [
    {
     "name": "stdout",
     "output_type": "stream",
     "text": [
      " 0: ──Rot(0.54,3.14,1.44)─╭●──────────╭Z──||─╭SWAP────────────────────────────┤       \n",
      " 1: ──Rot(4.81,4.21,2.32)─╰Z─╭●───────│───||─│─────╭SWAP──────────────────────┤       \n",
      " 2: ──Rot(1.24,4.51,3.94)────╰Z─╭●────│───||─│─────│─────╭SWAP────────────────┤       \n",
      " 3: ──Rot(3.01,6.21,0.80)───────╰Z─╭●─│───||─│─────│─────│─────╭SWAP──────────┤       \n",
      " 4: ──Rot(3.47,0.14,4.80)──────────╰Z─╰●──||─│─────│─────│─────│─────╭SWAP────┤       \n",
      " 5: ──Rot(6.12,4.46,3.32)─╭●──────────╭Z──||─├SWAP─│─────│─────│─────│────────┤       \n",
      " 6: ──Rot(3.64,5.02,0.06)─╰Z─╭●───────│───||─│─────├SWAP─│─────│─────│────────┤       \n",
      " 7: ──Rot(6.15,1.76,1.31)────╰Z─╭●────│───||─│─────│─────├SWAP─│─────│────────┤       \n",
      " 8: ──Rot(5.57,6.02,4.88)───────╰Z─╭●─│───||─│─────│─────│─────├SWAP─│────────┤       \n",
      " 9: ──Rot(2.06,1.88,1.57)──────────╰Z─╰●──||─│─────│─────│─────│─────├SWAP────┤       \n",
      "10: ──H───────────────────────────────────||─╰●────╰●────╰●────╰●────╰●─────H─┤  Probs\n",
      "\n",
      "Overlap between the ground state and the ansatz: 0.033203125\n"
     ]
    }
   ],
   "source": [
    "# Example parameters for testing the swap test\n",
    "params1 = np.random.uniform(0, 2 * np.pi, size=qml.StronglyEntanglingLayers.shape(1, num_qubits))\n",
    "params2 = np.random.uniform(0, 2 * np.pi, size=qml.StronglyEntanglingLayers.shape(1, num_qubits))\n",
    "\n",
    "# Run the swap test to get the probability of the ancilla being |0>\n",
    "result = swap_test(params1, params2)\n",
    "\n",
    "# The overlap is given by 2 * P(ancilla=0) - 1\n",
    "#overlap = 2 * result[0] - 1\n",
    "overlap = 1 - 2*result[1]\n",
    "\n",
    "print(qml.draw(swap_test)(params1,params2))\n",
    "print(f\"\\nOverlap between the ground state and the ansatz: {overlap}\")"
   ]
  },
  {
   "cell_type": "code",
   "execution_count": 9,
   "metadata": {},
   "outputs": [],
   "source": [
    "# Device\n",
    "shots = 1024\n",
    "dev2 = qml.device('lightning.qubit', wires=num_qubits, shots=shots)\n",
    "\n",
    "@qml.qnode(dev2)\n",
    "def expected_value(params):\n",
    "    wires = range(num_qubits)\n",
    "    ansatz(params, wires)\n",
    "    return qml.expval(qml.Hermitian(H, wires=range(num_qubits)))\n",
    "\n",
    "\n",
    "def loss_f(params):\n",
    "    global prev_param_list, beta\n",
    "    energy = expected_value(params)\n",
    "\n",
    "    penalty = 0\n",
    "\n",
    "    if len(prev_param_list) != 0:\n",
    "        for prev_param in prev_param_list:\n",
    "            overlap =  1 - (2*swap_test(prev_param, params)[1])\n",
    "            penalty += (beta*overlap)\n",
    "\n",
    "    return energy + (penalty)"
   ]
  },
  {
   "cell_type": "code",
   "execution_count": 10,
   "metadata": {},
   "outputs": [],
   "source": [
    "def callback(xk):\n",
    "    global iteration_counter, counts, values\n",
    "    \n",
    "    current_cost = loss_f(xk)\n",
    "\n",
    "    iteration_counter += 1\n",
    "    counts.append(iteration_counter) \n",
    "    values.append(current_cost)"
   ]
  },
  {
   "cell_type": "code",
   "execution_count": 12,
   "metadata": {},
   "outputs": [
    {
     "name": "stdout",
     "output_type": "stream",
     "text": [
      "Run: 0\n",
      "[8.108854392464671]\n",
      "Run: 1\n",
      "[8.108854392464671, 10.81052325156227]\n",
      "Overlaps with all previous states for run 1: [0.845703125]\n",
      "Run: 2\n",
      "[8.108854392464671, 10.81052325156227, 19.96140988611149]\n",
      "Overlaps with all previous states for run 2: [0.32421875, 0.48046875]\n",
      "Run: 3\n",
      "[8.108854392464671, 10.81052325156227, 19.96140988611149, 20.36615226567517]\n",
      "Overlaps with all previous states for run 3: [0.8984375, 0.9140625, 0.576171875]\n"
     ]
    }
   ],
   "source": [
    "vqd_start = datetime.now()\n",
    "\n",
    "#variables\n",
    "num_vqd_runs = 4\n",
    "max_iterations = 10000\n",
    "beta = 2.0\n",
    "tolerance = 1e-8\n",
    "\n",
    "#data arrays\n",
    "energies = []\n",
    "prev_param_list = []\n",
    "num_iters = []\n",
    "run_times = []\n",
    "success = []\n",
    "run_times = []\n",
    "\n",
    "all_counts = []\n",
    "all_values = []\n",
    "all_overlaps = []\n",
    "\n",
    "#Initial params\n",
    "scale = 0.25\n",
    "params_shape = qml.StronglyEntanglingLayers.shape(n_layers=1, n_wires=num_qubits)\n",
    "params = scale*np.pi * pnp.random.random(size=np.prod(params_shape))\n",
    "\n",
    "for i in range(num_vqd_runs):\n",
    "\n",
    "    run_start = datetime.now()\n",
    "\n",
    "    iteration_counter = 0\n",
    "    counts = []\n",
    "    values = []    \n",
    "\n",
    "    if i % 1 == 0:\n",
    "        print(f\"Run: {i}\")\n",
    "\n",
    "\n",
    "    res = minimize(loss_f,\n",
    "                   x0=params,\n",
    "                   method='COBYLA',\n",
    "                   options={'maxiter': max_iterations, 'tol':tolerance},\n",
    "                   callback=callback)\n",
    "    \n",
    "    all_counts.append(counts)\n",
    "    all_values.append(values)        \n",
    "\n",
    "\n",
    "    energies.append(res.fun)\n",
    "    prev_param_list.append(res.x) \n",
    "    num_iters.append(res.nfev)\n",
    "    success.append(res.success)\n",
    "\n",
    "    run_end = datetime.now()\n",
    "    run_time = run_end - run_start\n",
    "    run_times.append(run_time)\n",
    "\n",
    "    print(energies)\n",
    "\n",
    "    # Calculate overlap with all previous states\n",
    "    overlaps = []\n",
    "    if i > 0:\n",
    "        for j in range(i):\n",
    "            overlap =  1 - (2*swap_test(prev_param_list[j], res.x)[1])\n",
    "            overlaps.append(overlap)\n",
    "        all_overlaps.append(overlaps)\n",
    "        print(f\"Overlaps with all previous states for run {i}: {overlaps}\")\n",
    "\n",
    "vqd_end = datetime.now()\n",
    "vqd_time = vqd_end - vqd_start\n"
   ]
  },
  {
   "cell_type": "code",
   "execution_count": 45,
   "metadata": {},
   "outputs": [],
   "source": [
    "#Save run\n",
    "run = {\n",
    "    'potential': potential,\n",
    "    'cutoff': cut_off,\n",
    "    'exact_eigenvalues': [round(x.real,10).tolist() for x in eigenvalues],\n",
    "    'ansatz': 'StronglyEntanglingLayers-1layer',\n",
    "    'num_VQD': num_vqd_runs,\n",
    "    'Optimizer': {'name': 'COBYLA',\n",
    "                'maxiter':max_iterations,\n",
    "                'tolerance': tolerance\n",
    "                },\n",
    "    'converged_energies': energies,\n",
    "    'converged_params': [x.tolist() for x in prev_param_list],\n",
    "    'energies': all_values,\n",
    "    'num_iters': all_counts,\n",
    "    'success': np.array(success, dtype=bool).tolist(),\n",
    "    'run_times': [str(x) for x in run_times],\n",
    "    'total_run_time': str(vqd_time)\n",
    "}\n",
    "\n",
    "# Save the variable to a JSON file\n",
    "\n",
    "starttime = datetime.now().strftime(\"%Y-%m-%d_%H-%M-%S\")\n",
    "folder = str(starttime)\n",
    "#Create directory for files\n",
    "#base_path = r\"C:\\Users\\johnkerf\\Desktop\\Quantum-Computing\\Quantum-Computing\\SUSY\\PennyLane\\VQD\\COBYLA\\Files\\{}\\\\{}\\\\\".format(potential, folder)\n",
    "base_path = r\"C:\\Users\\Johnk\\OneDrive\\Desktop\\PhD 2024\\Quantum Computing Code\\Quantum-Computing\\SUSY\\PennyLane\\VQD\\COBYLA\\Files\\{}\\\\{}\\\\\".format(potential, folder)\n",
    "os.makedirs(base_path)\n",
    "\n",
    "path = base_path + \"{}_{}.json\".format(potential, cut_off)\n",
    "with open(path, 'w') as json_file:\n",
    "    json.dump(run, json_file, indent=4)"
   ]
  },
  {
   "cell_type": "code",
   "execution_count": 46,
   "metadata": {},
   "outputs": [],
   "source": [
    "file_path = path\n",
    "with open(file_path, 'r') as json_file:\n",
    "    data = json.load(json_file)"
   ]
  },
  {
   "cell_type": "code",
   "execution_count": 49,
   "metadata": {},
   "outputs": [
    {
     "data": {
      "image/png": "[encoded data removed]",
      "text/plain": [
       "<Figure size 1500x1000 with 1 Axes>"
      ]
     },
     "metadata": {},
     "output_type": "display_data"
    }
   ],
   "source": [
    "# Plotting each line for different states\n",
    "plt.figure(figsize=(15, 10))  # Set figure size similar to the uploaded image\n",
    "\n",
    "for i in range(data['num_VQD']):\n",
    "    line, = plt.plot(data['num_iters'][i], data['energies'][i], linewidth=1.0, label=f\"$E_{{{i}}} \\\\approx {data['converged_energies'][i]:.3f}$\")\n",
    "    plt.axhline(data['exact_eigenvalues'][i], color = line.get_color(), linestyle='--', linewidth=0.5, label=f\"$E_{{{i}}}^{{\\\\text{{ex}}}} = {data['exact_eigenvalues'][i]:.3f}$\")\n",
    "\n",
    "# Set axis labels and title\n",
    "plt.xlabel(\"Iteration\")\n",
    "plt.ylabel(\"Energy (E)\")\n",
    "plt.title(\"Energy Convergence for Each Computed State\")\n",
    "plt.title(f\"{potential}: Cutoff = {data['cutoff']}\")\n",
    "\n",
    "plt.ylim(0, 6)\n",
    "\n",
    "plt.legend(loc=\"upper right\")\n",
    "\n",
    "# Show plot\n",
    "#plt.show()\n",
    "plt.savefig(base_path + 'VQD-{}-{}.png'.format(potential,cut_off))\n"
   ]
  },
  {
   "cell_type": "code",
   "execution_count": null,
   "metadata": {},
   "outputs": [],
   "source": []
  }
 ],
 "metadata": {
  "kernelspec": {
   "display_name": ".venv",
   "language": "python",
   "name": "python3"
  },
  "language_info": {
   "codemirror_mode": {
    "name": "ipython",
    "version": 3
   },
   "file_extension": ".py",
   "mimetype": "text/x-python",
   "name": "python",
   "nbconvert_exporter": "python",
   "pygments_lexer": "ipython3",
   "version": "3.10.4"
  }
 },
 "nbformat": 4,
 "nbformat_minor": 2
}
