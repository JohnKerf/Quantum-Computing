{
 "cells": [
  {
   "cell_type": "code",
   "execution_count": 2,
   "metadata": {},
   "outputs": [],
   "source": [
    "import numpy as np\n",
    "import pandas as pd\n",
    "import json\n",
    "import os\n",
    "import pennylane as qml\n",
    "import pandas as pd\n",
    "import matplotlib.pyplot as plt\n",
    "import matplotlib.ticker as ticker"
   ]
  },
  {
   "cell_type": "code",
   "execution_count": 6,
   "metadata": {},
   "outputs": [
    {
     "name": "stdout",
     "output_type": "stream",
     "text": [
      "20.042105263157893 7.891199214349331e-05\n"
     ]
    }
   ],
   "source": [
    "file_path = r\"C:\\Users\\Johnk\\Documents\\PhD\\Quantum Computing Code\\Quantum-Computing\\SUSY\\SUSY QM\\PennyLane\\VQE\\test\\DW\\DW_8.json\"\n",
    "            \n",
    "with open(file_path, 'r') as f:\n",
    "    data = json.load(f)\n",
    "\n",
    "\n",
    "converged_indices = [i for i, success in enumerate(data['success']) if success]\n",
    "run_times = [data['run_times'][i] for i in converged_indices]\n",
    "\n",
    "t_sec = np.array([pd.Timedelta(t).seconds for t in run_times])\n",
    "mean_vqe_time = np.mean(t_sec)\n",
    "mean_vqe_time\n",
    "\n",
    "exact_min_e = np.min(data['exact_eigenvalues'])\n",
    "median_e = np.mean([data['results'][i] for i in converged_indices])\n",
    "delta_median_e = (abs(exact_min_e - median_e))\n",
    "\n",
    "print(mean_vqe_time, delta_median_e)"
   ]
  },
  {
   "cell_type": "code",
   "execution_count": 7,
   "metadata": {},
   "outputs": [
    {
     "name": "stdout",
     "output_type": "stream",
     "text": [
      "14.29896907216495 0.00018688028254232325\n"
     ]
    }
   ],
   "source": [
    "file_path = r\"C:\\Users\\Johnk\\Documents\\PhD\\Quantum Computing Code\\Quantum-Computing\\SUSY\\SUSY QM\\PennyLane\\VQE\\test\\DW\\2025-05-14_10-28-23\\DW_8.json\"\n",
    "            \n",
    "with open(file_path, 'r') as f:\n",
    "    data = json.load(f)\n",
    "\n",
    "\n",
    "converged_indices = [i for i, success in enumerate(data['success']) if success]\n",
    "run_times = [data['run_times'][i] for i in converged_indices]\n",
    "\n",
    "t_sec = np.array([pd.Timedelta(t).seconds for t in run_times])\n",
    "mean_vqe_time = np.mean(t_sec)\n",
    "mean_vqe_time\n",
    "\n",
    "exact_min_e = np.min(data['exact_eigenvalues'])\n",
    "median_e = np.mean([data['results'][i] for i in converged_indices])\n",
    "delta_median_e = (abs(exact_min_e - median_e))\n",
    "\n",
    "print(mean_vqe_time, delta_median_e)"
   ]
  },
  {
   "cell_type": "code",
   "execution_count": 8,
   "metadata": {},
   "outputs": [
    {
     "name": "stdout",
     "output_type": "stream",
     "text": [
      "9.044943820224718 0.0002471747098775623\n"
     ]
    }
   ],
   "source": [
    "file_path = r\"C:\\Users\\Johnk\\Documents\\PhD\\Quantum Computing Code\\Quantum-Computing\\SUSY\\SUSY QM\\PennyLane\\VQE\\test\\DW\\2025-05-14_10-33-23\\DW_8.json\"\n",
    "            \n",
    "with open(file_path, 'r') as f:\n",
    "    data = json.load(f)\n",
    "\n",
    "\n",
    "converged_indices = [i for i, success in enumerate(data['success']) if success]\n",
    "run_times = [data['run_times'][i] for i in converged_indices]\n",
    "\n",
    "t_sec = np.array([pd.Timedelta(t).seconds for t in run_times])\n",
    "mean_vqe_time = np.mean(t_sec)\n",
    "mean_vqe_time\n",
    "\n",
    "exact_min_e = np.min(data['exact_eigenvalues'])\n",
    "median_e = np.mean([data['results'][i] for i in converged_indices])\n",
    "delta_median_e = (abs(exact_min_e - median_e))\n",
    "\n",
    "print(mean_vqe_time, delta_median_e)"
   ]
  },
  {
   "cell_type": "code",
   "execution_count": null,
   "metadata": {},
   "outputs": [],
   "source": []
  }
 ],
 "metadata": {
  "kernelspec": {
   "display_name": ".venv",
   "language": "python",
   "name": "python3"
  },
  "language_info": {
   "codemirror_mode": {
    "name": "ipython",
    "version": 3
   },
   "file_extension": ".py",
   "mimetype": "text/x-python",
   "name": "python",
   "nbconvert_exporter": "python",
   "pygments_lexer": "ipython3",
   "version": "3.13.1"
  }
 },
 "nbformat": 4,
 "nbformat_minor": 2
}
