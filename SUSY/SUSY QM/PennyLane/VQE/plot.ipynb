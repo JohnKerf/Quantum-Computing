{
 "cells": [
  {
   "cell_type": "code",
   "execution_count": 1,
   "metadata": {},
   "outputs": [],
   "source": [
    "from susy_qm import create_vqe_plots\n",
    "import os"
   ]
  },
  {
   "cell_type": "code",
   "execution_count": 6,
   "metadata": {},
   "outputs": [],
   "source": [
    "folder_path = r\"C:\\Users\\Johnk\\Documents\\PhD\\Quantum Computing Code\\Quantum-Computing\\SUSY\\SUSY QM\\PennyLane\\VQE\\Differential Evolution\\Noise\"\n",
    "#folder_path = r\"C:\\Users\\johnkerf\\Desktop\\Quantum-Computing\\Quantum-Computing\\SUSY\\SUSY QM\\PennyLane\\ADAPT-VQE\\Files\\ADAPT-VQE\\Files\"\n",
    "folders = [f for f in os.listdir(folder_path) if os.path.isdir(os.path.join(folder_path, f))]"
   ]
  },
  {
   "cell_type": "code",
   "execution_count": 7,
   "metadata": {},
   "outputs": [
    {
     "name": "stdout",
     "output_type": "stream",
     "text": [
      "Creating plots\n",
      "Saving individual plot for cutoff 2\n",
      "Saving individual plot for cutoff 4\n",
      "Saving individual plot for cutoff 8\n",
      "Saving individual plot for cutoff 16\n",
      "Saving individual plot for cutoff 32\n",
      "Saving individual plot for cutoff 64\n",
      "Saving individual plot for cutoff 128\n",
      "Saving individual plot for cutoff 256\n",
      "Done\n",
      "Creating plots\n",
      "Saving individual plot for cutoff 2\n",
      "Saving individual plot for cutoff 4\n",
      "Saving individual plot for cutoff 8\n",
      "Saving individual plot for cutoff 16\n",
      "Saving individual plot for cutoff 32\n",
      "Saving individual plot for cutoff 64\n",
      "Saving individual plot for cutoff 128\n",
      "Saving individual plot for cutoff 256\n",
      "Done\n",
      "Creating plots\n",
      "Saving individual plot for cutoff 2\n",
      "Saving individual plot for cutoff 4\n",
      "Saving individual plot for cutoff 8\n",
      "Saving individual plot for cutoff 16\n",
      "Saving individual plot for cutoff 32\n",
      "Saving individual plot for cutoff 64\n",
      "Saving individual plot for cutoff 128\n",
      "Saving individual plot for cutoff 256\n",
      "Done\n"
     ]
    }
   ],
   "source": [
    "cut_off_list = [2, 4, 8, 16, 32, 64, 128, 256]\n",
    "\n",
    "for f in folders:\n",
    "    path = os.path.join(folder_path, f) + \"\\\\\"\n",
    "    potential = f\n",
    "\n",
    "    create_vqe_plots(potential, path, cut_off_list, individual=True, converged_only=True)"
   ]
  },
  {
   "cell_type": "code",
   "execution_count": null,
   "metadata": {},
   "outputs": [],
   "source": []
  }
 ],
 "metadata": {
  "kernelspec": {
   "display_name": ".venv",
   "language": "python",
   "name": "python3"
  },
  "language_info": {
   "codemirror_mode": {
    "name": "ipython",
    "version": 3
   },
   "file_extension": ".py",
   "mimetype": "text/x-python",
   "name": "python",
   "nbconvert_exporter": "python",
   "pygments_lexer": "ipython3",
   "version": "3.13.1"
  }
 },
 "nbformat": 4,
 "nbformat_minor": 2
}
