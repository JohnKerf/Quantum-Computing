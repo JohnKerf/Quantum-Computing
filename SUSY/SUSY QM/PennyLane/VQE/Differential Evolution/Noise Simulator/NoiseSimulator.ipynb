{
 "cells": [
  {
   "cell_type": "code",
   "execution_count": 1,
   "metadata": {},
   "outputs": [],
   "source": [
    "# PennyLane imports\n",
    "import pennylane as qml\n",
    "from pennylane import numpy as pnp\n",
    "\n",
    "from scipy.optimize import differential_evolution\n",
    "from scipy.stats.qmc import Halton\n",
    "\n",
    "# General imports\n",
    "import os\n",
    "import json\n",
    "import numpy as np\n",
    "from datetime import datetime, timedelta\n",
    "\n",
    "from qiskit.quantum_info import SparsePauliOp\n",
    "\n",
    "# custom module\n",
    "from susy_qm import calculate_Hamiltonian\n",
    "\n",
    "from qiskit_aer import Aer\n",
    "from qiskit_ibm_runtime import QiskitRuntimeService\n",
    "from qiskit_aer.noise import NoiseModel"
   ]
  },
  {
   "cell_type": "code",
   "execution_count": 28,
   "metadata": {},
   "outputs": [],
   "source": [
    "service = QiskitRuntimeService()\n",
    "backend = service.backend('ibm_brisbane')"
   ]
  },
  {
   "cell_type": "code",
   "execution_count": 29,
   "metadata": {},
   "outputs": [],
   "source": [
    "#from qiskit_ibm_runtime.fake_provider import FakeAlmadenV2\n",
    "#backend = FakeAlmadenV2()\n",
    "noise_model = NoiseModel.from_backend(backend)"
   ]
  },
  {
   "cell_type": "code",
   "execution_count": 30,
   "metadata": {},
   "outputs": [],
   "source": [
    "potential = 'AHO'\n",
    "cutoff = 4\n",
    "shots = 2"
   ]
  },
  {
   "cell_type": "code",
   "execution_count": 31,
   "metadata": {},
   "outputs": [],
   "source": [
    "H = calculate_Hamiltonian(cutoff, potential)\n",
    "eigenvalues = np.sort(np.linalg.eig(H)[0])[:4]\n",
    "min_eigenvalue = min(eigenvalues.real)\n",
    "\n",
    "num_qubits = int(1 + np.log2(cutoff))"
   ]
  },
  {
   "cell_type": "code",
   "execution_count": 32,
   "metadata": {},
   "outputs": [],
   "source": [
    "dev = qml.device('qiskit.aer', wires=num_qubits, noise_model=noise_model, shots=shots, seed=42)\n",
    "\n",
    "@qml.qnode(dev)\n",
    "def cost_function(params):\n",
    "\n",
    "    basis_state = [1] + [0]*(num_qubits-1)\n",
    "    qml.BasisState(basis_state, wires=range(num_qubits))\n",
    "\n",
    "    qml.RY(params[0], wires=1)\n",
    "    #qml.RY(params[1], wires=2)\n",
    "    #qml.RY(params[2], wires=2)\n",
    "    #qml.RY(params[1], wires=[num_qubits-1])\n",
    "    #qml.CRY(params[2], wires=[num_qubits-1, num_qubits-2])\n",
    "    #qml.RY(params[3], wires=[num_qubits-2])\n",
    "    #qml.RY(params[4], wires=[num_qubits-1])\n",
    "    \n",
    "    return qml.expval(qml.Hermitian(H, wires=range(num_qubits)))\n",
    "    "
   ]
  },
  {
   "cell_type": "code",
   "execution_count": 33,
   "metadata": {},
   "outputs": [
    {
     "name": "stdout",
     "output_type": "stream",
     "text": [
      "Run: 0\n"
     ]
    }
   ],
   "source": [
    "# VQE\n",
    "vqe_start = datetime.now()\n",
    "\n",
    "#variables\n",
    "num_vqe_runs = 1\n",
    "max_iter = 100\n",
    "strategy = \"randtobest1bin\"\n",
    "tol = 1e-3\n",
    "abs_tol = 1e-3\n",
    "popsize = 5\n",
    "\n",
    "# Generate Halton sequence\n",
    "num_dimensions = 1\n",
    "num_samples = popsize\n",
    "halton_sampler = Halton(d=num_dimensions)\n",
    "halton_samples = halton_sampler.random(n=num_samples)\n",
    "scaled_samples = 2 * np.pi * halton_samples\n",
    "\n",
    "#data arrays\n",
    "energies = []\n",
    "x_values = []\n",
    "success = []\n",
    "run_times = []\n",
    "num_iters = []\n",
    "num_evaluations = []\n",
    "\n",
    "#Optimizer\n",
    "bounds = [(0, 2 * np.pi) for _ in range(num_dimensions)]\n",
    "\n",
    "for i in range(num_vqe_runs):\n",
    "\n",
    "    run_start = datetime.now()\n",
    "\n",
    "    if i % 10 == 0:\n",
    "        print(f\"Run: {i}\")\n",
    "\n",
    "    # Differential Evolution optimization\n",
    "    res = differential_evolution(cost_function,\n",
    "                                bounds,\n",
    "                                maxiter=max_iter,\n",
    "                                tol=tol,\n",
    "                                atol=abs_tol,\n",
    "                                strategy=strategy,\n",
    "                                popsize=popsize,\n",
    "                                init=scaled_samples\n",
    "                                )\n",
    "    \n",
    "    if res.success == False:\n",
    "        print(\"Not converged\")\n",
    "\n",
    "    energies.append(res.fun)\n",
    "    x_values.append(res.x)\n",
    "    success.append(res.success)\n",
    "    num_iters.append(res.nit)\n",
    "    num_evaluations.append(res.nfev)\n",
    "\n",
    "    run_end = datetime.now()\n",
    "    run_time = run_end - run_start\n",
    "    run_times.append(run_time)\n",
    "\n",
    "total_run_time = sum(run_times, timedelta())\n",
    "vqe_end = datetime.now()\n",
    "vqe_time = vqe_end - vqe_start"
   ]
  },
  {
   "cell_type": "code",
   "execution_count": 34,
   "metadata": {},
   "outputs": [
    {
     "data": {
      "text/plain": [
       "{'potential': 'AHO',\n",
       " 'cutoff': 4,\n",
       " 'exact_eigenvalues': [-0.16478526068502214,\n",
       "  0.6733100984223109,\n",
       "  1.667942636942847,\n",
       "  2.499075484247543],\n",
       " 'ansatz': 'StronglyEntanglingLayers-1layer',\n",
       " 'num_VQE': 1,\n",
       " 'shots': 2,\n",
       " 'Optimizer': {'name': 'differential_evolution',\n",
       "  'bounds': '[(0, 2 * np.pi) for _ in range(np.prod(params_shape))]',\n",
       "  'maxiter': 100,\n",
       "  'tolerance': 0.001,\n",
       "  'abs_tolerance': 0.001,\n",
       "  'strategy': 'randtobest1bin',\n",
       "  'popsize': 5,\n",
       "  'init': 'scaled_samples'},\n",
       " 'results': [np.float64(-0.16478526068502264)],\n",
       " 'params': [[5.1734096814735615]],\n",
       " 'num_iters': [4],\n",
       " 'num_evaluations': [67],\n",
       " 'success': [True],\n",
       " 'run_times': ['0:00:24.953273'],\n",
       " 'parallel_run_time': '0:00:24.954055',\n",
       " 'total_VQE_time': '0:00:24.953273'}"
      ]
     },
     "execution_count": 34,
     "metadata": {},
     "output_type": "execute_result"
    }
   ],
   "source": [
    "# Save run\n",
    "run = {\n",
    "    #\"starttime\": starttime,\n",
    "    \"potential\": potential,\n",
    "    \"cutoff\": cutoff,\n",
    "    \"exact_eigenvalues\": [x.real.tolist() for x in eigenvalues],\n",
    "    \"ansatz\": \"StronglyEntanglingLayers-1layer\",\n",
    "    \"num_VQE\": num_vqe_runs,\n",
    "    \"shots\": shots,\n",
    "    \"Optimizer\": {\n",
    "        \"name\": \"differential_evolution\",\n",
    "        \"bounds\": \"[(0, 2 * np.pi) for _ in range(np.prod(params_shape))]\",\n",
    "        \"maxiter\": max_iter,\n",
    "        \"tolerance\": tol,\n",
    "        \"abs_tolerance\": abs_tol,\n",
    "        \"strategy\": strategy,\n",
    "        \"popsize\": popsize,\n",
    "        'init': 'scaled_samples',\n",
    "    },\n",
    "    \"results\": energies,\n",
    "    \"params\": [x.tolist() for x in x_values],\n",
    "    \"num_iters\": num_iters,\n",
    "    \"num_evaluations\": num_evaluations,\n",
    "    \"success\": np.array(success, dtype=bool).tolist(),\n",
    "    \"run_times\": [str(x) for x in run_times],\n",
    "    \"parallel_run_time\": str(vqe_time),\n",
    "    \"total_VQE_time\": str(total_run_time)\n",
    "}\n",
    "\n",
    "run"
   ]
  },
  {
   "cell_type": "code",
   "execution_count": 22,
   "metadata": {},
   "outputs": [],
   "source": [
    "# Save the variable to a JSON file\n",
    "base_path = r\"C:\\Users\\Johnk\\Documents\\PhD\\Quantum Computing Code\\Quantum-Computing\\SUSY\\SUSY QM\\PennyLane\\VQE\\Differential Evolution\\Noise Simulator\\NoiseSimFiles\\\\{}\\\\\".format(potential)\n",
    "path = base_path + \"{}_{}.json\".format(potential, cutoff)\n",
    "with open(path, 'w') as json_file:\n",
    "    json.dump(run, json_file, indent=4)"
   ]
  },
  {
   "cell_type": "code",
   "execution_count": null,
   "metadata": {},
   "outputs": [],
   "source": []
  }
 ],
 "metadata": {
  "kernelspec": {
   "display_name": ".QiskitTest2.0",
   "language": "python",
   "name": "python3"
  },
  "language_info": {
   "codemirror_mode": {
    "name": "ipython",
    "version": 3
   },
   "file_extension": ".py",
   "mimetype": "text/x-python",
   "name": "python",
   "nbconvert_exporter": "python",
   "pygments_lexer": "ipython3",
   "version": "3.13.1"
  }
 },
 "nbformat": 4,
 "nbformat_minor": 2
}
