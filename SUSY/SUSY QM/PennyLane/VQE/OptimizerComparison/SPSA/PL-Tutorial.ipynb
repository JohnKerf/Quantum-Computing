{
 "cells": [
  {
   "cell_type": "code",
   "execution_count": 2,
   "metadata": {},
   "outputs": [],
   "source": [
    "import pennylane as qml\n",
    "from pennylane import numpy as np"
   ]
  },
  {
   "cell_type": "code",
   "execution_count": 8,
   "metadata": {},
   "outputs": [],
   "source": [
    "import warnings\n",
    "warnings.filterwarnings(\"ignore\", category=DeprecationWarning)\n",
    "warnings.filterwarnings(\"ignore\", category=FutureWarning)\n"
   ]
  },
  {
   "cell_type": "code",
   "execution_count": 3,
   "metadata": {},
   "outputs": [],
   "source": [
    "num_wires = 4\n",
    "num_layers = 5\n",
    "\n",
    "device = qml.device(\"qiskit.aer\", wires=num_wires, shots=1000)\n",
    "\n",
    "ansatz = qml.StronglyEntanglingLayers\n",
    "\n",
    "all_pauliz_tensor_prod = qml.prod(*[qml.PauliZ(i) for i in range(num_wires)])\n",
    "\n",
    "\n",
    "def circuit(param):\n",
    "    ansatz(param, wires=list(range(num_wires)))\n",
    "    return qml.expval(all_pauliz_tensor_prod)\n",
    "\n",
    "\n",
    "cost_function = qml.QNode(circuit, device)\n",
    "\n",
    "np.random.seed(50)\n",
    "\n",
    "param_shape = ansatz.shape(num_layers, num_wires)\n",
    "init_param = np.random.normal(scale=0.1, size=param_shape, requires_grad=True)"
   ]
  },
  {
   "cell_type": "code",
   "execution_count": 4,
   "metadata": {},
   "outputs": [],
   "source": [
    "def run_optimizer(opt, cost_function, init_param, num_steps, interval, execs_per_step):\n",
    "    # Copy the initial parameters to make sure they are never overwritten\n",
    "    param = init_param.copy()\n",
    "\n",
    "    # Obtain the device used in the cost function\n",
    "    dev = cost_function.device\n",
    "\n",
    "    # Initialize the memory for cost values during the optimization\n",
    "    cost_history = []\n",
    "    # Monitor the initial cost value\n",
    "    cost_history.append(cost_function(param))\n",
    "    exec_history = [0]\n",
    "\n",
    "    print(\n",
    "        f\"\\nRunning the {opt.__class__.__name__} optimizer for {num_steps} iterations.\"\n",
    "    )\n",
    "    for step in range(num_steps):\n",
    "        # Print out the status of the optimization\n",
    "        if step % interval == 0:\n",
    "            print(\n",
    "                f\"Step {step:3d}: Circuit executions: {exec_history[step]:4d}, \"\n",
    "                f\"Cost = {cost_history[step]}\"\n",
    "            )\n",
    "\n",
    "        # Perform an update step\n",
    "        param = opt.step(cost_function, param)\n",
    "\n",
    "        # Monitor the cost value\n",
    "        cost_history.append(cost_function(param))\n",
    "        exec_history.append((step + 1) * execs_per_step)\n",
    "\n",
    "    print(\n",
    "        f\"Step {num_steps:3d}: Circuit executions: {exec_history[-1]:4d}, \"\n",
    "        f\"Cost = {cost_history[-1]}\"\n",
    "    )\n",
    "    return cost_history, exec_history"
   ]
  },
  {
   "cell_type": "code",
   "execution_count": 9,
   "metadata": {},
   "outputs": [
    {
     "name": "stdout",
     "output_type": "stream",
     "text": [
      "\n",
      "Running the SPSAOptimizer optimizer for 200 iterations.\n",
      "Step   0: Circuit executions:    0, Cost = 0.892\n",
      "Step  20: Circuit executions:   40, Cost = 0.466\n",
      "Step  40: Circuit executions:   80, Cost = -0.418\n",
      "Step  60: Circuit executions:  120, Cost = -0.732\n",
      "Step  80: Circuit executions:  160, Cost = -0.908\n",
      "Step 100: Circuit executions:  200, Cost = -0.95\n",
      "Step 120: Circuit executions:  240, Cost = -0.968\n",
      "Step 140: Circuit executions:  280, Cost = -0.99\n",
      "Step 160: Circuit executions:  320, Cost = -0.98\n",
      "Step 180: Circuit executions:  360, Cost = -0.992\n",
      "Step 200: Circuit executions:  400, Cost = -0.988\n"
     ]
    }
   ],
   "source": [
    "num_steps_spsa = 200\n",
    "opt = qml.SPSAOptimizer(maxiter=num_steps_spsa, c=0.15, a=0.2)\n",
    "# We spend 2 circuit evaluations per step:\n",
    "execs_per_step = 2\n",
    "cost_history_spsa, exec_history_spsa = run_optimizer(\n",
    "    opt, cost_function, init_param, num_steps_spsa, 20, execs_per_step\n",
    ")"
   ]
  },
  {
   "cell_type": "code",
   "execution_count": null,
   "metadata": {},
   "outputs": [],
   "source": []
  }
 ],
 "metadata": {
  "kernelspec": {
   "display_name": ".venv",
   "language": "python",
   "name": "python3"
  },
  "language_info": {
   "codemirror_mode": {
    "name": "ipython",
    "version": 3
   },
   "file_extension": ".py",
   "mimetype": "text/x-python",
   "name": "python",
   "nbconvert_exporter": "python",
   "pygments_lexer": "ipython3",
   "version": "3.13.1"
  }
 },
 "nbformat": 4,
 "nbformat_minor": 2
}
