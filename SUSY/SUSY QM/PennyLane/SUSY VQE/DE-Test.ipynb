{
 "cells": [
  {
   "cell_type": "code",
   "execution_count": 1,
   "metadata": {},
   "outputs": [],
   "source": [
    "# PennyLane imports\n",
    "import pennylane as qml\n",
    "from pennylane import numpy as pnp\n",
    "\n",
    "from scipy.optimize import differential_evolution, minimize\n",
    "from scipy.stats.qmc import Halton\n",
    "\n",
    "# General imports\n",
    "import os\n",
    "import json\n",
    "import numpy as np\n",
    "from datetime import datetime\n",
    "\n",
    "from qiskit.quantum_info import SparsePauliOp\n",
    "\n",
    "# custom module\n",
    "from susy_qm import calculate_Hamiltonian, create_vqe_plots"
   ]
  },
  {
   "cell_type": "code",
   "execution_count": null,
   "metadata": {},
   "outputs": [
    {
     "name": "stdout",
     "output_type": "stream",
     "text": [
      "Running for DW potential\n",
      "Running for cutoff: 16\n",
      "Run: 0\n"
     ]
    },
    {
     "ename": "KeyboardInterrupt",
     "evalue": "",
     "output_type": "error",
     "traceback": [
      "\u001b[1;31m---------------------------------------------------------------------------\u001b[0m",
      "\u001b[1;31mKeyboardInterrupt\u001b[0m                         Traceback (most recent call last)",
      "Cell \u001b[1;32mIn[47], line 94\u001b[0m\n\u001b[0;32m     90\u001b[0m     \u001b[38;5;28mprint\u001b[39m(\u001b[38;5;124mf\u001b[39m\u001b[38;5;124m\"\u001b[39m\u001b[38;5;124mRun: \u001b[39m\u001b[38;5;132;01m{\u001b[39;00mi\u001b[38;5;132;01m}\u001b[39;00m\u001b[38;5;124m\"\u001b[39m)\n\u001b[0;32m     93\u001b[0m \u001b[38;5;66;03m# Differential Evolution optimization\u001b[39;00m\n\u001b[1;32m---> 94\u001b[0m res \u001b[38;5;241m=\u001b[39m \u001b[43mdifferential_evolution\u001b[49m\u001b[43m(\u001b[49m\u001b[43mcost_function\u001b[49m\u001b[43m,\u001b[49m\u001b[43m \u001b[49m\n\u001b[0;32m     95\u001b[0m \u001b[43m                                \u001b[49m\u001b[43mbounds\u001b[49m\u001b[43m,\u001b[49m\u001b[43m \u001b[49m\n\u001b[0;32m     96\u001b[0m \u001b[43m                                \u001b[49m\u001b[43mmaxiter\u001b[49m\u001b[38;5;241;43m=\u001b[39;49m\u001b[43mmax_iterations\u001b[49m\u001b[43m,\u001b[49m\u001b[43m \u001b[49m\n\u001b[0;32m     97\u001b[0m \u001b[43m                                \u001b[49m\u001b[43mtol\u001b[49m\u001b[38;5;241;43m=\u001b[39;49m\u001b[43mtol\u001b[49m\u001b[43m,\u001b[49m\n\u001b[0;32m     98\u001b[0m \u001b[43m                                \u001b[49m\u001b[43matol\u001b[49m\u001b[38;5;241;43m=\u001b[39;49m\u001b[43mabs_tol\u001b[49m\u001b[43m,\u001b[49m\n\u001b[0;32m     99\u001b[0m \u001b[43m                                \u001b[49m\u001b[43mstrategy\u001b[49m\u001b[38;5;241;43m=\u001b[39;49m\u001b[43mstrategy\u001b[49m\u001b[43m,\u001b[49m\u001b[43m \u001b[49m\n\u001b[0;32m    100\u001b[0m \u001b[43m                                \u001b[49m\u001b[43mpopsize\u001b[49m\u001b[38;5;241;43m=\u001b[39;49m\u001b[43mpopsize\u001b[49m\u001b[43m,\u001b[49m\n\u001b[0;32m    101\u001b[0m \u001b[43m                                \u001b[49m\u001b[43minit\u001b[49m\u001b[38;5;241;43m=\u001b[39;49m\u001b[43mscaled_samples\u001b[49m\u001b[43m)\u001b[49m\n\u001b[0;32m    104\u001b[0m \u001b[38;5;28;01mif\u001b[39;00m res\u001b[38;5;241m.\u001b[39msuccess \u001b[38;5;241m==\u001b[39m \u001b[38;5;28;01mFalse\u001b[39;00m:\n\u001b[0;32m    105\u001b[0m     \u001b[38;5;28mprint\u001b[39m(\u001b[38;5;124m\"\u001b[39m\u001b[38;5;124mNot converged\u001b[39m\u001b[38;5;124m\"\u001b[39m)\n",
      "File \u001b[1;32mc:\\Users\\johnkerf\\Desktop\\Quantum-Computing\\Quantum-Computing\\.venv\\lib\\site-packages\\scipy\\optimize\\_differentialevolution.py:503\u001b[0m, in \u001b[0;36mdifferential_evolution\u001b[1;34m(func, bounds, args, strategy, maxiter, popsize, tol, mutation, recombination, seed, callback, disp, polish, init, atol, updating, workers, constraints, x0, integrality, vectorized)\u001b[0m\n\u001b[0;32m    486\u001b[0m \u001b[38;5;66;03m# using a context manager means that any created Pool objects are\u001b[39;00m\n\u001b[0;32m    487\u001b[0m \u001b[38;5;66;03m# cleared up.\u001b[39;00m\n\u001b[0;32m    488\u001b[0m \u001b[38;5;28;01mwith\u001b[39;00m DifferentialEvolutionSolver(func, bounds, args\u001b[38;5;241m=\u001b[39margs,\n\u001b[0;32m    489\u001b[0m                                  strategy\u001b[38;5;241m=\u001b[39mstrategy,\n\u001b[0;32m    490\u001b[0m                                  maxiter\u001b[38;5;241m=\u001b[39mmaxiter,\n\u001b[1;32m   (...)\u001b[0m\n\u001b[0;32m    501\u001b[0m                                  integrality\u001b[38;5;241m=\u001b[39mintegrality,\n\u001b[0;32m    502\u001b[0m                                  vectorized\u001b[38;5;241m=\u001b[39mvectorized) \u001b[38;5;28;01mas\u001b[39;00m solver:\n\u001b[1;32m--> 503\u001b[0m     ret \u001b[38;5;241m=\u001b[39m \u001b[43msolver\u001b[49m\u001b[38;5;241;43m.\u001b[39;49m\u001b[43msolve\u001b[49m\u001b[43m(\u001b[49m\u001b[43m)\u001b[49m\n\u001b[0;32m    505\u001b[0m \u001b[38;5;28;01mreturn\u001b[39;00m ret\n",
      "File \u001b[1;32mc:\\Users\\johnkerf\\Desktop\\Quantum-Computing\\Quantum-Computing\\.venv\\lib\\site-packages\\scipy\\optimize\\_differentialevolution.py:1168\u001b[0m, in \u001b[0;36mDifferentialEvolutionSolver.solve\u001b[1;34m(self)\u001b[0m\n\u001b[0;32m   1165\u001b[0m \u001b[38;5;28;01mfor\u001b[39;00m nit \u001b[38;5;129;01min\u001b[39;00m \u001b[38;5;28mrange\u001b[39m(\u001b[38;5;241m1\u001b[39m, \u001b[38;5;28mself\u001b[39m\u001b[38;5;241m.\u001b[39mmaxiter \u001b[38;5;241m+\u001b[39m \u001b[38;5;241m1\u001b[39m):\n\u001b[0;32m   1166\u001b[0m     \u001b[38;5;66;03m# evolve the population by a generation\u001b[39;00m\n\u001b[0;32m   1167\u001b[0m     \u001b[38;5;28;01mtry\u001b[39;00m:\n\u001b[1;32m-> 1168\u001b[0m         \u001b[38;5;28;43mnext\u001b[39;49m\u001b[43m(\u001b[49m\u001b[38;5;28;43mself\u001b[39;49m\u001b[43m)\u001b[49m\n\u001b[0;32m   1169\u001b[0m     \u001b[38;5;28;01mexcept\u001b[39;00m \u001b[38;5;167;01mStopIteration\u001b[39;00m:\n\u001b[0;32m   1170\u001b[0m         warning_flag \u001b[38;5;241m=\u001b[39m \u001b[38;5;28;01mTrue\u001b[39;00m\n",
      "File \u001b[1;32mc:\\Users\\johnkerf\\Desktop\\Quantum-Computing\\Quantum-Computing\\.venv\\lib\\site-packages\\scipy\\optimize\\_differentialevolution.py:1582\u001b[0m, in \u001b[0;36mDifferentialEvolutionSolver.__next__\u001b[1;34m(self)\u001b[0m\n\u001b[0;32m   1580\u001b[0m     feasible \u001b[38;5;241m=\u001b[39m \u001b[38;5;28;01mTrue\u001b[39;00m\n\u001b[0;32m   1581\u001b[0m     cv \u001b[38;5;241m=\u001b[39m np\u001b[38;5;241m.\u001b[39matleast_2d([\u001b[38;5;241m0.\u001b[39m])\n\u001b[1;32m-> 1582\u001b[0m     energy \u001b[38;5;241m=\u001b[39m \u001b[38;5;28;43mself\u001b[39;49m\u001b[38;5;241;43m.\u001b[39;49m\u001b[43mfunc\u001b[49m\u001b[43m(\u001b[49m\u001b[43mparameters\u001b[49m\u001b[43m)\u001b[49m\n\u001b[0;32m   1583\u001b[0m     \u001b[38;5;28mself\u001b[39m\u001b[38;5;241m.\u001b[39m_nfev \u001b[38;5;241m+\u001b[39m\u001b[38;5;241m=\u001b[39m \u001b[38;5;241m1\u001b[39m\n\u001b[0;32m   1585\u001b[0m \u001b[38;5;66;03m# compare trial and population member\u001b[39;00m\n",
      "File \u001b[1;32mc:\\Users\\johnkerf\\Desktop\\Quantum-Computing\\Quantum-Computing\\.venv\\lib\\site-packages\\scipy\\_lib\\_util.py:441\u001b[0m, in \u001b[0;36m_FunctionWrapper.__call__\u001b[1;34m(self, x)\u001b[0m\n\u001b[0;32m    440\u001b[0m \u001b[38;5;28;01mdef\u001b[39;00m \u001b[38;5;21m__call__\u001b[39m(\u001b[38;5;28mself\u001b[39m, x):\n\u001b[1;32m--> 441\u001b[0m     \u001b[38;5;28;01mreturn\u001b[39;00m \u001b[38;5;28;43mself\u001b[39;49m\u001b[38;5;241;43m.\u001b[39;49m\u001b[43mf\u001b[49m\u001b[43m(\u001b[49m\u001b[43mx\u001b[49m\u001b[43m,\u001b[49m\u001b[43m \u001b[49m\u001b[38;5;241;43m*\u001b[39;49m\u001b[38;5;28;43mself\u001b[39;49m\u001b[38;5;241;43m.\u001b[39;49m\u001b[43margs\u001b[49m\u001b[43m)\u001b[49m\n",
      "File \u001b[1;32mc:\\Users\\johnkerf\\Desktop\\Quantum-Computing\\Quantum-Computing\\.venv\\lib\\site-packages\\pennylane\\workflow\\qnode.py:987\u001b[0m, in \u001b[0;36mQNode.__call__\u001b[1;34m(self, *args, **kwargs)\u001b[0m\n\u001b[0;32m    985\u001b[0m \u001b[38;5;28;01mif\u001b[39;00m qml\u001b[38;5;241m.\u001b[39mcapture\u001b[38;5;241m.\u001b[39menabled():\n\u001b[0;32m    986\u001b[0m     \u001b[38;5;28;01mreturn\u001b[39;00m qml\u001b[38;5;241m.\u001b[39mcapture\u001b[38;5;241m.\u001b[39mqnode_call(\u001b[38;5;28mself\u001b[39m, \u001b[38;5;241m*\u001b[39margs, \u001b[38;5;241m*\u001b[39m\u001b[38;5;241m*\u001b[39mkwargs)\n\u001b[1;32m--> 987\u001b[0m \u001b[38;5;28;01mreturn\u001b[39;00m \u001b[38;5;28mself\u001b[39m\u001b[38;5;241m.\u001b[39m_impl_call(\u001b[38;5;241m*\u001b[39margs, \u001b[38;5;241m*\u001b[39m\u001b[38;5;241m*\u001b[39mkwargs)\n",
      "File \u001b[1;32mc:\\Users\\johnkerf\\Desktop\\Quantum-Computing\\Quantum-Computing\\.venv\\lib\\site-packages\\pennylane\\workflow\\qnode.py:977\u001b[0m, in \u001b[0;36mQNode._impl_call\u001b[1;34m(self, *args, **kwargs)\u001b[0m\n\u001b[0;32m    974\u001b[0m     \u001b[38;5;28mself\u001b[39m\u001b[38;5;241m.\u001b[39m_interface \u001b[38;5;241m=\u001b[39m interface\n\u001b[0;32m    976\u001b[0m \u001b[38;5;28;01mtry\u001b[39;00m:\n\u001b[1;32m--> 977\u001b[0m     res \u001b[38;5;241m=\u001b[39m \u001b[38;5;28;43mself\u001b[39;49m\u001b[38;5;241;43m.\u001b[39;49m\u001b[43m_execution_component\u001b[49m\u001b[43m(\u001b[49m\u001b[43margs\u001b[49m\u001b[43m,\u001b[49m\u001b[43m \u001b[49m\u001b[43mkwargs\u001b[49m\u001b[43m)\u001b[49m\n\u001b[0;32m    978\u001b[0m \u001b[38;5;28;01mfinally\u001b[39;00m:\n\u001b[0;32m    979\u001b[0m     \u001b[38;5;28;01mif\u001b[39;00m old_interface \u001b[38;5;241m==\u001b[39m \u001b[38;5;124m\"\u001b[39m\u001b[38;5;124mauto\u001b[39m\u001b[38;5;124m\"\u001b[39m:\n",
      "File \u001b[1;32mc:\\Users\\johnkerf\\Desktop\\Quantum-Computing\\Quantum-Computing\\.venv\\lib\\site-packages\\pennylane\\workflow\\qnode.py:935\u001b[0m, in \u001b[0;36mQNode._execution_component\u001b[1;34m(self, args, kwargs)\u001b[0m\n\u001b[0;32m    932\u001b[0m interface \u001b[38;5;241m=\u001b[39m \u001b[38;5;28;01mNone\u001b[39;00m \u001b[38;5;28;01mif\u001b[39;00m \u001b[38;5;28mself\u001b[39m\u001b[38;5;241m.\u001b[39minterface \u001b[38;5;241m==\u001b[39m \u001b[38;5;124m\"\u001b[39m\u001b[38;5;124mnumpy\u001b[39m\u001b[38;5;124m\"\u001b[39m \u001b[38;5;28;01melse\u001b[39;00m \u001b[38;5;28mself\u001b[39m\u001b[38;5;241m.\u001b[39minterface\n\u001b[0;32m    934\u001b[0m \u001b[38;5;66;03m# pylint: disable=unexpected-keyword-arg\u001b[39;00m\n\u001b[1;32m--> 935\u001b[0m res \u001b[38;5;241m=\u001b[39m qml\u001b[38;5;241m.\u001b[39mexecute(\n\u001b[0;32m    936\u001b[0m     (\u001b[38;5;28mself\u001b[39m\u001b[38;5;241m.\u001b[39m_tape,),\n\u001b[0;32m    937\u001b[0m     device\u001b[38;5;241m=\u001b[39m\u001b[38;5;28mself\u001b[39m\u001b[38;5;241m.\u001b[39mdevice,\n\u001b[0;32m    938\u001b[0m     gradient_fn\u001b[38;5;241m=\u001b[39mgradient_fn,\n\u001b[0;32m    939\u001b[0m     interface\u001b[38;5;241m=\u001b[39minterface,\n\u001b[0;32m    940\u001b[0m     transform_program\u001b[38;5;241m=\u001b[39mfull_transform_program,\n\u001b[0;32m    941\u001b[0m     inner_transform\u001b[38;5;241m=\u001b[39minner_transform_program,\n\u001b[0;32m    942\u001b[0m     config\u001b[38;5;241m=\u001b[39mconfig,\n\u001b[0;32m    943\u001b[0m     gradient_kwargs\u001b[38;5;241m=\u001b[39mgradient_kwargs,\n\u001b[0;32m    944\u001b[0m     \u001b[38;5;241m*\u001b[39m\u001b[38;5;241m*\u001b[39mexecute_kwargs,\n\u001b[0;32m    945\u001b[0m )\n\u001b[0;32m    946\u001b[0m res \u001b[38;5;241m=\u001b[39m res[\u001b[38;5;241m0\u001b[39m]\n\u001b[0;32m    948\u001b[0m \u001b[38;5;66;03m# convert result to the interface in case the qfunc has no parameters\u001b[39;00m\n",
      "File \u001b[1;32mc:\\Users\\johnkerf\\Desktop\\Quantum-Computing\\Quantum-Computing\\.venv\\lib\\site-packages\\pennylane\\workflow\\execution.py:523\u001b[0m, in \u001b[0;36mexecute\u001b[1;34m(tapes, device, gradient_fn, interface, transform_program, inner_transform, config, grad_on_execution, gradient_kwargs, cache, cachesize, max_diff, device_vjp, mcm_config)\u001b[0m\n\u001b[0;32m    521\u001b[0m \u001b[38;5;66;03m# Exiting early if we do not need to deal with an interface boundary\u001b[39;00m\n\u001b[0;32m    522\u001b[0m \u001b[38;5;28;01mif\u001b[39;00m no_interface_boundary_required:\n\u001b[1;32m--> 523\u001b[0m     results \u001b[38;5;241m=\u001b[39m \u001b[43minner_execute\u001b[49m\u001b[43m(\u001b[49m\u001b[43mtapes\u001b[49m\u001b[43m)\u001b[49m\n\u001b[0;32m    524\u001b[0m     \u001b[38;5;28;01mreturn\u001b[39;00m post_processing(results)\n\u001b[0;32m    526\u001b[0m \u001b[38;5;28;01mif\u001b[39;00m config\u001b[38;5;241m.\u001b[39muse_device_jacobian_product \u001b[38;5;129;01mand\u001b[39;00m interface \u001b[38;5;129;01min\u001b[39;00m jpc_interfaces:\n",
      "File \u001b[1;32mc:\\Users\\johnkerf\\Desktop\\Quantum-Computing\\Quantum-Computing\\.venv\\lib\\site-packages\\pennylane\\workflow\\execution.py:202\u001b[0m, in \u001b[0;36m_make_inner_execute.<locals>.inner_execute\u001b[1;34m(tapes, **_)\u001b[0m\n\u001b[0;32m    199\u001b[0m transformed_tapes, transform_post_processing \u001b[38;5;241m=\u001b[39m transform_program(tapes)\n\u001b[0;32m    201\u001b[0m \u001b[38;5;28;01mif\u001b[39;00m transformed_tapes:\n\u001b[1;32m--> 202\u001b[0m     results \u001b[38;5;241m=\u001b[39m \u001b[43mdevice\u001b[49m\u001b[38;5;241;43m.\u001b[39;49m\u001b[43mexecute\u001b[49m\u001b[43m(\u001b[49m\u001b[43mtransformed_tapes\u001b[49m\u001b[43m,\u001b[49m\u001b[43m \u001b[49m\u001b[43mexecution_config\u001b[49m\u001b[38;5;241;43m=\u001b[39;49m\u001b[43mexecution_config\u001b[49m\u001b[43m)\u001b[49m\n\u001b[0;32m    203\u001b[0m \u001b[38;5;28;01melse\u001b[39;00m:\n\u001b[0;32m    204\u001b[0m     results \u001b[38;5;241m=\u001b[39m ()\n",
      "File \u001b[1;32mc:\\Users\\johnkerf\\Desktop\\Quantum-Computing\\Quantum-Computing\\.venv\\lib\\site-packages\\pennylane\\devices\\modifiers\\simulator_tracking.py:30\u001b[0m, in \u001b[0;36m_track_execute.<locals>.execute\u001b[1;34m(self, circuits, execution_config)\u001b[0m\n\u001b[0;32m     28\u001b[0m \u001b[38;5;129m@wraps\u001b[39m(untracked_execute)\n\u001b[0;32m     29\u001b[0m \u001b[38;5;28;01mdef\u001b[39;00m \u001b[38;5;21mexecute\u001b[39m(\u001b[38;5;28mself\u001b[39m, circuits, execution_config\u001b[38;5;241m=\u001b[39mDefaultExecutionConfig):\n\u001b[1;32m---> 30\u001b[0m     results \u001b[38;5;241m=\u001b[39m \u001b[43muntracked_execute\u001b[49m\u001b[43m(\u001b[49m\u001b[38;5;28;43mself\u001b[39;49m\u001b[43m,\u001b[49m\u001b[43m \u001b[49m\u001b[43mcircuits\u001b[49m\u001b[43m,\u001b[49m\u001b[43m \u001b[49m\u001b[43mexecution_config\u001b[49m\u001b[43m)\u001b[49m\n\u001b[0;32m     31\u001b[0m     \u001b[38;5;28;01mif\u001b[39;00m \u001b[38;5;28misinstance\u001b[39m(circuits, QuantumScript):\n\u001b[0;32m     32\u001b[0m         batch \u001b[38;5;241m=\u001b[39m (circuits,)\n",
      "File \u001b[1;32mc:\\Users\\johnkerf\\Desktop\\Quantum-Computing\\Quantum-Computing\\.venv\\lib\\site-packages\\pennylane\\devices\\modifiers\\single_tape_support.py:32\u001b[0m, in \u001b[0;36m_make_execute.<locals>.execute\u001b[1;34m(self, circuits, execution_config)\u001b[0m\n\u001b[0;32m     30\u001b[0m     is_single_circuit \u001b[38;5;241m=\u001b[39m \u001b[38;5;28;01mTrue\u001b[39;00m\n\u001b[0;32m     31\u001b[0m     circuits \u001b[38;5;241m=\u001b[39m (circuits,)\n\u001b[1;32m---> 32\u001b[0m results \u001b[38;5;241m=\u001b[39m \u001b[43mbatch_execute\u001b[49m\u001b[43m(\u001b[49m\u001b[38;5;28;43mself\u001b[39;49m\u001b[43m,\u001b[49m\u001b[43m \u001b[49m\u001b[43mcircuits\u001b[49m\u001b[43m,\u001b[49m\u001b[43m \u001b[49m\u001b[43mexecution_config\u001b[49m\u001b[43m)\u001b[49m\n\u001b[0;32m     33\u001b[0m \u001b[38;5;28;01mreturn\u001b[39;00m results[\u001b[38;5;241m0\u001b[39m] \u001b[38;5;28;01mif\u001b[39;00m is_single_circuit \u001b[38;5;28;01melse\u001b[39;00m results\n",
      "File \u001b[1;32mc:\\Users\\johnkerf\\Desktop\\Quantum-Computing\\Quantum-Computing\\.venv\\lib\\site-packages\\pennylane_lightning\\lightning_qubit\\lightning_qubit.py:478\u001b[0m, in \u001b[0;36mLightningQubit.execute\u001b[1;34m(self, circuits, execution_config)\u001b[0m\n\u001b[0;32m    475\u001b[0m     \u001b[38;5;28;01mif\u001b[39;00m \u001b[38;5;28mself\u001b[39m\u001b[38;5;241m.\u001b[39m_wire_map \u001b[38;5;129;01mis\u001b[39;00m \u001b[38;5;129;01mnot\u001b[39;00m \u001b[38;5;28;01mNone\u001b[39;00m:\n\u001b[0;32m    476\u001b[0m         [circuit], _ \u001b[38;5;241m=\u001b[39m qml\u001b[38;5;241m.\u001b[39mmap_wires(circuit, \u001b[38;5;28mself\u001b[39m\u001b[38;5;241m.\u001b[39m_wire_map)\n\u001b[0;32m    477\u001b[0m     results\u001b[38;5;241m.\u001b[39mappend(\n\u001b[1;32m--> 478\u001b[0m         \u001b[38;5;28;43mself\u001b[39;49m\u001b[38;5;241;43m.\u001b[39;49m\u001b[43msimulate\u001b[49m\u001b[43m(\u001b[49m\n\u001b[0;32m    479\u001b[0m \u001b[43m            \u001b[49m\u001b[43mcircuit\u001b[49m\u001b[43m,\u001b[49m\n\u001b[0;32m    480\u001b[0m \u001b[43m            \u001b[49m\u001b[38;5;28;43mself\u001b[39;49m\u001b[38;5;241;43m.\u001b[39;49m\u001b[43m_statevector\u001b[49m\u001b[43m,\u001b[49m\n\u001b[0;32m    481\u001b[0m \u001b[43m            \u001b[49m\u001b[43mmcmc\u001b[49m\u001b[38;5;241;43m=\u001b[39;49m\u001b[43mmcmc\u001b[49m\u001b[43m,\u001b[49m\n\u001b[0;32m    482\u001b[0m \u001b[43m            \u001b[49m\u001b[43mpostselect_mode\u001b[49m\u001b[38;5;241;43m=\u001b[39;49m\u001b[43mexecution_config\u001b[49m\u001b[38;5;241;43m.\u001b[39;49m\u001b[43mmcm_config\u001b[49m\u001b[38;5;241;43m.\u001b[39;49m\u001b[43mpostselect_mode\u001b[49m\u001b[43m,\u001b[49m\n\u001b[0;32m    483\u001b[0m \u001b[43m        \u001b[49m\u001b[43m)\u001b[49m\n\u001b[0;32m    484\u001b[0m     )\n\u001b[0;32m    486\u001b[0m \u001b[38;5;28;01mreturn\u001b[39;00m \u001b[38;5;28mtuple\u001b[39m(results)\n",
      "File \u001b[1;32mc:\\Users\\johnkerf\\Desktop\\Quantum-Computing\\Quantum-Computing\\.venv\\lib\\site-packages\\pennylane_lightning\\lightning_qubit\\lightning_qubit.py:562\u001b[0m, in \u001b[0;36mLightningQubit.simulate\u001b[1;34m(self, circuit, state, mcmc, postselect_mode)\u001b[0m\n\u001b[0;32m    560\u001b[0m state\u001b[38;5;241m.\u001b[39mreset_state()\n\u001b[0;32m    561\u001b[0m final_state \u001b[38;5;241m=\u001b[39m state\u001b[38;5;241m.\u001b[39mget_final_state(circuit)\n\u001b[1;32m--> 562\u001b[0m \u001b[38;5;28;01mreturn\u001b[39;00m \u001b[38;5;28;43mself\u001b[39;49m\u001b[38;5;241;43m.\u001b[39;49m\u001b[43mLightningMeasurements\u001b[49m\u001b[43m(\u001b[49m\u001b[43mfinal_state\u001b[49m\u001b[43m,\u001b[49m\u001b[43m \u001b[49m\u001b[38;5;241;43m*\u001b[39;49m\u001b[38;5;241;43m*\u001b[39;49m\u001b[43mmcmc\u001b[49m\u001b[43m)\u001b[49m\u001b[38;5;241;43m.\u001b[39;49m\u001b[43mmeasure_final_state\u001b[49m\u001b[43m(\u001b[49m\u001b[43mcircuit\u001b[49m\u001b[43m)\u001b[49m\n",
      "File \u001b[1;32mc:\\Users\\johnkerf\\Desktop\\Quantum-Computing\\Quantum-Computing\\.venv\\lib\\site-packages\\pennylane_lightning\\core\\_measurements_base.py:264\u001b[0m, in \u001b[0;36mLightningBaseMeasurements.measure_final_state\u001b[1;34m(self, circuit, mid_measurements)\u001b[0m\n\u001b[0;32m    261\u001b[0m     \u001b[38;5;28;01mreturn\u001b[39;00m \u001b[38;5;28mtuple\u001b[39m(\u001b[38;5;28mself\u001b[39m\u001b[38;5;241m.\u001b[39mmeasurement(mp) \u001b[38;5;28;01mfor\u001b[39;00m mp \u001b[38;5;129;01min\u001b[39;00m circuit\u001b[38;5;241m.\u001b[39mmeasurements)\n\u001b[0;32m    263\u001b[0m \u001b[38;5;66;03m# finite-shot case\u001b[39;00m\n\u001b[1;32m--> 264\u001b[0m results \u001b[38;5;241m=\u001b[39m \u001b[38;5;28;43mself\u001b[39;49m\u001b[38;5;241;43m.\u001b[39;49m\u001b[43mmeasure_with_samples\u001b[49m\u001b[43m(\u001b[49m\n\u001b[0;32m    265\u001b[0m \u001b[43m    \u001b[49m\u001b[43mcircuit\u001b[49m\u001b[38;5;241;43m.\u001b[39;49m\u001b[43mmeasurements\u001b[49m\u001b[43m,\u001b[49m\n\u001b[0;32m    266\u001b[0m \u001b[43m    \u001b[49m\u001b[43mshots\u001b[49m\u001b[38;5;241;43m=\u001b[39;49m\u001b[43mcircuit\u001b[49m\u001b[38;5;241;43m.\u001b[39;49m\u001b[43mshots\u001b[49m\u001b[43m,\u001b[49m\n\u001b[0;32m    267\u001b[0m \u001b[43m    \u001b[49m\u001b[43mmid_measurements\u001b[49m\u001b[38;5;241;43m=\u001b[39;49m\u001b[43mmid_measurements\u001b[49m\u001b[43m,\u001b[49m\n\u001b[0;32m    268\u001b[0m \u001b[43m\u001b[49m\u001b[43m)\u001b[49m\n\u001b[0;32m    270\u001b[0m \u001b[38;5;28;01mif\u001b[39;00m \u001b[38;5;28mlen\u001b[39m(circuit\u001b[38;5;241m.\u001b[39mmeasurements) \u001b[38;5;241m==\u001b[39m \u001b[38;5;241m1\u001b[39m:\n\u001b[0;32m    271\u001b[0m     \u001b[38;5;28;01mif\u001b[39;00m circuit\u001b[38;5;241m.\u001b[39mshots\u001b[38;5;241m.\u001b[39mhas_partitioned_shots:\n",
      "File \u001b[1;32mc:\\Users\\johnkerf\\Desktop\\Quantum-Computing\\Quantum-Computing\\.venv\\lib\\site-packages\\pennylane_lightning\\core\\_measurements_base.py:321\u001b[0m, in \u001b[0;36mLightningBaseMeasurements.measure_with_samples\u001b[1;34m(self, measurements, shots, mid_measurements)\u001b[0m\n\u001b[0;32m    319\u001b[0m         all_res\u001b[38;5;241m.\u001b[39mextend(\u001b[38;5;28mself\u001b[39m\u001b[38;5;241m.\u001b[39m_measure_sum_with_samples(group, shots))\n\u001b[0;32m    320\u001b[0m     \u001b[38;5;28;01melse\u001b[39;00m:\n\u001b[1;32m--> 321\u001b[0m         all_res\u001b[38;5;241m.\u001b[39mextend(\u001b[38;5;28;43mself\u001b[39;49m\u001b[38;5;241;43m.\u001b[39;49m\u001b[43m_measure_with_samples_diagonalizing_gates\u001b[49m\u001b[43m(\u001b[49m\u001b[43mgroup\u001b[49m\u001b[43m,\u001b[49m\u001b[43m \u001b[49m\u001b[43mshots\u001b[49m\u001b[43m)\u001b[49m)\n\u001b[0;32m    323\u001b[0m \u001b[38;5;66;03m# reorder results\u001b[39;00m\n\u001b[0;32m    324\u001b[0m flat_indices \u001b[38;5;241m=\u001b[39m []\n",
      "File \u001b[1;32mc:\\Users\\johnkerf\\Desktop\\Quantum-Computing\\Quantum-Computing\\.venv\\lib\\site-packages\\pennylane_lightning\\lightning_qubit\\_measurements.py:127\u001b[0m, in \u001b[0;36mLightningMeasurements._measure_with_samples_diagonalizing_gates\u001b[1;34m(self, mps, shots)\u001b[0m\n\u001b[0;32m    123\u001b[0m         samples \u001b[38;5;241m=\u001b[39m \u001b[38;5;28mself\u001b[39m\u001b[38;5;241m.\u001b[39m_measurement_lightning\u001b[38;5;241m.\u001b[39mgenerate_mcmc_samples(\n\u001b[0;32m    124\u001b[0m             \u001b[38;5;28mlen\u001b[39m(wires), \u001b[38;5;28mself\u001b[39m\u001b[38;5;241m.\u001b[39m_kernel_name, \u001b[38;5;28mself\u001b[39m\u001b[38;5;241m.\u001b[39m_num_burnin, shots\u001b[38;5;241m.\u001b[39mtotal_shots\n\u001b[0;32m    125\u001b[0m         )\u001b[38;5;241m.\u001b[39mastype(\u001b[38;5;28mint\u001b[39m, copy\u001b[38;5;241m=\u001b[39m\u001b[38;5;28;01mFalse\u001b[39;00m)\n\u001b[0;32m    126\u001b[0m     \u001b[38;5;28;01melse\u001b[39;00m:\n\u001b[1;32m--> 127\u001b[0m         samples \u001b[38;5;241m=\u001b[39m \u001b[38;5;28;43mself\u001b[39;49m\u001b[38;5;241;43m.\u001b[39;49m\u001b[43m_measurement_lightning\u001b[49m\u001b[38;5;241;43m.\u001b[39;49m\u001b[43mgenerate_samples\u001b[49m\u001b[43m(\u001b[49m\n\u001b[0;32m    128\u001b[0m \u001b[43m            \u001b[49m\u001b[38;5;28;43mlist\u001b[39;49m\u001b[43m(\u001b[49m\u001b[43mwires\u001b[49m\u001b[43m)\u001b[49m\u001b[43m,\u001b[49m\u001b[43m \u001b[49m\u001b[43mshots\u001b[49m\u001b[38;5;241;43m.\u001b[39;49m\u001b[43mtotal_shots\u001b[49m\n\u001b[0;32m    129\u001b[0m \u001b[43m        \u001b[49m\u001b[43m)\u001b[49m\u001b[38;5;241m.\u001b[39mastype(\u001b[38;5;28mint\u001b[39m, copy\u001b[38;5;241m=\u001b[39m\u001b[38;5;28;01mFalse\u001b[39;00m)\n\u001b[0;32m    130\u001b[0m \u001b[38;5;28;01mexcept\u001b[39;00m \u001b[38;5;167;01mValueError\u001b[39;00m \u001b[38;5;28;01mas\u001b[39;00m e:\n\u001b[0;32m    131\u001b[0m     \u001b[38;5;28;01mif\u001b[39;00m \u001b[38;5;28mstr\u001b[39m(e) \u001b[38;5;241m!=\u001b[39m \u001b[38;5;124m\"\u001b[39m\u001b[38;5;124mprobabilities contain NaN\u001b[39m\u001b[38;5;124m\"\u001b[39m:\n",
      "\u001b[1;31mKeyboardInterrupt\u001b[0m: "
     ]
    }
   ],
   "source": [
    "#potential = 'QHO'\n",
    "#potential = 'AHO'\n",
    "potential = 'DW'\n",
    "cut_offs_list = [16]\n",
    "shots = 1024\n",
    "shots = 5000\n",
    "\n",
    "\n",
    "starttime = datetime.now().strftime(\"%Y-%m-%d_%H-%M-%S\")\n",
    "folder = str(starttime)\n",
    "\n",
    "#Create directory for files\n",
    "#base_path = r\"C:\\Users\\johnkerf\\Desktop\\Quantum-Computing\\Quantum-Computing\\SUSY\\SUSY QM\\PennyLane\\SUSY VQE\\TestFiles\\{}\\\\{}\\\\\".format(potential, folder)\n",
    "base_path = r\"C:\\Users\\Johnk\\OneDrive\\Desktop\\PhD 2024\\Quantum Computing Code\\Quantum-Computing\\SUSY\\SUSY QM\\PennyLane\\SUSY VQE\\TestFiles\\{}\\\\{}\\\\\".format(potential, folder)\n",
    "os.makedirs(base_path)\n",
    "\n",
    "print(f\"Running for {potential} potential\")\n",
    "\n",
    "for cut_off in cut_offs_list:\n",
    "\n",
    "    print(f\"Running for cutoff: {cut_off}\")\n",
    "\n",
    "    #calculate Hamiltonian and expected eigenvalues\n",
    "    H = calculate_Hamiltonian(cut_off, potential)\n",
    "    eigenvalues = np.sort(np.linalg.eig(H)[0])\n",
    "    min_eigenvalue = min(eigenvalues.real)\n",
    "\n",
    "    #create qiskit Hamiltonian Pauli string\n",
    "    hamiltonian = SparsePauliOp.from_operator(H)\n",
    "    num_qubits = hamiltonian.num_qubits\n",
    "\n",
    "\n",
    "    # Device\n",
    "    shots = shots\n",
    "    dev = qml.device('lightning.qubit', wires=num_qubits, shots=shots)\n",
    "\n",
    "\n",
    "    #Initial params shape\n",
    "    num_layers = 1\n",
    "    params_shape = qml.StronglyEntanglingLayers.shape(n_layers=num_layers, n_wires=num_qubits)\n",
    "\n",
    "\n",
    "    # Define the cost function\n",
    "    @qml.qnode(dev)\n",
    "    def cost_function(params):\n",
    "        params = pnp.tensor(params.reshape(params_shape), requires_grad=True)\n",
    "        qml.StronglyEntanglingLayers(weights=params, wires=range(num_qubits), imprimitive=qml.CZ)\n",
    "        return qml.expval(qml.Hermitian(H, wires=range(num_qubits)))\n",
    "    \n",
    "    \n",
    "    # VQE\n",
    "    vqe_start = datetime.now()\n",
    "\n",
    "    #variables\n",
    "    num_vqe_runs = 1\n",
    "    max_iterations = 10000\n",
    "    strategy = 'rand1exp'\n",
    "    popsize = 15\n",
    "    tol = 0\n",
    "    abs_tol = 1e-5\n",
    "\n",
    "    #data arrays\n",
    "    energies = []\n",
    "    e2 = []\n",
    "    x_values = []\n",
    "    success = []\n",
    "    run_times = []\n",
    "    num_iters = []\n",
    "    num_evaluations = []\n",
    "\n",
    "    #Optimizer\n",
    "    bounds = [(0, 2 * np.pi) for _ in range(np.prod(params_shape))]\n",
    "\n",
    "    # Number of dimensions and population size\n",
    "    num_dimensions = np.prod(params_shape)\n",
    "    num_samples = popsize\n",
    "\n",
    "    # Generate Halton sequence\n",
    "    halton_sampler = Halton(d=num_dimensions, scramble=True)\n",
    "    halton_samples = halton_sampler.random(n=num_samples)\n",
    "\n",
    "    # Scale samples to parameter bounds (0 to 2*pi)\n",
    "    scaled_samples = 2 * np.pi * halton_samples\n",
    "\n",
    "    for i in range(num_vqe_runs):\n",
    "\n",
    "        run_start = datetime.now()\n",
    "\n",
    "        if i % 1 == 0:\n",
    "            print(f\"Run: {i}\")\n",
    "\n",
    "        \n",
    "        # Differential Evolution optimization\n",
    "        res = differential_evolution(cost_function, \n",
    "                                        bounds, \n",
    "                                        maxiter=max_iterations, \n",
    "                                        tol=tol,\n",
    "                                        atol=abs_tol,\n",
    "                                        strategy=strategy, \n",
    "                                        popsize=popsize,\n",
    "                                        init=scaled_samples)\n",
    "                                        \n",
    "        \n",
    "        if res.success == False:\n",
    "            print(\"Not converged\")\n",
    "\n",
    "        #l_bfgs_b_result = minimize(\n",
    "        #    fun=cost_function,      \n",
    "        #    x0=res.x,              \n",
    "        #    method = \"COBYLA\",\n",
    "        #    bounds=bounds,   \n",
    "        #    options={'maxiter':10000}\n",
    "        #)\n",
    "\n",
    "        #e2.append(l_bfgs_b_result.fun)\n",
    "        energies.append(res.fun)\n",
    "        x_values.append(res.x)\n",
    "        success.append(res.success)\n",
    "        num_iters.append(res.nit)\n",
    "        num_evaluations.append(res.nfev)\n",
    "\n",
    "        run_end = datetime.now()\n",
    "        run_time = run_end - run_start\n",
    "        run_times.append(run_time)\n",
    "\n",
    "    vqe_end = datetime.now()\n",
    "    vqe_time = vqe_end - vqe_start\n"
   ]
  },
  {
   "cell_type": "code",
   "execution_count": 44,
   "metadata": {},
   "outputs": [
    {
     "data": {
      "text/plain": [
       "[]"
      ]
     },
     "execution_count": 44,
     "metadata": {},
     "output_type": "execute_result"
    }
   ],
   "source": [
    "e2"
   ]
  },
  {
   "cell_type": "code",
   "execution_count": 45,
   "metadata": {},
   "outputs": [
    {
     "data": {
      "text/plain": [
       "[np.float64(0.90659725541693)]"
      ]
     },
     "execution_count": 45,
     "metadata": {},
     "output_type": "execute_result"
    }
   ],
   "source": [
    "energies"
   ]
  },
  {
   "cell_type": "code",
   "execution_count": null,
   "metadata": {},
   "outputs": [],
   "source": [
    "8916409457647574"
   ]
  },
  {
   "cell_type": "code",
   "execution_count": 6,
   "metadata": {},
   "outputs": [
    {
     "data": {
      "text/plain": [
       "[0.8915993623272453,\n",
       " 0.8916409457647909,\n",
       " 2.734122249485066,\n",
       " 2.734127815674369,\n",
       " 4.843216012251254,\n",
       " 4.8474766887186576,\n",
       " 7.163335365454538,\n",
       " 7.169032833441687,\n",
       " 9.405161290351392,\n",
       " 9.600102124552938,\n",
       " 11.164258420998955,\n",
       " 11.399970087059746,\n",
       " 12.992367660453905,\n",
       " 14.460674675713312,\n",
       " 16.68212253567579,\n",
       " 18.65066100732339,\n",
       " 25.152443146529702,\n",
       " 29.872395575641224,\n",
       " 32.29950005993888,\n",
       " 37.51424842448991,\n",
       " 51.331545240046324,\n",
       " 57.39518387591302,\n",
       " 72.46260912341677,\n",
       " 79.18396009845593,\n",
       " 101.54235116796468,\n",
       " 108.88764405352728,\n",
       " 164.53174804457672,\n",
       " 172.90234969440692,\n",
       " 195.03378647731367,\n",
       " 203.7668503684797,\n",
       " 379.05819726427063,\n",
       " 389.4353183097812]"
      ]
     },
     "execution_count": 6,
     "metadata": {},
     "output_type": "execute_result"
    }
   ],
   "source": [
    "[x.real.tolist() for x in eigenvalues]"
   ]
  },
  {
   "cell_type": "code",
   "execution_count": null,
   "metadata": {},
   "outputs": [],
   "source": [
    "#Save run\n",
    "run = {\n",
    "    'potential': potential,\n",
    "    'cutoff': cut_off,\n",
    "    'exact_eigenvalues': [x.real.tolist() for x in eigenvalues],\n",
    "    'ansatz': 'StronglyEntanglingLayers-1layer',\n",
    "    'num_VQE': num_vqe_runs,\n",
    "    'shots': shots,\n",
    "    'Optimizer': {'name': 'differential_evolution',\n",
    "                'bounds':'[(0, 2 * np.pi) for _ in range(np.prod(params_shape))]',\n",
    "                'maxiter':max_iterations,\n",
    "                'tolerance': tol,\n",
    "                'strategy': strategy,\n",
    "                'popsize': popsize\n",
    "                },\n",
    "    'results': energies,\n",
    "    'params': [x.tolist() for x in x_values],\n",
    "    'num_iters': num_iters,\n",
    "    'num_evaluations': num_evaluations,\n",
    "    'success': np.array(success, dtype=bool).tolist(),\n",
    "    'run_times': [str(x) for x in run_times],\n",
    "    'total_run_time': str(vqe_time)\n",
    "}\n",
    "\n",
    "# Save the variable to a JSON file\n",
    "#path = r\"C:\\Users\\Johnk\\OneDrive\\Desktop\\PhD 2024\\Quantum Computing Code\\Quantum-Computing\\SUSY\\PennyLane\\SUSY VQE\\Shot Noise\\Files\\{}\\\\{}\\{}_{}.json\".format(potential, folder, potential, cut_off)\n",
    "path = base_path + \"{}_{}.json\".format(potential, cut_off)\n",
    "with open(path, 'w') as json_file:\n",
    "    json.dump(run, json_file, indent=4)\n"
   ]
  },
  {
   "cell_type": "code",
   "execution_count": null,
   "metadata": {},
   "outputs": [],
   "source": [
    "#base_path = r\"C:\\Users\\Johnk\\OneDrive\\Desktop\\PhD 2024\\Quantum Computing Code\\Quantum-Computing\\SUSY\\PennyLane\\SUSY VQE\\Shot Noise\\Files\\{}\\\\{}\\\\\"\n",
    "#create_vqe_plots(potential=potential, base_path=base_path, folder=folder, cut_off_list=cut_offs_list)"
   ]
  }
 ],
 "metadata": {
  "kernelspec": {
   "display_name": ".venv",
   "language": "python",
   "name": "python3"
  },
  "language_info": {
   "codemirror_mode": {
    "name": "ipython",
    "version": 3
   },
   "file_extension": ".py",
   "mimetype": "text/x-python",
   "name": "python",
   "nbconvert_exporter": "python",
   "pygments_lexer": "ipython3",
   "version": "3.10.4"
  }
 },
 "nbformat": 4,
 "nbformat_minor": 2
}
