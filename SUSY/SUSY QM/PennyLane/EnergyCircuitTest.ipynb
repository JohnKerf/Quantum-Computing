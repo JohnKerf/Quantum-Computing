{
 "cells": [
  {
   "cell_type": "code",
   "execution_count": 4,
   "metadata": {},
   "outputs": [],
   "source": [
    "import pennylane as qml\n",
    "from pennylane import numpy as pnp\n",
    "import numpy as np\n",
    "from susy_qm import calculate_Hamiltonian"
   ]
  },
  {
   "cell_type": "code",
   "execution_count": 115,
   "metadata": {},
   "outputs": [],
   "source": [
    "cutoff = 8\n",
    "potential = 'DW'\n",
    "shots = 10240"
   ]
  },
  {
   "cell_type": "code",
   "execution_count": 116,
   "metadata": {},
   "outputs": [],
   "source": [
    "# Calculate Hamiltonian and expected eigenvalues\n",
    "H = calculate_Hamiltonian(cutoff, potential)\n",
    "eigenvalues = np.sort(np.linalg.eig(H)[0])[:4]\n",
    "\n",
    "num_qubits = int(1 + np.log2(cutoff))"
   ]
  },
  {
   "cell_type": "code",
   "execution_count": 138,
   "metadata": {},
   "outputs": [],
   "source": [
    "dev = qml.device(\"default.qubit\", wires=num_qubits, shots=1024, seed=42)\n",
    "@qml.qnode(dev)\n",
    "def circuit(params):\n",
    "    \n",
    "    qml.RY(params[0], wires=[num_qubits-3])\n",
    "    qml.RY(params[1], wires=[num_qubits-1])\n",
    "    qml.CRY(params[2], wires=[num_qubits-1, num_qubits-2])\n",
    "    qml.RY(params[3], wires=[num_qubits-2])\n",
    "    #qml.RY(params[4], wires=[num_qubits-1])\n",
    "        \n",
    "    return qml.expval(qml.Hermitian(H, wires=range(num_qubits)))"
   ]
  },
  {
   "cell_type": "code",
   "execution_count": 139,
   "metadata": {},
   "outputs": [],
   "source": [
    "params =  [\n",
    "            6.0766583400547685,\n",
    "            1.2478077864113921,\n",
    "            5.586453867584675,\n",
    "            0.33541860443761573\n",
    "        ]"
   ]
  },
  {
   "cell_type": "code",
   "execution_count": 140,
   "metadata": {},
   "outputs": [
    {
     "name": "stdout",
     "output_type": "stream",
     "text": [
      "0 0.9502708778895633\n",
      "1 0.9421084965610138\n",
      "8 0.9038964806924775\n",
      "91 0.8845804438664042\n"
     ]
    }
   ],
   "source": [
    "lowest = 1231321.0\n",
    "for i in range(1024):\n",
    "    e = circuit(params)\n",
    "    if e < lowest:\n",
    "        lowest = e\n",
    "        print(i, lowest)"
   ]
  },
  {
   "cell_type": "code",
   "execution_count": 122,
   "metadata": {},
   "outputs": [],
   "source": [
    "# 1. Define an analytic device\n",
    "dev_analytic = qml.device(\"default.qubit\", wires=num_qubits, shots=None)\n",
    "\n",
    "# 2. Define an identical circuit that returns the statevector\n",
    "@qml.qnode(dev_analytic)\n",
    "def state_circuit(params):\n",
    "    qml.RY(params[0], wires=[num_qubits - 3])\n",
    "    qml.RY(params[1], wires=[num_qubits - 1])\n",
    "    qml.CRY(params[2], wires=[num_qubits - 1, num_qubits - 2])\n",
    "    qml.RY(params[3], wires=[num_qubits - 2])\n",
    "    qml.RY(params[4], wires=[num_qubits - 1])\n",
    "    return qml.state()\n"
   ]
  },
  {
   "cell_type": "code",
   "execution_count": 123,
   "metadata": {},
   "outputs": [
    {
     "name": "stdout",
     "output_type": "stream",
     "text": [
      "New best energy: 0.9443810651215749\n",
      "New best energy: 0.9075219581738296\n",
      "New best energy: 0.8941355061520195\n",
      "New best energy: 0.8902643443795499\n",
      "New best energy: 0.8884516056388738\n",
      "New best energy: 0.8863931826070803\n",
      "New best energy: 0.8845804438664042\n"
     ]
    }
   ],
   "source": [
    "lowest = 1e9\n",
    "best_state = None\n",
    "best_params = None\n",
    "\n",
    "for i in range(1024):\n",
    "    e = circuit(params)\n",
    "    if e < lowest:\n",
    "        lowest = e\n",
    "        best_params = params.copy()\n",
    "        best_state = state_circuit(params)\n",
    "        print(f\"New best energy: {lowest}\")"
   ]
  },
  {
   "cell_type": "code",
   "execution_count": 124,
   "metadata": {},
   "outputs": [
    {
     "data": {
      "text/plain": [
       "array([-0.80034271+0.j,  0.57023138+0.j, -0.13610105+0.j, -0.09730125+0.j,\n",
       "        0.06370942+0.j, -0.04539195+0.j,  0.01083401+0.j,  0.00774544+0.j,\n",
       "        0.        +0.j,  0.        +0.j,  0.        +0.j,  0.        +0.j,\n",
       "        0.        +0.j,  0.        +0.j,  0.        +0.j,  0.        +0.j])"
      ]
     },
     "execution_count": 124,
     "metadata": {},
     "output_type": "execute_result"
    }
   ],
   "source": [
    "best_state"
   ]
  },
  {
   "cell_type": "code",
   "execution_count": null,
   "metadata": {},
   "outputs": [],
   "source": []
  }
 ],
 "metadata": {
  "kernelspec": {
   "display_name": ".venv",
   "language": "python",
   "name": "python3"
  },
  "language_info": {
   "codemirror_mode": {
    "name": "ipython",
    "version": 3
   },
   "file_extension": ".py",
   "mimetype": "text/x-python",
   "name": "python",
   "nbconvert_exporter": "python",
   "pygments_lexer": "ipython3",
   "version": "3.13.1"
  }
 },
 "nbformat": 4,
 "nbformat_minor": 2
}
