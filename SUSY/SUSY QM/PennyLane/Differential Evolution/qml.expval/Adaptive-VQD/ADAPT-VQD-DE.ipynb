{
 "cells": [
  {
   "cell_type": "code",
   "execution_count": 6,
   "metadata": {},
   "outputs": [],
   "source": [
    "import pennylane as qml\n",
    "from pennylane import numpy as pnp\n",
    "import numpy as np\n",
    "from qiskit.quantum_info import SparsePauliOp\n",
    "from scipy.optimize import differential_evolution\n",
    "from scipy.stats.qmc import Halton\n",
    "import os\n",
    "import json\n",
    "from susy_qm import calculate_Hamiltonian\n",
    "\n",
    "from collections import Counter\n",
    "import time"
   ]
  },
  {
   "cell_type": "code",
   "execution_count": 85,
   "metadata": {},
   "outputs": [],
   "source": [
    "potential = 'QHO'\n",
    "cutoff = 16\n",
    "shots = 1024"
   ]
  },
  {
   "cell_type": "code",
   "execution_count": 86,
   "metadata": {},
   "outputs": [],
   "source": [
    "#calculate Hamiltonian and expected eigenvalues\n",
    "H = calculate_Hamiltonian(cutoff, potential)\n",
    "\n",
    "eigenvalues, eigenvectors = np.linalg.eig(H)\n",
    "min_index = np.argmin(eigenvalues)\n",
    "min_eigenvalue = eigenvalues[min_index]\n",
    "min_eigenvector = np.asarray(eigenvectors[:, min_index])\n",
    "\n",
    "#create qiskit Hamiltonian Pauli string\n",
    "hamiltonian = SparsePauliOp.from_operator(H)\n",
    "num_qubits = hamiltonian.num_qubits\n",
    "\n",
    "min_3_ev = eigenvalues.argsort()[:4]\n",
    "#min_eigenvector = np.asarray(eigenvectors[:, min_3_ev[0]])"
   ]
  },
  {
   "cell_type": "code",
   "execution_count": 87,
   "metadata": {},
   "outputs": [
    {
     "data": {
      "text/plain": [
       "array([0.+0.j, 1.+0.j, 1.+0.j, 2.+0.j])"
      ]
     },
     "execution_count": 87,
     "metadata": {},
     "output_type": "execute_result"
    }
   ],
   "source": [
    "eigenvalues[min_3_ev]"
   ]
  },
  {
   "cell_type": "code",
   "execution_count": 88,
   "metadata": {},
   "outputs": [],
   "source": [
    "#Create operator pool\n",
    "operator_pool = []\n",
    "phi = 0.0\n",
    "for i in range(num_qubits):\n",
    "    operator_pool.append(qml.RY(phi,wires=[i]))\n",
    "    #operator_pool.append(qml.RZ(phi,wires=[i]))\n",
    "\n",
    "c_pool = []\n",
    "\n",
    "for control in range(num_qubits):\n",
    "        for target in range(num_qubits):\n",
    "            if control != target:\n",
    "                c_pool.append(qml.CRY(phi=phi, wires=[control, target]))\n",
    "\n",
    "operator_pool = operator_pool + c_pool"
   ]
  },
  {
   "cell_type": "code",
   "execution_count": 89,
   "metadata": {},
   "outputs": [],
   "source": [
    "def create_circuit(params, op_list, current_basis, pre_basis=[], use_trial=False, trial_op=None, swap=False):\n",
    "\n",
    "    param_index = 0\n",
    "\n",
    "    if swap:\n",
    "        qml.BasisState(pre_basis, wires=range(num_qubits, 2*num_qubits))\n",
    "        for op in op_list:\n",
    "            o = type(op)\n",
    "            if o == qml.CRY:\n",
    "                w0 = op.wires[0] + num_qubits\n",
    "                w1 = op.wires[1] + num_qubits\n",
    "                o(params[param_index], wires=[w0,w1])\n",
    "                param_index += 1\n",
    "            else:\n",
    "                wire = op.wires[0] + num_qubits\n",
    "                o(params[param_index], wires=wire)\n",
    "                param_index += 1\n",
    "    else:\n",
    "        qml.BasisState(current_basis, wires=range(num_qubits))\n",
    "        for op in op_list:\n",
    "            o = type(op)\n",
    "            o(params[param_index], wires=op.wires)\n",
    "            param_index +=1\n",
    "\n",
    "        if use_trial:\n",
    "            to = type(trial_op)\n",
    "            to(0.0, wires=trial_op.wires)\n"
   ]
  },
  {
   "cell_type": "code",
   "execution_count": 90,
   "metadata": {},
   "outputs": [],
   "source": [
    "dev = qml.device(\"default.qubit\", wires=num_qubits, shots=shots)\n",
    "@qml.qnode(dev)\n",
    "def energy_expval(params, op_list, basis_state):\n",
    "\n",
    "    create_circuit(params, op_list, basis_state)\n",
    "\n",
    "    return qml.expval(qml.Hermitian(H, wires=range(num_qubits)))"
   ]
  },
  {
   "cell_type": "code",
   "execution_count": 91,
   "metadata": {},
   "outputs": [],
   "source": [
    "swap_dev = qml.device(\"default.qubit\", wires=2*num_qubits, shots=None)\n",
    "@qml.qnode(swap_dev)\n",
    "def swap_test(pre_basis, current_basis, prev_op_list, prev_params, op_list, op_params, use_trial, trial_op):\n",
    "\n",
    "    create_circuit(prev_params, prev_op_list, current_basis, pre_basis, swap=True)\n",
    "    create_circuit(op_params, op_list, current_basis, pre_basis, use_trial, trial_op=trial_op)\n",
    "\n",
    "    qml.Barrier()\n",
    "    for i in range(num_qubits):\n",
    "        qml.CNOT(wires=[i, i+num_qubits])    \n",
    "        qml.Hadamard(wires=i)      \n",
    "\n",
    "    prob = qml.probs(wires=range(2*num_qubits))\n",
    "\n",
    "    return prob"
   ]
  },
  {
   "cell_type": "code",
   "execution_count": 92,
   "metadata": {},
   "outputs": [],
   "source": [
    "def overlap(pre_basis, current_basis, prev_op_list, prev_params, op_list, op_params, use_trial, trial_op):\n",
    "\n",
    "    probs = swap_test(pre_basis, current_basis, prev_op_list, prev_params, op_list, op_params, use_trial, trial_op)\n",
    "\n",
    "    overlap = 0\n",
    "    for idx, p in enumerate(probs):\n",
    "\n",
    "        bitstring = format(idx, '0{}b'.format(2*num_qubits))\n",
    "\n",
    "        counter_11 = 0\n",
    "        for i in range(num_qubits):\n",
    "            a = int(bitstring[i])\n",
    "            b = int(bitstring[i+num_qubits])\n",
    "            if (a == 1 and b == 1):\n",
    "                counter_11 +=1\n",
    "\n",
    "        overlap += p*(-1)**counter_11\n",
    "\n",
    "    return overlap"
   ]
  },
  {
   "cell_type": "code",
   "execution_count": 93,
   "metadata": {},
   "outputs": [],
   "source": [
    "def multi_swap_test(pre_basis, current_basis, prev_op_list, prev_params, op_list, op_params, use_trial, trial_op=None, num_swap_tests=1):\n",
    "\n",
    "    results = []\n",
    "    for _ in range(num_swap_tests):\n",
    "\n",
    "        ol = overlap(pre_basis, current_basis, prev_op_list, prev_params, op_list, op_params, use_trial, trial_op)\n",
    "        results.append(ol)\n",
    "    \n",
    "    avg_ol = sum(results) / num_swap_tests\n",
    "\n",
    "    return avg_ol"
   ]
  },
  {
   "cell_type": "code",
   "execution_count": 94,
   "metadata": {},
   "outputs": [],
   "source": [
    "def loss_f(params, op_list, prev_op_list, prev_params, basis_list, e_level, beta=2.0):\n",
    "\n",
    "    current_basis = basis_list[e_level]\n",
    "\n",
    "    energy = energy_expval(params, op_list, current_basis)\n",
    "\n",
    "    penalty = 0\n",
    "    pre_level = 0\n",
    "    if len(prev_op_list) != 0:\n",
    "        for prev_op, prev_param in zip(prev_op_list, prev_params):\n",
    "                    pre_basis = basis_list[pre_level]\n",
    "                    ol = multi_swap_test(pre_basis, current_basis, prev_op, prev_param, op_list, params, use_trial=False)\n",
    "                    penalty += (beta*ol)\n",
    "                    pre_level+=1\n",
    "                    \n",
    "    return energy + (penalty)"
   ]
  },
  {
   "cell_type": "code",
   "execution_count": 95,
   "metadata": {},
   "outputs": [],
   "source": [
    "def compute_grad(trial_param, H, num_qubits, trial_op, op_list, op_params, basis_state):\n",
    "\n",
    "    dev2 = qml.device(\"default.qubit\", wires=num_qubits, shots=None)\n",
    "    @qml.qnode(dev2)\n",
    "\n",
    "    def grad_circuit(trial_param, trial_op, op_list, op_params):\n",
    "\n",
    "        qml.BasisState(basis_state, wires=range(num_qubits))\n",
    "\n",
    "        param_index = 0\n",
    "        for op in op_list:\n",
    "            o = type(op)\n",
    "            o(op_params[param_index], wires=op.wires)\n",
    "            param_index +=1\n",
    "\n",
    "        oph = type(trial_op)\n",
    "        oph(trial_param, wires=trial_op.wires)\n",
    "\n",
    "        return qml.expval(qml.Hermitian(H, wires=range(num_qubits)))\n",
    "    \n",
    "    params = pnp.tensor(trial_param, requires_grad=True)\n",
    "    grad_fn = qml.grad(grad_circuit)\n",
    "    grad = grad_fn(params, trial_op, op_list, op_params)\n",
    "    \n",
    "    return grad"
   ]
  },
  {
   "cell_type": "code",
   "execution_count": 96,
   "metadata": {},
   "outputs": [],
   "source": [
    "def grad_plus_overlap(e_level, basis_list, trial_op, trial_param, op_list, op_params, prev_op_list, prev_params, beta=2.0):\n",
    "\n",
    "    current_basis = basis_list[e_level]\n",
    "\n",
    "    grad = compute_grad(trial_param, H, num_qubits, trial_op, op_list, op_params, current_basis)\n",
    "  \n",
    "    penalty = 0\n",
    "    pre_level = 0\n",
    "    if len(prev_op_list) != 0:\n",
    "            for prev_op, prev_param in zip(prev_op_list, prev_params):\n",
    "                pre_basis = basis_list[pre_level]\n",
    "                ol = multi_swap_test(pre_basis, current_basis, prev_op, prev_param, op_list, op_params, use_trial=True, trial_op=trial_op)\n",
    "                penalty += (beta*ol)\n",
    "                pre_level+=1\n",
    "\n",
    "                #print(current_basis, pre_basis)\n",
    "                #print(f\"Applying penalty {penalty} to op {trial_op} with gradient {abs(grad)}\")\n",
    "    \n",
    "    return abs(grad), penalty"
   ]
  },
  {
   "cell_type": "code",
   "execution_count": 103,
   "metadata": {},
   "outputs": [
    {
     "name": "stdout",
     "output_type": "stream",
     "text": [
      "Looking for energy level 0 with eigenvalue 0j\n",
      "Running for adapt step: 0\n"
     ]
    },
    {
     "name": "stderr",
     "output_type": "stream",
     "text": [
      "c:\\Users\\Johnk\\Documents\\PhD\\Quantum Computing Code\\Quantum-Computing\\.venv\\Lib\\site-packages\\pennylane\\numpy\\tensor.py:155: RuntimeWarning: invalid value encountered in divide\n",
      "  res = super().__array_ufunc__(ufunc, method, *args, **kwargs)\n",
      "C:\\Users\\Johnk\\AppData\\Local\\Temp\\ipykernel_7728\\2953746925.py:96: RuntimeWarning: invalid value encountered in divide\n",
      "  penalty_norm = np.where(max(penalties) != 0, np.array(penalties) / max(penalties), 0)\n"
     ]
    },
    {
     "name": "stdout",
     "output_type": "stream",
     "text": [
      "Starting VQE\n",
      "Running for adapt step: 1\n",
      "Starting VQE\n",
      "gradient converged\n",
      "Looking for energy level 1 with eigenvalue (1+0j)\n",
      "Running for adapt step: 0\n",
      "Starting VQE\n",
      "Running for adapt step: 1\n",
      "Starting VQE\n",
      "Running for adapt step: 2\n",
      "Starting VQE\n"
     ]
    }
   ],
   "source": [
    "# We need to generate a random seed for each process otherwise each parallelised run will have the same result\n",
    "seed = (os.getpid() * int(time.time())) % 123456789\n",
    "\n",
    "# Optimizer\n",
    "num_energy_levels = 2\n",
    "num_adapt_steps = 3\n",
    "num_grad_checks = 10\n",
    "num_vqe_runs = 1\n",
    "max_iter = 200\n",
    "strategy = \"randtobest1bin\"\n",
    "tol = 1e-3\n",
    "abs_tol = 1e-2\n",
    "popsize = 20\n",
    "\n",
    "beta=1.0\n",
    "\n",
    "# Main ADAPT-VQE script\n",
    "prev_op_list = []\n",
    "prev_params = []\n",
    "all_energies = []\n",
    "success_list = []\n",
    "final_ops_list = []\n",
    "single_ops = [qml.RY]#,qml.RZ]\n",
    "\n",
    "\n",
    "#basis_state = [1] + [0]*(num_qubits-1)\n",
    "#basis_state = [0] + [0]*(num_qubits-1)\n",
    "\n",
    "#QHO\n",
    "basis_list = [[1] + [0]*(num_qubits-1),\n",
    "              [0]*(num_qubits),\n",
    "              [1] + [0]*(num_qubits-1)\n",
    "              ]\n",
    "\n",
    "#AHO\n",
    "basis_list = [[1] + [0]*(num_qubits-1),\n",
    "              [1] + [0]*(num_qubits-1),\n",
    "              [0]*(num_qubits)\n",
    "              ]\n",
    "\n",
    "for e_level in range(num_energy_levels):\n",
    "\n",
    "    #print(f\"Running for energy level: {e}\")\n",
    "\n",
    "    op_list = []\n",
    "    op_params = []\n",
    "    energies = []\n",
    "    pool = operator_pool.copy()\n",
    "    success = False\n",
    "\n",
    "    current_eigenval = eigenvalues[min_3_ev[e_level]]\n",
    "    print(f\"Looking for energy level {e_level} with eigenvalue {current_eigenval}\")\n",
    "\n",
    "    #if e==1:\n",
    "        #basis_state = [1] + [0]*(num_qubits-1)\n",
    "        #basis_state = [0]*(num_qubits)\n",
    "    #else:\n",
    "        #basis_state = [0]*(num_qubits)\n",
    "        #basis_state = [1] + [0]*(num_qubits-1)\n",
    "\n",
    "    for i in range(num_adapt_steps):\n",
    "\n",
    "        print(f\"Running for adapt step: {i}\")\n",
    "\n",
    "        max_ops_list = []\n",
    "        \n",
    "        if i != 0:\n",
    "            \n",
    "            pool.remove(most_common_gate)\n",
    "\n",
    "            if type(most_common_gate) == qml.CRY:\n",
    "                cq = most_common_gate.wires[0]\n",
    "                tq = most_common_gate.wires[1]\n",
    "\n",
    "                for sop in single_ops:\n",
    "                    if (sop(phi, wires=cq) not in pool):\n",
    "                        pool.append(sop(phi, wires=cq))\n",
    "\n",
    "                    if (sop(phi, wires=tq) not in pool):\n",
    "                        pool.append(sop(phi, wires=tq))\n",
    "        \n",
    "        for trial_param in np.random.uniform(phi, phi, size=num_grad_checks):\n",
    "            grad_list = []\n",
    "            grads = []\n",
    "            penalties = []\n",
    "            for trial_op in pool:\n",
    "                grad, penalty = grad_plus_overlap(e_level, basis_list, trial_op, trial_param, op_list, op_params, prev_op_list, prev_params, beta)\n",
    "                grads.append(grad)\n",
    "                penalties.append(penalty)\n",
    "                o=type(trial_op)\n",
    "                grad_op = o(trial_param, wires=trial_op.wires)\n",
    "\n",
    "                grad_list.append(grad_op)\n",
    "\n",
    "            grad_norm = np.where(max(grads) != 0, grads / max(grads), 0)\n",
    "            penalty_norm = np.where(max(penalties) != 0, np.array(penalties) / max(penalties), 0)\n",
    "            #print(f\"grad norm: {grad_norm}\")\n",
    "            #print(f\"penalty norm: {grad_norm}\")\n",
    "\n",
    "            gp = grad_norm - penalty_norm\n",
    "            max_gp = np.argmax(gp)\n",
    "\n",
    "            max_op = grad_list[max_gp]\n",
    "            max_ops_list.append(max_op)\n",
    "\n",
    "\n",
    "        counter = Counter(max_ops_list)\n",
    "        most_common_gate, count = counter.most_common(1)[0]\n",
    "        op_list.append(most_common_gate)\n",
    "\n",
    "        # Generate Halton sequence\n",
    "        num_dimensions = len(op_list)\n",
    "        num_samples = popsize\n",
    "        halton_sampler = Halton(d=num_dimensions, seed=seed)\n",
    "        halton_samples = halton_sampler.random(n=num_samples)\n",
    "        scaled_samples = 2 * np.pi * halton_samples\n",
    "\n",
    "        bounds = [(0, 2 * np.pi) for _ in range(num_dimensions)]\n",
    "        x0 = np.concatenate((op_params, np.array([0.0])))\n",
    "        \n",
    "        print('Starting VQE')\n",
    "\n",
    "        res = differential_evolution(loss_f,\n",
    "                                        bounds=bounds,\n",
    "                                        args=(op_list, prev_op_list, prev_params, basis_list, e_level, beta),\n",
    "                                        x0=x0,\n",
    "                                        maxiter=max_iter,\n",
    "                                        tol=tol,\n",
    "                                        atol=abs_tol,\n",
    "                                        strategy=strategy,\n",
    "                                        popsize=popsize,\n",
    "                                        init=scaled_samples,\n",
    "                                        seed=seed\n",
    "                                        )\n",
    "        \n",
    "        if i!=0: pre_min_e = min_e\n",
    "        min_e = res.fun\n",
    "        pre_op_params = op_params.copy()\n",
    "        op_params = res.x\n",
    "\n",
    "        \n",
    "\n",
    "        energies.append(min_e)\n",
    "\n",
    "        if i!=0:\n",
    "            if abs(pre_min_e - min_e) < 1e-4:\n",
    "                print(\"gradient converged\")\n",
    "                energies.pop()\n",
    "                op_list.pop()\n",
    "                final_params = pre_op_params\n",
    "                success = True\n",
    "                break\n",
    "            if abs(current_eigenval-min_e) < 1e-3:\n",
    "                print(\"Converged to min e\")\n",
    "                success = True\n",
    "                final_params = op_params\n",
    "                break\n",
    "\n",
    "    if success == False:\n",
    "        final_params = op_params\n",
    "\n",
    "    final_ops = []\n",
    "    #print(op_list)\n",
    "    for op, param in zip(op_list,final_params):\n",
    "        dict = {\"name\": op.name,\n",
    "                \"param\": param,\n",
    "                \"wires\": op.wires.tolist()\n",
    "                }\n",
    "        final_ops.append(dict)\n",
    "\n",
    "    #print(final_ops)\n",
    "    prev_op_list.append(op_list)\n",
    "    prev_params.append(final_params)\n",
    "    all_energies.append(energies)\n",
    "    final_ops_list.append(final_ops)\n",
    "    success_list.append(success)\n",
    "    "
   ]
  },
  {
   "cell_type": "code",
   "execution_count": 104,
   "metadata": {},
   "outputs": [
    {
     "data": {
      "text/plain": [
       "[[{'name': 'RY', 'param': np.float64(0.0), 'wires': [0]}],\n",
       " [{'name': 'RY', 'param': np.float64(3.68863544232008), 'wires': [0]},\n",
       "  {'name': 'RY', 'param': np.float64(0.04675128535629591), 'wires': [1]},\n",
       "  {'name': 'CRY', 'param': np.float64(0.33682430030208543), 'wires': [0, 1]}]]"
      ]
     },
     "execution_count": 104,
     "metadata": {},
     "output_type": "execute_result"
    }
   ],
   "source": [
    "final_ops_list"
   ]
  },
  {
   "cell_type": "code",
   "execution_count": 105,
   "metadata": {},
   "outputs": [
    {
     "data": {
      "text/plain": [
       "[[np.float64(0.0)],\n",
       " [np.float64(0.987993450546211),\n",
       "  np.float64(0.9701726309626759),\n",
       "  np.float64(0.9960968477678502)]]"
      ]
     },
     "execution_count": 105,
     "metadata": {},
     "output_type": "execute_result"
    }
   ],
   "source": [
    "all_energies"
   ]
  },
  {
   "cell_type": "code",
   "execution_count": 106,
   "metadata": {},
   "outputs": [
    {
     "data": {
      "text/plain": [
       "[True, False]"
      ]
     },
     "execution_count": 106,
     "metadata": {},
     "output_type": "execute_result"
    }
   ],
   "source": [
    "success_list"
   ]
  },
  {
   "cell_type": "code",
   "execution_count": null,
   "metadata": {},
   "outputs": [],
   "source": []
  }
 ],
 "metadata": {
  "kernelspec": {
   "display_name": ".venv",
   "language": "python",
   "name": "python3"
  },
  "language_info": {
   "codemirror_mode": {
    "name": "ipython",
    "version": 3
   },
   "file_extension": ".py",
   "mimetype": "text/x-python",
   "name": "python",
   "nbconvert_exporter": "python",
   "pygments_lexer": "ipython3",
   "version": "3.13.1"
  }
 },
 "nbformat": 4,
 "nbformat_minor": 2
}
