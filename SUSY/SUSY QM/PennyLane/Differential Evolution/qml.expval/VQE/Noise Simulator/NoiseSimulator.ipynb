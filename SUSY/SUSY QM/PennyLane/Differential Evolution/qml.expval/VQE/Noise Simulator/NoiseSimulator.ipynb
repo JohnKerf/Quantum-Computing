{
 "cells": [
  {
   "cell_type": "code",
   "execution_count": 20,
   "metadata": {},
   "outputs": [],
   "source": [
    "# PennyLane imports\n",
    "import pennylane as qml\n",
    "from pennylane import numpy as pnp\n",
    "\n",
    "from scipy.optimize import differential_evolution, minimize\n",
    "from scipy.stats.qmc import Halton\n",
    "\n",
    "# General imports\n",
    "import os\n",
    "import json\n",
    "import numpy as np\n",
    "from datetime import datetime, timedelta\n",
    "\n",
    "from qiskit.quantum_info import SparsePauliOp\n",
    "\n",
    "# custom module\n",
    "from susy_qm import calculate_Hamiltonian\n",
    "\n",
    "from qiskit_aer import Aer\n",
    "from qiskit_ibm_runtime import QiskitRuntimeService\n",
    "from qiskit_aer.noise import NoiseModel"
   ]
  },
  {
   "cell_type": "code",
   "execution_count": 2,
   "metadata": {},
   "outputs": [],
   "source": [
    "service = QiskitRuntimeService()\n",
    "backend = service.backend('ibm_brisbane')"
   ]
  },
  {
   "cell_type": "code",
   "execution_count": 3,
   "metadata": {},
   "outputs": [],
   "source": [
    "#from qiskit_ibm_runtime.fake_provider import FakeAlmadenV2\n",
    "#backend = FakeAlmadenV2()\n",
    "noise_model = NoiseModel.from_backend(backend)"
   ]
  },
  {
   "cell_type": "code",
   "execution_count": 26,
   "metadata": {},
   "outputs": [],
   "source": [
    "potential = 'AHO'\n",
    "cutoff = 8\n",
    "shots = 10000"
   ]
  },
  {
   "cell_type": "code",
   "execution_count": 27,
   "metadata": {},
   "outputs": [],
   "source": [
    "H = calculate_Hamiltonian(cutoff, potential)\n",
    "eigenvalues = np.sort(np.linalg.eig(H)[0])[:4]\n",
    "min_eigenvalue = min(eigenvalues.real)\n",
    "\n",
    "num_qubits = int(1 + np.log2(cutoff))"
   ]
  },
  {
   "cell_type": "code",
   "execution_count": 28,
   "metadata": {},
   "outputs": [],
   "source": [
    "dev = qml.device('qiskit.aer', wires=num_qubits, noise_model=noise_model, shots=shots, seed=42)\n",
    "\n",
    "@qml.qnode(dev)\n",
    "def cost_function(params):\n",
    "\n",
    "    basis_state = [1] + [0]*(num_qubits-1)\n",
    "    qml.BasisState(basis_state, wires=range(num_qubits))\n",
    "\n",
    "    qml.RY(params[0], wires=1)\n",
    "    qml.RY(params[1], wires=2)\n",
    "    #qml.RY(params[2], wires=2)\n",
    "    #qml.RY(params[1], wires=[num_qubits-1])\n",
    "    qml.CRY(params[2], wires=[2, 1])\n",
    "    #qml.RY(params[3], wires=[num_qubits-2])\n",
    "    #qml.RY(params[4], wires=[num_qubits-1])\n",
    "    \n",
    "    return qml.expval(qml.Hermitian(H, wires=range(num_qubits)))\n",
    "    "
   ]
  },
  {
   "cell_type": "code",
   "execution_count": 29,
   "metadata": {},
   "outputs": [
    {
     "name": "stdout",
     "output_type": "stream",
     "text": [
      "Run: 0\n"
     ]
    }
   ],
   "source": [
    "# VQE\n",
    "vqe_start = datetime.now()\n",
    "\n",
    "#variables\n",
    "num_vqe_runs = 1\n",
    "max_iter = 100\n",
    "strategy = \"randtobest1bin\"\n",
    "tol = 1e-3\n",
    "abs_tol = 1e-3\n",
    "popsize = 5\n",
    "\n",
    "# Generate Halton sequence\n",
    "num_dimensions = 3\n",
    "num_samples = popsize\n",
    "halton_sampler = Halton(d=num_dimensions)\n",
    "halton_samples = halton_sampler.random(n=num_samples)\n",
    "scaled_samples = 2 * np.pi * halton_samples\n",
    "\n",
    "#data arrays\n",
    "energies = []\n",
    "x_values = []\n",
    "success = []\n",
    "run_times = []\n",
    "num_iters = []\n",
    "num_evaluations = []\n",
    "\n",
    "#Optimizer\n",
    "bounds = [(0, 2 * np.pi) for _ in range(num_dimensions)]\n",
    "x0 = np.random.random(size=num_dimensions)*2*np.pi\n",
    "\n",
    "for i in range(num_vqe_runs):\n",
    "\n",
    "    run_start = datetime.now()\n",
    "\n",
    "    if i % 10 == 0:\n",
    "        print(f\"Run: {i}\")\n",
    "\n",
    "    '''\n",
    "    # Differential Evolution optimization\n",
    "    res = differential_evolution(cost_function,\n",
    "                                bounds,\n",
    "                                maxiter=max_iter,\n",
    "                                tol=tol,\n",
    "                                atol=abs_tol,\n",
    "                                strategy=strategy,\n",
    "                                popsize=popsize,\n",
    "                                init=scaled_samples\n",
    "                                )\n",
    "    '''\n",
    "    res = minimize(\n",
    "            cost_function,\n",
    "            x0,\n",
    "            method= \"COBYLA\",\n",
    "            options= {'maxiter':max_iter, 'tol':tol}\n",
    "        )\n",
    "\n",
    "    if res.success == False:\n",
    "        print(\"Not converged\")\n",
    "\n",
    "    energies.append(res.fun)\n",
    "    x_values.append(res.x)\n",
    "    success.append(res.success)\n",
    "    num_iters.append(res.nfev)\n",
    "    #num_iters.append(res.nit)\n",
    "    #num_evaluations.append(res.nfev)\n",
    "\n",
    "    run_end = datetime.now()\n",
    "    run_time = run_end - run_start\n",
    "    run_times.append(run_time)\n",
    "\n",
    "total_run_time = sum(run_times, timedelta())\n",
    "vqe_end = datetime.now()\n",
    "vqe_time = vqe_end - vqe_start"
   ]
  },
  {
   "cell_type": "code",
   "execution_count": 31,
   "metadata": {},
   "outputs": [
    {
     "name": "stdout",
     "output_type": "stream",
     "text": [
      "0.03201011000923872 [np.float64(39.86011041287141)]\n"
     ]
    }
   ],
   "source": [
    "print(min_eigenvalue, energies)"
   ]
  },
  {
   "cell_type": "code",
   "execution_count": 19,
   "metadata": {},
   "outputs": [
    {
     "data": {
      "text/plain": [
       "{'potential': 'AHO',\n",
       " 'cutoff': 16,\n",
       " 'exact_eigenvalues': [-0.001166975680574785,\n",
       "  1.6774941961816563,\n",
       "  1.6863812488131036,\n",
       "  4.364321396210466],\n",
       " 'ansatz': 'StronglyEntanglingLayers-1layer',\n",
       " 'num_VQE': 1,\n",
       " 'shots': 2,\n",
       " 'Optimizer': {'name': 'differential_evolution',\n",
       "  'bounds': '[(0, 2 * np.pi) for _ in range(np.prod(params_shape))]',\n",
       "  'maxiter': 100,\n",
       "  'tolerance': 0.001,\n",
       "  'abs_tolerance': 0.001,\n",
       "  'strategy': 'randtobest1bin',\n",
       "  'popsize': 5,\n",
       "  'init': 'scaled_samples'},\n",
       " 'results': [np.float64(-0.0011669756806017494)],\n",
       " 'params': [[1.3439955151618823, 1.6870449623891193, 1.55988406008951]],\n",
       " 'num_iters': [100],\n",
       " 'num_evaluations': [605],\n",
       " 'success': [False],\n",
       " 'run_times': ['0:07:23.761694'],\n",
       " 'parallel_run_time': '0:07:23.762647',\n",
       " 'total_VQE_time': '0:07:23.761694'}"
      ]
     },
     "execution_count": 19,
     "metadata": {},
     "output_type": "execute_result"
    }
   ],
   "source": [
    "# Save run\n",
    "run = {\n",
    "    #\"starttime\": starttime,\n",
    "    \"potential\": potential,\n",
    "    \"cutoff\": cutoff,\n",
    "    \"exact_eigenvalues\": [x.real.tolist() for x in eigenvalues],\n",
    "    \"ansatz\": \"StronglyEntanglingLayers-1layer\",\n",
    "    \"num_VQE\": num_vqe_runs,\n",
    "    \"shots\": shots,\n",
    "    \"Optimizer\": {\n",
    "        \"name\": \"differential_evolution\",\n",
    "        \"bounds\": \"[(0, 2 * np.pi) for _ in range(np.prod(params_shape))]\",\n",
    "        \"maxiter\": max_iter,\n",
    "        \"tolerance\": tol,\n",
    "        \"abs_tolerance\": abs_tol,\n",
    "        \"strategy\": strategy,\n",
    "        \"popsize\": popsize,\n",
    "        'init': 'scaled_samples',\n",
    "    },\n",
    "    \"results\": energies,\n",
    "    \"params\": [x.tolist() for x in x_values],\n",
    "    \"num_iters\": num_iters,\n",
    "    \"num_evaluations\": num_evaluations,\n",
    "    \"success\": np.array(success, dtype=bool).tolist(),\n",
    "    \"run_times\": [str(x) for x in run_times],\n",
    "    \"parallel_run_time\": str(vqe_time),\n",
    "    \"total_VQE_time\": str(total_run_time)\n",
    "}\n",
    "\n",
    "run"
   ]
  },
  {
   "cell_type": "code",
   "execution_count": 22,
   "metadata": {},
   "outputs": [],
   "source": [
    "# Save the variable to a JSON file\n",
    "base_path = r\"C:\\Users\\Johnk\\Documents\\PhD\\Quantum Computing Code\\Quantum-Computing\\SUSY\\SUSY QM\\PennyLane\\VQE\\Differential Evolution\\Noise Simulator\\NoiseSimFiles\\\\{}\\\\\".format(potential)\n",
    "path = base_path + \"{}_{}.json\".format(potential, cutoff)\n",
    "with open(path, 'w') as json_file:\n",
    "    json.dump(run, json_file, indent=4)"
   ]
  },
  {
   "cell_type": "code",
   "execution_count": null,
   "metadata": {},
   "outputs": [],
   "source": []
  }
 ],
 "metadata": {
  "kernelspec": {
   "display_name": ".QiskitTest2.0",
   "language": "python",
   "name": "python3"
  },
  "language_info": {
   "codemirror_mode": {
    "name": "ipython",
    "version": 3
   },
   "file_extension": ".py",
   "mimetype": "text/x-python",
   "name": "python",
   "nbconvert_exporter": "python",
   "pygments_lexer": "ipython3",
   "version": "3.13.1"
  }
 },
 "nbformat": 4,
 "nbformat_minor": 2
}
