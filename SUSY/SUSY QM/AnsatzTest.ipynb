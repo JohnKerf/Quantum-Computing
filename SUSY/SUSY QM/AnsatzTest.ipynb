{
 "cells": [
  {
   "cell_type": "code",
   "execution_count": 74,
   "metadata": {},
   "outputs": [],
   "source": [
    "import numpy as np\n",
    "from susy_qm import calculate_Hamiltonian, calculate_wz_hamiltonian\n",
    "import pennylane as qml\n",
    "from pennylane import numpy as pnp\n",
    "from qiskit.quantum_info import SparsePauliOp\n",
    "from scipy.optimize import minimize"
   ]
  },
  {
   "cell_type": "code",
   "execution_count": 14,
   "metadata": {},
   "outputs": [],
   "source": [
    "cutoff = 4\n",
    "potential = 'QHO'"
   ]
  },
  {
   "cell_type": "code",
   "execution_count": 15,
   "metadata": {},
   "outputs": [],
   "source": [
    "#calculate Hamiltonian and expected eigenvalues\n",
    "H = calculate_Hamiltonian(cutoff, potential)\n",
    "eigenvalues, eigenvectors = np.linalg.eig(H)\n",
    "\n",
    "min_index = np.argmin(eigenvalues)\n",
    "min_eigenvalue = eigenvalues[min_index]\n",
    "min_eigenvector = eigenvectors[:, min_index]"
   ]
  },
  {
   "cell_type": "code",
   "execution_count": 16,
   "metadata": {},
   "outputs": [],
   "source": [
    "#create qiskit Hamiltonian Pauli string\n",
    "hamiltonian = SparsePauliOp.from_operator(H)\n",
    "num_qubits = hamiltonian.num_qubits"
   ]
  },
  {
   "cell_type": "code",
   "execution_count": 36,
   "metadata": {},
   "outputs": [],
   "source": [
    "params = pnp.array([[\n",
    "            [2.195201075128017,\n",
    "            3.106916574276913,\n",
    "            4.187261286195278],\n",
    "            [3.046766119144531,\n",
    "            0.025863111078491485,\n",
    "            3.146307109203438],\n",
    "            [0.5004353269790704,\n",
    "            6.258003111574653,\n",
    "            2.376347569714709]\n",
    "        ]],  requires_grad=True)"
   ]
  },
  {
   "cell_type": "code",
   "execution_count": 73,
   "metadata": {},
   "outputs": [
    {
     "name": "stdout",
     "output_type": "stream",
     "text": [
      "Overlap: (0.3193184491593054-0.947647469992294j)\n",
      "Overlap squared: 0.9999999993562998\n"
     ]
    }
   ],
   "source": [
    "# Define the PennyLane device\n",
    "dev = qml.device('default.qubit', wires=num_qubits, shots=None)\n",
    "\n",
    "# Define the parameterized ansatz\n",
    "@qml.qnode(dev)\n",
    "def ansatz(params):\n",
    "    qml.StronglyEntanglingLayers(params, wires=range(num_qubits), imprimitive=qml.CZ)\n",
    "    return qml.state()  # Return the statevector\n",
    "\n",
    "# Initialize random parameters for the ansatz\n",
    "num_layers = 1\n",
    "params_shape = qml.StronglyEntanglingLayers.shape(n_layers=num_layers, n_wires=num_qubits)\n",
    "#params = np.random.random(params_shape)\n",
    "\n",
    "# Get the statevector from the ansatz\n",
    "ansatz_state = ansatz(params)\n",
    "\n",
    "# Compute the overlap\n",
    "overlap = np.vdot(min_eigenvector, ansatz_state)  # Inner product\n",
    "overlap_squared = np.abs(overlap)**2  # Overlap squared\n",
    "\n",
    "print(\"Overlap:\", overlap)\n",
    "print(\"Overlap squared:\", overlap_squared)\n"
   ]
  },
  {
   "cell_type": "code",
   "execution_count": 67,
   "metadata": {},
   "outputs": [],
   "source": [
    "def cost_function(params):\n",
    "\n",
    "    params = pnp.tensor(params.reshape(params_shape), requires_grad=True)\n",
    "    ansatz_state = ansatz(params)\n",
    "\n",
    "    overlap = np.vdot(min_eigenvector, ansatz_state)\n",
    "    overlap_squared = np.abs(overlap)**2  \n",
    "\n",
    "    return (1 - overlap_squared)"
   ]
  },
  {
   "cell_type": "code",
   "execution_count": 68,
   "metadata": {},
   "outputs": [],
   "source": [
    "x0 = np.random.random(params_shape).flatten()\n",
    "\n",
    "res = minimize(\n",
    "    cost_function,\n",
    "    x0,\n",
    "    method= \"COBYLA\",\n",
    "    options= {'maxiter':10000}\n",
    ")\n"
   ]
  },
  {
   "cell_type": "code",
   "execution_count": 69,
   "metadata": {},
   "outputs": [
    {
     "data": {
      "text/plain": [
       "np.float64(6.437002042503082e-10)"
      ]
     },
     "execution_count": 69,
     "metadata": {},
     "output_type": "execute_result"
    }
   ],
   "source": [
    "res.fun"
   ]
  }
 ],
 "metadata": {
  "kernelspec": {
   "display_name": ".venv",
   "language": "python",
   "name": "python3"
  },
  "language_info": {
   "codemirror_mode": {
    "name": "ipython",
    "version": 3
   },
   "file_extension": ".py",
   "mimetype": "text/x-python",
   "name": "python",
   "nbconvert_exporter": "python",
   "pygments_lexer": "ipython3",
   "version": "3.13.1"
  }
 },
 "nbformat": 4,
 "nbformat_minor": 2
}
