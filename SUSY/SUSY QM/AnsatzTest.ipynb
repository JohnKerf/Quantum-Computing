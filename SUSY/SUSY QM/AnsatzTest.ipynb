{
 "cells": [
  {
   "cell_type": "code",
   "execution_count": 1,
   "metadata": {},
   "outputs": [],
   "source": [
    "import numpy as np\n",
    "from susy_qm import calculate_Hamiltonian\n",
    "import pennylane as qml\n",
    "from pennylane import numpy as pnp\n",
    "from qiskit.quantum_info import SparsePauliOp\n",
    "from scipy.optimize import minimize, differential_evolution\n",
    "import pandas as pd"
   ]
  },
  {
   "cell_type": "code",
   "execution_count": 2,
   "metadata": {},
   "outputs": [],
   "source": [
    "cutoff = 8\n",
    "potential = 'AHO'"
   ]
  },
  {
   "cell_type": "code",
   "execution_count": 3,
   "metadata": {},
   "outputs": [],
   "source": [
    "#calculate Hamiltonian and expected eigenvalues\n",
    "H = calculate_Hamiltonian(cutoff, potential)\n",
    "eigenvalues, eigenvectors = np.linalg.eig(H)\n",
    "\n",
    "min_index = np.argmin(eigenvalues)\n",
    "min_eigenvalue = eigenvalues[min_index]\n",
    "min_eigenvector = eigenvectors[:, min_index]"
   ]
  },
  {
   "cell_type": "code",
   "execution_count": 4,
   "metadata": {},
   "outputs": [
    {
     "data": {
      "text/plain": [
       "array([ 0.00000000e+00+0.j,  0.00000000e+00+0.j,  0.00000000e+00+0.j,\n",
       "        0.00000000e+00+0.j,  0.00000000e+00+0.j,  0.00000000e+00+0.j,\n",
       "        0.00000000e+00+0.j,  0.00000000e+00+0.j,  9.76235111e-01+0.j,\n",
       "       -1.19470688e-15+0.j, -2.14219863e-01+0.j,  1.06461846e-16+0.j,\n",
       "        3.26181440e-02+0.j,  3.84766120e-17+0.j,  3.30368125e-03+0.j,\n",
       "       -1.86127527e-17+0.j])"
      ]
     },
     "execution_count": 4,
     "metadata": {},
     "output_type": "execute_result"
    }
   ],
   "source": [
    "min_eigenvector"
   ]
  },
  {
   "cell_type": "code",
   "execution_count": 5,
   "metadata": {},
   "outputs": [
    {
     "data": {
      "text/plain": [
       "np.complex128(0.03201011000921177+0j)"
      ]
     },
     "execution_count": 5,
     "metadata": {},
     "output_type": "execute_result"
    }
   ],
   "source": [
    "min_eigenvalue"
   ]
  },
  {
   "cell_type": "code",
   "execution_count": 6,
   "metadata": {},
   "outputs": [],
   "source": [
    "#create qiskit Hamiltonian Pauli string\n",
    "hamiltonian = SparsePauliOp.from_operator(H)\n",
    "num_qubits = hamiltonian.num_qubits"
   ]
  },
  {
   "cell_type": "code",
   "execution_count": 30,
   "metadata": {},
   "outputs": [],
   "source": [
    "params_shape = qml.StronglyEntanglingLayers.shape(n_layers=1, n_wires=num_qubits)\n",
    "dev = qml.device('default.qubit', wires=num_qubits, shots=1024)\n",
    "@qml.qnode(dev)\n",
    "def ansatz(params):\n",
    "    \n",
    "    #qml.RY(params[0], wires=[0])\n",
    "    #qml.RY(params[1], wires=[num_qubits-2])\n",
    "    # Define the parameterized ansatz\n",
    "        \n",
    "    qml.StronglyEntanglingLayers(params, wires=range(num_qubits), imprimitive=qml.CZ)\n",
    "            \n",
    "    return qml.probs()#qml.state()#"
   ]
  },
  {
   "cell_type": "code",
   "execution_count": 8,
   "metadata": {},
   "outputs": [],
   "source": [
    "dev = qml.device('default.qubit', wires=num_qubits)\n",
    "@qml.qnode(dev)\n",
    "def ansatz_e(params):\n",
    "    \n",
    "    #qml.RY(params[0], wires=[0])\n",
    "    #qml.RY(params[1], wires=[num_qubits-2])\n",
    "    params = pnp.tensor(params.reshape(params_shape), requires_grad=True)\n",
    "    qml.StronglyEntanglingLayers(params, wires=range(num_qubits), imprimitive=qml.CZ)\n",
    "    \n",
    "    return qml.expval(qml.Hermitian(H, wires=range(num_qubits)))"
   ]
  },
  {
   "cell_type": "code",
   "execution_count": 9,
   "metadata": {},
   "outputs": [],
   "source": [
    "def cost_function(params):\n",
    "    \n",
    "    params = pnp.tensor(params.reshape(params_shape), requires_grad=True)\n",
    "    #params = pnp.tensor(params, requires_grad=True)\n",
    "    ansatz_state = ansatz(params)\n",
    "\n",
    "    overlap = np.vdot(min_eigenvector, ansatz_state)\n",
    "    overlap_squared = np.abs(overlap)**2  \n",
    "\n",
    "    return (1 - overlap_squared)"
   ]
  },
  {
   "cell_type": "code",
   "execution_count": 43,
   "metadata": {},
   "outputs": [
    {
     "data": {
      "text/plain": [
       "array([0.      , 0.      , 0.      , 0.      , 0.      , 0.      ,\n",
       "       0.      , 0.      , 0.953125, 0.      , 0.046875, 0.      ,\n",
       "       0.      , 0.      , 0.      , 0.      ])"
      ]
     },
     "execution_count": 43,
     "metadata": {},
     "output_type": "execute_result"
    }
   ],
   "source": [
    "ansatz_prob = ansatz(pnp.tensor(hres.x.reshape(params_shape), requires_grad=True))\n",
    "ansatz_prob"
   ]
  },
  {
   "cell_type": "code",
   "execution_count": 44,
   "metadata": {},
   "outputs": [
    {
     "data": {
      "text/plain": [
       "array([0.00000000e+00, 0.00000000e+00, 0.00000000e+00, 0.00000000e+00,\n",
       "       0.00000000e+00, 0.00000000e+00, 0.00000000e+00, 0.00000000e+00,\n",
       "       9.53034993e-01, 1.42732453e-30, 4.58901495e-02, 1.13341246e-32,\n",
       "       1.06394332e-03, 1.48044967e-33, 1.09143098e-05, 3.46434562e-34])"
      ]
     },
     "execution_count": 44,
     "metadata": {},
     "output_type": "execute_result"
    }
   ],
   "source": [
    "min_eigenvector_prob = np.abs(min_eigenvector)**2\n",
    "min_eigenvector_prob"
   ]
  },
  {
   "cell_type": "code",
   "execution_count": 46,
   "metadata": {},
   "outputs": [
    {
     "data": {
      "text/plain": [
       "array([0.        , 0.        , 0.        , 0.        , 0.        ,\n",
       "       0.        , 0.        , 0.        , 0.90836148, 0.        ,\n",
       "       0.0021511 , 0.        , 0.        , 0.        , 0.        ,\n",
       "       0.        ])"
      ]
     },
     "execution_count": 46,
     "metadata": {},
     "output_type": "execute_result"
    }
   ],
   "source": [
    "min_eigenvector_prob*ansatz_prob"
   ]
  },
  {
   "cell_type": "code",
   "execution_count": 47,
   "metadata": {},
   "outputs": [
    {
     "data": {
      "text/plain": [
       "array([0.        , 0.        , 0.        , 0.        , 0.        ,\n",
       "       0.        , 0.        , 0.        , 0.95308   , 0.        ,\n",
       "       0.04637996, 0.        , 0.        , 0.        , 0.        ,\n",
       "       0.        ])"
      ]
     },
     "execution_count": 47,
     "metadata": {},
     "output_type": "execute_result"
    }
   ],
   "source": [
    "np.sqrt(min_eigenvector_prob*ansatz_prob)"
   ]
  },
  {
   "cell_type": "code",
   "execution_count": 45,
   "metadata": {},
   "outputs": [
    {
     "data": {
      "text/plain": [
       "np.float64(0.9994599561083781)"
      ]
     },
     "execution_count": 45,
     "metadata": {},
     "output_type": "execute_result"
    }
   ],
   "source": [
    "np.sum(np.sqrt(min_eigenvector_prob*ansatz_prob))"
   ]
  },
  {
   "cell_type": "code",
   "execution_count": 48,
   "metadata": {},
   "outputs": [],
   "source": [
    "def cost_function_hellinger(params):\n",
    "    \n",
    "    params = pnp.tensor(params.reshape(params_shape), requires_grad=True)\n",
    "    #params = pnp.tensor(params, requires_grad=True)\n",
    "    ansatz_state = ansatz(params)\n",
    "\n",
    "    min_eigenvector_prob = np.abs(min_eigenvector)**2\n",
    "    #ansatz_prob = np.abs(ansatz_state)**2\n",
    "    ansatz_prob = ansatz_state\n",
    "\n",
    "    hellinger_fidelity = np.sum((min_eigenvector_prob*ansatz_prob))\n",
    "\n",
    "    return (1 - hellinger_fidelity)\n"
   ]
  },
  {
   "cell_type": "code",
   "execution_count": 32,
   "metadata": {},
   "outputs": [],
   "source": [
    "def cost_function_hellinger(params):\n",
    "    # Convert params to a tensor and ensure gradients are tracked.\n",
    "    params = pnp.tensor(params.reshape(params_shape), requires_grad=True)\n",
    "    \n",
    "    # Compute the ansatz state and ensure it is normalized.\n",
    "    ansatz_state = ansatz(params)\n",
    "    #ansatz_state = ansatz_state / pnp.linalg.norm(ansatz_state)\n",
    "    #ansatz_prob = pnp.abs(ansatz_state) ** 2\n",
    "    ansatz_prob = ansatz_state\n",
    "    \n",
    "    # Convert min_eigenvector to a tensor (if not already) and normalize it.\n",
    "    min_eigenvector_tensor = pnp.tensor(min_eigenvector, dtype=ansatz_state.dtype)\n",
    "    min_eigenvector_tensor = min_eigenvector_tensor / pnp.linalg.norm(min_eigenvector_tensor)\n",
    "    min_eigenvector_prob = pnp.abs(min_eigenvector_tensor) ** 2\n",
    "\n",
    "    # Compute the Hellinger fidelity (or Bhattacharyya coefficient).\n",
    "    hellinger_fidelity = pnp.sum(pnp.sqrt(ansatz_prob * min_eigenvector_prob))\n",
    "\n",
    "    # Return the cost (1 - fidelity), which will be 0 if the distributions are identical.\n",
    "    return 1 - hellinger_fidelity\n"
   ]
  },
  {
   "cell_type": "code",
   "execution_count": 56,
   "metadata": {},
   "outputs": [],
   "source": [
    "x0 = np.random.random(params_shape).flatten()\n",
    "#x0 = np.random.rand(2)*2*np.pi\n",
    "''''\n",
    "res = minimize(\n",
    "    cost_function,\n",
    "    x0,\n",
    "    method= \"COBYLA\",\n",
    "    options= {'maxiter':10000}\n",
    ")\n",
    "'''\n",
    "hres = minimize(\n",
    "    cost_function_hellinger,\n",
    "    x0,\n",
    "    method= \"COBYLA\",\n",
    "    options= {'maxiter':10000, 'tol':1e-12}\n",
    ")\n",
    "\n",
    "#print(res, hres)"
   ]
  },
  {
   "cell_type": "code",
   "execution_count": 57,
   "metadata": {},
   "outputs": [
    {
     "data": {
      "text/plain": [
       "np.float64(1.4154986933689884e-05)"
      ]
     },
     "execution_count": 57,
     "metadata": {},
     "output_type": "execute_result"
    }
   ],
   "source": [
    "res.fun"
   ]
  },
  {
   "cell_type": "code",
   "execution_count": 58,
   "metadata": {},
   "outputs": [
    {
     "data": {
      "text/plain": [
       "tensor(0.83093615, requires_grad=True)"
      ]
     },
     "execution_count": 58,
     "metadata": {},
     "output_type": "execute_result"
    }
   ],
   "source": [
    "params = hres.x\n",
    "ansatz_e(params)"
   ]
  },
  {
   "cell_type": "code",
   "execution_count": 59,
   "metadata": {},
   "outputs": [],
   "source": [
    "#bounds = [(0, 2 * np.pi) for _ in range(2)]\n",
    "bounds = [(0, 2 * np.pi) for _ in range(np.prod(params_shape))]\n",
    "'''\n",
    "res = differential_evolution(cost_function,\n",
    "                                    bounds,\n",
    "                                    maxiter=10000,\n",
    "                                    tol=1e-3,\n",
    "                                    atol=1e-3,\n",
    "                                    strategy='randtobest1bin',\n",
    "                                    popsize=20\n",
    "                                    )\n",
    "'''\n",
    "hres = differential_evolution(cost_function_hellinger,\n",
    "                                    bounds,\n",
    "                                    maxiter=10000,\n",
    "                                    tol=1e-3,\n",
    "                                    atol=1e-3,\n",
    "                                    strategy='randtobest1bin',\n",
    "                                    popsize=20\n",
    "                                    )\n",
    "\n",
    "#print(res, hres)"
   ]
  },
  {
   "cell_type": "code",
   "execution_count": 60,
   "metadata": {},
   "outputs": [
    {
     "data": {
      "text/plain": [
       "tensor(1.06848217, requires_grad=True)"
      ]
     },
     "execution_count": 60,
     "metadata": {},
     "output_type": "execute_result"
    }
   ],
   "source": [
    "params = hres.x\n",
    "ansatz_e(params)"
   ]
  },
  {
   "cell_type": "code",
   "execution_count": 245,
   "metadata": {},
   "outputs": [],
   "source": [
    "dev = qml.device('default.qubit', wires=num_qubits, shots=None)\n",
    "@qml.qnode(dev)\n",
    "def circuit(params):\n",
    "    \n",
    "    qml.RY(params[0], wires=[0])\n",
    "    qml.RY(params[1], wires=[num_qubits-2])\n",
    "    \n",
    "    return qml.expval(qml.Hermitian(H, wires=range(num_qubits))) "
   ]
  },
  {
   "cell_type": "code",
   "execution_count": null,
   "metadata": {},
   "outputs": [],
   "source": []
  },
  {
   "cell_type": "code",
   "execution_count": 246,
   "metadata": {},
   "outputs": [
    {
     "data": {
      "text/plain": [
       "np.float64(0.8705798402842357)"
      ]
     },
     "execution_count": 246,
     "metadata": {},
     "output_type": "execute_result"
    }
   ],
   "source": [
    "circuit(res.x)"
   ]
  },
  {
   "cell_type": "code",
   "execution_count": null,
   "metadata": {},
   "outputs": [],
   "source": [
    "[ 4.486e+00  4.930e+00]\n",
    "[ 3.149e+00  5.731e+00]"
   ]
  },
  {
   "cell_type": "code",
   "execution_count": null,
   "metadata": {},
   "outputs": [],
   "source": [
    "data = []\n",
    "\n",
    "for potential in ['QHO', 'AHO', 'DW']:\n",
    "    for cutoff in [2, 4, 8, 16, 32, 64]:\n",
    "\n",
    "        #calculate Hamiltonian and expected eigenvalues\n",
    "        H = calculate_Hamiltonian(cutoff, potential)\n",
    "        eigenvalues, eigenvectors = np.linalg.eig(H)\n",
    "\n",
    "        min_index = np.argmin(eigenvalues)\n",
    "        min_eigenvalue = eigenvalues[min_index]\n",
    "        min_eigenvector = eigenvectors[:, min_index]\n",
    "\n",
    "        #create qiskit Hamiltonian Pauli string\n",
    "        hamiltonian = SparsePauliOp.from_operator(H)\n",
    "        num_qubits = hamiltonian.num_qubits\n",
    "\n",
    "        num_layers = 1\n",
    "        params_shape = qml.StronglyEntanglingLayers.shape(n_layers=num_layers, n_wires=num_qubits)\n",
    "        x0 = np.random.random(params_shape).flatten()\n",
    "\n",
    "        # Initialize device\n",
    "        dev = qml.device(\"default.qubit\", wires=num_qubits)\n",
    "\n",
    "        # Define the parameterized ansatz\n",
    "        @qml.qnode(dev)\n",
    "        def ansatz(params):\n",
    "            qml.StronglyEntanglingLayers(params, wires=range(num_qubits), imprimitive=qml.CZ)\n",
    "            return qml.state()  # Return the statevector\n",
    "        \n",
    "        def cost_function(params):\n",
    "\n",
    "            params = pnp.tensor(params.reshape(params_shape), requires_grad=True)\n",
    "            ansatz_state = ansatz(params)\n",
    "\n",
    "            overlap = np.vdot(min_eigenvector, ansatz_state)\n",
    "            overlap_squared = np.abs(overlap)**2  \n",
    "\n",
    "            return (1 - overlap_squared)\n",
    "        \n",
    "        def cost_function_hellinger(params):\n",
    "\n",
    "            params = pnp.tensor(params.reshape(params_shape), requires_grad=True)\n",
    "            ansatz_state = ansatz(params)\n",
    "\n",
    "            min_eigenvector_prob = np.abs(min_eigenvector)**2\n",
    "            ansatz_prob = np.abs(ansatz_state)**2\n",
    "\n",
    "            hellinger_fidelity = np.sum(np.sqrt(min_eigenvector_prob * ansatz_prob))\n",
    "\n",
    "            return (1 - hellinger_fidelity)\n",
    "        \n",
    "\n",
    "        overlap_res = minimize(\n",
    "            cost_function,\n",
    "            x0,\n",
    "            method= \"COBYLA\",\n",
    "            options= {'maxiter':10000, 'tol': 1e-8}\n",
    "        )\n",
    "\n",
    "        hellinger_res = minimize(\n",
    "            cost_function_hellinger,\n",
    "            x0,\n",
    "            method= \"COBYLA\",\n",
    "            options= {'maxiter':10000, 'tol': 1e-8}\n",
    "        )\n",
    "\n",
    "        row_data = {'potential': potential, 'cutoff': cutoff, 'overlap': overlap_res.fun, 'hellinger': hellinger_res.fun}\n",
    "\n",
    "        data.append(row_data)     "
   ]
  },
  {
   "cell_type": "code",
   "execution_count": null,
   "metadata": {},
   "outputs": [],
   "source": [
    "pd.DataFrame(data)"
   ]
  },
  {
   "cell_type": "markdown",
   "metadata": {},
   "source": [
    "## Real Amplitudes"
   ]
  },
  {
   "cell_type": "code",
   "execution_count": null,
   "metadata": {},
   "outputs": [],
   "source": [
    "cutoff = 128\n",
    "potential = 'AHO'"
   ]
  },
  {
   "cell_type": "code",
   "execution_count": null,
   "metadata": {},
   "outputs": [],
   "source": [
    "#calculate Hamiltonian and expected eigenvalues\n",
    "H = calculate_Hamiltonian(cutoff, potential)\n",
    "eigenvalues, eigenvectors = np.linalg.eig(H)\n",
    "\n",
    "min_index = np.argmin(eigenvalues)\n",
    "min_eigenvalue = eigenvalues[min_index]\n",
    "min_eigenvector = eigenvectors[:, min_index]"
   ]
  },
  {
   "cell_type": "code",
   "execution_count": null,
   "metadata": {},
   "outputs": [],
   "source": [
    "#create qiskit Hamiltonian Pauli string\n",
    "hamiltonian = SparsePauliOp.from_operator(H)\n",
    "num_qubits = hamiltonian.num_qubits"
   ]
  },
  {
   "cell_type": "code",
   "execution_count": null,
   "metadata": {},
   "outputs": [],
   "source": [
    "# Parameters\n",
    "repetition = 1\n",
    "\n",
    "# Initialize device\n",
    "dev = qml.device(\"default.qubit\", wires=num_qubits)\n",
    "    \n",
    "# Define the ansatz circuit\n",
    "@qml.qnode(dev)\n",
    "def real_amplitudes(params, repetition, num_qubits):\n",
    "    param_index = 0\n",
    "    for _ in range(repetition):\n",
    "\n",
    "        # Apply RY rotations\n",
    "        for i in range(num_qubits):\n",
    "            qml.RY(params[param_index], wires=i)\n",
    "            param_index += 1\n",
    "\n",
    "        # Apply entanglement\n",
    "        for j in reversed(range(1, num_qubits)):  # Reverse linear entanglement\n",
    "            qml.CNOT(wires=[j - 1, j])\n",
    "\n",
    "        # Apply RY rotations\n",
    "        for k in range(num_qubits):\n",
    "            qml.RY(params[param_index], wires=k)\n",
    "            param_index += 1\n",
    "\n",
    "    return qml.state()\n",
    "\n",
    "# Number of parameters required for this ansatz\n",
    "n_params = repetition * 2*num_qubits\n",
    "params = np.random.uniform(0, 2 * np.pi, size=n_params)\n"
   ]
  },
  {
   "cell_type": "code",
   "execution_count": null,
   "metadata": {},
   "outputs": [],
   "source": [
    "@qml.qnode(dev)\n",
    "def circuit(params):\n",
    "    param_index=0\n",
    "    for i in range(0, num_qubits-2):\n",
    "        qml.RY(params[param_index], wires=i)\n",
    "        param_index += 1\n",
    "\n",
    "    # Apply entanglement\n",
    "    for j in reversed(range(1, num_qubits-2)):\n",
    "        qml.CNOT(wires=[j - 1, j])\n",
    "\n",
    "    # Apply RY rotations\n",
    "    for k in range(0, num_qubits-2):\n",
    "        qml.RY(params[param_index], wires=k)\n",
    "        param_index += 1\n",
    "    \n",
    "    return qml.expval(qml.Hermitian(H, wires=range(num_qubits)))     "
   ]
  },
  {
   "cell_type": "code",
   "execution_count": null,
   "metadata": {},
   "outputs": [],
   "source": [
    "n_params = repetition * 2*num_qubits\n",
    "params = np.random.uniform(0, 2 * np.pi, size=n_params)\n",
    "drawer = qml.draw(circuit)\n",
    "print(drawer(params))"
   ]
  },
  {
   "cell_type": "code",
   "execution_count": null,
   "metadata": {},
   "outputs": [],
   "source": [
    "drawer = qml.draw(real_amplitudes)\n",
    "print(drawer(params, repetition, num_qubits))"
   ]
  },
  {
   "cell_type": "code",
   "execution_count": null,
   "metadata": {},
   "outputs": [],
   "source": [
    "def cost_function(params):\n",
    "\n",
    "    ansatz_state = real_amplitudes(params, repetition, num_qubits)\n",
    "\n",
    "    overlap = np.vdot(min_eigenvector, ansatz_state)\n",
    "    overlap_squared = np.abs(overlap)**2  \n",
    "\n",
    "    return (1 - overlap_squared)"
   ]
  },
  {
   "cell_type": "code",
   "execution_count": null,
   "metadata": {},
   "outputs": [],
   "source": [
    "def cost_function_hellinger(params):\n",
    "\n",
    "    ansatz_state = real_amplitudes(params, repetition, num_qubits)\n",
    "\n",
    "    min_eigenvector_prob = np.abs(min_eigenvector)**2\n",
    "    ansatz_prob = np.abs(ansatz_state)**2\n",
    "\n",
    "    hellinger_fidelity = np.sum(np.sqrt(min_eigenvector_prob * ansatz_prob))\n",
    "\n",
    "    return (1 - hellinger_fidelity)\n"
   ]
  },
  {
   "cell_type": "code",
   "execution_count": null,
   "metadata": {},
   "outputs": [],
   "source": [
    "x0 = np.random.uniform(0, 2 * np.pi, size=n_params)\n",
    "\n",
    "res = minimize(\n",
    "    cost_function,\n",
    "    x0,\n",
    "    method= \"COBYLA\",\n",
    "    options= {'maxiter':10000, 'tol': 1e-8}\n",
    ")\n"
   ]
  },
  {
   "cell_type": "code",
   "execution_count": null,
   "metadata": {},
   "outputs": [],
   "source": [
    "data = []\n",
    "\n",
    "repetition = 1\n",
    "\n",
    "for potential in ['QHO', 'AHO', 'DW']:\n",
    "    for cutoff in [2, 4, 8, 16, 32, 64]:\n",
    "\n",
    "        #calculate Hamiltonian and expected eigenvalues\n",
    "        H = calculate_Hamiltonian(cutoff, potential)\n",
    "        eigenvalues, eigenvectors = np.linalg.eig(H)\n",
    "\n",
    "        min_index = np.argmin(eigenvalues)\n",
    "        min_eigenvalue = eigenvalues[min_index]\n",
    "        min_eigenvector = eigenvectors[:, min_index]\n",
    "\n",
    "        #create qiskit Hamiltonian Pauli string\n",
    "        hamiltonian = SparsePauliOp.from_operator(H)\n",
    "        num_qubits = hamiltonian.num_qubits\n",
    "        n_params = repetition * 2*num_qubits\n",
    "\n",
    "        x0 = np.random.uniform(0, 2 * np.pi, size=n_params)\n",
    "\n",
    "        # Initialize device\n",
    "        dev = qml.device(\"default.qubit\", wires=num_qubits)\n",
    "\n",
    "        # Define the ansatz circuit\n",
    "        @qml.qnode(dev)\n",
    "        def real_amplitudes(params, repetition, num_qubits):\n",
    "            param_index = 0\n",
    "            for _ in range(repetition):\n",
    "\n",
    "                # Apply RY rotations\n",
    "                for i in range(num_qubits):\n",
    "                    qml.RY(params[param_index], wires=i)\n",
    "                    param_index += 1\n",
    "\n",
    "                # Apply entanglement\n",
    "                for j in reversed(range(1, num_qubits)):  # Reverse linear entanglement\n",
    "                    qml.CNOT(wires=[j - 1, j])\n",
    "\n",
    "                # Apply RY rotations\n",
    "                for k in range(num_qubits):\n",
    "                    qml.RY(params[param_index], wires=k)\n",
    "                    param_index += 1\n",
    "\n",
    "            return qml.state()\n",
    "\n",
    "        overlap_res = minimize(\n",
    "            cost_function,\n",
    "            x0,\n",
    "            method= \"COBYLA\",\n",
    "            options= {'maxiter':10000, 'tol': 1e-8}\n",
    "        )\n",
    "\n",
    "        hellinger_res = minimize(\n",
    "            cost_function_hellinger,\n",
    "            x0,\n",
    "            method= \"COBYLA\",\n",
    "            options= {'maxiter':10000, 'tol': 1e-8}\n",
    "        )\n",
    "\n",
    "        row_data = {'potential': potential, 'cutoff': cutoff, 'overlap': overlap_res.fun, 'hellinger': hellinger_res.fun}\n",
    "\n",
    "        data.append(row_data)     "
   ]
  },
  {
   "cell_type": "code",
   "execution_count": null,
   "metadata": {},
   "outputs": [],
   "source": [
    "pd.DataFrame(data)"
   ]
  },
  {
   "cell_type": "code",
   "execution_count": null,
   "metadata": {},
   "outputs": [],
   "source": [
    "data = []\n",
    "\n",
    "repetition = 1\n",
    "\n",
    "#variables\n",
    "max_iter = 10000\n",
    "strategy = \"randtobest1bin\"\n",
    "tol = 1e-3\n",
    "abs_tol = 1e-3\n",
    "popsize = 20\n",
    "\n",
    "for potential in ['QHO', 'AHO', 'DW']:\n",
    "    for cutoff in [2]:#, 4, 8, 16, 32, 64]:\n",
    "\n",
    "        #calculate Hamiltonian and expected eigenvalues\n",
    "        H = calculate_Hamiltonian(cutoff, potential)\n",
    "        eigenvalues, eigenvectors = np.linalg.eig(H)\n",
    "\n",
    "        min_index = np.argmin(eigenvalues)\n",
    "        min_eigenvalue = eigenvalues[min_index]\n",
    "        min_eigenvector = eigenvectors[:, min_index]\n",
    "\n",
    "        #create qiskit Hamiltonian Pauli string\n",
    "        hamiltonian = SparsePauliOp.from_operator(H)\n",
    "        num_qubits = hamiltonian.num_qubits\n",
    "        n_params = repetition * 2*num_qubits\n",
    "\n",
    "        bounds = [(0, 2 * np.pi) for _ in range(n_params)]\n",
    "        # Initialize device\n",
    "        dev = qml.device(\"default.qubit\", wires=num_qubits)\n",
    "\n",
    "        # Define the ansatz circuit\n",
    "        @qml.qnode(dev)\n",
    "        def real_amplitudes(params, repetition, num_qubits):\n",
    "            param_index = 0\n",
    "            for _ in range(repetition):\n",
    "\n",
    "                # Apply RY rotations\n",
    "                for i in range(num_qubits):\n",
    "                    qml.RY(params[param_index], wires=i)\n",
    "                    param_index += 1\n",
    "\n",
    "                # Apply entanglement\n",
    "                for j in reversed(range(1, num_qubits)):  # Reverse linear entanglement\n",
    "                    qml.CNOT(wires=[j - 1, j])\n",
    "\n",
    "                # Apply RY rotations\n",
    "                for k in range(num_qubits):\n",
    "                    qml.RY(params[param_index], wires=k)\n",
    "                    param_index += 1\n",
    "\n",
    "            return qml.state()\n",
    "\n",
    "        overlap_res = differential_evolution(\n",
    "            cost_function,\n",
    "            bounds,\n",
    "            maxiter=max_iter,\n",
    "            tol=tol,\n",
    "            atol=abs_tol,\n",
    "            strategy=strategy,\n",
    "            popsize=popsize\n",
    "        )\n",
    "\n",
    "        hellinger_res = differential_evolution(\n",
    "            cost_function_hellinger,\n",
    "            bounds,\n",
    "            maxiter=max_iter,\n",
    "            tol=tol,\n",
    "            atol=abs_tol,\n",
    "            strategy=strategy,\n",
    "            popsize=popsize\n",
    "        )\n",
    "\n",
    "        row_data = {'potential': potential, 'cutoff': cutoff, 'overlap': overlap_res.fun, 'hellinger': hellinger_res.fun}\n",
    "\n",
    "        data.append(row_data)     "
   ]
  },
  {
   "cell_type": "code",
   "execution_count": null,
   "metadata": {},
   "outputs": [],
   "source": [
    "pd.DataFrame(data)"
   ]
  },
  {
   "cell_type": "code",
   "execution_count": null,
   "metadata": {},
   "outputs": [],
   "source": []
  }
 ],
 "metadata": {
  "kernelspec": {
   "display_name": ".venv",
   "language": "python",
   "name": "python3"
  },
  "language_info": {
   "codemirror_mode": {
    "name": "ipython",
    "version": 3
   },
   "file_extension": ".py",
   "mimetype": "text/x-python",
   "name": "python",
   "nbconvert_exporter": "python",
   "pygments_lexer": "ipython3",
   "version": "3.13.1"
  }
 },
 "nbformat": 4,
 "nbformat_minor": 2
}
