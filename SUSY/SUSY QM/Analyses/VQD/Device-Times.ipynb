{
 "cells": [
  {
   "cell_type": "code",
   "execution_count": 1,
   "metadata": {},
   "outputs": [],
   "source": [
    "import pandas as pd\n",
    "import json\n",
    "import os"
   ]
  },
  {
   "cell_type": "code",
   "execution_count": 6,
   "metadata": {},
   "outputs": [],
   "source": [
    "folder_path = r\"C:\\Users\\Johnk\\OneDrive\\Desktop\\PhD 2024\\Quantum Computing Code\\Quantum-Computing\\SUSY\\SUSY QM\\PennyLane\\VQE\\Differential Evolution\\DeviceTimes\"\n",
    "folder_path = r\"C:\\Users\\johnkerf\\Desktop\\Quantum-Computing\\Quantum-Computing\\SUSY\\SUSY QM\\PennyLane\\VQD\\Differential Evolution\\Noise\"\n",
    "cutoffs = [16]\n",
    "folders = [f for f in os.listdir(folder_path) if os.path.isdir(os.path.join(folder_path, f))]"
   ]
  },
  {
   "cell_type": "code",
   "execution_count": 7,
   "metadata": {},
   "outputs": [
    {
     "data": {
      "text/plain": [
       "['AHO', 'DW', 'QHO']"
      ]
     },
     "execution_count": 7,
     "metadata": {},
     "output_type": "execute_result"
    }
   ],
   "source": [
    "folders"
   ]
  },
  {
   "cell_type": "code",
   "execution_count": 10,
   "metadata": {},
   "outputs": [],
   "source": [
    "parallel_time = []\n",
    "total_time = []\n",
    "device_time = []\n",
    "cutoffss = []\n",
    "potential = []\n",
    "percentages = []\n",
    "\n",
    "for f in folders:\n",
    "\n",
    "    for cutoff in cutoffs:\n",
    "\n",
    "        data_path = folder_path + \"\\\\{}\\\\{}_{}.json\".format(f,f, cutoff)\n",
    "        \n",
    "        with open(data_path, 'r') as file:\n",
    "            data = json.load(file)\n",
    "\n",
    "        potential.append(f)\n",
    "        cutoffss.append(cutoff)\n",
    "        parallel_time.append(data['parallel_run_time'])\n",
    "        total_time.append(data['total_VQD_time'])\n",
    "        device_time.append(data['total_device_time'])\n",
    "        dev_perc = (pd.Timedelta(data['total_device_time']).total_seconds() / pd.Timedelta(data['total_VQD_time']).total_seconds()) * 100\n",
    "        percentages.append(dev_perc)"
   ]
  },
  {
   "cell_type": "code",
   "execution_count": 11,
   "metadata": {},
   "outputs": [],
   "source": [
    "df = {'potential': potential,\n",
    "        'cutoff': cutoffss,\n",
    "        'parallel_time': parallel_time,\n",
    "        'total_time': total_time,\n",
    "        'device_time': device_time,\n",
    "        'device / total %': percentages}"
   ]
  },
  {
   "cell_type": "code",
   "execution_count": 12,
   "metadata": {},
   "outputs": [
    {
     "data": {
      "text/html": [
       "<div>\n",
       "<style scoped>\n",
       "    .dataframe tbody tr th:only-of-type {\n",
       "        vertical-align: middle;\n",
       "    }\n",
       "\n",
       "    .dataframe tbody tr th {\n",
       "        vertical-align: top;\n",
       "    }\n",
       "\n",
       "    .dataframe thead th {\n",
       "        text-align: right;\n",
       "    }\n",
       "</style>\n",
       "<table border=\"1\" class=\"dataframe\">\n",
       "  <thead>\n",
       "    <tr style=\"text-align: right;\">\n",
       "      <th></th>\n",
       "      <th>potential</th>\n",
       "      <th>cutoff</th>\n",
       "      <th>parallel_time</th>\n",
       "      <th>total_time</th>\n",
       "      <th>device_time</th>\n",
       "      <th>device / total %</th>\n",
       "    </tr>\n",
       "  </thead>\n",
       "  <tbody>\n",
       "    <tr>\n",
       "      <th>0</th>\n",
       "      <td>AHO</td>\n",
       "      <td>16</td>\n",
       "      <td>4:44:17.541955</td>\n",
       "      <td>5 days, 21:40:03.648803</td>\n",
       "      <td>3:56:18.055048</td>\n",
       "      <td>2.779991</td>\n",
       "    </tr>\n",
       "    <tr>\n",
       "      <th>1</th>\n",
       "      <td>DW</td>\n",
       "      <td>16</td>\n",
       "      <td>2:57:05.677401</td>\n",
       "      <td>4 days, 1:03:41.848054</td>\n",
       "      <td>2:42:40.941300</td>\n",
       "      <td>2.793455</td>\n",
       "    </tr>\n",
       "    <tr>\n",
       "      <th>2</th>\n",
       "      <td>QHO</td>\n",
       "      <td>16</td>\n",
       "      <td>1:57:19.173918</td>\n",
       "      <td>2 days, 15:45:51.103566</td>\n",
       "      <td>1:46:37.683510</td>\n",
       "      <td>2.787041</td>\n",
       "    </tr>\n",
       "  </tbody>\n",
       "</table>\n",
       "</div>"
      ],
      "text/plain": [
       "  potential  cutoff   parallel_time               total_time     device_time  \\\n",
       "0       AHO      16  4:44:17.541955  5 days, 21:40:03.648803  3:56:18.055048   \n",
       "1        DW      16  2:57:05.677401   4 days, 1:03:41.848054  2:42:40.941300   \n",
       "2       QHO      16  1:57:19.173918  2 days, 15:45:51.103566  1:46:37.683510   \n",
       "\n",
       "   device / total %  \n",
       "0          2.779991  \n",
       "1          2.793455  \n",
       "2          2.787041  "
      ]
     },
     "execution_count": 12,
     "metadata": {},
     "output_type": "execute_result"
    }
   ],
   "source": [
    "pd.DataFrame(df)"
   ]
  },
  {
   "cell_type": "code",
   "execution_count": null,
   "metadata": {},
   "outputs": [],
   "source": []
  }
 ],
 "metadata": {
  "kernelspec": {
   "display_name": ".venv",
   "language": "python",
   "name": "python3"
  },
  "language_info": {
   "codemirror_mode": {
    "name": "ipython",
    "version": 3
   },
   "file_extension": ".py",
   "mimetype": "text/x-python",
   "name": "python",
   "nbconvert_exporter": "python",
   "pygments_lexer": "ipython3",
   "version": "3.10.0"
  }
 },
 "nbformat": 4,
 "nbformat_minor": 2
}
