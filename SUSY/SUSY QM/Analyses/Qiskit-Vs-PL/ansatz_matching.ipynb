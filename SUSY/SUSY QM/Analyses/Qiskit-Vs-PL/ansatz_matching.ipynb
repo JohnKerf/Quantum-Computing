{
 "cells": [
  {
   "cell_type": "code",
   "execution_count": 13,
   "metadata": {},
   "outputs": [],
   "source": [
    "from qiskit.quantum_info import Statevector\n",
    "from qiskit.quantum_info import SparsePauliOp\n",
    "\n",
    "from susy_qm import calculate_Hamiltonian, ansatze\n",
    "\n",
    "import pennylane as qml\n",
    "import numpy as np"
   ]
  },
  {
   "cell_type": "code",
   "execution_count": 2,
   "metadata": {},
   "outputs": [],
   "source": [
    "potential = 'DW'\n",
    "cutoff = 4\n",
    "shots = None"
   ]
  },
  {
   "cell_type": "code",
   "execution_count": 3,
   "metadata": {},
   "outputs": [],
   "source": [
    "ansatze_type = 'exact' #exact or Reduced\n",
    "if potential == \"QHO\":\n",
    "    ansatz_name = f\"CQAVQE_QHO_{ansatze_type}\"\n",
    "elif (potential != \"QHO\") and (cutoff <= 16):\n",
    "    ansatz_name = f\"CQAVQE_{potential}{cutoff}_{ansatze_type}\"\n",
    "else:\n",
    "    ansatz_name = f\"CQAVQE_{potential}16_{ansatze_type}\"\n",
    "\n",
    "ansatz = ansatze.get(ansatz_name)\n",
    "num_params = ansatz.n_params"
   ]
  },
  {
   "cell_type": "code",
   "execution_count": 15,
   "metadata": {},
   "outputs": [],
   "source": [
    "H = calculate_Hamiltonian(cutoff, potential)\n",
    "eigenvalues = np.sort(np.linalg.eig(H)[0])[:4]\n",
    "min_eigenvalue = min(eigenvalues.real)\n",
    "\n",
    "num_qubits = int(1 + np.log2(cutoff))\n",
    "\n",
    "H_decomp = qml.pauli_decompose(H, wire_order=range(num_qubits))\n",
    "observables = SparsePauliOp.from_operator(H)"
   ]
  },
  {
   "cell_type": "code",
   "execution_count": 10,
   "metadata": {},
   "outputs": [
    {
     "name": "stdout",
     "output_type": "stream",
     "text": [
      "0: ─╭|Ψ⟩─────────────────────┤ ╭<𝓗(M0)>\n",
      "1: ─├|Ψ⟩──RY(0.40)─╭●────────┤ ├<𝓗(M0)>\n",
      "2: ─╰|Ψ⟩──RY(5.95)─╰RY(6.01)─┤ ╰<𝓗(M0)>\n",
      "\n",
      "M0 = \n",
      "[[2.375     +0.j 2.47487373+0.j 1.76776695+0.j 0.8660254 +0.j\n",
      "  0.        +0.j 0.        +0.j 0.        +0.j 0.        +0.j]\n",
      " [2.47487373+0.j 5.875     +0.j 5.        +0.j 3.06186218+0.j\n",
      "  0.        +0.j 0.        +0.j 0.        +0.j 0.        +0.j]\n",
      " [1.76776695+0.j 5.        +0.j 9.375     +0.j 5.51135192+0.j\n",
      "  0.        +0.j 0.        +0.j 0.        +0.j 0.        +0.j]\n",
      " [0.8660254 +0.j 3.06186218+0.j 5.51135192+0.j 5.875     +0.j\n",
      "  0.        +0.j 0.        +0.j 0.        +0.j 0.        +0.j]\n",
      " [0.        +0.j 0.        +0.j 0.        +0.j 0.        +0.j\n",
      "  1.375     +0.j 1.06066017+0.j 1.76776695+0.j 0.8660254 +0.j]\n",
      " [0.        +0.j 0.        +0.j 0.        +0.j 0.        +0.j\n",
      "  1.06066017+0.j 4.875     +0.j 3.        +0.j 3.06186218+0.j]\n",
      " [0.        +0.j 0.        +0.j 0.        +0.j 0.        +0.j\n",
      "  1.76776695+0.j 3.        +0.j 8.375     +0.j 3.06186218+0.j]\n",
      " [0.        +0.j 0.        +0.j 0.        +0.j 0.        +0.j\n",
      "  0.8660254 +0.j 3.06186218+0.j 3.06186218+0.j 4.875     +0.j]]\n",
      "0.9065598714743818 0.9065598714743925\n"
     ]
    }
   ],
   "source": [
    "dev = qml.device('default.qubit', wires=num_qubits,shots=None)\n",
    "@qml.qnode(dev)\n",
    "def circuit(params):\n",
    "    ansatz(params, num_qubits)\n",
    "    return qml.expval(qml.Hermitian(H, wires=range(num_qubits)))\n",
    "\n",
    "params = [\n",
    "            0.3966509377256218,\n",
    "            5.951916764806598,\n",
    "            6.008466886069231\n",
    "        ]\n",
    "\n",
    "print(qml.draw(circuit)(params))\n",
    "print(min_eigenvalue, circuit(params))"
   ]
  },
  {
   "cell_type": "code",
   "execution_count": 20,
   "metadata": {},
   "outputs": [],
   "source": [
    "qc = ansatze.pl_to_qiskit(ansatz, params=params, num_qubits=num_qubits, reverse_bits=True)"
   ]
  },
  {
   "cell_type": "code",
   "execution_count": 21,
   "metadata": {},
   "outputs": [
    {
     "data": {
      "image/png": "[encoded data removed]",
      "text/plain": [
       "<Figure size 287.496x284.278 with 1 Axes>"
      ]
     },
     "execution_count": 21,
     "metadata": {},
     "output_type": "execute_result"
    }
   ],
   "source": [
    "qc.draw('mpl')"
   ]
  },
  {
   "cell_type": "code",
   "execution_count": 22,
   "metadata": {},
   "outputs": [
    {
     "data": {
      "text/plain": [
       "np.complex128(0.9065598714743928+0j)"
      ]
     },
     "execution_count": 22,
     "metadata": {},
     "output_type": "execute_result"
    }
   ],
   "source": [
    "state = Statevector.from_instruction(qc)\n",
    "expectation = state.expectation_value(observables)\n",
    "expectation"
   ]
  },
  {
   "cell_type": "code",
   "execution_count": 26,
   "metadata": {},
   "outputs": [],
   "source": [
    "from qiskit.primitives import StatevectorEstimator"
   ]
  },
  {
   "cell_type": "code",
   "execution_count": 27,
   "metadata": {},
   "outputs": [],
   "source": [
    "qc = ansatze.pl_to_qiskit(ansatz, params=None, num_qubits=num_qubits, reverse_bits=True)"
   ]
  },
  {
   "cell_type": "code",
   "execution_count": 28,
   "metadata": {},
   "outputs": [
    {
     "data": {
      "image/png": "[encoded data removed]",
      "text/plain": [
       "<Figure size 287.496x284.278 with 1 Axes>"
      ]
     },
     "execution_count": 28,
     "metadata": {},
     "output_type": "execute_result"
    }
   ],
   "source": [
    "qc.draw('mpl')"
   ]
  },
  {
   "cell_type": "code",
   "execution_count": 48,
   "metadata": {},
   "outputs": [
    {
     "data": {
      "text/plain": [
       "array(0.90655987)"
      ]
     },
     "execution_count": 48,
     "metadata": {},
     "output_type": "execute_result"
    }
   ],
   "source": [
    "estimator = StatevectorEstimator()\n",
    "pub = (qc, observables, params)\n",
    "job = estimator.run([pub])\n",
    "result = job.result()[0]\n",
    "result.data.evs"
   ]
  },
  {
   "cell_type": "code",
   "execution_count": 35,
   "metadata": {},
   "outputs": [],
   "source": [
    "from qiskit_aer.primitives import EstimatorV2 as Estimator\n",
    "from qiskit_aer import AerSimulator\n",
    "from qiskit.transpiler import generate_preset_pass_manager"
   ]
  },
  {
   "cell_type": "code",
   "execution_count": 45,
   "metadata": {},
   "outputs": [
    {
     "data": {
      "text/plain": [
       "1.8179091524699218"
      ]
     },
     "execution_count": 45,
     "metadata": {},
     "output_type": "execute_result"
    }
   ],
   "source": [
    "exact_estimator = Estimator()\n",
    "pass_manager = generate_preset_pass_manager(3, AerSimulator())\n",
    "\n",
    "isa_circuit = pass_manager.run(qc)\n",
    "pub = (isa_circuit, observables, params)\n",
    "job = exact_estimator.run([pub])\n",
    "result = job.result()\n",
    "pub_result = result[0]\n",
    "exact_value = float(pub_result.data.evs)\n",
    "exact_value"
   ]
  },
  {
   "cell_type": "code",
   "execution_count": 50,
   "metadata": {},
   "outputs": [
    {
     "data": {
      "text/plain": [
       "array(1.81790915)"
      ]
     },
     "execution_count": 50,
     "metadata": {},
     "output_type": "execute_result"
    }
   ],
   "source": [
    "est = Estimator()\n",
    "ev_est = est.run([(qc, observables, params)]).result()[0].data.evs\n",
    "ev_est"
   ]
  },
  {
   "cell_type": "code",
   "execution_count": 43,
   "metadata": {},
   "outputs": [
    {
     "name": "stdout",
     "output_type": "stream",
     "text": [
      "0.17.1\n"
     ]
    }
   ],
   "source": [
    "import qiskit_aer\n",
    "print(qiskit_aer.__version__)\n"
   ]
  },
  {
   "cell_type": "code",
   "execution_count": null,
   "metadata": {},
   "outputs": [],
   "source": []
  }
 ],
 "metadata": {
  "kernelspec": {
   "display_name": ".venv",
   "language": "python",
   "name": "python3"
  },
  "language_info": {
   "codemirror_mode": {
    "name": "ipython",
    "version": 3
   },
   "file_extension": ".py",
   "mimetype": "text/x-python",
   "name": "python",
   "nbconvert_exporter": "python",
   "pygments_lexer": "ipython3",
   "version": "3.13.1"
  }
 },
 "nbformat": 4,
 "nbformat_minor": 2
}
