{
 "cells": [
  {
   "cell_type": "code",
   "execution_count": 3,
   "metadata": {},
   "outputs": [],
   "source": [
    "import numpy as np\n",
    "import pandas as pd\n",
    "from qiskit.quantum_info import SparsePauliOp\n",
    "import pennylane as qml\n",
    "\n",
    "from susy_qm import calculate_wz_hamiltonian, calculate_Hamiltonian"
   ]
  },
  {
   "cell_type": "code",
   "execution_count": 4,
   "metadata": {},
   "outputs": [],
   "source": [
    "data = {'cut_off':[],\n",
    "       'QHO': [],\n",
    "       'AHO': [],\n",
    "       'DW': []\n",
    "       }\n",
    "\n",
    "num_cut_offs = 10\n",
    "cut_off_list = [2**i for i in range(1, num_cut_offs + 1)]\n",
    "potential_list = ['QHO', 'AHO', 'DW']\n",
    "\n",
    "for cut_off in cut_off_list:\n",
    "    data['cut_off'].append(cut_off)\n",
    "\n",
    "    for potential in potential_list:\n",
    "\n",
    "        H = calculate_Hamiltonian(cut_off, potential)\n",
    "        H_pauli = SparsePauliOp.from_operator(H)\n",
    "\n",
    "        data[potential].append(H_pauli.size)"
   ]
  },
  {
   "cell_type": "code",
   "execution_count": 5,
   "metadata": {},
   "outputs": [
    {
     "data": {
      "text/plain": [
       "{'cut_off': [2, 4, 8, 16, 32, 64, 128, 256, 512, 1024],\n",
       " 'QHO': [2, 4, 8, 16, 32, 64, 128, 256, 512, 1024],\n",
       " 'AHO': [2, 10, 34, 102, 270, 670, 1548, 3496, 7486, 15534],\n",
       " 'DW': [4, 14, 48, 136, 352, 854, 1990, 4450, 9874, 21202]}"
      ]
     },
     "execution_count": 5,
     "metadata": {},
     "output_type": "execute_result"
    }
   ],
   "source": [
    "data"
   ]
  },
  {
   "cell_type": "code",
   "execution_count": 6,
   "metadata": {},
   "outputs": [],
   "source": [
    "pauli_df = pd.DataFrame(data).set_index('cut_off')"
   ]
  },
  {
   "cell_type": "code",
   "execution_count": 7,
   "metadata": {},
   "outputs": [
    {
     "data": {
      "text/html": [
       "<div>\n",
       "<style scoped>\n",
       "    .dataframe tbody tr th:only-of-type {\n",
       "        vertical-align: middle;\n",
       "    }\n",
       "\n",
       "    .dataframe tbody tr th {\n",
       "        vertical-align: top;\n",
       "    }\n",
       "\n",
       "    .dataframe thead th {\n",
       "        text-align: right;\n",
       "    }\n",
       "</style>\n",
       "<table border=\"1\" class=\"dataframe\">\n",
       "  <thead>\n",
       "    <tr style=\"text-align: right;\">\n",
       "      <th></th>\n",
       "      <th>QHO</th>\n",
       "      <th>AHO</th>\n",
       "      <th>DW</th>\n",
       "    </tr>\n",
       "    <tr>\n",
       "      <th>cut_off</th>\n",
       "      <th></th>\n",
       "      <th></th>\n",
       "      <th></th>\n",
       "    </tr>\n",
       "  </thead>\n",
       "  <tbody>\n",
       "    <tr>\n",
       "      <th>2</th>\n",
       "      <td>2</td>\n",
       "      <td>2</td>\n",
       "      <td>4</td>\n",
       "    </tr>\n",
       "    <tr>\n",
       "      <th>4</th>\n",
       "      <td>4</td>\n",
       "      <td>10</td>\n",
       "      <td>14</td>\n",
       "    </tr>\n",
       "    <tr>\n",
       "      <th>8</th>\n",
       "      <td>8</td>\n",
       "      <td>34</td>\n",
       "      <td>48</td>\n",
       "    </tr>\n",
       "    <tr>\n",
       "      <th>16</th>\n",
       "      <td>16</td>\n",
       "      <td>102</td>\n",
       "      <td>136</td>\n",
       "    </tr>\n",
       "    <tr>\n",
       "      <th>32</th>\n",
       "      <td>32</td>\n",
       "      <td>270</td>\n",
       "      <td>352</td>\n",
       "    </tr>\n",
       "    <tr>\n",
       "      <th>64</th>\n",
       "      <td>64</td>\n",
       "      <td>670</td>\n",
       "      <td>854</td>\n",
       "    </tr>\n",
       "    <tr>\n",
       "      <th>128</th>\n",
       "      <td>128</td>\n",
       "      <td>1548</td>\n",
       "      <td>1990</td>\n",
       "    </tr>\n",
       "    <tr>\n",
       "      <th>256</th>\n",
       "      <td>256</td>\n",
       "      <td>3496</td>\n",
       "      <td>4450</td>\n",
       "    </tr>\n",
       "    <tr>\n",
       "      <th>512</th>\n",
       "      <td>512</td>\n",
       "      <td>7486</td>\n",
       "      <td>9874</td>\n",
       "    </tr>\n",
       "    <tr>\n",
       "      <th>1024</th>\n",
       "      <td>1024</td>\n",
       "      <td>15534</td>\n",
       "      <td>21202</td>\n",
       "    </tr>\n",
       "  </tbody>\n",
       "</table>\n",
       "</div>"
      ],
      "text/plain": [
       "          QHO    AHO     DW\n",
       "cut_off                    \n",
       "2           2      2      4\n",
       "4           4     10     14\n",
       "8           8     34     48\n",
       "16         16    102    136\n",
       "32         32    270    352\n",
       "64         64    670    854\n",
       "128       128   1548   1990\n",
       "256       256   3496   4450\n",
       "512       512   7486   9874\n",
       "1024     1024  15534  21202"
      ]
     },
     "execution_count": 7,
     "metadata": {},
     "output_type": "execute_result"
    }
   ],
   "source": [
    "pauli_df"
   ]
  },
  {
   "cell_type": "code",
   "execution_count": null,
   "metadata": {},
   "outputs": [],
   "source": []
  },
  {
   "cell_type": "code",
   "execution_count": null,
   "metadata": {},
   "outputs": [],
   "source": []
  },
  {
   "cell_type": "code",
   "execution_count": null,
   "metadata": {},
   "outputs": [],
   "source": []
  },
  {
   "cell_type": "code",
   "execution_count": 9,
   "metadata": {},
   "outputs": [],
   "source": [
    "# Parameters\n",
    "N = 3\n",
    "a = 1.0\n",
    "c = 0\n",
    "boundary_condition = 'periodic'"
   ]
  },
  {
   "cell_type": "code",
   "execution_count": 11,
   "metadata": {},
   "outputs": [],
   "source": [
    "data = {'cut_off':[],\n",
    "       'linear': [],\n",
    "       'quadratic': []\n",
    "       }\n",
    "\n",
    "num_cut_offs = 4\n",
    "cut_off_list = [2**i for i in range(1, num_cut_offs + 1)]\n",
    "potential_list = ['linear', 'quadratic']\n",
    "\n",
    "for cut_off in cut_off_list:\n",
    "    data['cut_off'].append(cut_off)\n",
    "\n",
    "    for potential in potential_list:\n",
    "\n",
    "        H = calculate_wz_hamiltonian(cut_off, N, a, potential, boundary_condition, c)\n",
    "        H_pauli = SparsePauliOp.from_operator(H)\n",
    "\n",
    "        data[potential].append(H_pauli.size)"
   ]
  },
  {
   "cell_type": "code",
   "execution_count": 8,
   "metadata": {},
   "outputs": [
    {
     "data": {
      "text/plain": [
       "{'cut_off': [2, 4, 8, 16, 32],\n",
       " 'linear': [3, 7, 15, 31, 63],\n",
       " 'quadratic': [3, 17, 61, 173, 445]}"
      ]
     },
     "execution_count": 8,
     "metadata": {},
     "output_type": "execute_result"
    }
   ],
   "source": [
    "data"
   ]
  },
  {
   "cell_type": "code",
   "execution_count": 12,
   "metadata": {},
   "outputs": [
    {
     "data": {
      "text/plain": [
       "{'cut_off': [2, 4, 8, 16],\n",
       " 'linear': [13, 70, 484, 3196],\n",
       " 'quadratic': [13, 175, 1537, 10585]}"
      ]
     },
     "execution_count": 12,
     "metadata": {},
     "output_type": "execute_result"
    }
   ],
   "source": [
    "data"
   ]
  },
  {
   "cell_type": "code",
   "execution_count": null,
   "metadata": {},
   "outputs": [],
   "source": []
  }
 ],
 "metadata": {
  "kernelspec": {
   "display_name": ".venv",
   "language": "python",
   "name": "python3"
  },
  "language_info": {
   "codemirror_mode": {
    "name": "ipython",
    "version": 3
   },
   "file_extension": ".py",
   "mimetype": "text/x-python",
   "name": "python",
   "nbconvert_exporter": "python",
   "pygments_lexer": "ipython3",
   "version": "3.10.4"
  }
 },
 "nbformat": 4,
 "nbformat_minor": 2
}
