{
 "cells": [
  {
   "cell_type": "code",
   "execution_count": 1,
   "metadata": {},
   "outputs": [],
   "source": [
    "import numpy as np\n",
    "from qiskit.quantum_info import SparsePauliOp\n",
    "import pennylane as qml\n",
    "from pennylane.templates import StronglyEntanglingLayers\n",
    "from susy_qm import calculate_Hamiltonian"
   ]
  },
  {
   "cell_type": "code",
   "execution_count": 9,
   "metadata": {},
   "outputs": [],
   "source": [
    "data = {'cut_off':[],\n",
    "       'num_params':[],\n",
    "       'num_qubits': []\n",
    "       }\n",
    "\n",
    "potential = 'DW'\n",
    "num_cut_offs = 10\n",
    "cut_off_list = [2**i for i in range(1, num_cut_offs + 1)]\n",
    "\n",
    "for cut_off in cut_off_list:\n",
    "    data['cut_off'].append(cut_off)\n",
    "\n",
    "    H = calculate_Hamiltonian(cut_off, potential)\n",
    "    hamiltonian = SparsePauliOp.from_operator(H)\n",
    "    num_qubits = hamiltonian.num_qubits\n",
    "\n",
    "    num_params = np.prod(qml.StronglyEntanglingLayers.shape(n_layers=1, n_wires=num_qubits))\n",
    "\n",
    "    data['num_params'].append(int(num_params))\n",
    "    data['num_qubits'].append(num_qubits)\n"
   ]
  },
  {
   "cell_type": "code",
   "execution_count": 6,
   "metadata": {},
   "outputs": [
    {
     "data": {
      "text/plain": [
       "{'cut_off': [2, 4, 8, 16, 32, 64, 128, 256, 512, 1024],\n",
       " 'num_params': [6, 9, 12, 15, 18, 21, 24, 27, 30, 33],\n",
       " 'num_qubits': [2, 3, 4, 5, 6, 7, 8, 9, 10, 11]}"
      ]
     },
     "execution_count": 6,
     "metadata": {},
     "output_type": "execute_result"
    }
   ],
   "source": [
    "#QHO\n",
    "data"
   ]
  },
  {
   "cell_type": "code",
   "execution_count": 8,
   "metadata": {},
   "outputs": [
    {
     "data": {
      "text/plain": [
       "{'cut_off': [2, 4, 8, 16, 32, 64, 128, 256, 512, 1024],\n",
       " 'num_params': [6, 9, 12, 15, 18, 21, 24, 27, 30, 33],\n",
       " 'num_qubits': [2, 3, 4, 5, 6, 7, 8, 9, 10, 11]}"
      ]
     },
     "execution_count": 8,
     "metadata": {},
     "output_type": "execute_result"
    }
   ],
   "source": [
    "#AHO\n",
    "data"
   ]
  },
  {
   "cell_type": "code",
   "execution_count": 10,
   "metadata": {},
   "outputs": [
    {
     "data": {
      "text/plain": [
       "{'cut_off': [2, 4, 8, 16, 32, 64, 128, 256, 512, 1024],\n",
       " 'num_params': [6, 9, 12, 15, 18, 21, 24, 27, 30, 33],\n",
       " 'num_qubits': [2, 3, 4, 5, 6, 7, 8, 9, 10, 11]}"
      ]
     },
     "execution_count": 10,
     "metadata": {},
     "output_type": "execute_result"
    }
   ],
   "source": [
    "#DW\n",
    "data"
   ]
  },
  {
   "cell_type": "code",
   "execution_count": null,
   "metadata": {},
   "outputs": [],
   "source": []
  }
 ],
 "metadata": {
  "kernelspec": {
   "display_name": ".venv",
   "language": "python",
   "name": "python3"
  },
  "language_info": {
   "codemirror_mode": {
    "name": "ipython",
    "version": 3
   },
   "file_extension": ".py",
   "mimetype": "text/x-python",
   "name": "python",
   "nbconvert_exporter": "python",
   "pygments_lexer": "ipython3",
   "version": "3.10.0"
  }
 },
 "nbformat": 4,
 "nbformat_minor": 2
}
