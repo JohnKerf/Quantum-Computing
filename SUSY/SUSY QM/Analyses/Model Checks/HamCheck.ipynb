{
 "cells": [
  {
   "cell_type": "code",
   "execution_count": 1,
   "metadata": {},
   "outputs": [],
   "source": [
    "import numpy as np\n",
    "import pennylane as qml\n",
    "from qiskit.quantum_info import SparsePauliOp, Pauli\n",
    "from susy_qm import calculate_Hamiltonian, calculate_Hamiltonian2"
   ]
  },
  {
   "cell_type": "code",
   "execution_count": 5,
   "metadata": {},
   "outputs": [],
   "source": [
    "cutoff = 2\n",
    "potential = 'DW'\n",
    "H = calculate_Hamiltonian(cutoff, potential)"
   ]
  },
  {
   "cell_type": "code",
   "execution_count": 6,
   "metadata": {},
   "outputs": [
    {
     "data": {
      "text/plain": [
       "SparsePauliOp(['II', 'IX', 'ZI', 'ZX'],\n",
       "              coeffs=[1.625     +0.j, 1.06066017+0.j, 0.5       +0.j, 0.70710678+0.j])"
      ]
     },
     "execution_count": 6,
     "metadata": {},
     "output_type": "execute_result"
    }
   ],
   "source": [
    "SparsePauliOp.from_operator(H)"
   ]
  },
  {
   "cell_type": "code",
   "execution_count": 7,
   "metadata": {},
   "outputs": [
    {
     "data": {
      "text/plain": [
       "(\n",
       "    1.625 * (I(0) @ I(1))\n",
       "  + 1.0606601717798212 * (I(0) @ X(1))\n",
       "  + 0.5 * (Z(0) @ I(1))\n",
       "  + 0.7071067811865475 * (Z(0) @ X(1))\n",
       ")"
      ]
     },
     "execution_count": 7,
     "metadata": {},
     "output_type": "execute_result"
    }
   ],
   "source": [
    "qml.pauli_decompose(H)"
   ]
  },
  {
   "cell_type": "code",
   "execution_count": 18,
   "metadata": {},
   "outputs": [],
   "source": [
    "def pennylane_to_qiskit_sparse_pauliop(pl_hamiltonian, wire_order=None):\n",
    "    \"\"\"Convert a PennyLane Hamiltonian into a Qiskit SparsePauliOp with full precision.\"\"\"\n",
    "    if wire_order is None:\n",
    "        wire_order = sorted(pl_hamiltonian.wires.tolist())\n",
    "\n",
    "    pauli_labels = []\n",
    "    coeffs = []\n",
    "\n",
    "    for coeff, op in zip(pl_hamiltonian.coeffs, pl_hamiltonian.ops):\n",
    "        label = ['I'] * len(wire_order)\n",
    "\n",
    "        # Handle tensor products\n",
    "        ops = [op] if not hasattr(op, \"obs\") else op.obs\n",
    "        for subop in ops:\n",
    "            wire = subop.wires[0]\n",
    "            wire_index = wire_order.index(wire)\n",
    "            label[wire_index] = subop.name[-1].upper()  # ensure uppercase\n",
    "\n",
    "        pauli_labels.append(\"\".join(label))\n",
    "        coeffs.append(np.complex128(coeff))  # force high precision\n",
    "\n",
    "    return SparsePauliOp.from_list(list(zip(pauli_labels, coeffs)), dtype=np.complex128)"
   ]
  },
  {
   "cell_type": "code",
   "execution_count": 20,
   "metadata": {},
   "outputs": [
    {
     "data": {
      "text/plain": [
       "SparsePauliOp(['YYY', 'YXY', 'YXZ', 'YZY', 'YZZ', 'ZYY', 'ZXY', 'ZXZ', 'ZZY', 'ZZZ'],\n",
       "              coeffs=[10.3125    +0.j,  6.88222151+0.j, -1.8440857 +0.j, -4.0625    +0.j,\n",
       " -4.0625    +0.j,  2.75      +0.j,  1.44888874+0.j, -0.38822857+0.j,\n",
       " -0.75      +0.j, -0.75      +0.j])"
      ]
     },
     "execution_count": 20,
     "metadata": {},
     "output_type": "execute_result"
    }
   ],
   "source": [
    "pennylane_to_qiskit_sparse_pauliop(qml.pauli_decompose(H))"
   ]
  },
  {
   "cell_type": "code",
   "execution_count": 2,
   "metadata": {},
   "outputs": [],
   "source": [
    "cutoff = 4\n",
    "potential = 'DW'\n",
    "m=1\n",
    "g=1\n",
    "u=1"
   ]
  },
  {
   "cell_type": "code",
   "execution_count": 3,
   "metadata": {},
   "outputs": [],
   "source": [
    "#calculate Hamiltonian and expected eigenvalues\n",
    "H = calculate_Hamiltonian(cutoff, potential, m, g, u)\n",
    "eigenvalues = np.sort(np.linalg.eig(H)[0])[:4]"
   ]
  },
  {
   "cell_type": "code",
   "execution_count": 4,
   "metadata": {},
   "outputs": [
    {
     "data": {
      "text/plain": [
       "array([0.90655987, 0.95063353, 1.69566635, 1.83552815])"
      ]
     },
     "execution_count": 4,
     "metadata": {},
     "output_type": "execute_result"
    }
   ],
   "source": [
    "eigenvalues.real"
   ]
  },
  {
   "cell_type": "code",
   "execution_count": 5,
   "metadata": {},
   "outputs": [],
   "source": [
    "#calculate Hamiltonian and expected eigenvalues\n",
    "H = calculate_Hamiltonian2(cutoff, potential, m, g, u)\n",
    "eigenvalues = np.sort(np.linalg.eig(H)[0])[:4]"
   ]
  },
  {
   "cell_type": "code",
   "execution_count": 6,
   "metadata": {},
   "outputs": [
    {
     "data": {
      "text/plain": [
       "array([0.90655987, 0.95063353, 1.69566635, 1.83552815])"
      ]
     },
     "execution_count": 6,
     "metadata": {},
     "output_type": "execute_result"
    }
   ],
   "source": [
    "eigenvalues.real"
   ]
  },
  {
   "cell_type": "code",
   "execution_count": null,
   "metadata": {},
   "outputs": [],
   "source": []
  }
 ],
 "metadata": {
  "kernelspec": {
   "display_name": ".venv",
   "language": "python",
   "name": "python3"
  },
  "language_info": {
   "codemirror_mode": {
    "name": "ipython",
    "version": 3
   },
   "file_extension": ".py",
   "mimetype": "text/x-python",
   "name": "python",
   "nbconvert_exporter": "python",
   "pygments_lexer": "ipython3",
   "version": "3.13.1"
  }
 },
 "nbformat": 4,
 "nbformat_minor": 2
}
