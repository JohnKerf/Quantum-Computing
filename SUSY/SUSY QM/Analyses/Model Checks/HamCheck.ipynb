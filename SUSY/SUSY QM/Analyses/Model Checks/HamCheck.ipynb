{
 "cells": [
  {
   "cell_type": "code",
   "execution_count": 1,
   "metadata": {},
   "outputs": [],
   "source": [
    "import numpy as np\n",
    "import pennylane as qml\n",
    "from qiskit.quantum_info import SparsePauliOp, Pauli\n",
    "from susy_qm import calculate_Hamiltonian, calculate_Hamiltonian2"
   ]
  },
  {
   "cell_type": "code",
   "execution_count": 2,
   "metadata": {},
   "outputs": [],
   "source": [
    "cutoff = 2\n",
    "potential = 'QHO'\n",
    "H = calculate_Hamiltonian(cutoff, potential)"
   ]
  },
  {
   "cell_type": "code",
   "execution_count": 3,
   "metadata": {},
   "outputs": [
    {
     "name": "stdout",
     "output_type": "stream",
     "text": [
      "   1.000     0.000  |     0.000     0.000\n",
      "   0.000     1.000  |     0.000     0.000\n",
      "-------------------------\n",
      "   0.000     0.000  |     0.000     0.000\n",
      "   0.000     0.000  |     0.000     0.000\n"
     ]
    }
   ],
   "source": [
    "H_full = H.real\n",
    "\n",
    "# Format with block separator\n",
    "for i, row in enumerate(H_full):\n",
    "    left  = \"  \".join(f\"{v:8.3f}\" for v in row[:cutoff])\n",
    "    right = \"  \".join(f\"{v:8.3f}\" for v in row[cutoff:])\n",
    "    print(f\"{left}  |  {right}\")\n",
    "    if i == cutoff - 1:\n",
    "        print(\"-\" * (cutoff * 10 + 5))"
   ]
  },
  {
   "cell_type": "code",
   "execution_count": 4,
   "metadata": {},
   "outputs": [
    {
     "name": "stdout",
     "output_type": "stream",
     "text": [
      "   0.000     0.000  |  \n",
      "   0.000     0.000  |  \n",
      "-------------------------\n"
     ]
    }
   ],
   "source": [
    "H_sub1 = H[cutoff:, cutoff:]\n",
    "H_real1 = H_sub1.real\n",
    "\n",
    "# Format with block separator\n",
    "for i, row in enumerate(H_real1):\n",
    "    left  = \"  \".join(f\"{v:8.3f}\" for v in row[:cutoff])\n",
    "    right = \"  \".join(f\"{v:8.3f}\" for v in row[cutoff:])\n",
    "    print(f\"{left}  |  {right}\")\n",
    "    if i == cutoff - 1:\n",
    "        print(\"-\" * (cutoff * 10 + 5))"
   ]
  },
  {
   "cell_type": "code",
   "execution_count": 5,
   "metadata": {},
   "outputs": [
    {
     "name": "stdout",
     "output_type": "stream",
     "text": [
      "   1.000     0.000  |  \n",
      "   0.000     1.000  |  \n",
      "-------------------------\n"
     ]
    }
   ],
   "source": [
    "H_sub2 = H[:cutoff, :cutoff]\n",
    "H_real2 = H_sub2.real\n",
    "\n",
    "# Format with block separator\n",
    "for i, row in enumerate(H_real2):\n",
    "    left  = \"  \".join(f\"{v:8.3f}\" for v in row[:cutoff])\n",
    "    right = \"  \".join(f\"{v:8.3f}\" for v in row[cutoff:])\n",
    "    print(f\"{left}  |  {right}\")\n",
    "    if i == cutoff - 1:\n",
    "        print(\"-\" * (cutoff * 10 + 5))"
   ]
  },
  {
   "cell_type": "code",
   "execution_count": 6,
   "metadata": {},
   "outputs": [
    {
     "name": "stdout",
     "output_type": "stream",
     "text": [
      "E0(full)= 0.0   E0(block1)= 0.0   E0(block0)= 1.0\n"
     ]
    }
   ],
   "source": [
    "ef, _  = np.linalg.eigh(H_full)\n",
    "e1, _  = np.linalg.eigh(H_real1)\n",
    "e2, _  = np.linalg.eigh(H_real2)\n",
    "print(\"E0(full)=\", ef[0], \"  E0(block1)=\", e1[0], \"  E0(block0)=\", e2[0])"
   ]
  },
  {
   "cell_type": "code",
   "execution_count": 6,
   "metadata": {},
   "outputs": [
    {
     "data": {
      "text/plain": [
       "SparsePauliOp(['II', 'IX', 'ZI', 'ZX'],\n",
       "              coeffs=[1.625     +0.j, 1.06066017+0.j, 0.5       +0.j, 0.70710678+0.j])"
      ]
     },
     "execution_count": 6,
     "metadata": {},
     "output_type": "execute_result"
    }
   ],
   "source": [
    "SparsePauliOp.from_operator(H)"
   ]
  },
  {
   "cell_type": "code",
   "execution_count": 8,
   "metadata": {},
   "outputs": [
    {
     "data": {
      "text/plain": [
       "array([[0., 0.],\n",
       "       [0., 0.]])"
      ]
     },
     "execution_count": 8,
     "metadata": {},
     "output_type": "execute_result"
    }
   ],
   "source": [
    "H_real1"
   ]
  },
  {
   "cell_type": "code",
   "execution_count": 7,
   "metadata": {},
   "outputs": [
    {
     "ename": "ValueError",
     "evalue": "need at least one array to stack",
     "output_type": "error",
     "traceback": [
      "\u001b[1;31m---------------------------------------------------------------------------\u001b[0m",
      "\u001b[1;31mValueError\u001b[0m                                Traceback (most recent call last)",
      "Cell \u001b[1;32mIn[7], line 1\u001b[0m\n\u001b[1;32m----> 1\u001b[0m \u001b[43mqml\u001b[49m\u001b[38;5;241;43m.\u001b[39;49m\u001b[43mpauli_decompose\u001b[49m\u001b[43m(\u001b[49m\u001b[43mH_real1\u001b[49m\u001b[43m)\u001b[49m\n",
      "File \u001b[1;32mc:\\Users\\Johnk\\Documents\\PhD\\Quantum Computing Code\\Quantum-Computing\\.venv\\Lib\\site-packages\\pennylane\\pauli\\conversion.py:316\u001b[0m, in \u001b[0;36mpauli_decompose\u001b[1;34m(H, hide_identity, wire_order, pauli, check_hermitian)\u001b[0m\n\u001b[0;32m    313\u001b[0m     \u001b[38;5;28;01mif\u001b[39;00m \u001b[38;5;129;01mnot\u001b[39;00m is_abstract(H) \u001b[38;5;129;01mand\u001b[39;00m \u001b[38;5;129;01mnot\u001b[39;00m qml\u001b[38;5;241m.\u001b[39mmath\u001b[38;5;241m.\u001b[39mallclose(H, qml\u001b[38;5;241m.\u001b[39mmath\u001b[38;5;241m.\u001b[39mconj(qml\u001b[38;5;241m.\u001b[39mmath\u001b[38;5;241m.\u001b[39mtranspose(H))):\n\u001b[0;32m    314\u001b[0m         \u001b[38;5;28;01mraise\u001b[39;00m \u001b[38;5;167;01mValueError\u001b[39;00m(\u001b[38;5;124m\"\u001b[39m\u001b[38;5;124mThe matrix is not Hermitian\u001b[39m\u001b[38;5;124m\"\u001b[39m)\n\u001b[1;32m--> 316\u001b[0m coeffs, obs \u001b[38;5;241m=\u001b[39m \u001b[43m_generalized_pauli_decompose\u001b[49m\u001b[43m(\u001b[49m\n\u001b[0;32m    317\u001b[0m \u001b[43m    \u001b[49m\u001b[43mH\u001b[49m\u001b[43m,\u001b[49m\u001b[43m \u001b[49m\u001b[43mhide_identity\u001b[49m\u001b[38;5;241;43m=\u001b[39;49m\u001b[43mhide_identity\u001b[49m\u001b[43m,\u001b[49m\u001b[43m \u001b[49m\u001b[43mwire_order\u001b[49m\u001b[38;5;241;43m=\u001b[39;49m\u001b[43mwire_order\u001b[49m\u001b[43m,\u001b[49m\u001b[43m \u001b[49m\u001b[43mpauli\u001b[49m\u001b[38;5;241;43m=\u001b[39;49m\u001b[43mpauli\u001b[49m\u001b[43m,\u001b[49m\u001b[43m \u001b[49m\u001b[43mpadding\u001b[49m\u001b[38;5;241;43m=\u001b[39;49m\u001b[38;5;28;43;01mTrue\u001b[39;49;00m\n\u001b[0;32m    318\u001b[0m \u001b[43m\u001b[49m\u001b[43m)\u001b[49m\n\u001b[0;32m    320\u001b[0m \u001b[38;5;28;01mif\u001b[39;00m check_hermitian:\n\u001b[0;32m    321\u001b[0m     coeffs \u001b[38;5;241m=\u001b[39m qml\u001b[38;5;241m.\u001b[39mmath\u001b[38;5;241m.\u001b[39mreal(coeffs)\n",
      "File \u001b[1;32mc:\\Users\\Johnk\\Documents\\PhD\\Quantum Computing Code\\Quantum-Computing\\.venv\\Lib\\site-packages\\pennylane\\pauli\\conversion.py:210\u001b[0m, in \u001b[0;36m_generalized_pauli_decompose\u001b[1;34m(matrix, hide_identity, wire_order, pauli, padding)\u001b[0m\n\u001b[0;32m    207\u001b[0m         coeffs\u001b[38;5;241m.\u001b[39mappend(coefficient)\n\u001b[0;32m    208\u001b[0m         obs\u001b[38;5;241m.\u001b[39mappend(observables)\n\u001b[1;32m--> 210\u001b[0m coeffs \u001b[38;5;241m=\u001b[39m \u001b[43mqml\u001b[49m\u001b[38;5;241;43m.\u001b[39;49m\u001b[43mmath\u001b[49m\u001b[38;5;241;43m.\u001b[39;49m\u001b[43mstack\u001b[49m\u001b[43m(\u001b[49m\u001b[43mcoeffs\u001b[49m\u001b[43m)\u001b[49m\n\u001b[0;32m    212\u001b[0m \u001b[38;5;28;01mif\u001b[39;00m \u001b[38;5;129;01mnot\u001b[39;00m pauli:\n\u001b[0;32m    213\u001b[0m     \u001b[38;5;28;01mwith\u001b[39;00m qml\u001b[38;5;241m.\u001b[39mQueuingManager\u001b[38;5;241m.\u001b[39mstop_recording():\n",
      "File \u001b[1;32mc:\\Users\\Johnk\\Documents\\PhD\\Quantum Computing Code\\Quantum-Computing\\.venv\\Lib\\site-packages\\pennylane\\math\\multi_dispatch.py:153\u001b[0m, in \u001b[0;36mmulti_dispatch.<locals>.decorator.<locals>.wrapper\u001b[1;34m(*args, **kwargs)\u001b[0m\n\u001b[0;32m    150\u001b[0m interface \u001b[38;5;241m=\u001b[39m interface \u001b[38;5;129;01mor\u001b[39;00m get_interface(\u001b[38;5;241m*\u001b[39mdispatch_args)\n\u001b[0;32m    151\u001b[0m kwargs[\u001b[38;5;124m\"\u001b[39m\u001b[38;5;124mlike\u001b[39m\u001b[38;5;124m\"\u001b[39m] \u001b[38;5;241m=\u001b[39m interface\n\u001b[1;32m--> 153\u001b[0m \u001b[38;5;28;01mreturn\u001b[39;00m \u001b[43mfn\u001b[49m\u001b[43m(\u001b[49m\u001b[38;5;241;43m*\u001b[39;49m\u001b[43margs\u001b[49m\u001b[43m,\u001b[49m\u001b[43m \u001b[49m\u001b[38;5;241;43m*\u001b[39;49m\u001b[38;5;241;43m*\u001b[39;49m\u001b[43mkwargs\u001b[49m\u001b[43m)\u001b[49m\n",
      "File \u001b[1;32mc:\\Users\\Johnk\\Documents\\PhD\\Quantum Computing Code\\Quantum-Computing\\.venv\\Lib\\site-packages\\pennylane\\math\\multi_dispatch.py:518\u001b[0m, in \u001b[0;36mstack\u001b[1;34m(values, axis, like)\u001b[0m\n\u001b[0;32m    489\u001b[0m \u001b[38;5;250m\u001b[39m\u001b[38;5;124;03m\"\"\"Stack a sequence of tensors along the specified axis.\u001b[39;00m\n\u001b[0;32m    490\u001b[0m \n\u001b[0;32m    491\u001b[0m \u001b[38;5;124;03m.. warning::\u001b[39;00m\n\u001b[1;32m   (...)\u001b[0m\n\u001b[0;32m    515\u001b[0m \u001b[38;5;124;03m       [5.00e+00, 8.00e+00, 1.01e+02]], dtype=float32)>\u001b[39;00m\n\u001b[0;32m    516\u001b[0m \u001b[38;5;124;03m\"\"\"\u001b[39;00m\n\u001b[0;32m    517\u001b[0m values \u001b[38;5;241m=\u001b[39m np\u001b[38;5;241m.\u001b[39mcoerce(values, like\u001b[38;5;241m=\u001b[39mlike)\n\u001b[1;32m--> 518\u001b[0m \u001b[38;5;28;01mreturn\u001b[39;00m \u001b[43mnp\u001b[49m\u001b[38;5;241;43m.\u001b[39;49m\u001b[43mstack\u001b[49m\u001b[43m(\u001b[49m\u001b[43mvalues\u001b[49m\u001b[43m,\u001b[49m\u001b[43m \u001b[49m\u001b[43maxis\u001b[49m\u001b[38;5;241;43m=\u001b[39;49m\u001b[43maxis\u001b[49m\u001b[43m,\u001b[49m\u001b[43m \u001b[49m\u001b[43mlike\u001b[49m\u001b[38;5;241;43m=\u001b[39;49m\u001b[43mlike\u001b[49m\u001b[43m)\u001b[49m\n",
      "File \u001b[1;32mc:\\Users\\Johnk\\Documents\\PhD\\Quantum Computing Code\\Quantum-Computing\\.venv\\Lib\\site-packages\\autoray\\autoray.py:81\u001b[0m, in \u001b[0;36mdo\u001b[1;34m(fn, like, *args, **kwargs)\u001b[0m\n\u001b[0;32m     79\u001b[0m backend \u001b[38;5;241m=\u001b[39m _choose_backend(fn, args, kwargs, like\u001b[38;5;241m=\u001b[39mlike)\n\u001b[0;32m     80\u001b[0m func \u001b[38;5;241m=\u001b[39m get_lib_fn(backend, fn)\n\u001b[1;32m---> 81\u001b[0m \u001b[38;5;28;01mreturn\u001b[39;00m \u001b[43mfunc\u001b[49m\u001b[43m(\u001b[49m\u001b[38;5;241;43m*\u001b[39;49m\u001b[43margs\u001b[49m\u001b[43m,\u001b[49m\u001b[43m \u001b[49m\u001b[38;5;241;43m*\u001b[39;49m\u001b[38;5;241;43m*\u001b[39;49m\u001b[43mkwargs\u001b[49m\u001b[43m)\u001b[49m\n",
      "File \u001b[1;32mc:\\Users\\Johnk\\Documents\\PhD\\Quantum Computing Code\\Quantum-Computing\\.venv\\Lib\\site-packages\\numpy\\_core\\shape_base.py:456\u001b[0m, in \u001b[0;36mstack\u001b[1;34m(arrays, axis, out, dtype, casting)\u001b[0m\n\u001b[0;32m    454\u001b[0m arrays \u001b[38;5;241m=\u001b[39m [asanyarray(arr) \u001b[38;5;28;01mfor\u001b[39;00m arr \u001b[38;5;129;01min\u001b[39;00m arrays]\n\u001b[0;32m    455\u001b[0m \u001b[38;5;28;01mif\u001b[39;00m \u001b[38;5;129;01mnot\u001b[39;00m arrays:\n\u001b[1;32m--> 456\u001b[0m     \u001b[38;5;28;01mraise\u001b[39;00m \u001b[38;5;167;01mValueError\u001b[39;00m(\u001b[38;5;124m'\u001b[39m\u001b[38;5;124mneed at least one array to stack\u001b[39m\u001b[38;5;124m'\u001b[39m)\n\u001b[0;32m    458\u001b[0m shapes \u001b[38;5;241m=\u001b[39m {arr\u001b[38;5;241m.\u001b[39mshape \u001b[38;5;28;01mfor\u001b[39;00m arr \u001b[38;5;129;01min\u001b[39;00m arrays}\n\u001b[0;32m    459\u001b[0m \u001b[38;5;28;01mif\u001b[39;00m \u001b[38;5;28mlen\u001b[39m(shapes) \u001b[38;5;241m!=\u001b[39m \u001b[38;5;241m1\u001b[39m:\n",
      "\u001b[1;31mValueError\u001b[0m: need at least one array to stack"
     ]
    }
   ],
   "source": [
    "qml.pauli_decompose(H_real1)"
   ]
  },
  {
   "cell_type": "code",
   "execution_count": 18,
   "metadata": {},
   "outputs": [],
   "source": [
    "def pennylane_to_qiskit_sparse_pauliop(pl_hamiltonian, wire_order=None):\n",
    "    \"\"\"Convert a PennyLane Hamiltonian into a Qiskit SparsePauliOp with full precision.\"\"\"\n",
    "    if wire_order is None:\n",
    "        wire_order = sorted(pl_hamiltonian.wires.tolist())\n",
    "\n",
    "    pauli_labels = []\n",
    "    coeffs = []\n",
    "\n",
    "    for coeff, op in zip(pl_hamiltonian.coeffs, pl_hamiltonian.ops):\n",
    "        label = ['I'] * len(wire_order)\n",
    "\n",
    "        # Handle tensor products\n",
    "        ops = [op] if not hasattr(op, \"obs\") else op.obs\n",
    "        for subop in ops:\n",
    "            wire = subop.wires[0]\n",
    "            wire_index = wire_order.index(wire)\n",
    "            label[wire_index] = subop.name[-1].upper()  # ensure uppercase\n",
    "\n",
    "        pauli_labels.append(\"\".join(label))\n",
    "        coeffs.append(np.complex128(coeff))  # force high precision\n",
    "\n",
    "    return SparsePauliOp.from_list(list(zip(pauli_labels, coeffs)), dtype=np.complex128)"
   ]
  },
  {
   "cell_type": "code",
   "execution_count": 20,
   "metadata": {},
   "outputs": [
    {
     "data": {
      "text/plain": [
       "SparsePauliOp(['YYY', 'YXY', 'YXZ', 'YZY', 'YZZ', 'ZYY', 'ZXY', 'ZXZ', 'ZZY', 'ZZZ'],\n",
       "              coeffs=[10.3125    +0.j,  6.88222151+0.j, -1.8440857 +0.j, -4.0625    +0.j,\n",
       " -4.0625    +0.j,  2.75      +0.j,  1.44888874+0.j, -0.38822857+0.j,\n",
       " -0.75      +0.j, -0.75      +0.j])"
      ]
     },
     "execution_count": 20,
     "metadata": {},
     "output_type": "execute_result"
    }
   ],
   "source": [
    "pennylane_to_qiskit_sparse_pauliop(qml.pauli_decompose(H))"
   ]
  },
  {
   "cell_type": "code",
   "execution_count": 2,
   "metadata": {},
   "outputs": [],
   "source": [
    "cutoff = 4\n",
    "potential = 'DW'\n",
    "m=1\n",
    "g=1\n",
    "u=1"
   ]
  },
  {
   "cell_type": "code",
   "execution_count": 3,
   "metadata": {},
   "outputs": [],
   "source": [
    "#calculate Hamiltonian and expected eigenvalues\n",
    "H = calculate_Hamiltonian(cutoff, potential, m, g, u)\n",
    "eigenvalues = np.sort(np.linalg.eig(H)[0])[:4]"
   ]
  },
  {
   "cell_type": "code",
   "execution_count": 4,
   "metadata": {},
   "outputs": [
    {
     "data": {
      "text/plain": [
       "array([0.90655987, 0.95063353, 1.69566635, 1.83552815])"
      ]
     },
     "execution_count": 4,
     "metadata": {},
     "output_type": "execute_result"
    }
   ],
   "source": [
    "eigenvalues.real"
   ]
  },
  {
   "cell_type": "code",
   "execution_count": 5,
   "metadata": {},
   "outputs": [],
   "source": [
    "#calculate Hamiltonian and expected eigenvalues\n",
    "H = calculate_Hamiltonian2(cutoff, potential, m, g, u)\n",
    "eigenvalues = np.sort(np.linalg.eig(H)[0])[:4]"
   ]
  },
  {
   "cell_type": "code",
   "execution_count": 6,
   "metadata": {},
   "outputs": [
    {
     "data": {
      "text/plain": [
       "array([0.90655987, 0.95063353, 1.69566635, 1.83552815])"
      ]
     },
     "execution_count": 6,
     "metadata": {},
     "output_type": "execute_result"
    }
   ],
   "source": [
    "eigenvalues.real"
   ]
  },
  {
   "cell_type": "code",
   "execution_count": null,
   "metadata": {},
   "outputs": [],
   "source": []
  }
 ],
 "metadata": {
  "kernelspec": {
   "display_name": ".venv",
   "language": "python",
   "name": "python3"
  },
  "language_info": {
   "codemirror_mode": {
    "name": "ipython",
    "version": 3
   },
   "file_extension": ".py",
   "mimetype": "text/x-python",
   "name": "python",
   "nbconvert_exporter": "python",
   "pygments_lexer": "ipython3",
   "version": "3.13.1"
  }
 },
 "nbformat": 4,
 "nbformat_minor": 2
}
