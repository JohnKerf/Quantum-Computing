{
 "cells": [
  {
   "cell_type": "code",
   "execution_count": 4,
   "metadata": {},
   "outputs": [],
   "source": [
    "import numpy as np\n",
    "import pandas as pd\n",
    "import pennylane as qml\n",
    "from susy_qm import calculate_Hamiltonian\n",
    "from qiskit.quantum_info import SparsePauliOp\n",
    "import itertools\n",
    "\n",
    "from qutip import basis, tensor, ket2dm, ptrace, entropy_vn, concurrence\n",
    "\n",
    "import matplotlib.pyplot as plt\n",
    "import matplotlib.ticker as ticker"
   ]
  },
  {
   "cell_type": "code",
   "execution_count": 3,
   "metadata": {},
   "outputs": [
    {
     "name": "stdout",
     "output_type": "stream",
     "text": [
      "Entropy of qubit 0:        1.0\n",
      "Entropy of qubits 0 and 1: 1.000000000000001\n",
      "Entropy of full system:    4.273437083297453e-15\n"
     ]
    }
   ],
   "source": [
    "# Step 1: Define the |000⟩ and |111⟩ basis states\n",
    "zero = basis(2, 0)\n",
    "one  = basis(2, 1)\n",
    "\n",
    "# Tensor products for |000⟩ and |111⟩\n",
    "ket_000 = tensor(zero, zero, zero)\n",
    "ket_111 = tensor(one, one, one)\n",
    "\n",
    "# Step 2: Construct GHZ state: (|000⟩ + |111⟩)/√2\n",
    "ghz_state = (ket_000 + ket_111).unit()  # normalize the state\n",
    "\n",
    "# Step 3: Convert to density matrix\n",
    "rho = ket2dm(ghz_state)\n",
    "\n",
    "# Step 4: Partial traces and entropies\n",
    "rho0 = ptrace(rho, 0)\n",
    "rho01 = ptrace(rho, [0, 1])\n",
    "\n",
    "# Entropies\n",
    "S0 = entropy_vn(rho0, base=2)\n",
    "S01 = entropy_vn(rho01, base=2)\n",
    "Sfull = entropy_vn(rho, base=2)  # should be zero (pure state)\n",
    "\n",
    "# Display results\n",
    "print(f\"Entropy of qubit 0:        {S0}\")\n",
    "print(f\"Entropy of qubits 0 and 1: {S01}\")\n",
    "print(f\"Entropy of full system:    {Sfull}\")\n"
   ]
  },
  {
   "cell_type": "code",
   "execution_count": 6,
   "metadata": {},
   "outputs": [
    {
     "name": "stdout",
     "output_type": "stream",
     "text": [
      "Concurrence between qubits 0 and 1: 0.0\n",
      "Concurrence between qubits 0 and 2: 0.0\n",
      "Concurrence between qubits 1 and 2: 0.0\n"
     ]
    }
   ],
   "source": [
    "# Step 1: Construct |000⟩ and |111⟩\n",
    "zero = basis(2, 0)\n",
    "one = basis(2, 1)\n",
    "\n",
    "ket_000 = tensor(zero, zero, zero)\n",
    "ket_111 = tensor(one, one, one)\n",
    "\n",
    "# Step 2: Create the GHZ state\n",
    "ghz = (ket_000 + ket_111).unit()\n",
    "\n",
    "# Step 3: Create density matrix\n",
    "rho = ket2dm(ghz)\n",
    "\n",
    "# Step 4: Compute concurrence between pairs\n",
    "pairs = [(0, 1), (0, 2), (1, 2)]\n",
    "for q1, q2 in pairs:\n",
    "    # Partial trace to keep only qubits q1 and q2\n",
    "    reduced_rho = ptrace(rho, [q1, q2])\n",
    "    \n",
    "    # Compute concurrence\n",
    "    c = concurrence(reduced_rho)\n",
    "    print(f\"Concurrence between qubits {q1} and {q2}: {c}\")\n"
   ]
  },
  {
   "cell_type": "code",
   "execution_count": null,
   "metadata": {},
   "outputs": [],
   "source": []
  }
 ],
 "metadata": {
  "kernelspec": {
   "display_name": ".venv",
   "language": "python",
   "name": "python3"
  },
  "language_info": {
   "codemirror_mode": {
    "name": "ipython",
    "version": 3
   },
   "file_extension": ".py",
   "mimetype": "text/x-python",
   "name": "python",
   "nbconvert_exporter": "python",
   "pygments_lexer": "ipython3",
   "version": "3.13.1"
  }
 },
 "nbformat": 4,
 "nbformat_minor": 2
}
