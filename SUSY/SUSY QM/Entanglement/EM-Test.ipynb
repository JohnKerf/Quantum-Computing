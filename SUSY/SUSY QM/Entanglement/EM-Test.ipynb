{
 "cells": [
  {
   "cell_type": "code",
   "execution_count": 1,
   "metadata": {},
   "outputs": [],
   "source": [
    "# Needed to convert the Hamiltonian into pauli gates\n",
    "from qiskit.quantum_info import SparsePauliOp\n",
    "\n",
    "#Packages for numerical calculation\n",
    "import statistics\n",
    "import numpy as np\n",
    "\n",
    "import scipy as sp\n",
    "\n",
    "#For eigenvalues and eigenvectors\n",
    "from numpy import linalg\n",
    "\n",
    "from scipy.sparse import lil_matrix"
   ]
  },
  {
   "cell_type": "code",
   "execution_count": 2,
   "metadata": {},
   "outputs": [
    {
     "name": "stdout",
     "output_type": "stream",
     "text": [
      "SparsePauliOp(['II', 'XX', 'YY', 'ZZ'],\n",
      "              coeffs=[ 0.5+0.j, -0.5+0.j,  0.5-0.j, -0.5+0.j])\n",
      "Number of qubits:  2\n",
      "Number of pauli strings:  4\n"
     ]
    }
   ],
   "source": [
    "# Parameters for the construction of the Hamiltonian\n",
    "N_qubits = 2                           # Chose the number of qubits\n",
    "\n",
    "# Function to display a list as a string in a compact format, ensuring it doesn't break across multiple lines\n",
    "def display_nicely_list(list):\n",
    "    #set the number of decimals retained\n",
    "    decimals = 6\n",
    "    zero_chop_limit = 1e-8\n",
    "   \n",
    "    return \"[ \" + \", \".join(\"0\" if x == 0 or abs(x)<= zero_chop_limit else f\"{x:.{decimals}f}\" for x in list) + \" ]\"\n",
    "\n",
    "#======================================================================================================================\n",
    "\n",
    "def sparse_ghz_state(n_qubits):\n",
    "\n",
    "    # Size of the state\n",
    "    state_size = 2**n_qubits\n",
    "   \n",
    "    # Create a sparse state_vector with only non-zero elements\n",
    "    # Create an empty sparse row vector\n",
    "    state_vector = lil_matrix((1, state_size))  \n",
    "   \n",
    "    # Set the amplitudes for non-zero element\n",
    "    state_vector[0, 0] = 1/np.sqrt(2)  # |000...0>\n",
    "    state_vector[0, state_size-1] = 1/np.sqrt(2)  # |111...1>\n",
    "   \n",
    "    return state_vector\n",
    "#======================================================================================================================\n",
    "\n",
    "# Hamiltonian having the bell state |Φ+> = 1 / np.sqrt(2) [|0...0> + |1...1>]  as ground state  \n",
    "\n",
    "# Identity operator for a N-qubit system\n",
    "I_n_qubit =sp.sparse.eye(2**N_qubits)\n",
    "\n",
    "Hbell = I_n_qubit.toarray() -2 * np.outer(sparse_ghz_state(N_qubits).toarray(), np.conj(sparse_ghz_state(N_qubits)).toarray())\n",
    "\n",
    "Hbell_op = SparsePauliOp.from_operator(Hbell, atol = 1e-8)\n",
    "\n",
    "N_qubits = Hbell_op.num_qubits\n",
    "\n",
    "N_paulis = Hbell_op.size\n",
    "\n",
    "print(Hbell_op)\n",
    "print(\"Number of qubits: \", N_qubits)\n",
    "print(\"Number of pauli strings: \", N_paulis)"
   ]
  },
  {
   "cell_type": "code",
   "execution_count": 3,
   "metadata": {},
   "outputs": [
    {
     "name": "stdout",
     "output_type": "stream",
     "text": [
      "Eigenvalue and eigenvector\n",
      "-0.9999999999999996  [ 0.707107, 0, 0, 0.707107 ]\n",
      "1.0  [ 0.707107, 0, 0, -0.707107 ]\n",
      "1.0  [ 0, 1.000000, 0, 0 ]\n",
      "1.0  [ 0, 0, 1.000000, 0 ]\n"
     ]
    }
   ],
   "source": [
    "# Calculate the eigenvalue and eigenvetor and save the min eigenvalue\n",
    "eigenvalues, eigenVectors = np.linalg.eig(Hbell)\n",
    "   \n",
    "# Sort eigenvalues and eigenvectors\n",
    "# Sort eigenvalues indices in ascending order (min to max) [for descending use np.argsort(eigenvalues)[::-1] ]\n",
    "sorted_idx = np.argsort(eigenvalues)\n",
    "\n",
    "sorted_eigenvalues = eigenvalues.real[sorted_idx]\n",
    "#sorting the eigenVectors by reordering the columns of eigenvectors array\n",
    "sorted_eigenVectors = eigenVectors.real[:, sorted_idx]  \n",
    "\n",
    "#keep in mind that the eigenvectors are the columns of eigenVectors array\n",
    "ground_state = sorted_eigenVectors[:,0]\n",
    "\n",
    "#Print the first n_energy_states exact eigenstates\n",
    "print(\"Eigenvalue and eigenvector\")\n",
    "for i in range (4):\n",
    "    print(sorted_eigenvalues[i],\" \" + display_nicely_list(sorted_eigenVectors[:,i]))"
   ]
  },
  {
   "cell_type": "code",
   "execution_count": 14,
   "metadata": {},
   "outputs": [
    {
     "data": {
      "text/plain": [
       "array([[ 0.70710678,  0.70710678,  0.        ,  0.        ],\n",
       "       [ 0.        ,  0.        ,  1.        ,  0.        ],\n",
       "       [ 0.        ,  0.        ,  0.        ,  1.        ],\n",
       "       [-0.70710678,  0.70710678,  0.        ,  0.        ]])"
      ]
     },
     "execution_count": 14,
     "metadata": {},
     "output_type": "execute_result"
    }
   ],
   "source": [
    "eigenVectors"
   ]
  },
  {
   "cell_type": "code",
   "execution_count": 12,
   "metadata": {},
   "outputs": [
    {
     "name": "stdout",
     "output_type": "stream",
     "text": [
      "Reduced density matrix for system A:\n",
      " [[1. 0.]\n",
      " [0. 0.]]\n",
      "2.220446049250313e-16\n",
      "[[0.70710678 0.70710678]\n",
      " [0.         0.        ]]\n",
      "[[1. 0.]\n",
      " [0. 1.]]\n",
      "[1. 0.]\n",
      "[[ 0.70710678  0.70710678]\n",
      " [-0.70710678  0.70710678]]\n",
      "[1. 0.]\n",
      "Entanglement entropy: -0.0\n"
     ]
    }
   ],
   "source": [
    "psi = sorted_eigenVectors[0].reshape(2, 2)\n",
    "rho_A = psi @ psi.conjugate().T\n",
    "print(\"Reduced density matrix for system A:\\n\", rho_A)\n",
    "vals, _ = np.linalg.eig(rho_A)\n",
    "# Ensure numerical stability by considering only positive eigenvalues.\n",
    "vals = vals[vals > 0]\n",
    "entropy = -np.sum(vals * np.log(vals))\n",
    "print(entropy)\n",
    "\n",
    "\n",
    "print(psi)\n",
    "\n",
    "U, s, Vh = np.linalg.svd(psi, full_matrices=False)\n",
    "print(U)\n",
    "print(s)\n",
    "print(Vh)\n",
    "\n",
    "p = s**2\n",
    "\n",
    "print(p)\n",
    "entropy = -np.sum(p[p > 0] * np.log2(p[p > 0]))\n",
    "print(\"Entanglement entropy:\", entropy)\n"
   ]
  },
  {
   "cell_type": "code",
   "execution_count": null,
   "metadata": {},
   "outputs": [],
   "source": []
  }
 ],
 "metadata": {
  "kernelspec": {
   "display_name": ".venv",
   "language": "python",
   "name": "python3"
  },
  "language_info": {
   "codemirror_mode": {
    "name": "ipython",
    "version": 3
   },
   "file_extension": ".py",
   "mimetype": "text/x-python",
   "name": "python",
   "nbconvert_exporter": "python",
   "pygments_lexer": "ipython3",
   "version": "3.13.1"
  }
 },
 "nbformat": 4,
 "nbformat_minor": 2
}
