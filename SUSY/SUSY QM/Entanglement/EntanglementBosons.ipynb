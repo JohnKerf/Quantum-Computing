{
 "cells": [
  {
   "cell_type": "code",
   "execution_count": 196,
   "metadata": {},
   "outputs": [],
   "source": [
    "import numpy as np\n",
    "import pandas as pd\n",
    "import pennylane as qml\n",
    "from susy_qm import calculate_Hamiltonian\n",
    "from qiskit.quantum_info import SparsePauliOp\n",
    "import itertools"
   ]
  },
  {
   "cell_type": "code",
   "execution_count": 153,
   "metadata": {},
   "outputs": [],
   "source": [
    "potential = 'DW'\n",
    "cutoff = 16"
   ]
  },
  {
   "cell_type": "code",
   "execution_count": 154,
   "metadata": {},
   "outputs": [],
   "source": [
    "#calculate Hamiltonian and expected eigenvalues\n",
    "H = calculate_Hamiltonian(cutoff, potential)\n",
    "\n",
    "eigenvalues, eigenvectors = np.linalg.eig(H)\n",
    "min_index = np.argmin(eigenvalues)\n",
    "min_eigenvalue = eigenvalues[min_index]\n",
    "min_eigenvector = np.asarray(eigenvectors[:, min_index])\n",
    "\n",
    "min_3_ev = eigenvalues.argsort()[:3]\n",
    "\n",
    "hamiltonian = SparsePauliOp.from_operator(H)\n",
    "num_qubits = hamiltonian.num_qubits"
   ]
  },
  {
   "cell_type": "code",
   "execution_count": 155,
   "metadata": {},
   "outputs": [
    {
     "data": {
      "text/plain": [
       "5"
      ]
     },
     "execution_count": 155,
     "metadata": {},
     "output_type": "execute_result"
    }
   ],
   "source": [
    "num_qubits"
   ]
  },
  {
   "cell_type": "code",
   "execution_count": 156,
   "metadata": {},
   "outputs": [
    {
     "name": "stdout",
     "output_type": "stream",
     "text": [
      "Entanglement entropy: 0.22875453169663273\n"
     ]
    }
   ],
   "source": [
    "eig_vec = np.asarray(eigenvectors[:, min_3_ev[0]])\n",
    "mat = eig_vec.reshape(2,cutoff)\n",
    "mat = eig_vec.reshape([2]*num_qubits)\n",
    "#mat = eig_vec.reshape(2,12)\n",
    "#mat = eig_vec.reshape(8,4)\n",
    "\n",
    "U, s, Vh = np.linalg.svd(mat, full_matrices=False)\n",
    "p = s**2\n",
    "\n",
    "entropy = -np.sum(p[p > 0] * np.log2(p[p > 0]))\n",
    "print(\"Entanglement entropy:\", entropy)"
   ]
  },
  {
   "cell_type": "code",
   "execution_count": null,
   "metadata": {},
   "outputs": [],
   "source": []
  },
  {
   "cell_type": "code",
   "execution_count": null,
   "metadata": {},
   "outputs": [],
   "source": []
  },
  {
   "cell_type": "code",
   "execution_count": 200,
   "metadata": {},
   "outputs": [
    {
     "name": "stdout",
     "output_type": "stream",
     "text": [
      "Running for cutoff: 8\n",
      "Entanglement entropy for (0, slice(None, None, None), slice(None, None, None)): -0.0\n",
      "Entanglement entropy for (slice(None, None, None), 0, slice(None, None, None)): -0.0\n",
      "Entanglement entropy for (slice(None, None, None), slice(None, None, None), 0): -0.0\n",
      "Running for cutoff: 16\n",
      "Entanglement entropy for (0, slice(None, None, None), slice(None, None, None), slice(None, None, None)): 0.1200287221113785\n",
      "Entanglement entropy for (slice(None, None, None), 0, slice(None, None, None), slice(None, None, None)): 0.02464488830480452\n",
      "Entanglement entropy for (slice(None, None, None), slice(None, None, None), 0, slice(None, None, None)): 0.14208918956879632\n",
      "Entanglement entropy for (slice(None, None, None), slice(None, None, None), slice(None, None, None), 0): 0.0016293432855661997\n",
      "Running for cutoff: 32\n",
      "Entanglement entropy for (0, slice(None, None, None), slice(None, None, None), slice(None, None, None), slice(None, None, None)): 0.6311436026286741\n",
      "Entanglement entropy for (slice(None, None, None), 0, slice(None, None, None), slice(None, None, None), slice(None, None, None)): 0.9430564264516967\n",
      "Entanglement entropy for (slice(None, None, None), slice(None, None, None), 0, slice(None, None, None), slice(None, None, None)): 0.9744724819168736\n",
      "Entanglement entropy for (slice(None, None, None), slice(None, None, None), slice(None, None, None), 0, slice(None, None, None)): 1.160948084395152\n",
      "Entanglement entropy for (slice(None, None, None), slice(None, None, None), slice(None, None, None), slice(None, None, None), 0): 4.304897588849069e-25\n"
     ]
    }
   ],
   "source": [
    "potential = 'AHO'\n",
    "cutoffs = [8, 16, 32]\n",
    "\n",
    "for cutoff in cutoffs:\n",
    "\n",
    "    print(f\"Running for cutoff: {cutoff}\")\n",
    "\n",
    "    #calculate Hamiltonian and expected eigenvalues\n",
    "    H = calculate_Hamiltonian(cutoff, potential)\n",
    "\n",
    "    eigenvalues, eigenvectors = np.linalg.eig(H)\n",
    "    min_index = np.argmin(eigenvalues)\n",
    "    min_eigenvalue = eigenvalues[min_index]\n",
    "    min_eigenvector = np.asarray(eigenvectors[:, min_index])\n",
    "\n",
    "    hamiltonian = SparsePauliOp.from_operator(H)\n",
    "    num_qubits = hamiltonian.num_qubits\n",
    "\n",
    "    eig_vec = np.asarray(eigenvectors[:, min_3_ev[0]])\n",
    "    psi_full = eig_vec.reshape(2, cutoff)\n",
    "    psi_b = psi_full[0]\n",
    "\n",
    "    psi_b_tensor = psi_b.reshape([2]*(num_qubits-1))\n",
    "\n",
    "    n = psi_b_tensor.ndim\n",
    "    positions = range(n)\n",
    "    result = []\n",
    "\n",
    "    for pos in itertools.combinations(positions, 1):\n",
    "        perm = ['a'] * n\n",
    "        perm[pos[0]] = 0\n",
    "        result.append(perm)\n",
    "\n",
    "    for i in range(len(result)):\n",
    "        index_tuple = tuple()\n",
    "        for idx in result[i]:\n",
    "            if idx == 0:\n",
    "                index_tuple += (0,)\n",
    "\n",
    "            else:\n",
    "                index_tuple += (slice(None),)\n",
    "\n",
    "        psi_b1b2 = psi_b_tensor[index_tuple]\n",
    "\n",
    "        U, s, Vh = np.linalg.svd(psi_b1b2, full_matrices=False)\n",
    "        p = s**2\n",
    "\n",
    "        # Compute the von Neumann entropy (entanglement entropy) for the bipartition between b1 and b2.\n",
    "        entropy = -np.sum(p[p > 0] * np.log2(p[p > 0]))\n",
    "        print(f\"Entanglement entropy for {index_tuple}:\", entropy)\n"
   ]
  },
  {
   "cell_type": "code",
   "execution_count": null,
   "metadata": {},
   "outputs": [],
   "source": []
  },
  {
   "cell_type": "code",
   "execution_count": null,
   "metadata": {},
   "outputs": [],
   "source": []
  },
  {
   "cell_type": "code",
   "execution_count": null,
   "metadata": {},
   "outputs": [],
   "source": []
  },
  {
   "cell_type": "code",
   "execution_count": 187,
   "metadata": {},
   "outputs": [
    {
     "name": "stdout",
     "output_type": "stream",
     "text": [
      "Entanglement entropy between bosonic qubits b1 and b2: 0.22685705444233492\n"
     ]
    }
   ],
   "source": [
    "eig_vec = np.asarray(eigenvectors[:, min_3_ev[0]])\n",
    "psi_full = eig_vec.reshape(2, cutoff)\n",
    "#psi_full\n",
    "psi_b = psi_full[0]\n",
    "#psi_b\n",
    "\n",
    "psi_b_tensor = psi_b.reshape([2]*(num_qubits-1))\n",
    "#psi_b_tensor\n",
    "\n",
    "#psi_b1b2 = psi_b_tensor[:, 0, :, :]\n",
    "index_tuple = (0,) + (slice(None),) * (psi_b_tensor.ndim - 1)\n",
    "psi_b1b2 = psi_b_tensor[index_tuple]\n",
    "\n",
    "#psi_b1b2\n",
    "\n",
    "U, s, Vh = np.linalg.svd(psi_b1b2, full_matrices=False)\n",
    "p = s**2\n",
    "\n",
    "# Compute the von Neumann entropy (entanglement entropy) for the bipartition between b1 and b2.\n",
    "entropy = -np.sum(p[p > 0] * np.log2(p[p > 0]))\n",
    "print(\"Entanglement entropy between bosonic qubits b1 and b2:\", entropy)\n"
   ]
  },
  {
   "cell_type": "code",
   "execution_count": 160,
   "metadata": {},
   "outputs": [
    {
     "name": "stdout",
     "output_type": "stream",
     "text": [
      "Entanglement entropy between bosonic qubits b1 and b2: 0.052561976971423154\n"
     ]
    }
   ],
   "source": [
    "eig_vec = np.asarray(eigenvectors[:, min_3_ev[0]])\n",
    "psi_full = eig_vec.reshape(2, cutoff)\n",
    "#psi_full\n",
    "psi_b = psi_full[0]\n",
    "#psi_b\n",
    "\n",
    "psi_b_tensor = psi_b.reshape([2]*(num_qubits-1))\n",
    "#psi_b_tensor\n",
    "\n",
    "psi_b1b2 = psi_b_tensor[:, :, 0, :]\n",
    "#psi_b1b2\n",
    "\n",
    "U, s, Vh = np.linalg.svd(psi_b1b2, full_matrices=False)\n",
    "p = s**2\n",
    "\n",
    "# Compute the von Neumann entropy (entanglement entropy) for the bipartition between b1 and b2.\n",
    "entropy = -np.sum(p[p > 0] * np.log2(p[p > 0]))\n",
    "print(\"Entanglement entropy between bosonic qubits b1 and b2:\", entropy)\n"
   ]
  },
  {
   "cell_type": "code",
   "execution_count": 161,
   "metadata": {},
   "outputs": [
    {
     "name": "stdout",
     "output_type": "stream",
     "text": [
      "Entanglement entropy between bosonic qubits b1 and b2: 0.4134903922073404\n"
     ]
    }
   ],
   "source": [
    "eig_vec = np.asarray(eigenvectors[:, min_3_ev[0]])\n",
    "psi_full = eig_vec.reshape(2, cutoff)\n",
    "#psi_full\n",
    "psi_b = psi_full[0]\n",
    "#psi_b\n",
    "\n",
    "psi_b_tensor = psi_b.reshape([2]*(num_qubits-1))\n",
    "#psi_b_tensor\n",
    "\n",
    "psi_b1b2 = psi_b_tensor[:, :, :, 0]\n",
    "#psi_b1b2\n",
    "\n",
    "U, s, Vh = np.linalg.svd(psi_b1b2, full_matrices=False)\n",
    "p = s**2\n",
    "\n",
    "# Compute the von Neumann entropy (entanglement entropy) for the bipartition between b1 and b2.\n",
    "entropy = -np.sum(p[p > 0] * np.log2(p[p > 0]))\n",
    "print(\"Entanglement entropy between bosonic qubits b1 and b2:\", entropy)\n"
   ]
  },
  {
   "cell_type": "code",
   "execution_count": null,
   "metadata": {},
   "outputs": [],
   "source": []
  },
  {
   "cell_type": "code",
   "execution_count": null,
   "metadata": {},
   "outputs": [],
   "source": []
  }
 ],
 "metadata": {
  "kernelspec": {
   "display_name": ".venv",
   "language": "python",
   "name": "python3"
  },
  "language_info": {
   "codemirror_mode": {
    "name": "ipython",
    "version": 3
   },
   "file_extension": ".py",
   "mimetype": "text/x-python",
   "name": "python",
   "nbconvert_exporter": "python",
   "pygments_lexer": "ipython3",
   "version": "3.13.1"
  }
 },
 "nbformat": 4,
 "nbformat_minor": 2
}
