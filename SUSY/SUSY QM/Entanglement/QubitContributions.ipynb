{
 "cells": [
  {
   "cell_type": "code",
   "execution_count": 1,
   "metadata": {},
   "outputs": [],
   "source": [
    "import numpy as np\n",
    "import pandas as pd\n",
    "import pennylane as qml\n",
    "from susy_qm import calculate_Hamiltonian\n",
    "from qiskit.quantum_info import SparsePauliOp\n",
    "import itertools\n",
    "\n",
    "from qutip import Qobj, concurrence, ptrace\n",
    "\n",
    "import matplotlib.pyplot as plt"
   ]
  },
  {
   "cell_type": "code",
   "execution_count": 117,
   "metadata": {},
   "outputs": [],
   "source": [
    "potential = 'QHO'\n",
    "cutoff = 4"
   ]
  },
  {
   "cell_type": "code",
   "execution_count": 118,
   "metadata": {},
   "outputs": [],
   "source": [
    "#calculate Hamiltonian and expected eigenvalues\n",
    "H = calculate_Hamiltonian(cutoff, potential)\n",
    "\n",
    "eigenvalues, eigenvectors = np.linalg.eig(H)\n",
    "min_index = np.argmin(eigenvalues)\n",
    "min_eigenvalue = eigenvalues[min_index]\n",
    "min_eigenvector = np.asarray(eigenvectors[:, min_index])\n",
    "\n",
    "min_3_ev = eigenvalues.argsort()[:3]\n",
    "\n",
    "hamiltonian = SparsePauliOp.from_operator(H)\n",
    "num_qubits = hamiltonian.num_qubits"
   ]
  },
  {
   "cell_type": "code",
   "execution_count": 119,
   "metadata": {},
   "outputs": [
    {
     "data": {
      "text/plain": [
       "array([[0.+0.j, 0.+0.j, 0.+0.j, 0.+0.j],\n",
       "       [1.+0.j, 0.+0.j, 0.+0.j, 0.+0.j]])"
      ]
     },
     "execution_count": 119,
     "metadata": {},
     "output_type": "execute_result"
    }
   ],
   "source": [
    "min_eigenvector.reshape(2,cutoff)"
   ]
  },
  {
   "cell_type": "code",
   "execution_count": 120,
   "metadata": {},
   "outputs": [
    {
     "data": {
      "text/plain": [
       "SparsePauliOp(['III', 'IZI', 'IZZ', 'ZII'],\n",
       "              coeffs=[ 1.5+0.j, -0.5+0.j, -0.5+0.j,  0.5+0.j])"
      ]
     },
     "execution_count": 120,
     "metadata": {},
     "output_type": "execute_result"
    }
   ],
   "source": [
    "hamiltonian"
   ]
  },
  {
   "cell_type": "code",
   "execution_count": 121,
   "metadata": {},
   "outputs": [],
   "source": [
    "hamiltonian = hamiltonian.to_list()\n",
    "#hamiltonian.append(('YII', (-1.0+0j)))"
   ]
  },
  {
   "cell_type": "code",
   "execution_count": 122,
   "metadata": {},
   "outputs": [
    {
     "data": {
      "text/plain": [
       "[('III', (1.5+0j)),\n",
       " ('IZI', (-0.5000000000000001+0j)),\n",
       " ('IZZ', (-0.5000000000000001+0j)),\n",
       " ('ZII', (0.5+0j))]"
      ]
     },
     "execution_count": 122,
     "metadata": {},
     "output_type": "execute_result"
    }
   ],
   "source": [
    "hamiltonian"
   ]
  },
  {
   "cell_type": "code",
   "execution_count": 123,
   "metadata": {},
   "outputs": [
    {
     "name": "stdout",
     "output_type": "stream",
     "text": [
      "Expectation value for term III : (1.5+0j)\n",
      "Expectation value for term IZI : (-0.5000000000000001+0j)\n",
      "Expectation value for term IZZ : (-0.5000000000000001+0j)\n",
      "Expectation value for term ZII : (-0.5+0j)\n"
     ]
    }
   ],
   "source": [
    "single_q_h = []\n",
    "total_e = 0\n",
    "for pauli_str, c in hamiltonian:\n",
    "    \n",
    "    qubits_involved = [idx for idx, op in enumerate(pauli_str) if op != 'I']\n",
    "    num_qubits = len(qubits_involved)\n",
    "\n",
    "    if num_qubits == 1:\n",
    "        single_q_h.append((pauli_str, c))\n",
    "             \n",
    "    op = SparsePauliOp(pauli_str, c)\n",
    "    op_matrix = op.to_matrix()\n",
    "    exp_val = np.vdot(min_eigenvector, op_matrix.dot(min_eigenvector))\n",
    "    total_e += exp_val\n",
    "    print(\"Expectation value for term\", pauli_str, \":\", exp_val)\n"
   ]
  },
  {
   "cell_type": "code",
   "execution_count": 114,
   "metadata": {},
   "outputs": [
    {
     "data": {
      "text/plain": [
       "np.complex128(2.7755575615628914e-16+0j)"
      ]
     },
     "execution_count": 114,
     "metadata": {},
     "output_type": "execute_result"
    }
   ],
   "source": [
    "total_e"
   ]
  },
  {
   "cell_type": "code",
   "execution_count": null,
   "metadata": {},
   "outputs": [],
   "source": [
    "import numpy as np\n",
    "from qiskit.quantum_info.operators import SparsePauliOp\n",
    "\n",
    "# Define your SparsePauliOp (using your provided pauli strings and coefficients)\n",
    "paulis = ['III', 'IIX', 'IXI', 'IXX', 'IXZ', 'IYY', 'IZI', 'IZX', 'IZZ', 'ZII', 'ZIX', 'ZXX', 'ZYY', 'ZZX']\n",
    "coeffs = [5.375, 3.027187, 2.41481457, 2.4330127,\n",
    "          -0.64704761, 1.5669873, -1.75, -1.25942005,\n",
    "          -1.75, 0.5, 0.96592583, 0.5, 0.5, -0.25881905]\n",
    "H_sparse = SparsePauliOp(paulis, coeffs=np.array(coeffs, dtype=complex))\n",
    "\n",
    "# Suppose you also have your eigenstate (as a numpy array of shape (8,))\n",
    "psi = np.array([0, 0, 0, 0, 0.96698015, -0.16164595, -0.18805279, 0.05878883], dtype=complex)\n",
    "\n",
    "# Calculate the expectation value for each term and group contributions:\n",
    "local_energy = [0, 0, 0]  # one for each qubit (0,1,2)\n",
    "for pauli_str, c in zip(paulis, coeffs):\n",
    "    # Identify indices of non-identity operators:\n",
    "    qubits_involved = [idx for idx, op in enumerate(pauli_str) if op != 'I']\n",
    "    \n",
    "    # Compute expectation value for this term:\n",
    "    # (Here, you would need to build the full operator corresponding to pauli_str,\n",
    "    #  then compute <psi| (c*operator) |psi>.)\n",
    "    # For illustration, assume exp_val holds the computed expectation value:\n",
    "    exp_val = ...  # compute expectation value for this term\n",
    "\n",
    "    # Distribute the contribution:\n",
    "    if len(qubits_involved) == 1:\n",
    "        # All of the energy goes to that qubit\n",
    "        local_energy[qubits_involved[0]] += exp_val\n",
    "    else:\n",
    "        # For interaction terms, split equally (or use another convention)\n",
    "        split_val = exp_val / len(qubits_involved)\n",
    "        for q in qubits_involved:\n",
    "            local_energy[q] += split_val\n",
    "\n",
    "print(\"Local energy contributions per qubit:\", local_energy)\n"
   ]
  }
 ],
 "metadata": {
  "kernelspec": {
   "display_name": ".venv",
   "language": "python",
   "name": "python3"
  },
  "language_info": {
   "codemirror_mode": {
    "name": "ipython",
    "version": 3
   },
   "file_extension": ".py",
   "mimetype": "text/x-python",
   "name": "python",
   "nbconvert_exporter": "python",
   "pygments_lexer": "ipython3",
   "version": "3.13.1"
  }
 },
 "nbformat": 4,
 "nbformat_minor": 2
}
