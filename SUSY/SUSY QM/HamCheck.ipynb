{
 "cells": [
  {
   "cell_type": "code",
   "execution_count": 10,
   "metadata": {},
   "outputs": [],
   "source": [
    "import numpy as np\n",
    "import pennylane as qml\n",
    "from qiskit.quantum_info import SparsePauliOp, Pauli\n",
    "from susy_qm import calculate_Hamiltonian, calculate_Hamiltonian2"
   ]
  },
  {
   "cell_type": "code",
   "execution_count": 27,
   "metadata": {},
   "outputs": [],
   "source": [
    "cutoff = 8\n",
    "potential = 'AHO'\n",
    "H = calculate_Hamiltonian(cutoff, potential)"
   ]
  },
  {
   "cell_type": "code",
   "execution_count": 28,
   "metadata": {},
   "outputs": [
    {
     "data": {
      "text/plain": [
       "SparsePauliOp(['IIII', 'IIXI', 'IIXZ', 'IIZI', 'IIZZ', 'IXII', 'IXIZ', 'IXXI', 'IXXZ', 'IXZI', 'IXZZ', 'IYYI', 'IYYZ', 'IZII', 'IZIZ', 'IZXI', 'IZXZ', 'IZZI', 'IZZZ', 'ZIII', 'ZIXI', 'ZIXZ', 'ZIZI', 'ZIZZ', 'ZXXI', 'ZXXZ', 'ZYYI', 'ZYYZ', 'ZZII', 'ZZIZ', 'ZZXI', 'ZZXZ', 'ZZZI', 'ZZZZ'],\n",
       "              coeffs=[ 1.13312500e+02+0.j,  8.81890635e+01+0.j, -7.15058155e-02+0.j,\n",
       " -9.06250000e+00+0.j, -2.50625000e+01+0.j,  2.80566466e+01+0.j,\n",
       " -6.76713867e+00+0.j,  4.21567483e+01+0.j, -1.41466758e+01+0.j,\n",
       " -1.65897126e+01+0.j,  1.11774278e+00+0.j,  3.90996929e+01-0.j,\n",
       " -1.27666714e+01+0.j, -8.05625000e+01+0.j, -1.38125000e+01+0.j,\n",
       " -7.40404151e+01+0.j, -7.97834659e+00+0.j, -1.66875000e+01+0.j,\n",
       "  3.40625000e+01+0.j,  5.75000000e+00+0.j,  2.96656305e+00+0.j,\n",
       " -3.82273369e-01+0.j, -7.50000000e-01+0.j, -7.50000000e-01+0.j,\n",
       "  1.48804454e+00+0.j, -1.89006439e-01+0.j,  1.48804454e+00-0.j,\n",
       " -1.89006439e-01+0.j, -2.25000000e+00+0.j, -7.50000000e-01+0.j,\n",
       " -1.51767431e+00+0.j, -5.95519820e-03+0.j, -7.50000000e-01+0.j,\n",
       "  7.50000000e-01+0.j])"
      ]
     },
     "execution_count": 28,
     "metadata": {},
     "output_type": "execute_result"
    }
   ],
   "source": [
    "SparsePauliOp.from_operator(H)"
   ]
  },
  {
   "cell_type": "code",
   "execution_count": 29,
   "metadata": {},
   "outputs": [
    {
     "data": {
      "text/plain": [
       "(\n",
       "    113.31249999999994 * (I(0) @ I(1) @ I(2) @ I(3))\n",
       "  + 88.18906352189643 * (I(0) @ I(1) @ X(2) @ I(3))\n",
       "  + -0.07150581550838098 * (I(0) @ I(1) @ X(2) @ Z(3))\n",
       "  + -9.062500000000004 * (I(0) @ I(1) @ Z(2) @ I(3))\n",
       "  + -25.06249999999999 * (I(0) @ I(1) @ Z(2) @ Z(3))\n",
       "  + 28.056646641385136 * (I(0) @ X(1) @ I(2) @ I(3))\n",
       "  + -6.767138672101423 * (I(0) @ X(1) @ I(2) @ Z(3))\n",
       "  + 42.156748329868826 * (I(0) @ X(1) @ X(2) @ I(3))\n",
       "  + -14.146675794569653 * (I(0) @ X(1) @ X(2) @ Z(3))\n",
       "  + -16.589712610811898 * (I(0) @ X(1) @ Z(2) @ I(3))\n",
       "  + 1.1177427806382285 * (I(0) @ X(1) @ Z(2) @ Z(3))\n",
       "  + 39.09969291964405 * (I(0) @ Y(1) @ Y(2) @ I(3))\n",
       "  + -12.76667136746972 * (I(0) @ Y(1) @ Y(2) @ Z(3))\n",
       "  + -80.56249999999994 * (I(0) @ Z(1) @ I(2) @ I(3))\n",
       "  + -13.8125 * (I(0) @ Z(1) @ I(2) @ Z(3))\n",
       "  + -74.04041513104318 * (I(0) @ Z(1) @ X(2) @ I(3))\n",
       "  + -7.978346587610893 * (I(0) @ Z(1) @ X(2) @ Z(3))\n",
       "  + -16.68749999999999 * (I(0) @ Z(1) @ Z(2) @ I(3))\n",
       "  + 34.062499999999986 * (I(0) @ Z(1) @ Z(2) @ Z(3))\n",
       "  + 5.75 * (Z(0) @ I(1) @ I(2) @ I(3))\n",
       "  + 2.966563045990456 * (Z(0) @ I(1) @ X(2) @ I(3))\n",
       "  + -0.38227336945617774 * (Z(0) @ I(1) @ X(2) @ Z(3))\n",
       "  + -0.75 * (Z(0) @ I(1) @ Z(2) @ I(3))\n",
       "  + -0.75 * (Z(0) @ I(1) @ Z(2) @ Z(3))\n",
       "  + 1.4880445444007506 * (Z(0) @ X(1) @ X(2) @ I(3))\n",
       "  + -0.18900643872409262 * (Z(0) @ X(1) @ X(2) @ Z(3))\n",
       "  + 1.4880445444007506 * (Z(0) @ Y(1) @ Y(2) @ I(3))\n",
       "  + -0.18900643872409262 * (Z(0) @ Y(1) @ Y(2) @ Z(3))\n",
       "  + -2.25 * (Z(0) @ Z(1) @ I(2) @ I(3))\n",
       "  + -0.75 * (Z(0) @ Z(1) @ I(2) @ Z(3))\n",
       "  + -1.5176743065568545 * (Z(0) @ Z(1) @ X(2) @ I(3))\n",
       "  + -0.005955198197602929 * (Z(0) @ Z(1) @ X(2) @ Z(3))\n",
       "  + -0.75 * (Z(0) @ Z(1) @ Z(2) @ I(3))\n",
       "  + 0.75 * (Z(0) @ Z(1) @ Z(2) @ Z(3))\n",
       ")"
      ]
     },
     "execution_count": 29,
     "metadata": {},
     "output_type": "execute_result"
    }
   ],
   "source": [
    "qml.pauli_decompose(H)"
   ]
  },
  {
   "cell_type": "code",
   "execution_count": 18,
   "metadata": {},
   "outputs": [],
   "source": [
    "def pennylane_to_qiskit_sparse_pauliop(pl_hamiltonian, wire_order=None):\n",
    "    \"\"\"Convert a PennyLane Hamiltonian into a Qiskit SparsePauliOp with full precision.\"\"\"\n",
    "    if wire_order is None:\n",
    "        wire_order = sorted(pl_hamiltonian.wires.tolist())\n",
    "\n",
    "    pauli_labels = []\n",
    "    coeffs = []\n",
    "\n",
    "    for coeff, op in zip(pl_hamiltonian.coeffs, pl_hamiltonian.ops):\n",
    "        label = ['I'] * len(wire_order)\n",
    "\n",
    "        # Handle tensor products\n",
    "        ops = [op] if not hasattr(op, \"obs\") else op.obs\n",
    "        for subop in ops:\n",
    "            wire = subop.wires[0]\n",
    "            wire_index = wire_order.index(wire)\n",
    "            label[wire_index] = subop.name[-1].upper()  # ensure uppercase\n",
    "\n",
    "        pauli_labels.append(\"\".join(label))\n",
    "        coeffs.append(np.complex128(coeff))  # force high precision\n",
    "\n",
    "    return SparsePauliOp.from_list(list(zip(pauli_labels, coeffs)), dtype=np.complex128)"
   ]
  },
  {
   "cell_type": "code",
   "execution_count": 20,
   "metadata": {},
   "outputs": [
    {
     "data": {
      "text/plain": [
       "SparsePauliOp(['YYY', 'YXY', 'YXZ', 'YZY', 'YZZ', 'ZYY', 'ZXY', 'ZXZ', 'ZZY', 'ZZZ'],\n",
       "              coeffs=[10.3125    +0.j,  6.88222151+0.j, -1.8440857 +0.j, -4.0625    +0.j,\n",
       " -4.0625    +0.j,  2.75      +0.j,  1.44888874+0.j, -0.38822857+0.j,\n",
       " -0.75      +0.j, -0.75      +0.j])"
      ]
     },
     "execution_count": 20,
     "metadata": {},
     "output_type": "execute_result"
    }
   ],
   "source": [
    "pennylane_to_qiskit_sparse_pauliop(qml.pauli_decompose(H))"
   ]
  },
  {
   "cell_type": "code",
   "execution_count": 2,
   "metadata": {},
   "outputs": [],
   "source": [
    "cutoff = 4\n",
    "potential = 'DW'\n",
    "m=1\n",
    "g=1\n",
    "u=1"
   ]
  },
  {
   "cell_type": "code",
   "execution_count": 3,
   "metadata": {},
   "outputs": [],
   "source": [
    "#calculate Hamiltonian and expected eigenvalues\n",
    "H = calculate_Hamiltonian(cutoff, potential, m, g, u)\n",
    "eigenvalues = np.sort(np.linalg.eig(H)[0])[:4]"
   ]
  },
  {
   "cell_type": "code",
   "execution_count": 4,
   "metadata": {},
   "outputs": [
    {
     "data": {
      "text/plain": [
       "array([0.90655987, 0.95063353, 1.69566635, 1.83552815])"
      ]
     },
     "execution_count": 4,
     "metadata": {},
     "output_type": "execute_result"
    }
   ],
   "source": [
    "eigenvalues.real"
   ]
  },
  {
   "cell_type": "code",
   "execution_count": 5,
   "metadata": {},
   "outputs": [],
   "source": [
    "#calculate Hamiltonian and expected eigenvalues\n",
    "H = calculate_Hamiltonian2(cutoff, potential, m, g, u)\n",
    "eigenvalues = np.sort(np.linalg.eig(H)[0])[:4]"
   ]
  },
  {
   "cell_type": "code",
   "execution_count": 6,
   "metadata": {},
   "outputs": [
    {
     "data": {
      "text/plain": [
       "array([0.90655987, 0.95063353, 1.69566635, 1.83552815])"
      ]
     },
     "execution_count": 6,
     "metadata": {},
     "output_type": "execute_result"
    }
   ],
   "source": [
    "eigenvalues.real"
   ]
  },
  {
   "cell_type": "code",
   "execution_count": null,
   "metadata": {},
   "outputs": [],
   "source": []
  }
 ],
 "metadata": {
  "kernelspec": {
   "display_name": ".venv",
   "language": "python",
   "name": "python3"
  },
  "language_info": {
   "codemirror_mode": {
    "name": "ipython",
    "version": 3
   },
   "file_extension": ".py",
   "mimetype": "text/x-python",
   "name": "python",
   "nbconvert_exporter": "python",
   "pygments_lexer": "ipython3",
   "version": "3.13.1"
  }
 },
 "nbformat": 4,
 "nbformat_minor": 2
}
