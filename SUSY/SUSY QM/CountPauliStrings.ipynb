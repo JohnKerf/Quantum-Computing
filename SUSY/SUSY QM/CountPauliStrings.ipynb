{
 "cells": [
  {
   "cell_type": "code",
   "execution_count": 1,
   "metadata": {},
   "outputs": [],
   "source": [
    "import numpy as np\n",
    "import pandas as pd\n",
    "from qiskit.quantum_info import SparsePauliOp\n",
    "import pennylane as qml"
   ]
  },
  {
   "cell_type": "code",
   "execution_count": 2,
   "metadata": {},
   "outputs": [],
   "source": [
    "def create_matrix(cut_off, type):\n",
    "    # Initialize a zero matrix of the specified size\n",
    "    matrix = np.zeros((cut_off, cut_off), dtype=np.complex128)\n",
    "    \n",
    "    # Fill the off-diagonal values with square roots of integers\n",
    "    for i in range(cut_off):\n",
    "        if i > 0:  # Fill left off-diagonal\n",
    "            if type == 'q':\n",
    "                matrix[i][i - 1] = (1/np.sqrt(2)) * np.sqrt(i)  # sqrt(i) for left off-diagonal\n",
    "            else:\n",
    "                matrix[i][i - 1] = (1j/np.sqrt(2)) * np.sqrt(i)\n",
    "\n",
    "        if i < cut_off - 1:  # Fill right off-diagonal\n",
    "            if type == 'q':\n",
    "                matrix[i][i + 1] = (1/np.sqrt(2)) * np.sqrt(i + 1)  # sqrt(i + 1) for right off-diagonal\n",
    "            else:\n",
    "                matrix[i][i + 1] = (-1j/np.sqrt(2)) * np.sqrt(i + 1)\n",
    "\n",
    "    return matrix\n"
   ]
  },
  {
   "cell_type": "code",
   "execution_count": 3,
   "metadata": {},
   "outputs": [],
   "source": [
    "# Function to calculate the Hamiltonian\n",
    "def calculate_Hamiltonian(cut_off, potential):\n",
    "    # Generate the position (q) and momentum (p) matrices\n",
    "    q = create_matrix(cut_off, 'q')  # q matrix\n",
    "    p = create_matrix(cut_off, 'p')  # p matrix\n",
    "\n",
    "    # Calculate q^2 and q^3 for potential terms\n",
    "    q2 = np.matmul(q, q)\n",
    "    q3 = np.matmul(q2, q)\n",
    "\n",
    "    #fermionic identity\n",
    "    I_f = np.eye(2)\n",
    "\n",
    "    #bosonic identity\n",
    "    I_b = np.eye(cut_off)\n",
    "\n",
    "    # Superpotential derivatives\n",
    "    if potential == 'QHO':\n",
    "        W_prime = q  # W'(q) = q\n",
    "        W_double_prime = I_b #W''(q) = 1\n",
    "\n",
    "    elif potential == 'AHO':\n",
    "        W_prime = q + q3  # W'(q) = q + q^3\n",
    "        W_double_prime = I_b + 3 * q2  # W''(q) = 1 + 3q^2\n",
    "\n",
    "    elif potential == 'DW':\n",
    "        W_prime = q + q2 + I_b  # W'(q) = q + q^2 + 1\n",
    "        W_double_prime = I_b + 2 * q  # W''(q) = 1 + 2q\n",
    "\n",
    "    else:\n",
    "        print(\"Not a valid potential\")\n",
    "        raise\n",
    "\n",
    "    # Kinetic term: p^2\n",
    "    p2 = np.matmul(p, p)\n",
    "\n",
    "    # Commutator term [b^†, b] = -Z\n",
    "    Z = np.array([[1, 0], [0, -1]])  # Pauli Z matrix for fermion number\n",
    "    commutator_term = np.kron(Z, W_double_prime)\n",
    "\n",
    "    # Construct the block-diagonal kinetic term (bosonic and fermionic parts)\n",
    "    # Bosonic part is the same for both, hence we use kron with the identity matrix\n",
    "    kinetic_term = np.kron(I_f, p2)\n",
    "\n",
    "    # Potential term (W' contribution)\n",
    "    potential_term = np.kron(I_f, np.matmul(W_prime, W_prime))\n",
    "\n",
    "    # Construct the full Hamiltonian\n",
    "    H_SQM = 0.5 * (kinetic_term + potential_term + commutator_term)\n",
    "    H_SQM[np.abs(H_SQM) < 10e-12] = 0\n",
    "    \n",
    "    return H_SQM"
   ]
  },
  {
   "cell_type": "code",
   "execution_count": 4,
   "metadata": {},
   "outputs": [],
   "source": [
    "data = {'cut_off':[],\n",
    "       'QHO': [],\n",
    "       'AHO': [],\n",
    "       'DW': []\n",
    "       }\n",
    "\n",
    "num_cut_offs = 10\n",
    "cut_off_list = [2**i for i in range(1, num_cut_offs + 1)]\n",
    "potential_list = ['QHO', 'AHO', 'DW']\n",
    "\n",
    "for cut_off in cut_off_list:\n",
    "    data['cut_off'].append(cut_off)\n",
    "\n",
    "    for potential in potential_list:\n",
    "\n",
    "        H = calculate_Hamiltonian(cut_off, potential)\n",
    "        H_pauli = SparsePauliOp.from_operator(H)\n",
    "\n",
    "        data[potential].append(H_pauli.size)"
   ]
  },
  {
   "cell_type": "code",
   "execution_count": 5,
   "metadata": {},
   "outputs": [
    {
     "data": {
      "text/plain": [
       "{'cut_off': [2, 4, 8, 16, 32, 64, 128, 256, 512, 1024],\n",
       " 'QHO': [2, 4, 8, 16, 32, 64, 128, 256, 512, 1024],\n",
       " 'AHO': [2, 10, 34, 102, 270, 670, 1548, 3496, 7486, 15534],\n",
       " 'DW': [4, 14, 48, 136, 352, 854, 1990, 4450, 9874, 21202]}"
      ]
     },
     "execution_count": 5,
     "metadata": {},
     "output_type": "execute_result"
    }
   ],
   "source": [
    "data"
   ]
  },
  {
   "cell_type": "code",
   "execution_count": 6,
   "metadata": {},
   "outputs": [],
   "source": [
    "pauli_df = pd.DataFrame(data).set_index('cut_off')"
   ]
  },
  {
   "cell_type": "code",
   "execution_count": 7,
   "metadata": {},
   "outputs": [
    {
     "data": {
      "text/html": [
       "<div>\n",
       "<style scoped>\n",
       "    .dataframe tbody tr th:only-of-type {\n",
       "        vertical-align: middle;\n",
       "    }\n",
       "\n",
       "    .dataframe tbody tr th {\n",
       "        vertical-align: top;\n",
       "    }\n",
       "\n",
       "    .dataframe thead th {\n",
       "        text-align: right;\n",
       "    }\n",
       "</style>\n",
       "<table border=\"1\" class=\"dataframe\">\n",
       "  <thead>\n",
       "    <tr style=\"text-align: right;\">\n",
       "      <th></th>\n",
       "      <th>QHO</th>\n",
       "      <th>AHO</th>\n",
       "      <th>DW</th>\n",
       "    </tr>\n",
       "    <tr>\n",
       "      <th>cut_off</th>\n",
       "      <th></th>\n",
       "      <th></th>\n",
       "      <th></th>\n",
       "    </tr>\n",
       "  </thead>\n",
       "  <tbody>\n",
       "    <tr>\n",
       "      <th>2</th>\n",
       "      <td>2</td>\n",
       "      <td>2</td>\n",
       "      <td>4</td>\n",
       "    </tr>\n",
       "    <tr>\n",
       "      <th>4</th>\n",
       "      <td>4</td>\n",
       "      <td>10</td>\n",
       "      <td>14</td>\n",
       "    </tr>\n",
       "    <tr>\n",
       "      <th>8</th>\n",
       "      <td>8</td>\n",
       "      <td>34</td>\n",
       "      <td>48</td>\n",
       "    </tr>\n",
       "    <tr>\n",
       "      <th>16</th>\n",
       "      <td>16</td>\n",
       "      <td>102</td>\n",
       "      <td>136</td>\n",
       "    </tr>\n",
       "    <tr>\n",
       "      <th>32</th>\n",
       "      <td>32</td>\n",
       "      <td>270</td>\n",
       "      <td>352</td>\n",
       "    </tr>\n",
       "    <tr>\n",
       "      <th>64</th>\n",
       "      <td>64</td>\n",
       "      <td>670</td>\n",
       "      <td>854</td>\n",
       "    </tr>\n",
       "    <tr>\n",
       "      <th>128</th>\n",
       "      <td>128</td>\n",
       "      <td>1548</td>\n",
       "      <td>1990</td>\n",
       "    </tr>\n",
       "    <tr>\n",
       "      <th>256</th>\n",
       "      <td>256</td>\n",
       "      <td>3496</td>\n",
       "      <td>4450</td>\n",
       "    </tr>\n",
       "    <tr>\n",
       "      <th>512</th>\n",
       "      <td>512</td>\n",
       "      <td>7486</td>\n",
       "      <td>9874</td>\n",
       "    </tr>\n",
       "    <tr>\n",
       "      <th>1024</th>\n",
       "      <td>1024</td>\n",
       "      <td>15534</td>\n",
       "      <td>21202</td>\n",
       "    </tr>\n",
       "  </tbody>\n",
       "</table>\n",
       "</div>"
      ],
      "text/plain": [
       "          QHO    AHO     DW\n",
       "cut_off                    \n",
       "2           2      2      4\n",
       "4           4     10     14\n",
       "8           8     34     48\n",
       "16         16    102    136\n",
       "32         32    270    352\n",
       "64         64    670    854\n",
       "128       128   1548   1990\n",
       "256       256   3496   4450\n",
       "512       512   7486   9874\n",
       "1024     1024  15534  21202"
      ]
     },
     "execution_count": 7,
     "metadata": {},
     "output_type": "execute_result"
    }
   ],
   "source": [
    "pauli_df"
   ]
  },
  {
   "cell_type": "code",
   "execution_count": 28,
   "metadata": {},
   "outputs": [
    {
     "data": {
      "text/plain": [
       "96"
      ]
     },
     "execution_count": 28,
     "metadata": {},
     "output_type": "execute_result"
    }
   ],
   "source": [
    "H = calculate_Hamiltonian(16, 'AHO')\n",
    "H_pauli = SparsePauliOp.from_operator(H)\n",
    "H_pauli.simplify(atol=1e-02).size"
   ]
  },
  {
   "cell_type": "code",
   "execution_count": 33,
   "metadata": {},
   "outputs": [
    {
     "data": {
      "text/plain": [
       "(\n",
       "    1075.3124999999995 * (I(0) @ I(1) @ I(2) @ I(3) @ I(4))\n",
       "  + 828.8468920554258 * (I(0) @ I(1) @ I(2) @ X(3) @ I(4))\n",
       "  + 18.43918637876135 * (I(0) @ I(1) @ I(2) @ X(3) @ Z(4))\n",
       "  + -19.06249999999997 * (I(0) @ I(1) @ I(2) @ Z(3) @ I(4))\n",
       "  + -115.06249999999997 * (I(0) @ I(1) @ I(2) @ Z(3) @ Z(4))\n",
       "  + 340.83168739458273 * (I(0) @ I(1) @ X(2) @ I(3) @ I(4))\n",
       "  + -24.758217586165927 * (I(0) @ I(1) @ X(2) @ I(3) @ Z(4))\n",
       "  + 492.29311898327876 * (I(0) @ I(1) @ X(2) @ X(3) @ I(4))\n",
       "  + -64.14382455023042 * (I(0) @ I(1) @ X(2) @ X(3) @ Z(4))\n",
       "  + -71.57612625320508 * (I(0) @ I(1) @ X(2) @ Z(3) @ I(4))\n",
       "  + -13.379429045558396 * (I(0) @ I(1) @ X(2) @ Z(3) @ Z(4))\n",
       "  + 438.1279732887981 * (I(0) @ I(1) @ Y(2) @ Y(3) @ I(4))\n",
       "  + -56.76809525271241 * (I(0) @ I(1) @ Y(2) @ Y(3) @ Z(4))\n",
       "  + -321.56249999999983 * (I(0) @ I(1) @ Z(2) @ I(3) @ I(4))\n",
       "  + -109.81249999999993 * (I(0) @ I(1) @ Z(2) @ I(3) @ Z(4))\n",
       "  + -296.51957069773084 * (I(0) @ I(1) @ Z(2) @ X(3) @ I(4))\n",
       "  + -97.98193376051758 * (I(0) @ I(1) @ Z(2) @ X(3) @ Z(4))\n",
       "  + -198.68749999999977 * (I(0) @ I(1) @ Z(2) @ Z(3) @ I(4))\n",
       "  + 139.0624999999999 * (I(0) @ I(1) @ Z(2) @ Z(3) @ Z(4))\n",
       "  + 18.086712411118064 * (I(0) @ X(1) @ I(2) @ X(3) @ I(4))\n",
       "  + -3.1236983914808922 * (I(0) @ X(1) @ I(2) @ X(3) @ Z(4))\n",
       "  + 107.7367186701473 * (I(0) @ X(1) @ X(2) @ I(3) @ I(4))\n",
       "  + -19.1884657234161 * (I(0) @ X(1) @ X(2) @ I(3) @ Z(4))\n",
       "  + 146.15005648558466 * (I(0) @ X(1) @ X(2) @ X(3) @ I(4))\n",
       "  + -26.070738577558764 * (I(0) @ X(1) @ X(2) @ X(3) @ Z(4))\n",
       "  + -38.09562428922412 * (I(0) @ X(1) @ X(2) @ Z(3) @ I(4))\n",
       "  + 4.6247317095257365 * (I(0) @ X(1) @ X(2) @ Z(3) @ Z(4))\n",
       "  + -131.06265095030386 * (I(0) @ X(1) @ Y(2) @ Y(3) @ I(4))\n",
       "  + 23.134721851792712 * (I(0) @ X(1) @ Y(2) @ Y(3) @ Z(4))\n",
       "  + -12.025575955220862 * (I(0) @ X(1) @ Z(2) @ X(3) @ I(4))\n",
       "  + 1.4996217729084007 * (I(0) @ X(1) @ Z(2) @ X(3) @ Z(4))\n",
       "  + 18.086712411118064 * (I(0) @ Y(1) @ I(2) @ Y(3) @ I(4))\n",
       "  + -3.1236983914808922 * (I(0) @ Y(1) @ I(2) @ Y(3) @ Z(4))\n",
       "  + 131.06265095030386 * (I(0) @ Y(1) @ X(2) @ Y(3) @ I(4))\n",
       "  + -23.134721851792712 * (I(0) @ Y(1) @ X(2) @ Y(3) @ Z(4))\n",
       "  + 107.7367186701473 * (I(0) @ Y(1) @ Y(2) @ I(3) @ I(4))\n",
       "  + -19.1884657234161 * (I(0) @ Y(1) @ Y(2) @ I(3) @ Z(4))\n",
       "  + 146.15005648558466 * (I(0) @ Y(1) @ Y(2) @ X(3) @ I(4))\n",
       "  + -26.070738577558764 * (I(0) @ Y(1) @ Y(2) @ X(3) @ Z(4))\n",
       "  + -38.09562428922412 * (I(0) @ Y(1) @ Y(2) @ Z(3) @ I(4))\n",
       "  + 4.6247317095257365 * (I(0) @ Y(1) @ Y(2) @ Z(3) @ Z(4))\n",
       "  + -12.025575955220862 * (I(0) @ Y(1) @ Z(2) @ Y(3) @ I(4))\n",
       "  + 1.4996217729084007 * (I(0) @ Y(1) @ Z(2) @ Y(3) @ Z(4))\n",
       "  + -874.0624999999995 * (I(0) @ Z(1) @ I(2) @ I(3) @ I(4))\n",
       "  + -46.81250000000006 * (I(0) @ Z(1) @ I(2) @ I(3) @ Z(4))\n",
       "  + -698.6009971395138 * (I(0) @ Z(1) @ I(2) @ X(3) @ I(4))\n",
       "  + -50.982378831944686 * (I(0) @ Z(1) @ I(2) @ X(3) @ Z(4))\n",
       "  + -72.6875 * (I(0) @ Z(1) @ I(2) @ Z(3) @ I(4))\n",
       "  + 131.5625 * (I(0) @ Z(1) @ I(2) @ Z(3) @ Z(4))\n",
       "  + -309.1521965666502 * (I(0) @ Z(1) @ X(2) @ I(3) @ I(4))\n",
       "  + 14.36823472751712 * (I(0) @ Z(1) @ X(2) @ I(3) @ Z(4))\n",
       "  + -450.13637065341004 * (I(0) @ Z(1) @ X(2) @ X(3) @ I(4))\n",
       "  + 49.99714875566076 * (I(0) @ Z(1) @ X(2) @ X(3) @ Z(4))\n",
       "  + 51.363569455845834 * (I(0) @ Z(1) @ X(2) @ Z(3) @ I(4))\n",
       "  + 18.120016012744003 * (I(0) @ Z(1) @ X(2) @ Z(3) @ Z(4))\n",
       "  + -399.02828036915406 * (I(0) @ Z(1) @ Y(2) @ Y(3) @ I(4))\n",
       "  + 44.00142388524267 * (I(0) @ Z(1) @ Y(2) @ Y(3) @ Z(4))\n",
       "  + 153.06249999999983 * (I(0) @ Z(1) @ Z(2) @ I(3) @ I(4))\n",
       "  + 142.81249999999994 * (I(0) @ Z(1) @ Z(2) @ I(3) @ Z(4))\n",
       "  + 180.42232417267223 * (I(0) @ Z(1) @ Z(2) @ X(3) @ I(4))\n",
       "  + 122.4752738105817 * (I(0) @ Z(1) @ Z(2) @ X(3) @ Z(4))\n",
       "  + 264.6874999999998 * (I(0) @ Z(1) @ Z(2) @ Z(3) @ I(4))\n",
       "  + -146.5624999999999 * (I(0) @ Z(1) @ Z(2) @ Z(3) @ Z(4))\n",
       "  + 11.75 * (Z(0) @ I(1) @ I(2) @ I(3) @ I(4))\n",
       "  + 5.979253626585348 * (Z(0) @ I(1) @ I(2) @ X(3) @ I(4))\n",
       "  + -0.378814311367516 * (Z(0) @ I(1) @ I(2) @ X(3) @ Z(4))\n",
       "  + -0.75 * (Z(0) @ I(1) @ I(2) @ Z(3) @ I(4))\n",
       "  + -0.75 * (Z(0) @ I(1) @ I(2) @ Z(3) @ Z(4))\n",
       "  + 2.992064893125935 * (Z(0) @ I(1) @ X(2) @ X(3) @ I(4))\n",
       "  + -0.1883348478358684 * (Z(0) @ I(1) @ X(2) @ X(3) @ Z(4))\n",
       "  + 2.992064893125935 * (Z(0) @ I(1) @ Y(2) @ Y(3) @ I(4))\n",
       "  + -0.1883348478358684 * (Z(0) @ I(1) @ Y(2) @ Y(3) @ Z(4))\n",
       "  + -2.25 * (Z(0) @ I(1) @ Z(2) @ I(3) @ I(4))\n",
       "  + -0.75 * (Z(0) @ I(1) @ Z(2) @ I(3) @ Z(4))\n",
       "  + -1.5095114827048157 * (Z(0) @ I(1) @ Z(2) @ X(3) @ I(4))\n",
       "  + -0.003035378933705646 * (Z(0) @ I(1) @ Z(2) @ X(3) @ Z(4))\n",
       "  + -0.75 * (Z(0) @ I(1) @ Z(2) @ Z(3) @ I(4))\n",
       "  + 0.75 * (Z(0) @ I(1) @ Z(2) @ Z(3) @ Z(4))\n",
       "  + 1.4970558888549874 * (Z(0) @ X(1) @ X(2) @ X(3) @ I(4))\n",
       "  + -0.09393436881475736 * (Z(0) @ X(1) @ X(2) @ X(3) @ Z(4))\n",
       "  + -1.4970558888549874 * (Z(0) @ X(1) @ Y(2) @ Y(3) @ I(4))\n",
       "  + 0.09393436881475736 * (Z(0) @ X(1) @ Y(2) @ Y(3) @ Z(4))\n",
       "  + 1.4970558888549874 * (Z(0) @ Y(1) @ X(2) @ Y(3) @ I(4))\n",
       "  + -0.09393436881475736 * (Z(0) @ Y(1) @ X(2) @ Y(3) @ Z(4))\n",
       "  + 1.4970558888549874 * (Z(0) @ Y(1) @ Y(2) @ X(3) @ I(4))\n",
       "  + -0.09393436881475736 * (Z(0) @ Y(1) @ Y(2) @ X(3) @ Z(4))\n",
       "  + -5.25 * (Z(0) @ Z(1) @ I(2) @ I(3) @ I(4))\n",
       "  + -0.75 * (Z(0) @ Z(1) @ I(2) @ I(3) @ Z(4))\n",
       "  + -3.0126905805948914 * (Z(0) @ Z(1) @ I(2) @ X(3) @ I(4))\n",
       "  + -0.0034590580886615374 * (Z(0) @ Z(1) @ I(2) @ X(3) @ Z(4))\n",
       "  + -0.75 * (Z(0) @ Z(1) @ I(2) @ Z(3) @ I(4))\n",
       "  + 0.75 * (Z(0) @ Z(1) @ I(2) @ Z(3) @ Z(4))\n",
       "  + -1.5040203487251844 * (Z(0) @ Z(1) @ X(2) @ X(3) @ I(4))\n",
       "  + -0.0006715908882242161 * (Z(0) @ Z(1) @ X(2) @ X(3) @ Z(4))\n",
       "  + -1.5040203487251844 * (Z(0) @ Z(1) @ Y(2) @ Y(3) @ I(4))\n",
       "  + -0.0006715908882242161 * (Z(0) @ Z(1) @ Y(2) @ Y(3) @ Z(4))\n",
       "  + -0.75 * (Z(0) @ Z(1) @ Z(2) @ I(3) @ I(4))\n",
       "  + 0.75 * (Z(0) @ Z(1) @ Z(2) @ I(3) @ Z(4))\n",
       "  + -0.008162823852038814 * (Z(0) @ Z(1) @ Z(2) @ X(3) @ I(4))\n",
       "  + -0.002919819263897283 * (Z(0) @ Z(1) @ Z(2) @ X(3) @ Z(4))\n",
       "  + 0.75 * (Z(0) @ Z(1) @ Z(2) @ Z(3) @ I(4))\n",
       "  + -0.75 * (Z(0) @ Z(1) @ Z(2) @ Z(3) @ Z(4))\n",
       ")"
      ]
     },
     "execution_count": 33,
     "metadata": {},
     "output_type": "execute_result"
    }
   ],
   "source": [
    "qml.pauli_decompose(H)"
   ]
  },
  {
   "cell_type": "code",
   "execution_count": 19,
   "metadata": {},
   "outputs": [
    {
     "data": {
      "text/plain": [
       "SparsePauliOp(['IIII', 'IIXI', 'IIXZ', 'IIZI', 'IIZZ', 'IXII', 'IXIZ', 'IXXI', 'IXXZ', 'IXZI', 'IXZZ', 'IYYI', 'IYYZ', 'IZII', 'IZIZ', 'IZXI', 'IZXZ', 'IZZI', 'IZZZ', 'ZIII', 'ZIXI', 'ZIXZ', 'ZIZI', 'ZIZZ', 'ZXXI', 'ZXXZ', 'ZYYI', 'ZYYZ', 'ZZII', 'ZZIZ', 'ZZXI', 'ZZXZ', 'ZZZI', 'ZZZZ'],\n",
       "              coeffs=[ 1.13312500e+02+0.j,  8.81890635e+01+0.j, -7.15058155e-02+0.j,\n",
       " -9.06250000e+00+0.j, -2.50625000e+01+0.j,  2.80566466e+01+0.j,\n",
       " -6.76713867e+00+0.j,  4.21567483e+01+0.j, -1.41466758e+01+0.j,\n",
       " -1.65897126e+01+0.j,  1.11774278e+00+0.j,  3.90996929e+01-0.j,\n",
       " -1.27666714e+01+0.j, -8.05625000e+01+0.j, -1.38125000e+01+0.j,\n",
       " -7.40404151e+01+0.j, -7.97834659e+00+0.j, -1.66875000e+01+0.j,\n",
       "  3.40625000e+01+0.j,  5.75000000e+00+0.j,  2.96656305e+00+0.j,\n",
       " -3.82273369e-01+0.j, -7.50000000e-01+0.j, -7.50000000e-01+0.j,\n",
       "  1.48804454e+00+0.j, -1.89006439e-01+0.j,  1.48804454e+00-0.j,\n",
       " -1.89006439e-01+0.j, -2.25000000e+00+0.j, -7.50000000e-01+0.j,\n",
       " -1.51767431e+00+0.j, -5.95519820e-03+0.j, -7.50000000e-01+0.j,\n",
       "  7.50000000e-01+0.j])"
      ]
     },
     "execution_count": 19,
     "metadata": {},
     "output_type": "execute_result"
    }
   ],
   "source": [
    "H_pauli"
   ]
  },
  {
   "cell_type": "code",
   "execution_count": 26,
   "metadata": {},
   "outputs": [
    {
     "data": {
      "text/plain": [
       "102"
      ]
     },
     "execution_count": 26,
     "metadata": {},
     "output_type": "execute_result"
    }
   ],
   "source": [
    "H_pauli.size"
   ]
  },
  {
   "cell_type": "code",
   "execution_count": 10,
   "metadata": {},
   "outputs": [],
   "source": [
    "from qiskit.quantum_info import Z2Symmetries"
   ]
  },
  {
   "cell_type": "code",
   "execution_count": 11,
   "metadata": {},
   "outputs": [],
   "source": [
    "symmetries = Z2Symmetries.find_z2_symmetries(H_pauli)\n",
    "tapered_hamiltonian = symmetries.taper(H_pauli)"
   ]
  },
  {
   "cell_type": "code",
   "execution_count": 12,
   "metadata": {},
   "outputs": [],
   "source": [
    "H = sum(tapered_hamiltonian)"
   ]
  },
  {
   "cell_type": "code",
   "execution_count": 13,
   "metadata": {},
   "outputs": [
    {
     "data": {
      "text/plain": [
       "10"
      ]
     },
     "execution_count": 13,
     "metadata": {},
     "output_type": "execute_result"
    }
   ],
   "source": [
    "H.size"
   ]
  },
  {
   "cell_type": "code",
   "execution_count": 14,
   "metadata": {},
   "outputs": [
    {
     "data": {
      "text/plain": [
       "SparsePauliOp(['I', 'X', 'Z', 'I', 'X', 'Z', 'I', 'X', 'I', 'X'],\n",
       "              coeffs=[13.0625    +0.j,  6.09879599+0.j, -9.625     +0.j,  7.5625    +0.j,\n",
       "  3.97747564+0.j, -6.625     +0.j, 13.0625    +0.j, 10.56342452+0.j,\n",
       "  7.5625    +0.j,  6.8891899 +0.j])"
      ]
     },
     "execution_count": 14,
     "metadata": {},
     "output_type": "execute_result"
    }
   ],
   "source": [
    "H"
   ]
  },
  {
   "cell_type": "code",
   "execution_count": 79,
   "metadata": {},
   "outputs": [
    {
     "data": {
      "text/plain": [
       "array([ 9.28279701+0.j, 73.21720299+0.j])"
      ]
     },
     "execution_count": 79,
     "metadata": {},
     "output_type": "execute_result"
    }
   ],
   "source": [
    "np.sort(np.linalg.eig(H)[0])"
   ]
  },
  {
   "cell_type": "code",
   "execution_count": null,
   "metadata": {},
   "outputs": [],
   "source": []
  },
  {
   "cell_type": "code",
   "execution_count": 33,
   "metadata": {},
   "outputs": [
    {
     "data": {
      "text/plain": [
       "32"
      ]
     },
     "execution_count": 33,
     "metadata": {},
     "output_type": "execute_result"
    }
   ],
   "source": [
    "len(H2)"
   ]
  },
  {
   "cell_type": "code",
   "execution_count": 25,
   "metadata": {},
   "outputs": [
    {
     "data": {
      "text/plain": [
       "1"
      ]
     },
     "execution_count": 25,
     "metadata": {},
     "output_type": "execute_result"
    }
   ],
   "source": [
    "len(H2)"
   ]
  },
  {
   "cell_type": "code",
   "execution_count": null,
   "metadata": {},
   "outputs": [],
   "source": [
    "data = {'cut_off':[],\n",
    "       'QHO': [],\n",
    "       'AHO': [],\n",
    "       'DW': []\n",
    "       }\n",
    "\n",
    "num_cut_offs = 10\n",
    "cut_off_list = [2**i for i in range(1, num_cut_offs + 1)]\n",
    "potential_list = ['QHO', 'AHO', 'DW']\n",
    "\n",
    "for cut_off in cut_off_list:\n",
    "    data['cut_off'].append(cut_off)\n",
    "\n",
    "    for potential in potential_list:\n",
    "\n",
    "        H = calculate_Hamiltonian(cut_off, potential)\n",
    "        H_pauli = SparsePauliOp.from_operator(H)\n",
    "\n",
    "        data[potential].append({'hamiltonian_size': H_pauli.dim,\n",
    "                        'num_paulis': len(H_pauli),\n",
    "                        'num_qubits': H_pauli.num_qubits})\n",
    "\n"
   ]
  },
  {
   "cell_type": "code",
   "execution_count": null,
   "metadata": {},
   "outputs": [],
   "source": []
  }
 ],
 "metadata": {
  "kernelspec": {
   "display_name": ".venv",
   "language": "python",
   "name": "python3"
  },
  "language_info": {
   "codemirror_mode": {
    "name": "ipython",
    "version": 3
   },
   "file_extension": ".py",
   "mimetype": "text/x-python",
   "name": "python",
   "nbconvert_exporter": "python",
   "pygments_lexer": "ipython3",
   "version": "3.10.4"
  }
 },
 "nbformat": 4,
 "nbformat_minor": 2
}
