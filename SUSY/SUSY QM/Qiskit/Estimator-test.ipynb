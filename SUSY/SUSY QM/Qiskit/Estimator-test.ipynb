{
 "cells": [
  {
   "cell_type": "code",
   "execution_count": 1,
   "metadata": {},
   "outputs": [],
   "source": [
    "from qiskit import QuantumCircuit\n",
    "from qiskit_aer import AerSimulator\n",
    "from qiskit_ibm_runtime import Estimator\n",
    "from qiskit.quantum_info import SparsePauliOp"
   ]
  },
  {
   "cell_type": "code",
   "execution_count": 2,
   "metadata": {},
   "outputs": [
    {
     "name": "stdout",
     "output_type": "stream",
     "text": [
      "estimator expectation val: 5.7859375\n",
      "calculated expectation val: -4.1328125\n"
     ]
    }
   ],
   "source": [
    "qc = QuantumCircuit(3)\n",
    "qc.h(2)\n",
    "qc.cx(2, 1)\n",
    "qc.x(0)\n",
    "qc.cx(0, 2)\n",
    "\n",
    "# Define the measurement circuit\n",
    "# It transforms Z basis to X basis\n",
    "qc_mes = QuantumCircuit(3)\n",
    "qc_mes.h(0)\n",
    "qc_mes.h(1)\n",
    "qc_mes.h(2)\n",
    "\n",
    "# Combine base with measurement circuit\n",
    "qc_all = qc.copy()\n",
    "qc_all.compose(qc_mes, inplace=True)\n",
    "\n",
    "num_shots = 1024\n",
    "backend = AerSimulator()\n",
    "\n",
    "# Use estimator to run the circuit\n",
    "estimator = Estimator(backend, options={\"default_shots\": num_shots})\n",
    "\n",
    "op = SparsePauliOp.from_list(\n",
    "    [\n",
    "        (\"XXX\", (-105.8)),\n",
    "    ]\n",
    ")\n",
    "job = estimator.run([(qc, op)])\n",
    "measured_energy = job.result()[0].data.evs\n",
    "print('estimator expectation val:', measured_energy)\n",
    "\n",
    "# Use simulator to run the circuit\n",
    "qc_all.measure_all()\n",
    "job2 = backend.run(qc_all, shots=num_shots)\n",
    "\n",
    "job2_res = job2.result().get_counts()\n",
    "exp_cal = 0\n",
    "\n",
    "for key, val in job2_res.items():\n",
    "    if key.count('1') % 2 == 0:\n",
    "        exp_cal += val\n",
    "    else:\n",
    "        exp_cal -= val\n",
    "exp_cal = exp_cal * (-105.8) / num_shots\n",
    "print('calculated expectation val:', exp_cal)"
   ]
  },
  {
   "cell_type": "code",
   "execution_count": 14,
   "metadata": {},
   "outputs": [],
   "source": [
    "from qiskit import QuantumCircuit\n",
    "from qiskit_aer import Aer\n",
    "from qiskit.primitives import BackendEstimatorV2 as BackendEstimator\n",
    "from qiskit.quantum_info import SparsePauliOp"
   ]
  },
  {
   "cell_type": "code",
   "execution_count": null,
   "metadata": {},
   "outputs": [],
   "source": [
    "# Define circuit\n",
    "qc = QuantumCircuit(2)\n",
    "qc.h(0)\n",
    "qc.crx(0.5, 0, 1)\n",
    "\n",
    "observable = SparsePauliOp.from_list([(\"ZI\", 1.0)])\n",
    "\n",
    "# Use AerSimulator backend\n",
    "backend = Aer.get_backend(\"aer_simulator\")\n",
    "\n",
    "# Create estimator with shot noise\n",
    "#estimator = BackendEstimator(backend=backend, options={\"shots\": 1000, \"seed_simulator\": 42})\n",
    "estimator = BackendEstimator(backend=backend)\n",
    "\n",
    "# Run and get result\n",
    "#job = estimator.run([qc], [observable])\n",
    "job = estimator.run([(qc, observable)])\n",
    "result = job.result()\n",
    "print(\"⟨Z₀⟩ ≈\", result.values[0])"
   ]
  },
  {
   "cell_type": "code",
   "execution_count": 21,
   "metadata": {},
   "outputs": [
    {
     "ename": "TypeError",
     "evalue": "AerBackend.set_options() takes 1 positional argument but 2 were given",
     "output_type": "error",
     "traceback": [
      "\u001b[1;31m---------------------------------------------------------------------------\u001b[0m",
      "\u001b[1;31mTypeError\u001b[0m                                 Traceback (most recent call last)",
      "Cell \u001b[1;32mIn[21], line 1\u001b[0m\n\u001b[1;32m----> 1\u001b[0m \u001b[43mestimator\u001b[49m\u001b[38;5;241;43m.\u001b[39;49m\u001b[43mbackend\u001b[49m\u001b[38;5;241;43m.\u001b[39;49m\u001b[43mset_options\u001b[49m\u001b[43m(\u001b[49m\u001b[43m{\u001b[49m\u001b[38;5;124;43m'\u001b[39;49m\u001b[38;5;124;43mshots\u001b[39;49m\u001b[38;5;124;43m'\u001b[39;49m\u001b[43m:\u001b[49m\u001b[38;5;241;43m1024\u001b[39;49m\u001b[43m}\u001b[49m\u001b[43m)\u001b[49m\n",
      "\u001b[1;31mTypeError\u001b[0m: AerBackend.set_options() takes 1 positional argument but 2 were given"
     ]
    }
   ],
   "source": []
  },
  {
   "cell_type": "code",
   "execution_count": 17,
   "metadata": {},
   "outputs": [
    {
     "data": {
      "text/plain": [
       "PrimitiveResult([PubResult(data=DataBin(evs=np.ndarray(<shape=(), dtype=float64>), stds=np.float64(0.0056973496598593685)), metadata={'target_precision': 0.015625, 'shots': 4096, 'circuit_metadata': {}})], metadata={'version': 2})"
      ]
     },
     "execution_count": 17,
     "metadata": {},
     "output_type": "execute_result"
    }
   ],
   "source": [
    "result"
   ]
  },
  {
   "cell_type": "code",
   "execution_count": null,
   "metadata": {},
   "outputs": [],
   "source": [
    " DeprecationWarning: The class ``qiskit.primitives.backend_estimator.BackendEstimator`` is deprecated as of qiskit 1.2. It will be removed no earlier than 3 months after the release date. All implementations of the `BaseEstimatorV1` interface have been deprecated in favor of their V2 counterparts. The V2 alternative for the `BackendEstimator` class is `BackendEstimatorV2`.\n",
    "  estimator = BackendEstimator(backend=backend, options={\"shots\": 1000, \"seed_simulator\": 42})"
   ]
  }
 ],
 "metadata": {
  "kernelspec": {
   "display_name": ".venv",
   "language": "python",
   "name": "python3"
  },
  "language_info": {
   "codemirror_mode": {
    "name": "ipython",
    "version": 3
   },
   "file_extension": ".py",
   "mimetype": "text/x-python",
   "name": "python",
   "nbconvert_exporter": "python",
   "pygments_lexer": "ipython3",
   "version": "3.13.1"
  }
 },
 "nbformat": 4,
 "nbformat_minor": 2
}
