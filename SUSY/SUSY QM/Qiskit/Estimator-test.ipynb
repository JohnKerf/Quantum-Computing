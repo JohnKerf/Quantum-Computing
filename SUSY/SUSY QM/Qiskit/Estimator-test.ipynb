{
 "cells": [
  {
   "cell_type": "code",
   "execution_count": 1,
   "metadata": {},
   "outputs": [],
   "source": [
    "from qiskit import QuantumCircuit\n",
    "from qiskit_aer import AerSimulator\n",
    "from qiskit_ibm_runtime import Estimator\n",
    "from qiskit.quantum_info import SparsePauliOp\n",
    "\n",
    "from qiskit_ibm_runtime.fake_provider import FakeAlmadenV2"
   ]
  },
  {
   "cell_type": "code",
   "execution_count": null,
   "metadata": {},
   "outputs": [],
   "source": [
    "backend = FakeAlmadenV2()\n",
    "estimator = Estimator(backend)\n",
    " \n",
    "# Convert to an ISA circuit and layout-mapped observables.\n",
    " \n",
    "pm = generate_preset_pass_manager(backend=backend, optimization_level=1)\n",
    "isa_circuit = pm.run(qc)\n",
    "mapped_observables = [\n",
    "    observable.apply_layout(isa_circuit.layout) for observable in observables\n",
    "]\n",
    " \n",
    "job = estimator.run([(isa_circuit, mapped_observables)])\n",
    "result = job.result()\n",
    " \n",
    "# This is the result of the entire submission.  You submitted one Pub,\n",
    "# so this contains one inner result (and some metadata of its own).\n",
    " \n",
    "job_result = job.result()\n",
    " \n",
    "# This is the result from our single pub, which had five observables,\n",
    "# so contains information on all five.\n",
    " \n",
    "pub_result = job.result()[0]"
   ]
  },
  {
   "cell_type": "code",
   "execution_count": null,
   "metadata": {},
   "outputs": [],
   "source": []
  },
  {
   "cell_type": "code",
   "execution_count": null,
   "metadata": {},
   "outputs": [],
   "source": []
  },
  {
   "cell_type": "code",
   "execution_count": 2,
   "metadata": {},
   "outputs": [
    {
     "name": "stdout",
     "output_type": "stream",
     "text": [
      "estimator expectation val: 5.7859375\n",
      "calculated expectation val: -4.1328125\n"
     ]
    }
   ],
   "source": [
    "qc = QuantumCircuit(3)\n",
    "qc.h(2)\n",
    "qc.cx(2, 1)\n",
    "qc.x(0)\n",
    "qc.cx(0, 2)\n",
    "\n",
    "# Define the measurement circuit\n",
    "# It transforms Z basis to X basis\n",
    "qc_mes = QuantumCircuit(3)\n",
    "qc_mes.h(0)\n",
    "qc_mes.h(1)\n",
    "qc_mes.h(2)\n",
    "\n",
    "# Combine base with measurement circuit\n",
    "qc_all = qc.copy()\n",
    "qc_all.compose(qc_mes, inplace=True)\n",
    "\n",
    "num_shots = 1024\n",
    "backend = AerSimulator()\n",
    "\n",
    "# Use estimator to run the circuit\n",
    "estimator = Estimator(backend, options={\"default_shots\": num_shots})\n",
    "\n",
    "op = SparsePauliOp.from_list(\n",
    "    [\n",
    "        (\"XXX\", (-105.8)),\n",
    "    ]\n",
    ")\n",
    "job = estimator.run([(qc, op)])\n",
    "measured_energy = job.result()[0].data.evs\n",
    "print('estimator expectation val:', measured_energy)\n",
    "\n",
    "# Use simulator to run the circuit\n",
    "qc_all.measure_all()\n",
    "job2 = backend.run(qc_all, shots=num_shots)\n",
    "\n",
    "job2_res = job2.result().get_counts()\n",
    "exp_cal = 0\n",
    "\n",
    "for key, val in job2_res.items():\n",
    "    if key.count('1') % 2 == 0:\n",
    "        exp_cal += val\n",
    "    else:\n",
    "        exp_cal -= val\n",
    "exp_cal = exp_cal * (-105.8) / num_shots\n",
    "print('calculated expectation val:', exp_cal)"
   ]
  }
 ],
 "metadata": {
  "kernelspec": {
   "display_name": ".venv",
   "language": "python",
   "name": "python3"
  },
  "language_info": {
   "codemirror_mode": {
    "name": "ipython",
    "version": 3
   },
   "file_extension": ".py",
   "mimetype": "text/x-python",
   "name": "python",
   "nbconvert_exporter": "python",
   "pygments_lexer": "ipython3",
   "version": "3.13.1"
  }
 },
 "nbformat": 4,
 "nbformat_minor": 2
}
