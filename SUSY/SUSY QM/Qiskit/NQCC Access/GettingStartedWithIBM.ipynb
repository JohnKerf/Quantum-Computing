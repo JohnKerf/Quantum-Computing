{
 "cells": [
  {
   "cell_type": "markdown",
   "metadata": {},
   "source": [
    "# 👋⚛️🌍Hello, Quantum World! \n",
    "## Connect to your IBM Quantum Workspace and Submit a Simple Job\n",
    "\n",
    "In this notebook, we'll review the basics of connecting to IBM Quantum, and of submitting a simple quantum program."
   ]
  },
  {
   "cell_type": "markdown",
   "metadata": {},
   "source": [
    "### Prerequisites: install the below packages in your environment.\n",
    " * NOTE: the Qiskit 2.1.0 package is required at a minimum for authentication to the new IBM Quantum Platform on IBM Cloud. Please ensure that this version is installed to avoid technical blockers.\n",
    " * You will need to restart your kernel after updating the version of any packages."
   ]
  },
  {
   "cell_type": "code",
   "execution_count": null,
   "metadata": {},
   "outputs": [],
   "source": [
    "!pip install qiskit==2.1.0 qiskit[visualisation] qiskit-ibm-runtime python-dotenv matplotlib pylatexenc"
   ]
  },
  {
   "cell_type": "code",
   "execution_count": null,
   "metadata": {},
   "outputs": [],
   "source": [
    "pip install qiskit-aer"
   ]
  },
  {
   "cell_type": "markdown",
   "metadata": {},
   "source": [
    "### 1. Retrieve your API key from your IBM Cloud Account\n",
    "\n",
    "We recommend storing your API keys in an environment variable file for security purposes.\n",
    "Visit https://quantum.cloud.ibm.com/ and sign in.\n",
    "You can create multiple API keys; for each, you weill have 5 minutes (300 seconds) to save your API key, after which point you will no longer be able to access your key."
   ]
  },
  {
   "cell_type": "code",
   "execution_count": null,
   "metadata": {},
   "outputs": [
    {
     "name": "stdout",
     "output_type": "stream",
     "text": [
      "None\n",
      "2.1.1\n"
     ]
    }
   ],
   "source": [
    "import os \n",
    "from dotenv import load_dotenv\n",
    "\n",
    "NQCC_IBM_QUANTUM_API_KEY = \"R6iYDy8QfPF7Jc2BXMn--QuV3XGXNg8oAZNe2V_nvlWj\"\n",
    "load_dotenv()\n",
    "# Add your API Key as an environment variable in a .env file\n",
    "API_KEY = os.getenv(\"NQCC_IBM_QUANTUM_API_KEY\")\n",
    "print(API_KEY)"
   ]
  },
  {
   "cell_type": "code",
   "execution_count": 2,
   "metadata": {},
   "outputs": [
    {
     "name": "stdout",
     "output_type": "stream",
     "text": [
      "2.1.0\n"
     ]
    }
   ],
   "source": [
    "import matplotlib\n",
    "import qiskit\n",
    "print(qiskit.__version__)"
   ]
  },
  {
   "cell_type": "code",
   "execution_count": 3,
   "metadata": {},
   "outputs": [],
   "source": [
    "# Input your IBM Service details \n",
    "NQCC_IBM_QUANTUM_API_KEY = \"R6iYDy8QfPF7Jc2BXMn--QuV3XGXNg8oAZNe2V_nvlWj\"\n",
    "ibm_instance_crn = \"crn:v1:bluemix:public:quantum-computing:us-east:a/d4f95db0515b47b7ba61dba8a424f873:55736fd5-c0a0-4f44-8180-ce6e81d6c9d0::\""
   ]
  },
  {
   "cell_type": "code",
   "execution_count": 4,
   "metadata": {},
   "outputs": [],
   "source": [
    "from qiskit_ibm_runtime import QiskitRuntimeService\n",
    " \n",
    "QiskitRuntimeService.save_account(\n",
    "  token=NQCC_IBM_QUANTUM_API_KEY,\n",
    "  channel=\"ibm_quantum_platform\", # `channel` distinguishes between different account types.\n",
    "  instance=ibm_instance_crn, # Optionally copy the instance CRN or name from the Instance section on the dashboard.\n",
    "  name=\"NQCC-Q3\", # Optionally name this set of credentials.\n",
    "  overwrite=True # Only needed if you already have Cloud credentials.\n",
    ")"
   ]
  },
  {
   "cell_type": "code",
   "execution_count": 7,
   "metadata": {},
   "outputs": [],
   "source": [
    "# Load default saved credentials\n",
    "service = QiskitRuntimeService(name=\"NQCC-Q3\")"
   ]
  },
  {
   "cell_type": "code",
   "execution_count": 8,
   "metadata": {},
   "outputs": [],
   "source": [
    "backend = service.backend('ibm_pittsburgh')"
   ]
  },
  {
   "cell_type": "code",
   "execution_count": 9,
   "metadata": {},
   "outputs": [],
   "source": [
    "from qiskit_aer.noise import NoiseModel"
   ]
  },
  {
   "cell_type": "code",
   "execution_count": 10,
   "metadata": {},
   "outputs": [],
   "source": [
    "noise_model = NoiseModel.from_backend(backend)"
   ]
  },
  {
   "cell_type": "code",
   "execution_count": 10,
   "metadata": {},
   "outputs": [],
   "source": [
    "# For remote backend QPU\n",
    "\n",
    "from qiskit_ibm_runtime import QiskitRuntimeService, SamplerV2\n",
    "from qiskit_ibm_runtime import QiskitRuntimeService\n",
    "\n",
    "# After using the following code, go to the IBM Cloud API keys page (https://cloud.ibm.com/iam/apikeys)\n",
    "# and disable your API key (click Enabled slider in the API key field)\n",
    "service = QiskitRuntimeService(channel=\"ibm_quantum_platform\", token=API_KEY, instance=ibm_instance_crn)"
   ]
  },
  {
   "cell_type": "code",
   "execution_count": 13,
   "metadata": {},
   "outputs": [
    {
     "name": "stdout",
     "output_type": "stream",
     "text": [
      "[<IBMBackend('ibm_brisbane')>, <IBMBackend('ibm_sherbrooke')>, <IBMBackend('ibm_fez')>, <IBMBackend('ibm_torino')>, <IBMBackend('ibm_marrakesh')>, <IBMBackend('ibm_kingston')>]\n",
      "('_options', Options(shots=4000, memory=False, meas_level=<MeasLevel.CLASSIFIED: 2>, meas_return=<MeasReturnType.AVERAGE: 'avg'>, memory_slots=None, memory_slot_size=100, rep_time=None, rep_delay=None, init_qubits=True, use_measure_esp=None, use_fractional_gates=False, noise_model=None, seed_simulator=None))\n",
      "('_provider', None)\n",
      "('name', 'ibm_brisbane')\n",
      "('description', None)\n",
      "('online_date', datetime.datetime(2023, 1, 23, 5, 0, tzinfo=tzutc()))\n",
      "('backend_version', '1.1.142')\n",
      "('_coupling_map', None)\n",
      "('_instance', None)\n",
      "('_service', <QiskitRuntimeService>)\n",
      "('_api_client', <qiskit_ibm_runtime.api.clients.runtime.RuntimeClient object at 0x000002202E35B8B0>)\n",
      "('_configuration', <qiskit_ibm_runtime.models.backend_configuration.QasmBackendConfiguration object at 0x000002202E7BFE80>)\n",
      "('_properties', None)\n",
      "('_defaults', None)\n",
      "('_target', None)\n",
      "('_max_circuits', 300)\n"
     ]
    }
   ],
   "source": [
    "backends = service.backends()\n",
    "\n",
    "print(backends)\n",
    "\n",
    "ibm_brisbane = service.backend('ibm_brisbane')\n",
    "\n",
    "for item in ibm_brisbane.__dict__.items():\n",
    "    print(item)"
   ]
  },
  {
   "cell_type": "markdown",
   "metadata": {},
   "source": [
    "### 2. Create a Basic Circuit"
   ]
  },
  {
   "cell_type": "markdown",
   "metadata": {},
   "source": [
    "Using Qiskit:"
   ]
  },
  {
   "cell_type": "code",
   "execution_count": 14,
   "metadata": {},
   "outputs": [],
   "source": [
    "from qiskit import QuantumCircuit, transpile \n",
    "from qiskit.quantum_info import SparsePauliOp\n",
    "from qiskit.transpiler.preset_passmanagers import generate_preset_pass_manager\n",
    "from qiskit_ibm_runtime import EstimatorV2 as Estimator"
   ]
  },
  {
   "cell_type": "code",
   "execution_count": 15,
   "metadata": {},
   "outputs": [
    {
     "data": {
      "text/html": [
       "<pre style=\"word-wrap: normal;white-space: pre;background: #fff0;line-height: 1.1;font-family: &quot;Courier New&quot;,Courier,monospace\">        ┌───┐           ░ ┌─┐      \n",
       "   q_0: ┤ H ├──■────■───░─┤M├──────\n",
       "        └───┘┌─┴─┐  │   ░ └╥┘┌─┐   \n",
       "   q_1: ─────┤ X ├──┼───░──╫─┤M├───\n",
       "             └───┘┌─┴─┐ ░  ║ └╥┘┌─┐\n",
       "   q_2: ──────────┤ X ├─░──╫──╫─┤M├\n",
       "                  └───┘ ░  ║  ║ └╥┘\n",
       "meas: 3/═══════════════════╩══╩══╩═\n",
       "                           0  1  2 </pre>"
      ],
      "text/plain": [
       "        ┌───┐           ░ ┌─┐      \n",
       "   q_0: ┤ H ├──■────■───░─┤M├──────\n",
       "        └───┘┌─┴─┐  │   ░ └╥┘┌─┐   \n",
       "   q_1: ─────┤ X ├──┼───░──╫─┤M├───\n",
       "             └───┘┌─┴─┐ ░  ║ └╥┘┌─┐\n",
       "   q_2: ──────────┤ X ├─░──╫──╫─┤M├\n",
       "                  └───┘ ░  ║  ║ └╥┘\n",
       "meas: 3/═══════════════════╩══╩══╩═\n",
       "                           0  1  2 "
      ]
     },
     "execution_count": 15,
     "metadata": {},
     "output_type": "execute_result"
    }
   ],
   "source": [
    "# Create a simple circuit\n",
    "circuit = QuantumCircuit(3)\n",
    "circuit.h(0)\n",
    "circuit.cx(0,1)\n",
    "circuit.cx(0,2)\n",
    "circuit.measure_all()\n",
    "\n",
    "circuit.draw()"
   ]
  },
  {
   "cell_type": "code",
   "execution_count": 16,
   "metadata": {},
   "outputs": [
    {
     "name": "stdout",
     "output_type": "stream",
     "text": [
      "{'101': 47, '000': 1936, '111': 1972, '001': 31, '110': 10, '010': 52, '011': 30, '100': 18}\n"
     ]
    }
   ],
   "source": [
    "# Transpile the ideal circuit to a circuit that can be directly executed by the backend\n",
    "transpiled_circuit = transpile(circuit, ibm_brisbane)\n",
    "\n",
    "# Run the transpiled circuit using the simulated fake backend\n",
    "sampler = SamplerV2(mode = ibm_brisbane)\n",
    "job = sampler.run([transpiled_circuit])\n",
    "pub_result = job.result()[0]\n",
    "\n",
    "counts = pub_result.data.meas.get_counts()\n",
    "print(counts)"
   ]
  },
  {
   "cell_type": "code",
   "execution_count": 17,
   "metadata": {},
   "outputs": [
    {
     "data": {
      "image/png": "[encoded data removed]",
      "text/plain": [
       "<Figure size 640x480 with 1 Axes>"
      ]
     },
     "execution_count": 17,
     "metadata": {},
     "output_type": "execute_result"
    }
   ],
   "source": [
    "from qiskit.visualization import plot_histogram\n",
    "plot_histogram(counts)\n"
   ]
  }
 ],
 "metadata": {
  "kernelspec": {
   "display_name": ".venv",
   "language": "python",
   "name": "python3"
  },
  "language_info": {
   "codemirror_mode": {
    "name": "ipython",
    "version": 3
   },
   "file_extension": ".py",
   "mimetype": "text/x-python",
   "name": "python",
   "nbconvert_exporter": "python",
   "pygments_lexer": "ipython3",
   "version": "3.10.0"
  }
 },
 "nbformat": 4,
 "nbformat_minor": 2
}
