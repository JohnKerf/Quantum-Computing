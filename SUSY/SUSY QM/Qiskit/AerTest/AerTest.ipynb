{
 "cells": [
  {
   "cell_type": "code",
   "execution_count": 1,
   "metadata": {},
   "outputs": [],
   "source": [
    "import os, json, time, logging\n",
    "from datetime import datetime, timedelta\n",
    "import numpy as np\n",
    "from scipy.optimize import differential_evolution\n",
    "from scipy.stats.qmc import Halton\n",
    "\n",
    "from qiskit import QuantumCircuit\n",
    "from qiskit.circuit import Parameter\n",
    "from qiskit_aer import AerSimulator\n",
    "from qiskit_ibm_runtime import Estimator\n",
    "from qiskit.quantum_info import SparsePauliOp\n",
    "\n",
    "from susy_qm import calculate_Hamiltonian2"
   ]
  },
  {
   "cell_type": "code",
   "execution_count": 2,
   "metadata": {},
   "outputs": [
    {
     "name": "stdout",
     "output_type": "stream",
     "text": [
      "Qiskit version: 1.2.4\n",
      "Qiskit Aer version: 0.16.1\n"
     ]
    }
   ],
   "source": [
    "import qiskit\n",
    "import qiskit_aer\n",
    "\n",
    "print(\"Qiskit version:\", qiskit.__version__)\n",
    "print(\"Qiskit Aer version:\", qiskit_aer.__version__)\n"
   ]
  },
  {
   "cell_type": "code",
   "execution_count": 5,
   "metadata": {},
   "outputs": [],
   "source": [
    "potential = 'QHO'\n",
    "cutoff = 8\n",
    "H = calculate_Hamiltonian2(cutoff, potential)\n",
    "eigenvalues = np.sort(np.linalg.eig(H)[0])[:4]\n",
    "min_eigenvalue = np.min(eigenvalues)\n",
    "\n",
    "num_qubits = int(1 + np.log2(cutoff))\n",
    "observable = SparsePauliOp.from_operator(H)"
   ]
  },
  {
   "cell_type": "code",
   "execution_count": 6,
   "metadata": {},
   "outputs": [],
   "source": [
    "num_shots = 1024\n",
    "backend = AerSimulator()\n",
    "estimator = Estimator(backend, options={\"default_shots\": num_shots})"
   ]
  },
  {
   "cell_type": "code",
   "execution_count": 11,
   "metadata": {},
   "outputs": [
    {
     "data": {
      "text/plain": [
       "<qiskit.circuit.instructionset.InstructionSet at 0x2ce24793070>"
      ]
     },
     "execution_count": 11,
     "metadata": {},
     "output_type": "execute_result"
    }
   ],
   "source": [
    "num_params = 1\n",
    "param_objs = [Parameter(f\"θ{i}\") for i in range(num_params)]\n",
    "\n",
    "qc = QuantumCircuit(num_qubits)\n",
    "qc.x(0)\n",
    "qc.ry(param_objs[0], 3)\n",
    "#qc.ry(param_objs[1], 2)\n",
    "#qc.ry(param_objs[2], 1)\n",
    "#qc.ry(param_objs[3], 0)"
   ]
  },
  {
   "cell_type": "code",
   "execution_count": 110,
   "metadata": {},
   "outputs": [
    {
     "data": {
      "text/plain": [
       "<qiskit.circuit.instructionset.InstructionSet at 0x24da76c9150>"
      ]
     },
     "execution_count": 110,
     "metadata": {},
     "output_type": "execute_result"
    }
   ],
   "source": [
    "num_params = 1\n",
    "param_objs = [Parameter(f\"θ{i}\") for i in range(num_params)]\n",
    "\n",
    "qc = QuantumCircuit(num_qubits)\n",
    "qc.ry(param_objs[0], 2)   \n",
    "qc.cry(param_objs[1], 2, 1)   \n",
    "qc.ry(param_objs[2], 0)     \n",
    "qc.ry(param_objs[3], 1)    "
   ]
  },
  {
   "cell_type": "code",
   "execution_count": 12,
   "metadata": {},
   "outputs": [
    {
     "data": {
      "text/html": [
       "<pre style=\"word-wrap: normal;white-space: pre;background: #fff0;line-height: 1.1;font-family: &quot;Courier New&quot;,Courier,monospace\">       ┌───┐   \n",
       "q_0: ──┤ X ├───\n",
       "       └───┘   \n",
       "q_1: ──────────\n",
       "               \n",
       "q_2: ──────────\n",
       "     ┌────────┐\n",
       "q_3: ┤ Ry(θ0) ├\n",
       "     └────────┘</pre>"
      ],
      "text/plain": [
       "       ┌───┐   \n",
       "q_0: ──┤ X ├───\n",
       "       └───┘   \n",
       "q_1: ──────────\n",
       "               \n",
       "q_2: ──────────\n",
       "     ┌────────┐\n",
       "q_3: ┤ Ry(θ0) ├\n",
       "     └────────┘"
      ]
     },
     "execution_count": 12,
     "metadata": {},
     "output_type": "execute_result"
    }
   ],
   "source": [
    "qc.draw()"
   ]
  },
  {
   "cell_type": "code",
   "execution_count": 13,
   "metadata": {},
   "outputs": [],
   "source": [
    "def cost_function(params):\n",
    "\n",
    "    param_dict = dict(zip(param_objs, params))\n",
    "    bound = qc.assign_parameters(param_dict, inplace=False)\n",
    "\n",
    "    job = estimator.run([(bound, observable)])\n",
    "    energy = job.result()[0].data.evs\n",
    "    #print('estimator expectation val:', energy)\n",
    "\n",
    "    return energy"
   ]
  },
  {
   "cell_type": "code",
   "execution_count": 14,
   "metadata": {},
   "outputs": [],
   "source": [
    "bounds = [(0, 2 * np.pi) for _ in range(num_params)]\n",
    "max_iter = 10000\n",
    "strategy = \"randtobest1bin\"\n",
    "tol = 1e-3\n",
    "abs_tol = 1e-3\n",
    "popsize = 20\n",
    "\n",
    "seed = (os.getpid() * int(time.time())) % 123456789\n",
    "run_start = datetime.now()\n",
    "\n",
    "halton_sampler = Halton(d=num_params, seed=seed)\n",
    "scaled_samples = 2 * np.pi * halton_sampler.random(n=popsize)\n",
    "\n",
    "\n",
    "result = differential_evolution(\n",
    "    cost_function,\n",
    "    bounds=bounds,\n",
    "    maxiter=max_iter,\n",
    "    tol=tol,\n",
    "    atol=abs_tol,\n",
    "    strategy=strategy,\n",
    "    popsize=popsize,\n",
    "    init=scaled_samples,\n",
    "    seed=seed,\n",
    "    workers=1\n",
    "    )"
   ]
  },
  {
   "cell_type": "code",
   "execution_count": 15,
   "metadata": {},
   "outputs": [
    {
     "data": {
      "text/plain": [
       "np.float64(2.220446049250313e-16)"
      ]
     },
     "execution_count": 15,
     "metadata": {},
     "output_type": "execute_result"
    }
   ],
   "source": [
    "result.fun"
   ]
  },
  {
   "cell_type": "code",
   "execution_count": null,
   "metadata": {},
   "outputs": [],
   "source": []
  }
 ],
 "metadata": {
  "kernelspec": {
   "display_name": ".venv",
   "language": "python",
   "name": "python3"
  },
  "language_info": {
   "codemirror_mode": {
    "name": "ipython",
    "version": 3
   },
   "file_extension": ".py",
   "mimetype": "text/x-python",
   "name": "python",
   "nbconvert_exporter": "python",
   "pygments_lexer": "ipython3",
   "version": "3.13.1"
  }
 },
 "nbformat": 4,
 "nbformat_minor": 2
}
