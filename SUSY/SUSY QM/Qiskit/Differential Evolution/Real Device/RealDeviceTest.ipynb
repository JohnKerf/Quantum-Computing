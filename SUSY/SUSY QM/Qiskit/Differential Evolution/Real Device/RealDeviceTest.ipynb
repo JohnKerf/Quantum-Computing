{
 "cells": [
  {
   "cell_type": "code",
   "execution_count": 1,
   "metadata": {},
   "outputs": [],
   "source": [
    "from scipy.optimize import differential_evolution\n",
    "from scipy.stats.qmc import Halton\n",
    "\n",
    "# General imports\n",
    "import os\n",
    "import json\n",
    "import numpy as np\n",
    "from datetime import datetime, timedelta\n",
    "\n",
    "\n",
    "# custom module\n",
    "from susy_qm import calculate_Hamiltonian\n",
    "\n",
    "from qiskit_ibm_runtime import QiskitRuntimeService, Session, SamplerV2 as Sampler, EstimatorV2 as Estimator\n",
    "from qiskit import QuantumCircuit\n",
    "from qiskit.circuit import Parameter\n",
    "from qiskit.quantum_info import SparsePauliOp\n",
    "from qiskit.transpiler.preset_passmanagers import generate_preset_pass_manager\n",
    "from qiskit.primitives import StatevectorEstimator"
   ]
  },
  {
   "cell_type": "code",
   "execution_count": 2,
   "metadata": {},
   "outputs": [],
   "source": [
    "potential = 'QHO'\n",
    "cut_off = 2\n",
    "shots = 1024"
   ]
  },
  {
   "cell_type": "code",
   "execution_count": 3,
   "metadata": {},
   "outputs": [],
   "source": [
    "H = calculate_Hamiltonian(cut_off, potential)\n",
    "eigenvalues = np.sort(np.linalg.eig(H)[0])\n",
    "min_eigenvalue = min(eigenvalues.real)\n",
    "\n",
    "#create qiskit Hamiltonian Pauli string\n",
    "hamiltonian = SparsePauliOp.from_operator(H)\n",
    "num_qubits = hamiltonian.num_qubits"
   ]
  },
  {
   "cell_type": "code",
   "execution_count": 4,
   "metadata": {},
   "outputs": [
    {
     "name": "stdout",
     "output_type": "stream",
     "text": [
      " > Expectation value: 0.0\n",
      " > Metadata: {'target_precision': 0.0, 'circuit_metadata': {}}\n"
     ]
    }
   ],
   "source": [
    "estimator = StatevectorEstimator()\n",
    "\n",
    "qc = QuantumCircuit(num_qubits)\n",
    "#qc.ry(Parameter('theta'), 0)\n",
    "qc.ry(Parameter('theta'), 1)\n",
    "qc.draw(\"mpl\", style=\"iqp\")\n",
    "\n",
    "parameter_values = [np.pi]\n",
    "\n",
    "pm = generate_preset_pass_manager(optimization_level=1)\n",
    "isa_circuit = pm.run(qc)\n",
    "isa_observable = hamiltonian.apply_layout(isa_circuit.layout)\n",
    "\n",
    "job = estimator.run([(isa_circuit, isa_observable, parameter_values)])\n",
    "result = job.result()\n",
    "\n",
    "print(f\" > Expectation value: {result[0].data.evs}\")\n",
    "print(f\" > Metadata: {result[0].metadata}\")"
   ]
  },
  {
   "cell_type": "code",
   "execution_count": null,
   "metadata": {},
   "outputs": [],
   "source": []
  },
  {
   "cell_type": "code",
   "execution_count": 5,
   "metadata": {},
   "outputs": [],
   "source": [
    "service = QiskitRuntimeService()\n",
    "backend = service.backend('ibm_brisbane')"
   ]
  },
  {
   "cell_type": "code",
   "execution_count": 12,
   "metadata": {},
   "outputs": [],
   "source": [
    "'''\n",
    "qc = QuantumCircuit(num_qubits)\n",
    "qc.ry(Parameter('theta'), 1)\n",
    "qc.draw(\"mpl\", style=\"iqp\")\n",
    "\n",
    "pm = generate_preset_pass_manager(optimization_level=1, target=backend.target)\n",
    "isa_circuit = pm.run(qc)\n",
    "isa_observable = hamiltonian.apply_layout(isa_circuit.layout)\n",
    "\n",
    "with Session(backend=backend) as session:\n",
    "    estimator = Estimator(mode=session, options={\"default_shots\": 1024})\n",
    "\n",
    "    job = estimator.run([(isa_circuit, isa_observable, parameter_values)])\n",
    "    result = job.result()\n",
    "'''"
   ]
  },
  {
   "cell_type": "code",
   "execution_count": 8,
   "metadata": {},
   "outputs": [],
   "source": [
    "pm = generate_preset_pass_manager(optimization_level=1, target=backend.target)\n",
    "isa_circuit = pm.run(qc)\n",
    "isa_observable = hamiltonian.apply_layout(isa_circuit.layout)"
   ]
  },
  {
   "cell_type": "code",
   "execution_count": 9,
   "metadata": {},
   "outputs": [],
   "source": [
    "def cost_function(params, isa_circuit, isa_observable):\n",
    "   \n",
    "    estimator = Estimator(mode=backend, options={\"default_shots\": 1024})\n",
    "    result = estimator.run([(isa_circuit, isa_observable, params)]).result()\n",
    "    energy = result[0].data.evs\n",
    "\n",
    "    return energy\n",
    "\n",
    "\n",
    "def wrapped_cost(params):\n",
    "    #print(\"Session status:\", session.active)\n",
    "    energy = cost_function(params, isa_circuit, isa_observable)\n",
    "    print(\"Energy:\", energy)\n",
    "    return energy"
   ]
  },
  {
   "cell_type": "code",
   "execution_count": 10,
   "metadata": {},
   "outputs": [
    {
     "name": "stdout",
     "output_type": "stream",
     "text": [
      "Energy: 1.0006359704909693\n",
      "Energy: 0.004280056215663741\n",
      "Energy: 0.4356732610082961\n",
      "Energy: 0.5611659764256133\n",
      "Energy: 0.7883158229863101\n",
      "Energy: 0.4715374841168996\n",
      "Energy: 0.42051461690338193\n",
      "Energy: -0.0005723006486073601\n",
      "Energy: 0.27017922969365704\n",
      "Energy: 0.3544066178810054\n",
      "Energy: 0.010837094006228953\n",
      "Energy: 0.36890243902439024\n",
      "Energy: 0.7622284334900267\n",
      "Energy: 0.0071428571428571175\n",
      "Energy: 0.16497571505666486\n",
      "Energy: 0.04850746268656714\n",
      "Energy: 0.038700801531283635\n",
      "Energy: 0.057463042441583234\n",
      "Energy: 0.11283445261699176\n",
      "Energy: -0.12511291779584466\n",
      "Energy: 0.038926681783824635\n",
      "Energy: -0.09130736531621408\n",
      "Energy: 0.17209593699659925\n",
      "Energy: 0.19892134477600187\n",
      "Energy: 0.20573990444400814\n",
      "Energy: 0.03299844101853455\n",
      "Energy: 0.11139387445307619\n",
      "Energy: -0.1412290222927277\n",
      "Energy: 0.0020131654630280438\n"
     ]
    },
    {
     "name": "stderr",
     "output_type": "stream",
     "text": [
      "c:\\Users\\Johnk\\Documents\\PhD\\Quantum Computing Code\\Quantum-Computing\\.venv\\Lib\\site-packages\\qiskit_ibm_runtime\\qiskit_runtime_service.py:904: UserWarning: Your current pending jobs are estimated to consume 11.096129969706686 quantum seconds, but you only have 1 quantum seconds left in your monthly quota; therefore, it is likely this job will be canceled\n",
      "  warnings.warn(warning_message)\n"
     ]
    },
    {
     "name": "stdout",
     "output_type": "stream",
     "text": [
      "Energy: 0.19585798816568045\n"
     ]
    },
    {
     "ename": "",
     "evalue": "",
     "output_type": "error",
     "traceback": [
      "\u001b[1;31mThe Kernel crashed while executing code in the current cell or a previous cell. \n",
      "\u001b[1;31mPlease review the code in the cell(s) to identify a possible cause of the failure. \n",
      "\u001b[1;31mClick <a href='https://aka.ms/vscodeJupyterKernelCrash'>here</a> for more info. \n",
      "\u001b[1;31mView Jupyter <a href='command:jupyter.viewOutput'>log</a> for further details."
     ]
    }
   ],
   "source": [
    "# VQE\n",
    "vqe_start = datetime.now()\n",
    "\n",
    "#variables\n",
    "num_vqe_runs = 1\n",
    "max_iter = 6\n",
    "strategy = \"randtobest1bin\"\n",
    "tol = 1e-2\n",
    "abs_tol = 1e-2\n",
    "popsize = 5\n",
    "\n",
    "# Generate Halton sequence\n",
    "num_dimensions = 1\n",
    "num_samples = popsize\n",
    "halton_sampler = Halton(d=num_dimensions)\n",
    "halton_samples = halton_sampler.random(n=num_samples)\n",
    "scaled_samples = 2 * np.pi * halton_samples\n",
    "\n",
    "#data arrays\n",
    "energies = []\n",
    "x_values = []\n",
    "success = []\n",
    "run_times = []\n",
    "num_iters = []\n",
    "num_evaluations = []\n",
    "\n",
    "#Optimizer\n",
    "bounds = [(0, 2 * np.pi) for _ in range(num_dimensions)]\n",
    "\n",
    "run_start = datetime.now()\n",
    "\n",
    "res = differential_evolution(wrapped_cost,\n",
    "                            bounds=bounds,\n",
    "                            maxiter=max_iter,\n",
    "                            tol=tol,\n",
    "                            atol=abs_tol,\n",
    "                            strategy=strategy,\n",
    "                            popsize=popsize,\n",
    "                            init=scaled_samples\n",
    "                        )\n",
    "\n",
    "if res.success == False:\n",
    "        print(\"Not converged\")\n",
    "\n",
    "energies.append(res.fun)\n",
    "x_values.append(res.x)\n",
    "success.append(res.success)\n",
    "num_iters.append(res.nit)\n",
    "num_evaluations.append(res.nfev)\n",
    "\n",
    "run_end = datetime.now()\n",
    "run_time = run_end - run_start\n",
    "run_times.append(run_time)\n",
    "\n",
    "total_run_time = sum(run_times, timedelta())\n",
    "vqe_end = datetime.now()\n",
    "vqe_time = vqe_end - vqe_start"
   ]
  },
  {
   "cell_type": "code",
   "execution_count": null,
   "metadata": {},
   "outputs": [],
   "source": []
  },
  {
   "cell_type": "code",
   "execution_count": null,
   "metadata": {},
   "outputs": [],
   "source": [
    "# VQE\n",
    "vqe_start = datetime.now()\n",
    "\n",
    "#variables\n",
    "num_vqe_runs = 1\n",
    "max_iter = 10\n",
    "strategy = \"randtobest1bin\"\n",
    "tol = 1e-2\n",
    "abs_tol = 1e-2\n",
    "popsize = 5\n",
    "\n",
    "# Generate Halton sequence\n",
    "num_dimensions = 1\n",
    "num_samples = popsize\n",
    "halton_sampler = Halton(d=num_dimensions)\n",
    "halton_samples = halton_sampler.random(n=num_samples)\n",
    "scaled_samples = 2 * np.pi * halton_samples\n",
    "\n",
    "#data arrays\n",
    "energies = []\n",
    "x_values = []\n",
    "success = []\n",
    "run_times = []\n",
    "num_iters = []\n",
    "num_evaluations = []\n",
    "\n",
    "#Optimizer\n",
    "bounds = [(0, 2 * np.pi) for _ in range(num_dimensions)]\n",
    "\n",
    "with Session(backend=backend) as session:\n",
    "\n",
    "    estimator = Estimator(mode=session, options={\"default_shots\": 1024})\n",
    "\n",
    "    def wrapped_cost(params):\n",
    "        print(\"Session status:\", session.active)\n",
    "        energy = cost_function(params, isa_circuit, isa_observable)\n",
    "        print(\"Energy:\", energy)\n",
    "        return energy\n",
    "    \n",
    "    run_start = datetime.now()\n",
    "\n",
    "    res = differential_evolution(wrapped_cost,\n",
    "                                bounds=bounds,\n",
    "                                maxiter=max_iter,\n",
    "                                tol=tol,\n",
    "                                atol=abs_tol,\n",
    "                                strategy=strategy,\n",
    "                                popsize=popsize,\n",
    "                                init=scaled_samples\n",
    "                            )\n",
    "    \n",
    "    if res.success == False:\n",
    "            print(\"Not converged\")\n",
    "\n",
    "    energies.append(res.fun)\n",
    "    x_values.append(res.x)\n",
    "    success.append(res.success)\n",
    "    num_iters.append(res.nit)\n",
    "    num_evaluations.append(res.nfev)\n",
    "\n",
    "    run_end = datetime.now()\n",
    "    run_time = run_end - run_start\n",
    "    run_times.append(run_time)\n",
    "\n",
    "total_run_time = sum(run_times, timedelta())\n",
    "vqe_end = datetime.now()\n",
    "vqe_time = vqe_end - vqe_start"
   ]
  },
  {
   "cell_type": "code",
   "execution_count": null,
   "metadata": {},
   "outputs": [],
   "source": [
    "job = service.job('d0gweh236cs0008rcnzg')\n",
    "job_result = job.result()\n",
    "\n",
    "for idx, pub_result in enumerate(job_result):\n",
    "    print(f\"Expectation values for pub {idx}: {pub_result.data.evs}\")"
   ]
  },
  {
   "cell_type": "code",
   "execution_count": null,
   "metadata": {},
   "outputs": [],
   "source": [
    "res"
   ]
  },
  {
   "cell_type": "code",
   "execution_count": null,
   "metadata": {},
   "outputs": [],
   "source": [
    "# Save run\n",
    "run = {\n",
    "    \"starttime\": str(vqe_start),\n",
    "    \"potential\": potential,\n",
    "    \"cutoff\": cut_off,\n",
    "    \"exact_eigenvalues\": [x.real.tolist() for x in eigenvalues],\n",
    "    \"ansatz\": \"StronglyEntanglingLayers-1layer\",\n",
    "    \"num_VQE\": num_vqe_runs,\n",
    "    \"shots\": shots,\n",
    "    \"Optimizer\": {\n",
    "        \"name\": \"differential_evolution\",\n",
    "        \"bounds\": \"[(0, 2 * np.pi) for _ in range(np.prod(params_shape))]\",\n",
    "        \"maxiter\": max_iter,\n",
    "        \"tolerance\": tol,\n",
    "        \"abs_tolerance\": abs_tol,\n",
    "        \"strategy\": strategy,\n",
    "        \"popsize\": popsize,\n",
    "        'init': 'scaled_samples',\n",
    "    },\n",
    "    \"results\": energies,\n",
    "    \"params\": [x.tolist() for x in x_values],\n",
    "    \"num_iters\": num_iters,\n",
    "    \"num_evaluations\": num_evaluations,\n",
    "    \"success\": np.array(success, dtype=bool).tolist(),\n",
    "    \"run_times\": [str(x) for x in run_times],\n",
    "    \"parallel_run_time\": str(vqe_time),\n",
    "    \"total_VQE_time\": str(total_run_time),\n",
    "    \"total_device_time\": str(device_time),\n",
    "    \"Backend\": backend.name\n",
    "}\n",
    "\n",
    "run"
   ]
  },
  {
   "cell_type": "code",
   "execution_count": 64,
   "metadata": {},
   "outputs": [],
   "source": [
    "# Save the variable to a JSON file\n",
    "base_path = r\"C:\\Users\\Johnk\\Documents\\PhD\\Quantum Computing Code\\Quantum-Computing\\SUSY\\SUSY QM\\PennyLane\\VQE\\Differential Evolution\\Real Device\\Files\\\\\"\n",
    "path = base_path + \"{}_{}.json\".format(potential, cut_off)\n",
    "with open(path, 'w') as json_file:\n",
    "    json.dump(run, json_file, indent=4)"
   ]
  },
  {
   "cell_type": "code",
   "execution_count": null,
   "metadata": {},
   "outputs": [],
   "source": []
  }
 ],
 "metadata": {
  "kernelspec": {
   "display_name": ".venv",
   "language": "python",
   "name": "python3"
  },
  "language_info": {
   "codemirror_mode": {
    "name": "ipython",
    "version": 3
   },
   "file_extension": ".py",
   "mimetype": "text/x-python",
   "name": "python",
   "nbconvert_exporter": "python",
   "pygments_lexer": "ipython3",
   "version": "3.13.1"
  }
 },
 "nbformat": 4,
 "nbformat_minor": 2
}
