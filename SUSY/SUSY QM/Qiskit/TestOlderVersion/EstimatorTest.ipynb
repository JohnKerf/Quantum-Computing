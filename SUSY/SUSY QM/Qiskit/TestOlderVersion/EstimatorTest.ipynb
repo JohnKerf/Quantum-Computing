{
 "cells": [
  {
   "cell_type": "code",
   "execution_count": null,
   "id": "ca22b765",
   "metadata": {},
   "outputs": [],
   "source": [
    "#pip install qiskit==1.0.2 qiskit-aer==0.14.1 qiskit-ibm-runtime==0.20.0\n",
    "#pip install rustworkx==0.13.1 --no-cache-dir"
   ]
  },
  {
   "cell_type": "code",
   "execution_count": 1,
   "id": "c21cf2e6",
   "metadata": {},
   "outputs": [],
   "source": [
    "import numpy as np\n",
    "from qiskit.circuit.library import TwoLocal\n",
    "from qiskit.primitives import Estimator\n",
    "from qiskit.quantum_info import SparsePauliOp\n",
    "from qiskit.transpiler.preset_passmanagers import generate_preset_pass_manager\n",
    "from qiskit_aer import AerSimulator\n",
    "from qiskit_aer.primitives import Estimator as AerEstimator"
   ]
  },
  {
   "cell_type": "code",
   "execution_count": null,
   "id": "249f23c7",
   "metadata": {},
   "outputs": [
    {
     "name": "stdout",
     "output_type": "stream",
     "text": [
      "Expectation value from AerEstimator: 1.942484661953125\n",
      "Expectation value from qiskit.primitve Estimator: 2.035857647344927\n"
     ]
    }
   ],
   "source": [
    "seed = 20\n",
    "n_qubits = 2\n",
    "\n",
    "obs = SparsePauliOp(['ZY', 'YI', 'IY', 'II', 'YY', 'ZY', 'XI', 'YZ', 'ZZ', 'IX'],\n",
    "              coeffs=[0.64414354+0.j, 0.38074849+0.j, 0.66304791+0.j, 0.16365073+0.j,\n",
    " 0.96260781+0.j, 0.34666184+0.j, 0.99175099+0.j, 0.2350579 +0.j,\n",
    " 0.58569427+0.j, 0.4066901 +0.j])\n",
    "\n",
    "# Ansatz\n",
    "circuit = TwoLocal(\n",
    "    n_qubits,\n",
    "    [\"rx\", \"ry\", \"rz\"],\n",
    "    [\"cx\"],#\n",
    "    \"linear\",\n",
    "    reps=3,\n",
    ")\n",
    "\n",
    "params = np.random.uniform(low=0, high=2 * np.pi, size=circuit.num_parameters)\n",
    "\n",
    "# Estimator V2\n",
    "aer_sim = AerSimulator(method=\"automatic\")\n",
    "pm = generate_preset_pass_manager(backend=aer_sim, optimization_level=1)\n",
    "isa_qc = pm.run(circuit)\n",
    "\n",
    "# Aer Estimator\n",
    "est = AerEstimator(run_options={\"seed\": seed, \"shots\":1024})\n",
    "result = est.run([isa_qc], [obs], [params]).result()\n",
    "print(f\"Expectation value from AerEstimator: {result.values[0]}\")\n",
    "\n",
    "# Primitive Estimator\n",
    "est = Estimator(options={\"seed\": seed})\n",
    "result = est.run([isa_qc], [obs], [params]).result()\n",
    "print(f\"Expectation value from qiskit.primitve Estimator: {result.values[0]}\")"
   ]
  },
  {
   "cell_type": "code",
   "execution_count": 18,
   "id": "a50aff2f",
   "metadata": {},
   "outputs": [],
   "source": [
    "from susy_qm import calculate_Hamiltonian2\n",
    "from qiskit.circuit import QuantumCircuit, Parameter"
   ]
  },
  {
   "cell_type": "code",
   "execution_count": 6,
   "id": "909954bc",
   "metadata": {},
   "outputs": [],
   "source": [
    "potential = \"DW\"\n",
    "shots = 1024\n",
    "cutoff = 8\n",
    "\n",
    "    \n",
    "H = calculate_Hamiltonian2(cutoff, potential)\n",
    "eigenvalues = np.sort(np.linalg.eigvals(H))[:4]\n",
    "num_qubits = int(1 + np.log2(cutoff))\n",
    "\n",
    "obs = SparsePauliOp.from_operator(H)"
   ]
  },
  {
   "cell_type": "code",
   "execution_count": 9,
   "id": "8d36da40",
   "metadata": {},
   "outputs": [],
   "source": [
    "circuit = TwoLocal(\n",
    "    num_qubits,\n",
    "    [\"rx\", \"ry\", \"rz\"],\n",
    "    [\"cx\"],#\n",
    "    \"linear\",\n",
    "    reps=3,\n",
    ")"
   ]
  },
  {
   "cell_type": "code",
   "execution_count": 17,
   "id": "50ad0e5f",
   "metadata": {},
   "outputs": [
    {
     "name": "stdout",
     "output_type": "stream",
     "text": [
      "Expectation value from AerEstimator: 11.561350647421376\n"
     ]
    }
   ],
   "source": [
    "seed=42\n",
    "params = np.random.uniform(low=0, high=2 * np.pi, size=circuit.num_parameters)\n",
    "\n",
    "# Estimator V2\n",
    "aer_sim = AerSimulator(method=\"automatic\")\n",
    "pm = generate_preset_pass_manager(backend=aer_sim, optimization_level=3)\n",
    "isa_qc = pm.run(circuit)\n",
    "\n",
    "# Aer Estimator\n",
    "est = AerEstimator(run_options={\"seed\": seed, \"shots\":1024})\n",
    "result = est.run([isa_qc], [obs], [params]).result()\n",
    "print(f\"Expectation value from AerEstimator: {result.values[0]}\")"
   ]
  },
  {
   "cell_type": "code",
   "execution_count": 19,
   "id": "904d8a37",
   "metadata": {},
   "outputs": [],
   "source": [
    "def cost_function(params, H):\n",
    "\n",
    "    observable = SparsePauliOp.from_operator(H)\n",
    "    param_objs = [Parameter(f\"θ{i}\") for i in range(4)]\n",
    "\n",
    "    qc = QuantumCircuit(num_qubits)\n",
    "    qc.ry(param_objs[0], 0)     \n",
    "    qc.ry(param_objs[1], 1)     \n",
    "    qc.ry(param_objs[2], 2)     \n",
    "    qc.ry(param_objs[3], 3)\n",
    "\n",
    "    aer_sim = AerSimulator(method='automatic')\n",
    "    pm = generate_preset_pass_manager(backend=aer_sim, optimization_level=3)\n",
    "    isa_qc = pm.run(qc)\n",
    "\n",
    "    estimator = AerEstimator(run_options={\"seed\": 42, \"shots\":shots})\n",
    "    result = estimator.run([isa_qc], [observable], [params]).result()\n",
    "    \n",
    "    energy = result.values[0]\n",
    "\n",
    "    return energy"
   ]
  },
  {
   "cell_type": "code",
   "execution_count": 22,
   "id": "f405af9f",
   "metadata": {},
   "outputs": [
    {
     "name": "stderr",
     "output_type": "stream",
     "text": [
      "C:\\Users\\johnkerf\\AppData\\Local\\Temp\\ipykernel_8100\\1901656835.py:2: DeprecationWarning: Option approximation=False is deprecated as of qiskit-aer 0.13. It will be removed no earlier than 3 months after the release date. Instead, use BackendEstimator from qiskit.primitives.\n",
      "  cost_function(params,H)\n"
     ]
    },
    {
     "data": {
      "text/plain": [
       "8.744237043369203"
      ]
     },
     "execution_count": 22,
     "metadata": {},
     "output_type": "execute_result"
    }
   ],
   "source": [
    "params = np.random.rand(4)\n",
    "cost_function(params,H)"
   ]
  },
  {
   "cell_type": "code",
   "execution_count": null,
   "id": "88b0854f",
   "metadata": {},
   "outputs": [],
   "source": []
  }
 ],
 "metadata": {
  "kernelspec": {
   "display_name": ".test",
   "language": "python",
   "name": "python3"
  },
  "language_info": {
   "codemirror_mode": {
    "name": "ipython",
    "version": 3
   },
   "file_extension": ".py",
   "mimetype": "text/x-python",
   "name": "python",
   "nbconvert_exporter": "python",
   "pygments_lexer": "ipython3",
   "version": "3.9.0"
  }
 },
 "nbformat": 4,
 "nbformat_minor": 5
}
