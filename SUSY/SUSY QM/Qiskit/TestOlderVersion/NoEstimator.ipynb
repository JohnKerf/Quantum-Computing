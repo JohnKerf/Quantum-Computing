{
 "cells": [
  {
   "cell_type": "code",
   "execution_count": 1,
   "id": "a41603e1",
   "metadata": {},
   "outputs": [],
   "source": [
    "import numpy as np\n",
    "from qiskit import QuantumCircuit, transpile\n",
    "from qiskit.circuit import Parameter\n",
    "from qiskit.quantum_info import Statevector\n",
    "from qiskit_aer import AerSimulator\n",
    "from scipy.linalg import eigh, qr\n",
    "\n",
    "from scipy.optimize import differential_evolution\n",
    "from scipy.stats.qmc import Halton\n",
    "\n",
    "from susy_qm import calculate_Hamiltonian2 "
   ]
  },
  {
   "cell_type": "code",
   "execution_count": 78,
   "id": "a2940bc0",
   "metadata": {},
   "outputs": [
    {
     "name": "stdout",
     "output_type": "stream",
     "text": [
      "3\n"
     ]
    }
   ],
   "source": [
    "potential = \"AHO\"\n",
    "shots = 1024\n",
    "cutoff = 4\n",
    "\n",
    "    \n",
    "H = calculate_Hamiltonian2(cutoff, potential)\n",
    "eigvals, eigvecs = eigh(H)\n",
    "num_qubits = int(1 + np.log2(cutoff))\n",
    "print(num_qubits)"
   ]
  },
  {
   "cell_type": "code",
   "execution_count": 58,
   "id": "91168b0b",
   "metadata": {},
   "outputs": [],
   "source": [
    "# Diagonalize H\n",
    "eigvals, eigvecs = eigh(H)\n",
    "\n",
    "# Setup\n",
    "shots = 1024\n",
    "sim = AerSimulator(method=\"automatic\", seed_simulator=42)\n",
    "\n",
    "def prepare_state(params):\n",
    "    qc = QuantumCircuit(num_qubits)\n",
    "    qc.x(0)\n",
    "    qc.ry(params[0], 0)\n",
    "    qc.ry(params[1], 1)\n",
    "    qc.ry(params[2], 2)\n",
    "    qc.ry(params[3], 3)\n",
    "    \n",
    "    return qc\n",
    "\n",
    "def projector_unitary(eigvec):\n",
    "    \"\"\"Return U† that maps |v⟩ → |0⟩\"\"\"\n",
    "    # Use QR to generate full unitary with eigvec as first column\n",
    "    basis = [eigvec] + [np.eye(len(eigvec))[:, i] for i in range(1, 2**num_qubits)]\n",
    "    U = np.linalg.qr(np.column_stack(basis))[0]\n",
    "    return U.conj().T  # U†\n",
    "\n",
    "def compute_expval_shots(params):\n",
    "    total = 0.0\n",
    "    for j in range(len(eigvals)):\n",
    "        λ = eigvals[j]\n",
    "        v = eigvecs[:, j]\n",
    "\n",
    "        # Create circuit ψ(θ)\n",
    "        qc = prepare_state(params)\n",
    "\n",
    "        # Apply U† to rotate to computational basis\n",
    "        U_dag = projector_unitary(v)\n",
    "        qc.unitary(U_dag, list(range(num_qubits)))\n",
    "\n",
    "        # Measure\n",
    "        qc.measure_all()\n",
    "\n",
    "        # Transpile + run\n",
    "        tqc = transpile(qc, sim)\n",
    "        result = sim.run(tqc, shots=shots).result()\n",
    "        counts = result.get_counts()\n",
    "\n",
    "        # Probability of measuring |000>\n",
    "        p_zero = counts.get(\"0\" * num_qubits, 0) / shots\n",
    "        total += λ * p_zero\n",
    "\n",
    "    return total\n"
   ]
  },
  {
   "cell_type": "code",
   "execution_count": 59,
   "id": "bb6b971b",
   "metadata": {},
   "outputs": [],
   "source": [
    "seed=42\n",
    "\n",
    "num_params = 4\n",
    "bounds = [(0, 2 * np.pi) for _ in range(num_params)]\n",
    "\n",
    "max_iter = 1024\n",
    "strategy = \"randtobest1bin\"\n",
    "tol = 1e-3\n",
    "abs_tol = 1e-3\n",
    "popsize = 20\n",
    "\n",
    "halton_sampler = Halton(d=num_params, seed=seed)\n",
    "scaled_samples = 2 * np.pi * halton_sampler.random(n=popsize)\n",
    "\n",
    "\n",
    "result = differential_evolution(\n",
    "    compute_expval_shots,\n",
    "    bounds=bounds,\n",
    "    maxiter=max_iter,\n",
    "    tol=tol,\n",
    "    atol=abs_tol,\n",
    "    strategy=strategy,\n",
    "    popsize=popsize,\n",
    "    init=scaled_samples,\n",
    "    seed=seed\n",
    ")"
   ]
  },
  {
   "cell_type": "code",
   "execution_count": 60,
   "id": "63ff960e",
   "metadata": {},
   "outputs": [
    {
     "data": {
      "text/plain": [
       "True"
      ]
     },
     "execution_count": 60,
     "metadata": {},
     "output_type": "execute_result"
    }
   ],
   "source": [
    "result.success"
   ]
  },
  {
   "cell_type": "code",
   "execution_count": 61,
   "id": "b85a2eae",
   "metadata": {},
   "outputs": [
    {
     "data": {
      "text/plain": [
       "0.03197885013614109"
      ]
     },
     "execution_count": 61,
     "metadata": {},
     "output_type": "execute_result"
    }
   ],
   "source": [
    "result.fun"
   ]
  },
  {
   "cell_type": "code",
   "execution_count": 62,
   "id": "19b43f7a",
   "metadata": {},
   "outputs": [
    {
     "data": {
      "text/plain": [
       "0.03201011000919694"
      ]
     },
     "execution_count": 62,
     "metadata": {},
     "output_type": "execute_result"
    }
   ],
   "source": [
    "eigvals[0]"
   ]
  },
  {
   "cell_type": "code",
   "execution_count": 72,
   "id": "950852e9",
   "metadata": {},
   "outputs": [],
   "source": [
    "eigvals, eigvecs = eigh(H)\n",
    "n = int(np.log2(H.shape[0]))\n",
    "shots = 1024\n",
    "sim = AerSimulator(method='automatic', seed_simulator=42)\n",
    "\n",
    "# Generate eigenprojector basis unitaries\n",
    "projector_data = []\n",
    "for i in range(len(eigvals)):\n",
    "    eigval = eigvals[i]\n",
    "    eigvec = eigvecs[:, i]\n",
    "    cols = [eigvec] + [np.eye(2**n)[:, j] for j in range(1, 2**n)]\n",
    "    U = qr(np.column_stack(cols))[0]\n",
    "    projector_data.append((eigval, U.conj().T))\n",
    "\n",
    "# Create parameterized ansatz once\n",
    "params = [Parameter(f'theta_{i}') for i in range(n)]\n",
    "\n",
    "def base_ansatz():\n",
    "    qc = QuantumCircuit(n)\n",
    "    for i in range(n):\n",
    "        qc.ry(params[i], i)\n",
    "    return qc\n",
    "\n",
    "ansatz_template = base_ansatz()\n",
    "\n",
    "# -----------------------------\n",
    "# Cost Function\n",
    "# -----------------------------\n",
    "\n",
    "def compute_expval_shots(param_values):\n",
    "    total = 0.0\n",
    "    bindings = dict(zip(params, param_values))\n",
    "\n",
    "    for eigval, Udag in projector_data:\n",
    "        qc = ansatz_template.assign_parameters(bindings, inplace=False)\n",
    "        qc = qc.copy()\n",
    "        qc.unitary(Udag, range(n))\n",
    "        qc.measure_all()\n",
    "\n",
    "        tqc = transpile(qc, sim)\n",
    "        result = sim.run(tqc, shots=shots).result()\n",
    "        counts = result.get_counts()\n",
    "        prob_0 = counts.get('0' * n, 0) / shots\n",
    "        total += eigval * prob_0\n",
    "\n",
    "    return total\n"
   ]
  },
  {
   "cell_type": "code",
   "execution_count": null,
   "id": "a075dccb",
   "metadata": {},
   "outputs": [],
   "source": []
  },
  {
   "cell_type": "code",
   "execution_count": null,
   "id": "08f1ad93",
   "metadata": {},
   "outputs": [],
   "source": []
  },
  {
   "cell_type": "code",
   "execution_count": 2,
   "id": "9a09cfd8",
   "metadata": {},
   "outputs": [],
   "source": [
    "potential = \"AHO\"\n",
    "shots = 1024\n",
    "cutoff = 4 \n",
    "H = calculate_Hamiltonian2(cutoff, potential)"
   ]
  },
  {
   "cell_type": "code",
   "execution_count": 9,
   "id": "42c65cbc",
   "metadata": {},
   "outputs": [],
   "source": [
    "eigvals, eigvecs = eigh(H)\n",
    "n = int(np.log2(H.shape[0]))\n",
    "shots = 1024\n",
    "sim = AerSimulator(method=\"automatic\", seed_simulator=42)\n",
    "\n",
    "# Parameters for ansatz\n",
    "params = [Parameter(f'theta_{i}') for i in range(n)]\n",
    "\n",
    "# Build parameterized ansatz once\n",
    "def build_ansatz():\n",
    "    qc = QuantumCircuit(n)\n",
    "    for i in range(n):\n",
    "        qc.ry(params[i], i)\n",
    "    return qc\n",
    "\n",
    "ansatz_template = build_ansatz()\n",
    "\n",
    "# Precompute projectors (U† circuits) once\n",
    "projector_circuits = []\n",
    "for i in range(len(eigvals)):\n",
    "    eigval = eigvals[i]\n",
    "    eigvec = eigvecs[:, i]\n",
    "    cols = [eigvec] + [np.eye(2**n)[:, j] for j in range(1, 2**n)]\n",
    "    U = qr(np.column_stack(cols))[0]\n",
    "    U_dag = U.conj().T\n",
    "\n",
    "    qc = ansatz_template.copy()\n",
    "    qc.unitary(U_dag, range(n))\n",
    "    qc.measure_all()\n",
    "    projector_circuits.append((eigval, qc))\n",
    "\n",
    "# Expectation value function using finite shots\n",
    "def compute_expval(params_val):\n",
    "    bindings = dict(zip(params, params_val))\n",
    "    bound_circuits = [qc.assign_parameters(bindings, inplace=False) for _, qc in projector_circuits]\n",
    "    transpiled = transpile(bound_circuits, backend=sim)\n",
    "    result = sim.run(transpiled, shots=shots).result()\n",
    "\n",
    "    energy = 0.0\n",
    "    for i, (eigval, _) in enumerate(projector_circuits):\n",
    "        counts = result.results[i].data.counts\n",
    "        counts = {k[::-1]: v for k, v in counts.items()}  # bitstring reversal for Qiskit's endian convention\n",
    "        #prob_0 = counts.get(\"0\" * n, 0) / shots\n",
    "        prob_0 = counts.get('0x0', 0) / shots\n",
    "        energy += eigval * prob_0\n",
    "\n",
    "    return energy"
   ]
  },
  {
   "cell_type": "code",
   "execution_count": 10,
   "id": "1d85cae9",
   "metadata": {},
   "outputs": [],
   "source": [
    "seed=42\n",
    "\n",
    "num_params = n\n",
    "bounds = [(0, 2 * np.pi) for _ in range(num_params)]\n",
    "\n",
    "max_iter = 1000\n",
    "strategy = \"randtobest1bin\"\n",
    "tol = 1e-3\n",
    "abs_tol = 1e-3\n",
    "popsize = 20\n",
    "\n",
    "halton_sampler = Halton(d=num_params, seed=seed)\n",
    "scaled_samples = 2 * np.pi * halton_sampler.random(n=popsize)\n",
    "\n",
    "\n",
    "result = differential_evolution(\n",
    "    compute_expval,\n",
    "    bounds=bounds,\n",
    "    maxiter=max_iter,\n",
    "    tol=tol,\n",
    "    atol=abs_tol,\n",
    "    strategy=strategy,\n",
    "    popsize=popsize,\n",
    "    init=scaled_samples,\n",
    "    seed=seed\n",
    ")"
   ]
  },
  {
   "cell_type": "code",
   "execution_count": 11,
   "id": "f0d250d2",
   "metadata": {},
   "outputs": [
    {
     "data": {
      "text/plain": [
       "-0.16478526068502206"
      ]
     },
     "execution_count": 11,
     "metadata": {},
     "output_type": "execute_result"
    }
   ],
   "source": [
    "result.fun"
   ]
  },
  {
   "cell_type": "code",
   "execution_count": 12,
   "id": "c9d733f4",
   "metadata": {},
   "outputs": [
    {
     "data": {
      "text/plain": [
       "array([-0.16478526,  0.6733101 ,  1.66794264,  2.49907548, 14.4516899 ,\n",
       "       15.28978526, 23.62592452, 24.45705736])"
      ]
     },
     "execution_count": 12,
     "metadata": {},
     "output_type": "execute_result"
    }
   ],
   "source": [
    "eigvals"
   ]
  },
  {
   "cell_type": "code",
   "execution_count": null,
   "id": "a42e9284",
   "metadata": {},
   "outputs": [],
   "source": []
  }
 ],
 "metadata": {
  "kernelspec": {
   "display_name": ".test",
   "language": "python",
   "name": "python3"
  },
  "language_info": {
   "codemirror_mode": {
    "name": "ipython",
    "version": 3
   },
   "file_extension": ".py",
   "mimetype": "text/x-python",
   "name": "python",
   "nbconvert_exporter": "python",
   "pygments_lexer": "ipython3",
   "version": "3.9.0"
  }
 },
 "nbformat": 4,
 "nbformat_minor": 5
}
