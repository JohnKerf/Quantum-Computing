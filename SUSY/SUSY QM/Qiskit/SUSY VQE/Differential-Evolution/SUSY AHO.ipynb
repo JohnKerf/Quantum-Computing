{
 "cells": [
  {
   "cell_type": "code",
   "execution_count": 1,
   "metadata": {},
   "outputs": [],
   "source": [
    "# General imports\n",
    "import numpy as np\n",
    "import json\n",
    "\n",
    "# Pre-defined ansatz circuit and operator class for Hamiltonian\n",
    "from qiskit.circuit.library import RealAmplitudes\n",
    "from qiskit.quantum_info import SparsePauliOp\n",
    "\n",
    "# SciPy minimizer routine\n",
    "from scipy.optimize import differential_evolution\n",
    "\n",
    "# Plotting functions\n",
    "import matplotlib.pyplot as plt\n",
    "\n",
    "# runtime imports\n",
    "from qiskit_ibm_runtime import EstimatorV2 as Estimator\n",
    "from qiskit_aer import AerSimulator\n",
    "from qiskit.transpiler.preset_passmanagers import generate_preset_pass_manager\n",
    "\n",
    "# custom module\n",
    "from susy_qm import calculate_Hamiltonian\n",
    "\n",
    "aer_sim = AerSimulator(method='statevector')\n",
    "pm = generate_preset_pass_manager(backend=aer_sim, optimization_level=1)"
   ]
  },
  {
   "cell_type": "code",
   "execution_count": 2,
   "metadata": {},
   "outputs": [],
   "source": [
    "#potential = 'QHO'\n",
    "potential = 'AHO'\n",
    "#potential = 'DW'\n",
    "cut_off = 4"
   ]
  },
  {
   "cell_type": "code",
   "execution_count": 3,
   "metadata": {},
   "outputs": [],
   "source": [
    "#calculate Hamiltonian and expected eigenvalues\n",
    "H = calculate_Hamiltonian(cut_off, potential)\n",
    "eigenvalues = np.sort(np.linalg.eig(H)[0])\n",
    "min_eigenvalue = min(eigenvalues.real)\n",
    "\n",
    "#create qiskit Hamiltonian Pauli string\n",
    "hamiltonian = SparsePauliOp.from_operator(H)\n",
    "num_qubits = hamiltonian.num_qubits"
   ]
  },
  {
   "cell_type": "code",
   "execution_count": 4,
   "metadata": {},
   "outputs": [],
   "source": [
    "ansatz = RealAmplitudes(num_qubits=hamiltonian.num_qubits, reps=1)\n",
    "ansatz_isa = pm.run(ansatz)\n",
    "hamiltonian_isa = hamiltonian.apply_layout(layout=ansatz_isa.layout)"
   ]
  },
  {
   "cell_type": "code",
   "execution_count": 5,
   "metadata": {},
   "outputs": [],
   "source": [
    "cost_history_dict = {\n",
    "    \"prev_vector\": None,\n",
    "    \"iters\": 0,\n",
    "    \"cost_history\": [],\n",
    "}\n",
    "\n",
    "\n",
    "def cost_func(params, ansatz, hamiltonian, estimator):\n",
    "    \"\"\"Return estimate of energy from estimator\n",
    "\n",
    "    Parameters:\n",
    "        params (ndarray): Array of ansatz parameters\n",
    "        ansatz (QuantumCircuit): Parameterized ansatz circuit\n",
    "        hamiltonian (SparsePauliOp): Operator representation of Hamiltonian\n",
    "        estimator (EstimatorV2): Estimator primitive instance\n",
    "        cost_history_dict: Dictionary for storing intermediate results\n",
    "\n",
    "    Returns:\n",
    "        float: Energy estimate\n",
    "    \"\"\"\n",
    "    pub = (ansatz, [hamiltonian], [params])\n",
    "    #result = estimator.run(pubs=[pub], precision=0.01).result()\n",
    "    result = estimator.run(pubs=[pub]).result()\n",
    "    energy = result[0].data.evs[0]\n",
    "\n",
    "    #cost_history_dict[\"iters\"] += 1\n",
    "    #cost_history_dict[\"prev_vector\"] = params\n",
    "    #cost_history_dict[\"cost_history\"].append(energy)\n",
    "    #if cost_history_dict['iters'] % 100 == 0:\n",
    "    #    print(f\"Iters. done: {cost_history_dict['iters']} [Current cost: {energy}]\")\n",
    "\n",
    "    return energy"
   ]
  },
  {
   "cell_type": "code",
   "execution_count": 6,
   "metadata": {},
   "outputs": [],
   "source": [
    "num_params = ansatz.num_parameters\n",
    "bounds = [(0, 2 * np.pi) for _ in range(num_params)]\n",
    "\n",
    "tol=1e-3\n",
    "max_iterations = 500\n",
    "strategy = 'best1bin'\n",
    "popsize = 15"
   ]
  },
  {
   "cell_type": "code",
   "execution_count": 7,
   "metadata": {},
   "outputs": [
    {
     "name": "stdout",
     "output_type": "stream",
     "text": [
      "Run: 0\n"
     ]
    }
   ],
   "source": [
    "energies = []\n",
    "x_values = []\n",
    "\n",
    "backend=aer_sim\n",
    "estimator = Estimator(mode=backend)\n",
    "\n",
    "for i in range(1):\n",
    "\n",
    "    if i % 10 == 0:\n",
    "        print(f\"Run: {i}\")\n",
    "\n",
    "    res = differential_evolution(cost_func, \n",
    "                                    bounds, \n",
    "                                    args= (ansatz_isa, hamiltonian_isa, estimator),\n",
    "                                    maxiter=max_iterations, \n",
    "                                    atol=tol,\n",
    "                                    strategy=strategy, \n",
    "                                    popsize=popsize)\n",
    "    energies.append(res.fun)\n",
    "    x_values.append(res.x)"
   ]
  },
  {
   "cell_type": "code",
   "execution_count": 8,
   "metadata": {},
   "outputs": [
    {
     "data": {
      "text/plain": [
       "[-0.4090644357813712]"
      ]
     },
     "execution_count": 8,
     "metadata": {},
     "output_type": "execute_result"
    }
   ],
   "source": [
    "energies"
   ]
  },
  {
   "cell_type": "code",
   "execution_count": 17,
   "metadata": {},
   "outputs": [
    {
     "data": {
      "text/plain": [
       "-55.492001687977655"
      ]
     },
     "execution_count": 17,
     "metadata": {},
     "output_type": "execute_result"
    }
   ],
   "source": [
    "min(cost_history_dict['cost_history'])"
   ]
  },
  {
   "cell_type": "code",
   "execution_count": 18,
   "metadata": {},
   "outputs": [
    {
     "data": {
      "image/png": "[encoded data removed]",
      "text/plain": [
       "<Figure size 640x480 with 1 Axes>"
      ]
     },
     "metadata": {},
     "output_type": "display_data"
    }
   ],
   "source": [
    "fig, ax = plt.subplots()\n",
    "ax.plot(range(cost_history_dict[\"iters\"]), cost_history_dict[\"cost_history\"])\n",
    "ax.set_xlabel(\"Iterations\")\n",
    "ax.set_ylabel(\"Cost\")\n",
    "plt.draw()"
   ]
  },
  {
   "cell_type": "code",
   "execution_count": 11,
   "metadata": {},
   "outputs": [],
   "source": [
    "run = {\n",
    "    'potential': 'AHO',\n",
    "    'cutoff': 16,\n",
    "    'ansatz': 'RealAmplitudes',\n",
    "    'num_sessions': 100,\n",
    "    'backend': 'aer_simulator',\n",
    "    'estimator_shots': 10000,\n",
    "    'min_function': {'name': 'basinhopping',\n",
    "                     'args': {'minimizer_kwargs': {'method': \"COBYLA\",\n",
    "                                                    \"args\": ('ansatz_isa', 'hamiltonian_isa', 'estimator'),\n",
    "                                                    \"options\": {'maxiter':1000}},   \n",
    "                                'niter': 3,\n",
    "                                'T': 0.25}\n",
    "                    },\n",
    "    'results': energies,\n",
    "    'x_values': [x.tolist() for x in x_values]\n",
    "}"
   ]
  },
  {
   "cell_type": "code",
   "execution_count": 12,
   "metadata": {},
   "outputs": [],
   "source": [
    "path = r\"C:\\Users\\Johnk\\OneDrive\\Desktop\\PhD 2024\\Quantum Computing Code\\Quantum-Computing\\Qiskit\\SUSY VQE\\Files\\AHO\\AHO_16.json\"\n",
    "# Save the variable to a JSON file\n",
    "with open(path, 'w') as json_file:\n",
    "    json.dump(run, json_file, indent=4)"
   ]
  },
  {
   "cell_type": "code",
   "execution_count": 68,
   "metadata": {},
   "outputs": [],
   "source": []
  },
  {
   "cell_type": "code",
   "execution_count": 13,
   "metadata": {},
   "outputs": [],
   "source": [
    "n_values = [2, 4, 8, 16]\n",
    "data_dict = {}\n",
    "\n",
    "base_path = r\"C:\\Users\\Johnk\\OneDrive\\Desktop\\PhD 2024\\Quantum Computing Code\\Quantum-Computing\\Qiskit\\SUSY VQE\\Files\\AHO\\AHO_{}.json\"\n",
    "\n",
    "for n in n_values:\n",
    "    file_path = base_path.format(n)\n",
    "    with open(file_path, 'r') as json_file:\n",
    "        data_dict[f'c{n}'] = json.load(json_file)"
   ]
  },
  {
   "cell_type": "code",
   "execution_count": 14,
   "metadata": {},
   "outputs": [
    {
     "name": "stdout",
     "output_type": "stream",
     "text": [
      "c2\n",
      "Min:  -0.4375\n",
      "Avg:  -0.4374975\n",
      "c4\n",
      "Min:  -0.24108233132392165\n",
      "Avg:  -0.1333196277260035\n",
      "c8\n",
      "Min:  -0.8417416284745765\n",
      "Avg:  1.6553677447548585\n",
      "c16\n",
      "Min:  -28.926533464003278\n",
      "Avg:  3.549705413130431\n"
     ]
    }
   ],
   "source": [
    "for c in data_dict.keys():\n",
    "    res = [x for x in data_dict[c]['results']]\n",
    "    print(c)\n",
    "    print(\"Min: \", min(res))\n",
    "    print(\"Avg: \", np.mean(res))"
   ]
  }
 ],
 "metadata": {
  "kernelspec": {
   "display_name": ".venv",
   "language": "python",
   "name": "python3"
  },
  "language_info": {
   "codemirror_mode": {
    "name": "ipython",
    "version": 3
   },
   "file_extension": ".py",
   "mimetype": "text/x-python",
   "name": "python",
   "nbconvert_exporter": "python",
   "pygments_lexer": "ipython3",
   "version": "3.10.4"
  }
 },
 "nbformat": 4,
 "nbformat_minor": 2
}
