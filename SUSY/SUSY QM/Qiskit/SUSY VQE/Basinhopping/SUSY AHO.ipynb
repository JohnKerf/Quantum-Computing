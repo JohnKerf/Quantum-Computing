{
 "cells": [
  {
   "cell_type": "code",
   "execution_count": 2,
   "metadata": {},
   "outputs": [],
   "source": [
    "# General imports\n",
    "import numpy as np\n",
    "import re\n",
    "import sympy as sp\n",
    "import json\n",
    "\n",
    "# Pre-defined ansatz circuit and operator class for Hamiltonian\n",
    "from qiskit.circuit.library import EfficientSU2, TwoLocal, RealAmplitudes\n",
    "from qiskit.quantum_info import SparsePauliOp\n",
    "\n",
    "# SciPy minimizer routine\n",
    "from scipy.optimize import minimize, differential_evolution, basinhopping\n",
    "\n",
    "# Plotting functions\n",
    "import matplotlib.pyplot as plt\n",
    "\n",
    "# runtime imports\n",
    "from qiskit_ibm_runtime import QiskitRuntimeService, Session\n",
    "from qiskit_ibm_runtime import EstimatorV2 as Estimator\n",
    "from qiskit_aer import AerSimulator\n",
    "from qiskit.transpiler.preset_passmanagers import generate_preset_pass_manager\n",
    "\n",
    "aer_sim = AerSimulator(method='statevector')\n",
    "pm = generate_preset_pass_manager(backend=aer_sim, optimization_level=3)"
   ]
  },
  {
   "cell_type": "code",
   "execution_count": 3,
   "metadata": {},
   "outputs": [],
   "source": [
    "def create_matrix(cut_off, type):\n",
    "    # Initialize a zero matrix of the specified size\n",
    "    matrix = np.zeros((cut_off, cut_off), dtype=np.complex128)\n",
    "    \n",
    "    # Fill the off-diagonal values with square roots of integers\n",
    "    for i in range(cut_off):\n",
    "        if i > 0:  # Fill left off-diagonal\n",
    "            if type == 'q':\n",
    "                matrix[i][i - 1] = (1/np.sqrt(2)) * np.sqrt(i)  # sqrt(i) for left off-diagonal\n",
    "            else:\n",
    "                matrix[i][i - 1] = (1j/np.sqrt(2)) * np.sqrt(i)\n",
    "\n",
    "        if i < cut_off - 1:  # Fill right off-diagonal\n",
    "            if type == 'q':\n",
    "                matrix[i][i + 1] = (1/np.sqrt(2)) * np.sqrt(i + 1)  # sqrt(i + 1) for right off-diagonal\n",
    "            else:\n",
    "                matrix[i][i + 1] = (-1j/np.sqrt(2)) * np.sqrt(i + 1)\n",
    "\n",
    "    return matrix"
   ]
  },
  {
   "cell_type": "code",
   "execution_count": 4,
   "metadata": {},
   "outputs": [],
   "source": [
    "# Function to calculate the Hamiltonian\n",
    "def calculate_Hamiltonian(cut_off):\n",
    "    # Generate the position (q) and momentum (p) matrices\n",
    "    q = create_matrix(cut_off, 'q')  # q matrix\n",
    "    p = create_matrix(cut_off, 'p')  # p matrix\n",
    "    \n",
    "    #fermionic identity\n",
    "    I_f = np.eye(2)\n",
    "\n",
    "    # Calculate q^2 and q^3 for potential terms\n",
    "    q2 = np.dot(q, q)\n",
    "    q3 = np.dot(q2, q)\n",
    "    \n",
    "    # Superpotential derivatives\n",
    "    W_prime = q + q3  # W'(q) = q + q^3\n",
    "    W_double_prime = np.eye(cut_off) + 3 * q2  # W''(q) = 1 + 3q^2\n",
    "\n",
    "    # Kinetic term: p^2\n",
    "    p2 = np.dot(p, p)\n",
    "\n",
    "    # Commutator term [b^†, b] = -Z\n",
    "    Z = np.array([[1, 0], [0, -1]])  # Pauli Z matrix for fermion number\n",
    "    commutator_term = np.kron(Z, W_double_prime)\n",
    "\n",
    "    # Construct the block-diagonal kinetic term (bosonic and fermionic parts)\n",
    "    # Bosonic part is the same for both, hence we use kron with the identity matrix\n",
    "    kinetic_term = np.kron(I_f, p2)\n",
    "\n",
    "    # Potential term (W' contribution)\n",
    "    potential_term = np.kron(I_f, np.dot(W_prime, W_prime))\n",
    "\n",
    "    # Construct the full Hamiltonian\n",
    "    H_SQM = 0.5 * (kinetic_term + potential_term + commutator_term)\n",
    "\n",
    "    return H_SQM"
   ]
  },
  {
   "cell_type": "code",
   "execution_count": 5,
   "metadata": {},
   "outputs": [],
   "source": [
    "H = calculate_Hamiltonian(4)"
   ]
  },
  {
   "cell_type": "code",
   "execution_count": 6,
   "metadata": {},
   "outputs": [
    {
     "data": {
      "text/plain": [
       "array([-0.16478526+0.j,  0.6733101 +0.j,  1.66794264+0.j,  2.49907548+0.j,\n",
       "       14.4516899 +0.j, 15.28978526+0.j, 23.62592452+0.j, 24.45705736+0.j])"
      ]
     },
     "execution_count": 6,
     "metadata": {},
     "output_type": "execute_result"
    }
   ],
   "source": [
    "np.sort(np.linalg.eig(H)[0])"
   ]
  },
  {
   "cell_type": "code",
   "execution_count": 7,
   "metadata": {},
   "outputs": [],
   "source": [
    "#sympy_matrix = sp.Matrix(H)\n",
    "#sp.pprint(sympy_matrix, use_unicode=True)"
   ]
  },
  {
   "cell_type": "code",
   "execution_count": 8,
   "metadata": {},
   "outputs": [],
   "source": [
    "hamiltonian = SparsePauliOp.from_operator(H)\n",
    "ansatz = RealAmplitudes(num_qubits=hamiltonian.num_qubits, reps=1)\n",
    "ansatz_isa = pm.run(ansatz)\n",
    "hamiltonian_isa = hamiltonian.apply_layout(layout=ansatz_isa.layout)"
   ]
  },
  {
   "cell_type": "code",
   "execution_count": 52,
   "metadata": {},
   "outputs": [],
   "source": [
    "cost_history_dict = {\n",
    "    \"prev_vector\": None,\n",
    "    \"iters\": 0,\n",
    "    \"cost_history\": [],\n",
    "}\n",
    "\n",
    "\n",
    "def cost_func(params, ansatz, hamiltonian, estimator):\n",
    "    \"\"\"Return estimate of energy from estimator\n",
    "\n",
    "    Parameters:\n",
    "        params (ndarray): Array of ansatz parameters\n",
    "        ansatz (QuantumCircuit): Parameterized ansatz circuit\n",
    "        hamiltonian (SparsePauliOp): Operator representation of Hamiltonian\n",
    "        estimator (EstimatorV2): Estimator primitive instance\n",
    "        cost_history_dict: Dictionary for storing intermediate results\n",
    "\n",
    "    Returns:\n",
    "        float: Energy estimate\n",
    "    \"\"\"\n",
    "    pub = (ansatz, [hamiltonian], [params])\n",
    "    result = estimator.run(pubs=[pub], precision=0.01).result()\n",
    "    #result = estimator.run(pubs=[pub]).result()\n",
    "    energy = result[0].data.evs[0]\n",
    "\n",
    "    cost_history_dict[\"iters\"] += 1\n",
    "    cost_history_dict[\"prev_vector\"] = params\n",
    "    cost_history_dict[\"cost_history\"].append(energy)\n",
    "    #if cost_history_dict['iters'] % 100 == 0:\n",
    "    #    print(f\"Iters. done: {cost_history_dict['iters']} [Current cost: {energy}]\")\n",
    "\n",
    "    return energy"
   ]
  },
  {
   "cell_type": "code",
   "execution_count": 53,
   "metadata": {},
   "outputs": [],
   "source": [
    "num_params = ansatz.num_parameters\n",
    "x0 = 0.25* np.pi * np.random.random(num_params)"
   ]
  },
  {
   "cell_type": "code",
   "execution_count": 136,
   "metadata": {},
   "outputs": [],
   "source": [
    "minima = []\n",
    "\n",
    "def callback(x, f, accept):\n",
    "    info = [x,f,accept]\n",
    "    minima.append(info)\n",
    "    return"
   ]
  },
  {
   "cell_type": "code",
   "execution_count": null,
   "metadata": {},
   "outputs": [],
   "source": [
    "energies = []\n",
    "x_values = []\n",
    "\n",
    "for i in range(1):\n",
    "\n",
    "    print(\"####################\")\n",
    "    print(f\"Session loop {i}\")\n",
    "\n",
    "    with Session(backend=aer_sim) as session:\n",
    "        estimator = Estimator(mode=session)\n",
    "        #estimator.options.default_shots = 10000\n",
    "        #estimator.options.optimization_level = 1\n",
    "\n",
    "        res = basinhopping(\n",
    "            cost_func,\n",
    "            x0,\n",
    "            minimizer_kwargs={'method': \"COBYLA\",\n",
    "                            \"args\": (ansatz_isa, hamiltonian_isa, estimator),\n",
    "                            \"options\": {'maxiter':1000}},\n",
    "            niter = 5,\n",
    "            T = 0.25\n",
    "        )\n",
    "        energies.append(res.fun)\n",
    "        x_values.append(res.x)"
   ]
  },
  {
   "cell_type": "code",
   "execution_count": 11,
   "metadata": {},
   "outputs": [],
   "source": [
    "run = {\n",
    "    'potential': 'AHO',\n",
    "    'cutoff': 16,\n",
    "    'ansatz': 'RealAmplitudes',\n",
    "    'num_sessions': 100,\n",
    "    'backend': 'aer_simulator',\n",
    "    'estimator_shots': 10000,\n",
    "    'min_function': {'name': 'basinhopping',\n",
    "                     'args': {'minimizer_kwargs': {'method': \"COBYLA\",\n",
    "                                                    \"args\": ('ansatz_isa', 'hamiltonian_isa', 'estimator'),\n",
    "                                                    \"options\": {'maxiter':1000}},   \n",
    "                                'niter': 3,\n",
    "                                'T': 0.25}\n",
    "                    },\n",
    "    'results': energies,\n",
    "    'x_values': [x.tolist() for x in x_values]\n",
    "}"
   ]
  },
  {
   "cell_type": "code",
   "execution_count": 12,
   "metadata": {},
   "outputs": [],
   "source": [
    "path = r\"C:\\Users\\Johnk\\OneDrive\\Desktop\\PhD 2024\\Quantum Computing Code\\Quantum-Computing\\Qiskit\\SUSY VQE\\Files\\AHO\\AHO_16.json\"\n",
    "# Save the variable to a JSON file\n",
    "with open(path, 'w') as json_file:\n",
    "    json.dump(run, json_file, indent=4)"
   ]
  },
  {
   "cell_type": "code",
   "execution_count": 13,
   "metadata": {},
   "outputs": [],
   "source": [
    "n_values = [2, 4, 8, 16]\n",
    "data_dict = {}\n",
    "\n",
    "base_path = r\"C:\\Users\\Johnk\\OneDrive\\Desktop\\PhD 2024\\Quantum Computing Code\\Quantum-Computing\\Qiskit\\SUSY VQE\\Files\\AHO\\AHO_{}.json\"\n",
    "\n",
    "for n in n_values:\n",
    "    file_path = base_path.format(n)\n",
    "    with open(file_path, 'r') as json_file:\n",
    "        data_dict[f'c{n}'] = json.load(json_file)"
   ]
  },
  {
   "cell_type": "code",
   "execution_count": 14,
   "metadata": {},
   "outputs": [
    {
     "name": "stdout",
     "output_type": "stream",
     "text": [
      "c2\n",
      "Min:  -0.4375\n",
      "Avg:  -0.4374975\n",
      "c4\n",
      "Min:  -0.24108233132392165\n",
      "Avg:  -0.1333196277260035\n",
      "c8\n",
      "Min:  -0.8417416284745765\n",
      "Avg:  1.6553677447548585\n",
      "c16\n",
      "Min:  -28.926533464003278\n",
      "Avg:  3.549705413130431\n"
     ]
    }
   ],
   "source": [
    "for c in data_dict.keys():\n",
    "    res = [x for x in data_dict[c]['results']]\n",
    "    print(c)\n",
    "    print(\"Min: \", min(res))\n",
    "    print(\"Avg: \", np.mean(res))"
   ]
  }
 ],
 "metadata": {
  "kernelspec": {
   "display_name": ".venv",
   "language": "python",
   "name": "python3"
  },
  "language_info": {
   "codemirror_mode": {
    "name": "ipython",
    "version": 3
   },
   "file_extension": ".py",
   "mimetype": "text/x-python",
   "name": "python",
   "nbconvert_exporter": "python",
   "pygments_lexer": "ipython3",
   "version": "3.10.4"
  }
 },
 "nbformat": 4,
 "nbformat_minor": 2
}
