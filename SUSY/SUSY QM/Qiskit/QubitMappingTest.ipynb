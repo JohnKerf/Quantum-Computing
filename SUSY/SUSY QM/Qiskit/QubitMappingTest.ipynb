{
 "cells": [
  {
   "cell_type": "code",
   "execution_count": 93,
   "metadata": {},
   "outputs": [],
   "source": [
    "import os, json, time, logging\n",
    "from datetime import datetime\n",
    "import numpy as np\n",
    "\n",
    "from scipy.optimize import minimize\n",
    "\n",
    "from qiskit.quantum_info import SparsePauliOp\n",
    "\n",
    "from qiskit_aer import Aer, AerSimulator\n",
    "from qiskit_aer.primitives import EstimatorV2 as AerEstimator\n",
    "from qiskit_aer.noise import NoiseModel\n",
    "\n",
    "from qiskit_ibm_runtime import EstimatorV2 as Estimator, QiskitRuntimeService, Session\n",
    "from qiskit.transpiler.preset_passmanagers import generate_preset_pass_manager\n",
    "from qiskit.primitives import StatevectorEstimator\n",
    "\n",
    "from susy_qm import calculate_Hamiltonian, ansatze\n",
    "\n",
    "from qiskit.circuit import QuantumCircuit, Parameter"
   ]
  },
  {
   "cell_type": "code",
   "execution_count": 94,
   "metadata": {},
   "outputs": [],
   "source": [
    "path = r\"C:\\Users\\Johnk\\Documents\\PhD\\Quantum Computing Code\\Quantum-Computing\\apikey.json\"\n",
    "with open(path, encoding=\"utf-8\") as f:\n",
    "    api_key = json.load(f).get(\"apikey\")\n",
    "\n",
    "NQCC_IBM_QUANTUM_API_KEY = api_key\n",
    "ibm_instance_crn = \"crn:v1:bluemix:public:quantum-computing:us-east:a/d4f95db0515b47b7ba61dba8a424f873:55736fd5-c0a0-4f44-8180-ce6e81d6c9d0::\"\n",
    "service = QiskitRuntimeService(channel=\"ibm_quantum_platform\", token=NQCC_IBM_QUANTUM_API_KEY, instance=ibm_instance_crn)"
   ]
  },
  {
   "cell_type": "code",
   "execution_count": 95,
   "metadata": {},
   "outputs": [
    {
     "name": "stdout",
     "output_type": "stream",
     "text": [
      "Running VQE with CQAVQE_DW4_exact ansatz using 3 params\n"
     ]
    }
   ],
   "source": [
    "potential = \"DW\"\n",
    "cutoff = 4\n",
    "\n",
    "ansatze_type = 'exact'\n",
    "if potential == \"QHO\":\n",
    "    ansatz_name = f\"CQAVQE_QHO_{ansatze_type}\"\n",
    "elif (potential != \"QHO\") and (cutoff <= 16):\n",
    "    ansatz_name = f\"CQAVQE_{potential}{cutoff}_{ansatze_type}\"\n",
    "else:\n",
    "    ansatz_name = f\"CQAVQE_{potential}16_{ansatze_type}\"\n",
    "\n",
    "ansatz = ansatze.get(ansatz_name)\n",
    "num_params = ansatz.n_params\n",
    "\n",
    "print(f\"Running VQE with {ansatz_name} ansatz using {num_params} params\")"
   ]
  },
  {
   "cell_type": "code",
   "execution_count": 96,
   "metadata": {},
   "outputs": [],
   "source": [
    "H = calculate_Hamiltonian(cutoff, potential)\n",
    "eigenvalues = np.sort(np.linalg.eigvals(H))[:4]\n",
    "num_qubits = int(1 + np.log2(cutoff))"
   ]
  },
  {
   "cell_type": "code",
   "execution_count": 97,
   "metadata": {},
   "outputs": [
    {
     "name": "stdout",
     "output_type": "stream",
     "text": [
      "SparsePauliOp(['III', 'IIX', 'IXI', 'IXX', 'IXZ', 'IYY', 'IZI', 'IZX', 'IZZ', 'ZII', 'ZIX', 'ZXX', 'ZYY', 'ZZX'],\n",
      "              coeffs=[ 5.375     +0.j,  3.027187  +0.j,  2.41481457+0.j,  2.4330127 +0.j,\n",
      " -0.64704761+0.j,  1.5669873 -0.j, -1.75      +0.j, -1.25942005+0.j,\n",
      " -1.75      +0.j,  0.5       +0.j,  0.96592583+0.j,  0.5       +0.j,\n",
      "  0.5       -0.j, -0.25881905+0.j])\n"
     ]
    }
   ],
   "source": [
    "observable = SparsePauliOp.from_operator(H)\n",
    "print(observable)"
   ]
  },
  {
   "cell_type": "code",
   "execution_count": 98,
   "metadata": {},
   "outputs": [
    {
     "name": "stdout",
     "output_type": "stream",
     "text": [
      "     ┌────────┐┌────────┐\n",
      "q_0: ┤ Ry(θ1) ├┤ Ry(θ2) ├\n",
      "     ├────────┤└───┬────┘\n",
      "q_1: ┤ Ry(θ0) ├────■─────\n",
      "     └─┬───┬──┘          \n",
      "q_2: ──┤ X ├─────────────\n",
      "       └───┘             \n"
     ]
    }
   ],
   "source": [
    "#param_objs = [Parameter(f\"θ{i}\") for i in range(num_params)]\n",
    "#qc = QuantumCircuit(num_qubits)\n",
    "#n = num_qubits-1\n",
    "#qc.x(n)\n",
    "#qc.ry(param_objs[0], n)\n",
    "\n",
    "qc = ansatze.pl_to_qiskit(ansatz, num_qubits=num_qubits, reverse_bits=True)\n",
    "print(qc)  "
   ]
  },
  {
   "cell_type": "code",
   "execution_count": 99,
   "metadata": {},
   "outputs": [
    {
     "name": "stdout",
     "output_type": "stream",
     "text": [
      "0.9065598714743937\n"
     ]
    }
   ],
   "source": [
    "params = [\n",
    "            0.3966509377256218,\n",
    "            5.951916764806598,\n",
    "            6.008466886069231\n",
    "        ]\n",
    "\n",
    "estimator = StatevectorEstimator()\n",
    "pub = (qc, observable, params)\n",
    "result = estimator.run(pubs=[pub]).result()\n",
    "energy = result[0].data.evs\n",
    "print(energy)"
   ]
  },
  {
   "cell_type": "code",
   "execution_count": 100,
   "metadata": {},
   "outputs": [
    {
     "name": "stdout",
     "output_type": "stream",
     "text": [
      "     ┌────────┐┌────────┐\n",
      "q_0: ┤ Ry(θ0) ├┤ Ry(θ2) ├\n",
      "     ├────────┤└───┬────┘\n",
      "q_1: ┤ Ry(θ1) ├────■─────\n",
      "     └─┬───┬──┘          \n",
      "q_2: ──┤ X ├─────────────\n",
      "       └───┘             \n",
      "0.9065598714743937\n"
     ]
    }
   ],
   "source": [
    "num_params = 3\n",
    "param_objs = [Parameter(f\"θ{i}\") for i in range(num_params)]\n",
    "\n",
    "qc = QuantumCircuit(num_qubits)\n",
    "qc.x(2)\n",
    "qc.ry(param_objs[0], 0)\n",
    "qc.ry(param_objs[1], 1)\n",
    "qc.cry(param_objs[2], 1,0)\n",
    "print(qc)\n",
    "\n",
    "params = [  5.951916764806598,\n",
    "            0.3966509377256218,\n",
    "            6.008466886069231\n",
    "        ]\n",
    "\n",
    "estimator = StatevectorEstimator()\n",
    "pub = (qc, observable, params)\n",
    "result = estimator.run(pubs=[pub]).result()\n",
    "energy = result[0].data.evs\n",
    "print(energy)"
   ]
  },
  {
   "cell_type": "code",
   "execution_count": 101,
   "metadata": {},
   "outputs": [
    {
     "name": "stdout",
     "output_type": "stream",
     "text": [
      "     ┌────────┐┌────────┐\n",
      "q_0: ┤ Ry(θ0) ├┤ Ry(θ2) ├\n",
      "     ├────────┤└───┬────┘\n",
      "q_1: ┤ Ry(θ1) ├────■─────\n",
      "     └─┬───┬──┘          \n",
      "q_2: ──┤ X ├─────────────\n",
      "       └───┘             \n",
      "0.899618195785681\n"
     ]
    }
   ],
   "source": [
    "num_params = 3\n",
    "param_objs = [Parameter(f\"θ{i}\") for i in range(num_params)]\n",
    "\n",
    "qc = QuantumCircuit(num_qubits)\n",
    "qc.x(2)\n",
    "qc.ry(param_objs[0], 0)\n",
    "qc.ry(param_objs[1], 1)\n",
    "qc.cry(param_objs[2], 1,0)\n",
    "print(qc)\n",
    "\n",
    "params = [  5.951916764806598,\n",
    "            0.3966509377256218,\n",
    "            6.008466886069231\n",
    "        ]\n",
    "\n",
    "backend = AerSimulator(method='statevector')\n",
    "estimator = Estimator(mode=backend)\n",
    "estimator.options.default_shots = 100000\n",
    "\n",
    "pub = (qc, observable, params)\n",
    "result = estimator.run(pubs=[pub]).result()\n",
    "energy = result[0].data.evs\n",
    "print(energy)"
   ]
  },
  {
   "cell_type": "code",
   "execution_count": null,
   "metadata": {},
   "outputs": [],
   "source": []
  },
  {
   "cell_type": "code",
   "execution_count": null,
   "metadata": {},
   "outputs": [],
   "source": []
  },
  {
   "cell_type": "code",
   "execution_count": 9,
   "metadata": {},
   "outputs": [],
   "source": [
    "#noise_model = NoiseModel.from_backend('ibm_kingston')\n",
    "#backend = AerSimulator(noise_model=noise_model)\n",
    "backend = service.backend('ibm_kingston')\n",
    "target = backend.target\n",
    "pm = generate_preset_pass_manager(target=target, optimization_level=3)\n",
    "ansatz_isa = pm.run(qc)"
   ]
  },
  {
   "cell_type": "code",
   "execution_count": 11,
   "metadata": {},
   "outputs": [
    {
     "name": "stdout",
     "output_type": "stream",
     "text": [
      "          ┌────────┐┌────┐┌────────┐┌────────────┐┌────┐┌────────┐\n",
      "q_1 -> 10 ┤ Rz(-π) ├┤ √X ├┤ Rz(-π) ├┤ Rz(π + θ0) ├┤ √X ├┤ Rz(3π) ├\n",
      "          └────────┘└────┘└────────┘└────────────┘└────┘└────────┘\n"
     ]
    }
   ],
   "source": [
    "print(ansatz_isa)"
   ]
  },
  {
   "cell_type": "code",
   "execution_count": 12,
   "metadata": {},
   "outputs": [
    {
     "name": "stdout",
     "output_type": "stream",
     "text": [
      "SparsePauliOp(['IIIIIIIIIIIIIIIIIIIIIIIIIIIIIIIIIIIIIIIIIIIIIIIIIIIIIIIIIIIIIIIIIIIIIIIIIIIIIIIIIIIIIIIIIIIIIIIIIIIIIIIIIIIIIIIIIIIIIIIIIIIIIIIIIIIIIIIIIIIIIIIIIIIIIIIIIIII', 'IIIIIIIIIIIIIIIIIIIIIIIIIIIIIIIIIIIIIIIIIIIIIIIIIIIIIIIIIIIIIIIIIIIIIIIIIIIIIIIIIIIIIIIIIIIIIIIIIIIIIIIIIIIIIIIIIIIIIIIIIIIIIIIIIIIIIIIIIIIIIIIIIZIIIIIIIIII'],\n",
      "              coeffs=[0.5+0.j, 0.5+0.j])\n"
     ]
    }
   ],
   "source": [
    "layout = getattr(ansatz_isa, \"layout\", None)\n",
    "hamiltonian_isa = observable.apply_layout(layout) if layout else observable\n",
    "\n",
    "print(hamiltonian_isa)"
   ]
  },
  {
   "cell_type": "code",
   "execution_count": null,
   "metadata": {},
   "outputs": [],
   "source": []
  }
 ],
 "metadata": {
  "kernelspec": {
   "display_name": ".venv",
   "language": "python",
   "name": "python3"
  },
  "language_info": {
   "codemirror_mode": {
    "name": "ipython",
    "version": 3
   },
   "file_extension": ".py",
   "mimetype": "text/x-python",
   "name": "python",
   "nbconvert_exporter": "python",
   "pygments_lexer": "ipython3",
   "version": "3.13.1"
  }
 },
 "nbformat": 4,
 "nbformat_minor": 2
}
