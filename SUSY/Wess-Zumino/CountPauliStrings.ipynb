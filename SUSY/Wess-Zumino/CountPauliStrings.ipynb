{
 "cells": [
  {
   "cell_type": "code",
   "execution_count": 1,
   "metadata": {},
   "outputs": [],
   "source": [
    "import numpy as np\n",
    "import pandas as pd\n",
    "from qiskit.quantum_info import SparsePauliOp\n",
    "import pennylane as qml\n",
    "\n",
    "from susy_qm import calculate_wz_hamiltonian"
   ]
  },
  {
   "cell_type": "code",
   "execution_count": 6,
   "metadata": {},
   "outputs": [],
   "source": [
    "data = {'cut_off':[],\n",
    "       'linear': [],\n",
    "       'quadratic': [],\n",
    "       }\n",
    "\n",
    "a = 1.0\n",
    "boundary_condition = 'dirichlet'\n",
    "#c = -0.2\n",
    "\n",
    "num_cut_offs = 2\n",
    "cut_off_list = [2**i for i in range(1, num_cut_offs + 1)]\n",
    "N = 4\n",
    "potential_list = ['linear', 'quadratic']\n",
    "\n",
    "for cut_off in cut_off_list:\n",
    "\n",
    "    data['cut_off'].append(cut_off)\n",
    "\n",
    "    for potential in potential_list:\n",
    "\n",
    "        if potential == 'linear':\n",
    "            c=0\n",
    "        else:\n",
    "            c=-0.2\n",
    "\n",
    "        H = calculate_wz_hamiltonian(cut_off, N, a, potential, boundary_condition, c)\n",
    "        H_pauli = SparsePauliOp.from_operator(H)\n",
    "\n",
    "        data[potential].append(H_pauli.size)"
   ]
  },
  {
   "cell_type": "code",
   "execution_count": null,
   "metadata": {},
   "outputs": [
    {
     "data": {
      "text/plain": [
       "{'cut_off': [2, 4, 8, 16, 32],\n",
       " 'linear': [5, 13, 33, 81, 185],\n",
       " 'quadratic': [7, 59, 423, 2655, 14745]}"
      ]
     },
     "execution_count": 3,
     "metadata": {},
     "output_type": "execute_result"
    }
   ],
   "source": [
    "# N=2\n",
    "data"
   ]
  },
  {
   "cell_type": "code",
   "execution_count": 5,
   "metadata": {},
   "outputs": [
    {
     "data": {
      "text/plain": [
       "{'cut_off': [2, 4, 8, 16],\n",
       " 'linear': [9, 36, 194, 1146],\n",
       " 'quadratic': [11, 117, 935, 6183]}"
      ]
     },
     "execution_count": 5,
     "metadata": {},
     "output_type": "execute_result"
    }
   ],
   "source": [
    "#N=3\n",
    "data"
   ]
  },
  {
   "cell_type": "code",
   "execution_count": 7,
   "metadata": {},
   "outputs": [
    {
     "data": {
      "text/plain": [
       "{'cut_off': [2, 4], 'linear': [13, 59], 'quadratic': [15, 175]}"
      ]
     },
     "execution_count": 7,
     "metadata": {},
     "output_type": "execute_result"
    }
   ],
   "source": [
    "#N=4\n",
    "data"
   ]
  },
  {
   "cell_type": "code",
   "execution_count": null,
   "metadata": {},
   "outputs": [],
   "source": []
  },
  {
   "cell_type": "code",
   "execution_count": null,
   "metadata": {},
   "outputs": [],
   "source": []
  }
 ],
 "metadata": {
  "kernelspec": {
   "display_name": ".venv",
   "language": "python",
   "name": "python3"
  },
  "language_info": {
   "codemirror_mode": {
    "name": "ipython",
    "version": 3
   },
   "file_extension": ".py",
   "mimetype": "text/x-python",
   "name": "python",
   "nbconvert_exporter": "python",
   "pygments_lexer": "ipython3",
   "version": "3.10.0"
  }
 },
 "nbformat": 4,
 "nbformat_minor": 2
}
