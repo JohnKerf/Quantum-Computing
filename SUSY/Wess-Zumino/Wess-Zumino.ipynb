{
 "cells": [
  {
   "cell_type": "markdown",
   "metadata": {},
   "source": [
    "The lattice Wess-Zumino Hamiltonian is given by \n",
    "\n",
    "$$\n",
    "  H = \\sum_n \\left[ \\frac{p_n^2}{2a} + \\frac{a}{2}\\left(\\frac{\\phi_{n+1}-\\phi_{n-1}}{2a}\\right)^2+\\frac{a}{2}V(\\phi_n)^2 + aV(\\phi_n)\\frac{\\phi_{n+1}-\\phi_{n-1}}{2a} \\right. \\nonumber \\\\\n",
    "             \\quad \\left.+(-1)^nV'(\\phi_n)\\left(\\chi_n^{\\dagger}\\chi_n-\\frac{1}{2}\\right) + \\frac{1}{2a}\\left(\\chi_n^{\\dagger}\\chi_{n+1}+\\chi_{n+1}^{\\dagger}\\chi_n\\right) \\right], \n",
    "$$\n",
    "\n",
    "For conceptual and code clarity we break this into four terms to specify contributions for interactions(I), non-interactions(NI) of terms with purely bosonic(B) or fermionic(F)/mixed terms.\n",
    "\n",
    "$$\n",
    "  H^B_{NI}=\\frac{p_n^2}{2a} + \\frac{a}{2}\\left(\\frac{\\phi_{n+1}-\\phi_{n-1}}{2a}\\right)^2 \\\\ \n",
    "  H^B_{I}=\\frac{a}{2}V(\\phi_n)^2 + aV(\\phi_n)\\frac{\\phi_{n+1}-\\phi_{n-1}}{2a} \\\\\n",
    "  H^F_{NI}=\\frac{1}{2a}\\left(\\chi_n^{\\dagger}\\chi_{n+1}+\\chi_{n+1}^{\\dagger}\\chi_n\\right) \\\\ \n",
    "  H^F_{I}=(-1)^nV'(\\phi_n)\\left(\\chi_n^{\\dagger}\\chi_n-\\frac{1}{2}\\right)\n",
    "$$"
   ]
  },
  {
   "cell_type": "code",
   "execution_count": 186,
   "metadata": {},
   "outputs": [],
   "source": [
    "import scipy\n",
    "from scipy.sparse import eye, kron, coo_matrix\n",
    "from scipy.sparse.linalg import eigsh\n",
    "\n",
    "import numpy as np\n",
    "from susy_qm import create_matrix\n",
    "from functools import reduce"
   ]
  },
  {
   "cell_type": "code",
   "execution_count": 218,
   "metadata": {},
   "outputs": [],
   "source": [
    "# Parameters\n",
    "N = 2\n",
    "cutoff = 16\n",
    "a = 1.0"
   ]
  },
  {
   "cell_type": "code",
   "execution_count": 219,
   "metadata": {},
   "outputs": [],
   "source": [
    "def kron_tensor(size, site, total_sites, operator):\n",
    "\n",
    "    I = eye(size, format='coo', dtype=np.complex128)\n",
    "    operators = [I] * total_sites\n",
    "    operators[site] = operator\n",
    "  \n",
    "    return reduce(kron, operators) "
   ]
  },
  {
   "cell_type": "code",
   "execution_count": 220,
   "metadata": {},
   "outputs": [],
   "source": [
    "q = coo_matrix(create_matrix(cutoff, 'q'))\n",
    "p = coo_matrix(create_matrix(cutoff, 'p'))\n",
    "chi = coo_matrix([[0, 1], [0, 0]], dtype=np.complex128)\n",
    "chidag = coo_matrix([[0, 0], [1, 0]], dtype=np.complex128)\n",
    "\n",
    "q_0 = kron_tensor(cutoff, 0, N, q)\n",
    "q_1 = kron_tensor(cutoff, 1, N, q)\n",
    "p_0 = kron_tensor(cutoff, 0, N, p)\n",
    "p_1 = kron_tensor(cutoff, 1, N, p)\n",
    "chi_0 = kron_tensor(2, 0, N, chi)\n",
    "chi_1 = kron_tensor(2, 1, N, chi)\n",
    "chidag_0 = kron_tensor(2, 0, N, chidag)\n",
    "chidag_1 = kron_tensor(2, 1, N, chidag)"
   ]
  },
  {
   "cell_type": "code",
   "execution_count": 221,
   "metadata": {},
   "outputs": [],
   "source": [
    "boson = 0.5*(p_0 @ p_0) + 0.5*(p_1 @ p_1) + 0.625*(q_0 @ q_0) + 0.625*(q_1 @ q_1)"
   ]
  },
  {
   "cell_type": "code",
   "execution_count": 222,
   "metadata": {},
   "outputs": [],
   "source": [
    "fermion = (chidag_0 @ chi_0) - (chidag_1 @ chi_1) + 0.5*(chidag_0 @ chi_1) + 0.5*(chidag_1 @ chi_0)"
   ]
  },
  {
   "cell_type": "code",
   "execution_count": 223,
   "metadata": {},
   "outputs": [
    {
     "name": "stdout",
     "output_type": "stream",
     "text": [
      "<Compressed Sparse Row sparse matrix of dtype 'complex128'\n",
      "\twith 1152 stored elements and shape (256, 256)>\n",
      "  Coords\tValues\n",
      "  (0, 2)\t(0.08838834764831843+0j)\n",
      "  (0, 0)\t(1.1249999999999998+0j)\n",
      "  (0, 32)\t(0.08838834764831843+0j)\n",
      "  (1, 3)\t(0.15309310892394867+0j)\n",
      "  (1, 1)\t(2.25+0j)\n",
      "  (1, 33)\t(0.08838834764831843+0j)\n",
      "  (2, 0)\t(0.08838834764831843+0j)\n",
      "  (2, 4)\t(0.2165063509461097+0j)\n",
      "  (2, 2)\t(3.375+0j)\n",
      "  (2, 34)\t(0.08838834764831843+0j)\n",
      "  (3, 1)\t(0.15309310892394867+0j)\n",
      "  (3, 5)\t(0.2795084971874737+0j)\n",
      "  (3, 3)\t(4.499999999999999+0j)\n",
      "  (3, 35)\t(0.08838834764831843+0j)\n",
      "  (4, 2)\t(0.2165063509461097+0j)\n",
      "  (4, 6)\t(0.34232659844072866+0j)\n",
      "  (4, 4)\t(5.624999999999999+0j)\n",
      "  (4, 36)\t(0.08838834764831843+0j)\n",
      "  (5, 3)\t(0.2795084971874737+0j)\n",
      "  (5, 7)\t(0.40504629365049105+0j)\n",
      "  (5, 5)\t(6.749999999999998+0j)\n",
      "  (5, 37)\t(0.08838834764831843+0j)\n",
      "  (6, 4)\t(0.34232659844072866+0j)\n",
      "  (6, 8)\t(0.46770717334674283+0j)\n",
      "  (6, 6)\t(7.874999999999998+0j)\n",
      "  :\t:\n",
      "  (249, 251)\t(0.6555055301063444+0j)\n",
      "  (249, 217)\t(0.9057110466368399+0j)\n",
      "  (249, 249)\t(19.125+0j)\n",
      "  (250, 248)\t(0.5929270612815714+0j)\n",
      "  (250, 252)\t(0.7180703308172536+0j)\n",
      "  (250, 218)\t(0.9057110466368399+0j)\n",
      "  (250, 250)\t(20.25+0j)\n",
      "  (251, 249)\t(0.6555055301063444+0j)\n",
      "  (251, 253)\t(0.7806247497997996+0j)\n",
      "  (251, 219)\t(0.9057110466368399+0j)\n",
      "  (251, 251)\t(21.374999999999996+0j)\n",
      "  (252, 250)\t(0.7180703308172536+0j)\n",
      "  (252, 254)\t(0.8431710977020028+0j)\n",
      "  (252, 220)\t(0.9057110466368399+0j)\n",
      "  (252, 252)\t(22.5+0j)\n",
      "  (253, 251)\t(0.7806247497997996+0j)\n",
      "  (253, 255)\t(0.9057110466368399+0j)\n",
      "  (253, 221)\t(0.9057110466368399+0j)\n",
      "  (253, 253)\t(23.624999999999996+0j)\n",
      "  (254, 252)\t(0.8431710977020028+0j)\n",
      "  (254, 222)\t(0.9057110466368399+0j)\n",
      "  (254, 254)\t(24.75+0j)\n",
      "  (255, 253)\t(0.9057110466368399+0j)\n",
      "  (255, 223)\t(0.9057110466368399+0j)\n",
      "  (255, 255)\t(16.875+0j)\n"
     ]
    }
   ],
   "source": [
    "print(boson)"
   ]
  },
  {
   "cell_type": "code",
   "execution_count": 224,
   "metadata": {},
   "outputs": [
    {
     "name": "stdout",
     "output_type": "stream",
     "text": [
      "<Block Sparse Row sparse matrix of dtype 'complex128'\n",
      "\twith 16 stored elements (blocksize=2x2) and shape (4, 4)>\n",
      "  Coords\tValues\n",
      "  (0, 0)\t0j\n",
      "  (0, 1)\t0j\n",
      "  (1, 0)\t0j\n",
      "  (1, 1)\t(-1+0j)\n",
      "  (0, 2)\t0j\n",
      "  (0, 3)\t0j\n",
      "  (1, 2)\t(0.5+0j)\n",
      "  (1, 3)\t0j\n",
      "  (2, 0)\t0j\n",
      "  (2, 1)\t(0.5+0j)\n",
      "  (3, 0)\t0j\n",
      "  (3, 1)\t0j\n",
      "  (2, 2)\t(1+0j)\n",
      "  (2, 3)\t0j\n",
      "  (3, 2)\t0j\n",
      "  (3, 3)\t0j\n"
     ]
    }
   ],
   "source": [
    "print(fermion)"
   ]
  },
  {
   "cell_type": "code",
   "execution_count": 225,
   "metadata": {},
   "outputs": [],
   "source": [
    "I_b = eye(cutoff ** N, format='coo')\n",
    "I_f = eye(2 ** N, format='coo')"
   ]
  },
  {
   "cell_type": "code",
   "execution_count": 226,
   "metadata": {},
   "outputs": [],
   "source": [
    "boson_kron = kron(boson, I_f, format='coo')\n",
    "fermion_kron = kron(I_b, fermion, format='coo')"
   ]
  },
  {
   "cell_type": "code",
   "execution_count": 227,
   "metadata": {},
   "outputs": [],
   "source": [
    "H = boson_kron + fermion_kron"
   ]
  },
  {
   "cell_type": "code",
   "execution_count": 228,
   "metadata": {},
   "outputs": [
    {
     "data": {
      "text/plain": [
       "<COOrdinate sparse matrix of dtype 'complex128'\n",
       "\twith 4096 stored elements and shape (1024, 1024)>"
      ]
     },
     "execution_count": 228,
     "metadata": {},
     "output_type": "execute_result"
    }
   ],
   "source": [
    "fermion_kron"
   ]
  },
  {
   "cell_type": "code",
   "execution_count": 229,
   "metadata": {},
   "outputs": [
    {
     "name": "stdout",
     "output_type": "stream",
     "text": [
      "Eigenvalues: [3.33479721e-16 1.11803399e+00 1.11803399e+00 1.11803399e+00]\n"
     ]
    }
   ],
   "source": [
    "# Compute the k smallest eigenvalues of the sparse Hamiltonian\n",
    "num_eigenvalues = 4\n",
    "eigenvalues, eigenvectors = eigsh(H, k=num_eigenvalues, which='SA')\n",
    "\n",
    "print(\"Eigenvalues:\", np.sort(eigenvalues))"
   ]
  },
  {
   "cell_type": "code",
   "execution_count": null,
   "metadata": {},
   "outputs": [],
   "source": []
  },
  {
   "cell_type": "code",
   "execution_count": 239,
   "metadata": {},
   "outputs": [
    {
     "name": "stdout",
     "output_type": "stream",
     "text": [
      "0\n",
      "1\n"
     ]
    }
   ],
   "source": [
    "# Parameters\n",
    "N = 2\n",
    "cutoff = 16\n",
    "a = 1.0\n",
    "\n",
    "I_b = eye(cutoff ** N, format='coo')\n",
    "I_f = eye(2 ** N, format='coo')\n",
    "\n",
    "b_dim = (I_b.size,I_b.size)\n",
    "f_dim = (I_f.size,I_f.size)\n",
    "dim = I_b.size * I_f.size\n",
    "\n",
    "zero_qop = coo_matrix((I_b.size,I_b.size), dtype=np.complex128)\n",
    "zero_cop = coo_matrix((I_f.size,I_f.size), dtype=np.complex128)\n",
    "\n",
    "H_b = coo_matrix(b_dim, dtype=np.complex128)\n",
    "H_f = coo_matrix(f_dim, dtype=np.complex128)\n",
    "H_bi = coo_matrix((dim, dim), dtype=np.complex128)\n",
    "\n",
    "H = coo_matrix((dim, dim), dtype=np.complex128)\n",
    "\n",
    "q = coo_matrix(create_matrix(cutoff, 'q'))\n",
    "p = coo_matrix(create_matrix(cutoff, 'p'))\n",
    "chi = coo_matrix([[0, 1], [0, 0]], dtype=np.complex128)\n",
    "chidag = coo_matrix([[0, 0], [1, 0]], dtype=np.complex128)\n",
    "\n",
    "for n in range(N):\n",
    "\n",
    "    print(n)\n",
    "    q_n = kron_tensor(cutoff, n, N, q)\n",
    "    p_n = kron_tensor(cutoff, n, N, p)\n",
    "\n",
    "    chi_n = kron_tensor(2, n, N, chi)\n",
    "    chidag_n = kron_tensor(2, n, N, chidag)\n",
    "\n",
    "    # Kinetic term\n",
    "    p2 = coo_matrix(p_n @ p_n / (2 * a))  \n",
    "\n",
    "    # Potential term\n",
    "    W_prime = q_n  # W'(q) = q\n",
    "    W_double_prime = I_b  # W''(q) = 1\n",
    "    potential = (a / 2) * coo_matrix(W_prime @ W_prime)\n",
    "\n",
    "    if n == 0:\n",
    "        q_nm1 = zero_qop\n",
    "        q_np1 = kron_tensor(cutoff, (n + 1), N, q)\n",
    "        chi_np1 = kron_tensor(2, (n + 1), N, chi)\n",
    "        chidag_np1 = kron_tensor(2, (n + 1) , N, chidag)\n",
    "    else:\n",
    "        q_nm1 = kron_tensor(cutoff, (n - 1), N, q)\n",
    "        q_np1 = zero_qop\n",
    "        chidag_np1 = zero_cop\n",
    "        chi_np1 = zero_cop\n",
    "\n",
    "    gradient = coo_matrix((q_np1 - q_nm1) / (2 * a))\n",
    "    gradient_term = (a / 2) * (gradient @ gradient)\n",
    "\n",
    "    potential_gradient_term = a * (W_prime @ gradient)\n",
    "\n",
    "    H_b += (p2 + potential + gradient_term + potential_gradient_term)\n",
    "\n",
    "    # Fermionic term\n",
    "    #commutator_term = kron(W_double_prime, ((-1) ** n) * coo_matrix(chidag_n @ chi_n - 0.5 * I_f), format='coo')\n",
    "    commutator_term = kron(W_double_prime, ((-1) ** n) * coo_matrix(chidag_n @ chi_n - 0.5 * I_f), format='coo')\n",
    "    H_bi += commutator_term\n",
    "\n",
    "    fermion_hopping = 0.5*(chidag_n @ chi_np1 + chidag_np1 @ chi_n)\n",
    "    H_f += (fermion_hopping) #+ commutator_term\n",
    "\n",
    "H = kron(H_b, I_f, format='coo') + kron(I_b, H_f, format='coo') + H_bi\n",
    "   "
   ]
  },
  {
   "cell_type": "code",
   "execution_count": 240,
   "metadata": {},
   "outputs": [
    {
     "name": "stdout",
     "output_type": "stream",
     "text": [
      "<Compressed Sparse Row sparse matrix of dtype 'complex128'\n",
      "\twith 1152 stored elements and shape (256, 256)>\n",
      "  Coords\tValues\n",
      "  (0, 32)\t(0.08838834764831843+0j)\n",
      "  (0, 0)\t(1.1249999999999998+0j)\n",
      "  (0, 2)\t(0.08838834764831843+0j)\n",
      "  (1, 33)\t(0.08838834764831843+0j)\n",
      "  (1, 1)\t(2.25+0j)\n",
      "  (1, 3)\t(0.15309310892394862+0j)\n",
      "  (2, 34)\t(0.08838834764831843+0j)\n",
      "  (2, 2)\t(3.375+0j)\n",
      "  (2, 4)\t(0.21650635094610962+0j)\n",
      "  (2, 0)\t(0.08838834764831843+0j)\n",
      "  (3, 35)\t(0.08838834764831843+0j)\n",
      "  (3, 3)\t(4.499999999999999+0j)\n",
      "  (3, 5)\t(0.27950849718747367+0j)\n",
      "  (3, 1)\t(0.15309310892394862+0j)\n",
      "  (4, 36)\t(0.08838834764831843+0j)\n",
      "  (4, 4)\t(5.624999999999999+0j)\n",
      "  (4, 6)\t(0.3423265984407287+0j)\n",
      "  (4, 2)\t(0.21650635094610962+0j)\n",
      "  (5, 37)\t(0.08838834764831843+0j)\n",
      "  (5, 5)\t(6.749999999999998+0j)\n",
      "  (5, 7)\t(0.40504629365049116+0j)\n",
      "  (5, 3)\t(0.27950849718747367+0j)\n",
      "  (6, 38)\t(0.08838834764831843+0j)\n",
      "  (6, 6)\t(7.874999999999998+0j)\n",
      "  (6, 8)\t(0.46770717334674267+0j)\n",
      "  :\t:\n",
      "  (249, 249)\t(19.125+0j)\n",
      "  (249, 251)\t(0.6555055301063446+0j)\n",
      "  (249, 247)\t(0.5303300858899106+0j)\n",
      "  (250, 218)\t(0.9057110466368398+0j)\n",
      "  (250, 250)\t(20.25+0j)\n",
      "  (250, 252)\t(0.7180703308172534+0j)\n",
      "  (250, 248)\t(0.5929270612815711+0j)\n",
      "  (251, 219)\t(0.9057110466368398+0j)\n",
      "  (251, 251)\t(21.374999999999996+0j)\n",
      "  (251, 253)\t(0.7806247497997997+0j)\n",
      "  (251, 249)\t(0.6555055301063446+0j)\n",
      "  (252, 220)\t(0.9057110466368398+0j)\n",
      "  (252, 252)\t(22.5+0j)\n",
      "  (252, 254)\t(0.8431710977020024+0j)\n",
      "  (252, 250)\t(0.7180703308172534+0j)\n",
      "  (253, 221)\t(0.9057110466368398+0j)\n",
      "  (253, 253)\t(23.624999999999996+0j)\n",
      "  (253, 255)\t(0.9057110466368398+0j)\n",
      "  (253, 251)\t(0.7806247497997997+0j)\n",
      "  (254, 222)\t(0.9057110466368398+0j)\n",
      "  (254, 254)\t(24.75+0j)\n",
      "  (254, 252)\t(0.8431710977020024+0j)\n",
      "  (255, 223)\t(0.9057110466368398+0j)\n",
      "  (255, 255)\t(16.875+0j)\n",
      "  (255, 253)\t(0.9057110466368398+0j)\n"
     ]
    }
   ],
   "source": [
    "print(H_b)"
   ]
  },
  {
   "cell_type": "code",
   "execution_count": 241,
   "metadata": {},
   "outputs": [
    {
     "name": "stdout",
     "output_type": "stream",
     "text": [
      "<Compressed Sparse Row sparse matrix of dtype 'complex128'\n",
      "\twith 2 stored elements and shape (4, 4)>\n",
      "  Coords\tValues\n",
      "  (1, 2)\t(0.5+0j)\n",
      "  (2, 1)\t(0.5+0j)\n"
     ]
    }
   ],
   "source": [
    "print(H_f)"
   ]
  },
  {
   "cell_type": "code",
   "execution_count": 243,
   "metadata": {},
   "outputs": [
    {
     "name": "stdout",
     "output_type": "stream",
     "text": [
      "Eigenvalues: [-1.34584110e-15  1.11803399e+00  1.11803399e+00  1.11803399e+00\n",
      "  1.11803399e+00  2.23606798e+00]\n"
     ]
    }
   ],
   "source": [
    "# Compute the k smallest eigenvalues of the sparse Hamiltonian\n",
    "num_eigenvalues = 6\n",
    "eigenvalues, eigenvectors = eigsh(H, k=num_eigenvalues, which='SA')\n",
    "\n",
    "print(\"Eigenvalues:\", np.sort(eigenvalues))"
   ]
  },
  {
   "cell_type": "code",
   "execution_count": null,
   "metadata": {},
   "outputs": [],
   "source": []
  },
  {
   "cell_type": "code",
   "execution_count": null,
   "metadata": {},
   "outputs": [],
   "source": []
  },
  {
   "cell_type": "code",
   "execution_count": null,
   "metadata": {},
   "outputs": [],
   "source": []
  },
  {
   "cell_type": "code",
   "execution_count": null,
   "metadata": {},
   "outputs": [],
   "source": []
  },
  {
   "cell_type": "code",
   "execution_count": null,
   "metadata": {},
   "outputs": [
    {
     "name": "stdout",
     "output_type": "stream",
     "text": [
      "dirichlet\n",
      "0\n",
      "dirichlet\n",
      "1 Zero\n"
     ]
    }
   ],
   "source": [
    "# Parameters\n",
    "N = 2\n",
    "cutoff = 16\n",
    "a = 1.0\n",
    "\n",
    "I_b = eye(cutoff ** N, format='coo')\n",
    "I_f = eye(2 ** N, format='coo')\n",
    "\n",
    "b_dim = (I_b.size,I_b.size)\n",
    "f_dim = (I_f.size,I_f.size)\n",
    "dim = I_b.size * I_f.size\n",
    "\n",
    "zero_qop = coo_matrix((I_b.size,I_b.size), dtype=np.complex128)\n",
    "zero_cop = coo_matrix((I_f.size,I_f.size), dtype=np.complex128)\n",
    "\n",
    "H_b = coo_matrix(b_dim, dtype=np.complex128)\n",
    "H_f = coo_matrix(f_dim, dtype=np.complex128)\n",
    "H_bi = coo_matrix((dim, dim), dtype=np.complex128)\n",
    "\n",
    "H = coo_matrix((dim, dim), dtype=np.complex128)\n",
    "\n",
    "q = coo_matrix(create_matrix(cutoff, 'q'))\n",
    "p = coo_matrix(create_matrix(cutoff, 'p'))\n",
    "chi = coo_matrix([[0, 1], [0, 0]], dtype=np.complex128)\n",
    "chidag = coo_matrix([[0, 0], [1, 0]], dtype=np.complex128)\n",
    "\n",
    "for n in range(N):\n",
    "\n",
    "    print(n)\n",
    "    q_n = kron_tensor(cutoff, n, N, q)\n",
    "    p_n = kron_tensor(cutoff, n, N, p)\n",
    "\n",
    "    chi_n = kron_tensor(2, n, N, chi)\n",
    "    chidag_n = kron_tensor(2, n, N, chidag)\n",
    "\n",
    "    # Kinetic term\n",
    "    p2 = coo_matrix(p_n @ p_n / (2 * a))  \n",
    "\n",
    "    # Potential term\n",
    "    W_prime = q_n  # W'(q) = q\n",
    "    W_double_prime = I_b  # W''(q) = 1\n",
    "    potential = (a / 2) * coo_matrix(W_prime @ W_prime)\n",
    "\n",
    "    if n == 0:\n",
    "        q_nm1 = zero_qop\n",
    "        q_np1 = kron_tensor(cutoff, (n + 1), N, q)\n",
    "        chi_np1 = kron_tensor(2, (n + 1), N, chi)\n",
    "        chidag_np1 = kron_tensor(2, (n + 1) , N, chidag)\n",
    "    else:\n",
    "        q_nm1 = kron_tensor(cutoff, (n - 1), N, q)\n",
    "        q_np1 = zero_qop\n",
    "        chidag_np1 = zero_cop\n",
    "        chi_np1 = zero_cop\n",
    "\n",
    "    gradient = coo_matrix((q_np1 - q_nm1) / (2 * a))\n",
    "    gradient_term = (a / 2) * (gradient @ gradient)\n",
    "\n",
    "    potential_gradient_term = a * (W_prime @ gradient)\n",
    "\n",
    "    H_b += (p2 + potential + gradient_term + potential_gradient_term)\n",
    "\n",
    "    # Fermionic term\n",
    "    #commutator_term = kron(W_double_prime, ((-1) ** n) * coo_matrix(chidag_n @ chi_n - 0.5 * I_f), format='coo')\n",
    "    commutator_term = ((-1) ** n) * coo_matrix(chidag_n @ chi_n - 0.5 * I_f)\n",
    "    #H_bi += commutator_term\n",
    "\n",
    "    fermion_hopping = 0.5*(chidag_n @ chi_np1 + chidag_np1 @ chi_n)\n",
    "    H_f += (fermion_hopping + commutator_term)\n",
    "\n",
    "H = kron(H_b, I_f, format='coo') + kron(H_f, I_b)\n",
    "   "
   ]
  },
  {
   "cell_type": "code",
   "execution_count": null,
   "metadata": {},
   "outputs": [],
   "source": []
  }
 ],
 "metadata": {
  "kernelspec": {
   "display_name": ".venv",
   "language": "python",
   "name": "python3"
  },
  "language_info": {
   "codemirror_mode": {
    "name": "ipython",
    "version": 3
   },
   "file_extension": ".py",
   "mimetype": "text/x-python",
   "name": "python",
   "nbconvert_exporter": "python",
   "pygments_lexer": "ipython3",
   "version": "3.10.4"
  }
 },
 "nbformat": 4,
 "nbformat_minor": 2
}
