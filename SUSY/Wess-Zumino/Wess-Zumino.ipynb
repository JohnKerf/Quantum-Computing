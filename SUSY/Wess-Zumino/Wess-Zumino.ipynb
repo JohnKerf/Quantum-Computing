{
 "cells": [
  {
   "cell_type": "markdown",
   "metadata": {},
   "source": [
    "The lattice Wess-Zumino Hamiltonian is given by \n",
    "\n",
    "$$\n",
    "  H = \\sum_n \\left[ \\frac{p_n^2}{2a} + \\frac{a}{2}\\left(\\frac{\\phi_{n+1}-\\phi_{n-1}}{2a}\\right)^2+\\frac{a}{2}V(\\phi_n)^2 + aV(\\phi_n)\\frac{\\phi_{n+1}-\\phi_{n-1}}{2a} \\right. \\nonumber \\\\\n",
    "             \\quad \\left.+(-1)^nV'(\\phi_n)\\left(\\chi_n^{\\dagger}\\chi_n-\\frac{1}{2}\\right) + \\frac{1}{2a}\\left(\\chi_n^{\\dagger}\\chi_{n+1}+\\chi_{n+1}^{\\dagger}\\chi_n\\right) \\right], \n",
    "$$\n",
    "\n",
    "For conceptual and code clarity we break this into four terms to specify contributions for interactions(I), non-interactions(NI) of terms with purely bosonic(B) or fermionic(F)/mixed terms.\n",
    "\n",
    "$$\n",
    "  H^B_{NI}=\\frac{p_n^2}{2a} + \\frac{a}{2}\\left(\\frac{\\phi_{n+1}-\\phi_{n-1}}{2a}\\right)^2 \\\\ \n",
    "  H^B_{I}=\\frac{a}{2}V(\\phi_n)^2 + aV(\\phi_n)\\frac{\\phi_{n+1}-\\phi_{n-1}}{2a} \\\\\n",
    "  H^F_{NI}=\\frac{1}{2a}\\left(\\chi_n^{\\dagger}\\chi_{n+1}+\\chi_{n+1}^{\\dagger}\\chi_n\\right) \\\\ \n",
    "  H^F_{I}=(-1)^nV'(\\phi_n)\\left(\\chi_n^{\\dagger}\\chi_n-\\frac{1}{2}\\right)\n",
    "$$"
   ]
  },
  {
   "cell_type": "code",
   "execution_count": 2,
   "metadata": {},
   "outputs": [],
   "source": [
    "import numpy as np\n",
    "from scipy.sparse import diags, kron, identity"
   ]
  },
  {
   "cell_type": "code",
   "execution_count": 3,
   "metadata": {},
   "outputs": [],
   "source": [
    "N = 2 #sites\n",
    "a = 1 #lattice spacing\n",
    "m = 1 #mass"
   ]
  },
  {
   "cell_type": "markdown",
   "metadata": {},
   "source": [
    "$$\n",
    "\\frac{p^2}{2a} = -\\frac{\\hbar^2}{2a} \\frac{\\partial^2}{\\partial x^2}.\n",
    "$$\n",
    "\n",
    "Disrectized second derivative:\n",
    "\n",
    "$$\n",
    "\\frac{\\partial^2 \\psi}{\\partial x^2} \\Big|_{x_n} \\approx \\frac{\\psi_{n+1} - 2\\psi_n + \\psi_{n-1}}{a^2}.\n",
    "$$\n",
    "\n",
    "Final kinetic term matrix\n",
    "\n",
    "$$\n",
    "T =\n",
    "\\frac{1}{2a^3}\n",
    "\\begin{bmatrix}\n",
    "  2 & -1 &  0 & \\cdots & 0 \\\\\n",
    " -1 &  2 & -1 & \\cdots & 0 \\\\\n",
    "  0 & -1 &  2 & \\cdots & 0 \\\\\n",
    "  \\vdots & \\vdots & \\vdots & \\ddots & -1 \\\\\n",
    "  0 &  0 &  0 & -1 & 2\n",
    "\\end{bmatrix}.\n",
    "\n",
    "$$"
   ]
  },
  {
   "cell_type": "code",
   "execution_count": 12,
   "metadata": {},
   "outputs": [
    {
     "data": {
      "text/plain": [
       "array([[-1. ,  0.5],\n",
       "       [ 0.5, -1. ]])"
      ]
     },
     "execution_count": 12,
     "metadata": {},
     "output_type": "execute_result"
    }
   ],
   "source": [
    "# Bosonic kinetic energy:\n",
    "\n",
    "kinetic_diag = -2 * np.ones(N)\n",
    "off_diag = np.ones(N - 1)\n",
    "T_b = diags([kinetic_diag, off_diag, off_diag], [0, -1, 1], format=\"csr\") / 2*a**3\n",
    "T_b.toarray()"
   ]
  },
  {
   "cell_type": "markdown",
   "metadata": {},
   "source": [
    "$$\n",
    "\\text{Original Term:}\n",
    "\\quad\n",
    "\\frac{a}{2} \\left( \\frac{\\phi_{n+1} - \\phi_{n-1}}{2a} \\right)^2\n",
    "\\\\\n",
    "\\text{Finite Difference Approximation:}\n",
    "\\quad\n",
    "\\frac{\\phi_{n+1} - \\phi_{n-1}}{2a} \\approx \\frac{\\partial \\phi}{\\partial x}\n",
    "\\\\\n",
    "\\text{Square of the Derivative:}\n",
    "\\quad\n",
    "\\left( \\frac{\\phi_{n+1} - \\phi_{n-1}}{2a} \\right)^2 = \\frac{1}{4a^2} \\left( \\phi_{n+1}^2 - 2\\phi_{n+1}\\phi_{n-1} + \\phi_{n-1}^2 \\right)\n",
    "\\\\\n",
    "\\text{Including the Prefactor:}\n",
    "\\quad\n",
    "\\frac{a}{2} \\left( \\frac{\\phi_{n+1} - \\phi_{n-1}}{2a} \\right)^2 = \\frac{1}{8a} \\left( \\phi_{n+1}^2 - 2\\phi_{n+1}\\phi_{n-1} + \\phi_{n-1}^2 \\right)\n",
    "\\\\\n",
    "\\quad\n",
    "\\text{Diagonal: } \\frac{\\phi_{n+1}^2 + \\phi_{n-1}^2}{8a}, \\quad\n",
    "\\\\\n",
    "\\text{Off-Diagonal: } -\\frac{\\phi_{n+1}\\phi_{n-1}}{4a}.\n",
    "\\\\\n",
    "H = \n",
    "\\begin{bmatrix}\n",
    "\\phi_1^2 & -\\phi_1\\phi_2 & 0 & \\cdots & 0 \\\\\n",
    "-\\phi_2\\phi_1 & \\phi_2^2 & -\\phi_2\\phi_3 & \\cdots & 0 \\\\\n",
    "0 & -\\phi_3\\phi_2 & \\phi_3^2 & \\cdots & 0 \\\\\n",
    "\\vdots & \\vdots & \\vdots & \\ddots & \\vdots \\\\\n",
    "0 & 0 & 0 & \\cdots & \\phi_N^2\n",
    "\\end{bmatrix}.\n",
    "$$"
   ]
  },
  {
   "cell_type": "code",
   "execution_count": 25,
   "metadata": {},
   "outputs": [
    {
     "data": {
      "text/plain": [
       "array([[ 0.  , -0.25],\n",
       "       [ 0.25,  0.  ]])"
      ]
     },
     "execution_count": 25,
     "metadata": {},
     "output_type": "execute_result"
    }
   ],
   "source": [
    "off_diag = np.ones(N - 1)  # Off-diagonal interactions\n",
    "interaction_term = diags([off_diag, -off_diag], [-1, 1], format=\"csr\") / (4 * a)\n",
    "interaction_term.toarray()"
   ]
  },
  {
   "cell_type": "code",
   "execution_count": 1,
   "metadata": {},
   "outputs": [
    {
     "ename": "ValueError",
     "evalue": "dimension mismatch",
     "output_type": "error",
     "traceback": [
      "\u001b[1;31m---------------------------------------------------------------------------\u001b[0m",
      "\u001b[1;31mValueError\u001b[0m                                Traceback (most recent call last)",
      "Cell \u001b[1;32mIn[1], line 81\u001b[0m\n\u001b[0;32m     78\u001b[0m N \u001b[38;5;241m=\u001b[39m \u001b[38;5;241m100\u001b[39m   \u001b[38;5;66;03m# Number of points\u001b[39;00m\n\u001b[0;32m     80\u001b[0m \u001b[38;5;66;03m# Create the Wess-Zumino Hamiltonian\u001b[39;00m\n\u001b[1;32m---> 81\u001b[0m H_wz \u001b[38;5;241m=\u001b[39m \u001b[43mcreate_wess_zumino_hamiltonian\u001b[49m\u001b[43m(\u001b[49m\u001b[43mexample_potential\u001b[49m\u001b[43m,\u001b[49m\u001b[43m \u001b[49m\u001b[43mexample_potential_derivative\u001b[49m\u001b[43m,\u001b[49m\u001b[43m \u001b[49m\u001b[43mdx\u001b[49m\u001b[43m,\u001b[49m\u001b[43m \u001b[49m\u001b[43mN\u001b[49m\u001b[43m)\u001b[49m\n\u001b[0;32m     83\u001b[0m \u001b[38;5;66;03m# Display the Hamiltonian\u001b[39;00m\n\u001b[0;32m     84\u001b[0m \u001b[38;5;28mprint\u001b[39m(\u001b[38;5;124m\"\u001b[39m\u001b[38;5;124mWess-Zumino Hamiltonian:\u001b[39m\u001b[38;5;124m\"\u001b[39m)\n",
      "Cell \u001b[1;32mIn[1], line 39\u001b[0m, in \u001b[0;36mcreate_wess_zumino_hamiltonian\u001b[1;34m(potential_func, potential_derivative, dx, N)\u001b[0m\n\u001b[0;32m     37\u001b[0m V_phi \u001b[38;5;241m=\u001b[39m potential_func(phi_vals)\n\u001b[0;32m     38\u001b[0m V_b \u001b[38;5;241m=\u001b[39m \u001b[38;5;241m0.5\u001b[39m \u001b[38;5;241m*\u001b[39m V_phi\u001b[38;5;241m*\u001b[39m\u001b[38;5;241m*\u001b[39m\u001b[38;5;241m2\u001b[39m\n\u001b[1;32m---> 39\u001b[0m V_coupling \u001b[38;5;241m=\u001b[39m V_phi \u001b[38;5;241m*\u001b[39m (\u001b[43mdiags\u001b[49m\u001b[43m(\u001b[49m\u001b[43m[\u001b[49m\u001b[38;5;241;43m1\u001b[39;49m\u001b[43m,\u001b[49m\u001b[43m \u001b[49m\u001b[38;5;241;43m-\u001b[39;49m\u001b[38;5;241;43m1\u001b[39;49m\u001b[43m]\u001b[49m\u001b[43m,\u001b[49m\u001b[43m \u001b[49m\u001b[43m[\u001b[49m\u001b[38;5;241;43m-\u001b[39;49m\u001b[38;5;241;43m1\u001b[39;49m\u001b[43m,\u001b[49m\u001b[43m \u001b[49m\u001b[38;5;241;43m1\u001b[39;49m\u001b[43m]\u001b[49m\u001b[43m,\u001b[49m\u001b[43m \u001b[49m\u001b[38;5;28;43mformat\u001b[39;49m\u001b[38;5;241;43m=\u001b[39;49m\u001b[38;5;124;43m\"\u001b[39;49m\u001b[38;5;124;43mcsr\u001b[39;49m\u001b[38;5;124;43m\"\u001b[39;49m\u001b[43m)\u001b[49m\u001b[43m \u001b[49m\u001b[38;5;241;43m@\u001b[39;49m\u001b[43m \u001b[49m\u001b[43mphi_vals\u001b[49m) \u001b[38;5;241m/\u001b[39m (\u001b[38;5;241m2\u001b[39m \u001b[38;5;241m*\u001b[39m dx)\n\u001b[0;32m     41\u001b[0m V_b_matrix \u001b[38;5;241m=\u001b[39m diags(V_b, \u001b[38;5;28mformat\u001b[39m\u001b[38;5;241m=\u001b[39m\u001b[38;5;124m\"\u001b[39m\u001b[38;5;124mcsr\u001b[39m\u001b[38;5;124m\"\u001b[39m) \u001b[38;5;241m+\u001b[39m V_coupling\n\u001b[0;32m     43\u001b[0m \u001b[38;5;66;03m# Fermionic terms\u001b[39;00m\n",
      "File \u001b[1;32mc:\\Users\\johnkerf\\Desktop\\Quantum-Computing\\Quantum-Computing\\.venv\\lib\\site-packages\\scipy\\sparse\\_base.py:669\u001b[0m, in \u001b[0;36m_spbase.__matmul__\u001b[1;34m(self, other)\u001b[0m\n\u001b[0;32m    666\u001b[0m \u001b[38;5;28;01mif\u001b[39;00m isscalarlike(other):\n\u001b[0;32m    667\u001b[0m     \u001b[38;5;28;01mraise\u001b[39;00m \u001b[38;5;167;01mValueError\u001b[39;00m(\u001b[38;5;124m\"\u001b[39m\u001b[38;5;124mScalar operands are not allowed, \u001b[39m\u001b[38;5;124m\"\u001b[39m\n\u001b[0;32m    668\u001b[0m                      \u001b[38;5;124m\"\u001b[39m\u001b[38;5;124muse \u001b[39m\u001b[38;5;124m'\u001b[39m\u001b[38;5;124m*\u001b[39m\u001b[38;5;124m'\u001b[39m\u001b[38;5;124m instead\u001b[39m\u001b[38;5;124m\"\u001b[39m)\n\u001b[1;32m--> 669\u001b[0m \u001b[38;5;28;01mreturn\u001b[39;00m \u001b[38;5;28;43mself\u001b[39;49m\u001b[38;5;241;43m.\u001b[39;49m\u001b[43m_matmul_dispatch\u001b[49m\u001b[43m(\u001b[49m\u001b[43mother\u001b[49m\u001b[43m)\u001b[49m\n",
      "File \u001b[1;32mc:\\Users\\johnkerf\\Desktop\\Quantum-Computing\\Quantum-Computing\\.venv\\lib\\site-packages\\scipy\\sparse\\_base.py:598\u001b[0m, in \u001b[0;36m_spbase._matmul_dispatch\u001b[1;34m(self, other)\u001b[0m\n\u001b[0;32m    595\u001b[0m \u001b[38;5;28;01mif\u001b[39;00m other\u001b[38;5;241m.\u001b[39mndim \u001b[38;5;241m==\u001b[39m \u001b[38;5;241m1\u001b[39m \u001b[38;5;129;01mor\u001b[39;00m other\u001b[38;5;241m.\u001b[39mndim \u001b[38;5;241m==\u001b[39m \u001b[38;5;241m2\u001b[39m \u001b[38;5;129;01mand\u001b[39;00m other\u001b[38;5;241m.\u001b[39mshape[\u001b[38;5;241m1\u001b[39m] \u001b[38;5;241m==\u001b[39m \u001b[38;5;241m1\u001b[39m:\n\u001b[0;32m    596\u001b[0m     \u001b[38;5;66;03m# dense row or column vector\u001b[39;00m\n\u001b[0;32m    597\u001b[0m     \u001b[38;5;28;01mif\u001b[39;00m other\u001b[38;5;241m.\u001b[39mshape \u001b[38;5;241m!=\u001b[39m (N,) \u001b[38;5;129;01mand\u001b[39;00m other\u001b[38;5;241m.\u001b[39mshape \u001b[38;5;241m!=\u001b[39m (N, \u001b[38;5;241m1\u001b[39m):\n\u001b[1;32m--> 598\u001b[0m         \u001b[38;5;28;01mraise\u001b[39;00m \u001b[38;5;167;01mValueError\u001b[39;00m(\u001b[38;5;124m'\u001b[39m\u001b[38;5;124mdimension mismatch\u001b[39m\u001b[38;5;124m'\u001b[39m)\n\u001b[0;32m    600\u001b[0m     result \u001b[38;5;241m=\u001b[39m \u001b[38;5;28mself\u001b[39m\u001b[38;5;241m.\u001b[39m_matmul_vector(np\u001b[38;5;241m.\u001b[39mravel(other))\n\u001b[0;32m    602\u001b[0m     \u001b[38;5;28;01mif\u001b[39;00m \u001b[38;5;28misinstance\u001b[39m(other, np\u001b[38;5;241m.\u001b[39mmatrix):\n",
      "\u001b[1;31mValueError\u001b[0m: dimension mismatch"
     ]
    }
   ],
   "source": [
    "def create_wess_zumino_hamiltonian(potential_func, potential_derivative, dx, N):\n",
    "    \"\"\"\n",
    "    Creates the Wess-Zumino Hamiltonian based on the given form.\n",
    "\n",
    "    Parameters:\n",
    "    - potential_func: function\n",
    "        The potential function V(phi).\n",
    "    - potential_derivative: function\n",
    "        The derivative of the potential function, V'(phi).\n",
    "    - dx: float\n",
    "        Spacing between points in the discretized grid.\n",
    "    - N: int\n",
    "        Number of discretization points.\n",
    "\n",
    "    Returns:\n",
    "    - H_wz: ndarray\n",
    "        The Hamiltonian matrix.\n",
    "    \"\"\"\n",
    "    # Discretized grid\n",
    "    phi_vals = np.linspace(-N // 2, N // 2, N) * dx\n",
    "\n",
    "    # Bosonic kinetic energy: (p_n^2 / 2a)\n",
    "    kinetic_diag = -2 * np.ones(N)\n",
    "    off_diag = np.ones(N - 1)\n",
    "    T_b = diags([kinetic_diag, off_diag, off_diag], [0, -1, 1], format=\"csr\") / dx**2\n",
    "    T_b *= 1 / (2 * dx)\n",
    "\n",
    "    # Interaction term: (a/2) * [(phi_{n+1} - phi_{n-1}) / (2a)]^2\n",
    "    interaction_term = diags(\n",
    "        [np.ones(N - 1), -np.ones(N - 1)], [-1, 1], format=\"csr\"\n",
    "    ) / (4 * dx**2)\n",
    "\n",
    "    # Bosonic potential terms\n",
    "    V_phi = potential_func(phi_vals)\n",
    "    V_b = 0.5 * V_phi**2\n",
    "    V_coupling = V_phi * (diags([1, -1], [-1, 1], format=\"csr\") @ phi_vals) / (2 * dx)\n",
    "\n",
    "    V_b_matrix = diags(V_b, format=\"csr\") + V_coupling\n",
    "\n",
    "    # Fermionic terms\n",
    "    staggered_signs = np.array([(-1)**i for i in range(N)])\n",
    "    V_fermion = staggered_signs * potential_derivative(phi_vals)\n",
    "    fermion_potential_matrix = diags(V_fermion, format=\"csr\")\n",
    "\n",
    "    # Fermionic hopping: (1 / 2a) (chi_n^† chi_{n+1} + chi_{n+1}^† chi_n)\n",
    "    hopping_matrix = diags([np.ones(N - 1), np.ones(N - 1)], [-1, 1], format=\"csr\") / (\n",
    "        2 * dx\n",
    "    )\n",
    "\n",
    "    # Combine bosonic and fermionic terms\n",
    "    I_b = identity(N)  # Identity for bosonic space\n",
    "    I_f = np.eye(2)  # Identity for fermionic space\n",
    "\n",
    "    H_b = T_b + interaction_term + V_b_matrix  # Total bosonic part\n",
    "    H_f = fermion_potential_matrix + hopping_matrix  # Total fermionic part\n",
    "\n",
    "    # Combine into a single Hamiltonian\n",
    "    H_wz = kron(I_f, H_b) + kron(I_b, H_f)\n",
    "\n",
    "    return H_wz.toarray()\n",
    "\n",
    "\n",
    "# Example potential functions\n",
    "def example_potential(phi):\n",
    "    \"\"\"Example potential V(phi).\"\"\"\n",
    "    return phi**2 - phi  # Replace with your desired V(phi)\n",
    "\n",
    "def example_potential_derivative(phi):\n",
    "    \"\"\"Derivative of the example potential V'(phi).\"\"\"\n",
    "    return 2 * phi - 1  # Derivative of the above potential\n",
    "\n",
    "\n",
    "# Parameters\n",
    "dx = 0.1  # Grid spacing\n",
    "N = 100   # Number of points\n",
    "\n",
    "# Create the Wess-Zumino Hamiltonian\n",
    "H_wz = create_wess_zumino_hamiltonian(example_potential, example_potential_derivative, dx, N)\n",
    "\n",
    "# Display the Hamiltonian\n",
    "print(\"Wess-Zumino Hamiltonian:\")\n",
    "print(H_wz)\n"
   ]
  },
  {
   "cell_type": "code",
   "execution_count": null,
   "metadata": {},
   "outputs": [],
   "source": []
  }
 ],
 "metadata": {
  "kernelspec": {
   "display_name": ".venv",
   "language": "python",
   "name": "python3"
  },
  "language_info": {
   "codemirror_mode": {
    "name": "ipython",
    "version": 3
   },
   "file_extension": ".py",
   "mimetype": "text/x-python",
   "name": "python",
   "nbconvert_exporter": "python",
   "pygments_lexer": "ipython3",
   "version": "3.10.0"
  }
 },
 "nbformat": 4,
 "nbformat_minor": 2
}
