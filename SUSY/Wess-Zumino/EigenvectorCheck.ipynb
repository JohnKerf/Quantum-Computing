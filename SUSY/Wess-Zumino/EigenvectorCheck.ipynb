{
 "cells": [
  {
   "cell_type": "code",
   "execution_count": 18,
   "metadata": {},
   "outputs": [],
   "source": [
    "import numpy as np\n",
    "import pandas as pd\n",
    "from qiskit.quantum_info import SparsePauliOp\n",
    "from susy_qm import calculate_wz_hamiltonian"
   ]
  },
  {
   "cell_type": "code",
   "execution_count": 25,
   "metadata": {},
   "outputs": [],
   "source": [
    "# Parameters\n",
    "N = 2\n",
    "a = 1.0\n",
    "c = -0.8\n",
    "#potential = 'quadratic'\n",
    "potential = \"linear\"\n",
    "boundary_condition = 'dirichlet'\n",
    "#boundary_condition = 'periodic'"
   ]
  },
  {
   "cell_type": "code",
   "execution_count": 26,
   "metadata": {},
   "outputs": [
    {
     "name": "stdout",
     "output_type": "stream",
     "text": [
      "2 2 1.0 linear dirichlet -0.8\n",
      "Active basis states:\n",
      "0100\n",
      "1000\n",
      "##########################################\n",
      "4 2 1.0 linear dirichlet -0.8\n",
      "Active basis states:\n",
      "010000\n",
      "010010\n",
      "011000\n",
      "011010\n",
      "100000\n",
      "100010\n",
      "101000\n",
      "101010\n",
      "##########################################\n",
      "8 2 1.0 linear dirichlet -0.8\n",
      "Active basis states:\n",
      "01000000\n",
      "01000010\n",
      "01000100\n",
      "01000110\n",
      "01010000\n",
      "01010010\n",
      "01010100\n",
      "01010110\n",
      "01100000\n",
      "01100010\n",
      "01100100\n",
      "01100110\n",
      "01110000\n",
      "01110010\n",
      "01110100\n",
      "10000000\n",
      "10000010\n",
      "10000100\n",
      "10000110\n",
      "10010000\n",
      "10010010\n",
      "10010100\n",
      "10010110\n",
      "10100000\n",
      "10100010\n",
      "10100100\n",
      "10100110\n",
      "10110000\n",
      "10110010\n",
      "10110100\n",
      "##########################################\n",
      "16 2 1.0 linear dirichlet -0.8\n",
      "Active basis states:\n",
      "0100000000\n",
      "0100000010\n",
      "0100000100\n",
      "0100000110\n",
      "0100001000\n",
      "0100001010\n",
      "0100001100\n",
      "0100100000\n",
      "0100100010\n",
      "0100100100\n",
      "0100100110\n",
      "0100101000\n",
      "0100101010\n",
      "0101000000\n",
      "0101000010\n",
      "0101000100\n",
      "0101000110\n",
      "0101100000\n",
      "0101100010\n",
      "0101100100\n",
      "0110000000\n",
      "0110000010\n",
      "0110100000\n",
      "0110100010\n",
      "0111000000\n",
      "1000000000\n",
      "1000000010\n",
      "1000000100\n",
      "1000000110\n",
      "1000001000\n",
      "1000001010\n",
      "1000100000\n",
      "1000100010\n",
      "1000100100\n",
      "1000100110\n",
      "1000101000\n",
      "1001000000\n",
      "1001000010\n",
      "1001000100\n",
      "1001000110\n",
      "1001100000\n",
      "1001100010\n",
      "1001100100\n",
      "1010000000\n",
      "1010000010\n",
      "1010100000\n",
      "##########################################\n"
     ]
    }
   ],
   "source": [
    "cutoffs = [2,4,8,16]\n",
    "for cutoff in cutoffs:\n",
    "\n",
    "    print(cutoff, N, a, potential, boundary_condition, c)\n",
    "    H = calculate_wz_hamiltonian(cutoff, N, a, potential, boundary_condition, c)\n",
    "    hamiltonian = SparsePauliOp.from_operator(H)\n",
    "    num_qubits = hamiltonian.num_qubits\n",
    "        \n",
    "    eigenvalues, eigenvectors = np.linalg.eig(H)\n",
    "    min_eigenvalue = min(eigenvalues.real)\n",
    "    min_index = np.argmin(eigenvalues)\n",
    "    min_eigenvalue = eigenvalues[min_index]\n",
    "    min_eigenvector = np.asarray(eigenvectors[:, min_index])\n",
    "\n",
    "    active_indices = [i for i, val in enumerate(min_eigenvector) if abs(val) > 1e-8]\n",
    "    states = [format(i, f'0{num_qubits}b') for i in active_indices]\n",
    "    print(\"Active basis states:\")\n",
    "    for s in states:\n",
    "        print(s)\n",
    "\n",
    "    print('##########################################')\n"
   ]
  },
  {
   "cell_type": "code",
   "execution_count": 5,
   "metadata": {},
   "outputs": [
    {
     "data": {
      "text/plain": [
       "np.complex128(0.006966011250105146+0j)"
      ]
     },
     "execution_count": 5,
     "metadata": {},
     "output_type": "execute_result"
    }
   ],
   "source": [
    "min_eigenvalue"
   ]
  },
  {
   "cell_type": "code",
   "execution_count": null,
   "metadata": {},
   "outputs": [],
   "source": [
    "def binary_state(index, num_qubits=num_qubits):\n",
    "    return format(index, f'0{num_qubits}b')\n",
    "\n",
    "states = [binary_state(i) for i in active_indices]\n",
    "print(\"Active basis states:\")\n",
    "for s in states:\n",
    "    print(s)\n",
    "\n",
    "# Transpose to get per-qubit participation\n",
    "bit_matrix = np.array([[int(bit) for bit in state] for state in states])\n",
    "qubit_activity = bit_matrix.sum(axis=0)\n",
    "\n",
    "print(\"\\nQubit activity (number of '1's per qubit):\")\n",
    "for i, count in enumerate(qubit_activity[::-1]):  # reverse to match q2, q1, q0\n",
    "    print(f\"Qubit {i}: {'active' if count > 0 else 'inactive'} ({count} times)\")\n"
   ]
  },
  {
   "cell_type": "code",
   "execution_count": null,
   "metadata": {},
   "outputs": [],
   "source": [
    "def highlight_nonzero(val):\n",
    "    return 'background-color: green' if val != 0 else ''\n",
    "\n",
    "df = pd.DataFrame(H.real)\n",
    "df = df.style.map(highlight_nonzero).format(precision=1)\n",
    "df\n"
   ]
  },
  {
   "cell_type": "code",
   "execution_count": null,
   "metadata": {},
   "outputs": [],
   "source": [
    "active_indices = [i for i, val in enumerate(min_eigenvector) if abs(val) > 1e-8]\n",
    "df = pd.DataFrame(H.real)\n",
    "\n",
    "def highlight_active_contribution(val, row_idx, col_idx):\n",
    "    if row_idx in active_indices and col_idx in active_indices:\n",
    "        return 'background-color: green'\n",
    "    return ''\n",
    "\n",
    "styled_df = df.style.apply(\n",
    "    lambda data: np.vectorize(highlight_active_contribution)(data, *np.indices(data.shape)),\n",
    "    axis=None\n",
    ").format(\"{:.1f}\")\n",
    "\n",
    "#styled_df\n"
   ]
  },
  {
   "cell_type": "code",
   "execution_count": 27,
   "metadata": {},
   "outputs": [
    {
     "name": "stdout",
     "output_type": "stream",
     "text": [
      "Active basis states:\n",
      "0100000000\n",
      "0100000010\n",
      "0100000100\n",
      "0100000110\n",
      "0100001000\n",
      "0100001010\n",
      "0100001100\n",
      "0100100000\n",
      "0100100010\n",
      "0100100100\n",
      "0100100110\n",
      "0100101000\n",
      "0100101010\n",
      "0101000000\n",
      "0101000010\n",
      "0101000100\n",
      "0101000110\n",
      "0101100000\n",
      "0101100010\n",
      "0101100100\n",
      "0110000000\n",
      "0110000010\n",
      "0110100000\n",
      "0110100010\n",
      "0111000000\n",
      "1000000000\n",
      "1000000010\n",
      "1000000100\n",
      "1000000110\n",
      "1000001000\n",
      "1000001010\n",
      "1000100000\n",
      "1000100010\n",
      "1000100100\n",
      "1000100110\n",
      "1000101000\n",
      "1001000000\n",
      "1001000010\n",
      "1001000100\n",
      "1001000110\n",
      "1001100000\n",
      "1001100010\n",
      "1001100100\n",
      "1010000000\n",
      "1010000010\n",
      "1010100000\n"
     ]
    }
   ],
   "source": [
    "states = [format(i, f'0{num_qubits}b') for i in active_indices]\n",
    "print(\"Active basis states:\")\n",
    "for s in states:\n",
    "    print(s)\n"
   ]
  },
  {
   "cell_type": "code",
   "execution_count": null,
   "metadata": {},
   "outputs": [],
   "source": []
  }
 ],
 "metadata": {
  "kernelspec": {
   "display_name": ".venv",
   "language": "python",
   "name": "python3"
  },
  "language_info": {
   "codemirror_mode": {
    "name": "ipython",
    "version": 3
   },
   "file_extension": ".py",
   "mimetype": "text/x-python",
   "name": "python",
   "nbconvert_exporter": "python",
   "pygments_lexer": "ipython3",
   "version": "3.13.1"
  }
 },
 "nbformat": 4,
 "nbformat_minor": 2
}
