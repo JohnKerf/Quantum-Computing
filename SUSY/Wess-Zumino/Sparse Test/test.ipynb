{
 "cells": [
  {
   "cell_type": "code",
   "execution_count": 6,
   "metadata": {},
   "outputs": [],
   "source": [
    "import numpy as np\n",
    "from datetime import datetime\n",
    "from scipy.sparse.linalg import eigsh\n",
    "from susy_qm import calculate_wz_hamiltonian"
   ]
  },
  {
   "cell_type": "code",
   "execution_count": 4,
   "metadata": {},
   "outputs": [],
   "source": [
    "# Parameters\n",
    "N = 3\n",
    "a = 1.0\n",
    "c = -0.8\n",
    "\n",
    "potential = \"linear\"\n",
    "#potential = 'quadratic'\n",
    "boundary_condition = 'dirichlet'\n",
    "#boundary_condition = 'periodic'\n",
    "cutoff = 8\n",
    "shots = 1024"
   ]
  },
  {
   "cell_type": "code",
   "execution_count": 5,
   "metadata": {},
   "outputs": [
    {
     "name": "stdout",
     "output_type": "stream",
     "text": [
      "2025-04-16_10-58-09\n",
      "Running for 3 sites\n",
      "Running for dirichlet boundary conditions\n",
      "Running for linear potential, cutoff 8\n",
      "Time taken to create hamiltonian: 0:00:00.052974\n",
      "Time taken to find eigenvalues: 0:01:20.178252\n"
     ]
    }
   ],
   "source": [
    "starttime = datetime.now().strftime(\"%Y-%m-%d_%H-%M-%S\")\n",
    "\n",
    "print(str(starttime))\n",
    "print(f\"Running for {N} sites\")\n",
    "print(f\"Running for {boundary_condition} boundary conditions\")\n",
    "print(f\"Running for {potential} potential, cutoff {cutoff}\")\n",
    "\n",
    "# Calculate Hamiltonian and expected eigenvalues\n",
    "ham_start_time = datetime.now()\n",
    "H = calculate_wz_hamiltonian(cutoff, N, a, potential, boundary_condition, c)\n",
    "ham_calc_time = datetime.now() - ham_start_time\n",
    "print(f\"Time taken to create hamiltonian: {str(ham_calc_time)}\")\n",
    "\n",
    "eig_start_time = datetime.now()\n",
    "eigenvalues = np.sort(np.linalg.eig(H)[0])[:4]\n",
    "min_eigenvalue = min(eigenvalues)\n",
    "eig_calc_time = datetime.now() - eig_start_time\n",
    "print(f\"Time taken to find eigenvalues: {str(eig_calc_time)}\")"
   ]
  },
  {
   "cell_type": "code",
   "execution_count": 8,
   "metadata": {},
   "outputs": [
    {
     "name": "stdout",
     "output_type": "stream",
     "text": [
      "2025-04-16_11-07-51\n",
      "Running for 3 sites\n",
      "Running for dirichlet boundary conditions\n",
      "Running for linear potential, cutoff 8\n",
      "Time taken to create hamiltonian: 0:00:00.035093\n",
      "Time taken to find eigenvalues: 0:00:02.125185\n"
     ]
    }
   ],
   "source": [
    "starttime = datetime.now().strftime(\"%Y-%m-%d_%H-%M-%S\")\n",
    "\n",
    "print(str(starttime))\n",
    "print(f\"Running for {N} sites\")\n",
    "print(f\"Running for {boundary_condition} boundary conditions\")\n",
    "print(f\"Running for {potential} potential, cutoff {cutoff}\")\n",
    "\n",
    "# Calculate Hamiltonian and expected eigenvalues\n",
    "ham_start_time = datetime.now()\n",
    "H = calculate_wz_hamiltonian(cutoff, N, a, potential, boundary_condition, c, to_dense=False)\n",
    "ham_calc_time = datetime.now() - ham_start_time\n",
    "print(f\"Time taken to create hamiltonian: {str(ham_calc_time)}\")\n",
    "\n",
    "eig_start_time = datetime.now()\n",
    "eigenvalue, eigenvector = eigsh(H, k=3, which='SA')\n",
    "min_eigenvalue = eigenvalue[0]\n",
    "min_eigenvector = eigenvector[:, 0]\n",
    "eig_calc_time = datetime.now() - eig_start_time\n",
    "print(f\"Time taken to find eigenvalues: {str(eig_calc_time)}\")"
   ]
  },
  {
   "cell_type": "code",
   "execution_count": 9,
   "metadata": {},
   "outputs": [
    {
     "data": {
      "text/plain": [
       "array([2.73571762e-08, 1.00000003e+00, 9.99999556e-01])"
      ]
     },
     "execution_count": 9,
     "metadata": {},
     "output_type": "execute_result"
    }
   ],
   "source": [
    "eigenvalue"
   ]
  },
  {
   "cell_type": "code",
   "execution_count": null,
   "metadata": {},
   "outputs": [],
   "source": []
  }
 ],
 "metadata": {
  "kernelspec": {
   "display_name": ".venv",
   "language": "python",
   "name": "python3"
  },
  "language_info": {
   "codemirror_mode": {
    "name": "ipython",
    "version": 3
   },
   "file_extension": ".py",
   "mimetype": "text/x-python",
   "name": "python",
   "nbconvert_exporter": "python",
   "pygments_lexer": "ipython3",
   "version": "3.10.0"
  }
 },
 "nbformat": 4,
 "nbformat_minor": 2
}
