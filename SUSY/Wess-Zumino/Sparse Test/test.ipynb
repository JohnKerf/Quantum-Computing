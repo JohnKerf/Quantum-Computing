{
 "cells": [
  {
   "cell_type": "code",
   "execution_count": 2,
   "metadata": {},
   "outputs": [],
   "source": [
    "import numpy as np\n",
    "from datetime import datetime\n",
    "from scipy.sparse.linalg import eigsh\n",
    "from susy_qm import calculate_wz_hamiltonian\n",
    "from qiskit.quantum_info import SparsePauliOp"
   ]
  },
  {
   "cell_type": "code",
   "execution_count": 3,
   "metadata": {},
   "outputs": [],
   "source": [
    "# Parameters\n",
    "N = 3\n",
    "a = 1.0\n",
    "c = -0.8\n",
    "\n",
    "potential = \"linear\"\n",
    "#potential = 'quadratic'\n",
    "boundary_condition = 'dirichlet'\n",
    "#boundary_condition = 'periodic'\n",
    "cutoff = 16\n",
    "shots = 1024"
   ]
  },
  {
   "cell_type": "code",
   "execution_count": 56,
   "metadata": {},
   "outputs": [
    {
     "ename": "MemoryError",
     "evalue": "Unable to allocate 1.00 TiB for an array with shape (262144, 262144) and data type complex128",
     "output_type": "error",
     "traceback": [
      "\u001b[1;31m---------------------------------------------------------------------------\u001b[0m",
      "\u001b[1;31mMemoryError\u001b[0m                               Traceback (most recent call last)",
      "Cell \u001b[1;32mIn[56], line 3\u001b[0m\n\u001b[0;32m      1\u001b[0m \u001b[38;5;66;03m# Calculate Hamiltonian and expected eigenvalues\u001b[39;00m\n\u001b[0;32m      2\u001b[0m ham_start_time \u001b[38;5;241m=\u001b[39m datetime\u001b[38;5;241m.\u001b[39mnow()\n\u001b[1;32m----> 3\u001b[0m H \u001b[38;5;241m=\u001b[39m \u001b[43mcalculate_wz_hamiltonian\u001b[49m\u001b[43m(\u001b[49m\u001b[43mcutoff\u001b[49m\u001b[43m,\u001b[49m\u001b[43m \u001b[49m\u001b[43mN\u001b[49m\u001b[43m,\u001b[49m\u001b[43m \u001b[49m\u001b[43ma\u001b[49m\u001b[43m,\u001b[49m\u001b[43m \u001b[49m\u001b[43mpotential\u001b[49m\u001b[43m,\u001b[49m\u001b[43m \u001b[49m\u001b[43mboundary_condition\u001b[49m\u001b[43m,\u001b[49m\u001b[43m \u001b[49m\u001b[43mc\u001b[49m\u001b[43m)\u001b[49m\n\u001b[0;32m      4\u001b[0m ham_calc_time \u001b[38;5;241m=\u001b[39m datetime\u001b[38;5;241m.\u001b[39mnow() \u001b[38;5;241m-\u001b[39m ham_start_time\n\u001b[0;32m      5\u001b[0m \u001b[38;5;28mprint\u001b[39m(\u001b[38;5;124mf\u001b[39m\u001b[38;5;124m\"\u001b[39m\u001b[38;5;124mTime taken to create hamiltonian: \u001b[39m\u001b[38;5;132;01m{\u001b[39;00m\u001b[38;5;28mstr\u001b[39m(ham_calc_time)\u001b[38;5;132;01m}\u001b[39;00m\u001b[38;5;124m\"\u001b[39m)\n",
      "File \u001b[1;32m~\\Documents\\PhD\\Quantum Computing Code\\Quantum-Computing\\packages\\susy_qm\\susy_qm\\hamiltonian.py:192\u001b[0m, in \u001b[0;36mcalculate_wz_hamiltonian\u001b[1;34m(cutoff, N, a, potential, boundary_condition, c, to_dense)\u001b[0m\n\u001b[0;32m    189\u001b[0m     H_f \u001b[38;5;241m+\u001b[39m\u001b[38;5;241m=\u001b[39m (fermion_hopping)\n\u001b[0;32m    191\u001b[0m H \u001b[38;5;241m=\u001b[39m kron(I_f, H_b, \u001b[38;5;28mformat\u001b[39m\u001b[38;5;241m=\u001b[39m\u001b[38;5;124m'\u001b[39m\u001b[38;5;124mcoo\u001b[39m\u001b[38;5;124m'\u001b[39m) \u001b[38;5;241m+\u001b[39m kron(H_f, I_b, \u001b[38;5;28mformat\u001b[39m\u001b[38;5;241m=\u001b[39m\u001b[38;5;124m'\u001b[39m\u001b[38;5;124mcoo\u001b[39m\u001b[38;5;124m'\u001b[39m) \u001b[38;5;241m+\u001b[39m H_bi\n\u001b[1;32m--> 192\u001b[0m \u001b[38;5;28;01mif\u001b[39;00m to_dense: H \u001b[38;5;241m=\u001b[39m \u001b[43mH\u001b[49m\u001b[38;5;241;43m.\u001b[39;49m\u001b[43mtodense\u001b[49m\u001b[43m(\u001b[49m\u001b[43m)\u001b[49m\n\u001b[0;32m    194\u001b[0m \u001b[38;5;28;01mreturn\u001b[39;00m H\n",
      "File \u001b[1;32mc:\\Users\\Johnk\\Documents\\PhD\\Quantum Computing Code\\Quantum-Computing\\.venv\\Lib\\site-packages\\scipy\\sparse\\_matrix.py:146\u001b[0m, in \u001b[0;36mspmatrix.todense\u001b[1;34m(self, order, out)\u001b[0m\n\u001b[0;32m    116\u001b[0m \u001b[38;5;28;01mdef\u001b[39;00m\u001b[38;5;250m \u001b[39m\u001b[38;5;21mtodense\u001b[39m(\u001b[38;5;28mself\u001b[39m, order\u001b[38;5;241m=\u001b[39m\u001b[38;5;28;01mNone\u001b[39;00m, out\u001b[38;5;241m=\u001b[39m\u001b[38;5;28;01mNone\u001b[39;00m):\n\u001b[0;32m    117\u001b[0m \u001b[38;5;250m    \u001b[39m\u001b[38;5;124;03m\"\"\"\u001b[39;00m\n\u001b[0;32m    118\u001b[0m \u001b[38;5;124;03m    Return a dense representation of this sparse matrix.\u001b[39;00m\n\u001b[0;32m    119\u001b[0m \n\u001b[1;32m   (...)\u001b[0m\n\u001b[0;32m    144\u001b[0m \u001b[38;5;124;03m        `numpy.matrix` object that shares the same memory.\u001b[39;00m\n\u001b[0;32m    145\u001b[0m \u001b[38;5;124;03m    \"\"\"\u001b[39;00m\n\u001b[1;32m--> 146\u001b[0m     \u001b[38;5;28;01mreturn\u001b[39;00m \u001b[38;5;28;43msuper\u001b[39;49m\u001b[43m(\u001b[49m\u001b[43m)\u001b[49m\u001b[38;5;241;43m.\u001b[39;49m\u001b[43mtodense\u001b[49m\u001b[43m(\u001b[49m\u001b[43morder\u001b[49m\u001b[43m,\u001b[49m\u001b[43m \u001b[49m\u001b[43mout\u001b[49m\u001b[43m)\u001b[49m\n",
      "File \u001b[1;32mc:\\Users\\Johnk\\Documents\\PhD\\Quantum Computing Code\\Quantum-Computing\\.venv\\Lib\\site-packages\\scipy\\sparse\\_base.py:993\u001b[0m, in \u001b[0;36m_spbase.todense\u001b[1;34m(self, order, out)\u001b[0m\n\u001b[0;32m    965\u001b[0m \u001b[38;5;28;01mdef\u001b[39;00m\u001b[38;5;250m \u001b[39m\u001b[38;5;21mtodense\u001b[39m(\u001b[38;5;28mself\u001b[39m, order\u001b[38;5;241m=\u001b[39m\u001b[38;5;28;01mNone\u001b[39;00m, out\u001b[38;5;241m=\u001b[39m\u001b[38;5;28;01mNone\u001b[39;00m):\n\u001b[0;32m    966\u001b[0m \u001b[38;5;250m    \u001b[39m\u001b[38;5;124;03m\"\"\"\u001b[39;00m\n\u001b[0;32m    967\u001b[0m \u001b[38;5;124;03m    Return a dense representation of this sparse array.\u001b[39;00m\n\u001b[0;32m    968\u001b[0m \n\u001b[1;32m   (...)\u001b[0m\n\u001b[0;32m    991\u001b[0m \u001b[38;5;124;03m        appropriate values.\u001b[39;00m\n\u001b[0;32m    992\u001b[0m \u001b[38;5;124;03m    \"\"\"\u001b[39;00m\n\u001b[1;32m--> 993\u001b[0m     \u001b[38;5;28;01mreturn\u001b[39;00m \u001b[38;5;28mself\u001b[39m\u001b[38;5;241m.\u001b[39m_ascontainer(\u001b[38;5;28;43mself\u001b[39;49m\u001b[38;5;241;43m.\u001b[39;49m\u001b[43mtoarray\u001b[49m\u001b[43m(\u001b[49m\u001b[43morder\u001b[49m\u001b[38;5;241;43m=\u001b[39;49m\u001b[43morder\u001b[49m\u001b[43m,\u001b[49m\u001b[43m \u001b[49m\u001b[43mout\u001b[49m\u001b[38;5;241;43m=\u001b[39;49m\u001b[43mout\u001b[49m\u001b[43m)\u001b[49m)\n",
      "File \u001b[1;32mc:\\Users\\Johnk\\Documents\\PhD\\Quantum Computing Code\\Quantum-Computing\\.venv\\Lib\\site-packages\\scipy\\sparse\\_compressed.py:1170\u001b[0m, in \u001b[0;36m_cs_matrix.toarray\u001b[1;34m(self, order, out)\u001b[0m\n\u001b[0;32m   1168\u001b[0m \u001b[38;5;28;01mif\u001b[39;00m out \u001b[38;5;129;01mis\u001b[39;00m \u001b[38;5;28;01mNone\u001b[39;00m \u001b[38;5;129;01mand\u001b[39;00m order \u001b[38;5;129;01mis\u001b[39;00m \u001b[38;5;28;01mNone\u001b[39;00m:\n\u001b[0;32m   1169\u001b[0m     order \u001b[38;5;241m=\u001b[39m \u001b[38;5;28mself\u001b[39m\u001b[38;5;241m.\u001b[39m_swap(\u001b[38;5;124m'\u001b[39m\u001b[38;5;124mcf\u001b[39m\u001b[38;5;124m'\u001b[39m)[\u001b[38;5;241m0\u001b[39m]\n\u001b[1;32m-> 1170\u001b[0m out \u001b[38;5;241m=\u001b[39m \u001b[38;5;28;43mself\u001b[39;49m\u001b[38;5;241;43m.\u001b[39;49m\u001b[43m_process_toarray_args\u001b[49m\u001b[43m(\u001b[49m\u001b[43morder\u001b[49m\u001b[43m,\u001b[49m\u001b[43m \u001b[49m\u001b[43mout\u001b[49m\u001b[43m)\u001b[49m\n\u001b[0;32m   1171\u001b[0m \u001b[38;5;28;01mif\u001b[39;00m \u001b[38;5;129;01mnot\u001b[39;00m (out\u001b[38;5;241m.\u001b[39mflags\u001b[38;5;241m.\u001b[39mc_contiguous \u001b[38;5;129;01mor\u001b[39;00m out\u001b[38;5;241m.\u001b[39mflags\u001b[38;5;241m.\u001b[39mf_contiguous):\n\u001b[0;32m   1172\u001b[0m     \u001b[38;5;28;01mraise\u001b[39;00m \u001b[38;5;167;01mValueError\u001b[39;00m(\u001b[38;5;124m'\u001b[39m\u001b[38;5;124mOutput array must be C or F contiguous\u001b[39m\u001b[38;5;124m'\u001b[39m)\n",
      "File \u001b[1;32mc:\\Users\\Johnk\\Documents\\PhD\\Quantum Computing Code\\Quantum-Computing\\.venv\\Lib\\site-packages\\scipy\\sparse\\_base.py:1366\u001b[0m, in \u001b[0;36m_spbase._process_toarray_args\u001b[1;34m(self, order, out)\u001b[0m\n\u001b[0;32m   1364\u001b[0m     \u001b[38;5;28;01mreturn\u001b[39;00m out\n\u001b[0;32m   1365\u001b[0m \u001b[38;5;28;01melse\u001b[39;00m:\n\u001b[1;32m-> 1366\u001b[0m     \u001b[38;5;28;01mreturn\u001b[39;00m \u001b[43mnp\u001b[49m\u001b[38;5;241;43m.\u001b[39;49m\u001b[43mzeros\u001b[49m\u001b[43m(\u001b[49m\u001b[38;5;28;43mself\u001b[39;49m\u001b[38;5;241;43m.\u001b[39;49m\u001b[43mshape\u001b[49m\u001b[43m,\u001b[49m\u001b[43m \u001b[49m\u001b[43mdtype\u001b[49m\u001b[38;5;241;43m=\u001b[39;49m\u001b[38;5;28;43mself\u001b[39;49m\u001b[38;5;241;43m.\u001b[39;49m\u001b[43mdtype\u001b[49m\u001b[43m,\u001b[49m\u001b[43m \u001b[49m\u001b[43morder\u001b[49m\u001b[38;5;241;43m=\u001b[39;49m\u001b[43morder\u001b[49m\u001b[43m)\u001b[49m\n",
      "\u001b[1;31mMemoryError\u001b[0m: Unable to allocate 1.00 TiB for an array with shape (262144, 262144) and data type complex128"
     ]
    }
   ],
   "source": [
    "# Calculate Hamiltonian and expected eigenvalues\n",
    "ham_start_time = datetime.now()\n",
    "H = calculate_wz_hamiltonian(cutoff, N, a, potential, boundary_condition, c)\n",
    "ham_calc_time = datetime.now() - ham_start_time\n",
    "print(f\"Time taken to create hamiltonian: {str(ham_calc_time)}\")\n",
    "\n",
    "hamiltonian = SparsePauliOp.from_operator(H)\n",
    "hamiltonian"
   ]
  },
  {
   "cell_type": "code",
   "execution_count": null,
   "metadata": {},
   "outputs": [
    {
     "name": "stdout",
     "output_type": "stream",
     "text": [
      "2025-04-16_20-14-17\n",
      "Running for 3 sites\n",
      "Running for dirichlet boundary conditions\n",
      "Running for linear potential, cutoff 16\n",
      "Time taken to create hamiltonian: 0:00:00.196688\n"
     ]
    }
   ],
   "source": [
    "starttime = datetime.now().strftime(\"%Y-%m-%d_%H-%M-%S\")\n",
    "\n",
    "print(str(starttime))\n",
    "print(f\"Running for {N} sites\")\n",
    "print(f\"Running for {boundary_condition} boundary conditions\")\n",
    "print(f\"Running for {potential} potential, cutoff {cutoff}\")\n",
    "\n",
    "# Calculate Hamiltonian and expected eigenvalues\n",
    "ham_start_time = datetime.now()\n",
    "H = calculate_wz_hamiltonian(cutoff, N, a, potential, boundary_condition, c)\n",
    "ham_calc_time = datetime.now() - ham_start_time\n",
    "print(f\"Time taken to create hamiltonian: {str(ham_calc_time)}\")\n",
    "\n",
    "eig_start_time = datetime.now()\n",
    "eigenvalues = np.sort(np.linalg.eig(H)[0])[:4]\n",
    "min_eigenvalue = min(eigenvalues)\n",
    "eig_calc_time = datetime.now() - eig_start_time\n",
    "print(f\"Time taken to find eigenvalues: {str(eig_calc_time)}\")"
   ]
  },
  {
   "cell_type": "code",
   "execution_count": 8,
   "metadata": {},
   "outputs": [
    {
     "name": "stdout",
     "output_type": "stream",
     "text": [
      "2025-04-16_11-07-51\n",
      "Running for 3 sites\n",
      "Running for dirichlet boundary conditions\n",
      "Running for linear potential, cutoff 8\n",
      "Time taken to create hamiltonian: 0:00:00.035093\n",
      "Time taken to find eigenvalues: 0:00:02.125185\n"
     ]
    }
   ],
   "source": [
    "starttime = datetime.now().strftime(\"%Y-%m-%d_%H-%M-%S\")\n",
    "\n",
    "print(str(starttime))\n",
    "print(f\"Running for {N} sites\")\n",
    "print(f\"Running for {boundary_condition} boundary conditions\")\n",
    "print(f\"Running for {potential} potential, cutoff {cutoff}\")\n",
    "\n",
    "# Calculate Hamiltonian and expected eigenvalues\n",
    "ham_start_time = datetime.now()\n",
    "H = calculate_wz_hamiltonian(cutoff, N, a, potential, boundary_condition, c, to_dense=False)\n",
    "ham_calc_time = datetime.now() - ham_start_time\n",
    "print(f\"Time taken to create hamiltonian: {str(ham_calc_time)}\")\n",
    "\n",
    "eig_start_time = datetime.now()\n",
    "eigenvalue, eigenvector = eigsh(H, k=3, which='SA')\n",
    "min_eigenvalue = eigenvalue[0]\n",
    "min_eigenvector = eigenvector[:, 0]\n",
    "eig_calc_time = datetime.now() - eig_start_time\n",
    "print(f\"Time taken to find eigenvalues: {str(eig_calc_time)}\")"
   ]
  },
  {
   "cell_type": "code",
   "execution_count": 9,
   "metadata": {},
   "outputs": [
    {
     "data": {
      "text/plain": [
       "array([2.73571762e-08, 1.00000003e+00, 9.99999556e-01])"
      ]
     },
     "execution_count": 9,
     "metadata": {},
     "output_type": "execute_result"
    }
   ],
   "source": [
    "eigenvalue"
   ]
  },
  {
   "cell_type": "code",
   "execution_count": 18,
   "metadata": {},
   "outputs": [],
   "source": [
    "from qutip import identity, sigmax, sigmay, sigmaz, Qobj, tensor\n",
    "import numpy as np\n",
    "from itertools import product"
   ]
  },
  {
   "cell_type": "code",
   "execution_count": 4,
   "metadata": {},
   "outputs": [
    {
     "name": "stdout",
     "output_type": "stream",
     "text": [
      "Time taken to create hamiltonian: 0:00:00.166534\n"
     ]
    }
   ],
   "source": [
    "# Calculate Hamiltonian and expected eigenvalues\n",
    "ham_start_time = datetime.now()\n",
    "H = calculate_wz_hamiltonian(cutoff, N, a, potential, boundary_condition, c, to_dense=False)\n",
    "ham_calc_time = datetime.now() - ham_start_time\n",
    "print(f\"Time taken to create hamiltonian: {str(ham_calc_time)}\")"
   ]
  },
  {
   "cell_type": "code",
   "execution_count": 5,
   "metadata": {},
   "outputs": [
    {
     "data": {
      "text/plain": [
       "<Compressed Sparse Row sparse matrix of dtype 'complex128'\n",
       "\twith 2982912 stored elements and shape (262144, 262144)>"
      ]
     },
     "execution_count": 5,
     "metadata": {},
     "output_type": "execute_result"
    }
   ],
   "source": [
    "H"
   ]
  },
  {
   "cell_type": "code",
   "execution_count": 42,
   "metadata": {},
   "outputs": [],
   "source": [
    "import numpy as np\n",
    "from scipy.sparse import csr_matrix, kron, identity\n",
    "from itertools import product\n",
    "\n",
    "# Define Pauli matrices as sparse\n",
    "I = csr_matrix([[1, 0], [0, 1]], dtype=np.complex128)\n",
    "X = csr_matrix([[0, 1], [1, 0]], dtype=np.complex128)\n",
    "Y = csr_matrix([[0, -1j], [1j, 0]], dtype=np.complex128)\n",
    "Z = csr_matrix([[1, 0], [0, -1]], dtype=np.complex128)\n",
    "\n",
    "pauli_dict = {'I': I, 'X': X, 'Y': Y, 'Z': Z}\n",
    "labels = ['I', 'X', 'Y', 'Z']\n",
    "\n",
    "def build_pauli_string(label):\n",
    "    \"\"\"Build sparse matrix for tensor product of Pauli label string.\"\"\"\n",
    "    result = pauli_dict[label[0]]\n",
    "    for l in label[1:]:\n",
    "        result = kron(result, pauli_dict[l], format='csr')\n",
    "    return result\n",
    "\n",
    "def decompose_sparse_hamiltonian(H_sparse, num_qubits):\n",
    "    result = []\n",
    "    for pauli_str in product(labels, repeat=num_qubits):\n",
    "        label = ''.join(pauli_str)\n",
    "        P = build_pauli_string(label)\n",
    "        coeff = (P.conj().transpose().dot(H_sparse)).diagonal().sum() / (2 ** num_qubits)\n",
    "        if abs(coeff) > 1e-10:\n",
    "            result.append((label, coeff))\n",
    "    return result"
   ]
  },
  {
   "cell_type": "code",
   "execution_count": 50,
   "metadata": {},
   "outputs": [
    {
     "data": {
      "text/plain": [
       "[('IIIIII', np.complex128(3.375+0j)),\n",
       " ('IIIIXI', np.complex128(0.12074072828613334+0j)),\n",
       " ('IIIIXZ', np.complex128(-0.03235238063781505+0j)),\n",
       " ('IIIIZI', np.complex128(-0.5625+0j)),\n",
       " ('IIIIZZ', np.complex128(-0.5625+0j)),\n",
       " ('IIXIII', np.complex128(0.12074072828613336+0j)),\n",
       " ('IIXZII', np.complex128(-0.03235238063781504+0j)),\n",
       " ('IIZIII', np.complex128(-0.5625000000000001+0j)),\n",
       " ('IIZZII', np.complex128(-0.5625000000000002+0j)),\n",
       " ('IZIIII', np.complex128(0.5+0j)),\n",
       " ('XXIIII', np.complex128(0.25+0j)),\n",
       " ('YYIIII', np.complex128(0.25+0j)),\n",
       " ('ZIIIII', np.complex128(-0.5+0j))]"
      ]
     },
     "execution_count": 50,
     "metadata": {},
     "output_type": "execute_result"
    }
   ],
   "source": [
    "num_qubits = int(N * (np.log2(cutoff)+1))\n",
    "decompose_sparse_hamiltonian(H,num_qubits)"
   ]
  },
  {
   "cell_type": "code",
   "execution_count": 60,
   "metadata": {},
   "outputs": [],
   "source": [
    "import numpy as np\n",
    "from scipy.sparse import csr_matrix, kron, identity\n",
    "from itertools import product\n",
    "from joblib import Parallel, delayed"
   ]
  },
  {
   "cell_type": "code",
   "execution_count": null,
   "metadata": {},
   "outputs": [],
   "source": [
    "# Define sparse Pauli matrices\n",
    "I = csr_matrix([[1, 0], [0, 1]], dtype=np.complex128)\n",
    "X = csr_matrix([[0, 1], [1, 0]], dtype=np.complex128)\n",
    "Y = csr_matrix([[0, -1j], [1j, 0]], dtype=np.complex128)\n",
    "Z = csr_matrix([[1, 0], [0, -1]], dtype=np.complex128)\n",
    "\n",
    "pauli_dict = {'I': I, 'X': X, 'Y': Y, 'Z': Z}\n",
    "labels = ['I', 'X', 'Y', 'Z']"
   ]
  },
  {
   "cell_type": "code",
   "execution_count": 61,
   "metadata": {},
   "outputs": [],
   "source": [
    "def build_pauli_string(label):\n",
    "    \"\"\"Build sparse matrix for tensor product of a Pauli label string.\"\"\"\n",
    "    result = pauli_dict[label[0]]\n",
    "    for l in label[1:]:\n",
    "        result = kron(result, pauli_dict[l], format='csr')\n",
    "    return result\n",
    "\n",
    "def _compute_pauli_coeff(label, H, norm_factor):\n",
    "    P = build_pauli_string(label)\n",
    "    coeff = (P.conj().transpose().dot(H)).diagonal().sum() / norm_factor\n",
    "    if abs(coeff) > 1e-10:\n",
    "        return (label, coeff)\n",
    "    return None\n",
    "\n",
    "def decompose_sparse_hamiltonian_parallel(H_sparse, num_qubits, n_jobs=6):\n",
    "    norm_factor = 2 ** num_qubits\n",
    "    all_labels = [''.join(p) for p in product(labels, repeat=num_qubits)]\n",
    "\n",
    "    results = Parallel(n_jobs=n_jobs, backend=\"loky\")(\n",
    "        delayed(_compute_pauli_coeff)(label, H_sparse, norm_factor)\n",
    "        for label in all_labels\n",
    "    )\n",
    "\n",
    "    # Filter out Nones\n",
    "    return [r for r in results if r is not None]\n"
   ]
  },
  {
   "cell_type": "code",
   "execution_count": null,
   "metadata": {},
   "outputs": [],
   "source": [
    "terms = decompose_sparse_hamiltonian_parallel(H, num_qubits)\n",
    "\n",
    "for label, coeff in terms:\n",
    "    print(f\"{coeff:.3f} * {label}\")"
   ]
  },
  {
   "cell_type": "code",
   "execution_count": null,
   "metadata": {},
   "outputs": [],
   "source": []
  }
 ],
 "metadata": {
  "kernelspec": {
   "display_name": ".venv",
   "language": "python",
   "name": "python3"
  },
  "language_info": {
   "codemirror_mode": {
    "name": "ipython",
    "version": 3
   },
   "file_extension": ".py",
   "mimetype": "text/x-python",
   "name": "python",
   "nbconvert_exporter": "python",
   "pygments_lexer": "ipython3",
   "version": "3.13.1"
  }
 },
 "nbformat": 4,
 "nbformat_minor": 2
}
