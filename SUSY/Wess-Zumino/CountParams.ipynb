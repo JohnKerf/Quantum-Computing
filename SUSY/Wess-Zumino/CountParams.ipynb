{
 "cells": [
  {
   "cell_type": "code",
   "execution_count": 2,
   "metadata": {},
   "outputs": [],
   "source": [
    "import numpy as np\n",
    "from qiskit.quantum_info import SparsePauliOp\n",
    "import pennylane as qml\n",
    "from susy_qm import calculate_wz_hamiltonian\n",
    "import pandas as pd"
   ]
  },
  {
   "cell_type": "code",
   "execution_count": 6,
   "metadata": {},
   "outputs": [
    {
     "ename": "",
     "evalue": "",
     "output_type": "error",
     "traceback": [
      "\u001b[1;31mThe Kernel crashed while executing code in the current cell or a previous cell. \n",
      "\u001b[1;31mPlease review the code in the cell(s) to identify a possible cause of the failure. \n",
      "\u001b[1;31mClick <a href='https://aka.ms/vscodeJupyterKernelCrash'>here</a> for more info. \n",
      "\u001b[1;31mView Jupyter <a href='command:jupyter.viewOutput'>log</a> for further details."
     ]
    }
   ],
   "source": [
    "results = []\n",
    "\n",
    "a = 1.0\n",
    "boundary_condition = 'dirichlet'\n",
    "c = 0\n",
    "\n",
    "num_cut_offs = 4\n",
    "cut_off_list = [2**i for i in range(1, num_cut_offs + 1)]\n",
    "N_values = [2, 3, 4]\n",
    "potential = 'linear'\n",
    "\n",
    "\n",
    "for N in N_values:\n",
    "    for cut_off in cut_off_list:\n",
    "        \n",
    "        H = calculate_wz_hamiltonian(cut_off, N, a, potential, boundary_condition, c)\n",
    "        hamiltonian = SparsePauliOp.from_operator(H)\n",
    "        num_qubits = hamiltonian.num_qubits\n",
    "        num_params = np.prod(qml.StronglyEntanglingLayers.shape(n_layers=2, n_wires=num_qubits))\n",
    "        \n",
    "        # Append results\n",
    "        results.append({\n",
    "            'N': N,\n",
    "            'Cut-off': cut_off,\n",
    "            'Num Parameters': num_params\n",
    "        })\n",
    "\n",
    "df_results = pd.DataFrame(results)"
   ]
  },
  {
   "cell_type": "code",
   "execution_count": null,
   "metadata": {},
   "outputs": [],
   "source": [
    "df_results"
   ]
  }
 ],
 "metadata": {
  "kernelspec": {
   "display_name": ".venv",
   "language": "python",
   "name": "python3"
  },
  "language_info": {
   "codemirror_mode": {
    "name": "ipython",
    "version": 3
   },
   "file_extension": ".py",
   "mimetype": "text/x-python",
   "name": "python",
   "nbconvert_exporter": "python",
   "pygments_lexer": "ipython3",
   "version": "3.10.4"
  }
 },
 "nbformat": 4,
 "nbformat_minor": 2
}
