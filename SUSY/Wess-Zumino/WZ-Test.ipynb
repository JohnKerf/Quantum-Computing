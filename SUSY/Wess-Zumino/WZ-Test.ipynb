{
 "cells": [
  {
   "cell_type": "code",
   "execution_count": 23,
   "metadata": {},
   "outputs": [],
   "source": [
    "import numpy as np\n",
    "from susy_qm import create_matrix\n",
    "from functools import reduce"
   ]
  },
  {
   "cell_type": "code",
   "execution_count": 122,
   "metadata": {},
   "outputs": [],
   "source": [
    "# Parameters\n",
    "N = 2     # Number of sites\n",
    "cutoff = 8    # Basis cutoff\n",
    "a = 1.0       # Lattice spacing"
   ]
  },
  {
   "cell_type": "code",
   "execution_count": 123,
   "metadata": {},
   "outputs": [],
   "source": [
    "def create_shift_matrix(num_sites, direction):\n",
    " \n",
    "    S = np.zeros((num_sites, num_sites), dtype=np.complex128)\n",
    "    for i in range(num_sites - 1):\n",
    "        if direction == 'forward':\n",
    "            S[i, i + 1] = 1\n",
    "        elif direction == 'backward':\n",
    "            S[i + 1, i] = 1\n",
    "    return S"
   ]
  },
  {
   "cell_type": "code",
   "execution_count": 124,
   "metadata": {},
   "outputs": [],
   "source": [
    "q = create_matrix(cutoff, 'q')\n",
    "p = create_matrix(cutoff, 'p')\n",
    "S = create_shift_matrix(cutoff, direction='forward')\n",
    "S_dagger = create_shift_matrix(cutoff, direction='backward')"
   ]
  },
  {
   "cell_type": "code",
   "execution_count": 125,
   "metadata": {},
   "outputs": [],
   "source": [
    "def tensor_identity(cut_off, site, total_sites, operator):\n",
    "    \"\"\"Constructs a tensor product operator for a specific site.\"\"\"\n",
    "    I = np.eye(cut_off, dtype=np.complex128)\n",
    "    operators = [I] * total_sites\n",
    "    operators[site] = operator\n",
    "    return reduce(np.kron, operators) "
   ]
  },
  {
   "cell_type": "code",
   "execution_count": 141,
   "metadata": {},
   "outputs": [],
   "source": [
    "##def construct_hamiltonian(N, cutoff, a, V, dV):\n",
    "       \n",
    "# Initialize the Hamiltonian\n",
    "dim = cutoff ** N  # Total Hilbert space dimension\n",
    "H = np.zeros((dim, dim), dtype=np.complex128)\n",
    "\n",
    "for n in range(N):\n",
    "\n",
    "    # Bosonic terms\n",
    "    I_b = np.eye(dim)\n",
    "\n",
    "    q_n = tensor_identity(cutoff, n, N, q)\n",
    "    p_n = tensor_identity(cutoff, n, N, p)\n",
    "    \n",
    "    # Kinetic term\n",
    "    H += np.matmul(p_n,p_n) / (2 * a)\n",
    "    \n",
    "    # Potential term\n",
    "    V = q_n\n",
    "    VP = I_b\n",
    "    H += (a / 2) * np.matmul(V,V)\n",
    "\n",
    "    # Subtract the constant offset\n",
    "    H -= 0.5 * I_b\n",
    "\n",
    "    # Gradient and interaction terms\n",
    "    if 0 < n < N - 1:\n",
    "        print('a')\n",
    "        q_np1 = tensor_identity(cutoff, (n + 1) % N, N, q)  # (n+1)-th site (periodic boundary)\n",
    "        q_nm1 = tensor_identity(cutoff, (n - 1) % N, N, q)  # (n-1)-th site (periodic boundary)\n",
    "    \n",
    "        gradient = (q_np1 - q_nm1) / (2 * a)\n",
    "        H += (a / 2) * np.matmul(gradient,gradient)\n",
    "        H += a * np.matmul(V,gradient)\n",
    "    \n",
    "    # Fermionic terms\n",
    "    if 0 < n < N - 1:\n",
    "        print('b')\n",
    "        fermion_term = (-1) ** n * np.matmul(VP, (tensor_identity(cutoff, n, N, S), tensor_identity(cutoff, n, N, S_dagger))) - 0.5 * I_b\n",
    "        H += fermion_term\n",
    "    \n",
    "        # Fermionic hopping\n",
    "        fermion_hopping = np.matmul(tensor_identity(cutoff, n, N, np.eye(cutoff)), tensor_identity(cutoff, n + 1, N, np.eye(cutoff)))\n",
    "        H += fermion_hopping / (2 * a)\n",
    "    \n",
    "#return H\n"
   ]
  },
  {
   "cell_type": "code",
   "execution_count": 142,
   "metadata": {},
   "outputs": [
    {
     "name": "stdout",
     "output_type": "stream",
     "text": [
      "Hamiltonian shape: (64, 64)\n",
      "[[-2.22044605e-16  0.00000000e+00  0.00000000e+00 ...  0.00000000e+00\n",
      "   0.00000000e+00  0.00000000e+00]\n",
      " [ 0.00000000e+00  1.00000000e+00  0.00000000e+00 ...  0.00000000e+00\n",
      "   0.00000000e+00  0.00000000e+00]\n",
      " [ 0.00000000e+00  0.00000000e+00  2.00000000e+00 ...  0.00000000e+00\n",
      "   0.00000000e+00  0.00000000e+00]\n",
      " ...\n",
      " [ 0.00000000e+00  0.00000000e+00  0.00000000e+00 ...  8.00000000e+00\n",
      "   0.00000000e+00  0.00000000e+00]\n",
      " [ 0.00000000e+00  0.00000000e+00  0.00000000e+00 ...  0.00000000e+00\n",
      "   9.00000000e+00  0.00000000e+00]\n",
      " [ 0.00000000e+00  0.00000000e+00  0.00000000e+00 ...  0.00000000e+00\n",
      "   0.00000000e+00  6.00000000e+00]]\n"
     ]
    }
   ],
   "source": [
    "# Display the Hamiltonian\n",
    "print(\"Hamiltonian shape:\", H.shape)\n",
    "print(H.real)\n"
   ]
  },
  {
   "cell_type": "code",
   "execution_count": 143,
   "metadata": {},
   "outputs": [
    {
     "data": {
      "text/plain": [
       "array([-2.22044605e-16,  1.00000000e+00,  1.00000000e+00,  2.00000000e+00,\n",
       "        2.00000000e+00,  2.00000000e+00])"
      ]
     },
     "execution_count": 143,
     "metadata": {},
     "output_type": "execute_result"
    }
   ],
   "source": [
    "np.sort(np.linalg.eig(H)[0].real)[:6]"
   ]
  },
  {
   "cell_type": "code",
   "execution_count": null,
   "metadata": {},
   "outputs": [],
   "source": []
  }
 ],
 "metadata": {
  "kernelspec": {
   "display_name": ".venv",
   "language": "python",
   "name": "python3"
  },
  "language_info": {
   "codemirror_mode": {
    "name": "ipython",
    "version": 3
   },
   "file_extension": ".py",
   "mimetype": "text/x-python",
   "name": "python",
   "nbconvert_exporter": "python",
   "pygments_lexer": "ipython3",
   "version": "3.10.4"
  }
 },
 "nbformat": 4,
 "nbformat_minor": 2
}
