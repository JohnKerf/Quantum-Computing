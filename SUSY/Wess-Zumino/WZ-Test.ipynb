{
 "cells": [
  {
   "cell_type": "markdown",
   "metadata": {},
   "source": [
    "$$\n",
    "  H = \\sum_n \\left[ \\frac{p_n^2}{2a} + \\frac{a}{2}\\left(\\frac{\\phi_{n+1}-\\phi_{n-1}}{2a}\\right)^2+\\frac{a}{2}V(\\phi_n)^2 + aV(\\phi_n)\\frac{\\phi_{n+1}-\\phi_{n-1}}{2a} \\right. \\nonumber \\\\\n",
    "             \\quad \\left.+(-1)^nV'(\\phi_n)\\left(\\chi_n^{\\dagger}\\chi_n-\\frac{1}{2}\\right) + \\frac{1}{2a}\\left(\\chi_n^{\\dagger}\\chi_{n+1}+\\chi_{n+1}^{\\dagger}\\chi_n\\right) \\right], \n",
    "$$"
   ]
  },
  {
   "cell_type": "markdown",
   "metadata": {},
   "source": [
    "# Sparse matrix form"
   ]
  },
  {
   "cell_type": "code",
   "execution_count": 1,
   "metadata": {},
   "outputs": [],
   "source": [
    "import scipy\n",
    "from scipy.sparse import eye, kron, coo_matrix\n",
    "from scipy.sparse.linalg import eigsh\n",
    "\n",
    "import numpy as np\n",
    "from susy_qm import create_matrix\n",
    "from functools import reduce"
   ]
  },
  {
   "cell_type": "code",
   "execution_count": 109,
   "metadata": {},
   "outputs": [],
   "source": [
    "# Parameters\n",
    "N = 2\n",
    "cutoff = 4\n",
    "a = 1.0"
   ]
  },
  {
   "cell_type": "code",
   "execution_count": 110,
   "metadata": {},
   "outputs": [],
   "source": [
    "def kron_tensor(size, site, total_sites, operator):\n",
    "\n",
    "    I = eye(size, format='coo', dtype=np.complex128)\n",
    "    operators = [I] * total_sites\n",
    "    operators[site] = operator\n",
    "  \n",
    "    return reduce(kron, operators) "
   ]
  },
  {
   "cell_type": "code",
   "execution_count": null,
   "metadata": {},
   "outputs": [
    {
     "name": "stdout",
     "output_type": "stream",
     "text": [
      "dirichlet\n",
      "0\n",
      "dirichlet\n",
      "1 Zero\n"
     ]
    }
   ],
   "source": [
    "# Initialize the Hamiltonian as a sparse matrix\n",
    "I_b = eye(cutoff ** N, format='coo')\n",
    "I_f = eye(2 ** N, format='coo')\n",
    "dim = I_b.size * I_f.size\n",
    "H = coo_matrix((dim, dim), dtype=np.complex128)\n",
    "\n",
    "# Define operators as sparse matrices\n",
    "q = coo_matrix(create_matrix(cutoff, 'q'))\n",
    "p = coo_matrix(create_matrix(cutoff, 'p'))\n",
    "chi = coo_matrix([[0, 1], [0, 0]], dtype=np.complex128)\n",
    "chidag = coo_matrix([[0, 0], [1, 0]], dtype=np.complex128)\n",
    "\n",
    "boundary_conditions = 'dirichlet' \n",
    "#boundary_conditions ='periodic'\n",
    "\n",
    "for n in range(N):\n",
    "    \n",
    "    q_n = kron_tensor(cutoff, n, N, q)\n",
    "    p_n = kron_tensor(cutoff, n, N, p)\n",
    "\n",
    "    chi_n = kron_tensor(2, n, N, chi)\n",
    "    chidag_n = kron_tensor(2, n, N, chidag)\n",
    "    \n",
    "\n",
    "    # Kinetic term\n",
    "    p2 = coo_matrix(p_n @ p_n / (2 * a))  \n",
    "    kinetic_term = kron(p2, I_f, format='coo') \n",
    "\n",
    "    # Potential term\n",
    "    W_prime = q_n  # W'(q) = q\n",
    "    W_double_prime = I_b  # W''(q) = 1\n",
    "    potential = coo_matrix(W_prime @ W_prime * (a / 2))\n",
    "    potential_term = kron(potential, I_f, format='coo')\n",
    "\n",
    "    # Fermionic term\n",
    "    commutator_term = ((-1) ** n) * kron(W_double_prime, coo_matrix(chidag_n @ chi_n - 0.5 * I_f), format='coo')\n",
    "\n",
    "    H += kinetic_term + potential_term + commutator_term \n",
    "    \n",
    "    # Cross-site terms\n",
    "    if boundary_conditions == 'dirichlet':\n",
    "        print('dirichlet')\n",
    "        # Set operators to zero matrices at boundary\n",
    "        zero_qop = coo_matrix((I_b.size,I_b.size), dtype=np.complex128)\n",
    "        zero_cop = coo_matrix((I_f.size,I_f.size), dtype=np.complex128)\n",
    "\n",
    "        # Dirichlet BC's\n",
    "        if n < N-1:\n",
    "            print(n)\n",
    "            q_np1 = kron_tensor(cutoff, (n + 1), N, q)\n",
    "            chi_np1 = kron_tensor(2, (n + 1), N, chi)\n",
    "            chidag_np1 = kron_tensor(2, (n + 1) , N, chidag)\n",
    "        else:\n",
    "            print(n, 'Zero')\n",
    "            q_np1 = zero_qop\n",
    "            chi_np1 = zero_cop\n",
    "            chidag_np1 = zero_cop\n",
    "\n",
    "        if n == 0:\n",
    "            q_nm1 = zero_qop\n",
    "        else:\n",
    "            q_nm1 = kron_tensor(cutoff, (n - 1), N, q)\n",
    "    \n",
    "    elif boundary_conditions == 'periodic':\n",
    "        print('periodic')\n",
    "        q_np1 = kron_tensor(cutoff, (n + 1) % N, N, q)\n",
    "        q_nm1 = kron_tensor(cutoff, (n - 1) % N, N, q)\n",
    "        chi_np1 = kron_tensor(2, (n + 1) % N, N, chi)\n",
    "        chidag_np1 = kron_tensor(2, (n + 1) % N, N, chidag)\n",
    "\n",
    "\n",
    "    gradient = coo_matrix((q_np1 - q_nm1) / (2 * a))\n",
    "    gradient_term = kron((a / 2) * (gradient @ gradient), I_f, format='coo')\n",
    "    potential_gradient_term = kron(a * (W_prime @ gradient), I_f, format='coo')\n",
    "\n",
    "    # Fermionic hopping\n",
    "    fermion = coo_matrix((chidag_n @ chi_np1 + chidag_np1 @ chi_n)) / (2 * a)\n",
    "    #print(fermion)\n",
    "    fermion_term = kron(I_b, fermion, format='coo')\n",
    "    constant_offset = (N-n / (2 * a))\n",
    "    fermion_term = fermion_term + constant_offset * eye(H.shape[0], format='coo')\n",
    "\n",
    "    H += potential_gradient_term + fermion_term\n"
   ]
  },
  {
   "cell_type": "code",
   "execution_count": 118,
   "metadata": {},
   "outputs": [
    {
     "name": "stdout",
     "output_type": "stream",
     "text": [
      "Eigenvalues: [0.38196601 1.38196601 1.38196601 1.38196601 1.38196601 1.5       ]\n"
     ]
    }
   ],
   "source": [
    "# Compute the k smallest eigenvalues of the sparse Hamiltonian\n",
    "num_eigenvalues = 6\n",
    "eigenvalues, eigenvectors = eigsh(H, k=num_eigenvalues, which='SA')\n",
    "\n",
    "print(\"Eigenvalues:\", np.sort(eigenvalues))"
   ]
  },
  {
   "cell_type": "code",
   "execution_count": 81,
   "metadata": {},
   "outputs": [
    {
     "data": {
      "text/plain": [
       "array([-4.28219166e-09,  9.99999996e-01,  9.99999996e-01,  9.99999996e-01,\n",
       "        9.99999996e-01,  9.99999996e-01])"
      ]
     },
     "execution_count": 81,
     "metadata": {},
     "output_type": "execute_result"
    }
   ],
   "source": [
    "np.sort(eigenvalues +0.44090964)#+ 0.41421356)"
   ]
  },
  {
   "cell_type": "code",
   "execution_count": null,
   "metadata": {},
   "outputs": [],
   "source": []
  },
  {
   "cell_type": "code",
   "execution_count": null,
   "metadata": {},
   "outputs": [],
   "source": []
  },
  {
   "cell_type": "code",
   "execution_count": null,
   "metadata": {},
   "outputs": [],
   "source": []
  },
  {
   "cell_type": "code",
   "execution_count": null,
   "metadata": {},
   "outputs": [],
   "source": []
  },
  {
   "cell_type": "code",
   "execution_count": null,
   "metadata": {},
   "outputs": [],
   "source": []
  },
  {
   "cell_type": "code",
   "execution_count": null,
   "metadata": {},
   "outputs": [],
   "source": []
  },
  {
   "cell_type": "code",
   "execution_count": 248,
   "metadata": {},
   "outputs": [],
   "source": [
    "# Parameters\n",
    "N = 2\n",
    "cutoff = 16\n",
    "a = 1.0"
   ]
  },
  {
   "cell_type": "code",
   "execution_count": 249,
   "metadata": {},
   "outputs": [],
   "source": [
    "np.set_printoptions(threshold = np.inf)"
   ]
  },
  {
   "cell_type": "code",
   "execution_count": 250,
   "metadata": {},
   "outputs": [],
   "source": [
    "# Initialize the Hamiltonian as a sparse matrix\n",
    "I_b = eye(cutoff ** N, format='coo')\n",
    "I_f = eye(2 ** N, format='coo')\n",
    "dim = I_b.size * I_f.size\n",
    "H = coo_matrix((dim, dim), dtype=np.complex128)\n",
    "\n",
    "# Define operators as sparse matrices\n",
    "q = coo_matrix(create_matrix(cutoff, 'q'))\n",
    "p = coo_matrix(create_matrix(cutoff, 'p'))\n",
    "chi = coo_matrix([[0, 1], [0, 0]], dtype=np.complex128)\n",
    "chidag = coo_matrix([[0, 0], [1, 0]], dtype=np.complex128)\n",
    "\n",
    "boundary_conditions = 'dirichlet' \n",
    "#boundary_conditions ='periodic'\n",
    "\n",
    "for n in range(N):\n",
    "    \n",
    "    q_n = kron_tensor(cutoff, n, N, q)\n",
    "    p_n = kron_tensor(cutoff, n, N, p)\n",
    "\n",
    "    chi_n = kron_tensor(2, n, N, chi)\n",
    "    chidag_n = kron_tensor(2, n, N, chidag)\n",
    "    \n",
    "\n",
    "    # Kinetic term\n",
    "    p2 = coo_matrix(p_n @ p_n / (2 * a))  \n",
    "    kinetic_term = kron(p2, I_f, format='coo') \n",
    "\n",
    "    # Potential term\n",
    "    W_prime = q_n  # W'(q) = q\n",
    "    W_double_prime = I_b  # W''(q) = 1\n",
    "    potential = coo_matrix(W_prime @ W_prime * (a / 2))\n",
    "    potential_term = kron(potential, I_f, format='coo')\n",
    "\n",
    "    # Fermionic term\n",
    "    commutator_term = ((-1) ** n) * kron(W_double_prime, coo_matrix(chidag_n @ chi_n - 0.5 * I_f), format='coo')\n",
    "\n",
    "    H += kinetic_term + potential_term + commutator_term \n",
    "    \n",
    "    # Cross-site terms\n",
    "    if boundary_conditions == 'dirichlet':\n",
    "    \n",
    "        # Set operators to zero matrices at boundary\n",
    "        zero_qop = coo_matrix((I_b.size,I_b.size), dtype=np.complex128)\n",
    "        zero_cop = coo_matrix((I_f.size,I_f.size), dtype=np.complex128)\n",
    "\n",
    "        # Dirichlet BC's\n",
    "        if n < N-1:\n",
    "          \n",
    "            q_np1 = kron_tensor(cutoff, (n + 1), N, q)\n",
    "            chi_np1 = kron_tensor(2, (n + 1), N, chi)\n",
    "            chidag_np1 = kron_tensor(2, (n + 1) , N, chidag)\n",
    "        else:\n",
    "      \n",
    "            q_np1 = zero_qop\n",
    "            chi_np1 = zero_cop\n",
    "            chidag_np1 = zero_cop\n",
    "\n",
    "        if n == 0:\n",
    "            q_nm1 = zero_qop\n",
    "        else:\n",
    "            q_nm1 = kron_tensor(cutoff, (n - 1), N, q)\n",
    "    \n",
    "    elif boundary_conditions == 'periodic':\n",
    "\n",
    "        q_np1 = kron_tensor(cutoff, (n + 1) % N, N, q)\n",
    "        q_nm1 = kron_tensor(cutoff, (n - 1) % N, N, q)\n",
    "        chi_np1 = kron_tensor(2, (n + 1) % N, N, chi)\n",
    "        chidag_np1 = kron_tensor(2, (n + 1) % N, N, chidag)\n",
    "\n",
    "\n",
    "    gradient = coo_matrix((q_np1 - q_nm1) / (2 * a))\n",
    "    gradient_term = kron((a / 2) * (gradient @ gradient), I_f, format='coo')\n",
    "    potential_gradient_term = kron(a * (W_prime @ gradient), I_f, format='coo')\n",
    "\n",
    "    # Fermionic hopping\n",
    "    fermion = coo_matrix((chidag_n @ chi_np1 + chidag_np1 @ chi_n)) / (2 * a)\n",
    "    #print(fermion)\n",
    "    fermion_term = kron(fermion, I_b, format='coo')\n",
    "    #fermion_term = kron(I_b, fermion, format='coo')\n",
    "\n",
    "    H += potential_gradient_term + fermion_term\n"
   ]
  },
  {
   "cell_type": "code",
   "execution_count": 251,
   "metadata": {},
   "outputs": [
    {
     "name": "stdout",
     "output_type": "stream",
     "text": [
      "Eigenvalues: [2.80767281e-15 1.00000000e+00 1.00000000e+00 1.00000000e+00\n",
      " 1.00000000e+00 2.00000000e+00]\n"
     ]
    }
   ],
   "source": [
    "# Compute the k smallest eigenvalues of the sparse Hamiltonian\n",
    "num_eigenvalues = 6\n",
    "eigenvalues, eigenvectors = eigsh(H, k=num_eigenvalues, which='SA')\n",
    "\n",
    "print(\"Eigenvalues:\", np.sort(eigenvalues))"
   ]
  },
  {
   "cell_type": "code",
   "execution_count": 224,
   "metadata": {},
   "outputs": [
    {
     "data": {
      "text/plain": [
       "matrix([[0.+0.j, 0.+0.j, 0.+0.j, 0.+0.j],\n",
       "        [0.+0.j, 0.+0.j, 0.+0.j, 0.+0.j],\n",
       "        [0.+0.j, 1.+0.j, 0.+0.j, 0.+0.j],\n",
       "        [0.+0.j, 0.+0.j, 0.+0.j, 0.+0.j]])"
      ]
     },
     "execution_count": 224,
     "metadata": {},
     "output_type": "execute_result"
    }
   ],
   "source": [
    "(chidag_n @ chi_np1).todense()"
   ]
  },
  {
   "cell_type": "code",
   "execution_count": 225,
   "metadata": {},
   "outputs": [
    {
     "data": {
      "text/plain": [
       "matrix([[0.+0.j, 0.+0.j, 0.+0.j, 0.+0.j],\n",
       "        [0.+0.j, 0.+0.j, 1.+0.j, 0.+0.j],\n",
       "        [0.+0.j, 0.+0.j, 0.+0.j, 0.+0.j],\n",
       "        [0.+0.j, 0.+0.j, 0.+0.j, 0.+0.j]])"
      ]
     },
     "execution_count": 225,
     "metadata": {},
     "output_type": "execute_result"
    }
   ],
   "source": [
    "(chidag_np1 @ chi_n).todense()"
   ]
  },
  {
   "cell_type": "code",
   "execution_count": 227,
   "metadata": {},
   "outputs": [
    {
     "name": "stdout",
     "output_type": "stream",
     "text": [
      "<COOrdinate sparse matrix of dtype 'complex128'\n",
      "\twith 2816 stored elements and shape (1024, 1024)>\n",
      "  Coords\tValues\n",
      "  (0, 128)\t(-0.35355339059327384+0j)\n",
      "  (1, 129)\t(-0.35355339059327384+0j)\n",
      "  (2, 130)\t(-0.35355339059327384+0j)\n",
      "  (3, 131)\t(-0.35355339059327384+0j)\n",
      "  (0, 0)\t(0.25000000000000006+0j)\n",
      "  (1, 1)\t(0.25000000000000006+0j)\n",
      "  (2, 2)\t(0.25000000000000006+0j)\n",
      "  (3, 3)\t(0.25000000000000006+0j)\n",
      "  (4, 132)\t(-0.35355339059327384+0j)\n",
      "  (5, 133)\t(-0.35355339059327384+0j)\n",
      "  (6, 134)\t(-0.35355339059327384+0j)\n",
      "  (7, 135)\t(-0.35355339059327384+0j)\n",
      "  (4, 4)\t(0.25000000000000006+0j)\n",
      "  (5, 5)\t(0.25000000000000006+0j)\n",
      "  (6, 6)\t(0.25000000000000006+0j)\n",
      "  (7, 7)\t(0.25000000000000006+0j)\n",
      "  (8, 136)\t(-0.35355339059327384+0j)\n",
      "  (9, 137)\t(-0.35355339059327384+0j)\n",
      "  (10, 138)\t(-0.35355339059327384+0j)\n",
      "  (11, 139)\t(-0.35355339059327384+0j)\n",
      "  (8, 8)\t(0.25000000000000006+0j)\n",
      "  (9, 9)\t(0.25000000000000006+0j)\n",
      "  (10, 10)\t(0.25000000000000006+0j)\n",
      "  (11, 11)\t(0.25000000000000006+0j)\n",
      "  (12, 140)\t(-0.35355339059327384+0j)\n",
      "  :\t:\n",
      "  (1011, 883)\t(-3.6228441865473604+0j)\n",
      "  (1012, 1012)\t(3.7500000000000013+0j)\n",
      "  (1013, 1013)\t(3.7500000000000013+0j)\n",
      "  (1014, 1014)\t(3.7500000000000013+0j)\n",
      "  (1015, 1015)\t(3.7500000000000013+0j)\n",
      "  (1012, 884)\t(-3.6228441865473604+0j)\n",
      "  (1013, 885)\t(-3.6228441865473604+0j)\n",
      "  (1014, 886)\t(-3.6228441865473604+0j)\n",
      "  (1015, 887)\t(-3.6228441865473604+0j)\n",
      "  (1016, 1016)\t(3.7500000000000013+0j)\n",
      "  (1017, 1017)\t(3.7500000000000013+0j)\n",
      "  (1018, 1018)\t(3.7500000000000013+0j)\n",
      "  (1019, 1019)\t(3.7500000000000013+0j)\n",
      "  (1016, 888)\t(-3.6228441865473604+0j)\n",
      "  (1017, 889)\t(-3.6228441865473604+0j)\n",
      "  (1018, 890)\t(-3.6228441865473604+0j)\n",
      "  (1019, 891)\t(-3.6228441865473604+0j)\n",
      "  (1020, 1020)\t(3.7500000000000013+0j)\n",
      "  (1021, 1021)\t(3.7500000000000013+0j)\n",
      "  (1022, 1022)\t(3.7500000000000013+0j)\n",
      "  (1023, 1023)\t(3.7500000000000013+0j)\n",
      "  (1020, 892)\t(-3.6228441865473604+0j)\n",
      "  (1021, 893)\t(-3.6228441865473604+0j)\n",
      "  (1022, 894)\t(-3.6228441865473604+0j)\n",
      "  (1023, 895)\t(-3.6228441865473604+0j)\n"
     ]
    }
   ],
   "source": [
    "print(kron(p2, I_f, format='coo') )"
   ]
  },
  {
   "cell_type": "code",
   "execution_count": null,
   "metadata": {},
   "outputs": [],
   "source": []
  }
 ],
 "metadata": {
  "kernelspec": {
   "display_name": ".venv",
   "language": "python",
   "name": "python3"
  },
  "language_info": {
   "codemirror_mode": {
    "name": "ipython",
    "version": 3
   },
   "file_extension": ".py",
   "mimetype": "text/x-python",
   "name": "python",
   "nbconvert_exporter": "python",
   "pygments_lexer": "ipython3",
   "version": "3.10.4"
  }
 },
 "nbformat": 4,
 "nbformat_minor": 2
}
