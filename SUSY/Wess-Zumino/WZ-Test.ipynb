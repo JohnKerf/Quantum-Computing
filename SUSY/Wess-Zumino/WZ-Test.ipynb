{
 "cells": [
  {
   "cell_type": "markdown",
   "metadata": {},
   "source": [
    "$$\n",
    "  H = \\sum_n \\left[ \\frac{p_n^2}{2a} + \\frac{a}{2}\\left(\\frac{\\phi_{n+1}-\\phi_{n-1}}{2a}\\right)^2+\\frac{a}{2}V(\\phi_n)^2 + aV(\\phi_n)\\frac{\\phi_{n+1}-\\phi_{n-1}}{2a} \\right. \\nonumber \\\\\n",
    "             \\quad \\left.+(-1)^nV'(\\phi_n)\\left(\\chi_n^{\\dagger}\\chi_n-\\frac{1}{2}\\right) + \\frac{1}{2a}\\left(\\chi_n^{\\dagger}\\chi_{n+1}+\\chi_{n+1}^{\\dagger}\\chi_n\\right) \\right], \n",
    "$$"
   ]
  },
  {
   "cell_type": "markdown",
   "metadata": {},
   "source": [
    "# Sparse matrix form"
   ]
  },
  {
   "cell_type": "code",
   "execution_count": 1,
   "metadata": {},
   "outputs": [],
   "source": [
    "import scipy\n",
    "from scipy.sparse import eye, kron, coo_matrix\n",
    "from scipy.sparse.linalg import eigsh\n",
    "\n",
    "import numpy as np\n",
    "from susy_qm import create_matrix\n",
    "from functools import reduce"
   ]
  },
  {
   "cell_type": "code",
   "execution_count": 88,
   "metadata": {},
   "outputs": [],
   "source": [
    "# Parameters\n",
    "N = 3\n",
    "cutoff = 8\n",
    "a = 1.0\n",
    "potential = \"linear\"\n",
    "potential = \"quadratic\"\n",
    "c = -0.2"
   ]
  },
  {
   "cell_type": "code",
   "execution_count": 89,
   "metadata": {},
   "outputs": [],
   "source": [
    "def kron_tensor(size, site, total_sites, operator):\n",
    "\n",
    "    I = eye(size, format='coo', dtype=np.complex128)\n",
    "    operators = [I] * total_sites\n",
    "    operators[site] = operator\n",
    "  \n",
    "    return reduce(kron, operators) "
   ]
  },
  {
   "cell_type": "code",
   "execution_count": 90,
   "metadata": {},
   "outputs": [
    {
     "name": "stdout",
     "output_type": "stream",
     "text": [
      "0\n",
      "1\n",
      "2\n"
     ]
    }
   ],
   "source": [
    "I_b = eye(cutoff ** N, format='coo')\n",
    "I_f = eye(2 ** N, format='coo')\n",
    "dim = I_b.size * I_f.size\n",
    "\n",
    "zero_qop = coo_matrix((I_b.size,I_b.size), dtype=np.complex128)\n",
    "zero_cop = coo_matrix((I_f.size,I_f.size), dtype=np.complex128)\n",
    "\n",
    "H_b = coo_matrix((I_b.size,I_b.size), dtype=np.complex128)\n",
    "H_f = coo_matrix((I_f.size,I_f.size), dtype=np.complex128)\n",
    "H_bi = coo_matrix((dim, dim), dtype=np.complex128)\n",
    "\n",
    "H = coo_matrix((dim, dim), dtype=np.complex128)\n",
    "\n",
    "q = coo_matrix(create_matrix(cutoff, 'q'))\n",
    "p = coo_matrix(create_matrix(cutoff, 'p'))\n",
    "chi = coo_matrix([[0, 1], [0, 0]], dtype=np.complex128)\n",
    "chidag = coo_matrix([[0, 0], [1, 0]], dtype=np.complex128)\n",
    "\n",
    "for n in range(N):\n",
    "\n",
    "    print(n)\n",
    "    q_n = kron_tensor(cutoff, n, N, q)\n",
    "    p_n = kron_tensor(cutoff, n, N, p)\n",
    "\n",
    "    chi_n = kron_tensor(2, n, N, chi)\n",
    "    chidag_n = kron_tensor(2, n, N, chidag)\n",
    "\n",
    "    #Boson terms\n",
    "    # Kinetic term\n",
    "    p2 = coo_matrix(p_n @ p_n / (2 * a))  \n",
    "\n",
    "    # Potential term\n",
    "    if potential == \"linear\":\n",
    "        W_prime = q_n  # W'(q) = q\n",
    "        W_double_prime = I_b  # W''(q) = 1\n",
    "    elif potential == \"quadratic\":\n",
    "        W_prime = c * I_b + coo_matrix(q_n @ q_n)  # W'(q) = c + q^2\n",
    "        W_double_prime = 2*q_n  # W''(q) = 2q\n",
    "\n",
    "    potential_term = (a / 2) * coo_matrix(W_prime @ W_prime)\n",
    "\n",
    "    boundary_conditions = 'dirichlet'\n",
    "    boundary_conditions = 'periodic'\n",
    "\n",
    "    if boundary_conditions == 'dirichlet':\n",
    "        if n == 0:\n",
    "            q_nm1 = zero_qop\n",
    "            q_np1 = kron_tensor(cutoff, (n + 1), N, q)\n",
    "            chi_np1 = kron_tensor(2, (n + 1), N, chi)\n",
    "            chidag_np1 = kron_tensor(2, (n + 1) , N, chidag)\n",
    "\n",
    "        elif n == N-1:\n",
    "            q_nm1 = kron_tensor(cutoff, (n - 1), N, q)\n",
    "            q_np1 = zero_qop\n",
    "            chi_np1 = zero_cop\n",
    "            chidag_np1 = zero_cop\n",
    "\n",
    "        else:\n",
    "            q_np1 = kron_tensor(cutoff, (n + 1), N, q)\n",
    "            chi_np1 = kron_tensor(2, (n + 1), N, chi)\n",
    "            chidag_np1 = kron_tensor(2, (n + 1) , N, chidag)\n",
    "            q_nm1 = kron_tensor(cutoff, (n - 1), N, q)\n",
    "\n",
    "    elif boundary_conditions == 'periodic':\n",
    "        \n",
    "        q_np1 = kron_tensor(cutoff, (n + 1) % N, N, q)\n",
    "        q_nm1 = kron_tensor(cutoff, (n - 1) % N, N, q)\n",
    "\n",
    "        if n == N-1:\n",
    "            chi_np1 = kron_tensor(2, 0, N, -1*chi)\n",
    "            chidag_np1 = kron_tensor(2, 0, N, -1*chidag)\n",
    "\n",
    "        else:\n",
    "            chi_np1 = kron_tensor(2, (n + 1), N, chi)\n",
    "            chidag_np1 = kron_tensor(2, (n + 1) , N, chidag)\n",
    "  \n",
    "        \n",
    "\n",
    "    gradient = coo_matrix((q_np1 - q_nm1) / (2 * a))\n",
    "    gradient_term = (a / 2) * (gradient @ gradient)\n",
    "\n",
    "    potential_gradient_term = a * (W_prime @ gradient)\n",
    "\n",
    "    H_b += (p2 + potential_term + gradient_term + potential_gradient_term)\n",
    "\n",
    "    # Boson-Fermion term\n",
    "    commutator_term = kron(W_double_prime, ((-1) ** n) * coo_matrix(chidag_n @ chi_n - 0.5 * I_f), format='coo')\n",
    "    H_bi += commutator_term\n",
    "\n",
    "    #Fermion term\n",
    "    fermion_hopping = 0.5*(chidag_n @ chi_np1 + chidag_np1 @ chi_n)\n",
    "    H_f += (fermion_hopping)\n",
    "\n",
    "H = kron(H_b, I_f, format='coo') + kron(I_b, H_f, format='coo') + H_bi\n",
    "   "
   ]
  },
  {
   "cell_type": "code",
   "execution_count": 91,
   "metadata": {},
   "outputs": [
    {
     "name": "stdout",
     "output_type": "stream",
     "text": [
      "Eigenvalues: [0.19470689 0.19470689 0.75752543 0.75752543 0.8827383  0.8827383 ]\n"
     ]
    }
   ],
   "source": [
    "# Compute the k smallest eigenvalues of the sparse Hamiltonian\n",
    "num_eigenvalues = 6\n",
    "eigenvalues, eigenvectors = eigsh(H, k=num_eigenvalues, which='SA')\n",
    "\n",
    "print(\"Eigenvalues:\", np.sort(eigenvalues))"
   ]
  },
  {
   "cell_type": "code",
   "execution_count": null,
   "metadata": {},
   "outputs": [],
   "source": []
  },
  {
   "cell_type": "code",
   "execution_count": null,
   "metadata": {},
   "outputs": [],
   "source": []
  },
  {
   "cell_type": "code",
   "execution_count": null,
   "metadata": {},
   "outputs": [],
   "source": []
  },
  {
   "cell_type": "code",
   "execution_count": null,
   "metadata": {},
   "outputs": [],
   "source": []
  },
  {
   "cell_type": "code",
   "execution_count": null,
   "metadata": {},
   "outputs": [],
   "source": [
    "# Initialize the Hamiltonian as a sparse matrix\n",
    "I_b = eye(cutoff ** N, format='coo')\n",
    "I_f = eye(2 ** N, format='coo')\n",
    "dim = I_b.size * I_f.size\n",
    "H = coo_matrix((dim, dim), dtype=np.complex128)\n",
    "\n",
    "# Define operators as sparse matrices\n",
    "q = coo_matrix(create_matrix(cutoff, 'q'))\n",
    "p = coo_matrix(create_matrix(cutoff, 'p'))\n",
    "chi = coo_matrix([[0, 1], [0, 0]], dtype=np.complex128)\n",
    "chidag = coo_matrix([[0, 0], [1, 0]], dtype=np.complex128)\n",
    "\n",
    "boundary_conditions = 'dirichlet' \n",
    "#boundary_conditions ='periodic'\n",
    "\n",
    "for n in range(N):\n",
    "    \n",
    "    q_n = kron_tensor(cutoff, n, N, q)\n",
    "    p_n = kron_tensor(cutoff, n, N, p)\n",
    "\n",
    "    chi_n = kron_tensor(2, n, N, chi)\n",
    "    chidag_n = kron_tensor(2, n, N, chidag)\n",
    "    \n",
    "\n",
    "    # Kinetic term\n",
    "    p2 = coo_matrix(p_n @ p_n / (2 * a))  \n",
    "    kinetic_term = kron(p2, I_f, format='coo') \n",
    "\n",
    "    # Potential term\n",
    "    W_prime = q_n  # W'(q) = q\n",
    "    W_double_prime = I_b  # W''(q) = 1\n",
    "    potential = coo_matrix(W_prime @ W_prime * (a / 2))\n",
    "    potential_term = kron(potential, I_f, format='coo')\n",
    "\n",
    "    # Fermionic term\n",
    "    commutator_term = ((-1) ** n) * kron(W_double_prime, coo_matrix(chidag_n @ chi_n - 0.5 * I_f), format='coo')\n",
    "\n",
    "    H += kinetic_term + potential_term + commutator_term \n",
    "    \n",
    "    \n",
    "    # Cross-site terms\n",
    "    if boundary_conditions == 'dirichlet':\n",
    "        print('dirichlet')\n",
    "        # Set operators to zero matrices at boundary\n",
    "        zero_qop = coo_matrix((I_b.size,I_b.size), dtype=np.complex128)\n",
    "        zero_cop = coo_matrix((I_f.size,I_f.size), dtype=np.complex128)\n",
    "\n",
    "        # Dirichlet BC's\n",
    "        if n < N-1:\n",
    "            print(n)\n",
    "            q_np1 = kron_tensor(cutoff, (n + 1), N, q)\n",
    "            chi_np1 = kron_tensor(2, (n + 1), N, chi)\n",
    "            chidag_np1 = kron_tensor(2, (n + 1) , N, chidag)\n",
    "        else:\n",
    "            print(n, 'Zero')\n",
    "            q_np1 = zero_qop\n",
    "            chi_np1 = zero_cop\n",
    "            chidag_np1 = zero_cop\n",
    "\n",
    "        if n == 0:\n",
    "            q_nm1 = zero_qop\n",
    "        else:\n",
    "            q_nm1 = kron_tensor(cutoff, (n - 1), N, q)\n",
    "    \n",
    "    elif boundary_conditions == 'periodic':\n",
    "        print('periodic')\n",
    "        q_np1 = kron_tensor(cutoff, (n + 1) % N, N, q)\n",
    "        q_nm1 = kron_tensor(cutoff, (n - 1) % N, N, q)\n",
    "        chi_np1 = kron_tensor(2, (n + 1) % N, N, chi)\n",
    "        chidag_np1 = kron_tensor(2, (n + 1) % N, N, chidag)\n",
    "\n",
    "    gradient = coo_matrix((q_np1 - q_nm1) / (2 * a))\n",
    "    gradient_term = kron((a / 2) * (gradient @ gradient), I_f, format='coo')\n",
    "    potential_gradient_term = kron(a * (W_prime @ gradient), I_f, format='coo')\n",
    "\n",
    "    # Fermionic hopping\n",
    "    fermion = coo_matrix((chidag_n @ chi_np1 + chidag_np1 @ chi_n)) / (2 * a)\n",
    "    fermion_term = kron(I_b, fermion, format='coo')\n",
    "\n",
    "    H += potential_gradient_term + fermion_term\n"
   ]
  },
  {
   "cell_type": "code",
   "execution_count": 15,
   "metadata": {},
   "outputs": [
    {
     "name": "stdout",
     "output_type": "stream",
     "text": [
      "Eigenvalues: [-0.11803399  0.88196601  0.88196601  1.          1.          1.88196601]\n"
     ]
    }
   ],
   "source": [
    "# Compute the k smallest eigenvalues of the sparse Hamiltonian\n",
    "num_eigenvalues = 6\n",
    "eigenvalues, eigenvectors = eigsh(H, k=num_eigenvalues, which='SA')\n",
    "\n",
    "print(\"Eigenvalues:\", np.sort(eigenvalues))"
   ]
  },
  {
   "cell_type": "code",
   "execution_count": null,
   "metadata": {},
   "outputs": [],
   "source": []
  },
  {
   "cell_type": "code",
   "execution_count": null,
   "metadata": {},
   "outputs": [],
   "source": []
  }
 ],
 "metadata": {
  "kernelspec": {
   "display_name": ".venv",
   "language": "python",
   "name": "python3"
  },
  "language_info": {
   "codemirror_mode": {
    "name": "ipython",
    "version": 3
   },
   "file_extension": ".py",
   "mimetype": "text/x-python",
   "name": "python",
   "nbconvert_exporter": "python",
   "pygments_lexer": "ipython3",
   "version": "3.10.4"
  }
 },
 "nbformat": 4,
 "nbformat_minor": 2
}
