{
 "cells": [
  {
   "cell_type": "markdown",
   "metadata": {},
   "source": [
    "$$\n",
    "  H = \\sum_n \\left[ \\frac{p_n^2}{2a} + \\frac{a}{2}\\left(\\frac{\\phi_{n+1}-\\phi_{n-1}}{2a}\\right)^2+\\frac{a}{2}V(\\phi_n)^2 + aV(\\phi_n)\\frac{\\phi_{n+1}-\\phi_{n-1}}{2a} \\right. \\nonumber \\\\\n",
    "             \\quad \\left.+(-1)^nV'(\\phi_n)\\left(\\chi_n^{\\dagger}\\chi_n-\\frac{1}{2}\\right) + \\frac{1}{2a}\\left(\\chi_n^{\\dagger}\\chi_{n+1}+\\chi_{n+1}^{\\dagger}\\chi_n\\right) \\right], \n",
    "$$"
   ]
  },
  {
   "cell_type": "code",
   "execution_count": 1,
   "metadata": {},
   "outputs": [],
   "source": [
    "import numpy as np\n",
    "from susy_qm import create_matrix\n",
    "from functools import reduce"
   ]
  },
  {
   "cell_type": "code",
   "execution_count": 2,
   "metadata": {},
   "outputs": [],
   "source": [
    "# Parameters\n",
    "N = 1  # Number of sites\n",
    "cutoff = 16    # Basis cutoff\n",
    "a = 1.0       # Lattice spacing"
   ]
  },
  {
   "cell_type": "code",
   "execution_count": 3,
   "metadata": {},
   "outputs": [],
   "source": [
    "def tensor_identity(size, site, total_sites, operator):\n",
    "\n",
    "    I = np.eye(size, dtype=np.complex128)\n",
    "    operators = [I] * total_sites\n",
    "    operators[site] = operator\n",
    "    \n",
    "    return reduce(np.kron, operators) "
   ]
  },
  {
   "cell_type": "code",
   "execution_count": 4,
   "metadata": {},
   "outputs": [],
   "source": [
    "# Initialize the Hamiltonian\n",
    "I_b = np.eye(cutoff ** N)\n",
    "I_f = np.eye(2 ** N)\n",
    "H = np.zeros(np.kron(I_b,I_f).shape, dtype=np.complex128)\n",
    "\n",
    "# Define operators\n",
    "q = create_matrix(cutoff, 'q')\n",
    "p = create_matrix(cutoff, 'p')\n",
    "chi = np.array([[0, 1], [0, 0]])\n",
    "chidag = np.array([[0, 0], [1, 0]])\n",
    "\n",
    "\n",
    "for n in range(N):\n",
    "\n",
    "    q_n = tensor_identity(cutoff, n, N, q)\n",
    "    q_np1 = tensor_identity(cutoff, (n + 1) % N, N, q)\n",
    "    q_nm1 = tensor_identity(cutoff, (n - 1) % N, N, q)\n",
    "\n",
    "    p_n = tensor_identity(cutoff, n, N, p)\n",
    "\n",
    "    chi_n = tensor_identity(2, n, N, chi)\n",
    "    chidag_n = tensor_identity(2, n, N, chidag)\n",
    "    chi_np1 = tensor_identity(2, (n + 1) % N, N, chi)\n",
    "    chidag_np1 = tensor_identity(2, (n - 1) % N, N, chidag)\n",
    "    \n",
    "    # Kinetic term\n",
    "    p2 = np.matmul(p_n,p_n) / (2 * a)\n",
    "    kinetic_term = np.kron(p2, I_f)\n",
    "    \n",
    "    # Potential term\n",
    "    W_prime = q_n  # W'(q) = q\n",
    "    W_double_prime = I_b #W''(q) = 1\n",
    "    potential = np.matmul(W_prime,W_prime)*(a / 2)\n",
    "    potential_term = np.kron(potential, I_f)\n",
    "\n",
    "    # Fermionic term\n",
    "    commutator_term = (-1) ** n * np.kron(W_double_prime, (np.matmul(chidag_n, chi_n) - 0.5 * I_f))\n",
    "\n",
    "    H += (kinetic_term+potential_term+commutator_term)\n",
    "\n",
    "    # Cross site terms\n",
    "    if 0 < n < N - 1:    \n",
    "        gradient = (q_np1 - q_nm1) / (2 * a)\n",
    "        gradient_term = np.kron((a / 2) * np.matmul(gradient,gradient), I_f)\n",
    "        potential_gradient_term = np.kron(a * np.matmul(W_prime,gradient), I_f)\n",
    "\n",
    "        # Fermionic hopping\n",
    "        fermion_hopping = (np.matmul(chidag_n,chi_np1) + np.matmul(chidag_np1,chi_n)) / (2 * a)\n",
    "        fermion_hopping_term = np.kron(I_b, fermion_hopping)\n",
    "\n",
    "        H += (potential_gradient_term + fermion_hopping_term) \n",
    "   "
   ]
  },
  {
   "cell_type": "code",
   "execution_count": 5,
   "metadata": {},
   "outputs": [
    {
     "data": {
      "text/plain": [
       "array([-1.11022302e-16,  1.00000000e+00,  1.00000000e+00,  2.00000000e+00,\n",
       "        2.00000000e+00,  3.00000000e+00,  3.00000000e+00])"
      ]
     },
     "execution_count": 5,
     "metadata": {},
     "output_type": "execute_result"
    }
   ],
   "source": [
    "np.sort(np.linalg.eig(H)[0].real)[:7]"
   ]
  },
  {
   "cell_type": "code",
   "execution_count": 6,
   "metadata": {},
   "outputs": [
    {
     "name": "stdout",
     "output_type": "stream",
     "text": [
      "1024 1024 1024\n"
     ]
    }
   ],
   "source": [
    "print(kinetic_term.size,\n",
    "potential_term.size,\n",
    "commutator_term.size)"
   ]
  },
  {
   "cell_type": "markdown",
   "metadata": {},
   "source": [
    "# Sparse matrix form"
   ]
  },
  {
   "cell_type": "markdown",
   "metadata": {},
   "source": [
    "$$\n",
    "  H = \\sum_n \\left[ \\frac{p_n^2}{2a} + \\frac{a}{2}\\left(\\frac{\\phi_{n+1}-\\phi_{n-1}}{2a}\\right)^2+\\frac{a}{2}V(\\phi_n)^2 + aV(\\phi_n)\\frac{\\phi_{n+1}-\\phi_{n-1}}{2a} \\right. \\nonumber \\\\\n",
    "             \\quad \\left.+(-1)^nV'(\\phi_n)\\left(\\chi_n^{\\dagger}\\chi_n-\\frac{1}{2}\\right) + \\frac{1}{2a}\\left(\\chi_n^{\\dagger}\\chi_{n+1}+\\chi_{n+1}^{\\dagger}\\chi_n\\right) \\right], \n",
    "$$"
   ]
  },
  {
   "cell_type": "code",
   "execution_count": 7,
   "metadata": {},
   "outputs": [],
   "source": [
    "import scipy\n",
    "from scipy.sparse import eye, kron, coo_matrix\n",
    "from scipy.sparse.linalg import eigsh"
   ]
  },
  {
   "cell_type": "code",
   "execution_count": 158,
   "metadata": {},
   "outputs": [],
   "source": [
    "# Parameters\n",
    "N = 2\n",
    "cutoff = 16\n",
    "a = 1.0"
   ]
  },
  {
   "cell_type": "code",
   "execution_count": 159,
   "metadata": {},
   "outputs": [],
   "source": [
    "def tensor_identity(size, site, total_sites, operator, boundary_type='dirichlet'):\n",
    "\n",
    "    I = eye(size, format='coo', dtype=np.complex128)\n",
    "    operators = [I] * total_sites\n",
    "    operators[site] = operator\n",
    "  \n",
    "    return reduce(kron, operators) "
   ]
  },
  {
   "cell_type": "code",
   "execution_count": 164,
   "metadata": {},
   "outputs": [],
   "source": [
    "# Initialize the Hamiltonian as a sparse matrix\n",
    "I_b = eye(cutoff ** N, format='coo')\n",
    "I_f = eye(2 ** N, format='coo')\n",
    "dim = I_b.size * I_f.size\n",
    "H = coo_matrix((dim, dim), dtype=np.complex128)\n",
    "\n",
    "# Define operators as sparse matrices\n",
    "q = coo_matrix(create_matrix(cutoff, 'q'))\n",
    "p = coo_matrix(create_matrix(cutoff, 'p'))\n",
    "chi = coo_matrix([[0, 1], [0, 0]], dtype=np.complex128)\n",
    "chidag = coo_matrix([[0, 0], [1, 0]], dtype=np.complex128)\n",
    "\n",
    "for n in range(N):\n",
    "    \n",
    "    q_n = tensor_identity(cutoff, n, N, q)\n",
    "    p_n = tensor_identity(cutoff, n, N, p)\n",
    "\n",
    "    chi_n = tensor_identity(2, n, N, chi)\n",
    "    chidag_n = tensor_identity(2, n, N, chidag)\n",
    "    \n",
    "\n",
    "    # Kinetic term\n",
    "    p2 = coo_matrix(p_n @ p_n / (2 * a))  \n",
    "    kinetic_term = kron(p2, I_f, format='coo') \n",
    "\n",
    "    # Potential term\n",
    "    W_prime = q_n  # W'(q) = q\n",
    "    W_double_prime = I_b  # W''(q) = 1\n",
    "    potential = coo_matrix(W_prime @ W_prime * (a / 2))\n",
    "    potential_term = kron(potential, I_f, format='coo')\n",
    "\n",
    "    # Fermionic term\n",
    "    commutator_term = (-1) ** n * kron(W_double_prime, coo_matrix(chidag_n @ chi_n - 0.5 * I_f), format='coo')\n",
    "\n",
    "    H += kinetic_term + potential_term + commutator_term \n",
    "\n",
    "    # Cross-site terms\n",
    "    # Set operators to zero matrices at boundary\n",
    "    zero_qop = coo_matrix((I_b.size,I_b.size), dtype=np.complex128)\n",
    "    zero_cop = coo_matrix((I_f.size,I_f.size), dtype=np.complex128)\n",
    "\n",
    "    # Dirichlet BC's\n",
    "    if n < N-1:\n",
    "        q_np1 = tensor_identity(cutoff, (n + 1), N, q)\n",
    "        chi_np1 = tensor_identity(2, (n + 1), N, chi)\n",
    "        chidag_np1 = tensor_identity(2, (n - 1) , N, chidag)\n",
    "    else:\n",
    "        q_np1 = zero_qop\n",
    "        chi_np1 = zero_cop\n",
    "        chidag_np1 = zero_cop\n",
    "\n",
    "    if n == 0:\n",
    "        q_nm1 = zero_qop\n",
    "    else:\n",
    "        q_nm1 = tensor_identity(cutoff, (n - 1), N, q)\n",
    "\n",
    "    gradient = coo_matrix((q_np1 - q_nm1) / (2 * a))\n",
    "    gradient_term = kron((a / 2) * (gradient @ gradient), I_f, format='coo')\n",
    "    potential_gradient_term = kron(a * (W_prime @ gradient), I_f, format='coo')\n",
    "\n",
    "    # Fermionic hopping\n",
    "    fermion = coo_matrix((chidag_n @ chi_np1 + chidag_np1 @ chi_n)) / (2 * a)\n",
    "    fermion_term = kron(I_b, fermion, format='coo')\n",
    "\n",
    "    H += potential_gradient_term + fermion_term \n"
   ]
  },
  {
   "cell_type": "code",
   "execution_count": 165,
   "metadata": {},
   "outputs": [
    {
     "name": "stdout",
     "output_type": "stream",
     "text": [
      "Eigenvalues: [-0.11803399  0.88196601  0.88196601  1.        ]\n"
     ]
    }
   ],
   "source": [
    "# Compute the k smallest eigenvalues of the sparse Hamiltonian\n",
    "num_eigenvalues = 4\n",
    "eigenvalues, eigenvectors = eigsh(H, k=num_eigenvalues, which='SA')\n",
    "\n",
    "print(\"Eigenvalues:\", np.sort(eigenvalues))"
   ]
  },
  {
   "cell_type": "code",
   "execution_count": 139,
   "metadata": {},
   "outputs": [
    {
     "data": {
      "text/plain": [
       "array([0.06985204, 0.62044593, 1.06985204, 1.62044593, 3.387683  ,\n",
       "       3.39135356])"
      ]
     },
     "execution_count": 139,
     "metadata": {},
     "output_type": "execute_result"
    }
   ],
   "source": [
    "np.sort(scipy.sparse.linalg.eigs(H,k=6,sigma=0.0)[0].real)"
   ]
  },
  {
   "cell_type": "code",
   "execution_count": null,
   "metadata": {},
   "outputs": [],
   "source": []
  }
 ],
 "metadata": {
  "kernelspec": {
   "display_name": ".venv",
   "language": "python",
   "name": "python3"
  },
  "language_info": {
   "codemirror_mode": {
    "name": "ipython",
    "version": 3
   },
   "file_extension": ".py",
   "mimetype": "text/x-python",
   "name": "python",
   "nbconvert_exporter": "python",
   "pygments_lexer": "ipython3",
   "version": "3.10.4"
  }
 },
 "nbformat": 4,
 "nbformat_minor": 2
}
