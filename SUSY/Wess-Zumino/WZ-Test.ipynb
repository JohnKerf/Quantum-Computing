{
 "cells": [
  {
   "cell_type": "markdown",
   "metadata": {},
   "source": [
    "$$\n",
    "  H = \\sum_n \\left[ \\frac{p_n^2}{2a} + \\frac{a}{2}\\left(\\frac{\\phi_{n+1}-\\phi_{n-1}}{2a}\\right)^2+\\frac{a}{2}V(\\phi_n)^2 + aV(\\phi_n)\\frac{\\phi_{n+1}-\\phi_{n-1}}{2a} \\right. \\nonumber \\\\\n",
    "             \\quad \\left.+(-1)^nV'(\\phi_n)\\left(\\chi_n^{\\dagger}\\chi_n-\\frac{1}{2}\\right) + \\frac{1}{2a}\\left(\\chi_n^{\\dagger}\\chi_{n+1}+\\chi_{n+1}^{\\dagger}\\chi_n\\right) \\right], \n",
    "$$"
   ]
  },
  {
   "cell_type": "code",
   "execution_count": 2,
   "metadata": {},
   "outputs": [],
   "source": [
    "import numpy as np\n",
    "from susy_qm import create_matrix\n",
    "from functools import reduce"
   ]
  },
  {
   "cell_type": "code",
   "execution_count": 23,
   "metadata": {},
   "outputs": [],
   "source": [
    "# Parameters\n",
    "N = 1  # Number of sites\n",
    "cutoff = 2    # Basis cutoff\n",
    "a = 1.0       # Lattice spacing"
   ]
  },
  {
   "cell_type": "code",
   "execution_count": 24,
   "metadata": {},
   "outputs": [],
   "source": [
    "def create_shift_matrix(num_sites, direction):\n",
    " \n",
    "    S = np.zeros((num_sites, num_sites), dtype=np.complex128)\n",
    "    for i in range(num_sites - 1):\n",
    "        if direction == 'forward':\n",
    "            S[i, i + 1] = 1\n",
    "        elif direction == 'backward':\n",
    "            S[i + 1, i] = 1\n",
    "    return S"
   ]
  },
  {
   "cell_type": "code",
   "execution_count": 25,
   "metadata": {},
   "outputs": [],
   "source": [
    "def tensor_identity(cut_off, site, total_sites, operator):\n",
    "\n",
    "    I = np.eye(cut_off, dtype=np.complex128)\n",
    "    operators = [I] * total_sites\n",
    "    operators[site] = operator\n",
    "    \n",
    "    return reduce(np.kron, operators) "
   ]
  },
  {
   "cell_type": "code",
   "execution_count": null,
   "metadata": {},
   "outputs": [],
   "source": [
    "# Initialize the Hamiltonian\n",
    "I_b = np.eye(cutoff ** N)\n",
    "I_f = np.eye(2 ** N)\n",
    "Z = np.array([[1, 0], [0, -1]])  # Pauli Z matrix for fermion number\n",
    "\n",
    "H = np.zeros(np.kron(I_b,I_f).shape, dtype=np.complex128)\n",
    "\n",
    "q = create_matrix(cutoff, 'q')\n",
    "p = create_matrix(cutoff, 'p')\n",
    "chi = np.array([[0, 1], [0, 0]])\n",
    "chidag = np.array([[0, 0], [1, 0]])\n",
    "\n",
    "for n in range(N):\n",
    "\n",
    "    q_n = tensor_identity(cutoff, n, N, q)\n",
    "    p_n = tensor_identity(cutoff, n, N, p)\n",
    "    \n",
    "    # Kinetic term\n",
    "    p2 = np.matmul(p_n,p_n) / (2 * a)\n",
    "    kinetic_term = np.kron(p2, I_f)\n",
    "    \n",
    "    # Potential term\n",
    "    W_prime = q_n  # W'(q) = q\n",
    "    W_double_prime = I_b #W''(q) = 1\n",
    "    potential = np.matmul(W_prime,W_prime)*(a / 2)\n",
    "    potential_term = np.kron(potential, I_f)\n",
    "\n",
    "    # Fermionic terms\n",
    "    commutator_term = (-1) ** n * np.kron(W_double_prime, (np.matmul(chidag, chi) - 0.5 * I_f)) # need to do the tensor identity for this\n",
    "   \n",
    "\n",
    "    H = (kinetic_term+potential_term+commutator_term)\n",
    "\n"
   ]
  },
  {
   "cell_type": "code",
   "execution_count": 42,
   "metadata": {},
   "outputs": [
    {
     "data": {
      "text/plain": [
       "array([-1.11022302e-16, -1.11022302e-16,  1.00000000e+00,  1.00000000e+00])"
      ]
     },
     "execution_count": 42,
     "metadata": {},
     "output_type": "execute_result"
    }
   ],
   "source": [
    "np.sort(np.linalg.eig(H)[0].real)[:7]"
   ]
  },
  {
   "cell_type": "code",
   "execution_count": 18,
   "metadata": {},
   "outputs": [
    {
     "data": {
      "text/plain": [
       "256"
      ]
     },
     "execution_count": 18,
     "metadata": {},
     "output_type": "execute_result"
    }
   ],
   "source": [
    "np.kron(W_double_prime, (np.matmul(chidag, chi) - 0.5 * I_f)).size"
   ]
  },
  {
   "cell_type": "code",
   "execution_count": 41,
   "metadata": {},
   "outputs": [
    {
     "name": "stdout",
     "output_type": "stream",
     "text": [
      "16 16 16\n"
     ]
    }
   ],
   "source": [
    "print(kinetic_term.size,\n",
    "potential_term.size,\n",
    "commutator_term.size)"
   ]
  },
  {
   "cell_type": "code",
   "execution_count": null,
   "metadata": {},
   "outputs": [],
   "source": []
  },
  {
   "cell_type": "code",
   "execution_count": null,
   "metadata": {},
   "outputs": [],
   "source": []
  },
  {
   "cell_type": "code",
   "execution_count": null,
   "metadata": {},
   "outputs": [],
   "source": []
  },
  {
   "cell_type": "code",
   "execution_count": null,
   "metadata": {},
   "outputs": [],
   "source": []
  },
  {
   "cell_type": "code",
   "execution_count": null,
   "metadata": {},
   "outputs": [],
   "source": []
  },
  {
   "cell_type": "code",
   "execution_count": null,
   "metadata": {},
   "outputs": [],
   "source": []
  },
  {
   "cell_type": "code",
   "execution_count": 604,
   "metadata": {},
   "outputs": [],
   "source": [
    "##def construct_hamiltonian(N, cutoff, a, V, dV):\n",
    "       \n",
    "# Initialize the Hamiltonian\n",
    "dim = cutoff ** N  # Total Hilbert space dimension\n",
    "H = np.zeros((dim, dim), dtype=np.complex128)\n",
    "\n",
    "for n in range(N):\n",
    "\n",
    "    # Bosonic terms\n",
    "    I_b = np.eye(dim)\n",
    "\n",
    "    q_n = tensor_identity(cutoff, n, N, q)\n",
    "    p_n = tensor_identity(cutoff, n, N, p)\n",
    "    \n",
    "    # Kinetic term\n",
    "    H += np.matmul(p_n,p_n) / (2 * a)\n",
    "    \n",
    "    # Potential term\n",
    "    c= -0.2\n",
    "    V = q_n#c + q_n**2 # \n",
    "    VP = I_b#0.5*q_n#\n",
    "    H += (a / 2) * np.matmul(V,V)\n",
    "\n",
    "    # Subtract the constant offset\n",
    "    H -= 0.5 * I_b\n",
    "\n",
    "    # Gradient and interaction terms\n",
    "    '''\n",
    "    if 0 < n < N - 1:\n",
    "        print('a')\n",
    "        q_np1 = tensor_identity(cutoff, (n + 1) % N, N, q)  # (n+1)-th site (periodic boundary)\n",
    "        q_nm1 = tensor_identity(cutoff, (n - 1) % N, N, q)  # (n-1)-th site (periodic boundary)\n",
    "    \n",
    "        gradient = (q_np1 - q_nm1) / (2 * a)\n",
    "        H += (a / 2) * np.matmul(gradient,gradient)\n",
    "        H += a * np.matmul(V,gradient)\n",
    "    \n",
    "    # Fermionic terms\n",
    "    if 0 < n < N - 1:\n",
    "        print('b')\n",
    "        fermion_term = (-1) ** n * VP @ (np.matmul(tensor_identity(cutoff, n, N, S_dagger), tensor_identity(cutoff, n, N, S)) - 0.5 * I_b)\n",
    "        H += fermion_term\n",
    "    \n",
    "        # Fermionic hopping\n",
    "        fermion_hopping = (np.matmul(tensor_identity(cutoff, n, N, np.eye(cutoff)), tensor_identity(cutoff, n + 1, N, np.eye(cutoff))))\n",
    "                            #+ np.matmul(tensor_identity(cutoff, n, N, np.eye(cutoff)), tensor_identity(cutoff, n + 1, N, np.eye(cutoff))))\n",
    "        H += fermion_hopping / (2 * a)\n",
    "    '''\n",
    "#return H\n"
   ]
  },
  {
   "cell_type": "code",
   "execution_count": 605,
   "metadata": {},
   "outputs": [
    {
     "name": "stdout",
     "output_type": "stream",
     "text": [
      "Hamiltonian shape: (64, 64)\n",
      "[[-2.22044605e-16  0.00000000e+00  0.00000000e+00 ...  0.00000000e+00\n",
      "   0.00000000e+00  0.00000000e+00]\n",
      " [ 0.00000000e+00  1.00000000e+00  0.00000000e+00 ...  0.00000000e+00\n",
      "   0.00000000e+00  0.00000000e+00]\n",
      " [ 0.00000000e+00  0.00000000e+00  2.00000000e+00 ...  0.00000000e+00\n",
      "   0.00000000e+00  0.00000000e+00]\n",
      " ...\n",
      " [ 0.00000000e+00  0.00000000e+00  0.00000000e+00 ...  8.00000000e+00\n",
      "   0.00000000e+00  0.00000000e+00]\n",
      " [ 0.00000000e+00  0.00000000e+00  0.00000000e+00 ...  0.00000000e+00\n",
      "   9.00000000e+00  0.00000000e+00]\n",
      " [ 0.00000000e+00  0.00000000e+00  0.00000000e+00 ...  0.00000000e+00\n",
      "   0.00000000e+00  6.00000000e+00]]\n"
     ]
    }
   ],
   "source": [
    "# Display the Hamiltonian\n",
    "print(\"Hamiltonian shape:\", H.shape)\n",
    "print(H.real)\n"
   ]
  },
  {
   "cell_type": "code",
   "execution_count": 606,
   "metadata": {},
   "outputs": [
    {
     "data": {
      "text/plain": [
       "array([-2.22044605e-16,  1.00000000e+00,  1.00000000e+00,  2.00000000e+00,\n",
       "        2.00000000e+00,  2.00000000e+00,  3.00000000e+00])"
      ]
     },
     "execution_count": 606,
     "metadata": {},
     "output_type": "execute_result"
    }
   ],
   "source": [
    "np.sort(np.linalg.eig(H)[0].real)[:7]"
   ]
  },
  {
   "cell_type": "code",
   "execution_count": null,
   "metadata": {},
   "outputs": [],
   "source": []
  },
  {
   "cell_type": "code",
   "execution_count": null,
   "metadata": {},
   "outputs": [],
   "source": []
  }
 ],
 "metadata": {
  "kernelspec": {
   "display_name": ".venv",
   "language": "python",
   "name": "python3"
  },
  "language_info": {
   "codemirror_mode": {
    "name": "ipython",
    "version": 3
   },
   "file_extension": ".py",
   "mimetype": "text/x-python",
   "name": "python",
   "nbconvert_exporter": "python",
   "pygments_lexer": "ipython3",
   "version": "3.10.4"
  }
 },
 "nbformat": 4,
 "nbformat_minor": 2
}
