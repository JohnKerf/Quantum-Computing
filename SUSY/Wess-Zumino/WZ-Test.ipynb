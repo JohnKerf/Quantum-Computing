{
 "cells": [
  {
   "cell_type": "code",
   "execution_count": 23,
   "metadata": {},
   "outputs": [],
   "source": [
    "import numpy as np\n",
    "from susy_qm import create_matrix\n",
    "from functools import reduce"
   ]
  },
  {
   "cell_type": "code",
   "execution_count": 460,
   "metadata": {},
   "outputs": [],
   "source": [
    "# Parameters\n",
    "N = 1   # Number of sites\n",
    "cutoff = 2    # Basis cutoff\n",
    "a = 1.0       # Lattice spacing"
   ]
  },
  {
   "cell_type": "code",
   "execution_count": 461,
   "metadata": {},
   "outputs": [],
   "source": [
    "def create_shift_matrix(num_sites, direction):\n",
    " \n",
    "    S = np.zeros((num_sites, num_sites), dtype=np.complex128)\n",
    "    for i in range(num_sites - 1):\n",
    "        if direction == 'forward':\n",
    "            S[i, i + 1] = 1\n",
    "        elif direction == 'backward':\n",
    "            S[i + 1, i] = 1\n",
    "    return S"
   ]
  },
  {
   "cell_type": "code",
   "execution_count": 462,
   "metadata": {},
   "outputs": [],
   "source": [
    "def tensor_identity(cut_off, site, total_sites, operator):\n",
    "\n",
    "    I = np.eye(cut_off, dtype=np.complex128)\n",
    "    operators = [I] * total_sites\n",
    "    operators[site] = operator\n",
    "    \n",
    "    return reduce(np.kron, operators) "
   ]
  },
  {
   "cell_type": "code",
   "execution_count": 465,
   "metadata": {},
   "outputs": [
    {
     "data": {
      "text/plain": [
       "array([[0.        +0.j, 0.70710678+0.j],\n",
       "       [0.70710678+0.j, 0.        +0.j]])"
      ]
     },
     "execution_count": 465,
     "metadata": {},
     "output_type": "execute_result"
    }
   ],
   "source": [
    "create_matrix(cutoff, 'q')"
   ]
  },
  {
   "cell_type": "code",
   "execution_count": 466,
   "metadata": {},
   "outputs": [
    {
     "data": {
      "text/plain": [
       "array([[0.        +0.j, 0.70710678+0.j],\n",
       "       [0.70710678+0.j, 0.        +0.j]])"
      ]
     },
     "execution_count": 466,
     "metadata": {},
     "output_type": "execute_result"
    }
   ],
   "source": [
    "tensor_identity(cutoff, n, N, q)"
   ]
  },
  {
   "cell_type": "code",
   "execution_count": 469,
   "metadata": {},
   "outputs": [],
   "source": [
    "# Initialize the Hamiltonian\n",
    "I_b = np.eye(cutoff ** N)\n",
    "I_f = np.eye(2 ** N)\n",
    "\n",
    "#H = np.zeros(np.kron(I_b,I_f).shape, dtype=np.complex128)\n",
    "\n",
    "q = create_matrix(cutoff, 'q')\n",
    "p = create_matrix(cutoff, 'p')\n",
    "\n",
    "for n in range(N):\n",
    "\n",
    "    q_n = tensor_identity(cutoff, n, N, q)\n",
    "    p_n = tensor_identity(cutoff, n, N, p)\n",
    "    \n",
    "    # Kinetic term\n",
    "    p2 = np.matmul(p_n,p_n) #/ (2 * a)\n",
    "    kinetic_term = np.kron(I_f,p2)\n",
    "    \n",
    "    # Potential term\n",
    "    W_prime = q_n  # W'(q) = q\n",
    "    W_double_prime = I_b #W''(q) = 1\n",
    "    potential = np.matmul(W_prime,W_prime)#*(a / 2)\n",
    "    potential_term = np.kron(I_f, potential)\n",
    "\n",
    "    # Commutator term [b^†, b] = -Z\n",
    "    Z = np.array([[1, 0], [0, -1]])  # Pauli Z matrix for fermion number\n",
    "    commutator_term = np.kron(Z, W_double_prime)\n",
    "\n",
    "    H = 0.5 * (kinetic_term + potential_term + commutator_term)\n",
    "\n",
    "    '''\n",
    "    # Gradient and interaction terms\n",
    "    \n",
    "    if 0 < n < N - 1:\n",
    "        print('a')\n",
    "        q_np1 = tensor_identity(cutoff, (n + 1) % N, N, q)  # (n+1)-th site (periodic boundary)\n",
    "        q_nm1 = tensor_identity(cutoff, (n - 1) % N, N, q)  # (n-1)-th site (periodic boundary)\n",
    "    \n",
    "        gradient = (q_np1 - q_nm1) / (2 * a)\n",
    "        H += (a / 2) * np.matmul(gradient,gradient)\n",
    "        H += a * np.matmul(V,gradient)\n",
    "    \n",
    "    # Fermionic terms\n",
    "    if 0 < n < N - 1:\n",
    "        print('b')\n",
    "        fermion_term = (-1) ** n * VP @ (np.matmul(tensor_identity(cutoff, n, N, S_dagger), tensor_identity(cutoff, n, N, S)) - 0.5 * I_b)\n",
    "        H += fermion_term\n",
    "    \n",
    "        # Fermionic hopping\n",
    "        #fermion_hopping = (np.matmul(tensor_identity(cutoff, n, N, np.eye(cutoff)), tensor_identity(cutoff, n + 1, N, np.eye(cutoff))) + np.matmul(tensor_identity(cutoff, n, N, np.eye(cutoff)), tensor_identity(cutoff, n + 1, N, np.eye(cutoff))))\n",
    "        #H += fermion_hopping / (2 * a)\n",
    "    \n",
    "    '''\n"
   ]
  },
  {
   "cell_type": "code",
   "execution_count": 470,
   "metadata": {},
   "outputs": [
    {
     "data": {
      "text/plain": [
       "array([-1.11022302e-16, -1.11022302e-16,  1.00000000e+00,  1.00000000e+00])"
      ]
     },
     "execution_count": 470,
     "metadata": {},
     "output_type": "execute_result"
    }
   ],
   "source": [
    "np.sort(np.linalg.eig(H)[0].real)[:7]"
   ]
  },
  {
   "cell_type": "code",
   "execution_count": null,
   "metadata": {},
   "outputs": [],
   "source": []
  },
  {
   "cell_type": "code",
   "execution_count": null,
   "metadata": {},
   "outputs": [],
   "source": []
  },
  {
   "cell_type": "code",
   "execution_count": null,
   "metadata": {},
   "outputs": [],
   "source": []
  },
  {
   "cell_type": "code",
   "execution_count": null,
   "metadata": {},
   "outputs": [],
   "source": []
  },
  {
   "cell_type": "code",
   "execution_count": null,
   "metadata": {},
   "outputs": [],
   "source": []
  },
  {
   "cell_type": "code",
   "execution_count": null,
   "metadata": {},
   "outputs": [],
   "source": []
  },
  {
   "cell_type": "code",
   "execution_count": null,
   "metadata": {},
   "outputs": [],
   "source": [
    "##def construct_hamiltonian(N, cutoff, a, V, dV):\n",
    "       \n",
    "# Initialize the Hamiltonian\n",
    "dim = cutoff ** N  # Total Hilbert space dimension\n",
    "H = np.zeros((dim, dim), dtype=np.complex128)\n",
    "\n",
    "for n in range(N):\n",
    "\n",
    "    # Bosonic terms\n",
    "    I_b = np.eye(dim)\n",
    "\n",
    "    q_n = tensor_identity(cutoff, n, N, q)\n",
    "    p_n = tensor_identity(cutoff, n, N, p)\n",
    "    \n",
    "    # Kinetic term\n",
    "    H += np.matmul(p_n,p_n) / (2 * a)\n",
    "    \n",
    "    # Potential term\n",
    "    c= -0.2\n",
    "    V = q_n#c + q_n**2 # \n",
    "    VP = I_b#0.5*q_n#\n",
    "    H += (a / 2) * np.matmul(V,V)\n",
    "\n",
    "    # Subtract the constant offset\n",
    "    H -= 0.5 * I_b\n",
    "\n",
    "    # Gradient and interaction terms\n",
    "    '''\n",
    "    if 0 < n < N - 1:\n",
    "        print('a')\n",
    "        q_np1 = tensor_identity(cutoff, (n + 1) % N, N, q)  # (n+1)-th site (periodic boundary)\n",
    "        q_nm1 = tensor_identity(cutoff, (n - 1) % N, N, q)  # (n-1)-th site (periodic boundary)\n",
    "    \n",
    "        gradient = (q_np1 - q_nm1) / (2 * a)\n",
    "        H += (a / 2) * np.matmul(gradient,gradient)\n",
    "        H += a * np.matmul(V,gradient)\n",
    "    '''\n",
    "    # Fermionic terms\n",
    "    if 0 < n < N - 1:\n",
    "        print('b')\n",
    "        fermion_term = (-1) ** n * VP @ (np.matmul(tensor_identity(cutoff, n, N, S_dagger), tensor_identity(cutoff, n, N, S)) - 0.5 * I_b)\n",
    "        H += fermion_term\n",
    "    \n",
    "        # Fermionic hopping\n",
    "        #fermion_hopping = (np.matmul(tensor_identity(cutoff, n, N, np.eye(cutoff)), tensor_identity(cutoff, n + 1, N, np.eye(cutoff))) + np.matmul(tensor_identity(cutoff, n, N, np.eye(cutoff)), tensor_identity(cutoff, n + 1, N, np.eye(cutoff))))\n",
    "        #H += fermion_hopping / (2 * a)\n",
    "    \n",
    "#return H\n"
   ]
  },
  {
   "cell_type": "code",
   "execution_count": 363,
   "metadata": {},
   "outputs": [
    {
     "name": "stdout",
     "output_type": "stream",
     "text": [
      "Hamiltonian shape: (8, 8)\n",
      "[[-1.11022302e-16  0.00000000e+00  0.00000000e+00  0.00000000e+00\n",
      "   0.00000000e+00  0.00000000e+00  0.00000000e+00  0.00000000e+00]\n",
      " [ 0.00000000e+00  1.00000000e+00  0.00000000e+00  0.00000000e+00\n",
      "   0.00000000e+00  0.00000000e+00  0.00000000e+00  0.00000000e+00]\n",
      " [ 0.00000000e+00  0.00000000e+00  2.00000000e+00  0.00000000e+00\n",
      "   0.00000000e+00  0.00000000e+00  0.00000000e+00  0.00000000e+00]\n",
      " [ 0.00000000e+00  0.00000000e+00  0.00000000e+00  3.00000000e+00\n",
      "   0.00000000e+00  0.00000000e+00  0.00000000e+00  0.00000000e+00]\n",
      " [ 0.00000000e+00  0.00000000e+00  0.00000000e+00  0.00000000e+00\n",
      "   4.00000000e+00  0.00000000e+00  0.00000000e+00  0.00000000e+00]\n",
      " [ 0.00000000e+00  0.00000000e+00  0.00000000e+00  0.00000000e+00\n",
      "   0.00000000e+00  5.00000000e+00  0.00000000e+00  0.00000000e+00]\n",
      " [ 0.00000000e+00  0.00000000e+00  0.00000000e+00  0.00000000e+00\n",
      "   0.00000000e+00  0.00000000e+00  6.00000000e+00  0.00000000e+00]\n",
      " [ 0.00000000e+00  0.00000000e+00  0.00000000e+00  0.00000000e+00\n",
      "   0.00000000e+00  0.00000000e+00  0.00000000e+00  3.00000000e+00]]\n"
     ]
    }
   ],
   "source": [
    "# Display the Hamiltonian\n",
    "print(\"Hamiltonian shape:\", H.shape)\n",
    "print(H.real)\n"
   ]
  },
  {
   "cell_type": "code",
   "execution_count": 364,
   "metadata": {},
   "outputs": [
    {
     "data": {
      "text/plain": [
       "array([-1.11022302e-16,  1.00000000e+00,  2.00000000e+00,  3.00000000e+00,\n",
       "        3.00000000e+00,  4.00000000e+00,  5.00000000e+00])"
      ]
     },
     "execution_count": 364,
     "metadata": {},
     "output_type": "execute_result"
    }
   ],
   "source": [
    "np.sort(np.linalg.eig(H)[0].real)[:7]"
   ]
  },
  {
   "cell_type": "code",
   "execution_count": null,
   "metadata": {},
   "outputs": [],
   "source": []
  },
  {
   "cell_type": "code",
   "execution_count": null,
   "metadata": {},
   "outputs": [],
   "source": []
  }
 ],
 "metadata": {
  "kernelspec": {
   "display_name": ".venv",
   "language": "python",
   "name": "python3"
  },
  "language_info": {
   "codemirror_mode": {
    "name": "ipython",
    "version": 3
   },
   "file_extension": ".py",
   "mimetype": "text/x-python",
   "name": "python",
   "nbconvert_exporter": "python",
   "pygments_lexer": "ipython3",
   "version": "3.10.4"
  }
 },
 "nbformat": 4,
 "nbformat_minor": 2
}
