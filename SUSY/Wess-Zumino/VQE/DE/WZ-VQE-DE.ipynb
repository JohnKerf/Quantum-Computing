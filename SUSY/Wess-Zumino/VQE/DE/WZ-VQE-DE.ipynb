{
 "cells": [
  {
   "cell_type": "code",
   "execution_count": 22,
   "metadata": {},
   "outputs": [],
   "source": [
    "# PennyLane imports\n",
    "import pennylane as qml\n",
    "from pennylane import numpy as pnp\n",
    "\n",
    "from scipy.optimize import differential_evolution\n",
    "from scipy.sparse.linalg import eigsh\n",
    "\n",
    "# General imports\n",
    "import os\n",
    "import json\n",
    "import numpy as np\n",
    "from datetime import datetime\n",
    "\n",
    "from qiskit.quantum_info import SparsePauliOp\n",
    "\n",
    "from scipy.stats.qmc import Halton\n",
    "\n",
    "# custom module\n",
    "from susy_qm import calculate_wz_hamiltonian"
   ]
  },
  {
   "cell_type": "code",
   "execution_count": 7,
   "metadata": {},
   "outputs": [],
   "source": [
    "# Parameters\n",
    "N = 2\n",
    "a = 1.0\n",
    "c = 0\n",
    "potential = \"linear\"#'quadratic'\n",
    "boundary_condition = 'dirichlet'\n",
    "#boundary_condition = 'periodic'"
   ]
  },
  {
   "cell_type": "code",
   "execution_count": 28,
   "metadata": {},
   "outputs": [
    {
     "name": "stdout",
     "output_type": "stream",
     "text": [
      "Running for dirichlet boundary conditions\n",
      "Running for linear potential\n",
      "Running for cutoff: 2\n",
      "Num qubits:  4\n",
      "Run: 0\n",
      "Not converged\n"
     ]
    }
   ],
   "source": [
    "cut_offs_list = [2]\n",
    "shots = 1024\n",
    "\n",
    "starttime = datetime.now().strftime(\"%Y-%m-%d_%H-%M-%S\")\n",
    "\n",
    "if shots != None:\n",
    "    folder = 'Noise\\\\N'+str(N)\n",
    "else:\n",
    "    folder = 'No Noise\\\\N'+str(N)\n",
    "\n",
    "#Create directory for files\n",
    "base_path = r\"C:\\Users\\johnkerf\\Desktop\\Quantum-Computing\\Quantum-Computing\\SUSY\\Wess-Zumino\\VQE\\DE\\Files\\{}\\\\{}\\\\\".format(boundary_condition, folder)\n",
    "#base_path = r\"C:\\Users\\Johnk\\OneDrive\\Desktop\\PhD 2024\\Quantum Computing Code\\Quantum-Computing\\SUSY\\Wess-Zumino\\VQE\\DE\\Files\\{}\\\\{}\\\\\".format(boundary_condition, folder)\n",
    "os.makedirs(base_path, exist_ok=True)\n",
    "\n",
    "print(f\"Running for {boundary_condition} boundary conditions\")\n",
    "print(f\"Running for {potential} potential\")\n",
    "\n",
    "for cut_off in cut_offs_list:\n",
    "\n",
    "    print(f\"Running for cutoff: {cut_off}\")\n",
    "\n",
    "    #calculate Hamiltonian and expected eigenvalues\n",
    "    H = calculate_wz_hamiltonian(cut_off, N, a, potential, boundary_condition, c)\n",
    "    \n",
    "    eigenvalues = np.sort(np.linalg.eig(H)[0])[:12]\n",
    "    min_eigenvalue = min(eigenvalues.real)\n",
    "\n",
    "    #create qiskit Hamiltonian Pauli string\n",
    "    hamiltonian = SparsePauliOp.from_operator(H)\n",
    "    num_qubits = hamiltonian.num_qubits\n",
    "    print(\"Num qubits: \", num_qubits)\n",
    "    \n",
    "    # Device\n",
    "    shots = shots\n",
    "    #dev = qml.device('default.qubit', wires=num_qubits, shots=shots)\n",
    "    dev = qml.device('lightning.qubit', wires=num_qubits, shots=shots)\n",
    "\n",
    "\n",
    "    #Initial params shape\n",
    "    num_layers = 1\n",
    "    params_shape = qml.StronglyEntanglingLayers.shape(n_layers=num_layers, n_wires=num_qubits)\n",
    "\n",
    "\n",
    "    # Define the cost function\n",
    "    @qml.qnode(dev)\n",
    "    def cost_function(params):\n",
    "        params = pnp.tensor(params.reshape(params_shape), requires_grad=True)\n",
    "\n",
    "        for qubit in range(num_qubits):\n",
    "            qml.RY(pnp.pi / 4, wires=qubit)\n",
    "\n",
    "        qml.StronglyEntanglingLayers(weights=params, wires=range(num_qubits), imprimitive=qml.CZ)\n",
    "        return qml.expval(qml.Hermitian(H, wires=range(num_qubits)))\n",
    "\n",
    "\n",
    "    \n",
    "    \n",
    "    # VQE\n",
    "    vqe_start = datetime.now()\n",
    "\n",
    "    #variables\n",
    "    num_vqe_runs = 1\n",
    "    max_iterations = 500\n",
    "    strategy = 'best1bin'\n",
    "    #strategy = 'best1exp'\n",
    "    popsize = 15\n",
    "    tol = 0\n",
    "    abs_tol = 1e-5\n",
    "\n",
    "    #data arrays\n",
    "    energies = []\n",
    "    x_values = []\n",
    "    success = []\n",
    "    run_times = []\n",
    "    num_iters = []\n",
    "    num_evaluations = []\n",
    "\n",
    "    #Optimizer\n",
    "    bounds = [(0, 2 * np.pi) for _ in range(np.prod(params_shape))]\n",
    "\n",
    "    # Number of dimensions and population size\n",
    "    num_dimensions = np.prod(params_shape)\n",
    "    num_samples = popsize\n",
    "\n",
    "    # Generate Halton sequence\n",
    "    halton_sampler = Halton(d=num_dimensions, scramble=True)\n",
    "    halton_samples = halton_sampler.random(n=num_samples)\n",
    "\n",
    "    # Scale samples to parameter bounds (0 to 2*pi)\n",
    "    scaled_samples = 2 * np.pi * halton_samples\n",
    "    \n",
    "    for i in range(num_vqe_runs):\n",
    "\n",
    "        run_start = datetime.now()\n",
    "\n",
    "        if i % 1 == 0:\n",
    "            print(f\"Run: {i}\")\n",
    "\n",
    "        \n",
    "        # Differential Evolution optimization\n",
    "        res = differential_evolution(cost_function, \n",
    "                                        bounds, \n",
    "                                        maxiter=max_iterations, \n",
    "                                        tol=tol,\n",
    "                                        atol=abs_tol,\n",
    "                                        strategy=strategy, \n",
    "                                        popsize=popsize,\n",
    "                                        init=scaled_samples)\n",
    "        \n",
    "        if res.success == False:\n",
    "            print(\"Not converged\")\n",
    "        else:\n",
    "            print(\"Converged\")\n",
    "\n",
    "        energies.append(res.fun)\n",
    "        x_values.append(res.x)\n",
    "        success.append(res.success)\n",
    "        num_iters.append(res.nit)\n",
    "        num_evaluations.append(res.nfev)\n",
    "\n",
    "        run_end = datetime.now()\n",
    "        run_time = run_end - run_start\n",
    "        run_times.append(run_time)\n",
    "\n",
    "    vqe_end = datetime.now()\n",
    "    vqe_time = vqe_end - vqe_start"
   ]
  },
  {
   "cell_type": "code",
   "execution_count": 29,
   "metadata": {},
   "outputs": [
    {
     "data": {
      "text/plain": [
       "[np.float64(0.08339411594980481)]"
      ]
     },
     "execution_count": 29,
     "metadata": {},
     "output_type": "execute_result"
    }
   ],
   "source": [
    "energies"
   ]
  },
  {
   "cell_type": "code",
   "execution_count": 25,
   "metadata": {},
   "outputs": [
    {
     "data": {
      "text/plain": [
       "array([0.00696601+0.j, 0.00696601+0.j, 0.00696601+0.j, 0.00696601+0.j,\n",
       "       1.125     +0.j, 1.125     +0.j, 1.125     +0.j, 1.125     +0.j,\n",
       "       1.125     +0.j, 1.125     +0.j, 1.125     +0.j, 1.125     +0.j])"
      ]
     },
     "execution_count": 25,
     "metadata": {},
     "output_type": "execute_result"
    }
   ],
   "source": [
    "eigenvalues"
   ]
  },
  {
   "cell_type": "code",
   "execution_count": 30,
   "metadata": {},
   "outputs": [
    {
     "data": {
      "text/plain": [
       "array([4.54070242e-10, 1.11803311e+00, 1.11803311e+00, 1.11803399e+00,\n",
       "       1.11803399e+00, 1.23958963e+01, 1.36092751e+01, 1.47273091e+01,\n",
       "       1.47273091e+01, 1.47721877e+01, 1.47721877e+01, 1.58453431e+01])"
      ]
     },
     "execution_count": 30,
     "metadata": {},
     "output_type": "execute_result"
    }
   ],
   "source": [
    "np.sort(eigenvalues.real)"
   ]
  },
  {
   "cell_type": "code",
   "execution_count": 8,
   "metadata": {},
   "outputs": [],
   "source": [
    "#Save run\n",
    "run = {\n",
    "    'starttime': starttime,\n",
    "    'potential': potential,\n",
    "    'boundary_condition': boundary_condition,\n",
    "    'c': c,\n",
    "    'cutoff': cut_off,\n",
    "    'num_sites': N,\n",
    "    'exact_eigenvalues': [round(x.real,10).tolist() for x in eigenvalues],\n",
    "    'ansatz': 'StronglyEntanglingLayers-1layer',\n",
    "    'num_VQE': num_vqe_runs,\n",
    "    'shots': shots,\n",
    "    'Optimizer': {'name': 'differential_evolution',\n",
    "                'bounds':'[(0, 2 * np.pi) for _ in range(np.prod(params_shape))]',\n",
    "                'maxiter':max_iterations,\n",
    "                'tolerance': tolerance,\n",
    "                'strategy': strategy,\n",
    "                'popsize': popsize\n",
    "                },\n",
    "    'results': energies,\n",
    "    'params': [x.tolist() for x in x_values],\n",
    "    'num_iters': num_iters,\n",
    "    'num_evaluations': num_evaluations,\n",
    "    'success': np.array(success, dtype=bool).tolist(),\n",
    "    'run_times': [str(x) for x in run_times],\n",
    "    'total_run_time': str(vqe_time)\n",
    "}\n",
    "\n",
    "# Save the variable to a JSON file\n",
    "path = base_path + \"{}_{}.json\".format(potential, cut_off)\n",
    "with open(path, 'w') as json_file:\n",
    "    json.dump(run, json_file, indent=4)"
   ]
  },
  {
   "cell_type": "code",
   "execution_count": null,
   "metadata": {},
   "outputs": [],
   "source": [
    "\n",
    "\n",
    "#base_path = r\"C:\\Users\\Johnk\\OneDrive\\Desktop\\PhD 2024\\Quantum Computing Code\\Quantum-Computing\\SUSY\\PennyLane\\SUSY VQE\\Shot Noise\\Files\\{}\\\\{}\\\\\"\n",
    "#create_vqe_plots(potential=potential, base_path=base_path, folder=folder, cut_off_list=cut_offs_list)"
   ]
  }
 ],
 "metadata": {
  "kernelspec": {
   "display_name": ".venv",
   "language": "python",
   "name": "python3"
  },
  "language_info": {
   "codemirror_mode": {
    "name": "ipython",
    "version": 3
   },
   "file_extension": ".py",
   "mimetype": "text/x-python",
   "name": "python",
   "nbconvert_exporter": "python",
   "pygments_lexer": "ipython3",
   "version": "3.10.0"
  }
 },
 "nbformat": 4,
 "nbformat_minor": 2
}
