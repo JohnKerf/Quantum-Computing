{
 "cells": [
  {
   "cell_type": "code",
   "execution_count": 1,
   "metadata": {},
   "outputs": [],
   "source": [
    "# PennyLane imports\n",
    "import pennylane as qml\n",
    "from pennylane import numpy as pnp\n",
    "from pennylane.optimize import AdamOptimizer\n",
    "\n",
    "# General imports\n",
    "import os\n",
    "import json\n",
    "import numpy as np\n",
    "from datetime import datetime\n",
    "\n",
    "from qiskit.quantum_info import SparsePauliOp\n",
    "\n",
    "#custom module\n",
    "from susy_qm import calculate_wz_hamiltonian\n"
   ]
  },
  {
   "cell_type": "code",
   "execution_count": 3,
   "metadata": {},
   "outputs": [],
   "source": [
    "# Parameters\n",
    "N = 2\n",
    "a = 1.0\n",
    "c = 0\n",
    "potential = \"linear\"#'quadratic'\n",
    "boundary_condition = 'dirichlet'#'periodic'"
   ]
  },
  {
   "cell_type": "code",
   "execution_count": null,
   "metadata": {},
   "outputs": [
    {
     "name": "stdout",
     "output_type": "stream",
     "text": [
      "Running for linear potential\n",
      "Running for cutoff: 4\n",
      "Num qubits:  6\n",
      "VQE run: 0\n",
      "Not converged\n"
     ]
    }
   ],
   "source": [
    "cut_offs_list = [4]\n",
    "shots = None\n",
    "\n",
    "starttime = datetime.now().strftime(\"%Y-%m-%d_%H-%M-%S\")\n",
    "\n",
    "if shots != None:\n",
    "    folder = 'Noise\\\\N'+str(N)\n",
    "else:\n",
    "    folder = 'No Noise\\\\N'+str(N)\n",
    "\n",
    "#Create directory for files\n",
    "base_path = r\"C:\\Users\\Johnk\\OneDrive\\Desktop\\PhD 2024\\Quantum Computing Code\\Quantum-Computing\\SUSY\\Wess-Zumino\\VQE\\Adam\\Files\\{}\\\\{}\\\\\".format(potential, folder)\n",
    "os.makedirs(base_path, exist_ok=True)\n",
    "\n",
    "print(f\"Running for {potential} potential\")\n",
    "\n",
    "for cut_off in cut_offs_list:\n",
    "\n",
    "    print(f\"Running for cutoff: {cut_off}\")\n",
    "\n",
    "    #calculate Hamiltonian and expected eigenvalues\n",
    "    H = calculate_wz_hamiltonian(cut_off, N, a, potential, boundary_condition, c)\n",
    "    \n",
    "    eigenvalues = np.sort(np.linalg.eig(H)[0][:12])\n",
    "    min_eigenvalue = min(eigenvalues.real)\n",
    "\n",
    "    #create qiskit Hamiltonian Pauli string\n",
    "    hamiltonian = SparsePauliOp.from_operator(H)\n",
    "    num_qubits = hamiltonian.num_qubits\n",
    "    print(\"Num qubits: \", num_qubits)\n",
    "    \n",
    "    # Device\n",
    "    shots = shots\n",
    "    dev = qml.device('lightning.qubit', wires=num_qubits, shots=shots)\n",
    "\n",
    "\n",
    "    #Initial params shape\n",
    "    num_layers = 1\n",
    "    params_shape = qml.StronglyEntanglingLayers.shape(n_layers=num_layers, n_wires=num_qubits)\n",
    "\n",
    "\n",
    "    # Define the cost function\n",
    "    @qml.qnode(dev)\n",
    "    def cost_function(params):\n",
    "        params = pnp.tensor(params.reshape(params_shape), requires_grad=True)\n",
    "        qml.StronglyEntanglingLayers(weights=params, wires=range(num_qubits), imprimitive=qml.CZ)\n",
    "        return qml.expval(qml.Hermitian(H, wires=range(num_qubits)))\n",
    "    \n",
    "        \n",
    "    #Optimizer\n",
    "    stepsize = 0.5\n",
    "    optimizer = AdamOptimizer(stepsize=stepsize)\n",
    "\n",
    "    # VQE\n",
    "    vqe_start = datetime.now()\n",
    "\n",
    "    #variables\n",
    "    num_vqe_runs = 1\n",
    "    max_iterations = 10000\n",
    "    tolerance = 1e-8\n",
    "    moving_avg_length = 5\n",
    "\n",
    "    #data arrays\n",
    "    energies = []\n",
    "    param_values = []\n",
    "    success = []\n",
    "    run_times = []\n",
    "    num_iters = []\n",
    "\n",
    "    for j in range(num_vqe_runs):\n",
    "\n",
    "        if j % 1==0:\n",
    "            print(f\"VQE run: {j}\")\n",
    "\n",
    "        run_start = datetime.now()\n",
    "        converged = False\n",
    "        prev_energy = None\n",
    "\n",
    "        moving_average_check = False\n",
    "        gradient_norm_check = False\n",
    "\n",
    "        #Initial params\n",
    "        scale = 0.25\n",
    "        params_shape = qml.StronglyEntanglingLayers.shape(n_layers=1, n_wires=num_qubits)\n",
    "        params = scale*np.pi * pnp.random.random(size=params_shape)\n",
    "\n",
    "        iter_energies = []\n",
    "\n",
    "        for i in range(max_iterations):\n",
    "\n",
    "            params, energy = optimizer.step_and_cost(cost_function, params)\n",
    "            iter_energies.append(energy)\n",
    "\n",
    "            # Moving average convergence check\n",
    "            if len(iter_energies) > moving_avg_length:\n",
    "                energy_moving_avg = np.mean(np.abs(np.diff(iter_energies[-moving_avg_length:])))\n",
    "                if energy_moving_avg < tolerance:\n",
    "                    \n",
    "                    moving_average_check = True\n",
    "                    converged = True\n",
    "                    break\n",
    "\n",
    "\n",
    "            prev_energy = energy\n",
    "        \n",
    "        if converged == False:\n",
    "            print(\"Not converged\")\n",
    "\n",
    "        energies.append(energy)\n",
    "        param_values.append(params)\n",
    "        success.append(converged)\n",
    "        num_iters.append(i+1)\n",
    "\n",
    "        run_end = datetime.now()\n",
    "        run_time = run_end - run_start\n",
    "        run_times.append(run_time)\n",
    "\n",
    "    vqe_end = datetime.now()\n",
    "    vqe_time = vqe_end - vqe_start\n"
   ]
  },
  {
   "cell_type": "code",
   "execution_count": 15,
   "metadata": {},
   "outputs": [
    {
     "data": {
      "text/plain": [
       "[array(0.18034391)]"
      ]
     },
     "execution_count": 15,
     "metadata": {},
     "output_type": "execute_result"
    }
   ],
   "source": [
    "energies"
   ]
  },
  {
   "cell_type": "code",
   "execution_count": 16,
   "metadata": {},
   "outputs": [
    {
     "data": {
      "text/plain": [
       "array([3.22505916e-05+0.j, 9.75406022e-01+0.j, 9.75406022e-01+0.j,\n",
       "       1.11806624e+00+0.j, 1.11806624e+00+0.j, 2.23610023e+00+0.j,\n",
       "       4.51389977e+00+0.j, 5.63193376e+00+0.j, 5.63193376e+00+0.j,\n",
       "       5.77459398e+00+0.j, 5.77459398e+00+0.j, 6.74996775e+00+0.j])"
      ]
     },
     "execution_count": 16,
     "metadata": {},
     "output_type": "execute_result"
    }
   ],
   "source": [
    "eigenvalues"
   ]
  },
  {
   "cell_type": "code",
   "execution_count": 4,
   "metadata": {},
   "outputs": [],
   "source": [
    "#Save run\n",
    "run = {\n",
    "    'starttime': starttime,\n",
    "    'potential': potential,\n",
    "    'boundary_condition': boundary_condition,\n",
    "    'c': c,\n",
    "    'cutoff': cut_off,\n",
    "    'num_sites': N,\n",
    "    'exact_eigenvalues': [x.real.tolist() for x in eigenvalues],\n",
    "    'ansatz': 'StronglyEntanglingLayers-1layer',\n",
    "    'num_VQE': num_vqe_runs,\n",
    "    'shots': shots,\n",
    "    'Optimizer': {'name': 'AdamOptimizer',\n",
    "                'stepsize':stepsize,\n",
    "                'maxiter':max_iterations,\n",
    "                'tolerance': tolerance,\n",
    "                'moving_avg_length': moving_avg_length\n",
    "                },\n",
    "    'results': [x.tolist() for x in energies],\n",
    "    'params': [x.tolist() for x in param_values],\n",
    "    'num_iters': num_iters,\n",
    "    'success': np.array(success, dtype=bool).tolist(),\n",
    "    'run_times': [str(x) for x in run_times],\n",
    "    'total_run_time': str(vqe_time)\n",
    "}\n",
    "\n",
    "# Save the variable to a JSON file\n",
    "path = base_path + \"{}_{}.json\".format(potential, cut_off)\n",
    "with open(path, 'w') as json_file:\n",
    "    json.dump(run, json_file, indent=4)"
   ]
  },
  {
   "cell_type": "code",
   "execution_count": null,
   "metadata": {},
   "outputs": [],
   "source": [
    "# create plots\n",
    "base_path = r\"C:\\Users\\Johnk\\OneDrive\\Desktop\\PhD 2024\\Quantum Computing Code\\Quantum-Computing\\SUSY\\PennyLane\\SUSY VQE\\Shot Noise\\Adam\\Files\\{}\\\\{}\\\\\"\n",
    "create_vqe_plots(potential=potential, base_path=base_path, folder=folder, cut_off_list=cut_offs_list)"
   ]
  }
 ],
 "metadata": {
  "kernelspec": {
   "display_name": ".venv",
   "language": "python",
   "name": "python3"
  },
  "language_info": {
   "codemirror_mode": {
    "name": "ipython",
    "version": 3
   },
   "file_extension": ".py",
   "mimetype": "text/x-python",
   "name": "python",
   "nbconvert_exporter": "python",
   "pygments_lexer": "ipython3",
   "version": "3.10.4"
  }
 },
 "nbformat": 4,
 "nbformat_minor": 2
}
