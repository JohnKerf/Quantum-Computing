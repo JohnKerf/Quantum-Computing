{
 "cells": [
  {
   "cell_type": "code",
   "execution_count": 1,
   "metadata": {},
   "outputs": [],
   "source": [
    "# PennyLane imports\n",
    "import pennylane as qml\n",
    "from pennylane import numpy as pnp\n",
    "\n",
    "from scipy.optimize import differential_evolution\n",
    "from scipy.sparse.linalg import eigsh\n",
    "\n",
    "# General imports\n",
    "import os\n",
    "import json\n",
    "import numpy as np\n",
    "from datetime import datetime\n",
    "\n",
    "from qiskit.quantum_info import SparsePauliOp\n",
    "\n",
    "from scipy.stats.qmc import Halton\n",
    "\n",
    "# custom module\n",
    "from susy_qm import calculate_wz_hamiltonian"
   ]
  },
  {
   "cell_type": "code",
   "execution_count": 10,
   "metadata": {},
   "outputs": [],
   "source": [
    "# Parameters\n",
    "N = 3\n",
    "a = 1.0\n",
    "c = 0\n",
    "potential = \"linear\"#'quadratic'\n",
    "boundary_condition = 'dirichlet'\n",
    "#boundary_condition = 'periodic'\n",
    "cutoff = 2"
   ]
  },
  {
   "cell_type": "code",
   "execution_count": 11,
   "metadata": {},
   "outputs": [
    {
     "name": "stdout",
     "output_type": "stream",
     "text": [
      "Running for dirichlet boundary conditions\n",
      "Running for linear potential\n",
      "Running for cutoff: 2\n",
      "Num qubits:  6\n",
      "Run: 0\n"
     ]
    }
   ],
   "source": [
    "shots = 1024\n",
    "\n",
    "starttime = datetime.now().strftime(\"%Y-%m-%d_%H-%M-%S\")\n",
    "\n",
    "if potential == 'quadratic':\n",
    "    folder = 'C' + str(abs(c)) + '/' + 'N'+ str(N) + '/' + str(starttime)\n",
    "else:\n",
    "    folder = 'N'+ str(N) + '/' + str(starttime)\n",
    "\n",
    "base_path = os.path.join(r\"C:\\Users\\Johnk\\Documents\\Quantum Computing Code\\Quantum-Computing\\SUSY\\Wess-Zumino\\VQE\\DE\\Files\", boundary_condition, potential, folder)\n",
    "os.makedirs(base_path, exist_ok=True)\n",
    "\n",
    "print(f\"Running for {boundary_condition} boundary conditions\")\n",
    "print(f\"Running for {potential} potential\")\n",
    "print(f\"Running for cutoff: {cutoff}\")\n",
    "\n",
    "#calculate Hamiltonian and expected eigenvalues\n",
    "H = calculate_wz_hamiltonian(cutoff, N, a, potential, boundary_condition, c)\n",
    "\n",
    "eigenvalues = np.sort(np.linalg.eig(H)[0])[:12]\n",
    "min_eigenvalue = min(eigenvalues.real)\n",
    "\n",
    "#create qiskit Hamiltonian Pauli string\n",
    "hamiltonian = SparsePauliOp.from_operator(H)\n",
    "num_qubits = hamiltonian.num_qubits\n",
    "print(\"Num qubits: \", num_qubits)\n",
    "\n",
    "# Device\n",
    "shots = shots\n",
    "#dev = qml.device('default.qubit', wires=num_qubits, shots=shots)\n",
    "dev = qml.device('default.qubit', wires=num_qubits, shots=shots)\n",
    "\n",
    "\n",
    "sel_num_layers = 2  # Number of entangling layers\n",
    "sel_params_shape = qml.StronglyEntanglingLayers.shape(n_layers=sel_num_layers, n_wires=num_qubits)\n",
    "\n",
    "ran_num_layers = 2  # Number of entangling layers\n",
    "ran_params_shape = qml.RandomLayers.shape(n_layers=ran_num_layers, n_rotations=num_qubits)\n",
    "\n",
    "\n",
    "@qml.qnode(dev)\n",
    "def cost_function(params):\n",
    "\n",
    "    sel_params = params[:np.prod(sel_params_shape)]\n",
    "    ran_params = params[np.prod(sel_params_shape):]\n",
    "    sel_params = pnp.tensor(sel_params.reshape(sel_params_shape), requires_grad=True)\n",
    "    ran_params = pnp.tensor(ran_params.reshape(ran_params_shape), requires_grad=True)\n",
    "\n",
    "    qml.StronglyEntanglingLayers(sel_params, wires=range(num_qubits), imprimitive=qml.CZ)\n",
    "    qml.RandomLayers(ran_params, wires=range(num_qubits), seed=280270)\n",
    "\n",
    "    return qml.expval(qml.Hermitian(H, wires=range(num_qubits)))\n",
    "\n",
    "\n",
    "# VQE\n",
    "vqe_start = datetime.now()\n",
    "\n",
    "\n",
    "num_vqe_runs = 1\n",
    "max_iterations = 10000\n",
    "strategy = \"randtobest1bin\"\n",
    "popsize = 20\n",
    "tol = 1e-2\n",
    "abs_tol = 1e-3\n",
    "\n",
    "#data arrays\n",
    "energies = []\n",
    "x_values = []\n",
    "success = []\n",
    "run_times = []\n",
    "num_iters = []\n",
    "num_evaluations = []\n",
    "\n",
    "#Optimizer\n",
    "sel_x0 = np.random.random(sel_params_shape).flatten()\n",
    "ran_x0 = np.random.random(ran_params_shape).flatten()\n",
    "x0 = np.concatenate((sel_x0, ran_x0))\n",
    "bounds = [(0, 2 * np.pi) for _ in range(len(x0))]\n",
    "\n",
    "# Number of dimensions and population size\n",
    "num_dimensions = len(x0)\n",
    "num_samples = popsize\n",
    "\n",
    "# Generate Halton sequence\n",
    "halton_sampler = Halton(d=num_dimensions, scramble=True)\n",
    "halton_samples = halton_sampler.random(n=num_samples)\n",
    "\n",
    "# Scale samples to parameter bounds (0 to 2*pi)\n",
    "scaled_samples = 2 * np.pi * halton_samples\n",
    "\n",
    "for i in range(num_vqe_runs):\n",
    "\n",
    "    run_start = datetime.now()\n",
    "\n",
    "    if i % 1 == 0:\n",
    "        print(f\"Run: {i}\")\n",
    "\n",
    "    \n",
    "    # Differential Evolution optimization\n",
    "    res = differential_evolution(cost_function, \n",
    "                                    bounds, \n",
    "                                    maxiter=max_iterations, \n",
    "                                    tol=tol,\n",
    "                                    atol=abs_tol,\n",
    "                                    strategy=strategy, \n",
    "                                    popsize=popsize,\n",
    "                                    init=scaled_samples)\n",
    "    \n",
    "\n",
    "    energies.append(res.fun)\n",
    "    x_values.append(res.x)\n",
    "    success.append(res.success)\n",
    "    num_iters.append(res.nit)\n",
    "    num_evaluations.append(res.nfev)\n",
    "\n",
    "    run_end = datetime.now()\n",
    "    run_time = run_end - run_start\n",
    "    run_times.append(run_time)\n",
    "\n",
    "vqe_end = datetime.now()\n",
    "vqe_time = vqe_end - vqe_start"
   ]
  },
  {
   "cell_type": "code",
   "execution_count": 20,
   "metadata": {},
   "outputs": [
    {
     "data": {
      "text/plain": [
       "array(0.28452699)"
      ]
     },
     "execution_count": 20,
     "metadata": {},
     "output_type": "execute_result"
    }
   ],
   "source": [
    "cost_function(pnp.array(x_values[0]))"
   ]
  },
  {
   "cell_type": "code",
   "execution_count": 12,
   "metadata": {},
   "outputs": [
    {
     "data": {
      "text/plain": [
       "[np.float64(0.18071565414776514)]"
      ]
     },
     "execution_count": 12,
     "metadata": {},
     "output_type": "execute_result"
    }
   ],
   "source": [
    "energies"
   ]
  },
  {
   "cell_type": "code",
   "execution_count": 15,
   "metadata": {},
   "outputs": [
    {
     "data": {
      "text/plain": [
       "[array([1.65139339, 3.15354815, 2.38450114, 2.29795322, 0.09034982,\n",
       "        3.7900682 , 2.77070644, 2.96023782, 2.9678021 , 4.59261982,\n",
       "        6.04342029, 5.29319019, 4.51390138, 2.80874959, 3.84295552,\n",
       "        1.21597272, 3.02680582, 5.53450261, 0.37292169, 3.20531798,\n",
       "        2.22900305, 2.88715298, 3.0379538 , 3.983689  , 0.61987954,\n",
       "        5.67769629, 1.10094407, 1.16347102, 0.18076868, 3.33680361,\n",
       "        2.35224424, 5.9453558 , 1.17606433, 5.18458511, 3.12012092,\n",
       "        1.6495082 , 3.14098932, 3.15999269, 2.51620619, 2.89422059,\n",
       "        4.98504885, 4.10261593, 2.76299021, 0.93807796, 2.97910089,\n",
       "        4.63569638, 5.20532848, 3.8255258 ])]"
      ]
     },
     "execution_count": 15,
     "metadata": {},
     "output_type": "execute_result"
    }
   ],
   "source": [
    "x_values"
   ]
  },
  {
   "cell_type": "code",
   "execution_count": 13,
   "metadata": {},
   "outputs": [
    {
     "data": {
      "text/plain": [
       "[False]"
      ]
     },
     "execution_count": 13,
     "metadata": {},
     "output_type": "execute_result"
    }
   ],
   "source": [
    "success"
   ]
  },
  {
   "cell_type": "code",
   "execution_count": 7,
   "metadata": {},
   "outputs": [
    {
     "data": {
      "text/plain": [
       "array([1.17463681e-04+0.j, 9.07816775e-01+0.j, 9.56369363e-01+0.j,\n",
       "       1.00011746e+00+0.j, 1.03278319e+00+0.j, 1.21190784e+00+0.j,\n",
       "       1.22486234e+00+0.j, 1.22486234e+00+0.j, 1.31557154e+00+0.j,\n",
       "       1.56874180e+00+0.j, 1.86406867e+00+0.j, 1.90781678e+00+0.j])"
      ]
     },
     "execution_count": 7,
     "metadata": {},
     "output_type": "execute_result"
    }
   ],
   "source": [
    "eigenvalues"
   ]
  },
  {
   "cell_type": "code",
   "execution_count": 8,
   "metadata": {},
   "outputs": [
    {
     "data": {
      "text/plain": [
       "array([1.17463681e-04, 9.07816775e-01, 9.56369363e-01, 1.00011746e+00,\n",
       "       1.03278319e+00, 1.21190784e+00, 1.22486234e+00, 1.22486234e+00,\n",
       "       1.31557154e+00, 1.56874180e+00, 1.86406867e+00, 1.90781678e+00])"
      ]
     },
     "execution_count": 8,
     "metadata": {},
     "output_type": "execute_result"
    }
   ],
   "source": [
    "np.sort(eigenvalues.real)"
   ]
  },
  {
   "cell_type": "code",
   "execution_count": 21,
   "metadata": {},
   "outputs": [],
   "source": [
    "#Save run\n",
    "run = {\n",
    "    'starttime': starttime,\n",
    "    'potential': potential,\n",
    "    'boundary_condition': boundary_condition,\n",
    "    'c': c,\n",
    "    'cutoff': cutoff,\n",
    "    'num_sites': N,\n",
    "    'exact_eigenvalues': [round(x.real,10).tolist() for x in eigenvalues],\n",
    "    'ansatz': 'StronglyEntanglingLayers-1layer',\n",
    "    'num_VQE': num_vqe_runs,\n",
    "    'shots': shots,\n",
    "    'Optimizer': {'name': 'differential_evolution',\n",
    "                'bounds':'[(0, 2 * np.pi) for _ in range(np.prod(params_shape))]',\n",
    "                'maxiter':max_iterations,\n",
    "                'tolerance': tol,\n",
    "                'strategy': strategy,\n",
    "                'popsize': popsize\n",
    "                },\n",
    "    'results': energies,\n",
    "    'params': [x.tolist() for x in x_values],\n",
    "    'num_iters': num_iters,\n",
    "    'num_evaluations': num_evaluations,\n",
    "    'success': np.array(success, dtype=bool).tolist(),\n",
    "    'run_times': [str(x) for x in run_times],\n",
    "    'total_run_time': str(vqe_time)\n",
    "}\n",
    "\n",
    "# Save the variable to a JSON file\n",
    "path = base_path + \"{}_{}.json\".format(potential, cutoff)\n",
    "with open(path, 'w') as json_file:\n",
    "    json.dump(run, json_file, indent=4)"
   ]
  },
  {
   "cell_type": "code",
   "execution_count": null,
   "metadata": {},
   "outputs": [],
   "source": [
    "\n",
    "\n",
    "#base_path = r\"C:\\Users\\Johnk\\OneDrive\\Desktop\\PhD 2024\\Quantum Computing Code\\Quantum-Computing\\SUSY\\PennyLane\\SUSY VQE\\Shot Noise\\Files\\{}\\\\{}\\\\\"\n",
    "#create_vqe_plots(potential=potential, base_path=base_path, folder=folder, cut_off_list=cut_offs_list)"
   ]
  }
 ],
 "metadata": {
  "kernelspec": {
   "display_name": ".venv",
   "language": "python",
   "name": "python3"
  },
  "language_info": {
   "codemirror_mode": {
    "name": "ipython",
    "version": 3
   },
   "file_extension": ".py",
   "mimetype": "text/x-python",
   "name": "python",
   "nbconvert_exporter": "python",
   "pygments_lexer": "ipython3",
   "version": "3.13.1"
  }
 },
 "nbformat": 4,
 "nbformat_minor": 2
}
