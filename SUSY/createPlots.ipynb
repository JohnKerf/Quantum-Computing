{
 "cells": [
  {
   "cell_type": "code",
   "execution_count": 3,
   "metadata": {},
   "outputs": [],
   "source": [
    "import matplotlib.pyplot as plt\n",
    "import json\n",
    "import numpy as np"
   ]
  },
  {
   "cell_type": "code",
   "execution_count": null,
   "metadata": {},
   "outputs": [],
   "source": [
    "cut_offs_list = [2,4,8,16]\n",
    "potential = 'AHO'\n",
    "folder = 'pop_15-iter_500-tol_e-3'\n",
    "base_path = r\"C:\\Users\\Johnk\\OneDrive\\Desktop\\PhD 2024\\Quantum Computing Code\\Quantum-Computing\\SUSY\\PennyLane\\SUSY VQE\\Shot Noise\\Files\\{}\\\\{}\"\n",
    "#{}_{}.json\""
   ]
  },
  {
   "cell_type": "code",
   "execution_count": null,
   "metadata": {},
   "outputs": [],
   "source": [
    "# Load all data and create graphs\n",
    "print(\"Creating plots\")\n",
    "data_dict = {}\n",
    "\n",
    "for n in cut_offs_list:\n",
    "    file_path = base_path.format(potential, folder) + potential + \"_\" + str(n)\n",
    "    with open(file_path, 'r') as json_file:\n",
    "        data_dict[f'c{n}'] = json.load(json_file)\n",
    "\n",
    "\n",
    "#Create and save plots\n",
    "num_cutoffs = len(cut_offs_list)\n",
    "nrows = int(np.ceil(num_cutoffs/2))\n",
    "fig, axes = plt.subplots(nrows=nrows, ncols=2, figsize=(30, 5*nrows))\n",
    "axes = axes.flatten()\n",
    "\n",
    "for idx, (cutoff, cutoff_data) in enumerate(data_dict.items()):\n",
    "    \n",
    "    results = cutoff_data['results']\n",
    "    x_values = range(len(results))\n",
    "\n",
    "    # Calculating statistics\n",
    "    mean_value = np.mean(results)\n",
    "    median_value = np.median(results)\n",
    "    min_value = np.min(results)\n",
    "\n",
    "    # Creating the plot\n",
    "    ax = axes[idx]\n",
    "    ax.plot(x_values, results, marker='o', label='Energy Results')\n",
    "\n",
    "    # Plot mean, median, and min lines\n",
    "    ax.axhline(y=mean_value, color='r', linestyle='--', label=f'Mean = {mean_value:.6f}')\n",
    "    ax.axhline(y=median_value, color='g', linestyle='-', label=f'Median = {median_value:.6f}')\n",
    "    ax.axhline(y=min_value, color='b', linestyle='-.', label=f'Min = {min_value:.6f}')\n",
    "\n",
    "    ax.set_ylim(min_value - 0.01, max(results) + 0.01)\n",
    "    ax.set_xlabel('Run')\n",
    "    ax.set_ylabel('Ground State Energy')\n",
    "    ax.set_title(f\"{potential}: Cutoff = {cutoff_data['cutoff']}\")\n",
    "    ax.legend()\n",
    "    ax.grid(True)\n",
    "\n",
    "# Hide any remaining unused axes\n",
    "for idx in range(num_cutoffs, len(axes)):\n",
    "    fig.delaxes(axes[idx])\n",
    "\n",
    "print(\"Saving plots\")\n",
    "plt.tight_layout()\n",
    "plt.savefig(base_path.format(potential, folder) + \"results.png\")\n",
    "\n",
    "print(\"Done\")"
   ]
  }
 ],
 "metadata": {
  "kernelspec": {
   "display_name": ".venv",
   "language": "python",
   "name": "python3"
  },
  "language_info": {
   "codemirror_mode": {
    "name": "ipython",
    "version": 3
   },
   "file_extension": ".py",
   "mimetype": "text/x-python",
   "name": "python",
   "nbconvert_exporter": "python",
   "pygments_lexer": "ipython3",
   "version": "3.10.4"
  }
 },
 "nbformat": 4,
 "nbformat_minor": 2
}
