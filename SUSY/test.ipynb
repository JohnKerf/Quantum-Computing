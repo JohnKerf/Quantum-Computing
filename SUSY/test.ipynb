{
 "cells": [
  {
   "cell_type": "code",
   "execution_count": null,
   "metadata": {},
   "outputs": [],
   "source": [
    "import numpy as np"
   ]
  },
  {
   "cell_type": "code",
   "execution_count": 6,
   "metadata": {},
   "outputs": [],
   "source": [
    "cutoff = 4\n",
    "potential = 'QHO'"
   ]
  },
  {
   "cell_type": "code",
   "execution_count": 7,
   "metadata": {},
   "outputs": [],
   "source": [
    "q_coeff = np.sqrt(1/(2*cutoff))\n",
    "q = q_coeff * np.diag(np.linspace(-cutoff + 1, cutoff - 1, cutoff))"
   ]
  },
  {
   "cell_type": "code",
   "execution_count": 8,
   "metadata": {},
   "outputs": [
    {
     "data": {
      "text/plain": [
       "array([[-1.06066017,  0.        ,  0.        ,  0.        ],\n",
       "       [ 0.        , -0.35355339,  0.        ,  0.        ],\n",
       "       [ 0.        ,  0.        ,  0.35355339,  0.        ],\n",
       "       [ 0.        ,  0.        ,  0.        ,  1.06066017]])"
      ]
     },
     "execution_count": 8,
     "metadata": {},
     "output_type": "execute_result"
    }
   ],
   "source": [
    "q"
   ]
  },
  {
   "cell_type": "code",
   "execution_count": 9,
   "metadata": {},
   "outputs": [],
   "source": [
    "delta_q = 1 / q_coeff\n",
    "\n",
    "# Initialize p^2 matrix\n",
    "p2 = np.zeros((cutoff, cutoff))\n",
    "\n",
    "# Fill the tridiagonal structure\n",
    "factor = 1 / (delta_q**2)\n",
    "for i in range(cutoff):\n",
    "    p2[i, i] = -2 * factor  # Main diagonal\n",
    "    if i > 0:\n",
    "        p2[i, i - 1] = factor  # Lower diagonal\n",
    "    if i < cutoff - 1:\n",
    "        p2[i, i + 1] = factor  # Upper diagonal"
   ]
  },
  {
   "cell_type": "code",
   "execution_count": 10,
   "metadata": {},
   "outputs": [],
   "source": [
    "b_cutoff = 4\n",
    "\n",
    "# Calculate q^2 and q^3\n",
    "q2 = np.matmul(q, q)\n",
    "q3 = np.matmul(q2, q)\n",
    "\n",
    "# Bosonic and fermionic identities\n",
    "I_b = np.eye(b_cutoff)\n",
    "I_f = np.eye(2)\n",
    "\n",
    "# Superpotential derivatives\n",
    "if potential == 'QHO':\n",
    "    W_prime = q  # W'(q) = q\n",
    "    W_double_prime = I_b  # W''(q) = 1\n",
    "\n",
    "elif potential == 'AHO':\n",
    "    W_prime = q + q3  # W'(q) = q + q^3\n",
    "    W_double_prime = I_b + 3 * q2  # W''(q) = 1 + 3q^2\n",
    "\n",
    "elif potential == 'DW':\n",
    "    W_prime = q + q2 + I_b  # W'(q) = q + q^2 + 1\n",
    "    W_double_prime = I_b + 2 * q  # W''(q) = 1 + 2q\n",
    "\n",
    "else:\n",
    "    raise ValueError(\"Not a valid potential\")\n",
    "\n",
    "# Kinetic term: p^2 (finite difference Laplacian)\n",
    "#p2 = np.matmul(p, p)\n",
    "\n",
    "# Commutator term [b^†, b] = -Z\n",
    "Z = np.array([[1, 0], [0, -1]])  # Pauli Z matrix for fermion number\n",
    "commutator_term = np.kron(Z, W_double_prime)\n",
    "\n",
    "# Kinetic term (bosonic and fermionic parts)\n",
    "kinetic_term = np.kron(I_f, p2)\n",
    "\n",
    "# Potential term (W' contribution)\n",
    "potential_term = np.kron(I_f, np.matmul(W_prime, W_prime))\n",
    "\n",
    "# Construct the full Hamiltonian\n",
    "H_SQM = 0.5 * (kinetic_term + potential_term + commutator_term)\n",
    "H_SQM[np.abs(H_SQM) < 1e-12] = 0  # Eliminate small numerical artifacts\n"
   ]
  },
  {
   "cell_type": "code",
   "execution_count": 11,
   "metadata": {},
   "outputs": [
    {
     "data": {
      "text/plain": [
       "array([[ 0.9375,  0.0625,  0.    ,  0.    ,  0.    ,  0.    ,  0.    ,\n",
       "         0.    ],\n",
       "       [ 0.0625,  0.4375,  0.0625,  0.    ,  0.    ,  0.    ,  0.    ,\n",
       "         0.    ],\n",
       "       [ 0.    ,  0.0625,  0.4375,  0.0625,  0.    ,  0.    ,  0.    ,\n",
       "         0.    ],\n",
       "       [ 0.    ,  0.    ,  0.0625,  0.9375,  0.    ,  0.    ,  0.    ,\n",
       "         0.    ],\n",
       "       [ 0.    ,  0.    ,  0.    ,  0.    , -0.0625,  0.0625,  0.    ,\n",
       "         0.    ],\n",
       "       [ 0.    ,  0.    ,  0.    ,  0.    ,  0.0625, -0.5625,  0.0625,\n",
       "         0.    ],\n",
       "       [ 0.    ,  0.    ,  0.    ,  0.    ,  0.    ,  0.0625, -0.5625,\n",
       "         0.0625],\n",
       "       [ 0.    ,  0.    ,  0.    ,  0.    ,  0.    ,  0.    ,  0.0625,\n",
       "        -0.0625]])"
      ]
     },
     "execution_count": 11,
     "metadata": {},
     "output_type": "execute_result"
    }
   ],
   "source": [
    "H_SQM"
   ]
  },
  {
   "cell_type": "code",
   "execution_count": 14,
   "metadata": {},
   "outputs": [
    {
     "data": {
      "text/plain": [
       "-0.6318607642904032"
      ]
     },
     "execution_count": 14,
     "metadata": {},
     "output_type": "execute_result"
    }
   ],
   "source": [
    "eigenvalues[0]"
   ]
  },
  {
   "cell_type": "code",
   "execution_count": null,
   "metadata": {},
   "outputs": [],
   "source": [
    "def calculate_Hamiltonian_fd(grid_points, x_min, x_max, potential):\n",
    "    \"\"\"\n",
    "    Calculate the SUSY QM Hamiltonian using the finite difference method.\n",
    "    \n",
    "    Parameters:\n",
    "    grid_points (int): Number of spatial grid points.\n",
    "    x_min (float): Minimum value of the spatial domain.\n",
    "    x_max (float): Maximum value of the spatial domain.\n",
    "    potential (str): Type of potential ('QHO', 'AHO', 'DW').\n",
    "    \n",
    "    Returns:\n",
    "    np.ndarray: The SUSY QM Hamiltonian matrix.\n",
    "    \"\"\"\n",
    "    # Spatial grid and spacing\n",
    "    x = np.linspace(x_min, x_max, grid_points)\n",
    "    dx = x[1] - x[0]\n",
    "\n",
    "    # Position matrix q (diagonal matrix)\n",
    "    q = np.diag(x)\n",
    "\n",
    "    # Momentum matrix p (finite difference approximation)\n",
    "    prefactor = -1j / (2 * dx)  # Assuming hbar = 1\n",
    "    p = np.zeros((grid_points, grid_points), dtype=np.complex128)\n",
    "    for i in range(grid_points):\n",
    "        if i > 0:\n",
    "            p[i, i - 1] = prefactor\n",
    "        if i < grid_points - 1:\n",
    "            p[i, i + 1] = -prefactor\n",
    "\n",
    "    # Calculate q^2 and q^3\n",
    "    q2 = np.matmul(q, q)\n",
    "    q3 = np.matmul(q2, q)\n",
    "\n",
    "    # Bosonic and fermionic identities\n",
    "    I_b = np.eye(grid_points)\n",
    "    I_f = np.eye(2)\n",
    "\n",
    "    # Superpotential derivatives\n",
    "    if potential == 'QHO':\n",
    "        W_prime = q  # W'(q) = q\n",
    "        W_double_prime = I_b  # W''(q) = 1\n",
    "\n",
    "    elif potential == 'AHO':\n",
    "        W_prime = q + q3  # W'(q) = q + q^3\n",
    "        W_double_prime = I_b + 3 * q2  # W''(q) = 1 + 3q^2\n",
    "\n",
    "    elif potential == 'DW':\n",
    "        W_prime = q + q2 + I_b  # W'(q) = q + q^2 + 1\n",
    "        W_double_prime = I_b + 2 * q  # W''(q) = 1 + 2q\n",
    "\n",
    "    else:\n",
    "        raise ValueError(\"Not a valid potential\")\n",
    "\n",
    "    # Kinetic term: p^2 (finite difference Laplacian)\n",
    "    p2 = np.matmul(p, p)\n",
    "\n",
    "    # Commutator term [b^†, b] = -Z\n",
    "    Z = np.array([[1, 0], [0, -1]])  # Pauli Z matrix for fermion number\n",
    "    commutator_term = np.kron(Z, W_double_prime)\n",
    "\n",
    "    # Kinetic term (bosonic and fermionic parts)\n",
    "    kinetic_term = np.kron(I_f, p2)\n",
    "\n",
    "    # Potential term (W' contribution)\n",
    "    potential_term = np.kron(I_f, np.matmul(W_prime, W_prime))\n",
    "\n",
    "    # Construct the full Hamiltonian\n",
    "    H_SQM = 0.5 * (kinetic_term + potential_term + commutator_term)\n",
    "    H_SQM[np.abs(H_SQM) < 1e-12] = 0  # Eliminate small numerical artifacts\n",
    "\n",
    "    return H_SQM, x\n"
   ]
  }
 ],
 "metadata": {
  "kernelspec": {
   "display_name": ".venv",
   "language": "python",
   "name": "python3"
  },
  "language_info": {
   "codemirror_mode": {
    "name": "ipython",
    "version": 3
   },
   "file_extension": ".py",
   "mimetype": "text/x-python",
   "name": "python",
   "nbconvert_exporter": "python",
   "pygments_lexer": "ipython3",
   "version": "3.10.4"
  }
 },
 "nbformat": 4,
 "nbformat_minor": 2
}
