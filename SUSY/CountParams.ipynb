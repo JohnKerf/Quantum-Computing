{
 "cells": [
  {
   "cell_type": "code",
   "execution_count": 3,
   "metadata": {},
   "outputs": [],
   "source": [
    "import numpy as np\n",
    "from qiskit.quantum_info import SparsePauliOp\n",
    "import pennylane as qml\n",
    "from pennylane.templates import StronglyEntanglingLayers\n",
    "from susy_qm import calculate_Hamiltonian"
   ]
  },
  {
   "cell_type": "code",
   "execution_count": 10,
   "metadata": {},
   "outputs": [],
   "source": [
    "data = {'cut_off':[],\n",
    "       'num_params':[]\n",
    "       }\n",
    "\n",
    "potential = 'QHO'\n",
    "num_cut_offs = 10\n",
    "cut_off_list = [2**i for i in range(1, num_cut_offs + 1)]\n",
    "\n",
    "for cut_off in cut_off_list:\n",
    "    data['cut_off'].append(cut_off)\n",
    "\n",
    "    H = calculate_Hamiltonian(cut_off, potential)\n",
    "    hamiltonian = SparsePauliOp.from_operator(H)\n",
    "    num_qubits = hamiltonian.num_qubits\n",
    "\n",
    "    num_params = np.prod(qml.StronglyEntanglingLayers.shape(n_layers=1, n_wires=num_qubits))\n",
    "\n",
    "    data['num_params'].append(num_params)\n"
   ]
  },
  {
   "cell_type": "code",
   "execution_count": 12,
   "metadata": {},
   "outputs": [
    {
     "data": {
      "text/plain": [
       "{'cut_off': [2, 4, 8, 16, 32, 64, 128, 256, 512, 1024],\n",
       " 'num_params': [6, 9, 12, 15, 18, 21, 24, 27, 30, 33]}"
      ]
     },
     "execution_count": 12,
     "metadata": {},
     "output_type": "execute_result"
    }
   ],
   "source": [
    "data"
   ]
  },
  {
   "cell_type": "code",
   "execution_count": null,
   "metadata": {},
   "outputs": [],
   "source": []
  }
 ],
 "metadata": {
  "kernelspec": {
   "display_name": ".venv",
   "language": "python",
   "name": "python3"
  },
  "language_info": {
   "codemirror_mode": {
    "name": "ipython",
    "version": 3
   },
   "file_extension": ".py",
   "mimetype": "text/x-python",
   "name": "python",
   "nbconvert_exporter": "python",
   "pygments_lexer": "ipython3",
   "version": "3.10.4"
  }
 },
 "nbformat": 4,
 "nbformat_minor": 2
}
