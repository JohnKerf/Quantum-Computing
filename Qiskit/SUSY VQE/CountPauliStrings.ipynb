{
 "cells": [
  {
   "cell_type": "code",
   "execution_count": 3,
   "metadata": {},
   "outputs": [],
   "source": [
    "import numpy as np\n",
    "import pandas as pd\n",
    "from qiskit.quantum_info import SparsePauliOp"
   ]
  },
  {
   "cell_type": "code",
   "execution_count": 4,
   "metadata": {},
   "outputs": [],
   "source": [
    "def create_matrix(cut_off, type):\n",
    "    # Initialize a zero matrix of the specified size\n",
    "    matrix = np.zeros((cut_off, cut_off), dtype=np.complex128)\n",
    "    \n",
    "    # Fill the off-diagonal values with square roots of integers\n",
    "    for i in range(cut_off):\n",
    "        if i > 0:  # Fill left off-diagonal\n",
    "            if type == 'q':\n",
    "                matrix[i][i - 1] = (1/np.sqrt(2)) * np.sqrt(i)  # sqrt(i) for left off-diagonal\n",
    "            else:\n",
    "                matrix[i][i - 1] = (1j/np.sqrt(2)) * np.sqrt(i)\n",
    "\n",
    "        if i < cut_off - 1:  # Fill right off-diagonal\n",
    "            if type == 'q':\n",
    "                matrix[i][i + 1] = (1/np.sqrt(2)) * np.sqrt(i + 1)  # sqrt(i + 1) for right off-diagonal\n",
    "            else:\n",
    "                matrix[i][i + 1] = (-1j/np.sqrt(2)) * np.sqrt(i + 1)\n",
    "\n",
    "    return matrix\n"
   ]
  },
  {
   "cell_type": "code",
   "execution_count": 5,
   "metadata": {},
   "outputs": [],
   "source": [
    "# Function to calculate the Hamiltonian\n",
    "def calculate_Hamiltonian(cut_off, potential):\n",
    "    # Generate the position (q) and momentum (p) matrices\n",
    "    q = create_matrix(cut_off, 'q')  # q matrix\n",
    "    p = create_matrix(cut_off, 'p')  # p matrix\n",
    "\n",
    "    # Calculate q^2 and q^3 for potential terms\n",
    "    q2 = np.matmul(q, q)\n",
    "    q3 = np.matmul(q2, q)\n",
    "\n",
    "    #fermionic identity\n",
    "    I_f = np.eye(2)\n",
    "\n",
    "    #bosonic identity\n",
    "    I_b = np.eye(cut_off)\n",
    "\n",
    "    # Superpotential derivatives\n",
    "    if potential == 'QHO':\n",
    "        W_prime = q  # W'(q) = q\n",
    "        W_double_prime = I_b #W''(q) = 1\n",
    "\n",
    "    elif potential == 'AHO':\n",
    "        W_prime = q + q3  # W'(q) = q + q^3\n",
    "        W_double_prime = I_b + 3 * q2  # W''(q) = 1 + 3q^2\n",
    "\n",
    "    elif potential == 'DW':\n",
    "        W_prime = q + q2 + I_b  # W'(q) = q + q^2 + 1\n",
    "        W_double_prime = I_b + 2 * q  # W''(q) = 1 + 2q\n",
    "\n",
    "    else:\n",
    "        print(\"Not a valid potential\")\n",
    "        raise\n",
    "\n",
    "    # Kinetic term: p^2\n",
    "    p2 = np.matmul(p, p)\n",
    "\n",
    "    # Commutator term [b^†, b] = -Z\n",
    "    Z = np.array([[1, 0], [0, -1]])  # Pauli Z matrix for fermion number\n",
    "    commutator_term = np.kron(Z, W_double_prime)\n",
    "\n",
    "    # Construct the block-diagonal kinetic term (bosonic and fermionic parts)\n",
    "    # Bosonic part is the same for both, hence we use kron with the identity matrix\n",
    "    kinetic_term = np.kron(I_f, p2)\n",
    "\n",
    "    # Potential term (W' contribution)\n",
    "    potential_term = np.kron(I_f, np.matmul(W_prime, W_prime))\n",
    "\n",
    "    # Construct the full Hamiltonian\n",
    "    H_SQM = 0.5 * (kinetic_term + potential_term + commutator_term)\n",
    "    H_SQM[np.abs(H_SQM) < 10e-12] = 0\n",
    "    \n",
    "    return H_SQM"
   ]
  },
  {
   "cell_type": "code",
   "execution_count": 43,
   "metadata": {},
   "outputs": [],
   "source": [
    "data = {'cut_off':[],\n",
    "       'QHO': [],\n",
    "       'AHO': [],\n",
    "       'DW': []\n",
    "       }\n",
    "\n",
    "num_cut_offs = 10\n",
    "cut_off_list = [2**i for i in range(1, num_cut_offs + 1)]\n",
    "potential_list = ['QHO', 'AHO', 'DW']\n",
    "\n",
    "for cut_off in cut_off_list:\n",
    "    data['cut_off'].append(cut_off)\n",
    "\n",
    "    for potential in potential_list:\n",
    "\n",
    "        H = calculate_Hamiltonian(cut_off, potential)\n",
    "        H_pauli = SparsePauliOp.from_operator(H)\n",
    "\n",
    "        data[potential].append(H_pauli.size)"
   ]
  },
  {
   "cell_type": "code",
   "execution_count": 44,
   "metadata": {},
   "outputs": [
    {
     "data": {
      "text/plain": [
       "{'cut_off': [2, 4, 8, 16, 32, 64, 128, 256, 512, 1024],\n",
       " 'QHO': [2, 4, 8, 16, 32, 64, 128, 256, 512, 1024],\n",
       " 'AHO': [2, 10, 34, 102, 270, 670, 1548, 3496, 7486, 15534],\n",
       " 'DW': [4, 14, 48, 136, 352, 854, 1990, 4450, 9874, 21202]}"
      ]
     },
     "execution_count": 44,
     "metadata": {},
     "output_type": "execute_result"
    }
   ],
   "source": [
    "data"
   ]
  },
  {
   "cell_type": "code",
   "execution_count": 45,
   "metadata": {},
   "outputs": [],
   "source": [
    "pauli_df = pd.DataFrame(data).set_index('cut_off')"
   ]
  },
  {
   "cell_type": "code",
   "execution_count": 46,
   "metadata": {},
   "outputs": [
    {
     "data": {
      "text/html": [
       "<div>\n",
       "<style scoped>\n",
       "    .dataframe tbody tr th:only-of-type {\n",
       "        vertical-align: middle;\n",
       "    }\n",
       "\n",
       "    .dataframe tbody tr th {\n",
       "        vertical-align: top;\n",
       "    }\n",
       "\n",
       "    .dataframe thead th {\n",
       "        text-align: right;\n",
       "    }\n",
       "</style>\n",
       "<table border=\"1\" class=\"dataframe\">\n",
       "  <thead>\n",
       "    <tr style=\"text-align: right;\">\n",
       "      <th></th>\n",
       "      <th>QHO</th>\n",
       "      <th>AHO</th>\n",
       "      <th>DW</th>\n",
       "    </tr>\n",
       "    <tr>\n",
       "      <th>cut_off</th>\n",
       "      <th></th>\n",
       "      <th></th>\n",
       "      <th></th>\n",
       "    </tr>\n",
       "  </thead>\n",
       "  <tbody>\n",
       "    <tr>\n",
       "      <th>2</th>\n",
       "      <td>2</td>\n",
       "      <td>2</td>\n",
       "      <td>4</td>\n",
       "    </tr>\n",
       "    <tr>\n",
       "      <th>4</th>\n",
       "      <td>4</td>\n",
       "      <td>10</td>\n",
       "      <td>14</td>\n",
       "    </tr>\n",
       "    <tr>\n",
       "      <th>8</th>\n",
       "      <td>8</td>\n",
       "      <td>34</td>\n",
       "      <td>48</td>\n",
       "    </tr>\n",
       "    <tr>\n",
       "      <th>16</th>\n",
       "      <td>16</td>\n",
       "      <td>102</td>\n",
       "      <td>136</td>\n",
       "    </tr>\n",
       "    <tr>\n",
       "      <th>32</th>\n",
       "      <td>32</td>\n",
       "      <td>270</td>\n",
       "      <td>352</td>\n",
       "    </tr>\n",
       "    <tr>\n",
       "      <th>64</th>\n",
       "      <td>64</td>\n",
       "      <td>670</td>\n",
       "      <td>854</td>\n",
       "    </tr>\n",
       "    <tr>\n",
       "      <th>128</th>\n",
       "      <td>128</td>\n",
       "      <td>1548</td>\n",
       "      <td>1990</td>\n",
       "    </tr>\n",
       "    <tr>\n",
       "      <th>256</th>\n",
       "      <td>256</td>\n",
       "      <td>3496</td>\n",
       "      <td>4450</td>\n",
       "    </tr>\n",
       "    <tr>\n",
       "      <th>512</th>\n",
       "      <td>512</td>\n",
       "      <td>7486</td>\n",
       "      <td>9874</td>\n",
       "    </tr>\n",
       "    <tr>\n",
       "      <th>1024</th>\n",
       "      <td>1024</td>\n",
       "      <td>15534</td>\n",
       "      <td>21202</td>\n",
       "    </tr>\n",
       "  </tbody>\n",
       "</table>\n",
       "</div>"
      ],
      "text/plain": [
       "          QHO    AHO     DW\n",
       "cut_off                    \n",
       "2           2      2      4\n",
       "4           4     10     14\n",
       "8           8     34     48\n",
       "16         16    102    136\n",
       "32         32    270    352\n",
       "64         64    670    854\n",
       "128       128   1548   1990\n",
       "256       256   3496   4450\n",
       "512       512   7486   9874\n",
       "1024     1024  15534  21202"
      ]
     },
     "execution_count": 46,
     "metadata": {},
     "output_type": "execute_result"
    }
   ],
   "source": [
    "pauli_df"
   ]
  },
  {
   "cell_type": "code",
   "execution_count": 74,
   "metadata": {},
   "outputs": [],
   "source": [
    "H = calculate_Hamiltonian(4, 'AHO')\n",
    "H_pauli = SparsePauliOp.from_operator(H)\n",
    "#H2 = H_pauli.simplify(atol=1e-4)"
   ]
  },
  {
   "cell_type": "code",
   "execution_count": 82,
   "metadata": {},
   "outputs": [
    {
     "data": {
      "text/plain": [
       "10"
      ]
     },
     "execution_count": 82,
     "metadata": {},
     "output_type": "execute_result"
    }
   ],
   "source": [
    "H_pauli.size"
   ]
  },
  {
   "cell_type": "code",
   "execution_count": 76,
   "metadata": {},
   "outputs": [],
   "source": [
    "from qiskit.quantum_info import Z2Symmetries"
   ]
  },
  {
   "cell_type": "code",
   "execution_count": 77,
   "metadata": {},
   "outputs": [],
   "source": [
    "symmetries = Z2Symmetries.find_z2_symmetries(H_pauli)\n",
    "tapered_hamiltonian = symmetries.taper(H_pauli)"
   ]
  },
  {
   "cell_type": "code",
   "execution_count": 78,
   "metadata": {},
   "outputs": [],
   "source": [
    "H = sum(tapered_hamiltonian)"
   ]
  },
  {
   "cell_type": "code",
   "execution_count": 83,
   "metadata": {},
   "outputs": [
    {
     "data": {
      "text/plain": [
       "10"
      ]
     },
     "execution_count": 83,
     "metadata": {},
     "output_type": "execute_result"
    }
   ],
   "source": [
    "H.size"
   ]
  },
  {
   "cell_type": "code",
   "execution_count": 79,
   "metadata": {},
   "outputs": [
    {
     "data": {
      "text/plain": [
       "array([ 9.28279701+0.j, 73.21720299+0.j])"
      ]
     },
     "execution_count": 79,
     "metadata": {},
     "output_type": "execute_result"
    }
   ],
   "source": [
    "np.sort(np.linalg.eig(H)[0])"
   ]
  },
  {
   "cell_type": "code",
   "execution_count": null,
   "metadata": {},
   "outputs": [],
   "source": []
  },
  {
   "cell_type": "code",
   "execution_count": 33,
   "metadata": {},
   "outputs": [
    {
     "data": {
      "text/plain": [
       "32"
      ]
     },
     "execution_count": 33,
     "metadata": {},
     "output_type": "execute_result"
    }
   ],
   "source": [
    "len(H2)"
   ]
  },
  {
   "cell_type": "code",
   "execution_count": 25,
   "metadata": {},
   "outputs": [
    {
     "data": {
      "text/plain": [
       "1"
      ]
     },
     "execution_count": 25,
     "metadata": {},
     "output_type": "execute_result"
    }
   ],
   "source": [
    "len(H2)"
   ]
  },
  {
   "cell_type": "code",
   "execution_count": null,
   "metadata": {},
   "outputs": [],
   "source": [
    "data = {'cut_off':[],\n",
    "       'QHO': [],\n",
    "       'AHO': [],\n",
    "       'DW': []\n",
    "       }\n",
    "\n",
    "num_cut_offs = 10\n",
    "cut_off_list = [2**i for i in range(1, num_cut_offs + 1)]\n",
    "potential_list = ['QHO', 'AHO', 'DW']\n",
    "\n",
    "for cut_off in cut_off_list:\n",
    "    data['cut_off'].append(cut_off)\n",
    "\n",
    "    for potential in potential_list:\n",
    "\n",
    "        H = calculate_Hamiltonian(cut_off, potential)\n",
    "        H_pauli = SparsePauliOp.from_operator(H)\n",
    "\n",
    "        data[potential].append({'hamiltonian_size': H_pauli.dim,\n",
    "                        'num_paulis': len(H_pauli),\n",
    "                        'num_qubits': H_pauli.num_qubits})\n",
    "\n"
   ]
  },
  {
   "cell_type": "code",
   "execution_count": null,
   "metadata": {},
   "outputs": [],
   "source": []
  }
 ],
 "metadata": {
  "kernelspec": {
   "display_name": ".venv",
   "language": "python",
   "name": "python3"
  },
  "language_info": {
   "codemirror_mode": {
    "name": "ipython",
    "version": 3
   },
   "file_extension": ".py",
   "mimetype": "text/x-python",
   "name": "python",
   "nbconvert_exporter": "python",
   "pygments_lexer": "ipython3",
   "version": "3.10.4"
  }
 },
 "nbformat": 4,
 "nbformat_minor": 2
}
