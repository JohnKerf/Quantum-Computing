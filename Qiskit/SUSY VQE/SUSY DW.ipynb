{
 "cells": [
  {
   "cell_type": "code",
   "execution_count": 1,
   "metadata": {},
   "outputs": [],
   "source": [
    "# General imports\n",
    "import numpy as np\n",
    "import re\n",
    "import sympy as sp\n",
    "import json\n",
    "\n",
    "# Pre-defined ansatz circuit and operator class for Hamiltonian\n",
    "from qiskit.circuit.library import EfficientSU2, TwoLocal, RealAmplitudes\n",
    "from qiskit.quantum_info import SparsePauliOp\n",
    "\n",
    "# SciPy minimizer routine\n",
    "from scipy.optimize import minimize, differential_evolution, basinhopping\n",
    "\n",
    "# Plotting functions\n",
    "import matplotlib.pyplot as plt\n",
    "\n",
    "# runtime imports\n",
    "from qiskit_ibm_runtime import QiskitRuntimeService, Session\n",
    "from qiskit_ibm_runtime import EstimatorV2 as Estimator\n",
    "from qiskit_aer import AerSimulator\n",
    "from qiskit.transpiler.preset_passmanagers import generate_preset_pass_manager\n",
    "\n",
    "aer_sim = AerSimulator()\n",
    "pm = generate_preset_pass_manager(backend=aer_sim, optimization_level=3)"
   ]
  },
  {
   "cell_type": "code",
   "execution_count": 2,
   "metadata": {},
   "outputs": [],
   "source": [
    "def create_matrix(cut_off, type):\n",
    "    # Initialize a zero matrix of the specified size\n",
    "    matrix = np.zeros((cut_off, cut_off), dtype=np.complex128)\n",
    "    \n",
    "    # Fill the off-diagonal values with square roots of integers\n",
    "    for i in range(cut_off):\n",
    "        if i > 0:  # Fill left off-diagonal\n",
    "            if type == 'q':\n",
    "                matrix[i][i - 1] = (1/np.sqrt(2)) * np.sqrt(i)  # sqrt(i) for left off-diagonal\n",
    "            else:\n",
    "                matrix[i][i - 1] = (1j/np.sqrt(2)) * np.sqrt(i)\n",
    "\n",
    "        if i < cut_off - 1:  # Fill right off-diagonal\n",
    "            if type == 'q':\n",
    "                matrix[i][i + 1] = (1/np.sqrt(2)) * np.sqrt(i + 1)  # sqrt(i + 1) for right off-diagonal\n",
    "            else:\n",
    "                matrix[i][i + 1] = (-1j/np.sqrt(2)) * np.sqrt(i + 1)\n",
    "\n",
    "    return matrix"
   ]
  },
  {
   "cell_type": "code",
   "execution_count": 3,
   "metadata": {},
   "outputs": [],
   "source": [
    "# Function to calculate the Hamiltonian\n",
    "def calculate_Hamiltonian(cut_off):\n",
    "    # Generate the position (q) and momentum (p) matrices\n",
    "    q = create_matrix(cut_off, 'q')  # q matrix\n",
    "    p = create_matrix(cut_off, 'p')  # p matrix\n",
    "    \n",
    "    #fermionic identity\n",
    "    I_f = np.eye(2)\n",
    "\n",
    "    # Calculate q^2 and q^3 for potential terms\n",
    "    q2 = np.dot(q, q)\n",
    "    q3 = np.dot(q2, q)\n",
    "    \n",
    "    # Superpotential derivatives\n",
    "    W_prime = q + q3  # W'(q) = q + q^3\n",
    "    W_double_prime = np.eye(cut_off) + 3 * q2  # W''(q) = 1 + 3q^2\n",
    "\n",
    "    # Kinetic term: p^2\n",
    "    p2 = np.dot(p, p)\n",
    "\n",
    "    # Commutator term [b^†, b] = -Z\n",
    "    Z = np.array([[1, 0], [0, -1]])  # Pauli Z matrix for fermion number\n",
    "    commutator_term = np.kron(Z, W_double_prime)\n",
    "\n",
    "    # Construct the block-diagonal kinetic term (bosonic and fermionic parts)\n",
    "    # Bosonic part is the same for both, hence we use kron with the identity matrix\n",
    "    kinetic_term = np.kron(I_f, p2)\n",
    "\n",
    "    # Potential term (W' contribution)\n",
    "    potential_term = np.kron(I_f, np.dot(W_prime, W_prime))\n",
    "\n",
    "    # Construct the full Hamiltonian\n",
    "    H_SQM = 0.5 * (kinetic_term + potential_term + commutator_term)\n",
    "\n",
    "    return H_SQM"
   ]
  },
  {
   "cell_type": "code",
   "execution_count": 4,
   "metadata": {},
   "outputs": [],
   "source": [
    "H = calculate_Hamiltonian(2)"
   ]
  },
  {
   "cell_type": "code",
   "execution_count": null,
   "metadata": {},
   "outputs": [],
   "source": [
    "sympy_matrix = sp.Matrix(H)\n",
    "sp.pprint(sympy_matrix, use_unicode=True)"
   ]
  },
  {
   "cell_type": "code",
   "execution_count": null,
   "metadata": {},
   "outputs": [],
   "source": [
    "hamiltonian = SparsePauliOp.from_operator(H)\n",
    "ansatz = RealAmplitudes(num_qubits=hamiltonian.num_qubits, reps=1)\n",
    "ansatz_isa = pm.run(ansatz)\n",
    "hamiltonian_isa = hamiltonian.apply_layout(layout=ansatz_isa.layout)"
   ]
  },
  {
   "cell_type": "code",
   "execution_count": null,
   "metadata": {},
   "outputs": [],
   "source": [
    "cost_history_dict = {\n",
    "    \"prev_vector\": None,\n",
    "    \"iters\": 0,\n",
    "    \"cost_history\": [],\n",
    "}\n",
    "\n",
    "def cost_func(params, ansatz, hamiltonian, estimator):\n",
    "    \"\"\"Return estimate of energy from estimator\n",
    "\n",
    "    Parameters:\n",
    "        params (ndarray): Array of ansatz parameters\n",
    "        ansatz (QuantumCircuit): Parameterized ansatz circuit\n",
    "        hamiltonian (SparsePauliOp): Operator representation of Hamiltonian\n",
    "        estimator (EstimatorV2): Estimator primitive instance\n",
    "        cost_history_dict: Dictionary for storing intermediate results\n",
    "\n",
    "    Returns:\n",
    "        float: Energy estimate\n",
    "    \"\"\"\n",
    "    pub = (ansatz, [hamiltonian], [params])\n",
    "    result = estimator.run(pubs=[pub]).result()\n",
    "    energy = result[0].data.evs[0]\n",
    "\n",
    "    cost_history_dict[\"iters\"] += 1\n",
    "    cost_history_dict[\"prev_vector\"] = params\n",
    "    cost_history_dict[\"cost_history\"].append(energy)\n",
    "    print(f\"Iters. done: {cost_history_dict['iters']} [Current cost: {energy}]\")\n",
    "\n",
    "    return energy"
   ]
  },
  {
   "cell_type": "code",
   "execution_count": null,
   "metadata": {},
   "outputs": [],
   "source": [
    "num_params = ansatz.num_parameters\n",
    "x0 = 2 * np.pi * np.random.random(num_params)"
   ]
  },
  {
   "cell_type": "code",
   "execution_count": null,
   "metadata": {},
   "outputs": [],
   "source": [
    "energies = []\n",
    "x_values = []\n",
    "\n",
    "for i in range(100):\n",
    "\n",
    "    print(\"####################\")\n",
    "    print(f\"Session loop {i}\")\n",
    "\n",
    "    with Session(backend=aer_sim) as session:\n",
    "        estimator = Estimator(mode=session)\n",
    "        estimator.options.default_shots = 10000\n",
    "        #estimator.options.optimization_level = 1\n",
    "\n",
    "        res = basinhopping(\n",
    "            cost_func,\n",
    "            x0,\n",
    "            minimizer_kwargs={'method': \"COBYLA\",\n",
    "                            \"args\": (ansatz_isa, hamiltonian_isa, estimator),\n",
    "                            \"options\": {'maxiter':1000}},\n",
    "                            #\"tol\": '0.00001'},\n",
    "            niter = 10,\n",
    "            T = 0.25\n",
    "        )\n",
    "        energies.append(res.fun)\n",
    "        x_values.append(res.x)"
   ]
  },
  {
   "cell_type": "code",
   "execution_count": null,
   "metadata": {},
   "outputs": [],
   "source": [
    "energies"
   ]
  }
 ],
 "metadata": {
  "kernelspec": {
   "display_name": ".venv",
   "language": "python",
   "name": "python3"
  },
  "language_info": {
   "codemirror_mode": {
    "name": "ipython",
    "version": 3
   },
   "file_extension": ".py",
   "mimetype": "text/x-python",
   "name": "python",
   "nbconvert_exporter": "python",
   "pygments_lexer": "ipython3",
   "version": "3.10.4"
  }
 },
 "nbformat": 4,
 "nbformat_minor": 2
}
