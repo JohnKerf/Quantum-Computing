{
 "cells": [
  {
   "cell_type": "code",
   "execution_count": 7,
   "metadata": {},
   "outputs": [],
   "source": [
    "# General imports\n",
    "import numpy as np\n",
    "\n",
    "# Pre-defined ansatz circuit and operator class for Hamiltonian\n",
    "from qiskit.circuit.library import EfficientSU2\n",
    "from qiskit.quantum_info import SparsePauliOp\n",
    "\n",
    "# SciPy minimizer routine\n",
    "from scipy.optimize import minimize\n",
    "\n",
    "# Plotting functions\n",
    "import matplotlib.pyplot as plt"
   ]
  },
  {
   "cell_type": "code",
   "execution_count": 8,
   "metadata": {},
   "outputs": [],
   "source": [
    "# runtime imports\n",
    "from qiskit_ibm_runtime import QiskitRuntimeService, Session\n",
    "from qiskit_ibm_runtime import EstimatorV2 as Estimator\n",
    "from qiskit_ibm_runtime.fake_provider import FakeManilaV2\n",
    "from qiskit_aer import AerSimulator\n",
    "from qiskit.transpiler.preset_passmanagers import generate_preset_pass_manager\n",
    "\n",
    "# Run the sampler job locally using FakeManilaV2\n",
    "#fake_manila = FakeManilaV2()\n",
    "#pm = generate_preset_pass_manager(backend=fake_manila, optimization_level=1)\n",
    "\n",
    "aer_sim = AerSimulator()\n",
    "pm = generate_preset_pass_manager(backend=aer_sim, optimization_level=3)\n",
    "\n",
    "# To run on hardware, select the backend with the fewest number of jobs in the queue\n",
    "#service = QiskitRuntimeService(channel=\"ibm_quantum\")\n",
    "#backend = service.least_busy(operational=True, simulator=False)"
   ]
  },
  {
   "cell_type": "code",
   "execution_count": 2,
   "metadata": {},
   "outputs": [],
   "source": [
    "import pennylane as qml\n",
    "from pennylane import numpy as np"
   ]
  },
  {
   "cell_type": "code",
   "execution_count": 5,
   "metadata": {},
   "outputs": [],
   "source": [
    "H = np.array([[0.5,0.0],[0.0,1.5]]) "
   ]
  },
  {
   "cell_type": "code",
   "execution_count": 6,
   "metadata": {},
   "outputs": [
    {
     "data": {
      "text/plain": [
       "1.0 * I(0) + -0.5 * Z(0)"
      ]
     },
     "execution_count": 6,
     "metadata": {},
     "output_type": "execute_result"
    }
   ],
   "source": [
    "qml.pauli_decompose(H)"
   ]
  },
  {
   "cell_type": "code",
   "execution_count": 9,
   "metadata": {},
   "outputs": [],
   "source": [
    "hamiltonian = SparsePauliOp.from_list([(\"I\", 1.0), (\"Z\", -0.5)])"
   ]
  },
  {
   "cell_type": "code",
   "execution_count": 10,
   "metadata": {},
   "outputs": [
    {
     "data": {
      "image/png": "[encoded data removed]",
      "text/plain": [
       "<Figure size 770.731x117.056 with 1 Axes>"
      ]
     },
     "execution_count": 10,
     "metadata": {},
     "output_type": "execute_result"
    }
   ],
   "source": [
    "ansatz = EfficientSU2(hamiltonian.num_qubits)\n",
    "ansatz.decompose().draw(\"mpl\", style=\"iqp\")"
   ]
  },
  {
   "cell_type": "code",
   "execution_count": 11,
   "metadata": {},
   "outputs": [
    {
     "data": {
      "text/plain": [
       "8"
      ]
     },
     "execution_count": 11,
     "metadata": {},
     "output_type": "execute_result"
    }
   ],
   "source": [
    "num_params = ansatz.num_parameters\n",
    "num_params"
   ]
  },
  {
   "cell_type": "code",
   "execution_count": 12,
   "metadata": {},
   "outputs": [
    {
     "data": {
      "image/png": "[encoded data removed]",
      "text/plain": [
       "<Figure size 770.731x117.056 with 1 Axes>"
      ]
     },
     "execution_count": 12,
     "metadata": {},
     "output_type": "execute_result"
    }
   ],
   "source": [
    "ansatz_isa = pm.run(ansatz)\n",
    "ansatz_isa.draw(output=\"mpl\", idle_wires=False, style=\"iqp\")"
   ]
  },
  {
   "cell_type": "code",
   "execution_count": 13,
   "metadata": {},
   "outputs": [],
   "source": [
    "hamiltonian_isa = hamiltonian.apply_layout(layout=ansatz_isa.layout)"
   ]
  },
  {
   "cell_type": "code",
   "execution_count": 14,
   "metadata": {},
   "outputs": [],
   "source": [
    "cost_history_dict = {\n",
    "    \"prev_vector\": None,\n",
    "    \"iters\": 0,\n",
    "    \"cost_history\": [],\n",
    "}\n",
    "\n",
    "def cost_func(params, ansatz, hamiltonian, estimator):\n",
    "    \"\"\"Return estimate of energy from estimator\n",
    "\n",
    "    Parameters:\n",
    "        params (ndarray): Array of ansatz parameters\n",
    "        ansatz (QuantumCircuit): Parameterized ansatz circuit\n",
    "        hamiltonian (SparsePauliOp): Operator representation of Hamiltonian\n",
    "        estimator (EstimatorV2): Estimator primitive instance\n",
    "        cost_history_dict: Dictionary for storing intermediate results\n",
    "\n",
    "    Returns:\n",
    "        float: Energy estimate\n",
    "    \"\"\"\n",
    "    pub = (ansatz, [hamiltonian], [params])\n",
    "    result = estimator.run(pubs=[pub]).result()\n",
    "    energy = result[0].data.evs[0]\n",
    "\n",
    "    cost_history_dict[\"iters\"] += 1\n",
    "    cost_history_dict[\"prev_vector\"] = params\n",
    "    cost_history_dict[\"cost_history\"].append(energy)\n",
    "    print(f\"Iters. done: {cost_history_dict['iters']} [Current cost: {energy}]\")\n",
    "\n",
    "    return energy"
   ]
  },
  {
   "cell_type": "code",
   "execution_count": 15,
   "metadata": {},
   "outputs": [],
   "source": [
    "x0 = 2 * np.pi * np.random.random(num_params)"
   ]
  },
  {
   "cell_type": "code",
   "execution_count": 16,
   "metadata": {},
   "outputs": [
    {
     "name": "stdout",
     "output_type": "stream",
     "text": [
      "Iters. done: 1 [Current cost: 0.753]\n",
      "Iters. done: 2 [Current cost: 0.8227]\n",
      "Iters. done: 3 [Current cost: 0.7050000000000001]\n",
      "Iters. done: 4 [Current cost: 0.7936]\n",
      "Iters. done: 5 [Current cost: 1.1668]\n",
      "Iters. done: 6 [Current cost: 0.7708]\n",
      "Iters. done: 7 [Current cost: 0.5485]\n",
      "Iters. done: 8 [Current cost: 0.926]\n",
      "Iters. done: 9 [Current cost: 0.5515]\n",
      "Iters. done: 10 [Current cost: 0.7501]\n",
      "Iters. done: 11 [Current cost: 0.5349999999999999]\n",
      "Iters. done: 12 [Current cost: 0.6145]\n",
      "Iters. done: 13 [Current cost: 0.5386]\n",
      "Iters. done: 14 [Current cost: 0.5343]\n",
      "Iters. done: 15 [Current cost: 0.5262]\n",
      "Iters. done: 16 [Current cost: 0.5459]\n",
      "Iters. done: 17 [Current cost: 0.5871]\n",
      "Iters. done: 18 [Current cost: 0.525]\n",
      "Iters. done: 19 [Current cost: 0.6542]\n",
      "Iters. done: 20 [Current cost: 0.5062]\n",
      "Iters. done: 21 [Current cost: 0.5116]\n",
      "Iters. done: 22 [Current cost: 0.5294]\n",
      "Iters. done: 23 [Current cost: 0.5191]\n",
      "Iters. done: 24 [Current cost: 0.5089]\n",
      "Iters. done: 25 [Current cost: 0.5145]\n",
      "Iters. done: 26 [Current cost: 0.5044]\n",
      "Iters. done: 27 [Current cost: 0.5009]\n",
      "Iters. done: 28 [Current cost: 0.5004]\n",
      "Iters. done: 29 [Current cost: 0.5028]\n",
      "Iters. done: 30 [Current cost: 0.5012]\n",
      "Iters. done: 31 [Current cost: 0.5006999999999999]\n",
      "Iters. done: 32 [Current cost: 0.5037]\n",
      "Iters. done: 33 [Current cost: 0.5033000000000001]\n",
      "Iters. done: 34 [Current cost: 0.502]\n",
      "Iters. done: 35 [Current cost: 0.5025]\n",
      "Iters. done: 36 [Current cost: 0.5025]\n",
      "Iters. done: 37 [Current cost: 0.5003]\n",
      "Iters. done: 38 [Current cost: 0.5002]\n",
      "Iters. done: 39 [Current cost: 0.5005]\n",
      "Iters. done: 40 [Current cost: 0.5003]\n",
      "Iters. done: 41 [Current cost: 0.501]\n",
      "Iters. done: 42 [Current cost: 0.5001]\n",
      "Iters. done: 43 [Current cost: 0.5]\n",
      "Iters. done: 44 [Current cost: 0.5001]\n",
      "Iters. done: 45 [Current cost: 0.5004]\n",
      "Iters. done: 46 [Current cost: 0.5001]\n",
      "Iters. done: 47 [Current cost: 0.5]\n",
      "Iters. done: 48 [Current cost: 0.5]\n",
      "Iters. done: 49 [Current cost: 0.5002]\n",
      "Iters. done: 50 [Current cost: 0.5002]\n",
      "Iters. done: 51 [Current cost: 0.5003]\n",
      "Iters. done: 52 [Current cost: 0.5]\n",
      "Iters. done: 53 [Current cost: 0.5002]\n",
      "Iters. done: 54 [Current cost: 0.5]\n",
      "Iters. done: 55 [Current cost: 0.5002]\n",
      "Iters. done: 56 [Current cost: 0.5]\n",
      "Iters. done: 57 [Current cost: 0.5]\n",
      "Iters. done: 58 [Current cost: 0.5001]\n",
      "Iters. done: 59 [Current cost: 0.5002]\n",
      "Iters. done: 60 [Current cost: 0.5]\n",
      "Iters. done: 61 [Current cost: 0.5002]\n",
      "Iters. done: 62 [Current cost: 0.5]\n",
      "Iters. done: 63 [Current cost: 0.5]\n",
      "Iters. done: 64 [Current cost: 0.5001]\n",
      "Iters. done: 65 [Current cost: 0.5001]\n",
      "Iters. done: 66 [Current cost: 0.5002]\n",
      "Iters. done: 67 [Current cost: 0.5001]\n",
      "Iters. done: 68 [Current cost: 0.5]\n",
      "Iters. done: 69 [Current cost: 0.5001]\n",
      "Iters. done: 70 [Current cost: 0.5]\n",
      "Iters. done: 71 [Current cost: 0.5]\n",
      "Iters. done: 72 [Current cost: 0.5]\n",
      "Iters. done: 73 [Current cost: 0.5003]\n",
      "Iters. done: 74 [Current cost: 0.5]\n",
      "Iters. done: 75 [Current cost: 0.5]\n",
      "Iters. done: 76 [Current cost: 0.5002]\n",
      "Iters. done: 77 [Current cost: 0.5002]\n",
      "Iters. done: 78 [Current cost: 0.5001]\n",
      "Iters. done: 79 [Current cost: 0.5]\n",
      "Iters. done: 80 [Current cost: 0.5002]\n",
      "Iters. done: 81 [Current cost: 0.5]\n",
      "Iters. done: 82 [Current cost: 0.5]\n",
      "Iters. done: 83 [Current cost: 0.5001]\n",
      "Iters. done: 84 [Current cost: 0.5002]\n"
     ]
    }
   ],
   "source": [
    "with Session(backend=aer_sim) as session:\n",
    "    estimator = Estimator(mode=session)\n",
    "    estimator.options.default_shots = 10000\n",
    "\n",
    "    res = minimize(\n",
    "        cost_func,\n",
    "        x0,\n",
    "        args=(ansatz_isa, hamiltonian_isa, estimator),\n",
    "        method=\"cobyla\",\n",
    "    )"
   ]
  },
  {
   "cell_type": "code",
   "execution_count": 17,
   "metadata": {},
   "outputs": [
    {
     "data": {
      "text/plain": [
       " message: Optimization terminated successfully.\n",
       " success: True\n",
       "  status: 1\n",
       "     fun: 0.5002\n",
       "       x: [ 3.640e+00  4.418e+00  1.917e+00  2.312e+00  3.123e+00\n",
       "            1.839e+00  4.523e+00  7.539e-01]\n",
       "    nfev: 84\n",
       "   maxcv: 0.0"
      ]
     },
     "execution_count": 17,
     "metadata": {},
     "output_type": "execute_result"
    }
   ],
   "source": [
    "res"
   ]
  },
  {
   "cell_type": "code",
   "execution_count": 18,
   "metadata": {},
   "outputs": [
    {
     "data": {
      "text/plain": [
       "True"
      ]
     },
     "execution_count": 18,
     "metadata": {},
     "output_type": "execute_result"
    }
   ],
   "source": [
    "all(cost_history_dict[\"prev_vector\"] == res.x)"
   ]
  },
  {
   "cell_type": "code",
   "execution_count": 19,
   "metadata": {},
   "outputs": [
    {
     "data": {
      "text/plain": [
       "True"
      ]
     },
     "execution_count": 19,
     "metadata": {},
     "output_type": "execute_result"
    }
   ],
   "source": [
    "cost_history_dict[\"iters\"] == res.nfev"
   ]
  },
  {
   "cell_type": "code",
   "execution_count": 20,
   "metadata": {},
   "outputs": [
    {
     "data": {
      "image/png": "[encoded data removed]",
      "text/plain": [
       "<Figure size 640x480 with 1 Axes>"
      ]
     },
     "metadata": {},
     "output_type": "display_data"
    }
   ],
   "source": [
    "fig, ax = plt.subplots()\n",
    "ax.plot(range(cost_history_dict[\"iters\"]), cost_history_dict[\"cost_history\"])\n",
    "ax.set_xlabel(\"Iterations\")\n",
    "ax.set_ylabel(\"Cost\")\n",
    "plt.draw()"
   ]
  },
  {
   "cell_type": "code",
   "execution_count": null,
   "metadata": {},
   "outputs": [],
   "source": []
  }
 ],
 "metadata": {
  "kernelspec": {
   "display_name": ".venv",
   "language": "python",
   "name": "python3"
  },
  "language_info": {
   "codemirror_mode": {
    "name": "ipython",
    "version": 3
   },
   "file_extension": ".py",
   "mimetype": "text/x-python",
   "name": "python",
   "nbconvert_exporter": "python",
   "pygments_lexer": "ipython3",
   "version": "3.10.4"
  }
 },
 "nbformat": 4,
 "nbformat_minor": 2
}
