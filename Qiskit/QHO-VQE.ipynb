{
 "cells": [
  {
   "cell_type": "code",
   "execution_count": 1,
   "metadata": {},
   "outputs": [],
   "source": [
    "# General imports\n",
    "import numpy as np\n",
    "\n",
    "# Pre-defined ansatz circuit and operator class for Hamiltonian\n",
    "from qiskit.circuit.library import EfficientSU2\n",
    "from qiskit.quantum_info import SparsePauliOp\n",
    "\n",
    "# SciPy minimizer routine\n",
    "from scipy.optimize import minimize\n",
    "\n",
    "# Plotting functions\n",
    "import matplotlib.pyplot as plt"
   ]
  },
  {
   "cell_type": "code",
   "execution_count": 6,
   "metadata": {},
   "outputs": [],
   "source": [
    "# runtime imports\n",
    "from qiskit_ibm_runtime import QiskitRuntimeService, Session\n",
    "from qiskit_ibm_runtime import EstimatorV2 as Estimator\n",
    "from qiskit_ibm_runtime.fake_provider import FakeManilaV2\n",
    "from qiskit_aer import AerSimulator\n",
    "from qiskit.transpiler.preset_passmanagers import generate_preset_pass_manager\n",
    "\n",
    "# Run the sampler job locally using FakeManilaV2\n",
    "#fake_manila = FakeManilaV2()\n",
    "#pm = generate_preset_pass_manager(backend=fake_manila, optimization_level=1)\n",
    "\n",
    "aer_sim = AerSimulator()\n",
    "pm = generate_preset_pass_manager(backend=aer_sim, optimization_level=3)\n",
    "\n",
    "# To run on hardware, select the backend with the fewest number of jobs in the queue\n",
    "#service = QiskitRuntimeService(channel=\"ibm_quantum\")\n",
    "#backend = service.least_busy(operational=True, simulator=False)"
   ]
  },
  {
   "cell_type": "code",
   "execution_count": 28,
   "metadata": {},
   "outputs": [],
   "source": [
    "#hamiltonian = SparsePauliOp.from_list([(\"Z\", 1.0), (\"ZZ\", 0.5)])\n",
    "hamiltonian = SparsePauliOp.from_list([(\"I\", 1.0), (\"Z\", -1.0)])"
   ]
  },
  {
   "cell_type": "code",
   "execution_count": 29,
   "metadata": {},
   "outputs": [
    {
     "data": {
      "image/png": "[encoded data removed]",
      "text/plain": [
       "<Figure size 770.731x117.056 with 1 Axes>"
      ]
     },
     "execution_count": 29,
     "metadata": {},
     "output_type": "execute_result"
    }
   ],
   "source": [
    "ansatz = EfficientSU2(hamiltonian.num_qubits)\n",
    "ansatz.decompose().draw(\"mpl\", style=\"iqp\")"
   ]
  },
  {
   "cell_type": "code",
   "execution_count": 30,
   "metadata": {},
   "outputs": [
    {
     "data": {
      "text/plain": [
       "8"
      ]
     },
     "execution_count": 30,
     "metadata": {},
     "output_type": "execute_result"
    }
   ],
   "source": [
    "num_params = ansatz.num_parameters\n",
    "num_params"
   ]
  },
  {
   "cell_type": "code",
   "execution_count": 31,
   "metadata": {},
   "outputs": [
    {
     "data": {
      "image/png": "[encoded data removed]",
      "text/plain": [
       "<Figure size 770.731x117.056 with 1 Axes>"
      ]
     },
     "execution_count": 31,
     "metadata": {},
     "output_type": "execute_result"
    }
   ],
   "source": [
    "ansatz_isa = pm.run(ansatz)\n",
    "ansatz_isa.draw(output=\"mpl\", idle_wires=False, style=\"iqp\")"
   ]
  },
  {
   "cell_type": "code",
   "execution_count": 32,
   "metadata": {},
   "outputs": [],
   "source": [
    "hamiltonian_isa = hamiltonian.apply_layout(layout=ansatz_isa.layout)"
   ]
  },
  {
   "cell_type": "code",
   "execution_count": 33,
   "metadata": {},
   "outputs": [],
   "source": [
    "cost_history_dict = {\n",
    "    \"prev_vector\": None,\n",
    "    \"iters\": 0,\n",
    "    \"cost_history\": [],\n",
    "}\n",
    "\n",
    "def cost_func(params, ansatz, hamiltonian, estimator):\n",
    "    \"\"\"Return estimate of energy from estimator\n",
    "\n",
    "    Parameters:\n",
    "        params (ndarray): Array of ansatz parameters\n",
    "        ansatz (QuantumCircuit): Parameterized ansatz circuit\n",
    "        hamiltonian (SparsePauliOp): Operator representation of Hamiltonian\n",
    "        estimator (EstimatorV2): Estimator primitive instance\n",
    "        cost_history_dict: Dictionary for storing intermediate results\n",
    "\n",
    "    Returns:\n",
    "        float: Energy estimate\n",
    "    \"\"\"\n",
    "    pub = (ansatz, [hamiltonian], [params])\n",
    "    result = estimator.run(pubs=[pub]).result()\n",
    "    energy = result[0].data.evs[0]\n",
    "\n",
    "    cost_history_dict[\"iters\"] += 1\n",
    "    cost_history_dict[\"prev_vector\"] = params\n",
    "    cost_history_dict[\"cost_history\"].append(energy)\n",
    "    print(f\"Iters. done: {cost_history_dict['iters']} [Current cost: {energy}]\")\n",
    "\n",
    "    return energy"
   ]
  },
  {
   "cell_type": "code",
   "execution_count": 34,
   "metadata": {},
   "outputs": [],
   "source": [
    "x0 = 2 * np.pi * np.random.random(num_params)"
   ]
  },
  {
   "cell_type": "code",
   "execution_count": 35,
   "metadata": {},
   "outputs": [
    {
     "name": "stdout",
     "output_type": "stream",
     "text": [
      "Iters. done: 1 [Current cost: 1.752]\n",
      "Iters. done: 2 [Current cost: 1.3446]\n",
      "Iters. done: 3 [Current cost: 1.8342]\n",
      "Iters. done: 4 [Current cost: 1.5070000000000001]\n",
      "Iters. done: 5 [Current cost: 1.0646]\n",
      "Iters. done: 6 [Current cost: 0.9696]\n",
      "Iters. done: 7 [Current cost: 1.1044]\n",
      "Iters. done: 8 [Current cost: 0.20240000000000002]\n",
      "Iters. done: 9 [Current cost: 0.20599999999999996]\n",
      "Iters. done: 10 [Current cost: 0.5298]\n",
      "Iters. done: 11 [Current cost: 0.04420000000000002]\n",
      "Iters. done: 12 [Current cost: 0.011399999999999966]\n",
      "Iters. done: 13 [Current cost: 0.02980000000000005]\n",
      "Iters. done: 14 [Current cost: 0.04200000000000004]\n",
      "Iters. done: 15 [Current cost: 0.04039999999999999]\n",
      "Iters. done: 16 [Current cost: 0.027000000000000024]\n",
      "Iters. done: 17 [Current cost: 0.020199999999999996]\n",
      "Iters. done: 18 [Current cost: 0.008399999999999963]\n",
      "Iters. done: 19 [Current cost: 0.09799999999999998]\n",
      "Iters. done: 20 [Current cost: 0.06640000000000001]\n",
      "Iters. done: 21 [Current cost: 0.18520000000000003]\n",
      "Iters. done: 22 [Current cost: 0.08460000000000001]\n",
      "Iters. done: 23 [Current cost: 0.008000000000000007]\n",
      "Iters. done: 24 [Current cost: 0.047799999999999954]\n",
      "Iters. done: 25 [Current cost: 0.0050000000000000044]\n",
      "Iters. done: 26 [Current cost: 0.01980000000000004]\n",
      "Iters. done: 27 [Current cost: 0.0242]\n",
      "Iters. done: 28 [Current cost: 0.0046000000000000485]\n",
      "Iters. done: 29 [Current cost: 0.0006000000000000449]\n",
      "Iters. done: 30 [Current cost: 0.028200000000000003]\n",
      "Iters. done: 31 [Current cost: 0.0033999999999999586]\n",
      "Iters. done: 32 [Current cost: 0.0010000000000000009]\n",
      "Iters. done: 33 [Current cost: 0.0010000000000000009]\n",
      "Iters. done: 34 [Current cost: 0.0041999999999999815]\n",
      "Iters. done: 35 [Current cost: 0.0008000000000000229]\n",
      "Iters. done: 36 [Current cost: 0.0008000000000000229]\n",
      "Iters. done: 37 [Current cost: 0.020399999999999974]\n",
      "Iters. done: 38 [Current cost: 0.0008000000000000229]\n",
      "Iters. done: 39 [Current cost: 0.01419999999999999]\n",
      "Iters. done: 40 [Current cost: 0.006199999999999983]\n",
      "Iters. done: 41 [Current cost: 0.0]\n",
      "Iters. done: 42 [Current cost: 0.00019999999999997797]\n",
      "Iters. done: 43 [Current cost: 0.0011999999999999789]\n",
      "Iters. done: 44 [Current cost: 0.00019999999999997797]\n",
      "Iters. done: 45 [Current cost: 0.0]\n",
      "Iters. done: 46 [Current cost: 0.00019999999999997797]\n",
      "Iters. done: 47 [Current cost: 0.00039999999999995595]\n",
      "Iters. done: 48 [Current cost: 0.0006000000000000449]\n",
      "Iters. done: 49 [Current cost: 0.00019999999999997797]\n",
      "Iters. done: 50 [Current cost: 0.00019999999999997797]\n",
      "Iters. done: 51 [Current cost: 0.00019999999999997797]\n",
      "Iters. done: 52 [Current cost: 0.00019999999999997797]\n",
      "Iters. done: 53 [Current cost: 0.0010000000000000009]\n",
      "Iters. done: 54 [Current cost: 0.00019999999999997797]\n",
      "Iters. done: 55 [Current cost: 0.0]\n",
      "Iters. done: 56 [Current cost: 0.0]\n",
      "Iters. done: 57 [Current cost: 0.0]\n",
      "Iters. done: 58 [Current cost: 0.00019999999999997797]\n",
      "Iters. done: 59 [Current cost: 0.0]\n",
      "Iters. done: 60 [Current cost: 0.0]\n",
      "Iters. done: 61 [Current cost: 0.00019999999999997797]\n",
      "Iters. done: 62 [Current cost: 0.0]\n",
      "Iters. done: 63 [Current cost: 0.00019999999999997797]\n",
      "Iters. done: 64 [Current cost: 0.0]\n",
      "Iters. done: 65 [Current cost: 0.0]\n",
      "Iters. done: 66 [Current cost: 0.0]\n",
      "Iters. done: 67 [Current cost: 0.00019999999999997797]\n",
      "Iters. done: 68 [Current cost: 0.00019999999999997797]\n",
      "Iters. done: 69 [Current cost: 0.00019999999999997797]\n",
      "Iters. done: 70 [Current cost: 0.0]\n",
      "Iters. done: 71 [Current cost: 0.00019999999999997797]\n",
      "Iters. done: 72 [Current cost: 0.0]\n",
      "Iters. done: 73 [Current cost: 0.0]\n",
      "Iters. done: 74 [Current cost: 0.0]\n",
      "Iters. done: 75 [Current cost: 0.0]\n",
      "Iters. done: 76 [Current cost: 0.00019999999999997797]\n",
      "Iters. done: 77 [Current cost: 0.0]\n",
      "Iters. done: 78 [Current cost: 0.00019999999999997797]\n",
      "Iters. done: 79 [Current cost: 0.00019999999999997797]\n",
      "Iters. done: 80 [Current cost: 0.00039999999999995595]\n",
      "Iters. done: 81 [Current cost: 0.00019999999999997797]\n",
      "Iters. done: 82 [Current cost: 0.00019999999999997797]\n",
      "Iters. done: 83 [Current cost: 0.0]\n",
      "Iters. done: 84 [Current cost: 0.0]\n",
      "Iters. done: 85 [Current cost: 0.0]\n",
      "Iters. done: 86 [Current cost: 0.0]\n",
      "Iters. done: 87 [Current cost: 0.0]\n",
      "Iters. done: 88 [Current cost: 0.0]\n",
      "Iters. done: 89 [Current cost: 0.0]\n",
      "Iters. done: 90 [Current cost: 0.0]\n"
     ]
    }
   ],
   "source": [
    "with Session(backend=aer_sim) as session:\n",
    "    estimator = Estimator(mode=session)\n",
    "    estimator.options.default_shots = 10000\n",
    "\n",
    "    res = minimize(\n",
    "        cost_func,\n",
    "        x0,\n",
    "        args=(ansatz_isa, hamiltonian_isa, estimator),\n",
    "        method=\"cobyla\",\n",
    "    )"
   ]
  },
  {
   "cell_type": "code",
   "execution_count": 36,
   "metadata": {},
   "outputs": [
    {
     "data": {
      "text/plain": [
       " message: Optimization terminated successfully.\n",
       " success: True\n",
       "  status: 1\n",
       "     fun: 0.0\n",
       "       x: [ 6.693e-01  4.463e+00  5.145e+00  3.417e+00  6.966e+00\n",
       "            5.332e+00  4.478e+00 -4.627e-03]\n",
       "    nfev: 90\n",
       "   maxcv: 0.0"
      ]
     },
     "execution_count": 36,
     "metadata": {},
     "output_type": "execute_result"
    }
   ],
   "source": [
    "res"
   ]
  },
  {
   "cell_type": "code",
   "execution_count": 37,
   "metadata": {},
   "outputs": [
    {
     "data": {
      "text/plain": [
       "True"
      ]
     },
     "execution_count": 37,
     "metadata": {},
     "output_type": "execute_result"
    }
   ],
   "source": [
    "all(cost_history_dict[\"prev_vector\"] == res.x)"
   ]
  },
  {
   "cell_type": "code",
   "execution_count": 38,
   "metadata": {},
   "outputs": [
    {
     "data": {
      "text/plain": [
       "True"
      ]
     },
     "execution_count": 38,
     "metadata": {},
     "output_type": "execute_result"
    }
   ],
   "source": [
    "cost_history_dict[\"iters\"] == res.nfev"
   ]
  },
  {
   "cell_type": "code",
   "execution_count": 39,
   "metadata": {},
   "outputs": [
    {
     "data": {
      "image/png": "[encoded data removed]",
      "text/plain": [
       "<Figure size 640x480 with 1 Axes>"
      ]
     },
     "metadata": {},
     "output_type": "display_data"
    }
   ],
   "source": [
    "fig, ax = plt.subplots()\n",
    "ax.plot(range(cost_history_dict[\"iters\"]), cost_history_dict[\"cost_history\"])\n",
    "ax.set_xlabel(\"Iterations\")\n",
    "ax.set_ylabel(\"Cost\")\n",
    "plt.draw()"
   ]
  },
  {
   "cell_type": "code",
   "execution_count": null,
   "metadata": {},
   "outputs": [],
   "source": []
  }
 ],
 "metadata": {
  "kernelspec": {
   "display_name": ".venv",
   "language": "python",
   "name": "python3"
  },
  "language_info": {
   "codemirror_mode": {
    "name": "ipython",
    "version": 3
   },
   "file_extension": ".py",
   "mimetype": "text/x-python",
   "name": "python",
   "nbconvert_exporter": "python",
   "pygments_lexer": "ipython3",
   "version": "3.10.4"
  }
 },
 "nbformat": 4,
 "nbformat_minor": 2
}
